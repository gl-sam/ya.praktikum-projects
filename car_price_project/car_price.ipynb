{
 "cells": [
  {
   "cell_type": "markdown",
   "metadata": {},
   "source": [
    "#  Построение модели определения стоимости автомобиля"
   ]
  },
  {
   "cell_type": "markdown",
   "metadata": {},
   "source": [
    "Сервис по продаже автомобилей с пробегом «Не бит, не крашен» разрабатывает приложение, чтобы привлечь новых клиентов. В нём можно будет узнать рыночную стоимость своего автомобиля.\n",
    "Нужно построить модель, которая умеет её определять. В нашем распоряжении данные о технических характеристиках, комплектации и ценах других автомобилей.\n",
    "Критерии, которые важны заказчику:\n",
    "•\tкачество предсказания;\n",
    "•\tвремя обучения модели;\n",
    "•\tвремя предсказания модели.\n"
   ]
  },
  {
   "cell_type": "markdown",
   "metadata": {},
   "source": [
    "## Шаг 1. Общий обзор данных"
   ]
  },
  {
   "cell_type": "code",
   "execution_count": 1,
   "metadata": {
    "ExecuteTime": {
     "end_time": "2023-05-29T20:03:04.904666500Z",
     "start_time": "2023-05-29T20:03:02.673960700Z"
    }
   },
   "outputs": [],
   "source": [
    "import pandas as pd #подключаем необходимые библиотеки\n",
    "import seaborn as sns\n",
    "import numpy as np\n",
    "from matplotlib import pyplot as plt\n",
    "from sklearn.preprocessing import StandardScaler\n",
    "from sklearn.preprocessing import OneHotEncoder\n",
    "from sklearn.model_selection import train_test_split\n",
    "from sklearn.ensemble import RandomForestRegressor\n",
    "from sklearn.model_selection import RandomizedSearchCV\n",
    "from catboost import CatBoostRegressor\n",
    "from catboost import Pool\n",
    "from catboost import cv\n",
    "import lightgbm as lgb\n",
    "from sklearn.metrics import mean_squared_error\n",
    "from sklearn.model_selection import cross_val_score\n",
    "from sklearn.dummy import DummyRegressor"
   ]
  },
  {
   "cell_type": "code",
   "execution_count": 2,
   "metadata": {
    "ExecuteTime": {
     "end_time": "2023-05-29T20:03:04.904666500Z",
     "start_time": "2023-05-29T20:03:03.820139500Z"
    }
   },
   "outputs": [],
   "source": [
    "try:\n",
    "    df = pd.read_csv('D:\\datasets\\аutos.csv', sep = ',') #записываем данные из файла в переменную df\n",
    "except:\n",
    "    df = pd.read_csv('/datasets/autos.csv', sep = ',')"
   ]
  },
  {
   "cell_type": "code",
   "execution_count": 3,
   "metadata": {
    "ExecuteTime": {
     "end_time": "2023-05-29T20:03:05.013443Z",
     "start_time": "2023-05-29T20:03:04.625282900Z"
    }
   },
   "outputs": [
    {
     "name": "stdout",
     "output_type": "stream",
     "text": [
      "<class 'pandas.core.frame.DataFrame'>\n",
      "RangeIndex: 354369 entries, 0 to 354368\n",
      "Data columns (total 16 columns):\n",
      " #   Column             Non-Null Count   Dtype \n",
      "---  ------             --------------   ----- \n",
      " 0   DateCrawled        354369 non-null  object\n",
      " 1   Price              354369 non-null  int64 \n",
      " 2   VehicleType        316879 non-null  object\n",
      " 3   RegistrationYear   354369 non-null  int64 \n",
      " 4   Gearbox            334536 non-null  object\n",
      " 5   Power              354369 non-null  int64 \n",
      " 6   Model              334664 non-null  object\n",
      " 7   Kilometer          354369 non-null  int64 \n",
      " 8   RegistrationMonth  354369 non-null  int64 \n",
      " 9   FuelType           321474 non-null  object\n",
      " 10  Brand              354369 non-null  object\n",
      " 11  Repaired           283215 non-null  object\n",
      " 12  DateCreated        354369 non-null  object\n",
      " 13  NumberOfPictures   354369 non-null  int64 \n",
      " 14  PostalCode         354369 non-null  int64 \n",
      " 15  LastSeen           354369 non-null  object\n",
      "dtypes: int64(7), object(9)\n",
      "memory usage: 43.3+ MB\n"
     ]
    }
   ],
   "source": [
    "df.info()"
   ]
  },
  {
   "cell_type": "markdown",
   "metadata": {},
   "source": [
    "В таблице 16 столбцов, целевой признак - Price(цена), пропуски в данных присутствуют"
   ]
  },
  {
   "cell_type": "code",
   "execution_count": 4,
   "metadata": {
    "ExecuteTime": {
     "end_time": "2023-05-29T20:03:05.030399600Z",
     "start_time": "2023-05-29T20:03:05.003813600Z"
    }
   },
   "outputs": [
    {
     "data": {
      "text/html": [
       "<div>\n",
       "<style scoped>\n",
       "    .dataframe tbody tr th:only-of-type {\n",
       "        vertical-align: middle;\n",
       "    }\n",
       "\n",
       "    .dataframe tbody tr th {\n",
       "        vertical-align: top;\n",
       "    }\n",
       "\n",
       "    .dataframe thead th {\n",
       "        text-align: right;\n",
       "    }\n",
       "</style>\n",
       "<table border=\"1\" class=\"dataframe\">\n",
       "  <thead>\n",
       "    <tr style=\"text-align: right;\">\n",
       "      <th></th>\n",
       "      <th>DateCrawled</th>\n",
       "      <th>Price</th>\n",
       "      <th>VehicleType</th>\n",
       "      <th>RegistrationYear</th>\n",
       "      <th>Gearbox</th>\n",
       "      <th>Power</th>\n",
       "      <th>Model</th>\n",
       "      <th>Kilometer</th>\n",
       "      <th>RegistrationMonth</th>\n",
       "      <th>FuelType</th>\n",
       "      <th>Brand</th>\n",
       "      <th>Repaired</th>\n",
       "      <th>DateCreated</th>\n",
       "      <th>NumberOfPictures</th>\n",
       "      <th>PostalCode</th>\n",
       "      <th>LastSeen</th>\n",
       "    </tr>\n",
       "  </thead>\n",
       "  <tbody>\n",
       "    <tr>\n",
       "      <th>0</th>\n",
       "      <td>2016-03-24 11:52:17</td>\n",
       "      <td>480</td>\n",
       "      <td>NaN</td>\n",
       "      <td>1993</td>\n",
       "      <td>manual</td>\n",
       "      <td>0</td>\n",
       "      <td>golf</td>\n",
       "      <td>150000</td>\n",
       "      <td>0</td>\n",
       "      <td>petrol</td>\n",
       "      <td>volkswagen</td>\n",
       "      <td>NaN</td>\n",
       "      <td>2016-03-24 00:00:00</td>\n",
       "      <td>0</td>\n",
       "      <td>70435</td>\n",
       "      <td>2016-04-07 03:16:57</td>\n",
       "    </tr>\n",
       "    <tr>\n",
       "      <th>1</th>\n",
       "      <td>2016-03-24 10:58:45</td>\n",
       "      <td>18300</td>\n",
       "      <td>coupe</td>\n",
       "      <td>2011</td>\n",
       "      <td>manual</td>\n",
       "      <td>190</td>\n",
       "      <td>NaN</td>\n",
       "      <td>125000</td>\n",
       "      <td>5</td>\n",
       "      <td>gasoline</td>\n",
       "      <td>audi</td>\n",
       "      <td>yes</td>\n",
       "      <td>2016-03-24 00:00:00</td>\n",
       "      <td>0</td>\n",
       "      <td>66954</td>\n",
       "      <td>2016-04-07 01:46:50</td>\n",
       "    </tr>\n",
       "    <tr>\n",
       "      <th>2</th>\n",
       "      <td>2016-03-14 12:52:21</td>\n",
       "      <td>9800</td>\n",
       "      <td>suv</td>\n",
       "      <td>2004</td>\n",
       "      <td>auto</td>\n",
       "      <td>163</td>\n",
       "      <td>grand</td>\n",
       "      <td>125000</td>\n",
       "      <td>8</td>\n",
       "      <td>gasoline</td>\n",
       "      <td>jeep</td>\n",
       "      <td>NaN</td>\n",
       "      <td>2016-03-14 00:00:00</td>\n",
       "      <td>0</td>\n",
       "      <td>90480</td>\n",
       "      <td>2016-04-05 12:47:46</td>\n",
       "    </tr>\n",
       "    <tr>\n",
       "      <th>3</th>\n",
       "      <td>2016-03-17 16:54:04</td>\n",
       "      <td>1500</td>\n",
       "      <td>small</td>\n",
       "      <td>2001</td>\n",
       "      <td>manual</td>\n",
       "      <td>75</td>\n",
       "      <td>golf</td>\n",
       "      <td>150000</td>\n",
       "      <td>6</td>\n",
       "      <td>petrol</td>\n",
       "      <td>volkswagen</td>\n",
       "      <td>no</td>\n",
       "      <td>2016-03-17 00:00:00</td>\n",
       "      <td>0</td>\n",
       "      <td>91074</td>\n",
       "      <td>2016-03-17 17:40:17</td>\n",
       "    </tr>\n",
       "    <tr>\n",
       "      <th>4</th>\n",
       "      <td>2016-03-31 17:25:20</td>\n",
       "      <td>3600</td>\n",
       "      <td>small</td>\n",
       "      <td>2008</td>\n",
       "      <td>manual</td>\n",
       "      <td>69</td>\n",
       "      <td>fabia</td>\n",
       "      <td>90000</td>\n",
       "      <td>7</td>\n",
       "      <td>gasoline</td>\n",
       "      <td>skoda</td>\n",
       "      <td>no</td>\n",
       "      <td>2016-03-31 00:00:00</td>\n",
       "      <td>0</td>\n",
       "      <td>60437</td>\n",
       "      <td>2016-04-06 10:17:21</td>\n",
       "    </tr>\n",
       "  </tbody>\n",
       "</table>\n",
       "</div>"
      ],
      "text/plain": [
       "           DateCrawled  Price VehicleType  RegistrationYear Gearbox  Power  \\\n",
       "0  2016-03-24 11:52:17    480         NaN              1993  manual      0   \n",
       "1  2016-03-24 10:58:45  18300       coupe              2011  manual    190   \n",
       "2  2016-03-14 12:52:21   9800         suv              2004    auto    163   \n",
       "3  2016-03-17 16:54:04   1500       small              2001  manual     75   \n",
       "4  2016-03-31 17:25:20   3600       small              2008  manual     69   \n",
       "\n",
       "   Model  Kilometer  RegistrationMonth  FuelType       Brand Repaired  \\\n",
       "0   golf     150000                  0    petrol  volkswagen      NaN   \n",
       "1    NaN     125000                  5  gasoline        audi      yes   \n",
       "2  grand     125000                  8  gasoline        jeep      NaN   \n",
       "3   golf     150000                  6    petrol  volkswagen       no   \n",
       "4  fabia      90000                  7  gasoline       skoda       no   \n",
       "\n",
       "           DateCreated  NumberOfPictures  PostalCode             LastSeen  \n",
       "0  2016-03-24 00:00:00                 0       70435  2016-04-07 03:16:57  \n",
       "1  2016-03-24 00:00:00                 0       66954  2016-04-07 01:46:50  \n",
       "2  2016-03-14 00:00:00                 0       90480  2016-04-05 12:47:46  \n",
       "3  2016-03-17 00:00:00                 0       91074  2016-03-17 17:40:17  \n",
       "4  2016-03-31 00:00:00                 0       60437  2016-04-06 10:17:21  "
      ]
     },
     "execution_count": 4,
     "metadata": {},
     "output_type": "execute_result"
    }
   ],
   "source": [
    "df.head()"
   ]
  },
  {
   "cell_type": "code",
   "execution_count": 5,
   "metadata": {
    "ExecuteTime": {
     "end_time": "2023-05-29T20:03:05.217955600Z",
     "start_time": "2023-05-29T20:03:05.030399600Z"
    }
   },
   "outputs": [
    {
     "data": {
      "text/html": [
       "<div>\n",
       "<style scoped>\n",
       "    .dataframe tbody tr th:only-of-type {\n",
       "        vertical-align: middle;\n",
       "    }\n",
       "\n",
       "    .dataframe tbody tr th {\n",
       "        vertical-align: top;\n",
       "    }\n",
       "\n",
       "    .dataframe thead th {\n",
       "        text-align: right;\n",
       "    }\n",
       "</style>\n",
       "<table border=\"1\" class=\"dataframe\">\n",
       "  <thead>\n",
       "    <tr style=\"text-align: right;\">\n",
       "      <th></th>\n",
       "      <th>Price</th>\n",
       "      <th>RegistrationYear</th>\n",
       "      <th>Power</th>\n",
       "      <th>Kilometer</th>\n",
       "      <th>RegistrationMonth</th>\n",
       "      <th>NumberOfPictures</th>\n",
       "      <th>PostalCode</th>\n",
       "    </tr>\n",
       "  </thead>\n",
       "  <tbody>\n",
       "    <tr>\n",
       "      <th>count</th>\n",
       "      <td>354369.000000</td>\n",
       "      <td>354369.000000</td>\n",
       "      <td>354369.000000</td>\n",
       "      <td>354369.000000</td>\n",
       "      <td>354369.000000</td>\n",
       "      <td>354369.0</td>\n",
       "      <td>354369.000000</td>\n",
       "    </tr>\n",
       "    <tr>\n",
       "      <th>mean</th>\n",
       "      <td>4416.656776</td>\n",
       "      <td>2004.234448</td>\n",
       "      <td>110.094337</td>\n",
       "      <td>128211.172535</td>\n",
       "      <td>5.714645</td>\n",
       "      <td>0.0</td>\n",
       "      <td>50508.689087</td>\n",
       "    </tr>\n",
       "    <tr>\n",
       "      <th>std</th>\n",
       "      <td>4514.158514</td>\n",
       "      <td>90.227958</td>\n",
       "      <td>189.850405</td>\n",
       "      <td>37905.341530</td>\n",
       "      <td>3.726421</td>\n",
       "      <td>0.0</td>\n",
       "      <td>25783.096248</td>\n",
       "    </tr>\n",
       "    <tr>\n",
       "      <th>min</th>\n",
       "      <td>0.000000</td>\n",
       "      <td>1000.000000</td>\n",
       "      <td>0.000000</td>\n",
       "      <td>5000.000000</td>\n",
       "      <td>0.000000</td>\n",
       "      <td>0.0</td>\n",
       "      <td>1067.000000</td>\n",
       "    </tr>\n",
       "    <tr>\n",
       "      <th>25%</th>\n",
       "      <td>1050.000000</td>\n",
       "      <td>1999.000000</td>\n",
       "      <td>69.000000</td>\n",
       "      <td>125000.000000</td>\n",
       "      <td>3.000000</td>\n",
       "      <td>0.0</td>\n",
       "      <td>30165.000000</td>\n",
       "    </tr>\n",
       "    <tr>\n",
       "      <th>50%</th>\n",
       "      <td>2700.000000</td>\n",
       "      <td>2003.000000</td>\n",
       "      <td>105.000000</td>\n",
       "      <td>150000.000000</td>\n",
       "      <td>6.000000</td>\n",
       "      <td>0.0</td>\n",
       "      <td>49413.000000</td>\n",
       "    </tr>\n",
       "    <tr>\n",
       "      <th>75%</th>\n",
       "      <td>6400.000000</td>\n",
       "      <td>2008.000000</td>\n",
       "      <td>143.000000</td>\n",
       "      <td>150000.000000</td>\n",
       "      <td>9.000000</td>\n",
       "      <td>0.0</td>\n",
       "      <td>71083.000000</td>\n",
       "    </tr>\n",
       "    <tr>\n",
       "      <th>max</th>\n",
       "      <td>20000.000000</td>\n",
       "      <td>9999.000000</td>\n",
       "      <td>20000.000000</td>\n",
       "      <td>150000.000000</td>\n",
       "      <td>12.000000</td>\n",
       "      <td>0.0</td>\n",
       "      <td>99998.000000</td>\n",
       "    </tr>\n",
       "  </tbody>\n",
       "</table>\n",
       "</div>"
      ],
      "text/plain": [
       "               Price  RegistrationYear          Power      Kilometer  \\\n",
       "count  354369.000000     354369.000000  354369.000000  354369.000000   \n",
       "mean     4416.656776       2004.234448     110.094337  128211.172535   \n",
       "std      4514.158514         90.227958     189.850405   37905.341530   \n",
       "min         0.000000       1000.000000       0.000000    5000.000000   \n",
       "25%      1050.000000       1999.000000      69.000000  125000.000000   \n",
       "50%      2700.000000       2003.000000     105.000000  150000.000000   \n",
       "75%      6400.000000       2008.000000     143.000000  150000.000000   \n",
       "max     20000.000000       9999.000000   20000.000000  150000.000000   \n",
       "\n",
       "       RegistrationMonth  NumberOfPictures     PostalCode  \n",
       "count      354369.000000          354369.0  354369.000000  \n",
       "mean            5.714645               0.0   50508.689087  \n",
       "std             3.726421               0.0   25783.096248  \n",
       "min             0.000000               0.0    1067.000000  \n",
       "25%             3.000000               0.0   30165.000000  \n",
       "50%             6.000000               0.0   49413.000000  \n",
       "75%             9.000000               0.0   71083.000000  \n",
       "max            12.000000               0.0   99998.000000  "
      ]
     },
     "execution_count": 5,
     "metadata": {},
     "output_type": "execute_result"
    }
   ],
   "source": [
    "df.describe()"
   ]
  },
  {
   "cell_type": "markdown",
   "metadata": {},
   "source": [
    "В столбце с ценой есть нули - такие объявления можно считать вбросами и не учитывать при обучении, также стоит обратить внимание на слишком дешевые машины.<br> В столбце с датой регистрации есть очевидные вбросы(9999 и 1000 год)<br>В столбце с мощностью автомобилей также нужно будет удалить аномальные значения<br>Столбцы с месяцем регистрации, количеством фото и почтовым индексом мы использовать не будем."
   ]
  },
  {
   "cell_type": "code",
   "execution_count": 6,
   "metadata": {
    "ExecuteTime": {
     "end_time": "2023-05-29T20:03:05.724149700Z",
     "start_time": "2023-05-29T20:03:05.111090Z"
    }
   },
   "outputs": [
    {
     "data": {
      "image/png": "[encoded data removed]",
      "text/plain": [
       "<Figure size 1000x500 with 1 Axes>"
      ]
     },
     "metadata": {},
     "output_type": "display_data"
    }
   ],
   "source": [
    "df.Price.hist(bins=150, figsize=(10,5));# распределение цен на автомобили"
   ]
  },
  {
   "cell_type": "code",
   "execution_count": 7,
   "metadata": {
    "ExecuteTime": {
     "end_time": "2023-05-29T20:03:15.038721100Z",
     "start_time": "2023-05-29T20:03:05.708528Z"
    }
   },
   "outputs": [
    {
     "data": {
      "image/png": "[encoded data removed]",
      "text/plain": [
       "<Figure size 640x480 with 1 Axes>"
      ]
     },
     "metadata": {},
     "output_type": "display_data"
    }
   ],
   "source": [
    "x = df.RegistrationYear# гистограмма с распределением по годам регистрации\n",
    "plt.hist(x, 7000, histtype ='bar')\n",
    "plt.xlim(1950, 2023)\n",
    "plt.show()"
   ]
  },
  {
   "cell_type": "markdown",
   "metadata": {},
   "source": [
    "Больше всего автомобилей были зарегистрированы около 2000 года, также присутствуют очень старые автомобили(старше 1980 года)"
   ]
  },
  {
   "cell_type": "code",
   "execution_count": 8,
   "metadata": {
    "ExecuteTime": {
     "end_time": "2023-05-29T20:03:17.611842100Z",
     "start_time": "2023-05-29T20:03:15.041712100Z"
    }
   },
   "outputs": [
    {
     "data": {
      "image/png": "[encoded data removed]",
      "text/plain": [
       "<Figure size 640x480 with 1 Axes>"
      ]
     },
     "metadata": {},
     "output_type": "display_data"
    }
   ],
   "source": [
    "x = df.Power# распределение по мощности автомобилей\n",
    "plt.hist(x, 2000, histtype ='bar')\n",
    "plt.xlim(0, 400)\n",
    "plt.show()"
   ]
  },
  {
   "cell_type": "markdown",
   "metadata": {},
   "source": [
    "Очень большое количество значений около нуля"
   ]
  },
  {
   "cell_type": "code",
   "execution_count": 9,
   "metadata": {
    "ExecuteTime": {
     "end_time": "2023-05-29T20:03:17.627799400Z",
     "start_time": "2023-05-29T20:03:17.617826100Z"
    }
   },
   "outputs": [
    {
     "data": {
      "text/plain": [
       "150000    238209\n",
       "125000     36454\n",
       "100000     14882\n",
       "90000      11567\n",
       "80000      10047\n",
       "70000       8593\n",
       "60000       7444\n",
       "5000        6397\n",
       "50000       6232\n",
       "40000       4911\n",
       "30000       4436\n",
       "20000       3975\n",
       "10000       1222\n",
       "Name: Kilometer, dtype: int64"
      ]
     },
     "execution_count": 9,
     "metadata": {},
     "output_type": "execute_result"
    }
   ],
   "source": [
    "df.Kilometer.value_counts()# значения пробега в данных"
   ]
  },
  {
   "cell_type": "markdown",
   "metadata": {},
   "source": [
    "Похоже на то, что пробег в анкете округляется, очевидных вбросов в данных нет"
   ]
  },
  {
   "cell_type": "markdown",
   "metadata": {},
   "source": [
    "Удалим ненужные признаки из данных и проверим корреляции между признаками"
   ]
  },
  {
   "cell_type": "code",
   "execution_count": 10,
   "metadata": {
    "ExecuteTime": {
     "end_time": "2023-05-29T20:03:18.102890400Z",
     "start_time": "2023-05-29T20:03:17.628797600Z"
    }
   },
   "outputs": [],
   "source": [
    "df = df.drop_duplicates()# удалим полные дубликаты до создания датафрейма с нужными признаками"
   ]
  },
  {
   "cell_type": "code",
   "execution_count": 11,
   "metadata": {
    "ExecuteTime": {
     "end_time": "2023-05-29T20:03:18.169279300Z",
     "start_time": "2023-05-29T20:03:18.104886Z"
    }
   },
   "outputs": [],
   "source": [
    "df_updated = df[['Price', 'VehicleType', 'RegistrationYear', 'Gearbox',\n",
    "                      'Power', 'Model', 'Kilometer', 'FuelType', 'Brand',\n",
    "                      'Repaired']]# оставляем только нужные признаки"
   ]
  },
  {
   "cell_type": "markdown",
   "metadata": {},
   "source": [
    "Мы удалили столбцы, связанные с действиями с объявлением и данными пользователя, они никак не влияют на цену - 'NumberOfPictures', 'PostalCode', 'LastSeen', 'DateCreated', 'DateCrawled'<br>Также были удалены данные о месяце регистрации авто, года будет достаточно."
   ]
  },
  {
   "cell_type": "code",
   "execution_count": 12,
   "metadata": {
    "ExecuteTime": {
     "end_time": "2023-05-29T20:03:18.169279300Z",
     "start_time": "2023-05-29T20:03:18.136369300Z"
    }
   },
   "outputs": [
    {
     "data": {
      "text/html": [
       "<div>\n",
       "<style scoped>\n",
       "    .dataframe tbody tr th:only-of-type {\n",
       "        vertical-align: middle;\n",
       "    }\n",
       "\n",
       "    .dataframe tbody tr th {\n",
       "        vertical-align: top;\n",
       "    }\n",
       "\n",
       "    .dataframe thead th {\n",
       "        text-align: right;\n",
       "    }\n",
       "</style>\n",
       "<table border=\"1\" class=\"dataframe\">\n",
       "  <thead>\n",
       "    <tr style=\"text-align: right;\">\n",
       "      <th></th>\n",
       "      <th>Price</th>\n",
       "      <th>VehicleType</th>\n",
       "      <th>RegistrationYear</th>\n",
       "      <th>Gearbox</th>\n",
       "      <th>Power</th>\n",
       "      <th>Model</th>\n",
       "      <th>Kilometer</th>\n",
       "      <th>FuelType</th>\n",
       "      <th>Brand</th>\n",
       "      <th>Repaired</th>\n",
       "    </tr>\n",
       "  </thead>\n",
       "  <tbody>\n",
       "    <tr>\n",
       "      <th>0</th>\n",
       "      <td>480</td>\n",
       "      <td>NaN</td>\n",
       "      <td>1993</td>\n",
       "      <td>manual</td>\n",
       "      <td>0</td>\n",
       "      <td>golf</td>\n",
       "      <td>150000</td>\n",
       "      <td>petrol</td>\n",
       "      <td>volkswagen</td>\n",
       "      <td>NaN</td>\n",
       "    </tr>\n",
       "    <tr>\n",
       "      <th>1</th>\n",
       "      <td>18300</td>\n",
       "      <td>coupe</td>\n",
       "      <td>2011</td>\n",
       "      <td>manual</td>\n",
       "      <td>190</td>\n",
       "      <td>NaN</td>\n",
       "      <td>125000</td>\n",
       "      <td>gasoline</td>\n",
       "      <td>audi</td>\n",
       "      <td>yes</td>\n",
       "    </tr>\n",
       "    <tr>\n",
       "      <th>2</th>\n",
       "      <td>9800</td>\n",
       "      <td>suv</td>\n",
       "      <td>2004</td>\n",
       "      <td>auto</td>\n",
       "      <td>163</td>\n",
       "      <td>grand</td>\n",
       "      <td>125000</td>\n",
       "      <td>gasoline</td>\n",
       "      <td>jeep</td>\n",
       "      <td>NaN</td>\n",
       "    </tr>\n",
       "    <tr>\n",
       "      <th>3</th>\n",
       "      <td>1500</td>\n",
       "      <td>small</td>\n",
       "      <td>2001</td>\n",
       "      <td>manual</td>\n",
       "      <td>75</td>\n",
       "      <td>golf</td>\n",
       "      <td>150000</td>\n",
       "      <td>petrol</td>\n",
       "      <td>volkswagen</td>\n",
       "      <td>no</td>\n",
       "    </tr>\n",
       "    <tr>\n",
       "      <th>4</th>\n",
       "      <td>3600</td>\n",
       "      <td>small</td>\n",
       "      <td>2008</td>\n",
       "      <td>manual</td>\n",
       "      <td>69</td>\n",
       "      <td>fabia</td>\n",
       "      <td>90000</td>\n",
       "      <td>gasoline</td>\n",
       "      <td>skoda</td>\n",
       "      <td>no</td>\n",
       "    </tr>\n",
       "  </tbody>\n",
       "</table>\n",
       "</div>"
      ],
      "text/plain": [
       "   Price VehicleType  RegistrationYear Gearbox  Power  Model  Kilometer  \\\n",
       "0    480         NaN              1993  manual      0   golf     150000   \n",
       "1  18300       coupe              2011  manual    190    NaN     125000   \n",
       "2   9800         suv              2004    auto    163  grand     125000   \n",
       "3   1500       small              2001  manual     75   golf     150000   \n",
       "4   3600       small              2008  manual     69  fabia      90000   \n",
       "\n",
       "   FuelType       Brand Repaired  \n",
       "0    petrol  volkswagen      NaN  \n",
       "1  gasoline        audi      yes  \n",
       "2  gasoline        jeep      NaN  \n",
       "3    petrol  volkswagen       no  \n",
       "4  gasoline       skoda       no  "
      ]
     },
     "execution_count": 12,
     "metadata": {},
     "output_type": "execute_result"
    }
   ],
   "source": [
    "df_updated.head()"
   ]
  },
  {
   "cell_type": "code",
   "execution_count": 13,
   "metadata": {
    "ExecuteTime": {
     "end_time": "2023-05-29T20:03:18.418261100Z",
     "start_time": "2023-05-29T20:03:18.152326400Z"
    }
   },
   "outputs": [
    {
     "data": {
      "image/png": "[encoded data removed]",
      "text/plain": [
       "<Figure size 1600x600 with 2 Axes>"
      ]
     },
     "metadata": {},
     "output_type": "display_data"
    }
   ],
   "source": [
    "plt.figure(figsize=(16, 6))# тепловая карта корреляций\n",
    "heatmap = sns.heatmap(df_updated.corr(), vmin=-1, vmax=1, annot=True, cmap='BrBG')\n",
    "heatmap.set_title('Корреляционный хитмэп', fontdict={'fontsize':12}, pad=12);"
   ]
  },
  {
   "cell_type": "markdown",
   "metadata": {},
   "source": [
    "Мультиколлинеарности между численными признаками не обнаружено"
   ]
  },
  {
   "cell_type": "markdown",
   "metadata": {},
   "source": [
    "## Шаг 2. Подготовка данных"
   ]
  },
  {
   "cell_type": "markdown",
   "metadata": {},
   "source": [
    "### Удаление дубликатов"
   ]
  },
  {
   "cell_type": "markdown",
   "metadata": {},
   "source": [
    "Проверим неочевидные дубликаты в категориальных признаках"
   ]
  },
  {
   "cell_type": "code",
   "execution_count": 14,
   "metadata": {
    "ExecuteTime": {
     "end_time": "2023-05-29T20:03:18.570874100Z",
     "start_time": "2023-05-29T20:03:18.420256100Z"
    }
   },
   "outputs": [
    {
     "data": {
      "text/plain": [
       "sedan          91457\n",
       "small          79830\n",
       "wagon          65165\n",
       "bus            28775\n",
       "convertible    20203\n",
       "coupe          16161\n",
       "suv            11996\n",
       "other           3288\n",
       "Name: VehicleType, dtype: int64"
      ]
     },
     "execution_count": 14,
     "metadata": {},
     "output_type": "execute_result"
    }
   ],
   "source": [
    "df_updated.VehicleType.value_counts()"
   ]
  },
  {
   "cell_type": "code",
   "execution_count": 15,
   "metadata": {
    "ExecuteTime": {
     "end_time": "2023-05-29T20:03:18.602789600Z",
     "start_time": "2023-05-29T20:03:18.450176300Z"
    }
   },
   "outputs": [
    {
     "data": {
      "text/plain": [
       "manual    268249\n",
       "auto       66283\n",
       "Name: Gearbox, dtype: int64"
      ]
     },
     "execution_count": 15,
     "metadata": {},
     "output_type": "execute_result"
    }
   ],
   "source": [
    "df_updated.Gearbox.value_counts()"
   ]
  },
  {
   "cell_type": "code",
   "execution_count": 16,
   "metadata": {
    "ExecuteTime": {
     "end_time": "2023-05-29T20:03:18.607755Z",
     "start_time": "2023-05-29T20:03:18.482091200Z"
    }
   },
   "outputs": [
    {
     "data": {
      "text/plain": [
       "golf                  29232\n",
       "other                 24420\n",
       "3er                   19761\n",
       "polo                  13066\n",
       "corsa                 12570\n",
       "                      ...  \n",
       "i3                        8\n",
       "serie_3                   4\n",
       "rangerover                4\n",
       "range_rover_evoque        2\n",
       "serie_1                   2\n",
       "Name: Model, Length: 250, dtype: int64"
      ]
     },
     "execution_count": 16,
     "metadata": {},
     "output_type": "execute_result"
    }
   ],
   "source": [
    "df_updated.Model.value_counts()"
   ]
  },
  {
   "cell_type": "code",
   "execution_count": 17,
   "metadata": {
    "ExecuteTime": {
     "end_time": "2023-05-29T20:03:18.608753200Z",
     "start_time": "2023-05-29T20:03:18.514005700Z"
    }
   },
   "outputs": [
    {
     "data": {
      "text/plain": [
       "petrol      216349\n",
       "gasoline     98719\n",
       "lpg           5310\n",
       "cng            565\n",
       "hybrid         233\n",
       "other          204\n",
       "electric        90\n",
       "Name: FuelType, dtype: int64"
      ]
     },
     "execution_count": 17,
     "metadata": {},
     "output_type": "execute_result"
    }
   ],
   "source": [
    "df_updated.FuelType.value_counts()"
   ]
  },
  {
   "cell_type": "code",
   "execution_count": 18,
   "metadata": {
    "ExecuteTime": {
     "end_time": "2023-05-29T20:03:18.608753200Z",
     "start_time": "2023-05-29T20:03:18.559882500Z"
    }
   },
   "outputs": [
    {
     "data": {
      "text/plain": [
       "volkswagen        77012\n",
       "opel              39931\n",
       "bmw               36914\n",
       "mercedes_benz     32044\n",
       "audi              29456\n",
       "ford              25179\n",
       "renault           17927\n",
       "peugeot           10998\n",
       "fiat               9643\n",
       "seat               6907\n",
       "mazda              5615\n",
       "skoda              5500\n",
       "smart              5246\n",
       "citroen            5148\n",
       "nissan             4941\n",
       "toyota             4606\n",
       "hyundai            3587\n",
       "sonstige_autos     3374\n",
       "volvo              3210\n",
       "mini               3202\n",
       "mitsubishi         3022\n",
       "honda              2817\n",
       "kia                2465\n",
       "suzuki             2322\n",
       "alfa_romeo         2314\n",
       "chevrolet          1754\n",
       "chrysler           1439\n",
       "dacia               900\n",
       "daihatsu            806\n",
       "subaru              762\n",
       "porsche             758\n",
       "jeep                677\n",
       "trabant             589\n",
       "land_rover          545\n",
       "daewoo              542\n",
       "saab                526\n",
       "jaguar              505\n",
       "rover               486\n",
       "lancia              471\n",
       "lada                225\n",
       "Name: Brand, dtype: int64"
      ]
     },
     "execution_count": 18,
     "metadata": {},
     "output_type": "execute_result"
    }
   ],
   "source": [
    "df_updated.Brand.value_counts()"
   ]
  },
  {
   "cell_type": "markdown",
   "metadata": {},
   "source": [
    "Неочевидных дубликатов нет"
   ]
  },
  {
   "cell_type": "markdown",
   "metadata": {},
   "source": [
    "### Преобразование типов даных"
   ]
  },
  {
   "cell_type": "markdown",
   "metadata": {},
   "source": [
    "Преобразуем тип в колонке repaired с текста на 1 и 0"
   ]
  },
  {
   "cell_type": "code",
   "execution_count": 19,
   "metadata": {
    "ExecuteTime": {
     "end_time": "2023-05-29T20:03:18.681557800Z",
     "start_time": "2023-05-29T20:03:18.591799800Z"
    }
   },
   "outputs": [
    {
     "data": {
      "text/plain": [
       "no     247158\n",
       "yes     36053\n",
       "Name: Repaired, dtype: int64"
      ]
     },
     "execution_count": 19,
     "metadata": {},
     "output_type": "execute_result"
    }
   ],
   "source": [
    "df_updated.Repaired.value_counts()"
   ]
  },
  {
   "cell_type": "code",
   "execution_count": 20,
   "metadata": {
    "ExecuteTime": {
     "end_time": "2023-05-29T20:03:19.135344300Z",
     "start_time": "2023-05-29T20:03:18.624710500Z"
    },
    "scrolled": true
   },
   "outputs": [],
   "source": [
    "df_updated = df_updated.replace({'yes': 1, 'no': 0})"
   ]
  },
  {
   "cell_type": "markdown",
   "metadata": {},
   "source": [
    "### Обработка пропусков"
   ]
  },
  {
   "cell_type": "code",
   "execution_count": 21,
   "metadata": {
    "ExecuteTime": {
     "end_time": "2023-05-29T20:03:19.316868600Z",
     "start_time": "2023-05-29T20:03:19.135344300Z"
    }
   },
   "outputs": [
    {
     "data": {
      "text/plain": [
       "Price                   0\n",
       "VehicleType         37490\n",
       "RegistrationYear        0\n",
       "Gearbox             19833\n",
       "Power                   0\n",
       "Model               19705\n",
       "Kilometer               0\n",
       "FuelType            32895\n",
       "Brand                   0\n",
       "Repaired            71154\n",
       "dtype: int64"
      ]
     },
     "execution_count": 21,
     "metadata": {},
     "output_type": "execute_result"
    }
   ],
   "source": [
    "df_updated.isna().sum()"
   ]
  },
  {
   "cell_type": "markdown",
   "metadata": {},
   "source": [
    "Удалить пропуски не получится, так как таких значений слишком много и потеряем значительную часть данных.<br> Категориальные данные можно заменить на данные из похожих строк, например:<br>-у одинаковых моделей автомобилей можно подставить такой же тип кузова в пропущенное значение<br>-у типов коробки передач можно подставить самое частое значение у таких же моделей<br>-пропуски в моделях можно восстановить по другим строкам с большим количеством совпадений категориальных признаков<br>-вид топлива подставить по самому частому значению у модели<br>-с ремонтом сложнее, так как этот признак не зависит от других в столбце, можно проверить по медианной цене внутри модели"
   ]
  },
  {
   "cell_type": "markdown",
   "metadata": {},
   "source": [
    "Модель"
   ]
  },
  {
   "cell_type": "code",
   "execution_count": 22,
   "metadata": {
    "ExecuteTime": {
     "end_time": "2023-05-29T20:03:21.142987900Z",
     "start_time": "2023-05-29T20:03:19.327838600Z"
    }
   },
   "outputs": [],
   "source": [
    "# заменяем пропущенные значения в модели на самую частую комбинацию бренда и мощности двигателя из других столбцов \n",
    "df_updated.loc[:, 'Model'] = df_updated.groupby(['Brand', 'Power'])['Model']\\\n",
    "    .transform(lambda x: x.mode().values[0] if not x.isnull().all() else np.nan)"
   ]
  },
  {
   "cell_type": "code",
   "execution_count": 23,
   "metadata": {
    "ExecuteTime": {
     "end_time": "2023-05-29T20:03:21.234919400Z",
     "start_time": "2023-05-29T20:03:21.144982700Z"
    }
   },
   "outputs": [
    {
     "data": {
      "text/plain": [
       "3574"
      ]
     },
     "execution_count": 23,
     "metadata": {},
     "output_type": "execute_result"
    }
   ],
   "source": [
    "df_updated.Model.isna().sum()"
   ]
  },
  {
   "cell_type": "markdown",
   "metadata": {},
   "source": [
    "Оставшиеся пропуски можно удалить из датасета"
   ]
  },
  {
   "cell_type": "code",
   "execution_count": 24,
   "metadata": {
    "ExecuteTime": {
     "end_time": "2023-05-29T20:03:21.255853800Z",
     "start_time": "2023-05-29T20:03:21.215939900Z"
    }
   },
   "outputs": [],
   "source": [
    "df_updated = df_updated.dropna(subset=['Model'])"
   ]
  },
  {
   "cell_type": "code",
   "execution_count": 25,
   "metadata": {
    "ExecuteTime": {
     "end_time": "2023-05-29T20:03:21.317695800Z",
     "start_time": "2023-05-29T20:03:21.254835900Z"
    }
   },
   "outputs": [
    {
     "data": {
      "text/plain": [
       "0"
      ]
     },
     "execution_count": 25,
     "metadata": {},
     "output_type": "execute_result"
    }
   ],
   "source": [
    "df_updated.Model.isna().sum()"
   ]
  },
  {
   "cell_type": "markdown",
   "metadata": {},
   "source": [
    "Тип кузова"
   ]
  },
  {
   "cell_type": "code",
   "execution_count": 26,
   "metadata": {
    "ExecuteTime": {
     "end_time": "2023-05-29T20:03:21.317695800Z",
     "start_time": "2023-05-29T20:03:21.287749600Z"
    }
   },
   "outputs": [],
   "source": [
    "# функция будет менять пропущенное значение на самое частое у такой же модели\n",
    "def replacer(column):\n",
    "    return df_updated.groupby('Model')[column]\\\n",
    "        .transform(lambda x: x.mode().values[0] if not x.isnull().all() else np.nan)"
   ]
  },
  {
   "cell_type": "code",
   "execution_count": 27,
   "metadata": {
    "ExecuteTime": {
     "end_time": "2023-05-29T20:03:21.489501100Z",
     "start_time": "2023-05-29T20:03:21.305712900Z"
    }
   },
   "outputs": [],
   "source": [
    "df_updated.loc[:, 'VehicleType'] = replacer('VehicleType')"
   ]
  },
  {
   "cell_type": "code",
   "execution_count": 28,
   "metadata": {
    "ExecuteTime": {
     "end_time": "2023-05-29T20:03:21.566603100Z",
     "start_time": "2023-05-29T20:03:21.501469400Z"
    }
   },
   "outputs": [
    {
     "data": {
      "text/plain": [
       "0"
      ]
     },
     "execution_count": 28,
     "metadata": {},
     "output_type": "execute_result"
    }
   ],
   "source": [
    "df_updated.VehicleType.isna().sum()"
   ]
  },
  {
   "cell_type": "markdown",
   "metadata": {},
   "source": [
    "Тип коробки передач"
   ]
  },
  {
   "cell_type": "code",
   "execution_count": 29,
   "metadata": {
    "ExecuteTime": {
     "end_time": "2023-05-29T20:03:21.695581500Z",
     "start_time": "2023-05-29T20:03:21.522688800Z"
    }
   },
   "outputs": [],
   "source": [
    "df_updated.loc[:, 'Gearbox'] = replacer('Gearbox')"
   ]
  },
  {
   "cell_type": "code",
   "execution_count": 30,
   "metadata": {
    "ExecuteTime": {
     "end_time": "2023-05-29T20:03:21.756099Z",
     "start_time": "2023-05-29T20:03:21.697527700Z"
    }
   },
   "outputs": [
    {
     "data": {
      "text/plain": [
       "0"
      ]
     },
     "execution_count": 30,
     "metadata": {},
     "output_type": "execute_result"
    }
   ],
   "source": [
    "df_updated.Gearbox.isna().sum()"
   ]
  },
  {
   "cell_type": "markdown",
   "metadata": {},
   "source": [
    "Тип топлива"
   ]
  },
  {
   "cell_type": "code",
   "execution_count": 31,
   "metadata": {
    "ExecuteTime": {
     "end_time": "2023-05-29T20:03:21.917093800Z",
     "start_time": "2023-05-29T20:03:21.733130Z"
    }
   },
   "outputs": [],
   "source": [
    "df_updated.loc[:, 'FuelType'] = replacer('FuelType')"
   ]
  },
  {
   "cell_type": "code",
   "execution_count": 32,
   "metadata": {
    "ExecuteTime": {
     "end_time": "2023-05-29T20:03:21.930908400Z",
     "start_time": "2023-05-29T20:03:21.913104Z"
    }
   },
   "outputs": [
    {
     "data": {
      "text/plain": [
       "0"
      ]
     },
     "execution_count": 32,
     "metadata": {},
     "output_type": "execute_result"
    }
   ],
   "source": [
    "df_updated.FuelType.isna().sum()"
   ]
  },
  {
   "cell_type": "markdown",
   "metadata": {},
   "source": [
    "Ремонт"
   ]
  },
  {
   "cell_type": "markdown",
   "metadata": {},
   "source": [
    "Если цена автомобиля из строки с пропущенным значением по ремонту меньше медианной по модели, то подставим значение True и наоборот"
   ]
  },
  {
   "cell_type": "code",
   "execution_count": 33,
   "metadata": {
    "ExecuteTime": {
     "end_time": "2023-05-29T20:03:27.134641400Z",
     "start_time": "2023-05-29T20:03:21.934898Z"
    }
   },
   "outputs": [],
   "source": [
    "frequent_types_median = df_updated.groupby('Model')['Price'].median()# посчитаем медиану цены по каждой из моделей\n",
    "def repair_replacer(row):# функция заменяет пропуски на 1 или 0 в зависимости от отношения к медианной цене модели\n",
    "    if pd.isna(row['Repaired']):\n",
    "        if row['Model'] in frequent_types_median:\n",
    "            if row['Price'] > frequent_types_median[row['Model']]:\n",
    "                return False\n",
    "            else:\n",
    "                return True\n",
    "        else:\n",
    "            return row['Repaired']\n",
    "    else:\n",
    "        return row['Repaired']\n",
    "\n",
    "df_updated.loc[:, 'Repaired'] = df_updated.apply(repair_replacer, axis=1)# применим функцию к датафрейму"
   ]
  },
  {
   "cell_type": "code",
   "execution_count": 34,
   "metadata": {
    "ExecuteTime": {
     "end_time": "2023-05-29T20:03:27.210527900Z",
     "start_time": "2023-05-29T20:03:27.134641400Z"
    }
   },
   "outputs": [
    {
     "data": {
      "text/plain": [
       "0"
      ]
     },
     "execution_count": 34,
     "metadata": {},
     "output_type": "execute_result"
    }
   ],
   "source": [
    "df_updated.Repaired.isna().sum()"
   ]
  },
  {
   "cell_type": "code",
   "execution_count": 35,
   "metadata": {
    "ExecuteTime": {
     "end_time": "2023-05-29T20:03:27.402807Z",
     "start_time": "2023-05-29T20:03:27.167616Z"
    }
   },
   "outputs": [
    {
     "data": {
      "text/plain": [
       "Price               0\n",
       "VehicleType         0\n",
       "RegistrationYear    0\n",
       "Gearbox             0\n",
       "Power               0\n",
       "Model               0\n",
       "Kilometer           0\n",
       "FuelType            0\n",
       "Brand               0\n",
       "Repaired            0\n",
       "dtype: int64"
      ]
     },
     "execution_count": 35,
     "metadata": {},
     "output_type": "execute_result"
    }
   ],
   "source": [
    "df_updated.isna().sum()"
   ]
  },
  {
   "cell_type": "code",
   "execution_count": 36,
   "metadata": {
    "ExecuteTime": {
     "end_time": "2023-05-29T20:03:27.466889100Z",
     "start_time": "2023-05-29T20:03:27.405801300Z"
    }
   },
   "outputs": [
    {
     "data": {
      "text/plain": [
       "(350791, 10)"
      ]
     },
     "execution_count": 36,
     "metadata": {},
     "output_type": "execute_result"
    }
   ],
   "source": [
    "df_updated.shape"
   ]
  },
  {
   "cell_type": "markdown",
   "metadata": {},
   "source": [
    "Все пропуски обработаны, потеряно незначительное количество строк"
   ]
  },
  {
   "cell_type": "markdown",
   "metadata": {},
   "source": [
    "### Аномальные значения"
   ]
  },
  {
   "cell_type": "markdown",
   "metadata": {},
   "source": [
    "Год регистрации"
   ]
  },
  {
   "cell_type": "code",
   "execution_count": 37,
   "metadata": {
    "ExecuteTime": {
     "end_time": "2023-05-29T20:03:27.467871600Z",
     "start_time": "2023-05-29T20:03:27.420982100Z"
    }
   },
   "outputs": [
    {
     "data": {
      "text/plain": [
       "(350791, 10)"
      ]
     },
     "execution_count": 37,
     "metadata": {},
     "output_type": "execute_result"
    }
   ],
   "source": [
    "df_updated.shape"
   ]
  },
  {
   "cell_type": "code",
   "execution_count": 38,
   "metadata": {
    "ExecuteTime": {
     "end_time": "2023-05-29T20:03:27.467871600Z",
     "start_time": "2023-05-29T20:03:27.434978400Z"
    }
   },
   "outputs": [
    {
     "data": {
      "text/plain": [
       "2000    24074\n",
       "1999    22640\n",
       "2005    21901\n",
       "2001    20034\n",
       "2006    19787\n",
       "        ...  \n",
       "2900        1\n",
       "1940        1\n",
       "1949        1\n",
       "2066        1\n",
       "1600        1\n",
       "Name: RegistrationYear, Length: 134, dtype: int64"
      ]
     },
     "execution_count": 38,
     "metadata": {},
     "output_type": "execute_result"
    }
   ],
   "source": [
    "df_updated.RegistrationYear.value_counts()"
   ]
  },
  {
   "cell_type": "markdown",
   "metadata": {},
   "source": [
    "Будем учитывать дату регистрации от 1960 до 2016 включительно"
   ]
  },
  {
   "cell_type": "code",
   "execution_count": 39,
   "metadata": {
    "ExecuteTime": {
     "end_time": "2023-05-29T20:03:27.574617700Z",
     "start_time": "2023-05-29T20:03:27.450918200Z"
    }
   },
   "outputs": [],
   "source": [
    "df_updated = df_updated[(df_updated['RegistrationYear'] >= 1960) & (df_updated['RegistrationYear'] <= 2016)]"
   ]
  },
  {
   "cell_type": "code",
   "execution_count": 40,
   "metadata": {
    "ExecuteTime": {
     "end_time": "2023-05-29T20:03:27.596527600Z",
     "start_time": "2023-05-29T20:03:27.499787700Z"
    }
   },
   "outputs": [
    {
     "data": {
      "text/plain": [
       "(336174, 10)"
      ]
     },
     "execution_count": 40,
     "metadata": {},
     "output_type": "execute_result"
    }
   ],
   "source": [
    "df_updated.shape"
   ]
  },
  {
   "cell_type": "markdown",
   "metadata": {},
   "source": [
    "Цена"
   ]
  },
  {
   "cell_type": "code",
   "execution_count": 41,
   "metadata": {
    "ExecuteTime": {
     "end_time": "2023-05-29T20:03:27.598549600Z",
     "start_time": "2023-05-29T20:03:27.515744200Z"
    }
   },
   "outputs": [
    {
     "data": {
      "text/plain": [
       "0        9476\n",
       "500      5411\n",
       "1500     5051\n",
       "1000     4296\n",
       "1200     4295\n",
       "         ... \n",
       "6235        1\n",
       "1379        1\n",
       "5377        1\n",
       "3021        1\n",
       "10985       1\n",
       "Name: Price, Length: 3676, dtype: int64"
      ]
     },
     "execution_count": 41,
     "metadata": {},
     "output_type": "execute_result"
    }
   ],
   "source": [
    "df_updated.Price.value_counts()"
   ]
  },
  {
   "cell_type": "markdown",
   "metadata": {},
   "source": [
    "Большое количество значений цены равно нулю, заменим их по совпадению модели и года регистрации"
   ]
  },
  {
   "cell_type": "code",
   "execution_count": 42,
   "metadata": {
    "ExecuteTime": {
     "end_time": "2023-05-29T20:03:31.732602900Z",
     "start_time": "2023-05-29T20:03:27.549653900Z"
    }
   },
   "outputs": [],
   "source": [
    "# создаем словарь с комбинацией модели и года выпуска и определяем цену для нее\n",
    "price_mapping = df_updated[df_updated['Price']>100].groupby(['Model', 'RegistrationYear'])['Price']\\\n",
    "    .apply(lambda x: x.dropna().iloc[0] if not x.dropna().empty else None).to_dict()\n",
    "\n",
    "# заменяем нули в цене на подходящую комбинацию модели и года из других столбцов\n",
    "df_updated['Price'] = df_updated.apply(lambda row: price_mapping[(row['Model'], row['RegistrationYear'])] if row['Price'] == 0 and (row['Model'], row['RegistrationYear'])\n",
    "                                                                                                             in price_mapping else row['Price'], axis=1)"
   ]
  },
  {
   "cell_type": "markdown",
   "metadata": {},
   "source": [
    "Удалим из данных машины дешевле 100 евро, можно считать такие объявления продажей 'металлолома' и не учитывать для обучения"
   ]
  },
  {
   "cell_type": "code",
   "execution_count": 43,
   "metadata": {
    "ExecuteTime": {
     "end_time": "2023-05-29T20:03:31.795428Z",
     "start_time": "2023-05-29T20:03:31.735588100Z"
    }
   },
   "outputs": [],
   "source": [
    "df_updated = df_updated[df_updated['Price'] >= 100]"
   ]
  },
  {
   "cell_type": "code",
   "execution_count": 44,
   "metadata": {
    "ExecuteTime": {
     "end_time": "2023-05-29T20:03:31.802437100Z",
     "start_time": "2023-05-29T20:03:31.782463500Z"
    }
   },
   "outputs": [
    {
     "data": {
      "text/plain": [
       "(333829, 10)"
      ]
     },
     "execution_count": 44,
     "metadata": {},
     "output_type": "execute_result"
    }
   ],
   "source": [
    "df_updated.shape"
   ]
  },
  {
   "cell_type": "markdown",
   "metadata": {},
   "source": [
    "Мощность"
   ]
  },
  {
   "cell_type": "code",
   "execution_count": 45,
   "metadata": {
    "ExecuteTime": {
     "end_time": "2023-05-29T20:03:31.812383300Z",
     "start_time": "2023-05-29T20:03:31.798426700Z"
    }
   },
   "outputs": [
    {
     "data": {
      "text/plain": [
       "0       33929\n",
       "75      22620\n",
       "60      15026\n",
       "150     14047\n",
       "101     12680\n",
       "        ...  \n",
       "6018        1\n",
       "751         1\n",
       "612         1\n",
       "1506        1\n",
       "3           1\n",
       "Name: Power, Length: 668, dtype: int64"
      ]
     },
     "execution_count": 45,
     "metadata": {},
     "output_type": "execute_result"
    }
   ],
   "source": [
    "df_updated.Power.value_counts()"
   ]
  },
  {
   "cell_type": "markdown",
   "metadata": {},
   "source": [
    "В датасете очень много значений с нулем, подменим данными из строчек с идентичной моделью и годом выпуска"
   ]
  },
  {
   "cell_type": "code",
   "execution_count": 46,
   "metadata": {
    "ExecuteTime": {
     "end_time": "2023-05-29T20:03:35.891654900Z",
     "start_time": "2023-05-29T20:03:31.816375100Z"
    }
   },
   "outputs": [],
   "source": [
    "# создаем словарь с комбинацией модели и года выпуска и определяем цену для нее\n",
    "power_mapping = df_updated[(df_updated['Power'] >= 26) \n",
    "                           & (df_updated['Power'] <= 1000)].groupby(['Model', 'RegistrationYear'])['Power']\\\n",
    "    .apply(lambda x: x.dropna().iloc[0] if not x.dropna().empty else None).to_dict()\n",
    "\n",
    "# заменяем нули в мощности на подходящую комбинацию модели и года из других столбцов\n",
    "df_updated['Power'] = df_updated.apply(lambda row: power_mapping[(row['Model'], row['RegistrationYear'])] \n",
    "if row['Power'] == 0 and (row['Model'], row['RegistrationYear']) in power_mapping else row['Power'], axis=1)"
   ]
  },
  {
   "cell_type": "code",
   "execution_count": 47,
   "metadata": {
    "ExecuteTime": {
     "end_time": "2023-05-29T20:03:35.906661Z",
     "start_time": "2023-05-29T20:03:35.893649400Z"
    }
   },
   "outputs": [
    {
     "data": {
      "text/plain": [
       "(333829, 10)"
      ]
     },
     "execution_count": 47,
     "metadata": {},
     "output_type": "execute_result"
    }
   ],
   "source": [
    "df_updated.shape"
   ]
  },
  {
   "cell_type": "markdown",
   "metadata": {},
   "source": [
    "Возьмем 26 л.с. за минимальный порог и 1000 как максимальный(болид формулы 1)"
   ]
  },
  {
   "cell_type": "code",
   "execution_count": 48,
   "metadata": {
    "ExecuteTime": {
     "end_time": "2023-05-29T20:03:35.967658800Z",
     "start_time": "2023-05-29T20:03:35.909654300Z"
    }
   },
   "outputs": [],
   "source": [
    "df_updated = df_updated[(df_updated['Power'] >= 26) & (df_updated['Power'] <= 1000)]"
   ]
  },
  {
   "cell_type": "code",
   "execution_count": 49,
   "metadata": {
    "ExecuteTime": {
     "end_time": "2023-05-29T20:03:35.986638700Z",
     "start_time": "2023-05-29T20:03:35.956527800Z"
    }
   },
   "outputs": [
    {
     "data": {
      "text/plain": [
       "(332988, 10)"
      ]
     },
     "execution_count": 49,
     "metadata": {},
     "output_type": "execute_result"
    }
   ],
   "source": [
    "df_updated.shape"
   ]
  },
  {
   "cell_type": "markdown",
   "metadata": {},
   "source": [
    "## Шаг 3. Подготовка признаков\n"
   ]
  },
  {
   "cell_type": "markdown",
   "metadata": {},
   "source": [
    "Мы будем обучать две модели бустинга LightGBM и Catboost, а также случайный лес."
   ]
  },
  {
   "cell_type": "markdown",
   "metadata": {},
   "source": [
    "В дальнейшем нам нужно будет перекодировать категориальные признаки для обучения случайного леса, перед этим нужно удалить наименее представленные в этих столбцах категории"
   ]
  },
  {
   "cell_type": "code",
   "execution_count": 50,
   "metadata": {
    "ExecuteTime": {
     "end_time": "2023-05-29T20:03:36.078258800Z",
     "start_time": "2023-05-29T20:03:35.985611700Z"
    }
   },
   "outputs": [
    {
     "data": {
      "text/plain": [
       "sedan          163016\n",
       "small           90497\n",
       "wagon           55405\n",
       "bus             14524\n",
       "suv              5171\n",
       "coupe            2826\n",
       "convertible      1546\n",
       "other               3\n",
       "Name: VehicleType, dtype: int64"
      ]
     },
     "execution_count": 50,
     "metadata": {},
     "output_type": "execute_result"
    }
   ],
   "source": [
    "df_updated.VehicleType.value_counts()"
   ]
  },
  {
   "cell_type": "markdown",
   "metadata": {},
   "source": [
    "Удалим категорию other"
   ]
  },
  {
   "cell_type": "code",
   "execution_count": 51,
   "metadata": {
    "ExecuteTime": {
     "end_time": "2023-05-29T20:03:36.100496300Z",
     "start_time": "2023-05-29T20:03:36.004075800Z"
    }
   },
   "outputs": [
    {
     "data": {
      "text/plain": [
       "300c          199\n",
       "ducato        192\n",
       "escort        186\n",
       "captiva       183\n",
       "auris         181\n",
       "             ... \n",
       "kalina          2\n",
       "citigo          2\n",
       "roomster        2\n",
       "elefantino      2\n",
       "cc              1\n",
       "Name: Model, Length: 101, dtype: int64"
      ]
     },
     "execution_count": 51,
     "metadata": {},
     "output_type": "execute_result"
    }
   ],
   "source": [
    "df_updated.Model.value_counts().tail(101)"
   ]
  },
  {
   "cell_type": "markdown",
   "metadata": {},
   "source": [
    "Удалим категории, где менее 200 вхождений"
   ]
  },
  {
   "cell_type": "code",
   "execution_count": 52,
   "metadata": {
    "ExecuteTime": {
     "end_time": "2023-05-29T20:03:36.100496300Z",
     "start_time": "2023-05-29T20:03:36.035374300Z"
    }
   },
   "outputs": [
    {
     "data": {
      "text/plain": [
       "petrol      278064\n",
       "gasoline     54739\n",
       "cng            177\n",
       "lpg              8\n",
       "Name: FuelType, dtype: int64"
      ]
     },
     "execution_count": 52,
     "metadata": {},
     "output_type": "execute_result"
    }
   ],
   "source": [
    "df_updated.FuelType.value_counts()"
   ]
  },
  {
   "cell_type": "markdown",
   "metadata": {},
   "source": [
    "Удалим категорию lpg"
   ]
  },
  {
   "cell_type": "code",
   "execution_count": 53,
   "metadata": {
    "ExecuteTime": {
     "end_time": "2023-05-29T20:03:36.100496300Z",
     "start_time": "2023-05-29T20:03:36.068287Z"
    }
   },
   "outputs": [
    {
     "data": {
      "text/plain": [
       "Index(['300c', 'ducato', 'escort', 'captiva', 'auris', 'c4', 'forester',\n",
       "       'caddy', 'c_reihe', 'x_type',\n",
       "       ...\n",
       "       'calibra', 'beetle', 'serie_2', 'crossfire', 'range_rover_evoque',\n",
       "       'kalina', 'citigo', 'roomster', 'elefantino', 'cc'],\n",
       "      dtype='object', length=101)"
      ]
     },
     "execution_count": 53,
     "metadata": {},
     "output_type": "execute_result"
    }
   ],
   "source": [
    "df_updated['Model'].value_counts().tail(101).index"
   ]
  },
  {
   "cell_type": "code",
   "execution_count": 54,
   "metadata": {
    "ExecuteTime": {
     "end_time": "2023-05-29T20:03:36.237162900Z",
     "start_time": "2023-05-29T20:03:36.096506700Z"
    }
   },
   "outputs": [],
   "source": [
    "df_updated = df_updated.query('VehicleType != \"other\"')\n",
    "df_updated = df_updated.query('FuelType != \"lpg\"')\n",
    "\n",
    "#удаляем из датафрейма категории моделей с менее чем 200 вхождениями\n",
    "models_to_remove = df_updated['Model'].value_counts().tail(101).index\n",
    "df_updated = df_updated[~df_updated['Model'].isin(models_to_remove)]"
   ]
  },
  {
   "cell_type": "markdown",
   "metadata": {},
   "source": [
    "Выделим признаки"
   ]
  },
  {
   "cell_type": "code",
   "execution_count": 55,
   "metadata": {
    "ExecuteTime": {
     "end_time": "2023-05-29T20:03:36.285032600Z",
     "start_time": "2023-05-29T20:03:36.237162900Z"
    }
   },
   "outputs": [],
   "source": [
    "features = df_updated.drop(['Price'], axis=1)\n",
    "target = df_updated['Price']"
   ]
  },
  {
   "cell_type": "code",
   "execution_count": 56,
   "metadata": {
    "ExecuteTime": {
     "end_time": "2023-05-29T20:03:36.383499600Z",
     "start_time": "2023-05-29T20:03:36.256079400Z"
    }
   },
   "outputs": [],
   "source": [
    "# Преобразование столбцов в целочисленный формат\n",
    "features['Gearbox'] = features['Gearbox'].replace({'manual':0, 'auto':1})\n",
    "features['Repaired'] = features['Repaired'].astype(int)\n",
    "features['Gearbox'] = features['Gearbox'].astype(int)"
   ]
  },
  {
   "cell_type": "markdown",
   "metadata": {},
   "source": [
    "Теперь разделим весь датасет на выборки - обучающую валидационную и тестовую в соотношении 3:1:1"
   ]
  },
  {
   "cell_type": "code",
   "execution_count": 57,
   "metadata": {
    "ExecuteTime": {
     "end_time": "2023-05-29T20:03:36.477561100Z",
     "start_time": "2023-05-29T20:03:36.383499600Z"
    }
   },
   "outputs": [],
   "source": [
    "# для начала выделим обучающую выборку \n",
    "features_train, features_other, target_train, target_other = \\\n",
    "    train_test_split(features, target, test_size=0.4, random_state=12345)\n",
    "\n",
    "# разделим 40% датасета на валидационную и тестовую выборки \n",
    "features_valid, features_test, target_valid, target_test = \\\n",
    "    train_test_split(features_other, target_other, test_size=0.5, random_state=12345)"
   ]
  },
  {
   "cell_type": "code",
   "execution_count": 58,
   "metadata": {
    "ExecuteTime": {
     "end_time": "2023-05-29T20:03:36.543366900Z",
     "start_time": "2023-05-29T20:03:36.480534100Z"
    }
   },
   "outputs": [],
   "source": [
    "# масштабируем признаки\n",
    "scaler = StandardScaler()\n",
    "columns_to_scale = ['RegistrationYear', 'Power', 'Kilometer']\n",
    "\n",
    "scaled_columns_train = scaler.fit_transform(features_train[columns_to_scale].values)\n",
    "scaled_columns_valid = scaler.transform(features_valid[columns_to_scale].values)\n",
    "scaled_columns_test = scaler.transform(features_test[columns_to_scale].values)\n",
    "\n",
    "features_train = features_train.copy()\n",
    "features_valid = features_valid.copy()\n",
    "features_test = features_test.copy()\n",
    "\n",
    "features_train[columns_to_scale] = scaled_columns_train\n",
    "features_valid[columns_to_scale] = scaled_columns_valid\n",
    "features_test[columns_to_scale] = scaled_columns_test"
   ]
  },
  {
   "cell_type": "markdown",
   "metadata": {},
   "source": [
    "Для обучения случайного леса преобразуем категориальные признаки с помощью OHE и бинарного кодирования"
   ]
  },
  {
   "cell_type": "code",
   "execution_count": 59,
   "metadata": {
    "ExecuteTime": {
     "end_time": "2023-05-29T20:03:37.653488Z",
     "start_time": "2023-05-29T20:03:36.532397200Z"
    }
   },
   "outputs": [],
   "source": [
    "enc = OneHotEncoder(drop='first')\n",
    "columns_to_ohe = ['VehicleType', 'Model', 'FuelType', 'Brand']\n",
    "features_train_encoded = enc.fit_transform(features_train[columns_to_ohe])\n",
    "features_valid_encoded = enc.transform(features_valid[columns_to_ohe])\n",
    "features_test_encoded = enc.transform(features_test[columns_to_ohe])\n",
    "\n",
    "features_train_array = features_train_encoded.toarray()\n",
    "features_valid_array = features_valid_encoded.toarray()\n",
    "features_test_array = features_test_encoded.toarray()\n",
    "\n",
    "# Создание нового датафрейма с закодированными признаками\n",
    "encoded_features_train_df = pd.DataFrame(features_train_array, \n",
    "                                         columns=enc.get_feature_names_out(columns_to_ohe),\n",
    "                                         index=features_train.index)\n",
    "encoded_features_valid_df = pd.DataFrame(features_valid_array, \n",
    "                                         columns=enc.get_feature_names_out(columns_to_ohe),\n",
    "                                         index=features_valid.index)\n",
    "encoded_features_df_test = pd.DataFrame(features_test_array, \n",
    "                                        columns=enc.get_feature_names_out(columns_to_ohe),\n",
    "                                        index=features_test.index)\n",
    "\n",
    "# объединим признаки и результат кодирования и удалим ненужные столбцы\n",
    "features_train_forest = features_train.join(encoded_features_train_df).drop(columns = columns_to_ohe, axis= 1)\n",
    "features_valid_forest = features_valid.join(encoded_features_valid_df).drop(columns = columns_to_ohe, axis= 1)\n",
    "features_test_forest = features_test.join(encoded_features_df_test).drop(columns = columns_to_ohe, axis= 1)"
   ]
  },
  {
   "cell_type": "markdown",
   "metadata": {},
   "source": [
    "Признаки для случайного леса"
   ]
  },
  {
   "cell_type": "code",
   "execution_count": 60,
   "metadata": {
    "ExecuteTime": {
     "end_time": "2023-05-29T20:03:37.669517700Z",
     "start_time": "2023-05-29T20:03:37.656478700Z"
    }
   },
   "outputs": [
    {
     "name": "stdout",
     "output_type": "stream",
     "text": [
      "Размеры тренировочных выборок: (194878, 168) (194878,)\n"
     ]
    }
   ],
   "source": [
    "print('Размеры тренировочных выборок:', features_train_forest.shape, target_train.shape)"
   ]
  },
  {
   "cell_type": "code",
   "execution_count": 61,
   "metadata": {
    "ExecuteTime": {
     "end_time": "2023-05-29T20:03:37.794184800Z",
     "start_time": "2023-05-29T20:03:37.673507Z"
    }
   },
   "outputs": [
    {
     "name": "stdout",
     "output_type": "stream",
     "text": [
      "Размеры валидационных выборок: (64960, 168) (64960,)\n"
     ]
    }
   ],
   "source": [
    "print('Размеры валидационных выборок:', features_valid_forest.shape, target_valid.shape)"
   ]
  },
  {
   "cell_type": "code",
   "execution_count": 62,
   "metadata": {
    "ExecuteTime": {
     "end_time": "2023-05-29T20:03:37.818120100Z",
     "start_time": "2023-05-29T20:03:37.688470600Z"
    },
    "scrolled": true
   },
   "outputs": [
    {
     "name": "stdout",
     "output_type": "stream",
     "text": [
      "Размеры тестовых выборок: (64960, 168) (64960,)\n"
     ]
    }
   ],
   "source": [
    "print('Размеры тестовых выборок:', features_test_forest.shape, target_test.shape)"
   ]
  },
  {
   "cell_type": "markdown",
   "metadata": {},
   "source": [
    "Признаки для бустинга"
   ]
  },
  {
   "cell_type": "code",
   "execution_count": 63,
   "metadata": {
    "ExecuteTime": {
     "end_time": "2023-05-29T20:03:37.819118100Z",
     "start_time": "2023-05-29T20:03:37.703427300Z"
    }
   },
   "outputs": [
    {
     "name": "stdout",
     "output_type": "stream",
     "text": [
      "Размеры тренировочных выборок: (194878, 9) (194878,)\n"
     ]
    }
   ],
   "source": [
    "print('Размеры тренировочных выборок:', features_train.shape, target_train.shape)"
   ]
  },
  {
   "cell_type": "code",
   "execution_count": 64,
   "metadata": {
    "ExecuteTime": {
     "end_time": "2023-05-29T20:03:37.819118100Z",
     "start_time": "2023-05-29T20:03:37.719385700Z"
    }
   },
   "outputs": [
    {
     "name": "stdout",
     "output_type": "stream",
     "text": [
      "Размеры валидационных выборок: (64960, 9) (64960,)\n"
     ]
    }
   ],
   "source": [
    "print('Размеры валидационных выборок:', features_valid.shape, target_valid.shape)"
   ]
  },
  {
   "cell_type": "code",
   "execution_count": 65,
   "metadata": {
    "ExecuteTime": {
     "end_time": "2023-05-29T20:03:37.820115300Z",
     "start_time": "2023-05-29T20:03:37.735343Z"
    },
    "scrolled": true
   },
   "outputs": [
    {
     "name": "stdout",
     "output_type": "stream",
     "text": [
      "Размеры тестовых выборок: (64960, 9) (64960,)\n"
     ]
    }
   ],
   "source": [
    "print('Размеры тестовых выборок:', features_test.shape, target_test.shape)"
   ]
  },
  {
   "cell_type": "markdown",
   "metadata": {},
   "source": [
    "# Шаг 4. Обучение моделей"
   ]
  },
  {
   "cell_type": "markdown",
   "metadata": {},
   "source": [
    "## Случайный лес"
   ]
  },
  {
   "cell_type": "markdown",
   "metadata": {},
   "source": [
    "Для подбора параметров используем RandomizedSearchCV, а не GridSearchCV, так как после преобразования у нас получилось очень много признаков, что может сильно сказаться на скорости подбора."
   ]
  },
  {
   "cell_type": "code",
   "execution_count": 66,
   "metadata": {
    "ExecuteTime": {
     "end_time": "2023-05-29T20:13:39.442855900Z",
     "start_time": "2023-05-29T20:03:37.752296800Z"
    }
   },
   "outputs": [
    {
     "name": "stdout",
     "output_type": "stream",
     "text": [
      "Лучшие параметры для леса: {'n_estimators': 180, 'max_depth': 8}\n",
      "Лучшее значение метрики: 2023.135928775542\n",
      "Wall time: 10min 1s\n"
     ]
    }
   ],
   "source": [
    "%%time\n",
    "forest = RandomForestRegressor(random_state=12345)\n",
    "param_dist = {\"max_depth\": [8], 'n_estimators': [120, 180]}# распределение параметров для подбора\n",
    "rsc = RandomizedSearchCV(forest, param_dist, cv=2, n_iter=2, scoring='neg_mean_squared_error')#используем RandomizedSearchCV для подбора параметров\n",
    "search_f = rsc.fit(features_train_forest, target_train)\n",
    "print(f'Лучшие параметры для леса: {search_f.best_params_}')\n",
    "print(f'Лучшее значение метрики: {np.sqrt(abs(search_f.best_score_))}')"
   ]
  },
  {
   "cell_type": "code",
   "execution_count": 67,
   "metadata": {
    "ExecuteTime": {
     "end_time": "2023-05-29T20:17:11.917206900Z",
     "start_time": "2023-05-29T20:13:39.448840500Z"
    }
   },
   "outputs": [
    {
     "name": "stdout",
     "output_type": "stream",
     "text": [
      "Оценка кросс-валидации случайного леса: 2023.135928775542\n",
      "Wall time: 3min 32s\n"
     ]
    }
   ],
   "source": [
    "%%time\n",
    "model_f = RandomForestRegressor(max_depth=search_f.best_params_['max_depth'], n_estimators=search_f.best_params_['n_estimators'], random_state=12345)# задаем модель и считаем оценку кросс-валидации\n",
    "final_scores_f = np.sqrt(abs(cross_val_score(model_f, features_train_forest, target_train, cv=2, scoring='neg_mean_squared_error').mean()))\n",
    "print(f'Оценка кросс-валидации случайного леса: {final_scores_f}')"
   ]
  },
  {
   "cell_type": "code",
   "execution_count": 68,
   "metadata": {
    "ExecuteTime": {
     "end_time": "2023-05-29T20:21:01.342368800Z",
     "start_time": "2023-05-29T20:17:11.919203700Z"
    }
   },
   "outputs": [
    {
     "name": "stdout",
     "output_type": "stream",
     "text": [
      "Wall time: 3min 47s\n",
      "Wall time: 930 ms\n",
      "Оценка RMSE на валидационной выборке: 2030.4629432720017\n"
     ]
    }
   ],
   "source": [
    "%time model_f.fit(features_train_forest, target_train)# обучаем модель\n",
    "%time model_f.predict(features_valid_forest)\n",
    "forest_predictions = model_f.predict(features_valid_forest) # получаем предсказания на валидационной выборке\n",
    "print(f'Оценка RMSE на валидационной выборке: {mean_squared_error(target_valid, forest_predictions, squared=False)}')"
   ]
  },
  {
   "cell_type": "markdown",
   "metadata": {},
   "source": [
    "Модель показывает результат методики лучше порога(2500) по кросс-валидации и проверке на валидационной выборке, время подбора параметров, обучения и предсказание нужно сравнить с остальными моделями. Низкая скорость обучения делает подбор параметров слишком медленным."
   ]
  },
  {
   "cell_type": "markdown",
   "metadata": {},
   "source": [
    "## CatBoost"
   ]
  },
  {
   "cell_type": "code",
   "execution_count": 69,
   "metadata": {
    "ExecuteTime": {
     "end_time": "2023-05-29T20:24:18.080294500Z",
     "start_time": "2023-05-29T20:21:01.342368800Z"
    }
   },
   "outputs": [
    {
     "name": "stderr",
     "output_type": "stream",
     "text": [
      "C:\\anaconda\\lib\\site-packages\\sklearn\\model_selection\\_search.py:292: UserWarning: The total space of parameters 4 is smaller than n_iter=5. Running 4 iterations. For exhaustive searches, use GridSearchCV.\n",
      "  warnings.warn(\n"
     ]
    },
    {
     "name": "stdout",
     "output_type": "stream",
     "text": [
      "0:\tlearn: 4389.8169401\ttotal: 181ms\tremaining: 1m 3s\n",
      "1:\tlearn: 4309.6355597\ttotal: 224ms\tremaining: 38.9s\n",
      "2:\tlearn: 4232.7080256\ttotal: 258ms\tremaining: 29.8s\n",
      "3:\tlearn: 4157.4044859\ttotal: 292ms\tremaining: 25.3s\n",
      "4:\tlearn: 4086.3116658\ttotal: 330ms\tremaining: 22.8s\n",
      "5:\tlearn: 4016.8589503\ttotal: 361ms\tremaining: 20.7s\n",
      "6:\tlearn: 3950.7437107\ttotal: 393ms\tremaining: 19.3s\n",
      "7:\tlearn: 3883.7509823\ttotal: 428ms\tremaining: 18.3s\n",
      "8:\tlearn: 3819.3933728\ttotal: 465ms\tremaining: 17.6s\n",
      "9:\tlearn: 3756.3546250\ttotal: 508ms\tremaining: 17.3s\n",
      "10:\tlearn: 3695.8108326\ttotal: 546ms\tremaining: 16.8s\n",
      "11:\tlearn: 3637.8389015\ttotal: 583ms\tremaining: 16.4s\n",
      "12:\tlearn: 3581.4009829\ttotal: 625ms\tremaining: 16.2s\n",
      "13:\tlearn: 3527.5698995\ttotal: 662ms\tremaining: 15.9s\n",
      "14:\tlearn: 3476.9304579\ttotal: 700ms\tremaining: 15.6s\n",
      "15:\tlearn: 3425.1103511\ttotal: 748ms\tremaining: 15.6s\n",
      "16:\tlearn: 3375.4841293\ttotal: 790ms\tremaining: 15.5s\n",
      "17:\tlearn: 3328.9089615\ttotal: 839ms\tremaining: 15.5s\n",
      "18:\tlearn: 3283.6930835\ttotal: 882ms\tremaining: 15.4s\n",
      "19:\tlearn: 3240.0279688\ttotal: 928ms\tremaining: 15.3s\n",
      "20:\tlearn: 3198.4165268\ttotal: 973ms\tremaining: 15.2s\n",
      "21:\tlearn: 3157.2654985\ttotal: 1.01s\tremaining: 15s\n",
      "22:\tlearn: 3116.9413022\ttotal: 1.05s\tremaining: 14.9s\n",
      "23:\tlearn: 3079.6472349\ttotal: 1.08s\tremaining: 14.7s\n",
      "24:\tlearn: 3043.3604114\ttotal: 1.12s\tremaining: 14.6s\n",
      "25:\tlearn: 3006.0471254\ttotal: 1.16s\tremaining: 14.5s\n",
      "26:\tlearn: 2972.8892865\ttotal: 1.19s\tremaining: 14.3s\n",
      "27:\tlearn: 2940.9596508\ttotal: 1.23s\tremaining: 14.1s\n",
      "28:\tlearn: 2909.5174444\ttotal: 1.26s\tremaining: 14s\n",
      "29:\tlearn: 2879.0210683\ttotal: 1.3s\tremaining: 13.9s\n",
      "30:\tlearn: 2850.4455092\ttotal: 1.33s\tremaining: 13.7s\n",
      "31:\tlearn: 2821.4766260\ttotal: 1.37s\tremaining: 13.6s\n",
      "32:\tlearn: 2794.1763232\ttotal: 1.41s\tremaining: 13.6s\n",
      "33:\tlearn: 2767.7942825\ttotal: 1.44s\tremaining: 13.4s\n",
      "34:\tlearn: 2742.4730016\ttotal: 1.47s\tremaining: 13.3s\n",
      "35:\tlearn: 2718.1806046\ttotal: 1.5s\tremaining: 13.1s\n",
      "36:\tlearn: 2695.6453465\ttotal: 1.53s\tremaining: 13s\n",
      "37:\tlearn: 2674.1914317\ttotal: 1.57s\tremaining: 12.9s\n",
      "38:\tlearn: 2652.9896663\ttotal: 1.61s\tremaining: 12.8s\n",
      "39:\tlearn: 2631.6941091\ttotal: 1.64s\tremaining: 12.7s\n",
      "40:\tlearn: 2610.9167066\ttotal: 1.67s\tremaining: 12.6s\n",
      "41:\tlearn: 2591.5649081\ttotal: 1.71s\tremaining: 12.5s\n",
      "42:\tlearn: 2572.3775858\ttotal: 1.74s\tremaining: 12.4s\n",
      "43:\tlearn: 2554.3553501\ttotal: 1.77s\tremaining: 12.3s\n",
      "44:\tlearn: 2536.2038731\ttotal: 1.81s\tremaining: 12.3s\n",
      "45:\tlearn: 2519.1342169\ttotal: 1.85s\tremaining: 12.2s\n",
      "46:\tlearn: 2503.1914497\ttotal: 1.89s\tremaining: 12.2s\n",
      "47:\tlearn: 2488.0324377\ttotal: 1.93s\tremaining: 12.1s\n",
      "48:\tlearn: 2472.6017111\ttotal: 1.96s\tremaining: 12.1s\n",
      "49:\tlearn: 2458.2590614\ttotal: 2s\tremaining: 12s\n",
      "50:\tlearn: 2442.8944228\ttotal: 2.04s\tremaining: 12s\n",
      "51:\tlearn: 2428.7523988\ttotal: 2.08s\tremaining: 11.9s\n",
      "52:\tlearn: 2415.5163182\ttotal: 2.11s\tremaining: 11.8s\n",
      "53:\tlearn: 2403.0203449\ttotal: 2.15s\tremaining: 11.8s\n",
      "54:\tlearn: 2389.7063591\ttotal: 2.18s\tremaining: 11.7s\n",
      "55:\tlearn: 2378.1987099\ttotal: 2.21s\tremaining: 11.6s\n",
      "56:\tlearn: 2367.4029753\ttotal: 2.24s\tremaining: 11.5s\n",
      "57:\tlearn: 2356.4233492\ttotal: 2.27s\tremaining: 11.5s\n",
      "58:\tlearn: 2345.9964204\ttotal: 2.31s\tremaining: 11.4s\n",
      "59:\tlearn: 2334.3553505\ttotal: 2.35s\tremaining: 11.4s\n",
      "60:\tlearn: 2323.6750021\ttotal: 2.39s\tremaining: 11.3s\n",
      "61:\tlearn: 2313.9704401\ttotal: 2.43s\tremaining: 11.3s\n",
      "62:\tlearn: 2304.1060652\ttotal: 2.46s\tremaining: 11.2s\n",
      "63:\tlearn: 2293.4232969\ttotal: 2.5s\tremaining: 11.2s\n",
      "64:\tlearn: 2284.6296062\ttotal: 2.54s\tremaining: 11.1s\n",
      "65:\tlearn: 2274.5699964\ttotal: 2.57s\tremaining: 11.1s\n",
      "66:\tlearn: 2264.8775962\ttotal: 2.6s\tremaining: 11s\n",
      "67:\tlearn: 2256.5887093\ttotal: 2.63s\tremaining: 10.9s\n",
      "68:\tlearn: 2247.8206065\ttotal: 2.66s\tremaining: 10.8s\n",
      "69:\tlearn: 2239.5050207\ttotal: 2.69s\tremaining: 10.8s\n",
      "70:\tlearn: 2231.3435538\ttotal: 2.73s\tremaining: 10.7s\n",
      "71:\tlearn: 2223.1629091\ttotal: 2.76s\tremaining: 10.7s\n",
      "72:\tlearn: 2215.3692496\ttotal: 2.79s\tremaining: 10.6s\n",
      "73:\tlearn: 2208.2755274\ttotal: 2.83s\tremaining: 10.5s\n",
      "74:\tlearn: 2201.1180091\ttotal: 2.88s\tremaining: 10.6s\n",
      "75:\tlearn: 2194.0602961\ttotal: 2.92s\tremaining: 10.5s\n",
      "76:\tlearn: 2187.5468027\ttotal: 2.96s\tremaining: 10.5s\n",
      "77:\tlearn: 2181.2175667\ttotal: 3s\tremaining: 10.5s\n",
      "78:\tlearn: 2174.8781396\ttotal: 3.03s\tremaining: 10.4s\n",
      "79:\tlearn: 2168.7816847\ttotal: 3.07s\tremaining: 10.4s\n",
      "80:\tlearn: 2163.0053201\ttotal: 3.1s\tremaining: 10.3s\n",
      "81:\tlearn: 2157.2099786\ttotal: 3.13s\tremaining: 10.2s\n",
      "82:\tlearn: 2151.6718664\ttotal: 3.17s\tremaining: 10.2s\n",
      "83:\tlearn: 2146.3836636\ttotal: 3.21s\tremaining: 10.2s\n",
      "84:\tlearn: 2141.2382771\ttotal: 3.23s\tremaining: 10.1s\n",
      "85:\tlearn: 2136.3604407\ttotal: 3.27s\tremaining: 10s\n",
      "86:\tlearn: 2131.2018249\ttotal: 3.3s\tremaining: 9.98s\n",
      "87:\tlearn: 2126.2149737\ttotal: 3.33s\tremaining: 9.93s\n",
      "88:\tlearn: 2121.2172340\ttotal: 3.38s\tremaining: 9.91s\n",
      "89:\tlearn: 2117.1803995\ttotal: 3.42s\tremaining: 9.87s\n",
      "90:\tlearn: 2112.5647448\ttotal: 3.45s\tremaining: 9.82s\n",
      "91:\tlearn: 2108.5330133\ttotal: 3.48s\tremaining: 9.76s\n",
      "92:\tlearn: 2104.1729037\ttotal: 3.51s\tremaining: 9.71s\n",
      "93:\tlearn: 2100.1380110\ttotal: 3.55s\tremaining: 9.66s\n",
      "94:\tlearn: 2095.5388061\ttotal: 3.58s\tremaining: 9.62s\n",
      "95:\tlearn: 2091.7603550\ttotal: 3.64s\tremaining: 9.63s\n",
      "96:\tlearn: 2087.9141890\ttotal: 3.67s\tremaining: 9.57s\n",
      "97:\tlearn: 2084.2632845\ttotal: 3.7s\tremaining: 9.52s\n",
      "98:\tlearn: 2081.0176840\ttotal: 3.73s\tremaining: 9.46s\n",
      "99:\tlearn: 2077.9052482\ttotal: 3.77s\tremaining: 9.42s\n",
      "100:\tlearn: 2074.6336508\ttotal: 3.8s\tremaining: 9.38s\n",
      "101:\tlearn: 2071.3771021\ttotal: 3.84s\tremaining: 9.34s\n",
      "102:\tlearn: 2068.3924280\ttotal: 3.88s\tremaining: 9.3s\n",
      "103:\tlearn: 2065.3001863\ttotal: 3.91s\tremaining: 9.24s\n",
      "104:\tlearn: 2062.4430939\ttotal: 3.94s\tremaining: 9.18s\n",
      "105:\tlearn: 2059.7320220\ttotal: 3.97s\tremaining: 9.13s\n",
      "106:\tlearn: 2057.0326140\ttotal: 4s\tremaining: 9.08s\n",
      "107:\tlearn: 2054.3733349\ttotal: 4.04s\tremaining: 9.05s\n",
      "108:\tlearn: 2051.7399882\ttotal: 4.08s\tremaining: 9.01s\n",
      "109:\tlearn: 2049.4373235\ttotal: 4.11s\tremaining: 8.97s\n",
      "110:\tlearn: 2046.8596139\ttotal: 4.15s\tremaining: 8.93s\n",
      "111:\tlearn: 2044.3184917\ttotal: 4.18s\tremaining: 8.88s\n",
      "112:\tlearn: 2042.0003294\ttotal: 4.2s\tremaining: 8.82s\n",
      "113:\tlearn: 2039.6941808\ttotal: 4.24s\tremaining: 8.77s\n",
      "114:\tlearn: 2037.4874812\ttotal: 4.27s\tremaining: 8.72s\n",
      "115:\tlearn: 2035.3383527\ttotal: 4.31s\tremaining: 8.69s\n",
      "116:\tlearn: 2033.1231060\ttotal: 4.33s\tremaining: 8.63s\n",
      "117:\tlearn: 2030.5736598\ttotal: 4.37s\tremaining: 8.59s\n",
      "118:\tlearn: 2028.3801504\ttotal: 4.4s\tremaining: 8.54s\n",
      "119:\tlearn: 2026.3841726\ttotal: 4.43s\tremaining: 8.49s\n",
      "120:\tlearn: 2024.6173094\ttotal: 4.46s\tremaining: 8.45s\n",
      "121:\tlearn: 2022.5848661\ttotal: 4.5s\tremaining: 8.42s\n",
      "122:\tlearn: 2020.5412709\ttotal: 4.54s\tremaining: 8.38s\n",
      "123:\tlearn: 2018.6456712\ttotal: 4.57s\tremaining: 8.33s\n",
      "124:\tlearn: 2016.7581802\ttotal: 4.6s\tremaining: 8.29s\n",
      "125:\tlearn: 2014.7842728\ttotal: 4.63s\tremaining: 8.23s\n",
      "126:\tlearn: 2013.0440051\ttotal: 4.66s\tremaining: 8.19s\n",
      "127:\tlearn: 2011.4793712\ttotal: 4.69s\tremaining: 8.13s\n",
      "128:\tlearn: 2009.9752969\ttotal: 4.73s\tremaining: 8.1s\n",
      "129:\tlearn: 2008.4882957\ttotal: 4.76s\tremaining: 8.06s\n",
      "130:\tlearn: 2007.1045000\ttotal: 4.8s\tremaining: 8.02s\n",
      "131:\tlearn: 2005.5359840\ttotal: 4.83s\tremaining: 7.97s\n",
      "132:\tlearn: 2003.8035014\ttotal: 4.85s\tremaining: 7.92s\n",
      "133:\tlearn: 2002.4619287\ttotal: 4.88s\tremaining: 7.87s\n",
      "134:\tlearn: 2001.1013824\ttotal: 4.91s\tremaining: 7.83s\n",
      "135:\tlearn: 1999.5253130\ttotal: 4.95s\tremaining: 7.78s\n",
      "136:\tlearn: 1998.1561005\ttotal: 4.98s\tremaining: 7.74s\n",
      "137:\tlearn: 1997.0344829\ttotal: 5.01s\tremaining: 7.71s\n",
      "138:\tlearn: 1995.7775479\ttotal: 5.04s\tremaining: 7.66s\n",
      "139:\tlearn: 1994.5269360\ttotal: 5.07s\tremaining: 7.6s\n",
      "140:\tlearn: 1992.8401418\ttotal: 5.1s\tremaining: 7.56s\n",
      "141:\tlearn: 1991.5017009\ttotal: 5.13s\tremaining: 7.51s\n",
      "142:\tlearn: 1990.1767098\ttotal: 5.17s\tremaining: 7.48s\n",
      "143:\tlearn: 1988.7239351\ttotal: 5.2s\tremaining: 7.45s\n",
      "144:\tlearn: 1987.2146289\ttotal: 5.24s\tremaining: 7.41s\n",
      "145:\tlearn: 1986.5189933\ttotal: 5.27s\tremaining: 7.36s\n",
      "146:\tlearn: 1985.5189438\ttotal: 5.3s\tremaining: 7.32s\n",
      "147:\tlearn: 1984.2583122\ttotal: 5.34s\tremaining: 7.29s\n",
      "148:\tlearn: 1983.0540008\ttotal: 5.37s\tremaining: 7.25s\n",
      "149:\tlearn: 1982.0378409\ttotal: 5.41s\tremaining: 7.21s\n",
      "150:\tlearn: 1981.0284419\ttotal: 5.44s\tremaining: 7.16s\n",
      "151:\tlearn: 1979.6633777\ttotal: 5.46s\tremaining: 7.12s\n",
      "152:\tlearn: 1978.7142771\ttotal: 5.49s\tremaining: 7.07s\n",
      "153:\tlearn: 1977.6155248\ttotal: 5.52s\tremaining: 7.03s\n",
      "154:\tlearn: 1976.4634249\ttotal: 5.56s\tremaining: 6.99s\n",
      "155:\tlearn: 1975.5776989\ttotal: 5.59s\tremaining: 6.95s\n",
      "156:\tlearn: 1974.5717301\ttotal: 5.63s\tremaining: 6.92s\n",
      "157:\tlearn: 1973.5896662\ttotal: 5.66s\tremaining: 6.87s\n",
      "158:\tlearn: 1972.5052383\ttotal: 5.69s\tremaining: 6.83s\n",
      "159:\tlearn: 1971.5538732\ttotal: 5.72s\tremaining: 6.79s\n",
      "160:\tlearn: 1970.4115015\ttotal: 5.75s\tremaining: 6.75s\n",
      "161:\tlearn: 1969.4127231\ttotal: 5.78s\tremaining: 6.71s\n",
      "162:\tlearn: 1968.2841896\ttotal: 5.81s\tremaining: 6.67s\n",
      "163:\tlearn: 1966.8519365\ttotal: 5.84s\tremaining: 6.63s\n",
      "164:\tlearn: 1965.7004673\ttotal: 5.88s\tremaining: 6.6s\n",
      "165:\tlearn: 1964.3992367\ttotal: 5.92s\tremaining: 6.56s\n",
      "166:\tlearn: 1963.2911218\ttotal: 5.95s\tremaining: 6.52s\n",
      "167:\tlearn: 1962.1494017\ttotal: 5.99s\tremaining: 6.49s\n",
      "168:\tlearn: 1961.3868544\ttotal: 6.02s\tremaining: 6.45s\n",
      "169:\tlearn: 1960.7133443\ttotal: 6.05s\tremaining: 6.41s\n",
      "170:\tlearn: 1959.8552660\ttotal: 6.09s\tremaining: 6.37s\n",
      "171:\tlearn: 1959.0482845\ttotal: 6.11s\tremaining: 6.33s\n",
      "172:\tlearn: 1958.2239847\ttotal: 6.15s\tremaining: 6.29s\n",
      "173:\tlearn: 1957.4101818\ttotal: 6.18s\tremaining: 6.25s\n",
      "174:\tlearn: 1956.6159540\ttotal: 6.21s\tremaining: 6.21s\n",
      "175:\tlearn: 1955.8495417\ttotal: 6.24s\tremaining: 6.17s\n",
      "176:\tlearn: 1954.6777953\ttotal: 6.28s\tremaining: 6.14s\n",
      "177:\tlearn: 1954.1177610\ttotal: 6.31s\tremaining: 6.1s\n",
      "178:\tlearn: 1953.4571358\ttotal: 6.34s\tremaining: 6.06s\n",
      "179:\tlearn: 1952.8049832\ttotal: 6.37s\tremaining: 6.02s\n",
      "180:\tlearn: 1952.1937467\ttotal: 6.4s\tremaining: 5.98s\n",
      "181:\tlearn: 1951.5806523\ttotal: 6.43s\tremaining: 5.94s\n",
      "182:\tlearn: 1950.7478898\ttotal: 6.47s\tremaining: 5.9s\n",
      "183:\tlearn: 1950.0236440\ttotal: 6.5s\tremaining: 5.87s\n",
      "184:\tlearn: 1949.5993370\ttotal: 6.54s\tremaining: 5.83s\n",
      "185:\tlearn: 1948.9688673\ttotal: 6.57s\tremaining: 5.79s\n",
      "186:\tlearn: 1948.2463059\ttotal: 6.6s\tremaining: 5.75s\n",
      "187:\tlearn: 1947.6350292\ttotal: 6.62s\tremaining: 5.71s\n",
      "188:\tlearn: 1946.8997199\ttotal: 6.65s\tremaining: 5.67s\n",
      "189:\tlearn: 1946.1709998\ttotal: 6.68s\tremaining: 5.63s\n",
      "190:\tlearn: 1945.2955433\ttotal: 6.72s\tremaining: 5.6s\n",
      "191:\tlearn: 1944.6355003\ttotal: 6.76s\tremaining: 5.56s\n",
      "192:\tlearn: 1943.9323483\ttotal: 6.78s\tremaining: 5.52s\n",
      "193:\tlearn: 1943.1983918\ttotal: 6.82s\tremaining: 5.48s\n",
      "194:\tlearn: 1942.5422848\ttotal: 6.85s\tremaining: 5.45s\n",
      "195:\tlearn: 1942.0488494\ttotal: 6.88s\tremaining: 5.41s\n",
      "196:\tlearn: 1941.2634459\ttotal: 6.91s\tremaining: 5.37s\n",
      "197:\tlearn: 1940.6374769\ttotal: 6.95s\tremaining: 5.33s\n",
      "198:\tlearn: 1940.0589964\ttotal: 6.99s\tremaining: 5.3s\n",
      "199:\tlearn: 1939.5034316\ttotal: 7.02s\tremaining: 5.26s\n",
      "200:\tlearn: 1938.8050852\ttotal: 7.05s\tremaining: 5.23s\n",
      "201:\tlearn: 1938.2893419\ttotal: 7.08s\tremaining: 5.19s\n",
      "202:\tlearn: 1937.9070935\ttotal: 7.12s\tremaining: 5.15s\n",
      "203:\tlearn: 1937.4561013\ttotal: 7.15s\tremaining: 5.12s\n",
      "204:\tlearn: 1936.7383017\ttotal: 7.19s\tremaining: 5.08s\n",
      "205:\tlearn: 1935.8108127\ttotal: 7.21s\tremaining: 5.04s\n",
      "206:\tlearn: 1935.4453271\ttotal: 7.24s\tremaining: 5s\n",
      "207:\tlearn: 1934.7195047\ttotal: 7.28s\tremaining: 4.97s\n",
      "208:\tlearn: 1934.1584715\ttotal: 7.31s\tremaining: 4.93s\n",
      "209:\tlearn: 1933.7421640\ttotal: 7.35s\tremaining: 4.9s\n",
      "210:\tlearn: 1933.1340098\ttotal: 7.38s\tremaining: 4.86s\n",
      "211:\tlearn: 1932.3472425\ttotal: 7.41s\tremaining: 4.82s\n",
      "212:\tlearn: 1931.8154368\ttotal: 7.43s\tremaining: 4.78s\n",
      "213:\tlearn: 1931.4038848\ttotal: 7.46s\tremaining: 4.74s\n",
      "214:\tlearn: 1930.8533417\ttotal: 7.49s\tremaining: 4.7s\n",
      "215:\tlearn: 1930.2916463\ttotal: 7.51s\tremaining: 4.66s\n",
      "216:\tlearn: 1929.7783074\ttotal: 7.55s\tremaining: 4.63s\n",
      "217:\tlearn: 1929.1227885\ttotal: 7.59s\tremaining: 4.59s\n",
      "218:\tlearn: 1928.5919377\ttotal: 7.61s\tremaining: 4.55s\n",
      "219:\tlearn: 1928.1441945\ttotal: 7.65s\tremaining: 4.52s\n",
      "220:\tlearn: 1927.2960866\ttotal: 7.69s\tremaining: 4.49s\n",
      "221:\tlearn: 1926.7045838\ttotal: 7.71s\tremaining: 4.45s\n",
      "222:\tlearn: 1926.2441344\ttotal: 7.74s\tremaining: 4.41s\n",
      "223:\tlearn: 1925.8999402\ttotal: 7.77s\tremaining: 4.37s\n",
      "224:\tlearn: 1925.3016056\ttotal: 7.81s\tremaining: 4.34s\n",
      "225:\tlearn: 1924.5751281\ttotal: 7.84s\tremaining: 4.3s\n",
      "226:\tlearn: 1923.9624318\ttotal: 7.88s\tremaining: 4.27s\n",
      "227:\tlearn: 1923.2548558\ttotal: 7.9s\tremaining: 4.23s\n",
      "228:\tlearn: 1922.9142922\ttotal: 7.93s\tremaining: 4.19s\n",
      "229:\tlearn: 1922.2119816\ttotal: 7.96s\tremaining: 4.15s\n",
      "230:\tlearn: 1921.8572099\ttotal: 7.99s\tremaining: 4.12s\n",
      "231:\tlearn: 1921.4171603\ttotal: 8.02s\tremaining: 4.08s\n",
      "232:\tlearn: 1920.9139863\ttotal: 8.06s\tremaining: 4.05s\n",
      "233:\tlearn: 1920.2697995\ttotal: 8.1s\tremaining: 4.01s\n",
      "234:\tlearn: 1919.9416831\ttotal: 8.14s\tremaining: 3.98s\n",
      "235:\tlearn: 1919.6861345\ttotal: 8.16s\tremaining: 3.94s\n",
      "236:\tlearn: 1919.4654994\ttotal: 8.19s\tremaining: 3.9s\n",
      "237:\tlearn: 1919.1339139\ttotal: 8.22s\tremaining: 3.87s\n",
      "238:\tlearn: 1918.8098609\ttotal: 8.25s\tremaining: 3.83s\n",
      "239:\tlearn: 1918.3610692\ttotal: 8.28s\tremaining: 3.79s\n",
      "240:\tlearn: 1917.9758617\ttotal: 8.31s\tremaining: 3.76s\n",
      "241:\tlearn: 1917.6531062\ttotal: 8.33s\tremaining: 3.72s\n",
      "242:\tlearn: 1917.4079880\ttotal: 8.36s\tremaining: 3.68s\n",
      "243:\tlearn: 1917.1280001\ttotal: 8.4s\tremaining: 3.65s\n",
      "244:\tlearn: 1916.6896828\ttotal: 8.43s\tremaining: 3.61s\n",
      "245:\tlearn: 1916.4205667\ttotal: 8.46s\tremaining: 3.58s\n",
      "246:\tlearn: 1915.8744202\ttotal: 8.49s\tremaining: 3.54s\n",
      "247:\tlearn: 1915.1727081\ttotal: 8.53s\tremaining: 3.51s\n",
      "248:\tlearn: 1914.5455413\ttotal: 8.57s\tremaining: 3.47s\n",
      "249:\tlearn: 1914.2253346\ttotal: 8.59s\tremaining: 3.44s\n",
      "250:\tlearn: 1913.8077912\ttotal: 8.62s\tremaining: 3.4s\n",
      "251:\tlearn: 1913.5398475\ttotal: 8.65s\tremaining: 3.37s\n",
      "252:\tlearn: 1913.2406304\ttotal: 8.69s\tremaining: 3.33s\n",
      "253:\tlearn: 1912.7034082\ttotal: 8.71s\tremaining: 3.29s\n",
      "254:\tlearn: 1912.3265352\ttotal: 8.76s\tremaining: 3.26s\n",
      "255:\tlearn: 1911.9088476\ttotal: 8.79s\tremaining: 3.23s\n",
      "256:\tlearn: 1911.7152444\ttotal: 8.82s\tremaining: 3.19s\n",
      "257:\tlearn: 1911.4041901\ttotal: 8.85s\tremaining: 3.16s\n",
      "258:\tlearn: 1910.9393956\ttotal: 8.89s\tremaining: 3.12s\n",
      "259:\tlearn: 1910.5650383\ttotal: 8.92s\tremaining: 3.09s\n",
      "260:\tlearn: 1910.1768361\ttotal: 8.95s\tremaining: 3.05s\n",
      "261:\tlearn: 1909.7780827\ttotal: 8.98s\tremaining: 3.02s\n",
      "262:\tlearn: 1909.3210579\ttotal: 9.01s\tremaining: 2.98s\n",
      "263:\tlearn: 1908.8802052\ttotal: 9.03s\tremaining: 2.94s\n",
      "264:\tlearn: 1908.6440932\ttotal: 9.05s\tremaining: 2.9s\n",
      "265:\tlearn: 1908.1004119\ttotal: 9.07s\tremaining: 2.87s\n",
      "266:\tlearn: 1907.7316833\ttotal: 9.1s\tremaining: 2.83s\n",
      "267:\tlearn: 1907.3512382\ttotal: 9.13s\tremaining: 2.79s\n",
      "268:\tlearn: 1906.9439915\ttotal: 9.17s\tremaining: 2.76s\n",
      "269:\tlearn: 1906.5785319\ttotal: 9.2s\tremaining: 2.73s\n",
      "270:\tlearn: 1906.2121691\ttotal: 9.24s\tremaining: 2.69s\n",
      "271:\tlearn: 1905.5623022\ttotal: 9.28s\tremaining: 2.66s\n",
      "272:\tlearn: 1905.3936930\ttotal: 9.31s\tremaining: 2.63s\n",
      "273:\tlearn: 1905.1147972\ttotal: 9.34s\tremaining: 2.59s\n",
      "274:\tlearn: 1904.8356189\ttotal: 9.38s\tremaining: 2.56s\n",
      "275:\tlearn: 1904.5918865\ttotal: 9.41s\tremaining: 2.52s\n",
      "276:\tlearn: 1904.0785403\ttotal: 9.45s\tremaining: 2.49s\n",
      "277:\tlearn: 1903.6418941\ttotal: 9.47s\tremaining: 2.45s\n",
      "278:\tlearn: 1903.2587974\ttotal: 9.51s\tremaining: 2.42s\n",
      "279:\tlearn: 1902.9544329\ttotal: 9.54s\tremaining: 2.38s\n",
      "280:\tlearn: 1902.5991090\ttotal: 9.56s\tremaining: 2.35s\n",
      "281:\tlearn: 1902.1855081\ttotal: 9.6s\tremaining: 2.31s\n",
      "282:\tlearn: 1901.6149612\ttotal: 9.64s\tremaining: 2.28s\n",
      "283:\tlearn: 1901.4421404\ttotal: 9.67s\tremaining: 2.25s\n",
      "284:\tlearn: 1901.1704112\ttotal: 9.72s\tremaining: 2.22s\n",
      "285:\tlearn: 1900.7317589\ttotal: 9.75s\tremaining: 2.18s\n",
      "286:\tlearn: 1900.2832058\ttotal: 9.79s\tremaining: 2.15s\n",
      "287:\tlearn: 1899.9927276\ttotal: 9.82s\tremaining: 2.11s\n",
      "288:\tlearn: 1899.7370982\ttotal: 9.85s\tremaining: 2.08s\n",
      "289:\tlearn: 1899.3191846\ttotal: 9.89s\tremaining: 2.04s\n",
      "290:\tlearn: 1898.7814295\ttotal: 9.92s\tremaining: 2.01s\n",
      "291:\tlearn: 1898.5533165\ttotal: 9.96s\tremaining: 1.98s\n",
      "292:\tlearn: 1898.3458968\ttotal: 9.99s\tremaining: 1.94s\n",
      "293:\tlearn: 1898.1437602\ttotal: 10s\tremaining: 1.91s\n",
      "294:\tlearn: 1897.6640136\ttotal: 10.1s\tremaining: 1.87s\n",
      "295:\tlearn: 1897.4409397\ttotal: 10.1s\tremaining: 1.84s\n",
      "296:\tlearn: 1897.0855149\ttotal: 10.1s\tremaining: 1.8s\n",
      "297:\tlearn: 1896.8782495\ttotal: 10.1s\tremaining: 1.77s\n",
      "298:\tlearn: 1896.4877601\ttotal: 10.2s\tremaining: 1.74s\n",
      "299:\tlearn: 1896.0680857\ttotal: 10.2s\tremaining: 1.7s\n",
      "300:\tlearn: 1895.8102770\ttotal: 10.2s\tremaining: 1.67s\n",
      "301:\tlearn: 1895.5365779\ttotal: 10.3s\tremaining: 1.63s\n",
      "302:\tlearn: 1894.9579769\ttotal: 10.3s\tremaining: 1.6s\n",
      "303:\tlearn: 1894.6196831\ttotal: 10.3s\tremaining: 1.56s\n",
      "304:\tlearn: 1894.1880990\ttotal: 10.4s\tremaining: 1.53s\n",
      "305:\tlearn: 1893.8998283\ttotal: 10.4s\tremaining: 1.5s\n",
      "306:\tlearn: 1893.4131327\ttotal: 10.4s\tremaining: 1.46s\n",
      "307:\tlearn: 1893.0545004\ttotal: 10.5s\tremaining: 1.43s\n",
      "308:\tlearn: 1892.5971492\ttotal: 10.5s\tremaining: 1.39s\n",
      "309:\tlearn: 1892.4163334\ttotal: 10.5s\tremaining: 1.36s\n",
      "310:\tlearn: 1892.1262387\ttotal: 10.6s\tremaining: 1.32s\n",
      "311:\tlearn: 1891.8511887\ttotal: 10.6s\tremaining: 1.29s\n",
      "312:\tlearn: 1891.4709159\ttotal: 10.6s\tremaining: 1.25s\n",
      "313:\tlearn: 1890.9680339\ttotal: 10.6s\tremaining: 1.22s\n",
      "314:\tlearn: 1890.7921270\ttotal: 10.7s\tremaining: 1.19s\n",
      "315:\tlearn: 1890.5762929\ttotal: 10.7s\tremaining: 1.15s\n",
      "316:\tlearn: 1890.3954964\ttotal: 10.7s\tremaining: 1.12s\n",
      "317:\tlearn: 1890.0617144\ttotal: 10.8s\tremaining: 1.08s\n",
      "318:\tlearn: 1889.9052800\ttotal: 10.8s\tremaining: 1.05s\n",
      "319:\tlearn: 1889.8020020\ttotal: 10.8s\tremaining: 1.01s\n",
      "320:\tlearn: 1889.6219553\ttotal: 10.9s\tremaining: 982ms\n",
      "321:\tlearn: 1889.3444914\ttotal: 10.9s\tremaining: 948ms\n",
      "322:\tlearn: 1888.9537028\ttotal: 10.9s\tremaining: 914ms\n",
      "323:\tlearn: 1888.6642814\ttotal: 11s\tremaining: 880ms\n",
      "324:\tlearn: 1888.4450931\ttotal: 11s\tremaining: 846ms\n",
      "325:\tlearn: 1888.2362463\ttotal: 11s\tremaining: 812ms\n",
      "326:\tlearn: 1887.9319706\ttotal: 11.1s\tremaining: 778ms\n",
      "327:\tlearn: 1887.5133244\ttotal: 11.1s\tremaining: 744ms\n",
      "328:\tlearn: 1887.3367873\ttotal: 11.1s\tremaining: 710ms\n",
      "329:\tlearn: 1887.0865656\ttotal: 11.2s\tremaining: 676ms\n",
      "330:\tlearn: 1886.6024795\ttotal: 11.2s\tremaining: 643ms\n",
      "331:\tlearn: 1886.3906730\ttotal: 11.2s\tremaining: 608ms\n",
      "332:\tlearn: 1886.1549821\ttotal: 11.3s\tremaining: 575ms\n",
      "333:\tlearn: 1885.9338344\ttotal: 11.3s\tremaining: 541ms\n",
      "334:\tlearn: 1885.6113823\ttotal: 11.3s\tremaining: 507ms\n",
      "335:\tlearn: 1885.1885077\ttotal: 11.3s\tremaining: 473ms\n",
      "336:\tlearn: 1884.9637051\ttotal: 11.4s\tremaining: 439ms\n",
      "337:\tlearn: 1884.8279824\ttotal: 11.4s\tremaining: 405ms\n",
      "338:\tlearn: 1884.6272397\ttotal: 11.4s\tremaining: 371ms\n",
      "339:\tlearn: 1884.3791101\ttotal: 11.5s\tremaining: 338ms\n",
      "340:\tlearn: 1884.0855595\ttotal: 11.5s\tremaining: 304ms\n",
      "341:\tlearn: 1883.8776512\ttotal: 11.6s\tremaining: 270ms\n",
      "342:\tlearn: 1883.6108150\ttotal: 11.6s\tremaining: 236ms\n",
      "343:\tlearn: 1883.2815282\ttotal: 11.6s\tremaining: 202ms\n",
      "344:\tlearn: 1883.0791459\ttotal: 11.6s\tremaining: 169ms\n",
      "345:\tlearn: 1882.7239273\ttotal: 11.7s\tremaining: 135ms\n",
      "346:\tlearn: 1882.3478681\ttotal: 11.7s\tremaining: 101ms\n",
      "347:\tlearn: 1882.1812350\ttotal: 11.7s\tremaining: 67.5ms\n",
      "348:\tlearn: 1881.7943844\ttotal: 11.8s\tremaining: 33.7ms\n",
      "349:\tlearn: 1881.4357585\ttotal: 11.8s\tremaining: 0us\n",
      "0:\tlearn: 4400.8485450\ttotal: 38.7ms\tremaining: 13.5s\n",
      "1:\tlearn: 4318.9661643\ttotal: 76.4ms\tremaining: 13.3s\n",
      "2:\tlearn: 4240.3525460\ttotal: 109ms\tremaining: 12.6s\n",
      "3:\tlearn: 4165.1682780\ttotal: 144ms\tremaining: 12.5s\n",
      "4:\tlearn: 4093.5884362\ttotal: 184ms\tremaining: 12.7s\n",
      "5:\tlearn: 4023.3004805\ttotal: 216ms\tremaining: 12.4s\n",
      "6:\tlearn: 3955.4110771\ttotal: 253ms\tremaining: 12.4s\n",
      "7:\tlearn: 3889.7756624\ttotal: 287ms\tremaining: 12.3s\n",
      "8:\tlearn: 3825.9577934\ttotal: 326ms\tremaining: 12.3s\n",
      "9:\tlearn: 3762.3744959\ttotal: 366ms\tremaining: 12.4s\n",
      "10:\tlearn: 3702.5572120\ttotal: 399ms\tremaining: 12.3s\n",
      "11:\tlearn: 3646.1719257\ttotal: 433ms\tremaining: 12.2s\n",
      "12:\tlearn: 3590.7228925\ttotal: 468ms\tremaining: 12.1s\n",
      "13:\tlearn: 3536.9910886\ttotal: 503ms\tremaining: 12.1s\n",
      "14:\tlearn: 3486.1064378\ttotal: 539ms\tremaining: 12s\n",
      "15:\tlearn: 3435.1127702\ttotal: 584ms\tremaining: 12.2s\n",
      "16:\tlearn: 3384.7470086\ttotal: 620ms\tremaining: 12.1s\n",
      "17:\tlearn: 3338.4372353\ttotal: 652ms\tremaining: 12s\n",
      "18:\tlearn: 3294.4829489\ttotal: 689ms\tremaining: 12s\n",
      "19:\tlearn: 3251.4205409\ttotal: 724ms\tremaining: 12s\n",
      "20:\tlearn: 3209.8807943\ttotal: 765ms\tremaining: 12s\n",
      "21:\tlearn: 3168.3019702\ttotal: 799ms\tremaining: 11.9s\n",
      "22:\tlearn: 3129.0441872\ttotal: 832ms\tremaining: 11.8s\n",
      "23:\tlearn: 3091.5170898\ttotal: 867ms\tremaining: 11.8s\n",
      "24:\tlearn: 3054.7736625\ttotal: 902ms\tremaining: 11.7s\n",
      "25:\tlearn: 3019.5045204\ttotal: 939ms\tremaining: 11.7s\n",
      "26:\tlearn: 2985.2396517\ttotal: 980ms\tremaining: 11.7s\n",
      "27:\tlearn: 2952.2323477\ttotal: 1.02s\tremaining: 11.7s\n",
      "28:\tlearn: 2920.4711288\ttotal: 1.05s\tremaining: 11.6s\n",
      "29:\tlearn: 2890.4682416\ttotal: 1.08s\tremaining: 11.5s\n",
      "30:\tlearn: 2861.8106607\ttotal: 1.11s\tremaining: 11.5s\n",
      "31:\tlearn: 2832.5826860\ttotal: 1.15s\tremaining: 11.4s\n",
      "32:\tlearn: 2802.9839312\ttotal: 1.2s\tremaining: 11.5s\n",
      "33:\tlearn: 2776.6462357\ttotal: 1.24s\tremaining: 11.5s\n",
      "34:\tlearn: 2752.2035193\ttotal: 1.29s\tremaining: 11.6s\n",
      "35:\tlearn: 2725.8639837\ttotal: 1.32s\tremaining: 11.6s\n",
      "36:\tlearn: 2701.8815280\ttotal: 1.37s\tremaining: 11.6s\n",
      "37:\tlearn: 2679.1338719\ttotal: 1.42s\tremaining: 11.6s\n",
      "38:\tlearn: 2657.3403396\ttotal: 1.46s\tremaining: 11.6s\n",
      "39:\tlearn: 2636.5064497\ttotal: 1.49s\tremaining: 11.6s\n",
      "40:\tlearn: 2615.5809175\ttotal: 1.53s\tremaining: 11.6s\n",
      "41:\tlearn: 2595.5738527\ttotal: 1.58s\tremaining: 11.6s\n",
      "42:\tlearn: 2576.5936706\ttotal: 1.63s\tremaining: 11.6s\n",
      "43:\tlearn: 2558.0678275\ttotal: 1.69s\tremaining: 11.7s\n",
      "44:\tlearn: 2540.4298650\ttotal: 1.73s\tremaining: 11.7s\n",
      "45:\tlearn: 2523.6612502\ttotal: 1.78s\tremaining: 11.7s\n",
      "46:\tlearn: 2507.1189132\ttotal: 1.82s\tremaining: 11.8s\n",
      "47:\tlearn: 2491.5783855\ttotal: 1.87s\tremaining: 11.7s\n",
      "48:\tlearn: 2476.2553285\ttotal: 1.91s\tremaining: 11.7s\n",
      "49:\tlearn: 2460.8050602\ttotal: 1.95s\tremaining: 11.7s\n",
      "50:\tlearn: 2447.0454094\ttotal: 1.98s\tremaining: 11.6s\n",
      "51:\tlearn: 2432.9140574\ttotal: 2.01s\tremaining: 11.5s\n",
      "52:\tlearn: 2419.6344147\ttotal: 2.06s\tremaining: 11.5s\n",
      "53:\tlearn: 2406.6915251\ttotal: 2.1s\tremaining: 11.5s\n",
      "54:\tlearn: 2394.1169116\ttotal: 2.13s\tremaining: 11.4s\n",
      "55:\tlearn: 2382.2718709\ttotal: 2.16s\tremaining: 11.4s\n",
      "56:\tlearn: 2369.7994470\ttotal: 2.2s\tremaining: 11.3s\n",
      "57:\tlearn: 2358.3132324\ttotal: 2.23s\tremaining: 11.2s\n",
      "58:\tlearn: 2347.6466548\ttotal: 2.26s\tremaining: 11.1s\n",
      "59:\tlearn: 2336.6322211\ttotal: 2.29s\tremaining: 11.1s\n",
      "60:\tlearn: 2326.6898484\ttotal: 2.33s\tremaining: 11s\n",
      "61:\tlearn: 2315.6189898\ttotal: 2.37s\tremaining: 11s\n",
      "62:\tlearn: 2305.2180318\ttotal: 2.4s\tremaining: 10.9s\n",
      "63:\tlearn: 2293.4701383\ttotal: 2.43s\tremaining: 10.9s\n",
      "64:\tlearn: 2284.2632427\ttotal: 2.46s\tremaining: 10.8s\n",
      "65:\tlearn: 2274.4312474\ttotal: 2.5s\tremaining: 10.8s\n",
      "66:\tlearn: 2265.5768176\ttotal: 2.54s\tremaining: 10.7s\n",
      "67:\tlearn: 2255.4466476\ttotal: 2.57s\tremaining: 10.7s\n",
      "68:\tlearn: 2246.3641254\ttotal: 2.6s\tremaining: 10.6s\n",
      "69:\tlearn: 2237.9672137\ttotal: 2.64s\tremaining: 10.5s\n",
      "70:\tlearn: 2230.1791779\ttotal: 2.67s\tremaining: 10.5s\n",
      "71:\tlearn: 2222.5276281\ttotal: 2.71s\tremaining: 10.4s\n",
      "72:\tlearn: 2215.9961031\ttotal: 2.75s\tremaining: 10.4s\n",
      "73:\tlearn: 2208.3590330\ttotal: 2.77s\tremaining: 10.3s\n",
      "74:\tlearn: 2201.7918358\ttotal: 2.81s\tremaining: 10.3s\n",
      "75:\tlearn: 2195.2241326\ttotal: 2.84s\tremaining: 10.2s\n",
      "76:\tlearn: 2188.5882336\ttotal: 2.88s\tremaining: 10.2s\n",
      "77:\tlearn: 2182.8952249\ttotal: 2.92s\tremaining: 10.2s\n",
      "78:\tlearn: 2177.4111045\ttotal: 2.95s\tremaining: 10.1s\n",
      "79:\tlearn: 2171.5764067\ttotal: 2.99s\tremaining: 10.1s\n",
      "80:\tlearn: 2166.2950819\ttotal: 3.02s\tremaining: 10s\n",
      "81:\tlearn: 2161.3804678\ttotal: 3.06s\tremaining: 9.99s\n",
      "82:\tlearn: 2156.1038177\ttotal: 3.09s\tremaining: 9.93s\n",
      "83:\tlearn: 2150.5961075\ttotal: 3.13s\tremaining: 9.9s\n",
      "84:\tlearn: 2145.4563775\ttotal: 3.16s\tremaining: 9.85s\n",
      "85:\tlearn: 2139.8219501\ttotal: 3.19s\tremaining: 9.8s\n",
      "86:\tlearn: 2134.9356101\ttotal: 3.23s\tremaining: 9.75s\n",
      "87:\tlearn: 2129.9459475\ttotal: 3.26s\tremaining: 9.7s\n",
      "88:\tlearn: 2125.6040663\ttotal: 3.29s\tremaining: 9.65s\n",
      "89:\tlearn: 2121.6214706\ttotal: 3.33s\tremaining: 9.62s\n",
      "90:\tlearn: 2116.9056315\ttotal: 3.37s\tremaining: 9.6s\n",
      "91:\tlearn: 2112.8154731\ttotal: 3.4s\tremaining: 9.55s\n",
      "92:\tlearn: 2108.7203015\ttotal: 3.44s\tremaining: 9.51s\n",
      "93:\tlearn: 2104.7245728\ttotal: 3.48s\tremaining: 9.46s\n",
      "94:\tlearn: 2100.9914713\ttotal: 3.5s\tremaining: 9.41s\n",
      "95:\tlearn: 2097.4933188\ttotal: 3.54s\tremaining: 9.36s\n",
      "96:\tlearn: 2094.1214051\ttotal: 3.57s\tremaining: 9.31s\n",
      "97:\tlearn: 2090.5009763\ttotal: 3.6s\tremaining: 9.27s\n",
      "98:\tlearn: 2087.1387096\ttotal: 3.64s\tremaining: 9.23s\n",
      "99:\tlearn: 2083.7117801\ttotal: 3.67s\tremaining: 9.17s\n",
      "100:\tlearn: 2080.5729963\ttotal: 3.7s\tremaining: 9.11s\n",
      "101:\tlearn: 2077.3748211\ttotal: 3.73s\tremaining: 9.06s\n",
      "102:\tlearn: 2074.2107554\ttotal: 3.76s\tremaining: 9.02s\n",
      "103:\tlearn: 2071.1425572\ttotal: 3.8s\tremaining: 8.99s\n",
      "104:\tlearn: 2068.2215959\ttotal: 3.83s\tremaining: 8.95s\n",
      "105:\tlearn: 2065.1308164\ttotal: 3.87s\tremaining: 8.91s\n",
      "106:\tlearn: 2062.3504507\ttotal: 3.9s\tremaining: 8.86s\n",
      "107:\tlearn: 2059.4492293\ttotal: 3.94s\tremaining: 8.82s\n",
      "108:\tlearn: 2056.7994446\ttotal: 3.97s\tremaining: 8.78s\n",
      "109:\tlearn: 2054.2714618\ttotal: 4.01s\tremaining: 8.74s\n",
      "110:\tlearn: 2051.8606715\ttotal: 4.04s\tremaining: 8.71s\n",
      "111:\tlearn: 2049.3279946\ttotal: 4.08s\tremaining: 8.66s\n",
      "112:\tlearn: 2046.8759820\ttotal: 4.11s\tremaining: 8.62s\n",
      "113:\tlearn: 2044.7125432\ttotal: 4.14s\tremaining: 8.56s\n",
      "114:\tlearn: 2042.8281584\ttotal: 4.17s\tremaining: 8.52s\n",
      "115:\tlearn: 2040.5554740\ttotal: 4.21s\tremaining: 8.49s\n",
      "116:\tlearn: 2038.5231138\ttotal: 4.25s\tremaining: 8.46s\n",
      "117:\tlearn: 2036.6204313\ttotal: 4.28s\tremaining: 8.41s\n",
      "118:\tlearn: 2034.4506179\ttotal: 4.31s\tremaining: 8.37s\n",
      "119:\tlearn: 2032.2508440\ttotal: 4.35s\tremaining: 8.33s\n",
      "120:\tlearn: 2030.1304334\ttotal: 4.38s\tremaining: 8.28s\n",
      "121:\tlearn: 2028.3644763\ttotal: 4.41s\tremaining: 8.24s\n",
      "122:\tlearn: 2026.4414932\ttotal: 4.45s\tremaining: 8.21s\n",
      "123:\tlearn: 2024.4686035\ttotal: 4.48s\tremaining: 8.17s\n",
      "124:\tlearn: 2022.6671049\ttotal: 4.52s\tremaining: 8.13s\n",
      "125:\tlearn: 2020.8161135\ttotal: 4.55s\tremaining: 8.08s\n",
      "126:\tlearn: 2018.9355331\ttotal: 4.57s\tremaining: 8.03s\n",
      "127:\tlearn: 2017.2011119\ttotal: 4.6s\tremaining: 7.99s\n",
      "128:\tlearn: 2015.0602374\ttotal: 4.64s\tremaining: 7.95s\n",
      "129:\tlearn: 2013.5926845\ttotal: 4.67s\tremaining: 7.91s\n",
      "130:\tlearn: 2012.3876871\ttotal: 4.71s\tremaining: 7.87s\n",
      "131:\tlearn: 2010.7621163\ttotal: 4.74s\tremaining: 7.83s\n",
      "132:\tlearn: 2008.8636557\ttotal: 4.77s\tremaining: 7.79s\n",
      "133:\tlearn: 2007.3373753\ttotal: 4.81s\tremaining: 7.75s\n",
      "134:\tlearn: 2005.8820746\ttotal: 4.83s\tremaining: 7.7s\n",
      "135:\tlearn: 2004.3379772\ttotal: 4.87s\tremaining: 7.66s\n",
      "136:\tlearn: 2002.7425105\ttotal: 4.91s\tremaining: 7.63s\n",
      "137:\tlearn: 2001.4387159\ttotal: 4.94s\tremaining: 7.59s\n",
      "138:\tlearn: 2000.1399552\ttotal: 4.97s\tremaining: 7.54s\n",
      "139:\tlearn: 1998.9537350\ttotal: 5s\tremaining: 7.51s\n",
      "140:\tlearn: 1997.3979106\ttotal: 5.04s\tremaining: 7.47s\n",
      "141:\tlearn: 1995.9035386\ttotal: 5.07s\tremaining: 7.43s\n",
      "142:\tlearn: 1994.7427126\ttotal: 5.1s\tremaining: 7.38s\n",
      "143:\tlearn: 1993.6838968\ttotal: 5.13s\tremaining: 7.34s\n",
      "144:\tlearn: 1992.4948658\ttotal: 5.17s\tremaining: 7.3s\n",
      "145:\tlearn: 1991.3977896\ttotal: 5.19s\tremaining: 7.25s\n",
      "146:\tlearn: 1990.0380502\ttotal: 5.22s\tremaining: 7.21s\n",
      "147:\tlearn: 1988.8422256\ttotal: 5.25s\tremaining: 7.16s\n",
      "148:\tlearn: 1987.4877479\ttotal: 5.28s\tremaining: 7.12s\n",
      "149:\tlearn: 1986.2280232\ttotal: 5.31s\tremaining: 7.07s\n",
      "150:\tlearn: 1985.0811393\ttotal: 5.34s\tremaining: 7.03s\n",
      "151:\tlearn: 1983.9941042\ttotal: 5.37s\tremaining: 6.99s\n",
      "152:\tlearn: 1983.1320007\ttotal: 5.39s\tremaining: 6.94s\n",
      "153:\tlearn: 1982.0457075\ttotal: 5.42s\tremaining: 6.9s\n",
      "154:\tlearn: 1980.9907067\ttotal: 5.45s\tremaining: 6.86s\n",
      "155:\tlearn: 1979.8147077\ttotal: 5.48s\tremaining: 6.81s\n",
      "156:\tlearn: 1978.8700981\ttotal: 5.51s\tremaining: 6.78s\n",
      "157:\tlearn: 1977.8070385\ttotal: 5.55s\tremaining: 6.75s\n",
      "158:\tlearn: 1976.6531431\ttotal: 5.58s\tremaining: 6.71s\n",
      "159:\tlearn: 1975.5617265\ttotal: 5.62s\tremaining: 6.67s\n",
      "160:\tlearn: 1974.4310130\ttotal: 5.65s\tremaining: 6.63s\n",
      "161:\tlearn: 1973.4250438\ttotal: 5.68s\tremaining: 6.6s\n",
      "162:\tlearn: 1972.6301926\ttotal: 5.72s\tremaining: 6.56s\n",
      "163:\tlearn: 1971.5436820\ttotal: 5.75s\tremaining: 6.52s\n",
      "164:\tlearn: 1970.5473640\ttotal: 5.78s\tremaining: 6.47s\n",
      "165:\tlearn: 1969.9290100\ttotal: 5.81s\tremaining: 6.44s\n",
      "166:\tlearn: 1969.1959876\ttotal: 5.83s\tremaining: 6.39s\n",
      "167:\tlearn: 1968.2418647\ttotal: 5.86s\tremaining: 6.35s\n",
      "168:\tlearn: 1967.4461017\ttotal: 5.89s\tremaining: 6.31s\n",
      "169:\tlearn: 1966.4073123\ttotal: 5.92s\tremaining: 6.27s\n",
      "170:\tlearn: 1965.4022802\ttotal: 5.95s\tremaining: 6.23s\n",
      "171:\tlearn: 1964.5125830\ttotal: 5.99s\tremaining: 6.2s\n",
      "172:\tlearn: 1963.6058589\ttotal: 6.02s\tremaining: 6.16s\n",
      "173:\tlearn: 1962.9683050\ttotal: 6.04s\tremaining: 6.11s\n",
      "174:\tlearn: 1961.8660230\ttotal: 6.07s\tremaining: 6.07s\n",
      "175:\tlearn: 1961.0099911\ttotal: 6.1s\tremaining: 6.03s\n",
      "176:\tlearn: 1960.1378250\ttotal: 6.13s\tremaining: 5.99s\n",
      "177:\tlearn: 1959.1636563\ttotal: 6.16s\tremaining: 5.96s\n",
      "178:\tlearn: 1958.4683124\ttotal: 6.19s\tremaining: 5.91s\n",
      "179:\tlearn: 1957.5357144\ttotal: 6.22s\tremaining: 5.87s\n",
      "180:\tlearn: 1956.9510554\ttotal: 6.24s\tremaining: 5.83s\n",
      "181:\tlearn: 1956.2044159\ttotal: 6.27s\tremaining: 5.79s\n",
      "182:\tlearn: 1955.7969786\ttotal: 6.3s\tremaining: 5.75s\n",
      "183:\tlearn: 1955.3507458\ttotal: 6.32s\tremaining: 5.71s\n",
      "184:\tlearn: 1954.6424004\ttotal: 6.36s\tremaining: 5.67s\n",
      "185:\tlearn: 1954.1271093\ttotal: 6.38s\tremaining: 5.62s\n",
      "186:\tlearn: 1953.5915277\ttotal: 6.41s\tremaining: 5.59s\n",
      "187:\tlearn: 1952.4877839\ttotal: 6.45s\tremaining: 5.56s\n",
      "188:\tlearn: 1951.9673559\ttotal: 6.49s\tremaining: 5.53s\n",
      "189:\tlearn: 1951.2423623\ttotal: 6.51s\tremaining: 5.48s\n",
      "190:\tlearn: 1950.4461276\ttotal: 6.54s\tremaining: 5.44s\n",
      "191:\tlearn: 1949.5926533\ttotal: 6.57s\tremaining: 5.41s\n",
      "192:\tlearn: 1948.9522022\ttotal: 6.61s\tremaining: 5.38s\n",
      "193:\tlearn: 1948.2544785\ttotal: 6.64s\tremaining: 5.34s\n",
      "194:\tlearn: 1947.7484802\ttotal: 6.68s\tremaining: 5.31s\n",
      "195:\tlearn: 1946.8287383\ttotal: 6.72s\tremaining: 5.28s\n",
      "196:\tlearn: 1946.2617736\ttotal: 6.75s\tremaining: 5.24s\n",
      "197:\tlearn: 1945.5214358\ttotal: 6.78s\tremaining: 5.21s\n",
      "198:\tlearn: 1945.0293160\ttotal: 6.81s\tremaining: 5.17s\n",
      "199:\tlearn: 1944.2987827\ttotal: 6.83s\tremaining: 5.13s\n",
      "200:\tlearn: 1943.9156527\ttotal: 6.86s\tremaining: 5.08s\n",
      "201:\tlearn: 1943.3000359\ttotal: 6.89s\tremaining: 5.05s\n",
      "202:\tlearn: 1942.8345403\ttotal: 6.93s\tremaining: 5.02s\n",
      "203:\tlearn: 1942.0289295\ttotal: 6.96s\tremaining: 4.98s\n",
      "204:\tlearn: 1941.4409309\ttotal: 6.99s\tremaining: 4.95s\n",
      "205:\tlearn: 1940.6350109\ttotal: 7.02s\tremaining: 4.91s\n",
      "206:\tlearn: 1940.1020373\ttotal: 7.06s\tremaining: 4.88s\n",
      "207:\tlearn: 1939.7326099\ttotal: 7.09s\tremaining: 4.84s\n",
      "208:\tlearn: 1939.0559602\ttotal: 7.13s\tremaining: 4.81s\n",
      "209:\tlearn: 1938.6108550\ttotal: 7.16s\tremaining: 4.78s\n",
      "210:\tlearn: 1937.6698242\ttotal: 7.2s\tremaining: 4.74s\n",
      "211:\tlearn: 1937.1283231\ttotal: 7.23s\tremaining: 4.71s\n",
      "212:\tlearn: 1936.5603497\ttotal: 7.26s\tremaining: 4.67s\n",
      "213:\tlearn: 1936.1267953\ttotal: 7.3s\tremaining: 4.64s\n",
      "214:\tlearn: 1935.7981111\ttotal: 7.32s\tremaining: 4.6s\n",
      "215:\tlearn: 1935.4050798\ttotal: 7.36s\tremaining: 4.56s\n",
      "216:\tlearn: 1934.9050108\ttotal: 7.38s\tremaining: 4.53s\n",
      "217:\tlearn: 1934.3310595\ttotal: 7.42s\tremaining: 4.49s\n",
      "218:\tlearn: 1933.7855146\ttotal: 7.44s\tremaining: 4.45s\n",
      "219:\tlearn: 1933.3866886\ttotal: 7.46s\tremaining: 4.41s\n",
      "220:\tlearn: 1932.7368775\ttotal: 7.5s\tremaining: 4.38s\n",
      "221:\tlearn: 1932.2148008\ttotal: 7.53s\tremaining: 4.34s\n",
      "222:\tlearn: 1931.6916390\ttotal: 7.57s\tremaining: 4.31s\n",
      "223:\tlearn: 1931.0466318\ttotal: 7.61s\tremaining: 4.28s\n",
      "224:\tlearn: 1930.2649515\ttotal: 7.64s\tremaining: 4.25s\n",
      "225:\tlearn: 1929.5714661\ttotal: 7.67s\tremaining: 4.21s\n",
      "226:\tlearn: 1929.0986265\ttotal: 7.7s\tremaining: 4.17s\n",
      "227:\tlearn: 1928.3037655\ttotal: 7.73s\tremaining: 4.14s\n",
      "228:\tlearn: 1927.7849141\ttotal: 7.76s\tremaining: 4.1s\n",
      "229:\tlearn: 1927.2817481\ttotal: 7.79s\tremaining: 4.06s\n",
      "230:\tlearn: 1926.4316720\ttotal: 7.82s\tremaining: 4.03s\n",
      "231:\tlearn: 1926.0827677\ttotal: 7.86s\tremaining: 4s\n",
      "232:\tlearn: 1925.5032400\ttotal: 7.88s\tremaining: 3.96s\n",
      "233:\tlearn: 1925.1262177\ttotal: 7.92s\tremaining: 3.92s\n",
      "234:\tlearn: 1924.5439856\ttotal: 7.94s\tremaining: 3.89s\n",
      "235:\tlearn: 1924.0819028\ttotal: 7.97s\tremaining: 3.85s\n",
      "236:\tlearn: 1923.4363903\ttotal: 7.99s\tremaining: 3.81s\n",
      "237:\tlearn: 1923.0845985\ttotal: 8.03s\tremaining: 3.78s\n",
      "238:\tlearn: 1922.8039358\ttotal: 8.06s\tremaining: 3.74s\n",
      "239:\tlearn: 1922.5397326\ttotal: 8.09s\tremaining: 3.71s\n",
      "240:\tlearn: 1922.0800413\ttotal: 8.12s\tremaining: 3.67s\n",
      "241:\tlearn: 1921.6379395\ttotal: 8.15s\tremaining: 3.64s\n",
      "242:\tlearn: 1921.2259935\ttotal: 8.18s\tremaining: 3.6s\n",
      "243:\tlearn: 1920.5738230\ttotal: 8.21s\tremaining: 3.57s\n",
      "244:\tlearn: 1920.2589304\ttotal: 8.24s\tremaining: 3.53s\n",
      "245:\tlearn: 1919.9087574\ttotal: 8.28s\tremaining: 3.5s\n",
      "246:\tlearn: 1919.3568168\ttotal: 8.3s\tremaining: 3.46s\n",
      "247:\tlearn: 1918.9641588\ttotal: 8.33s\tremaining: 3.43s\n",
      "248:\tlearn: 1918.6422233\ttotal: 8.36s\tremaining: 3.39s\n",
      "249:\tlearn: 1918.0471557\ttotal: 8.4s\tremaining: 3.36s\n",
      "250:\tlearn: 1917.6280876\ttotal: 8.43s\tremaining: 3.32s\n",
      "251:\tlearn: 1917.2918748\ttotal: 8.46s\tremaining: 3.29s\n",
      "252:\tlearn: 1917.0635881\ttotal: 8.48s\tremaining: 3.25s\n",
      "253:\tlearn: 1916.4943250\ttotal: 8.52s\tremaining: 3.22s\n",
      "254:\tlearn: 1916.1190471\ttotal: 8.55s\tremaining: 3.19s\n",
      "255:\tlearn: 1915.8557077\ttotal: 8.58s\tremaining: 3.15s\n",
      "256:\tlearn: 1915.1999815\ttotal: 8.62s\tremaining: 3.12s\n",
      "257:\tlearn: 1914.8096859\ttotal: 8.65s\tremaining: 3.08s\n",
      "258:\tlearn: 1914.2870899\ttotal: 8.68s\tremaining: 3.05s\n",
      "259:\tlearn: 1913.9205767\ttotal: 8.7s\tremaining: 3.01s\n",
      "260:\tlearn: 1913.3195167\ttotal: 8.74s\tremaining: 2.98s\n",
      "261:\tlearn: 1913.0102468\ttotal: 8.77s\tremaining: 2.95s\n",
      "262:\tlearn: 1912.5007381\ttotal: 8.8s\tremaining: 2.91s\n",
      "263:\tlearn: 1912.1405232\ttotal: 8.83s\tremaining: 2.88s\n",
      "264:\tlearn: 1911.8657226\ttotal: 8.86s\tremaining: 2.84s\n",
      "265:\tlearn: 1911.2850817\ttotal: 8.9s\tremaining: 2.81s\n",
      "266:\tlearn: 1910.9524783\ttotal: 8.92s\tremaining: 2.77s\n",
      "267:\tlearn: 1910.4459621\ttotal: 8.96s\tremaining: 2.74s\n",
      "268:\tlearn: 1910.1686502\ttotal: 8.99s\tremaining: 2.71s\n",
      "269:\tlearn: 1909.7091784\ttotal: 9.01s\tremaining: 2.67s\n",
      "270:\tlearn: 1909.4805422\ttotal: 9.04s\tremaining: 2.63s\n",
      "271:\tlearn: 1909.2278954\ttotal: 9.06s\tremaining: 2.6s\n",
      "272:\tlearn: 1908.7970318\ttotal: 9.1s\tremaining: 2.57s\n",
      "273:\tlearn: 1908.5879615\ttotal: 9.13s\tremaining: 2.53s\n",
      "274:\tlearn: 1908.2895235\ttotal: 9.16s\tremaining: 2.5s\n",
      "275:\tlearn: 1907.8055079\ttotal: 9.2s\tremaining: 2.47s\n",
      "276:\tlearn: 1907.3416171\ttotal: 9.23s\tremaining: 2.43s\n",
      "277:\tlearn: 1906.7958496\ttotal: 9.27s\tremaining: 2.4s\n",
      "278:\tlearn: 1906.3363655\ttotal: 9.3s\tremaining: 2.37s\n",
      "279:\tlearn: 1906.1490111\ttotal: 9.34s\tremaining: 2.33s\n",
      "280:\tlearn: 1905.8576265\ttotal: 9.37s\tremaining: 2.3s\n",
      "281:\tlearn: 1905.4680203\ttotal: 9.41s\tremaining: 2.27s\n",
      "282:\tlearn: 1905.2025272\ttotal: 9.44s\tremaining: 2.23s\n",
      "283:\tlearn: 1904.6152944\ttotal: 9.47s\tremaining: 2.2s\n",
      "284:\tlearn: 1904.2890395\ttotal: 9.5s\tremaining: 2.17s\n",
      "285:\tlearn: 1903.8300251\ttotal: 9.53s\tremaining: 2.13s\n",
      "286:\tlearn: 1903.3857964\ttotal: 9.56s\tremaining: 2.1s\n",
      "287:\tlearn: 1903.0302093\ttotal: 9.59s\tremaining: 2.06s\n",
      "288:\tlearn: 1902.7207024\ttotal: 9.62s\tremaining: 2.03s\n",
      "289:\tlearn: 1902.5422788\ttotal: 9.65s\tremaining: 2s\n",
      "290:\tlearn: 1902.2447771\ttotal: 9.69s\tremaining: 1.96s\n",
      "291:\tlearn: 1902.0852839\ttotal: 9.72s\tremaining: 1.93s\n",
      "292:\tlearn: 1901.7665617\ttotal: 9.74s\tremaining: 1.9s\n",
      "293:\tlearn: 1901.1897850\ttotal: 9.78s\tremaining: 1.86s\n",
      "294:\tlearn: 1900.9353777\ttotal: 9.81s\tremaining: 1.83s\n",
      "295:\tlearn: 1900.4087497\ttotal: 9.85s\tremaining: 1.8s\n",
      "296:\tlearn: 1900.2233473\ttotal: 9.88s\tremaining: 1.76s\n",
      "297:\tlearn: 1899.8284003\ttotal: 9.91s\tremaining: 1.73s\n",
      "298:\tlearn: 1899.3622085\ttotal: 9.94s\tremaining: 1.7s\n",
      "299:\tlearn: 1898.8387637\ttotal: 9.98s\tremaining: 1.66s\n",
      "300:\tlearn: 1898.4190486\ttotal: 10s\tremaining: 1.63s\n",
      "301:\tlearn: 1897.9934527\ttotal: 10s\tremaining: 1.59s\n",
      "302:\tlearn: 1897.7294271\ttotal: 10.1s\tremaining: 1.56s\n",
      "303:\tlearn: 1897.3234759\ttotal: 10.1s\tremaining: 1.53s\n",
      "304:\tlearn: 1897.1564588\ttotal: 10.1s\tremaining: 1.49s\n",
      "305:\tlearn: 1896.8497952\ttotal: 10.2s\tremaining: 1.46s\n",
      "306:\tlearn: 1896.6512565\ttotal: 10.2s\tremaining: 1.43s\n",
      "307:\tlearn: 1896.4873389\ttotal: 10.2s\tremaining: 1.39s\n",
      "308:\tlearn: 1896.1301954\ttotal: 10.2s\tremaining: 1.36s\n",
      "309:\tlearn: 1895.8914424\ttotal: 10.3s\tremaining: 1.32s\n",
      "310:\tlearn: 1895.5980343\ttotal: 10.3s\tremaining: 1.29s\n",
      "311:\tlearn: 1895.2438239\ttotal: 10.3s\tremaining: 1.26s\n",
      "312:\tlearn: 1894.8969215\ttotal: 10.4s\tremaining: 1.23s\n",
      "313:\tlearn: 1894.6878612\ttotal: 10.4s\tremaining: 1.19s\n",
      "314:\tlearn: 1894.5187649\ttotal: 10.4s\tremaining: 1.16s\n",
      "315:\tlearn: 1894.3980811\ttotal: 10.5s\tremaining: 1.13s\n",
      "316:\tlearn: 1894.1072693\ttotal: 10.5s\tremaining: 1.09s\n",
      "317:\tlearn: 1893.7369665\ttotal: 10.5s\tremaining: 1.06s\n",
      "318:\tlearn: 1893.4816615\ttotal: 10.6s\tremaining: 1.03s\n",
      "319:\tlearn: 1893.3051612\ttotal: 10.6s\tremaining: 995ms\n",
      "320:\tlearn: 1892.9650516\ttotal: 10.6s\tremaining: 961ms\n",
      "321:\tlearn: 1892.5691105\ttotal: 10.7s\tremaining: 928ms\n",
      "322:\tlearn: 1892.2645617\ttotal: 10.7s\tremaining: 895ms\n",
      "323:\tlearn: 1891.9891286\ttotal: 10.7s\tremaining: 862ms\n",
      "324:\tlearn: 1891.4567133\ttotal: 10.8s\tremaining: 829ms\n",
      "325:\tlearn: 1891.0238261\ttotal: 10.8s\tremaining: 796ms\n",
      "326:\tlearn: 1890.7761833\ttotal: 10.8s\tremaining: 762ms\n",
      "327:\tlearn: 1890.3856151\ttotal: 10.9s\tremaining: 729ms\n",
      "328:\tlearn: 1890.1165217\ttotal: 10.9s\tremaining: 696ms\n",
      "329:\tlearn: 1889.8010875\ttotal: 10.9s\tremaining: 663ms\n",
      "330:\tlearn: 1889.4622364\ttotal: 11s\tremaining: 629ms\n",
      "331:\tlearn: 1889.1328813\ttotal: 11s\tremaining: 596ms\n",
      "332:\tlearn: 1888.8408486\ttotal: 11s\tremaining: 563ms\n",
      "333:\tlearn: 1888.5798989\ttotal: 11s\tremaining: 529ms\n",
      "334:\tlearn: 1888.3474772\ttotal: 11.1s\tremaining: 496ms\n",
      "335:\tlearn: 1888.0327775\ttotal: 11.1s\tremaining: 463ms\n",
      "336:\tlearn: 1887.7634390\ttotal: 11.1s\tremaining: 430ms\n",
      "337:\tlearn: 1887.5808786\ttotal: 11.2s\tremaining: 397ms\n",
      "338:\tlearn: 1887.3663214\ttotal: 11.2s\tremaining: 364ms\n",
      "339:\tlearn: 1886.9267339\ttotal: 11.2s\tremaining: 331ms\n",
      "340:\tlearn: 1886.7613297\ttotal: 11.3s\tremaining: 298ms\n",
      "341:\tlearn: 1886.5264001\ttotal: 11.3s\tremaining: 265ms\n",
      "342:\tlearn: 1886.3084407\ttotal: 11.3s\tremaining: 231ms\n",
      "343:\tlearn: 1886.0943225\ttotal: 11.4s\tremaining: 198ms\n",
      "344:\tlearn: 1885.5261558\ttotal: 11.4s\tremaining: 165ms\n",
      "345:\tlearn: 1885.1019892\ttotal: 11.4s\tremaining: 132ms\n",
      "346:\tlearn: 1884.8377946\ttotal: 11.5s\tremaining: 99.1ms\n",
      "347:\tlearn: 1884.6999684\ttotal: 11.5s\tremaining: 66.1ms\n",
      "348:\tlearn: 1884.3675092\ttotal: 11.5s\tremaining: 33ms\n",
      "349:\tlearn: 1884.1269657\ttotal: 11.6s\tremaining: 0us\n",
      "0:\tlearn: 4389.8169401\ttotal: 37.8ms\tremaining: 18.9s\n",
      "1:\tlearn: 4309.6355597\ttotal: 75.4ms\tremaining: 18.8s\n",
      "2:\tlearn: 4232.7080256\ttotal: 108ms\tremaining: 17.9s\n",
      "3:\tlearn: 4157.4044859\ttotal: 141ms\tremaining: 17.4s\n",
      "4:\tlearn: 4086.3116658\ttotal: 179ms\tremaining: 17.7s\n",
      "5:\tlearn: 4016.8589503\ttotal: 210ms\tremaining: 17.3s\n",
      "6:\tlearn: 3950.7437107\ttotal: 241ms\tremaining: 17s\n",
      "7:\tlearn: 3883.7509823\ttotal: 275ms\tremaining: 16.9s\n",
      "8:\tlearn: 3819.3933728\ttotal: 310ms\tremaining: 16.9s\n",
      "9:\tlearn: 3756.3546250\ttotal: 350ms\tremaining: 17.2s\n",
      "10:\tlearn: 3695.8108326\ttotal: 384ms\tremaining: 17.1s\n",
      "11:\tlearn: 3637.8389015\ttotal: 416ms\tremaining: 16.9s\n",
      "12:\tlearn: 3581.4009829\ttotal: 450ms\tremaining: 16.9s\n",
      "13:\tlearn: 3527.5698995\ttotal: 484ms\tremaining: 16.8s\n",
      "14:\tlearn: 3476.9304579\ttotal: 517ms\tremaining: 16.7s\n",
      "15:\tlearn: 3425.1103511\ttotal: 558ms\tremaining: 16.9s\n",
      "16:\tlearn: 3375.4841293\ttotal: 596ms\tremaining: 16.9s\n",
      "17:\tlearn: 3328.9089615\ttotal: 631ms\tremaining: 16.9s\n",
      "18:\tlearn: 3283.6930835\ttotal: 665ms\tremaining: 16.8s\n",
      "19:\tlearn: 3240.0279688\ttotal: 700ms\tremaining: 16.8s\n",
      "20:\tlearn: 3198.4165268\ttotal: 740ms\tremaining: 16.9s\n",
      "21:\tlearn: 3157.2654985\ttotal: 780ms\tremaining: 17s\n",
      "22:\tlearn: 3116.9413022\ttotal: 819ms\tremaining: 17s\n",
      "23:\tlearn: 3079.6472349\ttotal: 852ms\tremaining: 16.9s\n",
      "24:\tlearn: 3043.3604114\ttotal: 886ms\tremaining: 16.8s\n",
      "25:\tlearn: 3006.0471254\ttotal: 925ms\tremaining: 16.9s\n",
      "26:\tlearn: 2972.8892865\ttotal: 958ms\tremaining: 16.8s\n",
      "27:\tlearn: 2940.9596508\ttotal: 998ms\tremaining: 16.8s\n",
      "28:\tlearn: 2909.5174444\ttotal: 1.03s\tremaining: 16.8s\n",
      "29:\tlearn: 2879.0210683\ttotal: 1.06s\tremaining: 16.7s\n",
      "30:\tlearn: 2850.4455092\ttotal: 1.1s\tremaining: 16.6s\n",
      "31:\tlearn: 2821.4766260\ttotal: 1.13s\tremaining: 16.6s\n",
      "32:\tlearn: 2794.1763232\ttotal: 1.17s\tremaining: 16.6s\n",
      "33:\tlearn: 2767.7942825\ttotal: 1.2s\tremaining: 16.5s\n",
      "34:\tlearn: 2742.4730016\ttotal: 1.24s\tremaining: 16.5s\n",
      "35:\tlearn: 2718.1806046\ttotal: 1.27s\tremaining: 16.4s\n",
      "36:\tlearn: 2695.6453465\ttotal: 1.31s\tremaining: 16.3s\n",
      "37:\tlearn: 2674.1914317\ttotal: 1.34s\tremaining: 16.3s\n",
      "38:\tlearn: 2652.9896663\ttotal: 1.37s\tremaining: 16.2s\n",
      "39:\tlearn: 2631.6941091\ttotal: 1.41s\tremaining: 16.2s\n",
      "40:\tlearn: 2610.9167066\ttotal: 1.44s\tremaining: 16.1s\n",
      "41:\tlearn: 2591.5649081\ttotal: 1.48s\tremaining: 16.1s\n",
      "42:\tlearn: 2572.3775858\ttotal: 1.51s\tremaining: 16s\n",
      "43:\tlearn: 2554.3553501\ttotal: 1.54s\tremaining: 15.9s\n",
      "44:\tlearn: 2536.2038731\ttotal: 1.57s\tremaining: 15.9s\n",
      "45:\tlearn: 2519.1342169\ttotal: 1.61s\tremaining: 15.8s\n",
      "46:\tlearn: 2503.1914497\ttotal: 1.64s\tremaining: 15.8s\n",
      "47:\tlearn: 2488.0324377\ttotal: 1.68s\tremaining: 15.8s\n",
      "48:\tlearn: 2472.6017111\ttotal: 1.71s\tremaining: 15.8s\n",
      "49:\tlearn: 2458.2590614\ttotal: 1.75s\tremaining: 15.7s\n",
      "50:\tlearn: 2442.8944228\ttotal: 1.78s\tremaining: 15.6s\n",
      "51:\tlearn: 2428.7523988\ttotal: 1.81s\tremaining: 15.6s\n",
      "52:\tlearn: 2415.5163182\ttotal: 1.84s\tremaining: 15.5s\n",
      "53:\tlearn: 2403.0203449\ttotal: 1.88s\tremaining: 15.5s\n",
      "54:\tlearn: 2389.7063591\ttotal: 1.91s\tremaining: 15.4s\n",
      "55:\tlearn: 2378.1987099\ttotal: 1.95s\tremaining: 15.5s\n",
      "56:\tlearn: 2367.4029753\ttotal: 1.98s\tremaining: 15.4s\n",
      "57:\tlearn: 2356.4233492\ttotal: 2.01s\tremaining: 15.3s\n",
      "58:\tlearn: 2345.9964204\ttotal: 2.04s\tremaining: 15.3s\n",
      "59:\tlearn: 2334.3553505\ttotal: 2.08s\tremaining: 15.3s\n",
      "60:\tlearn: 2323.6750021\ttotal: 2.12s\tremaining: 15.3s\n",
      "61:\tlearn: 2313.9704401\ttotal: 2.16s\tremaining: 15.2s\n",
      "62:\tlearn: 2304.1060652\ttotal: 2.19s\tremaining: 15.2s\n",
      "63:\tlearn: 2293.4232969\ttotal: 2.23s\tremaining: 15.2s\n",
      "64:\tlearn: 2284.6296062\ttotal: 2.26s\tremaining: 15.1s\n",
      "65:\tlearn: 2274.5699964\ttotal: 2.29s\tremaining: 15.1s\n",
      "66:\tlearn: 2264.8775962\ttotal: 2.32s\tremaining: 15s\n",
      "67:\tlearn: 2256.5887093\ttotal: 2.36s\tremaining: 15s\n",
      "68:\tlearn: 2247.8206065\ttotal: 2.4s\tremaining: 15s\n",
      "69:\tlearn: 2239.5050207\ttotal: 2.43s\tremaining: 14.9s\n",
      "70:\tlearn: 2231.3435538\ttotal: 2.46s\tremaining: 14.9s\n",
      "71:\tlearn: 2223.1629091\ttotal: 2.49s\tremaining: 14.8s\n",
      "72:\tlearn: 2215.3692496\ttotal: 2.52s\tremaining: 14.8s\n",
      "73:\tlearn: 2208.2755274\ttotal: 2.56s\tremaining: 14.8s\n",
      "74:\tlearn: 2201.1180091\ttotal: 2.6s\tremaining: 14.7s\n",
      "75:\tlearn: 2194.0602961\ttotal: 2.63s\tremaining: 14.7s\n",
      "76:\tlearn: 2187.5468027\ttotal: 2.66s\tremaining: 14.6s\n",
      "77:\tlearn: 2181.2175667\ttotal: 2.7s\tremaining: 14.6s\n",
      "78:\tlearn: 2174.8781396\ttotal: 2.73s\tremaining: 14.5s\n",
      "79:\tlearn: 2168.7816847\ttotal: 2.76s\tremaining: 14.5s\n",
      "80:\tlearn: 2163.0053201\ttotal: 2.8s\tremaining: 14.5s\n",
      "81:\tlearn: 2157.2099786\ttotal: 2.86s\tremaining: 14.6s\n",
      "82:\tlearn: 2151.6718664\ttotal: 2.89s\tremaining: 14.5s\n",
      "83:\tlearn: 2146.3836636\ttotal: 2.92s\tremaining: 14.5s\n",
      "84:\tlearn: 2141.2382771\ttotal: 2.96s\tremaining: 14.4s\n",
      "85:\tlearn: 2136.3604407\ttotal: 2.99s\tremaining: 14.4s\n",
      "86:\tlearn: 2131.2018249\ttotal: 3.02s\tremaining: 14.4s\n",
      "87:\tlearn: 2126.2149737\ttotal: 3.06s\tremaining: 14.3s\n",
      "88:\tlearn: 2121.2172340\ttotal: 3.1s\tremaining: 14.3s\n",
      "89:\tlearn: 2117.1803995\ttotal: 3.13s\tremaining: 14.2s\n",
      "90:\tlearn: 2112.5647448\ttotal: 3.16s\tremaining: 14.2s\n",
      "91:\tlearn: 2108.5330133\ttotal: 3.19s\tremaining: 14.1s\n",
      "92:\tlearn: 2104.1729037\ttotal: 3.22s\tremaining: 14.1s\n",
      "93:\tlearn: 2100.1380110\ttotal: 3.26s\tremaining: 14.1s\n",
      "94:\tlearn: 2095.5388061\ttotal: 3.29s\tremaining: 14s\n",
      "95:\tlearn: 2091.7603550\ttotal: 3.33s\tremaining: 14s\n",
      "96:\tlearn: 2087.9141890\ttotal: 3.36s\tremaining: 14s\n",
      "97:\tlearn: 2084.2632845\ttotal: 3.39s\tremaining: 13.9s\n",
      "98:\tlearn: 2081.0176840\ttotal: 3.42s\tremaining: 13.9s\n",
      "99:\tlearn: 2077.9052482\ttotal: 3.46s\tremaining: 13.8s\n",
      "100:\tlearn: 2074.6336508\ttotal: 3.5s\tremaining: 13.8s\n",
      "101:\tlearn: 2071.3771021\ttotal: 3.53s\tremaining: 13.8s\n",
      "102:\tlearn: 2068.3924280\ttotal: 3.57s\tremaining: 13.8s\n",
      "103:\tlearn: 2065.3001863\ttotal: 3.6s\tremaining: 13.7s\n",
      "104:\tlearn: 2062.4430939\ttotal: 3.63s\tremaining: 13.7s\n",
      "105:\tlearn: 2059.7320220\ttotal: 3.66s\tremaining: 13.6s\n",
      "106:\tlearn: 2057.0326140\ttotal: 3.69s\tremaining: 13.6s\n",
      "107:\tlearn: 2054.3733349\ttotal: 3.74s\tremaining: 13.6s\n",
      "108:\tlearn: 2051.7399882\ttotal: 3.77s\tremaining: 13.5s\n",
      "109:\tlearn: 2049.4373235\ttotal: 3.81s\tremaining: 13.5s\n",
      "110:\tlearn: 2046.8596139\ttotal: 3.84s\tremaining: 13.4s\n",
      "111:\tlearn: 2044.3184917\ttotal: 3.87s\tremaining: 13.4s\n",
      "112:\tlearn: 2042.0003294\ttotal: 3.9s\tremaining: 13.3s\n",
      "113:\tlearn: 2039.6941808\ttotal: 3.93s\tremaining: 13.3s\n",
      "114:\tlearn: 2037.4874812\ttotal: 3.96s\tremaining: 13.3s\n",
      "115:\tlearn: 2035.3383527\ttotal: 4s\tremaining: 13.2s\n",
      "116:\tlearn: 2033.1231060\ttotal: 4.02s\tremaining: 13.2s\n",
      "117:\tlearn: 2030.5736598\ttotal: 4.05s\tremaining: 13.1s\n",
      "118:\tlearn: 2028.3801504\ttotal: 4.08s\tremaining: 13.1s\n",
      "119:\tlearn: 2026.3841726\ttotal: 4.12s\tremaining: 13s\n",
      "120:\tlearn: 2024.6173094\ttotal: 4.15s\tremaining: 13s\n",
      "121:\tlearn: 2022.5848661\ttotal: 4.18s\tremaining: 13s\n",
      "122:\tlearn: 2020.5412709\ttotal: 4.22s\tremaining: 12.9s\n",
      "123:\tlearn: 2018.6456712\ttotal: 4.25s\tremaining: 12.9s\n",
      "124:\tlearn: 2016.7581802\ttotal: 4.29s\tremaining: 12.9s\n",
      "125:\tlearn: 2014.7842728\ttotal: 4.31s\tremaining: 12.8s\n",
      "126:\tlearn: 2013.0440051\ttotal: 4.34s\tremaining: 12.8s\n",
      "127:\tlearn: 2011.4793712\ttotal: 4.37s\tremaining: 12.7s\n",
      "128:\tlearn: 2009.9752969\ttotal: 4.41s\tremaining: 12.7s\n",
      "129:\tlearn: 2008.4882957\ttotal: 4.44s\tremaining: 12.6s\n",
      "130:\tlearn: 2007.1045000\ttotal: 4.47s\tremaining: 12.6s\n",
      "131:\tlearn: 2005.5359840\ttotal: 4.5s\tremaining: 12.5s\n",
      "132:\tlearn: 2003.8035014\ttotal: 4.52s\tremaining: 12.5s\n",
      "133:\tlearn: 2002.4619287\ttotal: 4.56s\tremaining: 12.4s\n",
      "134:\tlearn: 2001.1013824\ttotal: 4.58s\tremaining: 12.4s\n",
      "135:\tlearn: 1999.5253130\ttotal: 4.61s\tremaining: 12.3s\n",
      "136:\tlearn: 1998.1561005\ttotal: 4.65s\tremaining: 12.3s\n",
      "137:\tlearn: 1997.0344829\ttotal: 4.68s\tremaining: 12.3s\n",
      "138:\tlearn: 1995.7775479\ttotal: 4.71s\tremaining: 12.2s\n",
      "139:\tlearn: 1994.5269360\ttotal: 4.74s\tremaining: 12.2s\n",
      "140:\tlearn: 1992.8401418\ttotal: 4.77s\tremaining: 12.1s\n",
      "141:\tlearn: 1991.5017009\ttotal: 4.8s\tremaining: 12.1s\n",
      "142:\tlearn: 1990.1767098\ttotal: 4.83s\tremaining: 12.1s\n",
      "143:\tlearn: 1988.7239351\ttotal: 4.87s\tremaining: 12s\n",
      "144:\tlearn: 1987.2146289\ttotal: 4.9s\tremaining: 12s\n",
      "145:\tlearn: 1986.5189933\ttotal: 4.93s\tremaining: 12s\n",
      "146:\tlearn: 1985.5189438\ttotal: 4.96s\tremaining: 11.9s\n",
      "147:\tlearn: 1984.2583122\ttotal: 5s\tremaining: 11.9s\n",
      "148:\tlearn: 1983.0540008\ttotal: 5.03s\tremaining: 11.9s\n",
      "149:\tlearn: 1982.0378409\ttotal: 5.07s\tremaining: 11.8s\n",
      "150:\tlearn: 1981.0284419\ttotal: 5.1s\tremaining: 11.8s\n",
      "151:\tlearn: 1979.6633777\ttotal: 5.12s\tremaining: 11.7s\n",
      "152:\tlearn: 1978.7142771\ttotal: 5.15s\tremaining: 11.7s\n",
      "153:\tlearn: 1977.6155248\ttotal: 5.18s\tremaining: 11.6s\n",
      "154:\tlearn: 1976.4634249\ttotal: 5.21s\tremaining: 11.6s\n",
      "155:\tlearn: 1975.5776989\ttotal: 5.24s\tremaining: 11.6s\n",
      "156:\tlearn: 1974.5717301\ttotal: 5.28s\tremaining: 11.5s\n",
      "157:\tlearn: 1973.5896662\ttotal: 5.31s\tremaining: 11.5s\n",
      "158:\tlearn: 1972.5052383\ttotal: 5.35s\tremaining: 11.5s\n",
      "159:\tlearn: 1971.5538732\ttotal: 5.38s\tremaining: 11.4s\n",
      "160:\tlearn: 1970.4115015\ttotal: 5.4s\tremaining: 11.4s\n",
      "161:\tlearn: 1969.4127231\ttotal: 5.44s\tremaining: 11.3s\n",
      "162:\tlearn: 1968.2841896\ttotal: 5.47s\tremaining: 11.3s\n",
      "163:\tlearn: 1966.8519365\ttotal: 5.5s\tremaining: 11.3s\n",
      "164:\tlearn: 1965.7004673\ttotal: 5.54s\tremaining: 11.2s\n",
      "165:\tlearn: 1964.3992367\ttotal: 5.57s\tremaining: 11.2s\n",
      "166:\tlearn: 1963.2911218\ttotal: 5.6s\tremaining: 11.2s\n",
      "167:\tlearn: 1962.1494017\ttotal: 5.63s\tremaining: 11.1s\n",
      "168:\tlearn: 1961.3868544\ttotal: 5.67s\tremaining: 11.1s\n",
      "169:\tlearn: 1960.7133443\ttotal: 5.7s\tremaining: 11.1s\n",
      "170:\tlearn: 1959.8552660\ttotal: 5.73s\tremaining: 11s\n",
      "171:\tlearn: 1959.0482845\ttotal: 5.76s\tremaining: 11s\n",
      "172:\tlearn: 1958.2239847\ttotal: 5.8s\tremaining: 11s\n",
      "173:\tlearn: 1957.4101818\ttotal: 5.83s\tremaining: 10.9s\n",
      "174:\tlearn: 1956.6159540\ttotal: 5.86s\tremaining: 10.9s\n",
      "175:\tlearn: 1955.8495417\ttotal: 5.89s\tremaining: 10.8s\n",
      "176:\tlearn: 1954.6777953\ttotal: 5.93s\tremaining: 10.8s\n",
      "177:\tlearn: 1954.1177610\ttotal: 5.96s\tremaining: 10.8s\n",
      "178:\tlearn: 1953.4571358\ttotal: 5.99s\tremaining: 10.7s\n",
      "179:\tlearn: 1952.8049832\ttotal: 6.02s\tremaining: 10.7s\n",
      "180:\tlearn: 1952.1937467\ttotal: 6.05s\tremaining: 10.7s\n",
      "181:\tlearn: 1951.5806523\ttotal: 6.08s\tremaining: 10.6s\n",
      "182:\tlearn: 1950.7478898\ttotal: 6.12s\tremaining: 10.6s\n",
      "183:\tlearn: 1950.0236440\ttotal: 6.15s\tremaining: 10.6s\n",
      "184:\tlearn: 1949.5993370\ttotal: 6.18s\tremaining: 10.5s\n",
      "185:\tlearn: 1948.9688673\ttotal: 6.22s\tremaining: 10.5s\n",
      "186:\tlearn: 1948.2463059\ttotal: 6.25s\tremaining: 10.5s\n",
      "187:\tlearn: 1947.6350292\ttotal: 6.27s\tremaining: 10.4s\n",
      "188:\tlearn: 1946.8997199\ttotal: 6.3s\tremaining: 10.4s\n",
      "189:\tlearn: 1946.1709998\ttotal: 6.33s\tremaining: 10.3s\n",
      "190:\tlearn: 1945.2955433\ttotal: 6.37s\tremaining: 10.3s\n",
      "191:\tlearn: 1944.6355003\ttotal: 6.41s\tremaining: 10.3s\n",
      "192:\tlearn: 1943.9323483\ttotal: 6.43s\tremaining: 10.2s\n",
      "193:\tlearn: 1943.1983918\ttotal: 6.47s\tremaining: 10.2s\n",
      "194:\tlearn: 1942.5422848\ttotal: 6.51s\tremaining: 10.2s\n",
      "195:\tlearn: 1942.0488494\ttotal: 6.54s\tremaining: 10.1s\n",
      "196:\tlearn: 1941.2634459\ttotal: 6.57s\tremaining: 10.1s\n",
      "197:\tlearn: 1940.6374769\ttotal: 6.6s\tremaining: 10.1s\n",
      "198:\tlearn: 1940.0589964\ttotal: 6.64s\tremaining: 10s\n",
      "199:\tlearn: 1939.5034316\ttotal: 6.67s\tremaining: 10s\n",
      "200:\tlearn: 1938.8050852\ttotal: 6.71s\tremaining: 9.98s\n",
      "201:\tlearn: 1938.2893419\ttotal: 6.74s\tremaining: 9.94s\n",
      "202:\tlearn: 1937.9070935\ttotal: 6.77s\tremaining: 9.9s\n",
      "203:\tlearn: 1937.4561013\ttotal: 6.8s\tremaining: 9.87s\n",
      "204:\tlearn: 1936.7383017\ttotal: 6.84s\tremaining: 9.84s\n",
      "205:\tlearn: 1935.8108127\ttotal: 6.87s\tremaining: 9.8s\n",
      "206:\tlearn: 1935.4453271\ttotal: 6.9s\tremaining: 9.77s\n",
      "207:\tlearn: 1934.7195047\ttotal: 6.94s\tremaining: 9.74s\n",
      "208:\tlearn: 1934.1584715\ttotal: 6.97s\tremaining: 9.71s\n",
      "209:\tlearn: 1933.7421640\ttotal: 7.01s\tremaining: 9.68s\n",
      "210:\tlearn: 1933.1340098\ttotal: 7.04s\tremaining: 9.64s\n",
      "211:\tlearn: 1932.3472425\ttotal: 7.07s\tremaining: 9.6s\n",
      "212:\tlearn: 1931.8154368\ttotal: 7.1s\tremaining: 9.56s\n",
      "213:\tlearn: 1931.4038848\ttotal: 7.13s\tremaining: 9.53s\n",
      "214:\tlearn: 1930.8533417\ttotal: 7.16s\tremaining: 9.49s\n",
      "215:\tlearn: 1930.2916463\ttotal: 7.19s\tremaining: 9.45s\n",
      "216:\tlearn: 1929.7783074\ttotal: 7.22s\tremaining: 9.42s\n",
      "217:\tlearn: 1929.1227885\ttotal: 7.26s\tremaining: 9.39s\n",
      "218:\tlearn: 1928.5919377\ttotal: 7.29s\tremaining: 9.35s\n",
      "219:\tlearn: 1928.1441945\ttotal: 7.32s\tremaining: 9.32s\n",
      "220:\tlearn: 1927.2960866\ttotal: 7.36s\tremaining: 9.29s\n",
      "221:\tlearn: 1926.7045838\ttotal: 7.38s\tremaining: 9.24s\n",
      "222:\tlearn: 1926.2441344\ttotal: 7.41s\tremaining: 9.2s\n",
      "223:\tlearn: 1925.8999402\ttotal: 7.44s\tremaining: 9.16s\n",
      "224:\tlearn: 1925.3016056\ttotal: 7.47s\tremaining: 9.13s\n",
      "225:\tlearn: 1924.5751281\ttotal: 7.5s\tremaining: 9.09s\n",
      "226:\tlearn: 1923.9624318\ttotal: 7.54s\tremaining: 9.06s\n",
      "227:\tlearn: 1923.2548558\ttotal: 7.56s\tremaining: 9.02s\n",
      "228:\tlearn: 1922.9142922\ttotal: 7.59s\tremaining: 8.98s\n",
      "229:\tlearn: 1922.2119816\ttotal: 7.62s\tremaining: 8.95s\n",
      "230:\tlearn: 1921.8572099\ttotal: 7.65s\tremaining: 8.91s\n",
      "231:\tlearn: 1921.4171603\ttotal: 7.68s\tremaining: 8.88s\n",
      "232:\tlearn: 1920.9139863\ttotal: 7.72s\tremaining: 8.85s\n",
      "233:\tlearn: 1920.2697995\ttotal: 7.76s\tremaining: 8.83s\n",
      "234:\tlearn: 1919.9416831\ttotal: 7.8s\tremaining: 8.79s\n",
      "235:\tlearn: 1919.6861345\ttotal: 7.82s\tremaining: 8.75s\n",
      "236:\tlearn: 1919.4654994\ttotal: 7.85s\tremaining: 8.71s\n",
      "237:\tlearn: 1919.1339139\ttotal: 7.88s\tremaining: 8.68s\n",
      "238:\tlearn: 1918.8098609\ttotal: 7.92s\tremaining: 8.64s\n",
      "239:\tlearn: 1918.3610692\ttotal: 7.94s\tremaining: 8.6s\n",
      "240:\tlearn: 1917.9758617\ttotal: 7.96s\tremaining: 8.56s\n",
      "241:\tlearn: 1917.6531062\ttotal: 7.99s\tremaining: 8.52s\n",
      "242:\tlearn: 1917.4079880\ttotal: 8.02s\tremaining: 8.48s\n",
      "243:\tlearn: 1917.1280001\ttotal: 8.05s\tremaining: 8.45s\n",
      "244:\tlearn: 1916.6896828\ttotal: 8.08s\tremaining: 8.41s\n",
      "245:\tlearn: 1916.4205667\ttotal: 8.12s\tremaining: 8.38s\n",
      "246:\tlearn: 1915.8744202\ttotal: 8.14s\tremaining: 8.34s\n",
      "247:\tlearn: 1915.1727081\ttotal: 8.17s\tremaining: 8.3s\n",
      "248:\tlearn: 1914.5455413\ttotal: 8.21s\tremaining: 8.28s\n",
      "249:\tlearn: 1914.2253346\ttotal: 8.24s\tremaining: 8.24s\n",
      "250:\tlearn: 1913.8077912\ttotal: 8.27s\tremaining: 8.21s\n",
      "251:\tlearn: 1913.5398475\ttotal: 8.31s\tremaining: 8.17s\n",
      "252:\tlearn: 1913.2406304\ttotal: 8.34s\tremaining: 8.14s\n",
      "253:\tlearn: 1912.7034082\ttotal: 8.36s\tremaining: 8.1s\n",
      "254:\tlearn: 1912.3265352\ttotal: 8.4s\tremaining: 8.07s\n",
      "255:\tlearn: 1911.9088476\ttotal: 8.43s\tremaining: 8.04s\n",
      "256:\tlearn: 1911.7152444\ttotal: 8.46s\tremaining: 8s\n",
      "257:\tlearn: 1911.4041901\ttotal: 8.49s\tremaining: 7.96s\n",
      "258:\tlearn: 1910.9393956\ttotal: 8.53s\tremaining: 7.93s\n",
      "259:\tlearn: 1910.5650383\ttotal: 8.55s\tremaining: 7.89s\n",
      "260:\tlearn: 1910.1768361\ttotal: 8.59s\tremaining: 7.86s\n",
      "261:\tlearn: 1909.7780827\ttotal: 8.61s\tremaining: 7.82s\n",
      "262:\tlearn: 1909.3210579\ttotal: 8.65s\tremaining: 7.79s\n",
      "263:\tlearn: 1908.8802052\ttotal: 8.67s\tremaining: 7.75s\n",
      "264:\tlearn: 1908.6440932\ttotal: 8.7s\tremaining: 7.71s\n",
      "265:\tlearn: 1908.1004119\ttotal: 8.72s\tremaining: 7.67s\n",
      "266:\tlearn: 1907.7316833\ttotal: 8.75s\tremaining: 7.63s\n",
      "267:\tlearn: 1907.3512382\ttotal: 8.78s\tremaining: 7.6s\n",
      "268:\tlearn: 1906.9439915\ttotal: 8.81s\tremaining: 7.57s\n",
      "269:\tlearn: 1906.5785319\ttotal: 8.84s\tremaining: 7.53s\n",
      "270:\tlearn: 1906.2121691\ttotal: 8.89s\tremaining: 7.51s\n",
      "271:\tlearn: 1905.5623022\ttotal: 8.92s\tremaining: 7.48s\n",
      "272:\tlearn: 1905.3936930\ttotal: 8.95s\tremaining: 7.44s\n",
      "273:\tlearn: 1905.1147972\ttotal: 8.98s\tremaining: 7.41s\n",
      "274:\tlearn: 1904.8356189\ttotal: 9.01s\tremaining: 7.38s\n",
      "275:\tlearn: 1904.5918865\ttotal: 9.05s\tremaining: 7.34s\n",
      "276:\tlearn: 1904.0785403\ttotal: 9.08s\tremaining: 7.31s\n",
      "277:\tlearn: 1903.6418941\ttotal: 9.11s\tremaining: 7.27s\n",
      "278:\tlearn: 1903.2587974\ttotal: 9.14s\tremaining: 7.24s\n",
      "279:\tlearn: 1902.9544329\ttotal: 9.18s\tremaining: 7.21s\n",
      "280:\tlearn: 1902.5991090\ttotal: 9.2s\tremaining: 7.17s\n",
      "281:\tlearn: 1902.1855081\ttotal: 9.23s\tremaining: 7.14s\n",
      "282:\tlearn: 1901.6149612\ttotal: 9.26s\tremaining: 7.1s\n",
      "283:\tlearn: 1901.4421404\ttotal: 9.3s\tremaining: 7.07s\n",
      "284:\tlearn: 1901.1704112\ttotal: 9.33s\tremaining: 7.04s\n",
      "285:\tlearn: 1900.7317589\ttotal: 9.37s\tremaining: 7.01s\n",
      "286:\tlearn: 1900.2832058\ttotal: 9.4s\tremaining: 6.98s\n",
      "287:\tlearn: 1899.9927276\ttotal: 9.43s\tremaining: 6.94s\n",
      "288:\tlearn: 1899.7370982\ttotal: 9.46s\tremaining: 6.91s\n",
      "289:\tlearn: 1899.3191846\ttotal: 9.49s\tremaining: 6.87s\n",
      "290:\tlearn: 1898.7814295\ttotal: 9.52s\tremaining: 6.84s\n",
      "291:\tlearn: 1898.5533165\ttotal: 9.56s\tremaining: 6.81s\n",
      "292:\tlearn: 1898.3458968\ttotal: 9.59s\tremaining: 6.77s\n",
      "293:\tlearn: 1898.1437602\ttotal: 9.61s\tremaining: 6.74s\n",
      "294:\tlearn: 1897.6640136\ttotal: 9.65s\tremaining: 6.7s\n",
      "295:\tlearn: 1897.4409397\ttotal: 9.67s\tremaining: 6.67s\n",
      "296:\tlearn: 1897.0855149\ttotal: 9.7s\tremaining: 6.63s\n",
      "297:\tlearn: 1896.8782495\ttotal: 9.73s\tremaining: 6.6s\n",
      "298:\tlearn: 1896.4877601\ttotal: 9.77s\tremaining: 6.57s\n",
      "299:\tlearn: 1896.0680857\ttotal: 9.81s\tremaining: 6.54s\n",
      "300:\tlearn: 1895.8102770\ttotal: 9.84s\tremaining: 6.5s\n",
      "301:\tlearn: 1895.5365779\ttotal: 9.86s\tremaining: 6.47s\n",
      "302:\tlearn: 1894.9579769\ttotal: 9.89s\tremaining: 6.43s\n",
      "303:\tlearn: 1894.6196831\ttotal: 9.93s\tremaining: 6.4s\n",
      "304:\tlearn: 1894.1880990\ttotal: 9.95s\tremaining: 6.36s\n",
      "305:\tlearn: 1893.8998283\ttotal: 9.99s\tremaining: 6.33s\n",
      "306:\tlearn: 1893.4131327\ttotal: 10s\tremaining: 6.3s\n",
      "307:\tlearn: 1893.0545004\ttotal: 10.1s\tremaining: 6.27s\n",
      "308:\tlearn: 1892.5971492\ttotal: 10.1s\tremaining: 6.24s\n",
      "309:\tlearn: 1892.4163334\ttotal: 10.1s\tremaining: 6.2s\n",
      "310:\tlearn: 1892.1262387\ttotal: 10.1s\tremaining: 6.17s\n",
      "311:\tlearn: 1891.8511887\ttotal: 10.2s\tremaining: 6.13s\n",
      "312:\tlearn: 1891.4709159\ttotal: 10.2s\tremaining: 6.09s\n",
      "313:\tlearn: 1890.9680339\ttotal: 10.2s\tremaining: 6.06s\n",
      "314:\tlearn: 1890.7921270\ttotal: 10.3s\tremaining: 6.02s\n",
      "315:\tlearn: 1890.5762929\ttotal: 10.3s\tremaining: 5.99s\n",
      "316:\tlearn: 1890.3954964\ttotal: 10.3s\tremaining: 5.95s\n",
      "317:\tlearn: 1890.0617144\ttotal: 10.3s\tremaining: 5.92s\n",
      "318:\tlearn: 1889.9052800\ttotal: 10.4s\tremaining: 5.89s\n",
      "319:\tlearn: 1889.8020020\ttotal: 10.4s\tremaining: 5.85s\n",
      "320:\tlearn: 1889.6219553\ttotal: 10.4s\tremaining: 5.82s\n",
      "321:\tlearn: 1889.3444914\ttotal: 10.5s\tremaining: 5.79s\n",
      "322:\tlearn: 1888.9537028\ttotal: 10.5s\tremaining: 5.76s\n",
      "323:\tlearn: 1888.6642814\ttotal: 10.5s\tremaining: 5.72s\n",
      "324:\tlearn: 1888.4450931\ttotal: 10.6s\tremaining: 5.69s\n",
      "325:\tlearn: 1888.2362463\ttotal: 10.6s\tremaining: 5.66s\n",
      "326:\tlearn: 1887.9319706\ttotal: 10.6s\tremaining: 5.62s\n",
      "327:\tlearn: 1887.5133244\ttotal: 10.7s\tremaining: 5.59s\n",
      "328:\tlearn: 1887.3367873\ttotal: 10.7s\tremaining: 5.56s\n",
      "329:\tlearn: 1887.0865656\ttotal: 10.7s\tremaining: 5.53s\n",
      "330:\tlearn: 1886.6024795\ttotal: 10.8s\tremaining: 5.5s\n",
      "331:\tlearn: 1886.3906730\ttotal: 10.8s\tremaining: 5.46s\n",
      "332:\tlearn: 1886.1549821\ttotal: 10.8s\tremaining: 5.43s\n",
      "333:\tlearn: 1885.9338344\ttotal: 10.9s\tremaining: 5.39s\n",
      "334:\tlearn: 1885.6113823\ttotal: 10.9s\tremaining: 5.36s\n",
      "335:\tlearn: 1885.1885077\ttotal: 10.9s\tremaining: 5.33s\n",
      "336:\tlearn: 1884.9637051\ttotal: 11s\tremaining: 5.3s\n",
      "337:\tlearn: 1884.8279824\ttotal: 11s\tremaining: 5.26s\n",
      "338:\tlearn: 1884.6272397\ttotal: 11s\tremaining: 5.23s\n",
      "339:\tlearn: 1884.3791101\ttotal: 11s\tremaining: 5.2s\n",
      "340:\tlearn: 1884.0855595\ttotal: 11.1s\tremaining: 5.17s\n",
      "341:\tlearn: 1883.8776512\ttotal: 11.1s\tremaining: 5.13s\n",
      "342:\tlearn: 1883.6108150\ttotal: 11.1s\tremaining: 5.1s\n",
      "343:\tlearn: 1883.2815282\ttotal: 11.2s\tremaining: 5.07s\n",
      "344:\tlearn: 1883.0791459\ttotal: 11.2s\tremaining: 5.03s\n",
      "345:\tlearn: 1882.7239273\ttotal: 11.2s\tremaining: 5s\n",
      "346:\tlearn: 1882.3478681\ttotal: 11.3s\tremaining: 4.97s\n",
      "347:\tlearn: 1882.1812350\ttotal: 11.3s\tremaining: 4.94s\n",
      "348:\tlearn: 1881.7943844\ttotal: 11.3s\tremaining: 4.91s\n",
      "349:\tlearn: 1881.4357585\ttotal: 11.4s\tremaining: 4.88s\n",
      "350:\tlearn: 1881.1527622\ttotal: 11.4s\tremaining: 4.84s\n",
      "351:\tlearn: 1881.0238942\ttotal: 11.4s\tremaining: 4.81s\n",
      "352:\tlearn: 1880.7583595\ttotal: 11.5s\tremaining: 4.78s\n",
      "353:\tlearn: 1880.4929253\ttotal: 11.5s\tremaining: 4.74s\n",
      "354:\tlearn: 1880.0735206\ttotal: 11.5s\tremaining: 4.71s\n",
      "355:\tlearn: 1879.7643713\ttotal: 11.6s\tremaining: 4.68s\n",
      "356:\tlearn: 1879.3698165\ttotal: 11.6s\tremaining: 4.65s\n",
      "357:\tlearn: 1879.1367200\ttotal: 11.6s\tremaining: 4.62s\n",
      "358:\tlearn: 1879.0318481\ttotal: 11.7s\tremaining: 4.58s\n",
      "359:\tlearn: 1878.7141707\ttotal: 11.7s\tremaining: 4.55s\n",
      "360:\tlearn: 1878.5078350\ttotal: 11.7s\tremaining: 4.52s\n",
      "361:\tlearn: 1878.3240743\ttotal: 11.8s\tremaining: 4.49s\n",
      "362:\tlearn: 1878.1647336\ttotal: 11.8s\tremaining: 4.45s\n",
      "363:\tlearn: 1877.8482611\ttotal: 11.8s\tremaining: 4.42s\n",
      "364:\tlearn: 1877.4983648\ttotal: 11.9s\tremaining: 4.39s\n",
      "365:\tlearn: 1877.4352380\ttotal: 11.9s\tremaining: 4.36s\n",
      "366:\tlearn: 1877.1949841\ttotal: 11.9s\tremaining: 4.33s\n",
      "367:\tlearn: 1876.7964866\ttotal: 12s\tremaining: 4.29s\n",
      "368:\tlearn: 1876.3865930\ttotal: 12s\tremaining: 4.26s\n",
      "369:\tlearn: 1876.0970706\ttotal: 12s\tremaining: 4.23s\n",
      "370:\tlearn: 1876.0133549\ttotal: 12.1s\tremaining: 4.2s\n",
      "371:\tlearn: 1875.6874706\ttotal: 12.1s\tremaining: 4.16s\n",
      "372:\tlearn: 1875.4049508\ttotal: 12.1s\tremaining: 4.13s\n",
      "373:\tlearn: 1875.1816581\ttotal: 12.2s\tremaining: 4.1s\n",
      "374:\tlearn: 1875.0378637\ttotal: 12.2s\tremaining: 4.07s\n",
      "375:\tlearn: 1874.9131558\ttotal: 12.2s\tremaining: 4.04s\n",
      "376:\tlearn: 1874.7850141\ttotal: 12.3s\tremaining: 4s\n",
      "377:\tlearn: 1874.5129849\ttotal: 12.3s\tremaining: 3.97s\n",
      "378:\tlearn: 1874.4062195\ttotal: 12.3s\tremaining: 3.94s\n",
      "379:\tlearn: 1874.1118366\ttotal: 12.4s\tremaining: 3.91s\n",
      "380:\tlearn: 1873.8059844\ttotal: 12.4s\tremaining: 3.88s\n",
      "381:\tlearn: 1873.5604369\ttotal: 12.5s\tremaining: 3.85s\n",
      "382:\tlearn: 1873.2367558\ttotal: 12.5s\tremaining: 3.81s\n",
      "383:\tlearn: 1873.1049849\ttotal: 12.5s\tremaining: 3.78s\n",
      "384:\tlearn: 1872.9658279\ttotal: 12.6s\tremaining: 3.75s\n",
      "385:\tlearn: 1872.7796433\ttotal: 12.6s\tremaining: 3.72s\n",
      "386:\tlearn: 1872.6162136\ttotal: 12.6s\tremaining: 3.69s\n",
      "387:\tlearn: 1872.2721183\ttotal: 12.7s\tremaining: 3.65s\n",
      "388:\tlearn: 1871.9913211\ttotal: 12.7s\tremaining: 3.62s\n",
      "389:\tlearn: 1871.6771670\ttotal: 12.7s\tremaining: 3.59s\n",
      "390:\tlearn: 1871.4683831\ttotal: 12.8s\tremaining: 3.56s\n",
      "391:\tlearn: 1871.2039394\ttotal: 12.8s\tremaining: 3.52s\n",
      "392:\tlearn: 1871.0039573\ttotal: 12.8s\tremaining: 3.49s\n",
      "393:\tlearn: 1870.6949564\ttotal: 12.8s\tremaining: 3.46s\n",
      "394:\tlearn: 1870.2740605\ttotal: 12.9s\tremaining: 3.43s\n",
      "395:\tlearn: 1870.0349337\ttotal: 12.9s\tremaining: 3.39s\n",
      "396:\tlearn: 1869.9383587\ttotal: 12.9s\tremaining: 3.36s\n",
      "397:\tlearn: 1869.7842542\ttotal: 13s\tremaining: 3.33s\n",
      "398:\tlearn: 1869.6073905\ttotal: 13s\tremaining: 3.29s\n",
      "399:\tlearn: 1869.2757464\ttotal: 13s\tremaining: 3.26s\n",
      "400:\tlearn: 1868.9313654\ttotal: 13.1s\tremaining: 3.23s\n",
      "401:\tlearn: 1868.6271293\ttotal: 13.1s\tremaining: 3.2s\n",
      "402:\tlearn: 1868.3280541\ttotal: 13.1s\tremaining: 3.16s\n",
      "403:\tlearn: 1868.0043417\ttotal: 13.2s\tremaining: 3.13s\n",
      "404:\tlearn: 1867.6664616\ttotal: 13.2s\tremaining: 3.1s\n",
      "405:\tlearn: 1867.4317969\ttotal: 13.2s\tremaining: 3.06s\n",
      "406:\tlearn: 1867.3186037\ttotal: 13.3s\tremaining: 3.03s\n",
      "407:\tlearn: 1867.0412680\ttotal: 13.3s\tremaining: 3s\n",
      "408:\tlearn: 1866.6851636\ttotal: 13.3s\tremaining: 2.97s\n",
      "409:\tlearn: 1866.3804999\ttotal: 13.4s\tremaining: 2.94s\n",
      "410:\tlearn: 1866.1879810\ttotal: 13.4s\tremaining: 2.9s\n",
      "411:\tlearn: 1866.0297734\ttotal: 13.4s\tremaining: 2.87s\n",
      "412:\tlearn: 1865.7938912\ttotal: 13.5s\tremaining: 2.84s\n",
      "413:\tlearn: 1865.6949752\ttotal: 13.5s\tremaining: 2.8s\n",
      "414:\tlearn: 1865.3890962\ttotal: 13.5s\tremaining: 2.77s\n",
      "415:\tlearn: 1865.2955185\ttotal: 13.6s\tremaining: 2.74s\n",
      "416:\tlearn: 1865.2159318\ttotal: 13.6s\tremaining: 2.7s\n",
      "417:\tlearn: 1864.9880856\ttotal: 13.6s\tremaining: 2.67s\n",
      "418:\tlearn: 1864.8850082\ttotal: 13.6s\tremaining: 2.64s\n",
      "419:\tlearn: 1864.6978809\ttotal: 13.7s\tremaining: 2.6s\n",
      "420:\tlearn: 1864.4180957\ttotal: 13.7s\tremaining: 2.57s\n",
      "421:\tlearn: 1864.2606406\ttotal: 13.7s\tremaining: 2.54s\n",
      "422:\tlearn: 1863.8673018\ttotal: 13.8s\tremaining: 2.51s\n",
      "423:\tlearn: 1863.6810296\ttotal: 13.8s\tremaining: 2.48s\n",
      "424:\tlearn: 1863.4737499\ttotal: 13.9s\tremaining: 2.45s\n",
      "425:\tlearn: 1863.3569841\ttotal: 13.9s\tremaining: 2.42s\n",
      "426:\tlearn: 1863.1854829\ttotal: 13.9s\tremaining: 2.38s\n",
      "427:\tlearn: 1862.8792947\ttotal: 14s\tremaining: 2.35s\n",
      "428:\tlearn: 1862.7138400\ttotal: 14s\tremaining: 2.32s\n",
      "429:\tlearn: 1862.6178444\ttotal: 14.1s\tremaining: 2.29s\n",
      "430:\tlearn: 1862.3365646\ttotal: 14.1s\tremaining: 2.26s\n",
      "431:\tlearn: 1862.1403261\ttotal: 14.1s\tremaining: 2.23s\n",
      "432:\tlearn: 1861.9081289\ttotal: 14.2s\tremaining: 2.19s\n",
      "433:\tlearn: 1861.6754991\ttotal: 14.2s\tremaining: 2.16s\n",
      "434:\tlearn: 1861.5820326\ttotal: 14.2s\tremaining: 2.13s\n",
      "435:\tlearn: 1861.4619064\ttotal: 14.3s\tremaining: 2.09s\n",
      "436:\tlearn: 1861.2820844\ttotal: 14.3s\tremaining: 2.06s\n",
      "437:\tlearn: 1861.0088735\ttotal: 14.3s\tremaining: 2.03s\n",
      "438:\tlearn: 1860.8721199\ttotal: 14.3s\tremaining: 1.99s\n",
      "439:\tlearn: 1860.6290211\ttotal: 14.4s\tremaining: 1.96s\n",
      "440:\tlearn: 1860.4275553\ttotal: 14.4s\tremaining: 1.93s\n",
      "441:\tlearn: 1860.1483091\ttotal: 14.4s\tremaining: 1.9s\n",
      "442:\tlearn: 1859.8317811\ttotal: 14.5s\tremaining: 1.86s\n",
      "443:\tlearn: 1859.5772002\ttotal: 14.5s\tremaining: 1.83s\n",
      "444:\tlearn: 1859.5047979\ttotal: 14.5s\tremaining: 1.8s\n",
      "445:\tlearn: 1859.3953515\ttotal: 14.6s\tremaining: 1.76s\n",
      "446:\tlearn: 1859.1393105\ttotal: 14.6s\tremaining: 1.73s\n",
      "447:\tlearn: 1858.9066959\ttotal: 14.6s\tremaining: 1.7s\n",
      "448:\tlearn: 1858.7158751\ttotal: 14.7s\tremaining: 1.66s\n",
      "449:\tlearn: 1858.4413769\ttotal: 14.7s\tremaining: 1.63s\n",
      "450:\tlearn: 1858.3055477\ttotal: 14.7s\tremaining: 1.6s\n",
      "451:\tlearn: 1858.0553865\ttotal: 14.8s\tremaining: 1.57s\n",
      "452:\tlearn: 1857.8905131\ttotal: 14.8s\tremaining: 1.53s\n",
      "453:\tlearn: 1857.6665011\ttotal: 14.8s\tremaining: 1.5s\n",
      "454:\tlearn: 1857.5810517\ttotal: 14.9s\tremaining: 1.47s\n",
      "455:\tlearn: 1857.2130173\ttotal: 14.9s\tremaining: 1.44s\n",
      "456:\tlearn: 1857.0359408\ttotal: 14.9s\tremaining: 1.41s\n",
      "457:\tlearn: 1856.9235924\ttotal: 15s\tremaining: 1.37s\n",
      "458:\tlearn: 1856.8033912\ttotal: 15s\tremaining: 1.34s\n",
      "459:\tlearn: 1856.6516150\ttotal: 15s\tremaining: 1.31s\n",
      "460:\tlearn: 1856.3988929\ttotal: 15.1s\tremaining: 1.27s\n",
      "461:\tlearn: 1856.2313723\ttotal: 15.1s\tremaining: 1.24s\n",
      "462:\tlearn: 1856.1019152\ttotal: 15.1s\tremaining: 1.21s\n",
      "463:\tlearn: 1855.9403697\ttotal: 15.2s\tremaining: 1.18s\n",
      "464:\tlearn: 1855.7407861\ttotal: 15.2s\tremaining: 1.14s\n",
      "465:\tlearn: 1855.5195637\ttotal: 15.2s\tremaining: 1.11s\n",
      "466:\tlearn: 1855.4068559\ttotal: 15.3s\tremaining: 1.08s\n",
      "467:\tlearn: 1855.2511944\ttotal: 15.3s\tremaining: 1.05s\n",
      "468:\tlearn: 1855.1193185\ttotal: 15.3s\tremaining: 1.01s\n",
      "469:\tlearn: 1854.9321629\ttotal: 15.4s\tremaining: 981ms\n",
      "470:\tlearn: 1854.5782076\ttotal: 15.4s\tremaining: 949ms\n",
      "471:\tlearn: 1854.3346202\ttotal: 15.4s\tremaining: 916ms\n",
      "472:\tlearn: 1854.1713672\ttotal: 15.5s\tremaining: 883ms\n",
      "473:\tlearn: 1854.0189629\ttotal: 15.5s\tremaining: 851ms\n",
      "474:\tlearn: 1853.8271780\ttotal: 15.6s\tremaining: 819ms\n",
      "475:\tlearn: 1853.6054399\ttotal: 15.6s\tremaining: 786ms\n",
      "476:\tlearn: 1853.4725259\ttotal: 15.6s\tremaining: 753ms\n",
      "477:\tlearn: 1853.1965493\ttotal: 15.7s\tremaining: 721ms\n",
      "478:\tlearn: 1853.0657058\ttotal: 15.7s\tremaining: 688ms\n",
      "479:\tlearn: 1852.9625019\ttotal: 15.7s\tremaining: 655ms\n",
      "480:\tlearn: 1852.7668870\ttotal: 15.8s\tremaining: 623ms\n",
      "481:\tlearn: 1852.5836914\ttotal: 15.8s\tremaining: 590ms\n",
      "482:\tlearn: 1852.4395977\ttotal: 15.8s\tremaining: 557ms\n",
      "483:\tlearn: 1852.3323097\ttotal: 15.9s\tremaining: 524ms\n",
      "484:\tlearn: 1852.1951692\ttotal: 15.9s\tremaining: 491ms\n",
      "485:\tlearn: 1851.9594151\ttotal: 15.9s\tremaining: 458ms\n",
      "486:\tlearn: 1851.8351047\ttotal: 16s\tremaining: 426ms\n",
      "487:\tlearn: 1851.7271286\ttotal: 16s\tremaining: 393ms\n",
      "488:\tlearn: 1851.3988353\ttotal: 16s\tremaining: 360ms\n",
      "489:\tlearn: 1851.2213490\ttotal: 16.1s\tremaining: 328ms\n",
      "490:\tlearn: 1851.0232162\ttotal: 16.1s\tremaining: 295ms\n",
      "491:\tlearn: 1850.7720788\ttotal: 16.1s\tremaining: 262ms\n",
      "492:\tlearn: 1850.5750747\ttotal: 16.2s\tremaining: 229ms\n",
      "493:\tlearn: 1850.3590535\ttotal: 16.2s\tremaining: 197ms\n",
      "494:\tlearn: 1850.0358858\ttotal: 16.2s\tremaining: 164ms\n",
      "495:\tlearn: 1849.7968432\ttotal: 16.3s\tremaining: 131ms\n",
      "496:\tlearn: 1849.6636181\ttotal: 16.3s\tremaining: 98.3ms\n",
      "497:\tlearn: 1849.4974462\ttotal: 16.3s\tremaining: 65.5ms\n",
      "498:\tlearn: 1849.1708942\ttotal: 16.4s\tremaining: 32.8ms\n",
      "499:\tlearn: 1849.0621603\ttotal: 16.4s\tremaining: 0us\n",
      "0:\tlearn: 4400.8485450\ttotal: 36.3ms\tremaining: 18.1s\n",
      "1:\tlearn: 4318.9661643\ttotal: 74.4ms\tremaining: 18.5s\n",
      "2:\tlearn: 4240.3525460\ttotal: 106ms\tremaining: 17.5s\n",
      "3:\tlearn: 4165.1682780\ttotal: 139ms\tremaining: 17.3s\n",
      "4:\tlearn: 4093.5884362\ttotal: 176ms\tremaining: 17.5s\n",
      "5:\tlearn: 4023.3004805\ttotal: 209ms\tremaining: 17.2s\n",
      "6:\tlearn: 3955.4110771\ttotal: 244ms\tremaining: 17.2s\n",
      "7:\tlearn: 3889.7756624\ttotal: 278ms\tremaining: 17.1s\n",
      "8:\tlearn: 3825.9577934\ttotal: 313ms\tremaining: 17.1s\n",
      "9:\tlearn: 3762.3744959\ttotal: 356ms\tremaining: 17.4s\n",
      "10:\tlearn: 3702.5572120\ttotal: 389ms\tremaining: 17.3s\n",
      "11:\tlearn: 3646.1719257\ttotal: 421ms\tremaining: 17.1s\n",
      "12:\tlearn: 3590.7228925\ttotal: 457ms\tremaining: 17.1s\n",
      "13:\tlearn: 3536.9910886\ttotal: 491ms\tremaining: 17.1s\n",
      "14:\tlearn: 3486.1064378\ttotal: 523ms\tremaining: 16.9s\n",
      "15:\tlearn: 3435.1127702\ttotal: 562ms\tremaining: 17s\n",
      "16:\tlearn: 3384.7470086\ttotal: 601ms\tremaining: 17.1s\n",
      "17:\tlearn: 3338.4372353\ttotal: 633ms\tremaining: 17s\n",
      "18:\tlearn: 3294.4829489\ttotal: 667ms\tremaining: 16.9s\n",
      "19:\tlearn: 3251.4205409\ttotal: 698ms\tremaining: 16.8s\n",
      "20:\tlearn: 3209.8807943\ttotal: 733ms\tremaining: 16.7s\n",
      "21:\tlearn: 3168.3019702\ttotal: 767ms\tremaining: 16.7s\n",
      "22:\tlearn: 3129.0441872\ttotal: 804ms\tremaining: 16.7s\n",
      "23:\tlearn: 3091.5170898\ttotal: 846ms\tremaining: 16.8s\n",
      "24:\tlearn: 3054.7736625\ttotal: 881ms\tremaining: 16.7s\n",
      "25:\tlearn: 3019.5045204\ttotal: 912ms\tremaining: 16.6s\n",
      "26:\tlearn: 2985.2396517\ttotal: 944ms\tremaining: 16.5s\n",
      "27:\tlearn: 2952.2323477\ttotal: 976ms\tremaining: 16.5s\n",
      "28:\tlearn: 2920.4711288\ttotal: 1.01s\tremaining: 16.4s\n",
      "29:\tlearn: 2890.4682416\ttotal: 1.06s\tremaining: 16.6s\n",
      "30:\tlearn: 2861.8106607\ttotal: 1.08s\tremaining: 16.4s\n",
      "31:\tlearn: 2832.5826860\ttotal: 1.11s\tremaining: 16.3s\n",
      "32:\tlearn: 2802.9839312\ttotal: 1.15s\tremaining: 16.2s\n",
      "33:\tlearn: 2776.6462357\ttotal: 1.18s\tremaining: 16.2s\n",
      "34:\tlearn: 2752.2035193\ttotal: 1.22s\tremaining: 16.2s\n",
      "35:\tlearn: 2725.8639837\ttotal: 1.26s\tremaining: 16.2s\n",
      "36:\tlearn: 2701.8815280\ttotal: 1.29s\tremaining: 16.1s\n",
      "37:\tlearn: 2679.1338719\ttotal: 1.32s\tremaining: 16.1s\n",
      "38:\tlearn: 2657.3403396\ttotal: 1.35s\tremaining: 16s\n",
      "39:\tlearn: 2636.5064497\ttotal: 1.38s\tremaining: 15.9s\n",
      "40:\tlearn: 2615.5809175\ttotal: 1.42s\tremaining: 15.9s\n",
      "41:\tlearn: 2595.5738527\ttotal: 1.46s\tremaining: 15.9s\n",
      "42:\tlearn: 2576.5936706\ttotal: 1.49s\tremaining: 15.8s\n",
      "43:\tlearn: 2558.0678275\ttotal: 1.52s\tremaining: 15.7s\n",
      "44:\tlearn: 2540.4298650\ttotal: 1.55s\tremaining: 15.7s\n",
      "45:\tlearn: 2523.6612502\ttotal: 1.58s\tremaining: 15.6s\n",
      "46:\tlearn: 2507.1189132\ttotal: 1.62s\tremaining: 15.6s\n",
      "47:\tlearn: 2491.5783855\ttotal: 1.66s\tremaining: 15.6s\n",
      "48:\tlearn: 2476.2553285\ttotal: 1.69s\tremaining: 15.5s\n",
      "49:\tlearn: 2460.8050602\ttotal: 1.72s\tremaining: 15.5s\n",
      "50:\tlearn: 2447.0454094\ttotal: 1.75s\tremaining: 15.4s\n",
      "51:\tlearn: 2432.9140574\ttotal: 1.78s\tremaining: 15.3s\n",
      "52:\tlearn: 2419.6344147\ttotal: 1.81s\tremaining: 15.3s\n",
      "53:\tlearn: 2406.6915251\ttotal: 1.85s\tremaining: 15.3s\n",
      "54:\tlearn: 2394.1169116\ttotal: 1.89s\tremaining: 15.3s\n",
      "55:\tlearn: 2382.2718709\ttotal: 1.92s\tremaining: 15.3s\n",
      "56:\tlearn: 2369.7994470\ttotal: 1.96s\tremaining: 15.2s\n",
      "57:\tlearn: 2358.3132324\ttotal: 1.99s\tremaining: 15.2s\n",
      "58:\tlearn: 2347.6466548\ttotal: 2.02s\tremaining: 15.1s\n",
      "59:\tlearn: 2336.6322211\ttotal: 2.05s\tremaining: 15s\n",
      "60:\tlearn: 2326.6898484\ttotal: 2.09s\tremaining: 15s\n",
      "61:\tlearn: 2315.6189898\ttotal: 2.13s\tremaining: 15s\n",
      "62:\tlearn: 2305.2180318\ttotal: 2.16s\tremaining: 15s\n",
      "63:\tlearn: 2293.4701383\ttotal: 2.19s\tremaining: 14.9s\n",
      "64:\tlearn: 2284.2632427\ttotal: 2.22s\tremaining: 14.9s\n",
      "65:\tlearn: 2274.4312474\ttotal: 2.26s\tremaining: 14.9s\n",
      "66:\tlearn: 2265.5768176\ttotal: 2.29s\tremaining: 14.8s\n",
      "67:\tlearn: 2255.4466476\ttotal: 2.33s\tremaining: 14.8s\n",
      "68:\tlearn: 2246.3641254\ttotal: 2.36s\tremaining: 14.7s\n",
      "69:\tlearn: 2237.9672137\ttotal: 2.39s\tremaining: 14.7s\n",
      "70:\tlearn: 2230.1791779\ttotal: 2.43s\tremaining: 14.7s\n",
      "71:\tlearn: 2222.5276281\ttotal: 2.46s\tremaining: 14.6s\n",
      "72:\tlearn: 2215.9961031\ttotal: 2.49s\tremaining: 14.6s\n",
      "73:\tlearn: 2208.3590330\ttotal: 2.53s\tremaining: 14.6s\n",
      "74:\tlearn: 2201.7918358\ttotal: 2.56s\tremaining: 14.5s\n",
      "75:\tlearn: 2195.2241326\ttotal: 2.6s\tremaining: 14.5s\n",
      "76:\tlearn: 2188.5882336\ttotal: 2.63s\tremaining: 14.4s\n",
      "77:\tlearn: 2182.8952249\ttotal: 2.66s\tremaining: 14.4s\n",
      "78:\tlearn: 2177.4111045\ttotal: 2.69s\tremaining: 14.3s\n",
      "79:\tlearn: 2171.5764067\ttotal: 2.73s\tremaining: 14.3s\n",
      "80:\tlearn: 2166.2950819\ttotal: 2.77s\tremaining: 14.3s\n",
      "81:\tlearn: 2161.3804678\ttotal: 2.8s\tremaining: 14.3s\n",
      "82:\tlearn: 2156.1038177\ttotal: 2.83s\tremaining: 14.2s\n",
      "83:\tlearn: 2150.5961075\ttotal: 2.87s\tremaining: 14.2s\n",
      "84:\tlearn: 2145.4563775\ttotal: 2.9s\tremaining: 14.1s\n",
      "85:\tlearn: 2139.8219501\ttotal: 2.93s\tremaining: 14.1s\n",
      "86:\tlearn: 2134.9356101\ttotal: 2.99s\tremaining: 14.2s\n",
      "87:\tlearn: 2129.9459475\ttotal: 3.02s\tremaining: 14.2s\n",
      "88:\tlearn: 2125.6040663\ttotal: 3.07s\tremaining: 14.2s\n",
      "89:\tlearn: 2121.6214706\ttotal: 3.11s\tremaining: 14.2s\n",
      "90:\tlearn: 2116.9056315\ttotal: 3.15s\tremaining: 14.1s\n",
      "91:\tlearn: 2112.8154731\ttotal: 3.18s\tremaining: 14.1s\n",
      "92:\tlearn: 2108.7203015\ttotal: 3.22s\tremaining: 14.1s\n",
      "93:\tlearn: 2104.7245728\ttotal: 3.25s\tremaining: 14s\n",
      "94:\tlearn: 2100.9914713\ttotal: 3.28s\tremaining: 14s\n",
      "95:\tlearn: 2097.4933188\ttotal: 3.31s\tremaining: 13.9s\n",
      "96:\tlearn: 2094.1214051\ttotal: 3.34s\tremaining: 13.9s\n",
      "97:\tlearn: 2090.5009763\ttotal: 3.37s\tremaining: 13.8s\n",
      "98:\tlearn: 2087.1387096\ttotal: 3.4s\tremaining: 13.8s\n",
      "99:\tlearn: 2083.7117801\ttotal: 3.44s\tremaining: 13.8s\n",
      "100:\tlearn: 2080.5729963\ttotal: 3.47s\tremaining: 13.7s\n",
      "101:\tlearn: 2077.3748211\ttotal: 3.49s\tremaining: 13.6s\n",
      "102:\tlearn: 2074.2107554\ttotal: 3.53s\tremaining: 13.6s\n",
      "103:\tlearn: 2071.1425572\ttotal: 3.56s\tremaining: 13.6s\n",
      "104:\tlearn: 2068.2215959\ttotal: 3.6s\tremaining: 13.5s\n",
      "105:\tlearn: 2065.1308164\ttotal: 3.64s\tremaining: 13.5s\n",
      "106:\tlearn: 2062.3504507\ttotal: 3.67s\tremaining: 13.5s\n",
      "107:\tlearn: 2059.4492293\ttotal: 3.71s\tremaining: 13.5s\n",
      "108:\tlearn: 2056.7994446\ttotal: 3.74s\tremaining: 13.4s\n",
      "109:\tlearn: 2054.2714618\ttotal: 3.78s\tremaining: 13.4s\n",
      "110:\tlearn: 2051.8606715\ttotal: 3.81s\tremaining: 13.3s\n",
      "111:\tlearn: 2049.3279946\ttotal: 3.84s\tremaining: 13.3s\n",
      "112:\tlearn: 2046.8759820\ttotal: 3.88s\tremaining: 13.3s\n",
      "113:\tlearn: 2044.7125432\ttotal: 3.91s\tremaining: 13.2s\n",
      "114:\tlearn: 2042.8281584\ttotal: 3.94s\tremaining: 13.2s\n",
      "115:\tlearn: 2040.5554740\ttotal: 3.97s\tremaining: 13.2s\n",
      "116:\tlearn: 2038.5231138\ttotal: 4.01s\tremaining: 13.1s\n",
      "117:\tlearn: 2036.6204313\ttotal: 4.04s\tremaining: 13.1s\n",
      "118:\tlearn: 2034.4506179\ttotal: 4.08s\tremaining: 13.1s\n",
      "119:\tlearn: 2032.2508440\ttotal: 4.12s\tremaining: 13s\n",
      "120:\tlearn: 2030.1304334\ttotal: 4.15s\tremaining: 13s\n",
      "121:\tlearn: 2028.3644763\ttotal: 4.19s\tremaining: 13s\n",
      "122:\tlearn: 2026.4414932\ttotal: 4.22s\tremaining: 12.9s\n",
      "123:\tlearn: 2024.4686035\ttotal: 4.25s\tremaining: 12.9s\n",
      "124:\tlearn: 2022.6671049\ttotal: 4.29s\tremaining: 12.9s\n",
      "125:\tlearn: 2020.8161135\ttotal: 4.32s\tremaining: 12.8s\n",
      "126:\tlearn: 2018.9355331\ttotal: 4.35s\tremaining: 12.8s\n",
      "127:\tlearn: 2017.2011119\ttotal: 4.38s\tremaining: 12.7s\n",
      "128:\tlearn: 2015.0602374\ttotal: 4.41s\tremaining: 12.7s\n",
      "129:\tlearn: 2013.5926845\ttotal: 4.44s\tremaining: 12.6s\n",
      "130:\tlearn: 2012.3876871\ttotal: 4.47s\tremaining: 12.6s\n",
      "131:\tlearn: 2010.7621163\ttotal: 4.51s\tremaining: 12.6s\n",
      "132:\tlearn: 2008.8636557\ttotal: 4.54s\tremaining: 12.5s\n",
      "133:\tlearn: 2007.3373753\ttotal: 4.58s\tremaining: 12.5s\n",
      "134:\tlearn: 2005.8820746\ttotal: 4.6s\tremaining: 12.4s\n",
      "135:\tlearn: 2004.3379772\ttotal: 4.63s\tremaining: 12.4s\n",
      "136:\tlearn: 2002.7425105\ttotal: 4.67s\tremaining: 12.4s\n",
      "137:\tlearn: 2001.4387159\ttotal: 4.7s\tremaining: 12.3s\n",
      "138:\tlearn: 2000.1399552\ttotal: 4.73s\tremaining: 12.3s\n",
      "139:\tlearn: 1998.9537350\ttotal: 4.77s\tremaining: 12.3s\n",
      "140:\tlearn: 1997.3979106\ttotal: 4.81s\tremaining: 12.3s\n",
      "141:\tlearn: 1995.9035386\ttotal: 4.84s\tremaining: 12.2s\n",
      "142:\tlearn: 1994.7427126\ttotal: 4.87s\tremaining: 12.2s\n",
      "143:\tlearn: 1993.6838968\ttotal: 4.9s\tremaining: 12.1s\n",
      "144:\tlearn: 1992.4948658\ttotal: 4.93s\tremaining: 12.1s\n",
      "145:\tlearn: 1991.3977896\ttotal: 4.96s\tremaining: 12s\n",
      "146:\tlearn: 1990.0380502\ttotal: 4.99s\tremaining: 12s\n",
      "147:\tlearn: 1988.8422256\ttotal: 5.02s\tremaining: 11.9s\n",
      "148:\tlearn: 1987.4877479\ttotal: 5.05s\tremaining: 11.9s\n",
      "149:\tlearn: 1986.2280232\ttotal: 5.08s\tremaining: 11.8s\n",
      "150:\tlearn: 1985.0811393\ttotal: 5.1s\tremaining: 11.8s\n",
      "151:\tlearn: 1983.9941042\ttotal: 5.13s\tremaining: 11.8s\n",
      "152:\tlearn: 1983.1320007\ttotal: 5.16s\tremaining: 11.7s\n",
      "153:\tlearn: 1982.0457075\ttotal: 5.2s\tremaining: 11.7s\n",
      "154:\tlearn: 1980.9907067\ttotal: 5.23s\tremaining: 11.6s\n",
      "155:\tlearn: 1979.8147077\ttotal: 5.26s\tremaining: 11.6s\n",
      "156:\tlearn: 1978.8700981\ttotal: 5.29s\tremaining: 11.6s\n",
      "157:\tlearn: 1977.8070385\ttotal: 5.33s\tremaining: 11.5s\n",
      "158:\tlearn: 1976.6531431\ttotal: 5.36s\tremaining: 11.5s\n",
      "159:\tlearn: 1975.5617265\ttotal: 5.39s\tremaining: 11.5s\n",
      "160:\tlearn: 1974.4310130\ttotal: 5.43s\tremaining: 11.4s\n",
      "161:\tlearn: 1973.4250438\ttotal: 5.46s\tremaining: 11.4s\n",
      "162:\tlearn: 1972.6301926\ttotal: 5.49s\tremaining: 11.4s\n",
      "163:\tlearn: 1971.5436820\ttotal: 5.52s\tremaining: 11.3s\n",
      "164:\tlearn: 1970.5473640\ttotal: 5.54s\tremaining: 11.3s\n",
      "165:\tlearn: 1969.9290100\ttotal: 5.58s\tremaining: 11.2s\n",
      "166:\tlearn: 1969.1959876\ttotal: 5.6s\tremaining: 11.2s\n",
      "167:\tlearn: 1968.2418647\ttotal: 5.63s\tremaining: 11.1s\n",
      "168:\tlearn: 1967.4461017\ttotal: 5.67s\tremaining: 11.1s\n",
      "169:\tlearn: 1966.4073123\ttotal: 5.69s\tremaining: 11.1s\n",
      "170:\tlearn: 1965.4022802\ttotal: 5.72s\tremaining: 11s\n",
      "171:\tlearn: 1964.5125830\ttotal: 5.75s\tremaining: 11s\n",
      "172:\tlearn: 1963.6058589\ttotal: 5.78s\tremaining: 10.9s\n",
      "173:\tlearn: 1962.9683050\ttotal: 5.81s\tremaining: 10.9s\n",
      "174:\tlearn: 1961.8660230\ttotal: 5.83s\tremaining: 10.8s\n",
      "175:\tlearn: 1961.0099911\ttotal: 5.87s\tremaining: 10.8s\n",
      "176:\tlearn: 1960.1378250\ttotal: 5.9s\tremaining: 10.8s\n",
      "177:\tlearn: 1959.1636563\ttotal: 5.94s\tremaining: 10.7s\n",
      "178:\tlearn: 1958.4683124\ttotal: 5.96s\tremaining: 10.7s\n",
      "179:\tlearn: 1957.5357144\ttotal: 5.99s\tremaining: 10.6s\n",
      "180:\tlearn: 1956.9510554\ttotal: 6.02s\tremaining: 10.6s\n",
      "181:\tlearn: 1956.2044159\ttotal: 6.05s\tremaining: 10.6s\n",
      "182:\tlearn: 1955.7969786\ttotal: 6.08s\tremaining: 10.5s\n",
      "183:\tlearn: 1955.3507458\ttotal: 6.11s\tremaining: 10.5s\n",
      "184:\tlearn: 1954.6424004\ttotal: 6.14s\tremaining: 10.5s\n",
      "185:\tlearn: 1954.1271093\ttotal: 6.16s\tremaining: 10.4s\n",
      "186:\tlearn: 1953.5915277\ttotal: 6.19s\tremaining: 10.4s\n",
      "187:\tlearn: 1952.4877839\ttotal: 6.22s\tremaining: 10.3s\n",
      "188:\tlearn: 1951.9673559\ttotal: 6.26s\tremaining: 10.3s\n",
      "189:\tlearn: 1951.2423623\ttotal: 6.29s\tremaining: 10.3s\n",
      "190:\tlearn: 1950.4461276\ttotal: 6.31s\tremaining: 10.2s\n",
      "191:\tlearn: 1949.5926533\ttotal: 6.35s\tremaining: 10.2s\n",
      "192:\tlearn: 1948.9522022\ttotal: 6.38s\tremaining: 10.1s\n",
      "193:\tlearn: 1948.2544785\ttotal: 6.41s\tremaining: 10.1s\n",
      "194:\tlearn: 1947.7484802\ttotal: 6.45s\tremaining: 10.1s\n",
      "195:\tlearn: 1946.8287383\ttotal: 6.49s\tremaining: 10.1s\n",
      "196:\tlearn: 1946.2617736\ttotal: 6.52s\tremaining: 10s\n",
      "197:\tlearn: 1945.5214358\ttotal: 6.55s\tremaining: 9.99s\n",
      "198:\tlearn: 1945.0293160\ttotal: 6.58s\tremaining: 9.95s\n",
      "199:\tlearn: 1944.2987827\ttotal: 6.6s\tremaining: 9.91s\n",
      "200:\tlearn: 1943.9156527\ttotal: 6.63s\tremaining: 9.86s\n",
      "201:\tlearn: 1943.3000359\ttotal: 6.66s\tremaining: 9.82s\n",
      "202:\tlearn: 1942.8345403\ttotal: 6.69s\tremaining: 9.79s\n",
      "203:\tlearn: 1942.0289295\ttotal: 6.73s\tremaining: 9.76s\n",
      "204:\tlearn: 1941.4409309\ttotal: 6.76s\tremaining: 9.72s\n",
      "205:\tlearn: 1940.6350109\ttotal: 6.79s\tremaining: 9.69s\n",
      "206:\tlearn: 1940.1020373\ttotal: 6.82s\tremaining: 9.66s\n",
      "207:\tlearn: 1939.7326099\ttotal: 6.85s\tremaining: 9.62s\n",
      "208:\tlearn: 1939.0559602\ttotal: 6.89s\tremaining: 9.59s\n",
      "209:\tlearn: 1938.6108550\ttotal: 6.92s\tremaining: 9.55s\n",
      "210:\tlearn: 1937.6698242\ttotal: 6.96s\tremaining: 9.53s\n",
      "211:\tlearn: 1937.1283231\ttotal: 7s\tremaining: 9.51s\n",
      "212:\tlearn: 1936.5603497\ttotal: 7.04s\tremaining: 9.48s\n",
      "213:\tlearn: 1936.1267953\ttotal: 7.07s\tremaining: 9.45s\n",
      "214:\tlearn: 1935.7981111\ttotal: 7.09s\tremaining: 9.4s\n",
      "215:\tlearn: 1935.4050798\ttotal: 7.12s\tremaining: 9.37s\n",
      "216:\tlearn: 1934.9050108\ttotal: 7.15s\tremaining: 9.32s\n",
      "217:\tlearn: 1934.3310595\ttotal: 7.18s\tremaining: 9.29s\n",
      "218:\tlearn: 1933.7855146\ttotal: 7.21s\tremaining: 9.25s\n",
      "219:\tlearn: 1933.3866886\ttotal: 7.24s\tremaining: 9.21s\n",
      "220:\tlearn: 1932.7368775\ttotal: 7.27s\tremaining: 9.18s\n",
      "221:\tlearn: 1932.2148008\ttotal: 7.3s\tremaining: 9.14s\n",
      "222:\tlearn: 1931.6916390\ttotal: 7.33s\tremaining: 9.11s\n",
      "223:\tlearn: 1931.0466318\ttotal: 7.36s\tremaining: 9.07s\n",
      "224:\tlearn: 1930.2649515\ttotal: 7.4s\tremaining: 9.05s\n",
      "225:\tlearn: 1929.5714661\ttotal: 7.44s\tremaining: 9.02s\n",
      "226:\tlearn: 1929.0986265\ttotal: 7.47s\tremaining: 8.98s\n",
      "227:\tlearn: 1928.3037655\ttotal: 7.5s\tremaining: 8.95s\n",
      "228:\tlearn: 1927.7849141\ttotal: 7.53s\tremaining: 8.91s\n",
      "229:\tlearn: 1927.2817481\ttotal: 7.55s\tremaining: 8.86s\n",
      "230:\tlearn: 1926.4316720\ttotal: 7.58s\tremaining: 8.83s\n",
      "231:\tlearn: 1926.0827677\ttotal: 7.61s\tremaining: 8.79s\n",
      "232:\tlearn: 1925.5032400\ttotal: 7.64s\tremaining: 8.76s\n",
      "233:\tlearn: 1925.1262177\ttotal: 7.67s\tremaining: 8.72s\n",
      "234:\tlearn: 1924.5439856\ttotal: 7.7s\tremaining: 8.69s\n",
      "235:\tlearn: 1924.0819028\ttotal: 7.73s\tremaining: 8.65s\n",
      "236:\tlearn: 1923.4363903\ttotal: 7.76s\tremaining: 8.61s\n",
      "237:\tlearn: 1923.0845985\ttotal: 7.79s\tremaining: 8.57s\n",
      "238:\tlearn: 1922.8039358\ttotal: 7.82s\tremaining: 8.54s\n",
      "239:\tlearn: 1922.5397326\ttotal: 7.84s\tremaining: 8.5s\n",
      "240:\tlearn: 1922.0800413\ttotal: 7.88s\tremaining: 8.47s\n",
      "241:\tlearn: 1921.6379395\ttotal: 7.91s\tremaining: 8.43s\n",
      "242:\tlearn: 1921.2259935\ttotal: 7.94s\tremaining: 8.39s\n",
      "243:\tlearn: 1920.5738230\ttotal: 7.97s\tremaining: 8.36s\n",
      "244:\tlearn: 1920.2589304\ttotal: 8s\tremaining: 8.33s\n",
      "245:\tlearn: 1919.9087574\ttotal: 8.03s\tremaining: 8.29s\n",
      "246:\tlearn: 1919.3568168\ttotal: 8.06s\tremaining: 8.25s\n",
      "247:\tlearn: 1918.9641588\ttotal: 8.09s\tremaining: 8.22s\n",
      "248:\tlearn: 1918.6422233\ttotal: 8.12s\tremaining: 8.19s\n",
      "249:\tlearn: 1918.0471557\ttotal: 8.16s\tremaining: 8.16s\n",
      "250:\tlearn: 1917.6280876\ttotal: 8.19s\tremaining: 8.13s\n",
      "251:\tlearn: 1917.2918748\ttotal: 8.22s\tremaining: 8.09s\n",
      "252:\tlearn: 1917.0635881\ttotal: 8.24s\tremaining: 8.05s\n",
      "253:\tlearn: 1916.4943250\ttotal: 8.28s\tremaining: 8.02s\n",
      "254:\tlearn: 1916.1190471\ttotal: 8.31s\tremaining: 7.98s\n",
      "255:\tlearn: 1915.8557077\ttotal: 8.35s\tremaining: 7.95s\n",
      "256:\tlearn: 1915.1999815\ttotal: 8.38s\tremaining: 7.92s\n",
      "257:\tlearn: 1914.8096859\ttotal: 8.41s\tremaining: 7.89s\n",
      "258:\tlearn: 1914.2870899\ttotal: 8.43s\tremaining: 7.85s\n",
      "259:\tlearn: 1913.9205767\ttotal: 8.46s\tremaining: 7.81s\n",
      "260:\tlearn: 1913.3195167\ttotal: 8.49s\tremaining: 7.78s\n",
      "261:\tlearn: 1913.0102468\ttotal: 8.52s\tremaining: 7.74s\n",
      "262:\tlearn: 1912.5007381\ttotal: 8.56s\tremaining: 7.71s\n",
      "263:\tlearn: 1912.1405232\ttotal: 8.59s\tremaining: 7.67s\n",
      "264:\tlearn: 1911.8657226\ttotal: 8.62s\tremaining: 7.64s\n",
      "265:\tlearn: 1911.2850817\ttotal: 8.65s\tremaining: 7.61s\n",
      "266:\tlearn: 1910.9524783\ttotal: 8.67s\tremaining: 7.57s\n",
      "267:\tlearn: 1910.4459621\ttotal: 8.71s\tremaining: 7.54s\n",
      "268:\tlearn: 1910.1686502\ttotal: 8.73s\tremaining: 7.5s\n",
      "269:\tlearn: 1909.7091784\ttotal: 8.76s\tremaining: 7.46s\n",
      "270:\tlearn: 1909.4805422\ttotal: 8.79s\tremaining: 7.43s\n",
      "271:\tlearn: 1909.2278954\ttotal: 8.82s\tremaining: 7.39s\n",
      "272:\tlearn: 1908.7970318\ttotal: 8.86s\tremaining: 7.37s\n",
      "273:\tlearn: 1908.5879615\ttotal: 8.88s\tremaining: 7.33s\n",
      "274:\tlearn: 1908.2895235\ttotal: 8.91s\tremaining: 7.29s\n",
      "275:\tlearn: 1907.8055079\ttotal: 8.95s\tremaining: 7.26s\n",
      "276:\tlearn: 1907.3416171\ttotal: 8.99s\tremaining: 7.24s\n",
      "277:\tlearn: 1906.7958496\ttotal: 9.03s\tremaining: 7.21s\n",
      "278:\tlearn: 1906.3363655\ttotal: 9.06s\tremaining: 7.18s\n",
      "279:\tlearn: 1906.1490111\ttotal: 9.09s\tremaining: 7.14s\n",
      "280:\tlearn: 1905.8576265\ttotal: 9.13s\tremaining: 7.11s\n",
      "281:\tlearn: 1905.4680203\ttotal: 9.16s\tremaining: 7.08s\n",
      "282:\tlearn: 1905.2025272\ttotal: 9.2s\tremaining: 7.06s\n",
      "283:\tlearn: 1904.6152944\ttotal: 9.23s\tremaining: 7.02s\n",
      "284:\tlearn: 1904.2890395\ttotal: 9.26s\tremaining: 6.99s\n",
      "285:\tlearn: 1903.8300251\ttotal: 9.29s\tremaining: 6.95s\n",
      "286:\tlearn: 1903.3857964\ttotal: 9.32s\tremaining: 6.92s\n",
      "287:\tlearn: 1903.0302093\ttotal: 9.36s\tremaining: 6.89s\n",
      "288:\tlearn: 1902.7207024\ttotal: 9.39s\tremaining: 6.85s\n",
      "289:\tlearn: 1902.5422788\ttotal: 9.42s\tremaining: 6.82s\n",
      "290:\tlearn: 1902.2447771\ttotal: 9.45s\tremaining: 6.79s\n",
      "291:\tlearn: 1902.0852839\ttotal: 9.48s\tremaining: 6.75s\n",
      "292:\tlearn: 1901.7665617\ttotal: 9.5s\tremaining: 6.71s\n",
      "293:\tlearn: 1901.1897850\ttotal: 9.54s\tremaining: 6.68s\n",
      "294:\tlearn: 1900.9353777\ttotal: 9.57s\tremaining: 6.65s\n",
      "295:\tlearn: 1900.4087497\ttotal: 9.61s\tremaining: 6.62s\n",
      "296:\tlearn: 1900.2233473\ttotal: 9.64s\tremaining: 6.59s\n",
      "297:\tlearn: 1899.8284003\ttotal: 9.67s\tremaining: 6.55s\n",
      "298:\tlearn: 1899.3622085\ttotal: 9.7s\tremaining: 6.52s\n",
      "299:\tlearn: 1898.8387637\ttotal: 9.74s\tremaining: 6.49s\n",
      "300:\tlearn: 1898.4190486\ttotal: 9.77s\tremaining: 6.46s\n",
      "301:\tlearn: 1897.9934527\ttotal: 9.8s\tremaining: 6.42s\n",
      "302:\tlearn: 1897.7294271\ttotal: 9.83s\tremaining: 6.39s\n",
      "303:\tlearn: 1897.3234759\ttotal: 9.86s\tremaining: 6.36s\n",
      "304:\tlearn: 1897.1564588\ttotal: 9.88s\tremaining: 6.32s\n",
      "305:\tlearn: 1896.8497952\ttotal: 9.91s\tremaining: 6.28s\n",
      "306:\tlearn: 1896.6512565\ttotal: 9.94s\tremaining: 6.25s\n",
      "307:\tlearn: 1896.4873389\ttotal: 9.97s\tremaining: 6.22s\n",
      "308:\tlearn: 1896.1301954\ttotal: 10s\tremaining: 6.18s\n",
      "309:\tlearn: 1895.8914424\ttotal: 10s\tremaining: 6.15s\n",
      "310:\tlearn: 1895.5980343\ttotal: 10.1s\tremaining: 6.12s\n",
      "311:\tlearn: 1895.2438239\ttotal: 10.1s\tremaining: 6.09s\n",
      "312:\tlearn: 1894.8969215\ttotal: 10.1s\tremaining: 6.06s\n",
      "313:\tlearn: 1894.6878612\ttotal: 10.2s\tremaining: 6.03s\n",
      "314:\tlearn: 1894.5187649\ttotal: 10.2s\tremaining: 5.99s\n",
      "315:\tlearn: 1894.3980811\ttotal: 10.2s\tremaining: 5.96s\n",
      "316:\tlearn: 1894.1072693\ttotal: 10.3s\tremaining: 5.93s\n",
      "317:\tlearn: 1893.7369665\ttotal: 10.3s\tremaining: 5.9s\n",
      "318:\tlearn: 1893.4816615\ttotal: 10.3s\tremaining: 5.87s\n",
      "319:\tlearn: 1893.3051612\ttotal: 10.4s\tremaining: 5.83s\n",
      "320:\tlearn: 1892.9650516\ttotal: 10.4s\tremaining: 5.8s\n",
      "321:\tlearn: 1892.5691105\ttotal: 10.4s\tremaining: 5.77s\n",
      "322:\tlearn: 1892.2645617\ttotal: 10.5s\tremaining: 5.74s\n",
      "323:\tlearn: 1891.9891286\ttotal: 10.5s\tremaining: 5.71s\n",
      "324:\tlearn: 1891.4567133\ttotal: 10.5s\tremaining: 5.68s\n",
      "325:\tlearn: 1891.0238261\ttotal: 10.6s\tremaining: 5.65s\n",
      "326:\tlearn: 1890.7761833\ttotal: 10.6s\tremaining: 5.61s\n",
      "327:\tlearn: 1890.3856151\ttotal: 10.6s\tremaining: 5.58s\n",
      "328:\tlearn: 1890.1165217\ttotal: 10.7s\tremaining: 5.54s\n",
      "329:\tlearn: 1889.8010875\ttotal: 10.7s\tremaining: 5.51s\n",
      "330:\tlearn: 1889.4622364\ttotal: 10.7s\tremaining: 5.48s\n",
      "331:\tlearn: 1889.1328813\ttotal: 10.8s\tremaining: 5.44s\n",
      "332:\tlearn: 1888.8408486\ttotal: 10.8s\tremaining: 5.41s\n",
      "333:\tlearn: 1888.5798989\ttotal: 10.8s\tremaining: 5.37s\n",
      "334:\tlearn: 1888.3474772\ttotal: 10.8s\tremaining: 5.34s\n",
      "335:\tlearn: 1888.0327775\ttotal: 10.9s\tremaining: 5.31s\n",
      "336:\tlearn: 1887.7634390\ttotal: 10.9s\tremaining: 5.28s\n",
      "337:\tlearn: 1887.5808786\ttotal: 10.9s\tremaining: 5.25s\n",
      "338:\tlearn: 1887.3663214\ttotal: 11s\tremaining: 5.22s\n",
      "339:\tlearn: 1886.9267339\ttotal: 11s\tremaining: 5.19s\n",
      "340:\tlearn: 1886.7613297\ttotal: 11.1s\tremaining: 5.17s\n",
      "341:\tlearn: 1886.5264001\ttotal: 11.1s\tremaining: 5.14s\n",
      "342:\tlearn: 1886.3084407\ttotal: 11.2s\tremaining: 5.1s\n",
      "343:\tlearn: 1886.0943225\ttotal: 11.2s\tremaining: 5.08s\n",
      "344:\tlearn: 1885.5261558\ttotal: 11.2s\tremaining: 5.05s\n",
      "345:\tlearn: 1885.1019892\ttotal: 11.3s\tremaining: 5.01s\n",
      "346:\tlearn: 1884.8377946\ttotal: 11.3s\tremaining: 4.98s\n",
      "347:\tlearn: 1884.6999684\ttotal: 11.3s\tremaining: 4.94s\n",
      "348:\tlearn: 1884.3675092\ttotal: 11.4s\tremaining: 4.91s\n",
      "349:\tlearn: 1884.1269657\ttotal: 11.4s\tremaining: 4.88s\n",
      "350:\tlearn: 1883.8625818\ttotal: 11.4s\tremaining: 4.84s\n",
      "351:\tlearn: 1883.6295646\ttotal: 11.4s\tremaining: 4.81s\n",
      "352:\tlearn: 1883.1373699\ttotal: 11.5s\tremaining: 4.78s\n",
      "353:\tlearn: 1882.8606565\ttotal: 11.5s\tremaining: 4.74s\n",
      "354:\tlearn: 1882.7317399\ttotal: 11.5s\tremaining: 4.71s\n",
      "355:\tlearn: 1882.4204768\ttotal: 11.6s\tremaining: 4.68s\n",
      "356:\tlearn: 1882.2766487\ttotal: 11.6s\tremaining: 4.65s\n",
      "357:\tlearn: 1882.1305950\ttotal: 11.6s\tremaining: 4.62s\n",
      "358:\tlearn: 1881.8456603\ttotal: 11.7s\tremaining: 4.59s\n",
      "359:\tlearn: 1881.5656126\ttotal: 11.7s\tremaining: 4.56s\n",
      "360:\tlearn: 1881.2212673\ttotal: 11.8s\tremaining: 4.53s\n",
      "361:\tlearn: 1880.8304943\ttotal: 11.8s\tremaining: 4.49s\n",
      "362:\tlearn: 1880.5539989\ttotal: 11.8s\tremaining: 4.46s\n",
      "363:\tlearn: 1880.3621510\ttotal: 11.9s\tremaining: 4.43s\n",
      "364:\tlearn: 1880.1549384\ttotal: 11.9s\tremaining: 4.39s\n",
      "365:\tlearn: 1879.9609186\ttotal: 11.9s\tremaining: 4.36s\n",
      "366:\tlearn: 1879.6765727\ttotal: 12s\tremaining: 4.33s\n",
      "367:\tlearn: 1879.5323125\ttotal: 12s\tremaining: 4.3s\n",
      "368:\tlearn: 1879.1251677\ttotal: 12s\tremaining: 4.27s\n",
      "369:\tlearn: 1878.9591573\ttotal: 12.1s\tremaining: 4.24s\n",
      "370:\tlearn: 1878.7562589\ttotal: 12.1s\tremaining: 4.2s\n",
      "371:\tlearn: 1878.5097214\ttotal: 12.1s\tremaining: 4.17s\n",
      "372:\tlearn: 1878.3016630\ttotal: 12.1s\tremaining: 4.13s\n",
      "373:\tlearn: 1878.0954216\ttotal: 12.2s\tremaining: 4.1s\n",
      "374:\tlearn: 1877.7880112\ttotal: 12.2s\tremaining: 4.07s\n",
      "375:\tlearn: 1877.4934346\ttotal: 12.2s\tremaining: 4.04s\n",
      "376:\tlearn: 1877.2743777\ttotal: 12.3s\tremaining: 4.01s\n",
      "377:\tlearn: 1876.9898132\ttotal: 12.3s\tremaining: 3.98s\n",
      "378:\tlearn: 1876.8038474\ttotal: 12.3s\tremaining: 3.94s\n",
      "379:\tlearn: 1876.6430384\ttotal: 12.4s\tremaining: 3.91s\n",
      "380:\tlearn: 1876.4751645\ttotal: 12.4s\tremaining: 3.88s\n",
      "381:\tlearn: 1876.2372859\ttotal: 12.4s\tremaining: 3.84s\n",
      "382:\tlearn: 1876.0567117\ttotal: 12.5s\tremaining: 3.81s\n",
      "383:\tlearn: 1875.9362520\ttotal: 12.5s\tremaining: 3.78s\n",
      "384:\tlearn: 1875.7015145\ttotal: 12.5s\tremaining: 3.75s\n",
      "385:\tlearn: 1875.4903057\ttotal: 12.6s\tremaining: 3.71s\n",
      "386:\tlearn: 1875.2771060\ttotal: 12.6s\tremaining: 3.68s\n",
      "387:\tlearn: 1875.0018815\ttotal: 12.6s\tremaining: 3.65s\n",
      "388:\tlearn: 1874.5670461\ttotal: 12.7s\tremaining: 3.62s\n",
      "389:\tlearn: 1874.4119502\ttotal: 12.7s\tremaining: 3.58s\n",
      "390:\tlearn: 1874.2250928\ttotal: 12.7s\tremaining: 3.55s\n",
      "391:\tlearn: 1874.0538922\ttotal: 12.8s\tremaining: 3.52s\n",
      "392:\tlearn: 1873.8518257\ttotal: 12.8s\tremaining: 3.48s\n",
      "393:\tlearn: 1873.7219614\ttotal: 12.8s\tremaining: 3.45s\n",
      "394:\tlearn: 1873.5339620\ttotal: 12.9s\tremaining: 3.42s\n",
      "395:\tlearn: 1873.2109036\ttotal: 12.9s\tremaining: 3.39s\n",
      "396:\tlearn: 1873.0456681\ttotal: 12.9s\tremaining: 3.35s\n",
      "397:\tlearn: 1872.7902239\ttotal: 13s\tremaining: 3.32s\n",
      "398:\tlearn: 1872.5674430\ttotal: 13s\tremaining: 3.29s\n",
      "399:\tlearn: 1872.3448211\ttotal: 13s\tremaining: 3.26s\n",
      "400:\tlearn: 1872.1631422\ttotal: 13.1s\tremaining: 3.23s\n",
      "401:\tlearn: 1871.9276229\ttotal: 13.1s\tremaining: 3.19s\n",
      "402:\tlearn: 1871.7475229\ttotal: 13.1s\tremaining: 3.16s\n",
      "403:\tlearn: 1871.5339664\ttotal: 13.2s\tremaining: 3.13s\n",
      "404:\tlearn: 1871.3113719\ttotal: 13.2s\tremaining: 3.1s\n",
      "405:\tlearn: 1871.1763388\ttotal: 13.2s\tremaining: 3.07s\n",
      "406:\tlearn: 1870.9254597\ttotal: 13.3s\tremaining: 3.03s\n",
      "407:\tlearn: 1870.6893929\ttotal: 13.3s\tremaining: 3s\n",
      "408:\tlearn: 1870.5008609\ttotal: 13.3s\tremaining: 2.97s\n",
      "409:\tlearn: 1870.3396703\ttotal: 13.4s\tremaining: 2.94s\n",
      "410:\tlearn: 1870.0987638\ttotal: 13.4s\tremaining: 2.9s\n",
      "411:\tlearn: 1869.8534335\ttotal: 13.4s\tremaining: 2.87s\n",
      "412:\tlearn: 1869.5522854\ttotal: 13.5s\tremaining: 2.84s\n",
      "413:\tlearn: 1869.3887569\ttotal: 13.5s\tremaining: 2.81s\n",
      "414:\tlearn: 1869.2169101\ttotal: 13.6s\tremaining: 2.78s\n",
      "415:\tlearn: 1869.0883000\ttotal: 13.6s\tremaining: 2.75s\n",
      "416:\tlearn: 1868.9231465\ttotal: 13.6s\tremaining: 2.71s\n",
      "417:\tlearn: 1868.7054607\ttotal: 13.7s\tremaining: 2.68s\n",
      "418:\tlearn: 1868.3697633\ttotal: 13.7s\tremaining: 2.65s\n",
      "419:\tlearn: 1868.2265437\ttotal: 13.7s\tremaining: 2.62s\n",
      "420:\tlearn: 1868.0136280\ttotal: 13.8s\tremaining: 2.58s\n",
      "421:\tlearn: 1867.8026041\ttotal: 13.8s\tremaining: 2.55s\n",
      "422:\tlearn: 1867.6387412\ttotal: 13.8s\tremaining: 2.52s\n",
      "423:\tlearn: 1867.5442768\ttotal: 13.9s\tremaining: 2.48s\n",
      "424:\tlearn: 1867.3895181\ttotal: 13.9s\tremaining: 2.45s\n",
      "425:\tlearn: 1867.2330356\ttotal: 13.9s\tremaining: 2.42s\n",
      "426:\tlearn: 1866.9493185\ttotal: 14s\tremaining: 2.39s\n",
      "427:\tlearn: 1866.6525645\ttotal: 14s\tremaining: 2.35s\n",
      "428:\tlearn: 1866.4747826\ttotal: 14s\tremaining: 2.32s\n",
      "429:\tlearn: 1866.3140251\ttotal: 14.1s\tremaining: 2.29s\n",
      "430:\tlearn: 1866.1297224\ttotal: 14.1s\tremaining: 2.26s\n",
      "431:\tlearn: 1866.0266362\ttotal: 14.1s\tremaining: 2.22s\n",
      "432:\tlearn: 1865.8969860\ttotal: 14.2s\tremaining: 2.19s\n",
      "433:\tlearn: 1865.7284574\ttotal: 14.2s\tremaining: 2.16s\n",
      "434:\tlearn: 1865.4916344\ttotal: 14.2s\tremaining: 2.13s\n",
      "435:\tlearn: 1865.2373145\ttotal: 14.3s\tremaining: 2.09s\n",
      "436:\tlearn: 1865.0688987\ttotal: 14.3s\tremaining: 2.06s\n",
      "437:\tlearn: 1864.9625852\ttotal: 14.3s\tremaining: 2.03s\n",
      "438:\tlearn: 1864.7568627\ttotal: 14.4s\tremaining: 1.99s\n",
      "439:\tlearn: 1864.6540109\ttotal: 14.4s\tremaining: 1.96s\n",
      "440:\tlearn: 1864.4033122\ttotal: 14.4s\tremaining: 1.93s\n",
      "441:\tlearn: 1864.1944687\ttotal: 14.5s\tremaining: 1.9s\n",
      "442:\tlearn: 1864.0138872\ttotal: 14.5s\tremaining: 1.86s\n",
      "443:\tlearn: 1863.8455776\ttotal: 14.5s\tremaining: 1.83s\n",
      "444:\tlearn: 1863.6009714\ttotal: 14.6s\tremaining: 1.8s\n",
      "445:\tlearn: 1863.3882472\ttotal: 14.6s\tremaining: 1.77s\n",
      "446:\tlearn: 1863.2348194\ttotal: 14.6s\tremaining: 1.73s\n",
      "447:\tlearn: 1863.0355226\ttotal: 14.7s\tremaining: 1.7s\n",
      "448:\tlearn: 1862.9722562\ttotal: 14.7s\tremaining: 1.67s\n",
      "449:\tlearn: 1862.8188591\ttotal: 14.7s\tremaining: 1.64s\n",
      "450:\tlearn: 1862.6446640\ttotal: 14.8s\tremaining: 1.6s\n",
      "451:\tlearn: 1862.4464254\ttotal: 14.8s\tremaining: 1.57s\n",
      "452:\tlearn: 1862.3528211\ttotal: 14.8s\tremaining: 1.54s\n",
      "453:\tlearn: 1862.2459844\ttotal: 14.9s\tremaining: 1.5s\n",
      "454:\tlearn: 1862.0823846\ttotal: 14.9s\tremaining: 1.47s\n",
      "455:\tlearn: 1861.9433009\ttotal: 14.9s\tremaining: 1.44s\n",
      "456:\tlearn: 1861.7963054\ttotal: 15s\tremaining: 1.41s\n",
      "457:\tlearn: 1861.6314372\ttotal: 15s\tremaining: 1.38s\n",
      "458:\tlearn: 1861.5134196\ttotal: 15s\tremaining: 1.34s\n",
      "459:\tlearn: 1861.2791826\ttotal: 15.1s\tremaining: 1.31s\n",
      "460:\tlearn: 1861.1423765\ttotal: 15.1s\tremaining: 1.28s\n",
      "461:\tlearn: 1861.0715558\ttotal: 15.1s\tremaining: 1.24s\n",
      "462:\tlearn: 1860.9380633\ttotal: 15.2s\tremaining: 1.21s\n",
      "463:\tlearn: 1860.7676015\ttotal: 15.2s\tremaining: 1.18s\n",
      "464:\tlearn: 1860.6143529\ttotal: 15.2s\tremaining: 1.15s\n",
      "465:\tlearn: 1860.3938759\ttotal: 15.3s\tremaining: 1.11s\n",
      "466:\tlearn: 1860.1810361\ttotal: 15.3s\tremaining: 1.08s\n",
      "467:\tlearn: 1860.0575394\ttotal: 15.3s\tremaining: 1.05s\n",
      "468:\tlearn: 1859.9087640\ttotal: 15.4s\tremaining: 1.01s\n",
      "469:\tlearn: 1859.7895317\ttotal: 15.4s\tremaining: 983ms\n",
      "470:\tlearn: 1859.5751072\ttotal: 15.4s\tremaining: 950ms\n",
      "471:\tlearn: 1859.3431653\ttotal: 15.5s\tremaining: 917ms\n",
      "472:\tlearn: 1859.1500190\ttotal: 15.5s\tremaining: 884ms\n",
      "473:\tlearn: 1858.9958731\ttotal: 15.5s\tremaining: 851ms\n",
      "474:\tlearn: 1858.8191898\ttotal: 15.6s\tremaining: 818ms\n",
      "475:\tlearn: 1858.7280362\ttotal: 15.6s\tremaining: 786ms\n",
      "476:\tlearn: 1858.5749566\ttotal: 15.6s\tremaining: 753ms\n",
      "477:\tlearn: 1858.5081054\ttotal: 15.6s\tremaining: 720ms\n",
      "478:\tlearn: 1858.3227025\ttotal: 15.7s\tremaining: 687ms\n",
      "479:\tlearn: 1858.1679497\ttotal: 15.7s\tremaining: 654ms\n",
      "480:\tlearn: 1858.0505461\ttotal: 15.7s\tremaining: 621ms\n",
      "481:\tlearn: 1857.9070208\ttotal: 15.8s\tremaining: 589ms\n",
      "482:\tlearn: 1857.7868351\ttotal: 15.8s\tremaining: 556ms\n",
      "483:\tlearn: 1857.5993083\ttotal: 15.8s\tremaining: 524ms\n",
      "484:\tlearn: 1857.4662292\ttotal: 15.9s\tremaining: 491ms\n",
      "485:\tlearn: 1857.2995451\ttotal: 15.9s\tremaining: 458ms\n",
      "486:\tlearn: 1857.1312876\ttotal: 15.9s\tremaining: 425ms\n",
      "487:\tlearn: 1857.0468359\ttotal: 16s\tremaining: 393ms\n",
      "488:\tlearn: 1856.9660650\ttotal: 16s\tremaining: 360ms\n",
      "489:\tlearn: 1856.8287766\ttotal: 16s\tremaining: 327ms\n",
      "490:\tlearn: 1856.5819175\ttotal: 16.1s\tremaining: 294ms\n",
      "491:\tlearn: 1856.5015323\ttotal: 16.1s\tremaining: 262ms\n",
      "492:\tlearn: 1856.3920569\ttotal: 16.1s\tremaining: 229ms\n",
      "493:\tlearn: 1856.1827636\ttotal: 16.1s\tremaining: 196ms\n",
      "494:\tlearn: 1855.9206776\ttotal: 16.2s\tremaining: 163ms\n",
      "495:\tlearn: 1855.8576969\ttotal: 16.2s\tremaining: 131ms\n",
      "496:\tlearn: 1855.6693633\ttotal: 16.2s\tremaining: 97.9ms\n",
      "497:\tlearn: 1855.4808196\ttotal: 16.3s\tremaining: 65.3ms\n",
      "498:\tlearn: 1855.3774255\ttotal: 16.3s\tremaining: 32.6ms\n",
      "499:\tlearn: 1855.2377535\ttotal: 16.3s\tremaining: 0us\n",
      "0:\tlearn: 4381.2498416\ttotal: 64ms\tremaining: 22.3s\n",
      "1:\tlearn: 4291.2759107\ttotal: 126ms\tremaining: 21.9s\n",
      "2:\tlearn: 4203.0639025\ttotal: 187ms\tremaining: 21.6s\n",
      "3:\tlearn: 4117.9527317\ttotal: 239ms\tremaining: 20.6s\n",
      "4:\tlearn: 4036.1850840\ttotal: 289ms\tremaining: 20s\n",
      "5:\tlearn: 3957.4415677\ttotal: 350ms\tremaining: 20.1s\n",
      "6:\tlearn: 3879.7303091\ttotal: 416ms\tremaining: 20.4s\n",
      "7:\tlearn: 3807.0290337\ttotal: 469ms\tremaining: 20s\n",
      "8:\tlearn: 3736.6234223\ttotal: 524ms\tremaining: 19.8s\n",
      "9:\tlearn: 3667.0534487\ttotal: 582ms\tremaining: 19.8s\n",
      "10:\tlearn: 3601.1385745\ttotal: 644ms\tremaining: 19.8s\n",
      "11:\tlearn: 3538.1240846\ttotal: 701ms\tremaining: 19.7s\n",
      "12:\tlearn: 3477.2958153\ttotal: 753ms\tremaining: 19.5s\n",
      "13:\tlearn: 3418.7102724\ttotal: 811ms\tremaining: 19.5s\n",
      "14:\tlearn: 3363.1649922\ttotal: 871ms\tremaining: 19.4s\n",
      "15:\tlearn: 3308.8081280\ttotal: 925ms\tremaining: 19.3s\n",
      "16:\tlearn: 3256.7230188\ttotal: 980ms\tremaining: 19.2s\n",
      "17:\tlearn: 3205.0510966\ttotal: 1.04s\tremaining: 19.2s\n",
      "18:\tlearn: 3157.4765606\ttotal: 1.1s\tremaining: 19.3s\n",
      "19:\tlearn: 3109.3823855\ttotal: 1.16s\tremaining: 19.1s\n",
      "20:\tlearn: 3063.4440546\ttotal: 1.21s\tremaining: 19s\n",
      "21:\tlearn: 3019.7118393\ttotal: 1.27s\tremaining: 19s\n",
      "22:\tlearn: 2977.3507925\ttotal: 1.33s\tremaining: 18.9s\n",
      "23:\tlearn: 2937.6598399\ttotal: 1.38s\tremaining: 18.8s\n",
      "24:\tlearn: 2898.2264318\ttotal: 1.44s\tremaining: 18.7s\n",
      "25:\tlearn: 2861.6151766\ttotal: 1.5s\tremaining: 18.6s\n",
      "26:\tlearn: 2825.2613355\ttotal: 1.56s\tremaining: 18.7s\n",
      "27:\tlearn: 2789.7798229\ttotal: 1.61s\tremaining: 18.6s\n",
      "28:\tlearn: 2757.0489395\ttotal: 1.67s\tremaining: 18.4s\n",
      "29:\tlearn: 2723.7584726\ttotal: 1.73s\tremaining: 18.4s\n",
      "30:\tlearn: 2691.9660932\ttotal: 1.79s\tremaining: 18.4s\n",
      "31:\tlearn: 2662.9854590\ttotal: 1.84s\tremaining: 18.3s\n",
      "32:\tlearn: 2632.8580887\ttotal: 1.9s\tremaining: 18.3s\n",
      "33:\tlearn: 2605.4527208\ttotal: 1.96s\tremaining: 18.2s\n",
      "34:\tlearn: 2579.1770632\ttotal: 2.02s\tremaining: 18.2s\n",
      "35:\tlearn: 2554.8138984\ttotal: 2.08s\tremaining: 18.1s\n",
      "36:\tlearn: 2530.6644290\ttotal: 2.13s\tremaining: 18.1s\n",
      "37:\tlearn: 2506.9212265\ttotal: 2.19s\tremaining: 18s\n",
      "38:\tlearn: 2485.4572359\ttotal: 2.26s\tremaining: 18s\n",
      "39:\tlearn: 2463.9115500\ttotal: 2.31s\tremaining: 17.9s\n",
      "40:\tlearn: 2443.4196311\ttotal: 2.37s\tremaining: 17.9s\n",
      "41:\tlearn: 2422.9082875\ttotal: 2.44s\tremaining: 17.9s\n",
      "42:\tlearn: 2403.5956971\ttotal: 2.49s\tremaining: 17.8s\n",
      "43:\tlearn: 2385.3001902\ttotal: 2.54s\tremaining: 17.7s\n",
      "44:\tlearn: 2366.9761964\ttotal: 2.6s\tremaining: 17.6s\n",
      "45:\tlearn: 2349.0461320\ttotal: 2.66s\tremaining: 17.6s\n",
      "46:\tlearn: 2331.4921020\ttotal: 2.72s\tremaining: 17.5s\n",
      "47:\tlearn: 2315.9411275\ttotal: 2.77s\tremaining: 17.4s\n",
      "48:\tlearn: 2300.5799693\ttotal: 2.83s\tremaining: 17.4s\n",
      "49:\tlearn: 2285.6064059\ttotal: 2.89s\tremaining: 17.3s\n",
      "50:\tlearn: 2271.6367046\ttotal: 2.95s\tremaining: 17.3s\n",
      "51:\tlearn: 2258.0415867\ttotal: 3.01s\tremaining: 17.3s\n",
      "52:\tlearn: 2244.5758661\ttotal: 3.06s\tremaining: 17.2s\n",
      "53:\tlearn: 2231.6432374\ttotal: 3.12s\tremaining: 17.1s\n",
      "54:\tlearn: 2219.7054177\ttotal: 3.17s\tremaining: 17s\n",
      "55:\tlearn: 2207.8916539\ttotal: 3.23s\tremaining: 16.9s\n",
      "56:\tlearn: 2196.4628132\ttotal: 3.28s\tremaining: 16.9s\n",
      "57:\tlearn: 2185.2413609\ttotal: 3.33s\tremaining: 16.8s\n",
      "58:\tlearn: 2174.4314511\ttotal: 3.4s\tremaining: 16.8s\n",
      "59:\tlearn: 2165.1853620\ttotal: 3.45s\tremaining: 16.7s\n",
      "60:\tlearn: 2155.0335803\ttotal: 3.49s\tremaining: 16.6s\n",
      "61:\tlearn: 2145.4429024\ttotal: 3.55s\tremaining: 16.5s\n",
      "62:\tlearn: 2136.8103869\ttotal: 3.61s\tremaining: 16.4s\n",
      "63:\tlearn: 2128.7532441\ttotal: 3.67s\tremaining: 16.4s\n",
      "64:\tlearn: 2121.0135036\ttotal: 3.72s\tremaining: 16.3s\n",
      "65:\tlearn: 2112.5725448\ttotal: 3.77s\tremaining: 16.2s\n",
      "66:\tlearn: 2105.0354684\ttotal: 3.82s\tremaining: 16.1s\n",
      "67:\tlearn: 2097.2049361\ttotal: 3.88s\tremaining: 16.1s\n",
      "68:\tlearn: 2089.7984134\ttotal: 3.93s\tremaining: 16s\n",
      "69:\tlearn: 2082.8358308\ttotal: 3.98s\tremaining: 15.9s\n",
      "70:\tlearn: 2076.2567783\ttotal: 4.04s\tremaining: 15.9s\n",
      "71:\tlearn: 2069.4848241\ttotal: 4.09s\tremaining: 15.8s\n",
      "72:\tlearn: 2062.3652660\ttotal: 4.15s\tremaining: 15.8s\n",
      "73:\tlearn: 2056.7841436\ttotal: 4.21s\tremaining: 15.7s\n",
      "74:\tlearn: 2050.1656230\ttotal: 4.27s\tremaining: 15.7s\n",
      "75:\tlearn: 2044.9723782\ttotal: 4.33s\tremaining: 15.6s\n",
      "76:\tlearn: 2039.0809371\ttotal: 4.38s\tremaining: 15.5s\n",
      "77:\tlearn: 2034.0326525\ttotal: 4.44s\tremaining: 15.5s\n",
      "78:\tlearn: 2028.5759216\ttotal: 4.5s\tremaining: 15.5s\n",
      "79:\tlearn: 2023.6379363\ttotal: 4.56s\tremaining: 15.4s\n",
      "80:\tlearn: 2018.5066507\ttotal: 4.62s\tremaining: 15.3s\n",
      "81:\tlearn: 2013.6819889\ttotal: 4.68s\tremaining: 15.3s\n",
      "82:\tlearn: 2009.1033893\ttotal: 4.74s\tremaining: 15.3s\n",
      "83:\tlearn: 2004.5469354\ttotal: 4.8s\tremaining: 15.2s\n",
      "84:\tlearn: 1999.9989817\ttotal: 4.85s\tremaining: 15.1s\n",
      "85:\tlearn: 1995.5303629\ttotal: 4.9s\tremaining: 15s\n",
      "86:\tlearn: 1991.8991782\ttotal: 4.96s\tremaining: 15s\n",
      "87:\tlearn: 1987.7509691\ttotal: 5.03s\tremaining: 15s\n",
      "88:\tlearn: 1984.4129587\ttotal: 5.08s\tremaining: 14.9s\n",
      "89:\tlearn: 1979.9212437\ttotal: 5.13s\tremaining: 14.8s\n",
      "90:\tlearn: 1976.2136003\ttotal: 5.19s\tremaining: 14.8s\n",
      "91:\tlearn: 1972.6041296\ttotal: 5.25s\tremaining: 14.7s\n",
      "92:\tlearn: 1969.2820400\ttotal: 5.3s\tremaining: 14.6s\n",
      "93:\tlearn: 1966.3163179\ttotal: 5.35s\tremaining: 14.6s\n",
      "94:\tlearn: 1963.0229493\ttotal: 5.4s\tremaining: 14.5s\n",
      "95:\tlearn: 1959.7261237\ttotal: 5.46s\tremaining: 14.4s\n",
      "96:\tlearn: 1956.9528898\ttotal: 5.51s\tremaining: 14.4s\n",
      "97:\tlearn: 1954.4379422\ttotal: 5.57s\tremaining: 14.3s\n",
      "98:\tlearn: 1951.3997065\ttotal: 5.63s\tremaining: 14.3s\n",
      "99:\tlearn: 1948.6924201\ttotal: 5.69s\tremaining: 14.2s\n",
      "100:\tlearn: 1946.5433307\ttotal: 5.75s\tremaining: 14.2s\n",
      "101:\tlearn: 1943.9961736\ttotal: 5.8s\tremaining: 14.1s\n",
      "102:\tlearn: 1941.3896114\ttotal: 5.86s\tremaining: 14.1s\n",
      "103:\tlearn: 1938.8420923\ttotal: 5.92s\tremaining: 14s\n",
      "104:\tlearn: 1936.8017883\ttotal: 5.97s\tremaining: 13.9s\n",
      "105:\tlearn: 1934.0273044\ttotal: 6.03s\tremaining: 13.9s\n",
      "106:\tlearn: 1931.9779534\ttotal: 6.08s\tremaining: 13.8s\n",
      "107:\tlearn: 1930.0852795\ttotal: 6.15s\tremaining: 13.8s\n",
      "108:\tlearn: 1927.9951525\ttotal: 6.2s\tremaining: 13.7s\n",
      "109:\tlearn: 1926.2503453\ttotal: 6.25s\tremaining: 13.6s\n",
      "110:\tlearn: 1924.4614018\ttotal: 6.31s\tremaining: 13.6s\n",
      "111:\tlearn: 1922.5832268\ttotal: 6.36s\tremaining: 13.5s\n",
      "112:\tlearn: 1920.5681003\ttotal: 6.42s\tremaining: 13.5s\n",
      "113:\tlearn: 1918.7739743\ttotal: 6.46s\tremaining: 13.4s\n",
      "114:\tlearn: 1916.9096639\ttotal: 6.52s\tremaining: 13.3s\n",
      "115:\tlearn: 1914.8590927\ttotal: 6.58s\tremaining: 13.3s\n",
      "116:\tlearn: 1913.0832439\ttotal: 6.63s\tremaining: 13.2s\n",
      "117:\tlearn: 1911.5530081\ttotal: 6.68s\tremaining: 13.1s\n",
      "118:\tlearn: 1909.8241679\ttotal: 6.72s\tremaining: 13.1s\n",
      "119:\tlearn: 1908.1126469\ttotal: 6.78s\tremaining: 13s\n",
      "120:\tlearn: 1906.5512670\ttotal: 6.83s\tremaining: 12.9s\n",
      "121:\tlearn: 1905.1265977\ttotal: 6.88s\tremaining: 12.9s\n",
      "122:\tlearn: 1903.9264511\ttotal: 6.93s\tremaining: 12.8s\n",
      "123:\tlearn: 1902.6720757\ttotal: 6.99s\tremaining: 12.7s\n",
      "124:\tlearn: 1901.1702856\ttotal: 7.05s\tremaining: 12.7s\n",
      "125:\tlearn: 1899.7212298\ttotal: 7.09s\tremaining: 12.6s\n",
      "126:\tlearn: 1898.0796589\ttotal: 7.14s\tremaining: 12.5s\n",
      "127:\tlearn: 1896.4896572\ttotal: 7.19s\tremaining: 12.5s\n",
      "128:\tlearn: 1895.2984738\ttotal: 7.26s\tremaining: 12.4s\n",
      "129:\tlearn: 1893.8252995\ttotal: 7.31s\tremaining: 12.4s\n",
      "130:\tlearn: 1892.6454607\ttotal: 7.36s\tremaining: 12.3s\n",
      "131:\tlearn: 1891.5936367\ttotal: 7.41s\tremaining: 12.2s\n",
      "132:\tlearn: 1890.4999749\ttotal: 7.46s\tremaining: 12.2s\n",
      "133:\tlearn: 1889.0658283\ttotal: 7.51s\tremaining: 12.1s\n",
      "134:\tlearn: 1887.9143561\ttotal: 7.56s\tremaining: 12s\n",
      "135:\tlearn: 1886.8801807\ttotal: 7.6s\tremaining: 12s\n",
      "136:\tlearn: 1885.8202125\ttotal: 7.66s\tremaining: 11.9s\n",
      "137:\tlearn: 1884.6287315\ttotal: 7.72s\tremaining: 11.9s\n",
      "138:\tlearn: 1883.6254601\ttotal: 7.78s\tremaining: 11.8s\n",
      "139:\tlearn: 1882.4257984\ttotal: 7.83s\tremaining: 11.7s\n",
      "140:\tlearn: 1881.1510695\ttotal: 7.88s\tremaining: 11.7s\n",
      "141:\tlearn: 1879.9000619\ttotal: 7.94s\tremaining: 11.6s\n",
      "142:\tlearn: 1879.1384176\ttotal: 8s\tremaining: 11.6s\n",
      "143:\tlearn: 1877.9988996\ttotal: 8.04s\tremaining: 11.5s\n",
      "144:\tlearn: 1877.2297895\ttotal: 8.09s\tremaining: 11.4s\n",
      "145:\tlearn: 1876.2367612\ttotal: 8.14s\tremaining: 11.4s\n",
      "146:\tlearn: 1875.4116656\ttotal: 8.21s\tremaining: 11.3s\n",
      "147:\tlearn: 1874.5610441\ttotal: 8.25s\tremaining: 11.3s\n",
      "148:\tlearn: 1873.6573829\ttotal: 8.3s\tremaining: 11.2s\n",
      "149:\tlearn: 1872.8395884\ttotal: 8.35s\tremaining: 11.1s\n",
      "150:\tlearn: 1871.6868499\ttotal: 8.41s\tremaining: 11.1s\n",
      "151:\tlearn: 1870.8774322\ttotal: 8.47s\tremaining: 11s\n",
      "152:\tlearn: 1870.2727371\ttotal: 8.52s\tremaining: 11s\n",
      "153:\tlearn: 1869.5760254\ttotal: 8.57s\tremaining: 10.9s\n",
      "154:\tlearn: 1868.9559409\ttotal: 8.61s\tremaining: 10.8s\n",
      "155:\tlearn: 1868.3293966\ttotal: 8.66s\tremaining: 10.8s\n",
      "156:\tlearn: 1867.6746336\ttotal: 8.72s\tremaining: 10.7s\n",
      "157:\tlearn: 1866.9245910\ttotal: 8.77s\tremaining: 10.7s\n",
      "158:\tlearn: 1866.1042897\ttotal: 8.81s\tremaining: 10.6s\n",
      "159:\tlearn: 1865.4372036\ttotal: 8.86s\tremaining: 10.5s\n",
      "160:\tlearn: 1864.7659389\ttotal: 8.92s\tremaining: 10.5s\n",
      "161:\tlearn: 1864.1739951\ttotal: 8.97s\tremaining: 10.4s\n",
      "162:\tlearn: 1863.5537880\ttotal: 9.02s\tremaining: 10.3s\n",
      "163:\tlearn: 1862.8903114\ttotal: 9.07s\tremaining: 10.3s\n",
      "164:\tlearn: 1862.1791275\ttotal: 9.12s\tremaining: 10.2s\n",
      "165:\tlearn: 1861.3204470\ttotal: 9.17s\tremaining: 10.2s\n",
      "166:\tlearn: 1860.8058115\ttotal: 9.23s\tremaining: 10.1s\n",
      "167:\tlearn: 1860.0048533\ttotal: 9.29s\tremaining: 10.1s\n",
      "168:\tlearn: 1859.3314514\ttotal: 9.34s\tremaining: 10s\n",
      "169:\tlearn: 1858.5629311\ttotal: 9.39s\tremaining: 9.95s\n",
      "170:\tlearn: 1857.9574372\ttotal: 9.44s\tremaining: 9.89s\n",
      "171:\tlearn: 1857.3535836\ttotal: 9.49s\tremaining: 9.82s\n",
      "172:\tlearn: 1856.8528463\ttotal: 9.54s\tremaining: 9.76s\n",
      "173:\tlearn: 1856.2909112\ttotal: 9.58s\tremaining: 9.69s\n",
      "174:\tlearn: 1855.6497152\ttotal: 9.63s\tremaining: 9.63s\n",
      "175:\tlearn: 1855.1091479\ttotal: 9.68s\tremaining: 9.57s\n",
      "176:\tlearn: 1854.6540385\ttotal: 9.73s\tremaining: 9.51s\n",
      "177:\tlearn: 1854.1586870\ttotal: 9.78s\tremaining: 9.45s\n",
      "178:\tlearn: 1853.5695733\ttotal: 9.84s\tremaining: 9.4s\n",
      "179:\tlearn: 1852.7743786\ttotal: 9.91s\tremaining: 9.36s\n",
      "180:\tlearn: 1852.0729776\ttotal: 9.96s\tremaining: 9.29s\n",
      "181:\tlearn: 1851.5960133\ttotal: 10s\tremaining: 9.23s\n",
      "182:\tlearn: 1851.0556997\ttotal: 10.1s\tremaining: 9.17s\n",
      "183:\tlearn: 1850.6048145\ttotal: 10.1s\tremaining: 9.13s\n",
      "184:\tlearn: 1850.0981129\ttotal: 10.2s\tremaining: 9.08s\n",
      "185:\tlearn: 1849.1798456\ttotal: 10.2s\tremaining: 9.02s\n",
      "186:\tlearn: 1848.4928644\ttotal: 10.3s\tremaining: 8.97s\n",
      "187:\tlearn: 1847.9293881\ttotal: 10.3s\tremaining: 8.91s\n",
      "188:\tlearn: 1847.3305388\ttotal: 10.4s\tremaining: 8.86s\n",
      "189:\tlearn: 1846.7258164\ttotal: 10.4s\tremaining: 8.8s\n",
      "190:\tlearn: 1846.3968986\ttotal: 10.5s\tremaining: 8.74s\n",
      "191:\tlearn: 1845.9036252\ttotal: 10.6s\tremaining: 8.69s\n",
      "192:\tlearn: 1845.5698021\ttotal: 10.6s\tremaining: 8.63s\n",
      "193:\tlearn: 1844.9460490\ttotal: 10.7s\tremaining: 8.57s\n",
      "194:\tlearn: 1844.3827173\ttotal: 10.7s\tremaining: 8.51s\n",
      "195:\tlearn: 1843.9607825\ttotal: 10.8s\tremaining: 8.46s\n",
      "196:\tlearn: 1843.5844435\ttotal: 10.8s\tremaining: 8.4s\n",
      "197:\tlearn: 1843.1717266\ttotal: 10.9s\tremaining: 8.35s\n",
      "198:\tlearn: 1842.7318243\ttotal: 10.9s\tremaining: 8.3s\n",
      "199:\tlearn: 1842.3369816\ttotal: 11s\tremaining: 8.25s\n",
      "200:\tlearn: 1841.8317582\ttotal: 11s\tremaining: 8.19s\n",
      "201:\tlearn: 1841.2719231\ttotal: 11.1s\tremaining: 8.13s\n",
      "202:\tlearn: 1841.0768458\ttotal: 11.1s\tremaining: 8.07s\n",
      "203:\tlearn: 1840.2396542\ttotal: 11.2s\tremaining: 8.02s\n",
      "204:\tlearn: 1839.6415430\ttotal: 11.3s\tremaining: 7.96s\n",
      "205:\tlearn: 1839.3219301\ttotal: 11.3s\tremaining: 7.9s\n",
      "206:\tlearn: 1838.8294892\ttotal: 11.3s\tremaining: 7.84s\n",
      "207:\tlearn: 1838.4014939\ttotal: 11.4s\tremaining: 7.79s\n",
      "208:\tlearn: 1837.8901949\ttotal: 11.5s\tremaining: 7.73s\n",
      "209:\tlearn: 1837.2348049\ttotal: 11.5s\tremaining: 7.68s\n",
      "210:\tlearn: 1836.8122570\ttotal: 11.6s\tremaining: 7.62s\n",
      "211:\tlearn: 1836.4777568\ttotal: 11.6s\tremaining: 7.56s\n",
      "212:\tlearn: 1836.0039548\ttotal: 11.7s\tremaining: 7.5s\n",
      "213:\tlearn: 1835.6761500\ttotal: 11.7s\tremaining: 7.45s\n",
      "214:\tlearn: 1835.4329398\ttotal: 11.8s\tremaining: 7.39s\n",
      "215:\tlearn: 1835.1899299\ttotal: 11.8s\tremaining: 7.33s\n",
      "216:\tlearn: 1834.7020230\ttotal: 11.9s\tremaining: 7.27s\n",
      "217:\tlearn: 1834.1922157\ttotal: 11.9s\tremaining: 7.21s\n",
      "218:\tlearn: 1833.8881086\ttotal: 12s\tremaining: 7.16s\n",
      "219:\tlearn: 1833.6074795\ttotal: 12s\tremaining: 7.11s\n",
      "220:\tlearn: 1833.1519029\ttotal: 12.1s\tremaining: 7.05s\n",
      "221:\tlearn: 1832.7206826\ttotal: 12.1s\tremaining: 6.99s\n",
      "222:\tlearn: 1832.4311575\ttotal: 12.2s\tremaining: 6.93s\n",
      "223:\tlearn: 1832.2735497\ttotal: 12.2s\tremaining: 6.87s\n",
      "224:\tlearn: 1832.0261713\ttotal: 12.3s\tremaining: 6.82s\n",
      "225:\tlearn: 1831.6451610\ttotal: 12.3s\tremaining: 6.77s\n",
      "226:\tlearn: 1831.4261595\ttotal: 12.4s\tremaining: 6.71s\n",
      "227:\tlearn: 1831.2247910\ttotal: 12.4s\tremaining: 6.66s\n",
      "228:\tlearn: 1830.6778388\ttotal: 12.5s\tremaining: 6.6s\n",
      "229:\tlearn: 1830.2611184\ttotal: 12.5s\tremaining: 6.55s\n",
      "230:\tlearn: 1830.0181316\ttotal: 12.6s\tremaining: 6.49s\n",
      "231:\tlearn: 1829.6530332\ttotal: 12.7s\tremaining: 6.44s\n",
      "232:\tlearn: 1829.2445113\ttotal: 12.7s\tremaining: 6.38s\n",
      "233:\tlearn: 1828.7316132\ttotal: 12.8s\tremaining: 6.32s\n",
      "234:\tlearn: 1828.4361680\ttotal: 12.8s\tremaining: 6.27s\n",
      "235:\tlearn: 1827.9383051\ttotal: 12.9s\tremaining: 6.22s\n",
      "236:\tlearn: 1827.4839197\ttotal: 12.9s\tremaining: 6.16s\n",
      "237:\tlearn: 1826.8036574\ttotal: 13s\tremaining: 6.1s\n",
      "238:\tlearn: 1826.2305561\ttotal: 13s\tremaining: 6.05s\n",
      "239:\tlearn: 1825.8687001\ttotal: 13.1s\tremaining: 5.99s\n",
      "240:\tlearn: 1825.4059626\ttotal: 13.1s\tremaining: 5.93s\n",
      "241:\tlearn: 1825.2322968\ttotal: 13.2s\tremaining: 5.88s\n",
      "242:\tlearn: 1824.7683389\ttotal: 13.2s\tremaining: 5.83s\n",
      "243:\tlearn: 1824.4358021\ttotal: 13.3s\tremaining: 5.77s\n",
      "244:\tlearn: 1824.0454508\ttotal: 13.3s\tremaining: 5.72s\n",
      "245:\tlearn: 1823.6833569\ttotal: 13.4s\tremaining: 5.66s\n",
      "246:\tlearn: 1823.0923171\ttotal: 13.4s\tremaining: 5.6s\n",
      "247:\tlearn: 1822.4180726\ttotal: 13.5s\tremaining: 5.55s\n",
      "248:\tlearn: 1821.9806435\ttotal: 13.6s\tremaining: 5.5s\n",
      "249:\tlearn: 1821.6136669\ttotal: 13.6s\tremaining: 5.44s\n",
      "250:\tlearn: 1821.3779649\ttotal: 13.7s\tremaining: 5.39s\n",
      "251:\tlearn: 1821.0264503\ttotal: 13.7s\tremaining: 5.33s\n",
      "252:\tlearn: 1820.5481025\ttotal: 13.8s\tremaining: 5.28s\n",
      "253:\tlearn: 1820.0603943\ttotal: 13.8s\tremaining: 5.22s\n",
      "254:\tlearn: 1819.6646261\ttotal: 13.9s\tremaining: 5.17s\n",
      "255:\tlearn: 1819.3853802\ttotal: 13.9s\tremaining: 5.11s\n",
      "256:\tlearn: 1819.0623404\ttotal: 14s\tremaining: 5.05s\n",
      "257:\tlearn: 1818.5259228\ttotal: 14s\tremaining: 5s\n",
      "258:\tlearn: 1818.0359585\ttotal: 14.1s\tremaining: 4.95s\n",
      "259:\tlearn: 1817.5865835\ttotal: 14.1s\tremaining: 4.89s\n",
      "260:\tlearn: 1817.2621323\ttotal: 14.2s\tremaining: 4.84s\n",
      "261:\tlearn: 1817.0439190\ttotal: 14.2s\tremaining: 4.78s\n",
      "262:\tlearn: 1816.7869043\ttotal: 14.3s\tremaining: 4.73s\n",
      "263:\tlearn: 1816.5977461\ttotal: 14.3s\tremaining: 4.67s\n",
      "264:\tlearn: 1816.2160804\ttotal: 14.4s\tremaining: 4.62s\n",
      "265:\tlearn: 1815.8357179\ttotal: 14.5s\tremaining: 4.56s\n",
      "266:\tlearn: 1815.5655861\ttotal: 14.5s\tremaining: 4.51s\n",
      "267:\tlearn: 1815.4089728\ttotal: 14.6s\tremaining: 4.45s\n",
      "268:\tlearn: 1815.0791084\ttotal: 14.6s\tremaining: 4.4s\n",
      "269:\tlearn: 1814.9390243\ttotal: 14.7s\tremaining: 4.34s\n",
      "270:\tlearn: 1814.7765377\ttotal: 14.7s\tremaining: 4.29s\n",
      "271:\tlearn: 1814.5483740\ttotal: 14.8s\tremaining: 4.23s\n",
      "272:\tlearn: 1814.2971765\ttotal: 14.8s\tremaining: 4.17s\n",
      "273:\tlearn: 1813.7714859\ttotal: 14.9s\tremaining: 4.12s\n",
      "274:\tlearn: 1813.2674182\ttotal: 14.9s\tremaining: 4.07s\n",
      "275:\tlearn: 1812.9726064\ttotal: 15s\tremaining: 4.01s\n",
      "276:\tlearn: 1812.7857622\ttotal: 15s\tremaining: 3.96s\n",
      "277:\tlearn: 1812.4597551\ttotal: 15.1s\tremaining: 3.9s\n",
      "278:\tlearn: 1812.1928491\ttotal: 15.1s\tremaining: 3.85s\n",
      "279:\tlearn: 1811.9598083\ttotal: 15.2s\tremaining: 3.79s\n",
      "280:\tlearn: 1811.7109201\ttotal: 15.2s\tremaining: 3.74s\n",
      "281:\tlearn: 1811.4216754\ttotal: 15.3s\tremaining: 3.68s\n",
      "282:\tlearn: 1811.1414348\ttotal: 15.3s\tremaining: 3.62s\n",
      "283:\tlearn: 1810.7046341\ttotal: 15.4s\tremaining: 3.57s\n",
      "284:\tlearn: 1810.4288835\ttotal: 15.4s\tremaining: 3.52s\n",
      "285:\tlearn: 1810.1982614\ttotal: 15.5s\tremaining: 3.46s\n",
      "286:\tlearn: 1809.7389276\ttotal: 15.5s\tremaining: 3.41s\n",
      "287:\tlearn: 1809.4252403\ttotal: 15.6s\tremaining: 3.35s\n",
      "288:\tlearn: 1809.0970287\ttotal: 15.6s\tremaining: 3.3s\n",
      "289:\tlearn: 1808.8102671\ttotal: 15.7s\tremaining: 3.25s\n",
      "290:\tlearn: 1808.8015366\ttotal: 15.7s\tremaining: 3.19s\n",
      "291:\tlearn: 1808.6725965\ttotal: 15.8s\tremaining: 3.13s\n",
      "292:\tlearn: 1808.5298306\ttotal: 15.8s\tremaining: 3.08s\n",
      "293:\tlearn: 1808.1161611\ttotal: 15.9s\tremaining: 3.02s\n",
      "294:\tlearn: 1807.7652927\ttotal: 15.9s\tremaining: 2.97s\n",
      "295:\tlearn: 1807.2242384\ttotal: 16s\tremaining: 2.92s\n",
      "296:\tlearn: 1806.7632841\ttotal: 16s\tremaining: 2.86s\n",
      "297:\tlearn: 1806.2531795\ttotal: 16.1s\tremaining: 2.81s\n",
      "298:\tlearn: 1806.0419577\ttotal: 16.1s\tremaining: 2.75s\n",
      "299:\tlearn: 1805.7731784\ttotal: 16.2s\tremaining: 2.7s\n",
      "300:\tlearn: 1805.4323607\ttotal: 16.2s\tremaining: 2.65s\n",
      "301:\tlearn: 1805.0597553\ttotal: 16.3s\tremaining: 2.59s\n",
      "302:\tlearn: 1804.9061191\ttotal: 16.4s\tremaining: 2.54s\n",
      "303:\tlearn: 1804.5895439\ttotal: 16.4s\tremaining: 2.48s\n",
      "304:\tlearn: 1804.3100432\ttotal: 16.5s\tremaining: 2.43s\n",
      "305:\tlearn: 1804.0350879\ttotal: 16.5s\tremaining: 2.38s\n",
      "306:\tlearn: 1803.8223735\ttotal: 16.6s\tremaining: 2.32s\n",
      "307:\tlearn: 1803.5780979\ttotal: 16.6s\tremaining: 2.27s\n",
      "308:\tlearn: 1803.2567540\ttotal: 16.7s\tremaining: 2.21s\n",
      "309:\tlearn: 1802.7653720\ttotal: 16.7s\tremaining: 2.16s\n",
      "310:\tlearn: 1802.5291574\ttotal: 16.8s\tremaining: 2.1s\n",
      "311:\tlearn: 1802.2455236\ttotal: 16.8s\tremaining: 2.05s\n",
      "312:\tlearn: 1802.0475942\ttotal: 16.9s\tremaining: 1.99s\n",
      "313:\tlearn: 1801.7729996\ttotal: 16.9s\tremaining: 1.94s\n",
      "314:\tlearn: 1801.5189004\ttotal: 17s\tremaining: 1.89s\n",
      "315:\tlearn: 1801.1805195\ttotal: 17s\tremaining: 1.83s\n",
      "316:\tlearn: 1800.9815902\ttotal: 17.1s\tremaining: 1.78s\n",
      "317:\tlearn: 1800.7084780\ttotal: 17.1s\tremaining: 1.73s\n",
      "318:\tlearn: 1800.1312484\ttotal: 17.2s\tremaining: 1.67s\n",
      "319:\tlearn: 1800.0015742\ttotal: 17.2s\tremaining: 1.62s\n",
      "320:\tlearn: 1799.6692814\ttotal: 17.3s\tremaining: 1.56s\n",
      "321:\tlearn: 1799.5720143\ttotal: 17.3s\tremaining: 1.51s\n",
      "322:\tlearn: 1799.3638245\ttotal: 17.4s\tremaining: 1.45s\n",
      "323:\tlearn: 1798.9737411\ttotal: 17.4s\tremaining: 1.4s\n",
      "324:\tlearn: 1798.5734819\ttotal: 17.5s\tremaining: 1.34s\n",
      "325:\tlearn: 1798.2605286\ttotal: 17.6s\tremaining: 1.29s\n",
      "326:\tlearn: 1798.1084814\ttotal: 17.6s\tremaining: 1.24s\n",
      "327:\tlearn: 1797.8558336\ttotal: 17.7s\tremaining: 1.18s\n",
      "328:\tlearn: 1797.5816504\ttotal: 17.7s\tremaining: 1.13s\n",
      "329:\tlearn: 1797.2387545\ttotal: 17.8s\tremaining: 1.08s\n",
      "330:\tlearn: 1796.8716335\ttotal: 17.8s\tremaining: 1.02s\n",
      "331:\tlearn: 1796.6264627\ttotal: 17.9s\tremaining: 969ms\n",
      "332:\tlearn: 1796.1132304\ttotal: 17.9s\tremaining: 915ms\n",
      "333:\tlearn: 1795.8378606\ttotal: 18s\tremaining: 861ms\n",
      "334:\tlearn: 1795.5882028\ttotal: 18s\tremaining: 807ms\n",
      "335:\tlearn: 1795.3059300\ttotal: 18.1s\tremaining: 753ms\n",
      "336:\tlearn: 1795.0903406\ttotal: 18.1s\tremaining: 699ms\n",
      "337:\tlearn: 1794.8808598\ttotal: 18.2s\tremaining: 646ms\n",
      "338:\tlearn: 1794.6889804\ttotal: 18.2s\tremaining: 592ms\n",
      "339:\tlearn: 1794.5187495\ttotal: 18.3s\tremaining: 538ms\n",
      "340:\tlearn: 1794.3236780\ttotal: 18.3s\tremaining: 484ms\n",
      "341:\tlearn: 1794.0275018\ttotal: 18.4s\tremaining: 431ms\n",
      "342:\tlearn: 1793.9455730\ttotal: 18.5s\tremaining: 377ms\n",
      "343:\tlearn: 1793.8222442\ttotal: 18.5s\tremaining: 323ms\n",
      "344:\tlearn: 1793.7152457\ttotal: 18.5s\tremaining: 269ms\n",
      "345:\tlearn: 1793.5540736\ttotal: 18.6s\tremaining: 215ms\n",
      "346:\tlearn: 1793.4227833\ttotal: 18.7s\tremaining: 161ms\n",
      "347:\tlearn: 1793.0847881\ttotal: 18.7s\tremaining: 108ms\n",
      "348:\tlearn: 1792.7815103\ttotal: 18.8s\tremaining: 53.7ms\n",
      "349:\tlearn: 1792.5614499\ttotal: 18.8s\tremaining: 0us\n",
      "0:\tlearn: 4393.2642207\ttotal: 60.8ms\tremaining: 21.2s\n",
      "1:\tlearn: 4302.6638178\ttotal: 122ms\tremaining: 21.3s\n",
      "2:\tlearn: 4214.9563437\ttotal: 189ms\tremaining: 21.9s\n",
      "3:\tlearn: 4130.4284556\ttotal: 242ms\tremaining: 20.9s\n",
      "4:\tlearn: 4048.4350392\ttotal: 303ms\tremaining: 20.9s\n",
      "5:\tlearn: 3970.7848556\ttotal: 359ms\tremaining: 20.6s\n",
      "6:\tlearn: 3893.8431061\ttotal: 411ms\tremaining: 20.2s\n",
      "7:\tlearn: 3820.6359061\ttotal: 467ms\tremaining: 19.9s\n",
      "8:\tlearn: 3749.6608606\ttotal: 520ms\tremaining: 19.7s\n",
      "9:\tlearn: 3680.1422021\ttotal: 576ms\tremaining: 19.6s\n",
      "10:\tlearn: 3614.1483315\ttotal: 641ms\tremaining: 19.8s\n",
      "11:\tlearn: 3550.5230812\ttotal: 693ms\tremaining: 19.5s\n",
      "12:\tlearn: 3489.4294370\ttotal: 753ms\tremaining: 19.5s\n",
      "13:\tlearn: 3431.5603388\ttotal: 816ms\tremaining: 19.6s\n",
      "14:\tlearn: 3374.4633307\ttotal: 873ms\tremaining: 19.5s\n",
      "15:\tlearn: 3319.8604314\ttotal: 938ms\tremaining: 19.6s\n",
      "16:\tlearn: 3266.5398381\ttotal: 993ms\tremaining: 19.5s\n",
      "17:\tlearn: 3215.6037840\ttotal: 1.06s\tremaining: 19.5s\n",
      "18:\tlearn: 3165.9983846\ttotal: 1.11s\tremaining: 19.4s\n",
      "19:\tlearn: 3117.7950520\ttotal: 1.17s\tremaining: 19.3s\n",
      "20:\tlearn: 3071.3138043\ttotal: 1.22s\tremaining: 19.2s\n",
      "21:\tlearn: 3027.4449364\ttotal: 1.28s\tremaining: 19.1s\n",
      "22:\tlearn: 2985.2824772\ttotal: 1.34s\tremaining: 19.1s\n",
      "23:\tlearn: 2942.9934794\ttotal: 1.4s\tremaining: 19s\n",
      "24:\tlearn: 2903.1554452\ttotal: 1.45s\tremaining: 18.9s\n",
      "25:\tlearn: 2865.1630173\ttotal: 1.52s\tremaining: 18.9s\n",
      "26:\tlearn: 2828.9189370\ttotal: 1.57s\tremaining: 18.9s\n",
      "27:\tlearn: 2793.7221006\ttotal: 1.63s\tremaining: 18.8s\n",
      "28:\tlearn: 2759.3477711\ttotal: 1.69s\tremaining: 18.7s\n",
      "29:\tlearn: 2727.0622280\ttotal: 1.75s\tremaining: 18.7s\n",
      "30:\tlearn: 2695.6475088\ttotal: 1.81s\tremaining: 18.6s\n",
      "31:\tlearn: 2664.8251076\ttotal: 1.86s\tremaining: 18.5s\n",
      "32:\tlearn: 2636.6838404\ttotal: 1.92s\tremaining: 18.5s\n",
      "33:\tlearn: 2608.1505809\ttotal: 1.98s\tremaining: 18.4s\n",
      "34:\tlearn: 2581.6110795\ttotal: 2.04s\tremaining: 18.4s\n",
      "35:\tlearn: 2555.4585573\ttotal: 2.1s\tremaining: 18.3s\n",
      "36:\tlearn: 2531.2978743\ttotal: 2.15s\tremaining: 18.2s\n",
      "37:\tlearn: 2507.7919102\ttotal: 2.22s\tremaining: 18.2s\n",
      "38:\tlearn: 2485.9463925\ttotal: 2.28s\tremaining: 18.2s\n",
      "39:\tlearn: 2464.0078658\ttotal: 2.33s\tremaining: 18.1s\n",
      "40:\tlearn: 2443.6121806\ttotal: 2.39s\tremaining: 18s\n",
      "41:\tlearn: 2423.6485426\ttotal: 2.45s\tremaining: 18s\n",
      "42:\tlearn: 2405.4622426\ttotal: 2.51s\tremaining: 17.9s\n",
      "43:\tlearn: 2387.1831311\ttotal: 2.57s\tremaining: 17.9s\n",
      "44:\tlearn: 2369.8804057\ttotal: 2.62s\tremaining: 17.8s\n",
      "45:\tlearn: 2352.3315024\ttotal: 2.69s\tremaining: 17.8s\n",
      "46:\tlearn: 2335.1775433\ttotal: 2.75s\tremaining: 17.7s\n",
      "47:\tlearn: 2319.3268583\ttotal: 2.8s\tremaining: 17.6s\n",
      "48:\tlearn: 2304.0797314\ttotal: 2.86s\tremaining: 17.6s\n",
      "49:\tlearn: 2289.2220617\ttotal: 2.92s\tremaining: 17.5s\n",
      "50:\tlearn: 2275.5414548\ttotal: 2.98s\tremaining: 17.5s\n",
      "51:\tlearn: 2261.1404945\ttotal: 3.03s\tremaining: 17.4s\n",
      "52:\tlearn: 2248.1110751\ttotal: 3.09s\tremaining: 17.3s\n",
      "53:\tlearn: 2235.0642479\ttotal: 3.14s\tremaining: 17.2s\n",
      "54:\tlearn: 2222.8106261\ttotal: 3.21s\tremaining: 17.2s\n",
      "55:\tlearn: 2211.2519166\ttotal: 3.26s\tremaining: 17.1s\n",
      "56:\tlearn: 2200.2303970\ttotal: 3.32s\tremaining: 17.1s\n",
      "57:\tlearn: 2190.1567878\ttotal: 3.38s\tremaining: 17s\n",
      "58:\tlearn: 2179.9520129\ttotal: 3.44s\tremaining: 17s\n",
      "59:\tlearn: 2170.4335386\ttotal: 3.48s\tremaining: 16.8s\n",
      "60:\tlearn: 2161.1131942\ttotal: 3.55s\tremaining: 16.8s\n",
      "61:\tlearn: 2151.7627724\ttotal: 3.61s\tremaining: 16.8s\n",
      "62:\tlearn: 2143.8087502\ttotal: 3.68s\tremaining: 16.8s\n",
      "63:\tlearn: 2134.7811756\ttotal: 3.73s\tremaining: 16.7s\n",
      "64:\tlearn: 2126.4733870\ttotal: 3.79s\tremaining: 16.6s\n",
      "65:\tlearn: 2118.4468950\ttotal: 3.85s\tremaining: 16.6s\n",
      "66:\tlearn: 2110.0504223\ttotal: 3.91s\tremaining: 16.5s\n",
      "67:\tlearn: 2102.5294177\ttotal: 3.96s\tremaining: 16.4s\n",
      "68:\tlearn: 2095.2184582\ttotal: 4.02s\tremaining: 16.4s\n",
      "69:\tlearn: 2087.6068311\ttotal: 4.07s\tremaining: 16.3s\n",
      "70:\tlearn: 2081.1357352\ttotal: 4.14s\tremaining: 16.3s\n",
      "71:\tlearn: 2074.1213992\ttotal: 4.21s\tremaining: 16.3s\n",
      "72:\tlearn: 2067.1615757\ttotal: 4.27s\tremaining: 16.2s\n",
      "73:\tlearn: 2060.5950428\ttotal: 4.35s\tremaining: 16.2s\n",
      "74:\tlearn: 2054.7361831\ttotal: 4.42s\tremaining: 16.2s\n",
      "75:\tlearn: 2048.8136474\ttotal: 4.49s\tremaining: 16.2s\n",
      "76:\tlearn: 2043.9886317\ttotal: 4.56s\tremaining: 16.2s\n",
      "77:\tlearn: 2038.3957862\ttotal: 4.64s\tremaining: 16.2s\n",
      "78:\tlearn: 2033.8401148\ttotal: 4.71s\tremaining: 16.2s\n",
      "79:\tlearn: 2029.1861623\ttotal: 4.78s\tremaining: 16.1s\n",
      "80:\tlearn: 2025.0182496\ttotal: 4.84s\tremaining: 16.1s\n",
      "81:\tlearn: 2020.3053916\ttotal: 4.9s\tremaining: 16s\n",
      "82:\tlearn: 2015.3651382\ttotal: 4.96s\tremaining: 15.9s\n",
      "83:\tlearn: 2010.8402445\ttotal: 5.02s\tremaining: 15.9s\n",
      "84:\tlearn: 2006.4674847\ttotal: 5.08s\tremaining: 15.8s\n",
      "85:\tlearn: 2003.1047956\ttotal: 5.13s\tremaining: 15.7s\n",
      "86:\tlearn: 1999.3880278\ttotal: 5.18s\tremaining: 15.7s\n",
      "87:\tlearn: 1995.5477255\ttotal: 5.25s\tremaining: 15.6s\n",
      "88:\tlearn: 1992.0810421\ttotal: 5.31s\tremaining: 15.6s\n",
      "89:\tlearn: 1988.1552273\ttotal: 5.35s\tremaining: 15.5s\n",
      "90:\tlearn: 1984.8886701\ttotal: 5.41s\tremaining: 15.4s\n",
      "91:\tlearn: 1981.4942590\ttotal: 5.46s\tremaining: 15.3s\n",
      "92:\tlearn: 1978.3893199\ttotal: 5.53s\tremaining: 15.3s\n",
      "93:\tlearn: 1975.2623858\ttotal: 5.58s\tremaining: 15.2s\n",
      "94:\tlearn: 1971.9996383\ttotal: 5.64s\tremaining: 15.1s\n",
      "95:\tlearn: 1968.8822056\ttotal: 5.7s\tremaining: 15.1s\n",
      "96:\tlearn: 1966.3945458\ttotal: 5.76s\tremaining: 15s\n",
      "97:\tlearn: 1963.1879326\ttotal: 5.8s\tremaining: 14.9s\n",
      "98:\tlearn: 1960.3636002\ttotal: 5.85s\tremaining: 14.8s\n",
      "99:\tlearn: 1957.7839361\ttotal: 5.92s\tremaining: 14.8s\n",
      "100:\tlearn: 1954.7790831\ttotal: 5.98s\tremaining: 14.7s\n",
      "101:\tlearn: 1952.1591400\ttotal: 6.04s\tremaining: 14.7s\n",
      "102:\tlearn: 1949.7586657\ttotal: 6.08s\tremaining: 14.6s\n",
      "103:\tlearn: 1947.7979096\ttotal: 6.14s\tremaining: 14.5s\n",
      "104:\tlearn: 1945.0836934\ttotal: 6.19s\tremaining: 14.5s\n",
      "105:\tlearn: 1942.8627524\ttotal: 6.25s\tremaining: 14.4s\n",
      "106:\tlearn: 1940.4995128\ttotal: 6.3s\tremaining: 14.3s\n",
      "107:\tlearn: 1938.4288933\ttotal: 6.36s\tremaining: 14.2s\n",
      "108:\tlearn: 1936.3161758\ttotal: 6.42s\tremaining: 14.2s\n",
      "109:\tlearn: 1934.5489877\ttotal: 6.47s\tremaining: 14.1s\n",
      "110:\tlearn: 1932.2899815\ttotal: 6.52s\tremaining: 14s\n",
      "111:\tlearn: 1930.4452311\ttotal: 6.57s\tremaining: 14s\n",
      "112:\tlearn: 1928.5094531\ttotal: 6.63s\tremaining: 13.9s\n",
      "113:\tlearn: 1926.6487591\ttotal: 6.68s\tremaining: 13.8s\n",
      "114:\tlearn: 1925.0409682\ttotal: 6.74s\tremaining: 13.8s\n",
      "115:\tlearn: 1923.2412818\ttotal: 6.78s\tremaining: 13.7s\n",
      "116:\tlearn: 1921.4656140\ttotal: 6.84s\tremaining: 13.6s\n",
      "117:\tlearn: 1919.6382182\ttotal: 6.89s\tremaining: 13.5s\n",
      "118:\tlearn: 1917.8079064\ttotal: 6.95s\tremaining: 13.5s\n",
      "119:\tlearn: 1916.1629275\ttotal: 7.01s\tremaining: 13.4s\n",
      "120:\tlearn: 1914.3093664\ttotal: 7.06s\tremaining: 13.4s\n",
      "121:\tlearn: 1912.8763515\ttotal: 7.11s\tremaining: 13.3s\n",
      "122:\tlearn: 1911.4281257\ttotal: 7.16s\tremaining: 13.2s\n",
      "123:\tlearn: 1910.1352574\ttotal: 7.21s\tremaining: 13.1s\n",
      "124:\tlearn: 1908.7497304\ttotal: 7.26s\tremaining: 13.1s\n",
      "125:\tlearn: 1907.4763701\ttotal: 7.31s\tremaining: 13s\n",
      "126:\tlearn: 1905.8539415\ttotal: 7.37s\tremaining: 12.9s\n",
      "127:\tlearn: 1904.4443995\ttotal: 7.42s\tremaining: 12.9s\n",
      "128:\tlearn: 1903.1153759\ttotal: 7.46s\tremaining: 12.8s\n",
      "129:\tlearn: 1901.8197720\ttotal: 7.52s\tremaining: 12.7s\n",
      "130:\tlearn: 1900.5816275\ttotal: 7.57s\tremaining: 12.7s\n",
      "131:\tlearn: 1899.3017229\ttotal: 7.62s\tremaining: 12.6s\n",
      "132:\tlearn: 1898.0563924\ttotal: 7.67s\tremaining: 12.5s\n",
      "133:\tlearn: 1897.1100866\ttotal: 7.72s\tremaining: 12.4s\n",
      "134:\tlearn: 1896.0365636\ttotal: 7.78s\tremaining: 12.4s\n",
      "135:\tlearn: 1894.8406043\ttotal: 7.83s\tremaining: 12.3s\n",
      "136:\tlearn: 1893.8844139\ttotal: 7.88s\tremaining: 12.3s\n",
      "137:\tlearn: 1892.9052465\ttotal: 7.93s\tremaining: 12.2s\n",
      "138:\tlearn: 1891.7774189\ttotal: 7.99s\tremaining: 12.1s\n",
      "139:\tlearn: 1890.6118065\ttotal: 8.04s\tremaining: 12.1s\n",
      "140:\tlearn: 1889.6879026\ttotal: 8.08s\tremaining: 12s\n",
      "141:\tlearn: 1888.7824653\ttotal: 8.14s\tremaining: 11.9s\n",
      "142:\tlearn: 1887.6568003\ttotal: 8.18s\tremaining: 11.8s\n",
      "143:\tlearn: 1886.5794694\ttotal: 8.24s\tremaining: 11.8s\n",
      "144:\tlearn: 1885.6565841\ttotal: 8.29s\tremaining: 11.7s\n",
      "145:\tlearn: 1884.8466288\ttotal: 8.34s\tremaining: 11.6s\n",
      "146:\tlearn: 1883.5021098\ttotal: 8.39s\tremaining: 11.6s\n",
      "147:\tlearn: 1882.6357242\ttotal: 8.44s\tremaining: 11.5s\n",
      "148:\tlearn: 1881.7380164\ttotal: 8.49s\tremaining: 11.5s\n",
      "149:\tlearn: 1881.0222153\ttotal: 8.54s\tremaining: 11.4s\n",
      "150:\tlearn: 1880.0729132\ttotal: 8.59s\tremaining: 11.3s\n",
      "151:\tlearn: 1879.2532564\ttotal: 8.64s\tremaining: 11.3s\n",
      "152:\tlearn: 1878.5801987\ttotal: 8.69s\tremaining: 11.2s\n",
      "153:\tlearn: 1877.7893143\ttotal: 8.74s\tremaining: 11.1s\n",
      "154:\tlearn: 1876.8626520\ttotal: 8.79s\tremaining: 11.1s\n",
      "155:\tlearn: 1876.0466985\ttotal: 8.85s\tremaining: 11s\n",
      "156:\tlearn: 1875.2327776\ttotal: 8.89s\tremaining: 10.9s\n",
      "157:\tlearn: 1874.4006808\ttotal: 8.96s\tremaining: 10.9s\n",
      "158:\tlearn: 1873.8113481\ttotal: 9.01s\tremaining: 10.8s\n",
      "159:\tlearn: 1872.6584091\ttotal: 9.04s\tremaining: 10.7s\n",
      "160:\tlearn: 1872.0174601\ttotal: 9.09s\tremaining: 10.7s\n",
      "161:\tlearn: 1871.3957014\ttotal: 9.14s\tremaining: 10.6s\n",
      "162:\tlearn: 1870.7055825\ttotal: 9.19s\tremaining: 10.5s\n",
      "163:\tlearn: 1870.0605605\ttotal: 9.25s\tremaining: 10.5s\n",
      "164:\tlearn: 1869.5223679\ttotal: 9.3s\tremaining: 10.4s\n",
      "165:\tlearn: 1868.9720095\ttotal: 9.35s\tremaining: 10.4s\n",
      "166:\tlearn: 1868.2588169\ttotal: 9.4s\tremaining: 10.3s\n",
      "167:\tlearn: 1867.7152675\ttotal: 9.44s\tremaining: 10.2s\n",
      "168:\tlearn: 1866.8810904\ttotal: 9.5s\tremaining: 10.2s\n",
      "169:\tlearn: 1866.3612440\ttotal: 9.54s\tremaining: 10.1s\n",
      "170:\tlearn: 1865.6282582\ttotal: 9.6s\tremaining: 10s\n",
      "171:\tlearn: 1865.0291813\ttotal: 9.65s\tremaining: 9.98s\n",
      "172:\tlearn: 1864.5005686\ttotal: 9.7s\tremaining: 9.92s\n",
      "173:\tlearn: 1863.9078757\ttotal: 9.74s\tremaining: 9.86s\n",
      "174:\tlearn: 1863.5939120\ttotal: 9.79s\tremaining: 9.79s\n",
      "175:\tlearn: 1863.1963878\ttotal: 9.84s\tremaining: 9.73s\n",
      "176:\tlearn: 1862.7080546\ttotal: 9.9s\tremaining: 9.68s\n",
      "177:\tlearn: 1862.0358523\ttotal: 9.96s\tremaining: 9.63s\n",
      "178:\tlearn: 1861.3411271\ttotal: 10s\tremaining: 9.56s\n",
      "179:\tlearn: 1860.6545262\ttotal: 10.1s\tremaining: 9.5s\n",
      "180:\tlearn: 1859.9140027\ttotal: 10.1s\tremaining: 9.44s\n",
      "181:\tlearn: 1859.4693008\ttotal: 10.2s\tremaining: 9.39s\n",
      "182:\tlearn: 1859.0658877\ttotal: 10.2s\tremaining: 9.32s\n",
      "183:\tlearn: 1858.5236273\ttotal: 10.3s\tremaining: 9.25s\n",
      "184:\tlearn: 1857.9122188\ttotal: 10.3s\tremaining: 9.19s\n",
      "185:\tlearn: 1857.3514958\ttotal: 10.4s\tremaining: 9.14s\n",
      "186:\tlearn: 1856.6521967\ttotal: 10.4s\tremaining: 9.07s\n",
      "187:\tlearn: 1856.1240655\ttotal: 10.5s\tremaining: 9.01s\n",
      "188:\tlearn: 1855.7377869\ttotal: 10.5s\tremaining: 8.95s\n",
      "189:\tlearn: 1855.0913947\ttotal: 10.6s\tremaining: 8.89s\n",
      "190:\tlearn: 1854.1819019\ttotal: 10.6s\tremaining: 8.82s\n",
      "191:\tlearn: 1853.4725634\ttotal: 10.7s\tremaining: 8.77s\n",
      "192:\tlearn: 1852.9324585\ttotal: 10.7s\tremaining: 8.71s\n",
      "193:\tlearn: 1852.5169929\ttotal: 10.8s\tremaining: 8.64s\n",
      "194:\tlearn: 1851.9379339\ttotal: 10.8s\tremaining: 8.59s\n",
      "195:\tlearn: 1851.5830637\ttotal: 10.9s\tremaining: 8.53s\n",
      "196:\tlearn: 1851.0214073\ttotal: 10.9s\tremaining: 8.47s\n",
      "197:\tlearn: 1850.5541695\ttotal: 11s\tremaining: 8.42s\n",
      "198:\tlearn: 1849.9612994\ttotal: 11s\tremaining: 8.36s\n",
      "199:\tlearn: 1849.5871005\ttotal: 11.1s\tremaining: 8.3s\n",
      "200:\tlearn: 1848.5617090\ttotal: 11.1s\tremaining: 8.24s\n",
      "201:\tlearn: 1848.0346768\ttotal: 11.2s\tremaining: 8.19s\n",
      "202:\tlearn: 1847.4073897\ttotal: 11.2s\tremaining: 8.13s\n",
      "203:\tlearn: 1846.8907804\ttotal: 11.3s\tremaining: 8.07s\n",
      "204:\tlearn: 1846.4569027\ttotal: 11.3s\tremaining: 8.01s\n",
      "205:\tlearn: 1845.7368058\ttotal: 11.4s\tremaining: 7.95s\n",
      "206:\tlearn: 1845.2175750\ttotal: 11.4s\tremaining: 7.89s\n",
      "207:\tlearn: 1844.6129709\ttotal: 11.5s\tremaining: 7.84s\n",
      "208:\tlearn: 1844.2160924\ttotal: 11.5s\tremaining: 7.78s\n",
      "209:\tlearn: 1843.7968742\ttotal: 11.6s\tremaining: 7.73s\n",
      "210:\tlearn: 1843.4188430\ttotal: 11.6s\tremaining: 7.67s\n",
      "211:\tlearn: 1843.1063034\ttotal: 11.7s\tremaining: 7.61s\n",
      "212:\tlearn: 1842.6162548\ttotal: 11.7s\tremaining: 7.55s\n",
      "213:\tlearn: 1842.0447529\ttotal: 11.8s\tremaining: 7.5s\n",
      "214:\tlearn: 1841.4155134\ttotal: 11.9s\tremaining: 7.45s\n",
      "215:\tlearn: 1841.0435276\ttotal: 11.9s\tremaining: 7.39s\n",
      "216:\tlearn: 1840.6179172\ttotal: 12s\tremaining: 7.33s\n",
      "217:\tlearn: 1840.1458261\ttotal: 12s\tremaining: 7.28s\n",
      "218:\tlearn: 1839.6521778\ttotal: 12.1s\tremaining: 7.22s\n",
      "219:\tlearn: 1839.0766285\ttotal: 12.1s\tremaining: 7.16s\n",
      "220:\tlearn: 1838.8316633\ttotal: 12.2s\tremaining: 7.1s\n",
      "221:\tlearn: 1838.3682801\ttotal: 12.2s\tremaining: 7.04s\n",
      "222:\tlearn: 1837.7009058\ttotal: 12.3s\tremaining: 6.99s\n",
      "223:\tlearn: 1837.3975297\ttotal: 12.3s\tremaining: 6.93s\n",
      "224:\tlearn: 1837.0599166\ttotal: 12.4s\tremaining: 6.87s\n",
      "225:\tlearn: 1836.6580119\ttotal: 12.4s\tremaining: 6.81s\n",
      "226:\tlearn: 1836.1257062\ttotal: 12.5s\tremaining: 6.75s\n",
      "227:\tlearn: 1835.6391314\ttotal: 12.5s\tremaining: 6.7s\n",
      "228:\tlearn: 1835.2036976\ttotal: 12.6s\tremaining: 6.65s\n",
      "229:\tlearn: 1834.8503630\ttotal: 12.6s\tremaining: 6.59s\n",
      "230:\tlearn: 1834.4257207\ttotal: 12.7s\tremaining: 6.53s\n",
      "231:\tlearn: 1833.9727744\ttotal: 12.7s\tremaining: 6.47s\n",
      "232:\tlearn: 1833.5764490\ttotal: 12.8s\tremaining: 6.42s\n",
      "233:\tlearn: 1832.9851163\ttotal: 12.8s\tremaining: 6.36s\n",
      "234:\tlearn: 1832.4626498\ttotal: 12.9s\tremaining: 6.31s\n",
      "235:\tlearn: 1831.9645468\ttotal: 12.9s\tremaining: 6.25s\n",
      "236:\tlearn: 1831.8060864\ttotal: 13s\tremaining: 6.19s\n",
      "237:\tlearn: 1831.5627861\ttotal: 13s\tremaining: 6.13s\n",
      "238:\tlearn: 1831.0061729\ttotal: 13.1s\tremaining: 6.07s\n",
      "239:\tlearn: 1830.5643428\ttotal: 13.1s\tremaining: 6.02s\n",
      "240:\tlearn: 1830.1271748\ttotal: 13.2s\tremaining: 5.97s\n",
      "241:\tlearn: 1829.7765882\ttotal: 13.2s\tremaining: 5.91s\n",
      "242:\tlearn: 1829.4104592\ttotal: 13.3s\tremaining: 5.85s\n",
      "243:\tlearn: 1828.9212250\ttotal: 13.3s\tremaining: 5.79s\n",
      "244:\tlearn: 1828.3625219\ttotal: 13.4s\tremaining: 5.74s\n",
      "245:\tlearn: 1827.8218634\ttotal: 13.4s\tremaining: 5.68s\n",
      "246:\tlearn: 1827.5629633\ttotal: 13.5s\tremaining: 5.63s\n",
      "247:\tlearn: 1827.2628088\ttotal: 13.6s\tremaining: 5.57s\n",
      "248:\tlearn: 1826.6313595\ttotal: 13.6s\tremaining: 5.52s\n",
      "249:\tlearn: 1826.1833310\ttotal: 13.7s\tremaining: 5.46s\n",
      "250:\tlearn: 1825.7792432\ttotal: 13.7s\tremaining: 5.41s\n",
      "251:\tlearn: 1825.3636816\ttotal: 13.8s\tremaining: 5.35s\n",
      "252:\tlearn: 1825.2247200\ttotal: 13.8s\tremaining: 5.29s\n",
      "253:\tlearn: 1824.8092328\ttotal: 13.9s\tremaining: 5.24s\n",
      "254:\tlearn: 1824.3616792\ttotal: 13.9s\tremaining: 5.18s\n",
      "255:\tlearn: 1824.1179714\ttotal: 14s\tremaining: 5.12s\n",
      "256:\tlearn: 1823.6519225\ttotal: 14s\tremaining: 5.07s\n",
      "257:\tlearn: 1823.2882581\ttotal: 14.1s\tremaining: 5.01s\n",
      "258:\tlearn: 1823.0406492\ttotal: 14.1s\tremaining: 4.95s\n",
      "259:\tlearn: 1822.8415004\ttotal: 14.1s\tremaining: 4.9s\n",
      "260:\tlearn: 1822.5211024\ttotal: 14.2s\tremaining: 4.84s\n",
      "261:\tlearn: 1822.0368686\ttotal: 14.2s\tremaining: 4.79s\n",
      "262:\tlearn: 1821.6809671\ttotal: 14.3s\tremaining: 4.73s\n",
      "263:\tlearn: 1821.0109213\ttotal: 14.3s\tremaining: 4.67s\n",
      "264:\tlearn: 1820.6902632\ttotal: 14.4s\tremaining: 4.62s\n",
      "265:\tlearn: 1820.2296134\ttotal: 14.5s\tremaining: 4.57s\n",
      "266:\tlearn: 1819.9783223\ttotal: 14.5s\tremaining: 4.51s\n",
      "267:\tlearn: 1819.6945207\ttotal: 14.6s\tremaining: 4.46s\n",
      "268:\tlearn: 1819.2762289\ttotal: 14.6s\tremaining: 4.41s\n",
      "269:\tlearn: 1819.1612704\ttotal: 14.7s\tremaining: 4.35s\n",
      "270:\tlearn: 1818.9829359\ttotal: 14.7s\tremaining: 4.29s\n",
      "271:\tlearn: 1818.6323788\ttotal: 14.8s\tremaining: 4.24s\n",
      "272:\tlearn: 1818.2354386\ttotal: 14.8s\tremaining: 4.19s\n",
      "273:\tlearn: 1818.0525229\ttotal: 14.9s\tremaining: 4.13s\n",
      "274:\tlearn: 1817.8492897\ttotal: 14.9s\tremaining: 4.08s\n",
      "275:\tlearn: 1817.6604888\ttotal: 15s\tremaining: 4.02s\n",
      "276:\tlearn: 1817.3557486\ttotal: 15.1s\tremaining: 3.97s\n",
      "277:\tlearn: 1817.0397983\ttotal: 15.1s\tremaining: 3.92s\n",
      "278:\tlearn: 1816.7673558\ttotal: 15.2s\tremaining: 3.86s\n",
      "279:\tlearn: 1816.2021929\ttotal: 15.2s\tremaining: 3.81s\n",
      "280:\tlearn: 1815.7935336\ttotal: 15.3s\tremaining: 3.75s\n",
      "281:\tlearn: 1815.4219990\ttotal: 15.3s\tremaining: 3.7s\n",
      "282:\tlearn: 1815.0757053\ttotal: 15.4s\tremaining: 3.64s\n",
      "283:\tlearn: 1814.6314294\ttotal: 15.4s\tremaining: 3.58s\n",
      "284:\tlearn: 1814.3732655\ttotal: 15.5s\tremaining: 3.53s\n",
      "285:\tlearn: 1814.0508299\ttotal: 15.5s\tremaining: 3.48s\n",
      "286:\tlearn: 1813.8360042\ttotal: 15.6s\tremaining: 3.42s\n",
      "287:\tlearn: 1813.4746392\ttotal: 15.6s\tremaining: 3.36s\n",
      "288:\tlearn: 1813.0650913\ttotal: 15.7s\tremaining: 3.31s\n",
      "289:\tlearn: 1812.8888885\ttotal: 15.7s\tremaining: 3.25s\n",
      "290:\tlearn: 1812.2026368\ttotal: 15.8s\tremaining: 3.2s\n",
      "291:\tlearn: 1811.9612417\ttotal: 15.8s\tremaining: 3.14s\n",
      "292:\tlearn: 1811.6759971\ttotal: 15.9s\tremaining: 3.09s\n",
      "293:\tlearn: 1811.5104492\ttotal: 15.9s\tremaining: 3.03s\n",
      "294:\tlearn: 1811.2403513\ttotal: 16s\tremaining: 2.98s\n",
      "295:\tlearn: 1810.8065252\ttotal: 16s\tremaining: 2.92s\n",
      "296:\tlearn: 1810.5935858\ttotal: 16.1s\tremaining: 2.87s\n",
      "297:\tlearn: 1810.3664093\ttotal: 16.1s\tremaining: 2.81s\n",
      "298:\tlearn: 1810.0219049\ttotal: 16.2s\tremaining: 2.76s\n",
      "299:\tlearn: 1809.7788847\ttotal: 16.2s\tremaining: 2.7s\n",
      "300:\tlearn: 1809.3968130\ttotal: 16.3s\tremaining: 2.65s\n",
      "301:\tlearn: 1809.2564016\ttotal: 16.3s\tremaining: 2.59s\n",
      "302:\tlearn: 1808.9334272\ttotal: 16.4s\tremaining: 2.54s\n",
      "303:\tlearn: 1808.5088890\ttotal: 16.4s\tremaining: 2.48s\n",
      "304:\tlearn: 1808.3777129\ttotal: 16.5s\tremaining: 2.43s\n",
      "305:\tlearn: 1808.1247635\ttotal: 16.5s\tremaining: 2.38s\n",
      "306:\tlearn: 1807.7182318\ttotal: 16.6s\tremaining: 2.32s\n",
      "307:\tlearn: 1807.4419062\ttotal: 16.6s\tremaining: 2.27s\n",
      "308:\tlearn: 1807.0935674\ttotal: 16.7s\tremaining: 2.22s\n",
      "309:\tlearn: 1806.7590533\ttotal: 16.8s\tremaining: 2.16s\n",
      "310:\tlearn: 1806.5611935\ttotal: 16.8s\tremaining: 2.11s\n",
      "311:\tlearn: 1806.2801985\ttotal: 16.8s\tremaining: 2.05s\n",
      "312:\tlearn: 1805.9334304\ttotal: 16.9s\tremaining: 2s\n",
      "313:\tlearn: 1805.4284326\ttotal: 17s\tremaining: 1.94s\n",
      "314:\tlearn: 1805.2134039\ttotal: 17s\tremaining: 1.89s\n",
      "315:\tlearn: 1804.9547601\ttotal: 17.1s\tremaining: 1.83s\n",
      "316:\tlearn: 1804.6096298\ttotal: 17.1s\tremaining: 1.78s\n",
      "317:\tlearn: 1804.3709023\ttotal: 17.2s\tremaining: 1.73s\n",
      "318:\tlearn: 1804.0977103\ttotal: 17.2s\tremaining: 1.67s\n",
      "319:\tlearn: 1803.6116274\ttotal: 17.3s\tremaining: 1.62s\n",
      "320:\tlearn: 1803.1907548\ttotal: 17.3s\tremaining: 1.56s\n",
      "321:\tlearn: 1802.9627490\ttotal: 17.4s\tremaining: 1.51s\n",
      "322:\tlearn: 1802.4067455\ttotal: 17.4s\tremaining: 1.46s\n",
      "323:\tlearn: 1802.0938787\ttotal: 17.5s\tremaining: 1.4s\n",
      "324:\tlearn: 1801.5741582\ttotal: 17.5s\tremaining: 1.35s\n",
      "325:\tlearn: 1801.1947958\ttotal: 17.6s\tremaining: 1.29s\n",
      "326:\tlearn: 1800.9523985\ttotal: 17.6s\tremaining: 1.24s\n",
      "327:\tlearn: 1800.7379249\ttotal: 17.7s\tremaining: 1.19s\n",
      "328:\tlearn: 1800.4651586\ttotal: 17.8s\tremaining: 1.13s\n",
      "329:\tlearn: 1800.3406152\ttotal: 17.8s\tremaining: 1.08s\n",
      "330:\tlearn: 1800.0929438\ttotal: 17.9s\tremaining: 1.02s\n",
      "331:\tlearn: 1799.7446452\ttotal: 17.9s\tremaining: 971ms\n",
      "332:\tlearn: 1799.3879454\ttotal: 18s\tremaining: 917ms\n",
      "333:\tlearn: 1799.0433420\ttotal: 18s\tremaining: 863ms\n",
      "334:\tlearn: 1798.8476835\ttotal: 18.1s\tremaining: 809ms\n",
      "335:\tlearn: 1798.5836881\ttotal: 18.1s\tremaining: 755ms\n",
      "336:\tlearn: 1798.4587842\ttotal: 18.2s\tremaining: 701ms\n",
      "337:\tlearn: 1798.3725566\ttotal: 18.2s\tremaining: 647ms\n",
      "338:\tlearn: 1798.0280603\ttotal: 18.3s\tremaining: 593ms\n",
      "339:\tlearn: 1797.7523692\ttotal: 18.3s\tremaining: 539ms\n",
      "340:\tlearn: 1797.5824546\ttotal: 18.4s\tremaining: 485ms\n",
      "341:\tlearn: 1797.0863544\ttotal: 18.4s\tremaining: 431ms\n",
      "342:\tlearn: 1796.9243786\ttotal: 18.5s\tremaining: 377ms\n",
      "343:\tlearn: 1796.7119326\ttotal: 18.5s\tremaining: 323ms\n",
      "344:\tlearn: 1796.4414109\ttotal: 18.6s\tremaining: 269ms\n",
      "345:\tlearn: 1796.1206155\ttotal: 18.6s\tremaining: 216ms\n",
      "346:\tlearn: 1795.9038101\ttotal: 18.7s\tremaining: 162ms\n",
      "347:\tlearn: 1795.6860831\ttotal: 18.8s\tremaining: 108ms\n",
      "348:\tlearn: 1795.4288727\ttotal: 18.8s\tremaining: 53.9ms\n",
      "349:\tlearn: 1795.3149669\ttotal: 18.9s\tremaining: 0us\n",
      "0:\tlearn: 4381.2498416\ttotal: 58.1ms\tremaining: 29s\n",
      "1:\tlearn: 4291.2759107\ttotal: 119ms\tremaining: 29.5s\n",
      "2:\tlearn: 4203.0639025\ttotal: 180ms\tremaining: 29.9s\n",
      "3:\tlearn: 4117.9527317\ttotal: 233ms\tremaining: 28.8s\n",
      "4:\tlearn: 4036.1850840\ttotal: 283ms\tremaining: 28.1s\n",
      "5:\tlearn: 3957.4415677\ttotal: 347ms\tremaining: 28.6s\n",
      "6:\tlearn: 3879.7303091\ttotal: 404ms\tremaining: 28.5s\n",
      "7:\tlearn: 3807.0290337\ttotal: 460ms\tremaining: 28.3s\n",
      "8:\tlearn: 3736.6234223\ttotal: 514ms\tremaining: 28.1s\n",
      "9:\tlearn: 3667.0534487\ttotal: 573ms\tremaining: 28.1s\n",
      "10:\tlearn: 3601.1385745\ttotal: 639ms\tremaining: 28.4s\n",
      "11:\tlearn: 3538.1240846\ttotal: 699ms\tremaining: 28.4s\n",
      "12:\tlearn: 3477.2958153\ttotal: 753ms\tremaining: 28.2s\n",
      "13:\tlearn: 3418.7102724\ttotal: 812ms\tremaining: 28.2s\n",
      "14:\tlearn: 3363.1649922\ttotal: 869ms\tremaining: 28.1s\n",
      "15:\tlearn: 3308.8081280\ttotal: 925ms\tremaining: 28s\n",
      "16:\tlearn: 3256.7230188\ttotal: 982ms\tremaining: 27.9s\n",
      "17:\tlearn: 3205.0510966\ttotal: 1.04s\tremaining: 28s\n",
      "18:\tlearn: 3157.4765606\ttotal: 1.11s\tremaining: 28.2s\n",
      "19:\tlearn: 3109.3823855\ttotal: 1.17s\tremaining: 28.1s\n",
      "20:\tlearn: 3063.4440546\ttotal: 1.22s\tremaining: 27.9s\n",
      "21:\tlearn: 3019.7118393\ttotal: 1.28s\tremaining: 27.9s\n",
      "22:\tlearn: 2977.3507925\ttotal: 1.34s\tremaining: 27.8s\n",
      "23:\tlearn: 2937.6598399\ttotal: 1.39s\tremaining: 27.6s\n",
      "24:\tlearn: 2898.2264318\ttotal: 1.47s\tremaining: 27.9s\n",
      "25:\tlearn: 2861.6151766\ttotal: 1.56s\tremaining: 28.4s\n",
      "26:\tlearn: 2825.2613355\ttotal: 1.62s\tremaining: 28.4s\n",
      "27:\tlearn: 2789.7798229\ttotal: 1.7s\tremaining: 28.6s\n",
      "28:\tlearn: 2757.0489395\ttotal: 1.76s\tremaining: 28.6s\n",
      "29:\tlearn: 2723.7584726\ttotal: 1.82s\tremaining: 28.6s\n",
      "30:\tlearn: 2691.9660932\ttotal: 1.88s\tremaining: 28.4s\n",
      "31:\tlearn: 2662.9854590\ttotal: 1.94s\tremaining: 28.3s\n",
      "32:\tlearn: 2632.8580887\ttotal: 2s\tremaining: 28.3s\n",
      "33:\tlearn: 2605.4527208\ttotal: 2.06s\tremaining: 28.2s\n",
      "34:\tlearn: 2579.1770632\ttotal: 2.11s\tremaining: 28.1s\n",
      "35:\tlearn: 2554.8138984\ttotal: 2.17s\tremaining: 28s\n",
      "36:\tlearn: 2530.6644290\ttotal: 2.24s\tremaining: 28s\n",
      "37:\tlearn: 2506.9212265\ttotal: 2.3s\tremaining: 28s\n",
      "38:\tlearn: 2485.4572359\ttotal: 2.35s\tremaining: 27.8s\n",
      "39:\tlearn: 2463.9115500\ttotal: 2.42s\tremaining: 27.8s\n",
      "40:\tlearn: 2443.4196311\ttotal: 2.5s\tremaining: 28s\n",
      "41:\tlearn: 2422.9082875\ttotal: 2.58s\tremaining: 28.1s\n",
      "42:\tlearn: 2403.5956971\ttotal: 2.65s\tremaining: 28.2s\n",
      "43:\tlearn: 2385.3001902\ttotal: 2.73s\tremaining: 28.2s\n",
      "44:\tlearn: 2366.9761964\ttotal: 2.81s\tremaining: 28.4s\n",
      "45:\tlearn: 2349.0461320\ttotal: 2.88s\tremaining: 28.4s\n",
      "46:\tlearn: 2331.4921020\ttotal: 2.93s\tremaining: 28.3s\n",
      "47:\tlearn: 2315.9411275\ttotal: 2.99s\tremaining: 28.2s\n",
      "48:\tlearn: 2300.5799693\ttotal: 3.05s\tremaining: 28.1s\n",
      "49:\tlearn: 2285.6064059\ttotal: 3.11s\tremaining: 28s\n",
      "50:\tlearn: 2271.6367046\ttotal: 3.17s\tremaining: 27.9s\n",
      "51:\tlearn: 2258.0415867\ttotal: 3.23s\tremaining: 27.8s\n",
      "52:\tlearn: 2244.5758661\ttotal: 3.28s\tremaining: 27.7s\n",
      "53:\tlearn: 2231.6432374\ttotal: 3.33s\tremaining: 27.5s\n",
      "54:\tlearn: 2219.7054177\ttotal: 3.39s\tremaining: 27.4s\n",
      "55:\tlearn: 2207.8916539\ttotal: 3.46s\tremaining: 27.5s\n",
      "56:\tlearn: 2196.4628132\ttotal: 3.53s\tremaining: 27.5s\n",
      "57:\tlearn: 2185.2413609\ttotal: 3.6s\tremaining: 27.4s\n",
      "58:\tlearn: 2174.4314511\ttotal: 3.66s\tremaining: 27.4s\n",
      "59:\tlearn: 2165.1853620\ttotal: 3.71s\tremaining: 27.2s\n",
      "60:\tlearn: 2155.0335803\ttotal: 3.76s\tremaining: 27.1s\n",
      "61:\tlearn: 2145.4429024\ttotal: 3.81s\tremaining: 27s\n",
      "62:\tlearn: 2136.8103869\ttotal: 3.87s\tremaining: 26.8s\n",
      "63:\tlearn: 2128.7532441\ttotal: 3.93s\tremaining: 26.8s\n",
      "64:\tlearn: 2121.0135036\ttotal: 3.99s\tremaining: 26.7s\n",
      "65:\tlearn: 2112.5725448\ttotal: 4.04s\tremaining: 26.6s\n",
      "66:\tlearn: 2105.0354684\ttotal: 4.09s\tremaining: 26.4s\n",
      "67:\tlearn: 2097.2049361\ttotal: 4.15s\tremaining: 26.4s\n",
      "68:\tlearn: 2089.7984134\ttotal: 4.2s\tremaining: 26.2s\n",
      "69:\tlearn: 2082.8358308\ttotal: 4.25s\tremaining: 26.1s\n",
      "70:\tlearn: 2076.2567783\ttotal: 4.31s\tremaining: 26s\n",
      "71:\tlearn: 2069.4848241\ttotal: 4.37s\tremaining: 26s\n",
      "72:\tlearn: 2062.3652660\ttotal: 4.43s\tremaining: 25.9s\n",
      "73:\tlearn: 2056.7841436\ttotal: 4.48s\tremaining: 25.8s\n",
      "74:\tlearn: 2050.1656230\ttotal: 4.54s\tremaining: 25.7s\n",
      "75:\tlearn: 2044.9723782\ttotal: 4.6s\tremaining: 25.7s\n",
      "76:\tlearn: 2039.0809371\ttotal: 4.66s\tremaining: 25.6s\n",
      "77:\tlearn: 2034.0326525\ttotal: 4.74s\tremaining: 25.6s\n",
      "78:\tlearn: 2028.5759216\ttotal: 4.8s\tremaining: 25.6s\n",
      "79:\tlearn: 2023.6379363\ttotal: 4.86s\tremaining: 25.5s\n",
      "80:\tlearn: 2018.5066507\ttotal: 4.92s\tremaining: 25.5s\n",
      "81:\tlearn: 2013.6819889\ttotal: 4.98s\tremaining: 25.4s\n",
      "82:\tlearn: 2009.1033893\ttotal: 5.04s\tremaining: 25.3s\n",
      "83:\tlearn: 2004.5469354\ttotal: 5.1s\tremaining: 25.3s\n",
      "84:\tlearn: 1999.9989817\ttotal: 5.16s\tremaining: 25.2s\n",
      "85:\tlearn: 1995.5303629\ttotal: 5.21s\tremaining: 25.1s\n",
      "86:\tlearn: 1991.8991782\ttotal: 5.27s\tremaining: 25s\n",
      "87:\tlearn: 1987.7509691\ttotal: 5.33s\tremaining: 25s\n",
      "88:\tlearn: 1984.4129587\ttotal: 5.39s\tremaining: 24.9s\n",
      "89:\tlearn: 1979.9212437\ttotal: 5.43s\tremaining: 24.8s\n",
      "90:\tlearn: 1976.2136003\ttotal: 5.49s\tremaining: 24.7s\n",
      "91:\tlearn: 1972.6041296\ttotal: 5.55s\tremaining: 24.6s\n",
      "92:\tlearn: 1969.2820400\ttotal: 5.61s\tremaining: 24.5s\n",
      "93:\tlearn: 1966.3163179\ttotal: 5.66s\tremaining: 24.4s\n",
      "94:\tlearn: 1963.0229493\ttotal: 5.71s\tremaining: 24.4s\n",
      "95:\tlearn: 1959.7261237\ttotal: 5.77s\tremaining: 24.3s\n",
      "96:\tlearn: 1956.9528898\ttotal: 5.83s\tremaining: 24.2s\n",
      "97:\tlearn: 1954.4379422\ttotal: 5.88s\tremaining: 24.1s\n",
      "98:\tlearn: 1951.3997065\ttotal: 5.94s\tremaining: 24.1s\n",
      "99:\tlearn: 1948.6924201\ttotal: 6s\tremaining: 24s\n",
      "100:\tlearn: 1946.5433307\ttotal: 6.06s\tremaining: 23.9s\n",
      "101:\tlearn: 1943.9961736\ttotal: 6.11s\tremaining: 23.8s\n",
      "102:\tlearn: 1941.3896114\ttotal: 6.18s\tremaining: 23.8s\n",
      "103:\tlearn: 1938.8420923\ttotal: 6.24s\tremaining: 23.8s\n",
      "104:\tlearn: 1936.8017883\ttotal: 6.31s\tremaining: 23.7s\n",
      "105:\tlearn: 1934.0273044\ttotal: 6.37s\tremaining: 23.7s\n",
      "106:\tlearn: 1931.9779534\ttotal: 6.42s\tremaining: 23.6s\n",
      "107:\tlearn: 1930.0852795\ttotal: 6.49s\tremaining: 23.6s\n",
      "108:\tlearn: 1927.9951525\ttotal: 6.56s\tremaining: 23.5s\n",
      "109:\tlearn: 1926.2503453\ttotal: 6.61s\tremaining: 23.4s\n",
      "110:\tlearn: 1924.4614018\ttotal: 6.66s\tremaining: 23.3s\n",
      "111:\tlearn: 1922.5832268\ttotal: 6.71s\tremaining: 23.2s\n",
      "112:\tlearn: 1920.5681003\ttotal: 6.78s\tremaining: 23.2s\n",
      "113:\tlearn: 1918.7739743\ttotal: 6.83s\tremaining: 23.1s\n",
      "114:\tlearn: 1916.9096639\ttotal: 6.9s\tremaining: 23.1s\n",
      "115:\tlearn: 1914.8590927\ttotal: 6.96s\tremaining: 23s\n",
      "116:\tlearn: 1913.0832439\ttotal: 7.02s\tremaining: 23s\n",
      "117:\tlearn: 1911.5530081\ttotal: 7.07s\tremaining: 22.9s\n",
      "118:\tlearn: 1909.8241679\ttotal: 7.11s\tremaining: 22.8s\n",
      "119:\tlearn: 1908.1126469\ttotal: 7.16s\tremaining: 22.7s\n",
      "120:\tlearn: 1906.5512670\ttotal: 7.21s\tremaining: 22.6s\n",
      "121:\tlearn: 1905.1265977\ttotal: 7.27s\tremaining: 22.5s\n",
      "122:\tlearn: 1903.9264511\ttotal: 7.32s\tremaining: 22.4s\n",
      "123:\tlearn: 1902.6720757\ttotal: 7.37s\tremaining: 22.4s\n",
      "124:\tlearn: 1901.1702856\ttotal: 7.43s\tremaining: 22.3s\n",
      "125:\tlearn: 1899.7212298\ttotal: 7.48s\tremaining: 22.2s\n",
      "126:\tlearn: 1898.0796589\ttotal: 7.53s\tremaining: 22.1s\n",
      "127:\tlearn: 1896.4896572\ttotal: 7.58s\tremaining: 22s\n",
      "128:\tlearn: 1895.2984738\ttotal: 7.64s\tremaining: 22s\n",
      "129:\tlearn: 1893.8252995\ttotal: 7.69s\tremaining: 21.9s\n",
      "130:\tlearn: 1892.6454607\ttotal: 7.74s\tremaining: 21.8s\n",
      "131:\tlearn: 1891.5936367\ttotal: 7.79s\tremaining: 21.7s\n",
      "132:\tlearn: 1890.4999749\ttotal: 7.84s\tremaining: 21.6s\n",
      "133:\tlearn: 1889.0658283\ttotal: 7.9s\tremaining: 21.6s\n",
      "134:\tlearn: 1887.9143561\ttotal: 7.95s\tremaining: 21.5s\n",
      "135:\tlearn: 1886.8801807\ttotal: 8s\tremaining: 21.4s\n",
      "136:\tlearn: 1885.8202125\ttotal: 8.06s\tremaining: 21.4s\n",
      "137:\tlearn: 1884.6287315\ttotal: 8.12s\tremaining: 21.3s\n",
      "138:\tlearn: 1883.6254601\ttotal: 8.17s\tremaining: 21.2s\n",
      "139:\tlearn: 1882.4257984\ttotal: 8.23s\tremaining: 21.2s\n",
      "140:\tlearn: 1881.1510695\ttotal: 8.29s\tremaining: 21.1s\n",
      "141:\tlearn: 1879.9000619\ttotal: 8.35s\tremaining: 21s\n",
      "142:\tlearn: 1879.1384176\ttotal: 8.4s\tremaining: 21s\n",
      "143:\tlearn: 1877.9988996\ttotal: 8.44s\tremaining: 20.9s\n",
      "144:\tlearn: 1877.2297895\ttotal: 8.5s\tremaining: 20.8s\n",
      "145:\tlearn: 1876.2367612\ttotal: 8.55s\tremaining: 20.7s\n",
      "146:\tlearn: 1875.4116656\ttotal: 8.62s\tremaining: 20.7s\n",
      "147:\tlearn: 1874.5610441\ttotal: 8.66s\tremaining: 20.6s\n",
      "148:\tlearn: 1873.6573829\ttotal: 8.71s\tremaining: 20.5s\n",
      "149:\tlearn: 1872.8395884\ttotal: 8.76s\tremaining: 20.4s\n",
      "150:\tlearn: 1871.6868499\ttotal: 8.82s\tremaining: 20.4s\n",
      "151:\tlearn: 1870.8774322\ttotal: 8.88s\tremaining: 20.3s\n",
      "152:\tlearn: 1870.2727371\ttotal: 8.93s\tremaining: 20.3s\n",
      "153:\tlearn: 1869.5760254\ttotal: 8.98s\tremaining: 20.2s\n",
      "154:\tlearn: 1868.9559409\ttotal: 9.02s\tremaining: 20.1s\n",
      "155:\tlearn: 1868.3293966\ttotal: 9.07s\tremaining: 20s\n",
      "156:\tlearn: 1867.6746336\ttotal: 9.12s\tremaining: 19.9s\n",
      "157:\tlearn: 1866.9245910\ttotal: 9.17s\tremaining: 19.9s\n",
      "158:\tlearn: 1866.1042897\ttotal: 9.22s\tremaining: 19.8s\n",
      "159:\tlearn: 1865.4372036\ttotal: 9.28s\tremaining: 19.7s\n",
      "160:\tlearn: 1864.7659389\ttotal: 9.33s\tremaining: 19.7s\n",
      "161:\tlearn: 1864.1739951\ttotal: 9.38s\tremaining: 19.6s\n",
      "162:\tlearn: 1863.5537880\ttotal: 9.43s\tremaining: 19.5s\n",
      "163:\tlearn: 1862.8903114\ttotal: 9.48s\tremaining: 19.4s\n",
      "164:\tlearn: 1862.1791275\ttotal: 9.53s\tremaining: 19.3s\n",
      "165:\tlearn: 1861.3204470\ttotal: 9.59s\tremaining: 19.3s\n",
      "166:\tlearn: 1860.8058115\ttotal: 9.65s\tremaining: 19.2s\n",
      "167:\tlearn: 1860.0048533\ttotal: 9.71s\tremaining: 19.2s\n",
      "168:\tlearn: 1859.3314514\ttotal: 9.75s\tremaining: 19.1s\n",
      "169:\tlearn: 1858.5629311\ttotal: 9.81s\tremaining: 19s\n",
      "170:\tlearn: 1857.9574372\ttotal: 9.86s\tremaining: 19s\n",
      "171:\tlearn: 1857.3535836\ttotal: 9.9s\tremaining: 18.9s\n",
      "172:\tlearn: 1856.8528463\ttotal: 9.96s\tremaining: 18.8s\n",
      "173:\tlearn: 1856.2909112\ttotal: 10s\tremaining: 18.7s\n",
      "174:\tlearn: 1855.6497152\ttotal: 10s\tremaining: 18.7s\n",
      "175:\tlearn: 1855.1091479\ttotal: 10.1s\tremaining: 18.6s\n",
      "176:\tlearn: 1854.6540385\ttotal: 10.1s\tremaining: 18.5s\n",
      "177:\tlearn: 1854.1586870\ttotal: 10.2s\tremaining: 18.4s\n",
      "178:\tlearn: 1853.5695733\ttotal: 10.2s\tremaining: 18.4s\n",
      "179:\tlearn: 1852.7743786\ttotal: 10.3s\tremaining: 18.3s\n",
      "180:\tlearn: 1852.0729776\ttotal: 10.4s\tremaining: 18.3s\n",
      "181:\tlearn: 1851.5960133\ttotal: 10.4s\tremaining: 18.2s\n",
      "182:\tlearn: 1851.0556997\ttotal: 10.5s\tremaining: 18.1s\n",
      "183:\tlearn: 1850.6048145\ttotal: 10.5s\tremaining: 18.1s\n",
      "184:\tlearn: 1850.0981129\ttotal: 10.6s\tremaining: 18s\n",
      "185:\tlearn: 1849.1798456\ttotal: 10.6s\tremaining: 18s\n",
      "186:\tlearn: 1848.4928644\ttotal: 10.7s\tremaining: 17.9s\n",
      "187:\tlearn: 1847.9293881\ttotal: 10.7s\tremaining: 17.8s\n",
      "188:\tlearn: 1847.3305388\ttotal: 10.8s\tremaining: 17.8s\n",
      "189:\tlearn: 1846.7258164\ttotal: 10.9s\tremaining: 17.7s\n",
      "190:\tlearn: 1846.3968986\ttotal: 10.9s\tremaining: 17.7s\n",
      "191:\tlearn: 1845.9036252\ttotal: 11s\tremaining: 17.6s\n",
      "192:\tlearn: 1845.5698021\ttotal: 11s\tremaining: 17.5s\n",
      "193:\tlearn: 1844.9460490\ttotal: 11.1s\tremaining: 17.5s\n",
      "194:\tlearn: 1844.3827173\ttotal: 11.1s\tremaining: 17.4s\n",
      "195:\tlearn: 1843.9607825\ttotal: 11.2s\tremaining: 17.3s\n",
      "196:\tlearn: 1843.5844435\ttotal: 11.2s\tremaining: 17.3s\n",
      "197:\tlearn: 1843.1717266\ttotal: 11.3s\tremaining: 17.2s\n",
      "198:\tlearn: 1842.7318243\ttotal: 11.3s\tremaining: 17.2s\n",
      "199:\tlearn: 1842.3369816\ttotal: 11.4s\tremaining: 17.1s\n",
      "200:\tlearn: 1841.8317582\ttotal: 11.5s\tremaining: 17s\n",
      "201:\tlearn: 1841.2719231\ttotal: 11.5s\tremaining: 17s\n",
      "202:\tlearn: 1841.0768458\ttotal: 11.6s\tremaining: 16.9s\n",
      "203:\tlearn: 1840.2396542\ttotal: 11.6s\tremaining: 16.9s\n",
      "204:\tlearn: 1839.6415430\ttotal: 11.7s\tremaining: 16.8s\n",
      "205:\tlearn: 1839.3219301\ttotal: 11.7s\tremaining: 16.7s\n",
      "206:\tlearn: 1838.8294892\ttotal: 11.8s\tremaining: 16.6s\n",
      "207:\tlearn: 1838.4014939\ttotal: 11.8s\tremaining: 16.6s\n",
      "208:\tlearn: 1837.8901949\ttotal: 11.9s\tremaining: 16.5s\n",
      "209:\tlearn: 1837.2348049\ttotal: 11.9s\tremaining: 16.4s\n",
      "210:\tlearn: 1836.8122570\ttotal: 12s\tremaining: 16.4s\n",
      "211:\tlearn: 1836.4777568\ttotal: 12s\tremaining: 16.3s\n",
      "212:\tlearn: 1836.0039548\ttotal: 12.1s\tremaining: 16.3s\n",
      "213:\tlearn: 1835.6761500\ttotal: 12.1s\tremaining: 16.2s\n",
      "214:\tlearn: 1835.4329398\ttotal: 12.2s\tremaining: 16.1s\n",
      "215:\tlearn: 1835.1899299\ttotal: 12.2s\tremaining: 16.1s\n",
      "216:\tlearn: 1834.7020230\ttotal: 12.3s\tremaining: 16s\n",
      "217:\tlearn: 1834.1922157\ttotal: 12.3s\tremaining: 15.9s\n",
      "218:\tlearn: 1833.8881086\ttotal: 12.4s\tremaining: 15.9s\n",
      "219:\tlearn: 1833.6074795\ttotal: 12.4s\tremaining: 15.8s\n",
      "220:\tlearn: 1833.1519029\ttotal: 12.5s\tremaining: 15.8s\n",
      "221:\tlearn: 1832.7206826\ttotal: 12.5s\tremaining: 15.7s\n",
      "222:\tlearn: 1832.4311575\ttotal: 12.6s\tremaining: 15.6s\n",
      "223:\tlearn: 1832.2735497\ttotal: 12.6s\tremaining: 15.6s\n",
      "224:\tlearn: 1832.0261713\ttotal: 12.7s\tremaining: 15.5s\n",
      "225:\tlearn: 1831.6451610\ttotal: 12.7s\tremaining: 15.4s\n",
      "226:\tlearn: 1831.4261595\ttotal: 12.8s\tremaining: 15.4s\n",
      "227:\tlearn: 1831.2247910\ttotal: 12.8s\tremaining: 15.3s\n",
      "228:\tlearn: 1830.6778388\ttotal: 12.9s\tremaining: 15.3s\n",
      "229:\tlearn: 1830.2611184\ttotal: 12.9s\tremaining: 15.2s\n",
      "230:\tlearn: 1830.0181316\ttotal: 13s\tremaining: 15.1s\n",
      "231:\tlearn: 1829.6530332\ttotal: 13.1s\tremaining: 15.1s\n",
      "232:\tlearn: 1829.2445113\ttotal: 13.1s\tremaining: 15s\n",
      "233:\tlearn: 1828.7316132\ttotal: 13.2s\tremaining: 15s\n",
      "234:\tlearn: 1828.4361680\ttotal: 13.2s\tremaining: 14.9s\n",
      "235:\tlearn: 1827.9383051\ttotal: 13.3s\tremaining: 14.8s\n",
      "236:\tlearn: 1827.4839197\ttotal: 13.3s\tremaining: 14.8s\n",
      "237:\tlearn: 1826.8036574\ttotal: 13.4s\tremaining: 14.7s\n",
      "238:\tlearn: 1826.2305561\ttotal: 13.4s\tremaining: 14.7s\n",
      "239:\tlearn: 1825.8687001\ttotal: 13.5s\tremaining: 14.6s\n",
      "240:\tlearn: 1825.4059626\ttotal: 13.5s\tremaining: 14.6s\n",
      "241:\tlearn: 1825.2322968\ttotal: 13.6s\tremaining: 14.5s\n",
      "242:\tlearn: 1824.7683389\ttotal: 13.7s\tremaining: 14.4s\n",
      "243:\tlearn: 1824.4358021\ttotal: 13.7s\tremaining: 14.4s\n",
      "244:\tlearn: 1824.0454508\ttotal: 13.8s\tremaining: 14.3s\n",
      "245:\tlearn: 1823.6833569\ttotal: 13.8s\tremaining: 14.3s\n",
      "246:\tlearn: 1823.0923171\ttotal: 13.9s\tremaining: 14.2s\n",
      "247:\tlearn: 1822.4180726\ttotal: 13.9s\tremaining: 14.1s\n",
      "248:\tlearn: 1821.9806435\ttotal: 14s\tremaining: 14.1s\n",
      "249:\tlearn: 1821.6136669\ttotal: 14s\tremaining: 14s\n",
      "250:\tlearn: 1821.3779649\ttotal: 14.1s\tremaining: 14s\n",
      "251:\tlearn: 1821.0264503\ttotal: 14.1s\tremaining: 13.9s\n",
      "252:\tlearn: 1820.5481025\ttotal: 14.2s\tremaining: 13.9s\n",
      "253:\tlearn: 1820.0603943\ttotal: 14.2s\tremaining: 13.8s\n",
      "254:\tlearn: 1819.6646261\ttotal: 14.3s\tremaining: 13.7s\n",
      "255:\tlearn: 1819.3853802\ttotal: 14.4s\tremaining: 13.7s\n",
      "256:\tlearn: 1819.0623404\ttotal: 14.4s\tremaining: 13.6s\n",
      "257:\tlearn: 1818.5259228\ttotal: 14.5s\tremaining: 13.6s\n",
      "258:\tlearn: 1818.0359585\ttotal: 14.5s\tremaining: 13.5s\n",
      "259:\tlearn: 1817.5865835\ttotal: 14.6s\tremaining: 13.5s\n",
      "260:\tlearn: 1817.2621323\ttotal: 14.6s\tremaining: 13.4s\n",
      "261:\tlearn: 1817.0439190\ttotal: 14.7s\tremaining: 13.3s\n",
      "262:\tlearn: 1816.7869043\ttotal: 14.7s\tremaining: 13.3s\n",
      "263:\tlearn: 1816.5977461\ttotal: 14.8s\tremaining: 13.2s\n",
      "264:\tlearn: 1816.2160804\ttotal: 14.9s\tremaining: 13.2s\n",
      "265:\tlearn: 1815.8357179\ttotal: 14.9s\tremaining: 13.1s\n",
      "266:\tlearn: 1815.5655861\ttotal: 14.9s\tremaining: 13s\n",
      "267:\tlearn: 1815.4089728\ttotal: 15s\tremaining: 13s\n",
      "268:\tlearn: 1815.0791084\ttotal: 15.1s\tremaining: 12.9s\n",
      "269:\tlearn: 1814.9390243\ttotal: 15.1s\tremaining: 12.9s\n",
      "270:\tlearn: 1814.7765377\ttotal: 15.2s\tremaining: 12.8s\n",
      "271:\tlearn: 1814.5483740\ttotal: 15.2s\tremaining: 12.7s\n",
      "272:\tlearn: 1814.2971765\ttotal: 15.2s\tremaining: 12.7s\n",
      "273:\tlearn: 1813.7714859\ttotal: 15.3s\tremaining: 12.6s\n",
      "274:\tlearn: 1813.2674182\ttotal: 15.4s\tremaining: 12.6s\n",
      "275:\tlearn: 1812.9726064\ttotal: 15.4s\tremaining: 12.5s\n",
      "276:\tlearn: 1812.7857622\ttotal: 15.5s\tremaining: 12.4s\n",
      "277:\tlearn: 1812.4597551\ttotal: 15.5s\tremaining: 12.4s\n",
      "278:\tlearn: 1812.1928491\ttotal: 15.6s\tremaining: 12.3s\n",
      "279:\tlearn: 1811.9598083\ttotal: 15.6s\tremaining: 12.3s\n",
      "280:\tlearn: 1811.7109201\ttotal: 15.7s\tremaining: 12.2s\n",
      "281:\tlearn: 1811.4216754\ttotal: 15.7s\tremaining: 12.2s\n",
      "282:\tlearn: 1811.1414348\ttotal: 15.8s\tremaining: 12.1s\n",
      "283:\tlearn: 1810.7046341\ttotal: 15.8s\tremaining: 12s\n",
      "284:\tlearn: 1810.4288835\ttotal: 15.9s\tremaining: 12s\n",
      "285:\tlearn: 1810.1982614\ttotal: 15.9s\tremaining: 11.9s\n",
      "286:\tlearn: 1809.7389276\ttotal: 16s\tremaining: 11.9s\n",
      "287:\tlearn: 1809.4252403\ttotal: 16s\tremaining: 11.8s\n",
      "288:\tlearn: 1809.0970287\ttotal: 16.1s\tremaining: 11.7s\n",
      "289:\tlearn: 1808.8102671\ttotal: 16.2s\tremaining: 11.7s\n",
      "290:\tlearn: 1808.8015366\ttotal: 16.2s\tremaining: 11.6s\n",
      "291:\tlearn: 1808.6725965\ttotal: 16.2s\tremaining: 11.6s\n",
      "292:\tlearn: 1808.5298306\ttotal: 16.3s\tremaining: 11.5s\n",
      "293:\tlearn: 1808.1161611\ttotal: 16.3s\tremaining: 11.4s\n",
      "294:\tlearn: 1807.7652927\ttotal: 16.4s\tremaining: 11.4s\n",
      "295:\tlearn: 1807.2242384\ttotal: 16.4s\tremaining: 11.3s\n",
      "296:\tlearn: 1806.7632841\ttotal: 16.5s\tremaining: 11.3s\n",
      "297:\tlearn: 1806.2531795\ttotal: 16.6s\tremaining: 11.2s\n",
      "298:\tlearn: 1806.0419577\ttotal: 16.6s\tremaining: 11.2s\n",
      "299:\tlearn: 1805.7731784\ttotal: 16.7s\tremaining: 11.1s\n",
      "300:\tlearn: 1805.4323607\ttotal: 16.7s\tremaining: 11s\n",
      "301:\tlearn: 1805.0597553\ttotal: 16.8s\tremaining: 11s\n",
      "302:\tlearn: 1804.9061191\ttotal: 16.8s\tremaining: 10.9s\n",
      "303:\tlearn: 1804.5895439\ttotal: 16.9s\tremaining: 10.9s\n",
      "304:\tlearn: 1804.3100432\ttotal: 16.9s\tremaining: 10.8s\n",
      "305:\tlearn: 1804.0350879\ttotal: 17s\tremaining: 10.8s\n",
      "306:\tlearn: 1803.8223735\ttotal: 17s\tremaining: 10.7s\n",
      "307:\tlearn: 1803.5780979\ttotal: 17s\tremaining: 10.6s\n",
      "308:\tlearn: 1803.2567540\ttotal: 17.1s\tremaining: 10.6s\n",
      "309:\tlearn: 1802.7653720\ttotal: 17.2s\tremaining: 10.5s\n",
      "310:\tlearn: 1802.5291574\ttotal: 17.2s\tremaining: 10.5s\n",
      "311:\tlearn: 1802.2455236\ttotal: 17.3s\tremaining: 10.4s\n",
      "312:\tlearn: 1802.0475942\ttotal: 17.3s\tremaining: 10.3s\n",
      "313:\tlearn: 1801.7729996\ttotal: 17.4s\tremaining: 10.3s\n",
      "314:\tlearn: 1801.5189004\ttotal: 17.4s\tremaining: 10.2s\n",
      "315:\tlearn: 1801.1805195\ttotal: 17.5s\tremaining: 10.2s\n",
      "316:\tlearn: 1800.9815902\ttotal: 17.5s\tremaining: 10.1s\n",
      "317:\tlearn: 1800.7084780\ttotal: 17.6s\tremaining: 10.1s\n",
      "318:\tlearn: 1800.1312484\ttotal: 17.6s\tremaining: 10s\n",
      "319:\tlearn: 1800.0015742\ttotal: 17.7s\tremaining: 9.95s\n",
      "320:\tlearn: 1799.6692814\ttotal: 17.7s\tremaining: 9.89s\n",
      "321:\tlearn: 1799.5720143\ttotal: 17.8s\tremaining: 9.85s\n",
      "322:\tlearn: 1799.3638245\ttotal: 17.9s\tremaining: 9.79s\n",
      "323:\tlearn: 1798.9737411\ttotal: 17.9s\tremaining: 9.73s\n",
      "324:\tlearn: 1798.5734819\ttotal: 18s\tremaining: 9.68s\n",
      "325:\tlearn: 1798.2605286\ttotal: 18s\tremaining: 9.63s\n",
      "326:\tlearn: 1798.1084814\ttotal: 18.1s\tremaining: 9.58s\n",
      "327:\tlearn: 1797.8558336\ttotal: 18.2s\tremaining: 9.52s\n",
      "328:\tlearn: 1797.5816504\ttotal: 18.2s\tremaining: 9.47s\n",
      "329:\tlearn: 1797.2387545\ttotal: 18.3s\tremaining: 9.41s\n",
      "330:\tlearn: 1796.8716335\ttotal: 18.3s\tremaining: 9.35s\n",
      "331:\tlearn: 1796.6264627\ttotal: 18.4s\tremaining: 9.29s\n",
      "332:\tlearn: 1796.1132304\ttotal: 18.4s\tremaining: 9.24s\n",
      "333:\tlearn: 1795.8378606\ttotal: 18.5s\tremaining: 9.19s\n",
      "334:\tlearn: 1795.5882028\ttotal: 18.5s\tremaining: 9.13s\n",
      "335:\tlearn: 1795.3059300\ttotal: 18.6s\tremaining: 9.07s\n",
      "336:\tlearn: 1795.0903406\ttotal: 18.6s\tremaining: 9.01s\n",
      "337:\tlearn: 1794.8808598\ttotal: 18.7s\tremaining: 8.96s\n",
      "338:\tlearn: 1794.6889804\ttotal: 18.7s\tremaining: 8.9s\n",
      "339:\tlearn: 1794.5187495\ttotal: 18.8s\tremaining: 8.84s\n",
      "340:\tlearn: 1794.3236780\ttotal: 18.8s\tremaining: 8.78s\n",
      "341:\tlearn: 1794.0275018\ttotal: 18.9s\tremaining: 8.73s\n",
      "342:\tlearn: 1793.9455730\ttotal: 18.9s\tremaining: 8.67s\n",
      "343:\tlearn: 1793.8222442\ttotal: 19s\tremaining: 8.61s\n",
      "344:\tlearn: 1793.7152457\ttotal: 19s\tremaining: 8.56s\n",
      "345:\tlearn: 1793.5540736\ttotal: 19.1s\tremaining: 8.5s\n",
      "346:\tlearn: 1793.4227833\ttotal: 19.2s\tremaining: 8.44s\n",
      "347:\tlearn: 1793.0847881\ttotal: 19.2s\tremaining: 8.39s\n",
      "348:\tlearn: 1792.7815103\ttotal: 19.3s\tremaining: 8.33s\n",
      "349:\tlearn: 1792.5614499\ttotal: 19.3s\tremaining: 8.27s\n",
      "350:\tlearn: 1792.3797076\ttotal: 19.4s\tremaining: 8.21s\n",
      "351:\tlearn: 1792.0044894\ttotal: 19.4s\tremaining: 8.16s\n",
      "352:\tlearn: 1791.6328428\ttotal: 19.5s\tremaining: 8.11s\n",
      "353:\tlearn: 1791.3577279\ttotal: 19.5s\tremaining: 8.05s\n",
      "354:\tlearn: 1791.3520138\ttotal: 19.5s\tremaining: 7.98s\n",
      "355:\tlearn: 1791.2677771\ttotal: 19.6s\tremaining: 7.93s\n",
      "356:\tlearn: 1790.8664429\ttotal: 19.7s\tremaining: 7.88s\n",
      "357:\tlearn: 1790.5776948\ttotal: 19.7s\tremaining: 7.82s\n",
      "358:\tlearn: 1790.2974441\ttotal: 19.8s\tremaining: 7.76s\n",
      "359:\tlearn: 1789.9813657\ttotal: 19.8s\tremaining: 7.7s\n",
      "360:\tlearn: 1789.5973200\ttotal: 19.9s\tremaining: 7.65s\n",
      "361:\tlearn: 1789.3186145\ttotal: 19.9s\tremaining: 7.59s\n",
      "362:\tlearn: 1789.1708378\ttotal: 20s\tremaining: 7.54s\n",
      "363:\tlearn: 1789.0810815\ttotal: 20s\tremaining: 7.48s\n",
      "364:\tlearn: 1788.7180850\ttotal: 20.1s\tremaining: 7.43s\n",
      "365:\tlearn: 1788.4299470\ttotal: 20.1s\tremaining: 7.38s\n",
      "366:\tlearn: 1788.1163260\ttotal: 20.2s\tremaining: 7.32s\n",
      "367:\tlearn: 1787.9066332\ttotal: 20.2s\tremaining: 7.26s\n",
      "368:\tlearn: 1787.6892881\ttotal: 20.3s\tremaining: 7.21s\n",
      "369:\tlearn: 1787.4423994\ttotal: 20.4s\tremaining: 7.15s\n",
      "370:\tlearn: 1787.1178762\ttotal: 20.4s\tremaining: 7.1s\n",
      "371:\tlearn: 1786.9057469\ttotal: 20.5s\tremaining: 7.04s\n",
      "372:\tlearn: 1786.5850567\ttotal: 20.5s\tremaining: 6.98s\n",
      "373:\tlearn: 1786.4738440\ttotal: 20.6s\tremaining: 6.93s\n",
      "374:\tlearn: 1786.3531313\ttotal: 20.6s\tremaining: 6.87s\n",
      "375:\tlearn: 1786.1614496\ttotal: 20.7s\tremaining: 6.82s\n",
      "376:\tlearn: 1785.8799855\ttotal: 20.7s\tremaining: 6.76s\n",
      "377:\tlearn: 1785.6219310\ttotal: 20.8s\tremaining: 6.71s\n",
      "378:\tlearn: 1785.4236641\ttotal: 20.8s\tremaining: 6.65s\n",
      "379:\tlearn: 1785.1381873\ttotal: 20.9s\tremaining: 6.59s\n",
      "380:\tlearn: 1784.9873150\ttotal: 20.9s\tremaining: 6.53s\n",
      "381:\tlearn: 1784.6571023\ttotal: 21s\tremaining: 6.48s\n",
      "382:\tlearn: 1784.4568693\ttotal: 21s\tremaining: 6.42s\n",
      "383:\tlearn: 1784.0687026\ttotal: 21.1s\tremaining: 6.37s\n",
      "384:\tlearn: 1783.8231786\ttotal: 21.1s\tremaining: 6.32s\n",
      "385:\tlearn: 1783.5841540\ttotal: 21.2s\tremaining: 6.26s\n",
      "386:\tlearn: 1783.3108639\ttotal: 21.2s\tremaining: 6.2s\n",
      "387:\tlearn: 1782.9770453\ttotal: 21.3s\tremaining: 6.15s\n",
      "388:\tlearn: 1782.8313207\ttotal: 21.4s\tremaining: 6.09s\n",
      "389:\tlearn: 1782.6326175\ttotal: 21.4s\tremaining: 6.04s\n",
      "390:\tlearn: 1782.4531870\ttotal: 21.5s\tremaining: 5.99s\n",
      "391:\tlearn: 1782.1901115\ttotal: 21.5s\tremaining: 5.93s\n",
      "392:\tlearn: 1781.9845132\ttotal: 21.6s\tremaining: 5.88s\n",
      "393:\tlearn: 1781.8825205\ttotal: 21.6s\tremaining: 5.82s\n",
      "394:\tlearn: 1781.5971083\ttotal: 21.7s\tremaining: 5.77s\n",
      "395:\tlearn: 1781.4143777\ttotal: 21.8s\tremaining: 5.71s\n",
      "396:\tlearn: 1781.1854703\ttotal: 21.8s\tremaining: 5.66s\n",
      "397:\tlearn: 1780.9960897\ttotal: 21.9s\tremaining: 5.6s\n",
      "398:\tlearn: 1780.7338327\ttotal: 21.9s\tremaining: 5.55s\n",
      "399:\tlearn: 1780.4753791\ttotal: 22s\tremaining: 5.49s\n",
      "400:\tlearn: 1780.2667209\ttotal: 22s\tremaining: 5.44s\n",
      "401:\tlearn: 1780.1812437\ttotal: 22.1s\tremaining: 5.38s\n",
      "402:\tlearn: 1780.0356430\ttotal: 22.1s\tremaining: 5.33s\n",
      "403:\tlearn: 1779.8274680\ttotal: 22.2s\tremaining: 5.27s\n",
      "404:\tlearn: 1779.6487115\ttotal: 22.2s\tremaining: 5.21s\n",
      "405:\tlearn: 1779.3917330\ttotal: 22.3s\tremaining: 5.16s\n",
      "406:\tlearn: 1779.2082423\ttotal: 22.3s\tremaining: 5.11s\n",
      "407:\tlearn: 1778.9330272\ttotal: 22.4s\tremaining: 5.05s\n",
      "408:\tlearn: 1778.8425579\ttotal: 22.5s\tremaining: 5s\n",
      "409:\tlearn: 1778.5013942\ttotal: 22.5s\tremaining: 4.94s\n",
      "410:\tlearn: 1778.3064576\ttotal: 22.6s\tremaining: 4.88s\n",
      "411:\tlearn: 1778.1271926\ttotal: 22.6s\tremaining: 4.83s\n",
      "412:\tlearn: 1777.8153790\ttotal: 22.7s\tremaining: 4.77s\n",
      "413:\tlearn: 1777.6681236\ttotal: 22.7s\tremaining: 4.72s\n",
      "414:\tlearn: 1777.4321410\ttotal: 22.8s\tremaining: 4.66s\n",
      "415:\tlearn: 1777.1325874\ttotal: 22.8s\tremaining: 4.61s\n",
      "416:\tlearn: 1776.8830692\ttotal: 22.9s\tremaining: 4.55s\n",
      "417:\tlearn: 1776.5913196\ttotal: 22.9s\tremaining: 4.5s\n",
      "418:\tlearn: 1776.3869177\ttotal: 23s\tremaining: 4.44s\n",
      "419:\tlearn: 1776.1443657\ttotal: 23s\tremaining: 4.39s\n",
      "420:\tlearn: 1775.9039464\ttotal: 23.1s\tremaining: 4.33s\n",
      "421:\tlearn: 1775.6003411\ttotal: 23.2s\tremaining: 4.28s\n",
      "422:\tlearn: 1775.4866085\ttotal: 23.2s\tremaining: 4.22s\n",
      "423:\tlearn: 1775.3360949\ttotal: 23.3s\tremaining: 4.17s\n",
      "424:\tlearn: 1775.1960801\ttotal: 23.3s\tremaining: 4.11s\n",
      "425:\tlearn: 1774.9288632\ttotal: 23.4s\tremaining: 4.06s\n",
      "426:\tlearn: 1774.8066885\ttotal: 23.4s\tremaining: 4s\n",
      "427:\tlearn: 1774.3926917\ttotal: 23.5s\tremaining: 3.95s\n",
      "428:\tlearn: 1774.0851351\ttotal: 23.5s\tremaining: 3.9s\n",
      "429:\tlearn: 1773.8942239\ttotal: 23.6s\tremaining: 3.84s\n",
      "430:\tlearn: 1773.6970385\ttotal: 23.6s\tremaining: 3.78s\n",
      "431:\tlearn: 1773.5265219\ttotal: 23.7s\tremaining: 3.73s\n",
      "432:\tlearn: 1773.1799738\ttotal: 23.8s\tremaining: 3.68s\n",
      "433:\tlearn: 1773.0469690\ttotal: 23.8s\tremaining: 3.62s\n",
      "434:\tlearn: 1772.6400075\ttotal: 23.9s\tremaining: 3.57s\n",
      "435:\tlearn: 1772.3396928\ttotal: 23.9s\tremaining: 3.51s\n",
      "436:\tlearn: 1772.0824301\ttotal: 24s\tremaining: 3.46s\n",
      "437:\tlearn: 1771.9827779\ttotal: 24.1s\tremaining: 3.4s\n",
      "438:\tlearn: 1771.7343554\ttotal: 24.1s\tremaining: 3.35s\n",
      "439:\tlearn: 1771.5862342\ttotal: 24.2s\tremaining: 3.29s\n",
      "440:\tlearn: 1771.4769666\ttotal: 24.2s\tremaining: 3.24s\n",
      "441:\tlearn: 1771.3575194\ttotal: 24.3s\tremaining: 3.19s\n",
      "442:\tlearn: 1771.2067704\ttotal: 24.3s\tremaining: 3.13s\n",
      "443:\tlearn: 1771.1086771\ttotal: 24.4s\tremaining: 3.08s\n",
      "444:\tlearn: 1770.8136608\ttotal: 24.4s\tremaining: 3.02s\n",
      "445:\tlearn: 1770.6562111\ttotal: 24.5s\tremaining: 2.97s\n",
      "446:\tlearn: 1770.5738415\ttotal: 24.5s\tremaining: 2.91s\n",
      "447:\tlearn: 1770.4642175\ttotal: 24.6s\tremaining: 2.85s\n",
      "448:\tlearn: 1770.3523597\ttotal: 24.7s\tremaining: 2.8s\n",
      "449:\tlearn: 1770.2614261\ttotal: 24.7s\tremaining: 2.75s\n",
      "450:\tlearn: 1770.1936401\ttotal: 24.8s\tremaining: 2.69s\n",
      "451:\tlearn: 1769.9876783\ttotal: 24.9s\tremaining: 2.64s\n",
      "452:\tlearn: 1769.7599604\ttotal: 24.9s\tremaining: 2.58s\n",
      "453:\tlearn: 1769.6271103\ttotal: 25s\tremaining: 2.53s\n",
      "454:\tlearn: 1769.3050516\ttotal: 25s\tremaining: 2.47s\n",
      "455:\tlearn: 1769.0883839\ttotal: 25.1s\tremaining: 2.42s\n",
      "456:\tlearn: 1768.8246231\ttotal: 25.1s\tremaining: 2.37s\n",
      "457:\tlearn: 1768.5894242\ttotal: 25.2s\tremaining: 2.31s\n",
      "458:\tlearn: 1768.4084073\ttotal: 25.2s\tremaining: 2.25s\n",
      "459:\tlearn: 1768.1666351\ttotal: 25.3s\tremaining: 2.2s\n",
      "460:\tlearn: 1767.9541954\ttotal: 25.4s\tremaining: 2.14s\n",
      "461:\tlearn: 1767.7510166\ttotal: 25.4s\tremaining: 2.09s\n",
      "462:\tlearn: 1767.6311528\ttotal: 25.5s\tremaining: 2.03s\n",
      "463:\tlearn: 1767.4845826\ttotal: 25.5s\tremaining: 1.98s\n",
      "464:\tlearn: 1767.3649370\ttotal: 25.6s\tremaining: 1.92s\n",
      "465:\tlearn: 1767.2011152\ttotal: 25.6s\tremaining: 1.87s\n",
      "466:\tlearn: 1767.0469899\ttotal: 25.7s\tremaining: 1.81s\n",
      "467:\tlearn: 1766.7942454\ttotal: 25.7s\tremaining: 1.76s\n",
      "468:\tlearn: 1766.5457371\ttotal: 25.8s\tremaining: 1.71s\n",
      "469:\tlearn: 1766.3732380\ttotal: 25.9s\tremaining: 1.65s\n",
      "470:\tlearn: 1766.2057958\ttotal: 25.9s\tremaining: 1.59s\n",
      "471:\tlearn: 1766.0691235\ttotal: 26s\tremaining: 1.54s\n",
      "472:\tlearn: 1765.9571940\ttotal: 26s\tremaining: 1.49s\n",
      "473:\tlearn: 1765.8300840\ttotal: 26.1s\tremaining: 1.43s\n",
      "474:\tlearn: 1765.7270790\ttotal: 26.1s\tremaining: 1.38s\n",
      "475:\tlearn: 1765.4766635\ttotal: 26.2s\tremaining: 1.32s\n",
      "476:\tlearn: 1765.2836496\ttotal: 26.2s\tremaining: 1.26s\n",
      "477:\tlearn: 1765.1192111\ttotal: 26.3s\tremaining: 1.21s\n",
      "478:\tlearn: 1764.8445689\ttotal: 26.4s\tremaining: 1.16s\n",
      "479:\tlearn: 1764.7653035\ttotal: 26.4s\tremaining: 1.1s\n",
      "480:\tlearn: 1764.6691029\ttotal: 26.5s\tremaining: 1.04s\n",
      "481:\tlearn: 1764.4724645\ttotal: 26.5s\tremaining: 991ms\n",
      "482:\tlearn: 1764.2663267\ttotal: 26.6s\tremaining: 936ms\n",
      "483:\tlearn: 1764.1143889\ttotal: 26.6s\tremaining: 881ms\n",
      "484:\tlearn: 1763.8748187\ttotal: 26.7s\tremaining: 826ms\n",
      "485:\tlearn: 1763.6744971\ttotal: 26.8s\tremaining: 771ms\n",
      "486:\tlearn: 1763.4854543\ttotal: 26.8s\tremaining: 716ms\n",
      "487:\tlearn: 1763.3558667\ttotal: 26.9s\tremaining: 661ms\n",
      "488:\tlearn: 1763.2163333\ttotal: 26.9s\tremaining: 606ms\n",
      "489:\tlearn: 1762.9822099\ttotal: 27s\tremaining: 550ms\n",
      "490:\tlearn: 1762.8478121\ttotal: 27s\tremaining: 495ms\n",
      "491:\tlearn: 1762.6627402\ttotal: 27.1s\tremaining: 440ms\n",
      "492:\tlearn: 1762.2727425\ttotal: 27.1s\tremaining: 385ms\n",
      "493:\tlearn: 1762.0616095\ttotal: 27.2s\tremaining: 330ms\n",
      "494:\tlearn: 1761.7980197\ttotal: 27.2s\tremaining: 275ms\n",
      "495:\tlearn: 1761.5881754\ttotal: 27.3s\tremaining: 220ms\n",
      "496:\tlearn: 1761.5485059\ttotal: 27.3s\tremaining: 165ms\n",
      "497:\tlearn: 1761.4503821\ttotal: 27.4s\tremaining: 110ms\n",
      "498:\tlearn: 1761.3508416\ttotal: 27.4s\tremaining: 55ms\n",
      "499:\tlearn: 1761.0911733\ttotal: 27.5s\tremaining: 0us\n",
      "0:\tlearn: 4393.2642207\ttotal: 61.1ms\tremaining: 30.5s\n",
      "1:\tlearn: 4302.6638178\ttotal: 125ms\tremaining: 31.2s\n",
      "2:\tlearn: 4214.9563437\ttotal: 188ms\tremaining: 31.1s\n",
      "3:\tlearn: 4130.4284556\ttotal: 241ms\tremaining: 29.9s\n",
      "4:\tlearn: 4048.4350392\ttotal: 303ms\tremaining: 30s\n",
      "5:\tlearn: 3970.7848556\ttotal: 359ms\tremaining: 29.6s\n",
      "6:\tlearn: 3893.8431061\ttotal: 417ms\tremaining: 29.3s\n",
      "7:\tlearn: 3820.6359061\ttotal: 475ms\tremaining: 29.2s\n",
      "8:\tlearn: 3749.6608606\ttotal: 531ms\tremaining: 29s\n",
      "9:\tlearn: 3680.1422021\ttotal: 598ms\tremaining: 29.3s\n",
      "10:\tlearn: 3614.1483315\ttotal: 665ms\tremaining: 29.6s\n",
      "11:\tlearn: 3550.5230812\ttotal: 717ms\tremaining: 29.2s\n",
      "12:\tlearn: 3489.4294370\ttotal: 776ms\tremaining: 29.1s\n",
      "13:\tlearn: 3431.5603388\ttotal: 839ms\tremaining: 29.1s\n",
      "14:\tlearn: 3374.4633307\ttotal: 896ms\tremaining: 29s\n",
      "15:\tlearn: 3319.8604314\ttotal: 962ms\tremaining: 29.1s\n",
      "16:\tlearn: 3266.5398381\ttotal: 1.02s\tremaining: 29s\n",
      "17:\tlearn: 3215.6037840\ttotal: 1.08s\tremaining: 29.1s\n",
      "18:\tlearn: 3165.9983846\ttotal: 1.15s\tremaining: 29s\n",
      "19:\tlearn: 3117.7950520\ttotal: 1.2s\tremaining: 28.9s\n",
      "20:\tlearn: 3071.3138043\ttotal: 1.27s\tremaining: 28.9s\n",
      "21:\tlearn: 3027.4449364\ttotal: 1.35s\tremaining: 29.4s\n",
      "22:\tlearn: 2985.2824772\ttotal: 1.41s\tremaining: 29.2s\n",
      "23:\tlearn: 2942.9934794\ttotal: 1.46s\tremaining: 29s\n",
      "24:\tlearn: 2903.1554452\ttotal: 1.52s\tremaining: 28.9s\n",
      "25:\tlearn: 2865.1630173\ttotal: 1.58s\tremaining: 28.9s\n",
      "26:\tlearn: 2828.9189370\ttotal: 1.65s\tremaining: 28.9s\n",
      "27:\tlearn: 2793.7221006\ttotal: 1.71s\tremaining: 28.8s\n",
      "28:\tlearn: 2759.3477711\ttotal: 1.77s\tremaining: 28.7s\n",
      "29:\tlearn: 2727.0622280\ttotal: 1.84s\tremaining: 28.9s\n",
      "30:\tlearn: 2695.6475088\ttotal: 1.9s\tremaining: 28.7s\n",
      "31:\tlearn: 2664.8251076\ttotal: 1.95s\tremaining: 28.5s\n",
      "32:\tlearn: 2636.6838404\ttotal: 2s\tremaining: 28.4s\n",
      "33:\tlearn: 2608.1505809\ttotal: 2.07s\tremaining: 28.4s\n",
      "34:\tlearn: 2581.6110795\ttotal: 2.13s\tremaining: 28.3s\n",
      "35:\tlearn: 2555.4585573\ttotal: 2.19s\tremaining: 28.3s\n",
      "36:\tlearn: 2531.2978743\ttotal: 2.25s\tremaining: 28.2s\n",
      "37:\tlearn: 2507.7919102\ttotal: 2.31s\tremaining: 28.1s\n",
      "38:\tlearn: 2485.9463925\ttotal: 2.38s\tremaining: 28.1s\n",
      "39:\tlearn: 2464.0078658\ttotal: 2.43s\tremaining: 28s\n",
      "40:\tlearn: 2443.6121806\ttotal: 2.49s\tremaining: 27.9s\n",
      "41:\tlearn: 2423.6485426\ttotal: 2.56s\tremaining: 27.9s\n",
      "42:\tlearn: 2405.4622426\ttotal: 2.62s\tremaining: 27.8s\n",
      "43:\tlearn: 2387.1831311\ttotal: 2.67s\tremaining: 27.7s\n",
      "44:\tlearn: 2369.8804057\ttotal: 2.72s\tremaining: 27.5s\n",
      "45:\tlearn: 2352.3315024\ttotal: 2.78s\tremaining: 27.4s\n",
      "46:\tlearn: 2335.1775433\ttotal: 2.84s\tremaining: 27.4s\n",
      "47:\tlearn: 2319.3268583\ttotal: 2.9s\tremaining: 27.3s\n",
      "48:\tlearn: 2304.0797314\ttotal: 2.95s\tremaining: 27.2s\n",
      "49:\tlearn: 2289.2220617\ttotal: 3.01s\tremaining: 27.1s\n",
      "50:\tlearn: 2275.5414548\ttotal: 3.08s\tremaining: 27.1s\n",
      "51:\tlearn: 2261.1404945\ttotal: 3.13s\tremaining: 26.9s\n",
      "52:\tlearn: 2248.1110751\ttotal: 3.18s\tremaining: 26.8s\n",
      "53:\tlearn: 2235.0642479\ttotal: 3.23s\tremaining: 26.7s\n",
      "54:\tlearn: 2222.8106261\ttotal: 3.29s\tremaining: 26.6s\n",
      "55:\tlearn: 2211.2519166\ttotal: 3.35s\tremaining: 26.5s\n",
      "56:\tlearn: 2200.2303970\ttotal: 3.4s\tremaining: 26.4s\n",
      "57:\tlearn: 2190.1567878\ttotal: 3.46s\tremaining: 26.4s\n",
      "58:\tlearn: 2179.9520129\ttotal: 3.52s\tremaining: 26.3s\n",
      "59:\tlearn: 2170.4335386\ttotal: 3.57s\tremaining: 26.2s\n",
      "60:\tlearn: 2161.1131942\ttotal: 3.63s\tremaining: 26.1s\n",
      "61:\tlearn: 2151.7627724\ttotal: 3.69s\tremaining: 26.1s\n",
      "62:\tlearn: 2143.8087502\ttotal: 3.75s\tremaining: 26s\n",
      "63:\tlearn: 2134.7811756\ttotal: 3.81s\tremaining: 25.9s\n",
      "64:\tlearn: 2126.4733870\ttotal: 3.86s\tremaining: 25.8s\n",
      "65:\tlearn: 2118.4468950\ttotal: 3.92s\tremaining: 25.8s\n",
      "66:\tlearn: 2110.0504223\ttotal: 3.98s\tremaining: 25.7s\n",
      "67:\tlearn: 2102.5294177\ttotal: 4.04s\tremaining: 25.6s\n",
      "68:\tlearn: 2095.2184582\ttotal: 4.09s\tremaining: 25.6s\n",
      "69:\tlearn: 2087.6068311\ttotal: 4.15s\tremaining: 25.5s\n",
      "70:\tlearn: 2081.1357352\ttotal: 4.21s\tremaining: 25.5s\n",
      "71:\tlearn: 2074.1213992\ttotal: 4.27s\tremaining: 25.4s\n",
      "72:\tlearn: 2067.1615757\ttotal: 4.32s\tremaining: 25.3s\n",
      "73:\tlearn: 2060.5950428\ttotal: 4.38s\tremaining: 25.2s\n",
      "74:\tlearn: 2054.7361831\ttotal: 4.45s\tremaining: 25.2s\n",
      "75:\tlearn: 2048.8136474\ttotal: 4.51s\tremaining: 25.1s\n",
      "76:\tlearn: 2043.9886317\ttotal: 4.56s\tremaining: 25.1s\n",
      "77:\tlearn: 2038.3957862\ttotal: 4.62s\tremaining: 25s\n",
      "78:\tlearn: 2033.8401148\ttotal: 4.68s\tremaining: 25s\n",
      "79:\tlearn: 2029.1861623\ttotal: 4.74s\tremaining: 24.9s\n",
      "80:\tlearn: 2025.0182496\ttotal: 4.79s\tremaining: 24.8s\n",
      "81:\tlearn: 2020.3053916\ttotal: 4.85s\tremaining: 24.7s\n",
      "82:\tlearn: 2015.3651382\ttotal: 4.91s\tremaining: 24.7s\n",
      "83:\tlearn: 2010.8402445\ttotal: 4.97s\tremaining: 24.6s\n",
      "84:\tlearn: 2006.4674847\ttotal: 5.03s\tremaining: 24.5s\n",
      "85:\tlearn: 2003.1047956\ttotal: 5.08s\tremaining: 24.4s\n",
      "86:\tlearn: 1999.3880278\ttotal: 5.14s\tremaining: 24.4s\n",
      "87:\tlearn: 1995.5477255\ttotal: 5.2s\tremaining: 24.3s\n",
      "88:\tlearn: 1992.0810421\ttotal: 5.26s\tremaining: 24.3s\n",
      "89:\tlearn: 1988.1552273\ttotal: 5.3s\tremaining: 24.2s\n",
      "90:\tlearn: 1984.8886701\ttotal: 5.37s\tremaining: 24.1s\n",
      "91:\tlearn: 1981.4942590\ttotal: 5.42s\tremaining: 24s\n",
      "92:\tlearn: 1978.3893199\ttotal: 5.48s\tremaining: 24s\n",
      "93:\tlearn: 1975.2623858\ttotal: 5.53s\tremaining: 23.9s\n",
      "94:\tlearn: 1971.9996383\ttotal: 5.6s\tremaining: 23.9s\n",
      "95:\tlearn: 1968.8822056\ttotal: 5.67s\tremaining: 23.8s\n",
      "96:\tlearn: 1966.3945458\ttotal: 5.72s\tremaining: 23.8s\n",
      "97:\tlearn: 1963.1879326\ttotal: 5.78s\tremaining: 23.7s\n",
      "98:\tlearn: 1960.3636002\ttotal: 5.83s\tremaining: 23.6s\n",
      "99:\tlearn: 1957.7839361\ttotal: 5.89s\tremaining: 23.6s\n",
      "100:\tlearn: 1954.7790831\ttotal: 5.95s\tremaining: 23.5s\n",
      "101:\tlearn: 1952.1591400\ttotal: 6.01s\tremaining: 23.4s\n",
      "102:\tlearn: 1949.7586657\ttotal: 6.06s\tremaining: 23.4s\n",
      "103:\tlearn: 1947.7979096\ttotal: 6.11s\tremaining: 23.3s\n",
      "104:\tlearn: 1945.0836934\ttotal: 6.16s\tremaining: 23.2s\n",
      "105:\tlearn: 1942.8627524\ttotal: 6.22s\tremaining: 23.1s\n",
      "106:\tlearn: 1940.4995128\ttotal: 6.28s\tremaining: 23.1s\n",
      "107:\tlearn: 1938.4288933\ttotal: 6.34s\tremaining: 23s\n",
      "108:\tlearn: 1936.3161758\ttotal: 6.39s\tremaining: 22.9s\n",
      "109:\tlearn: 1934.5489877\ttotal: 6.45s\tremaining: 22.9s\n",
      "110:\tlearn: 1932.2899815\ttotal: 6.51s\tremaining: 22.8s\n",
      "111:\tlearn: 1930.4452311\ttotal: 6.55s\tremaining: 22.7s\n",
      "112:\tlearn: 1928.5094531\ttotal: 6.61s\tremaining: 22.6s\n",
      "113:\tlearn: 1926.6487591\ttotal: 6.67s\tremaining: 22.6s\n",
      "114:\tlearn: 1925.0409682\ttotal: 6.72s\tremaining: 22.5s\n",
      "115:\tlearn: 1923.2412818\ttotal: 6.77s\tremaining: 22.4s\n",
      "116:\tlearn: 1921.4656140\ttotal: 6.82s\tremaining: 22.3s\n",
      "117:\tlearn: 1919.6382182\ttotal: 6.87s\tremaining: 22.2s\n",
      "118:\tlearn: 1917.8079064\ttotal: 6.94s\tremaining: 22.2s\n",
      "119:\tlearn: 1916.1629275\ttotal: 6.99s\tremaining: 22.1s\n",
      "120:\tlearn: 1914.3093664\ttotal: 7.04s\tremaining: 22.1s\n",
      "121:\tlearn: 1912.8763515\ttotal: 7.09s\tremaining: 22s\n",
      "122:\tlearn: 1911.4281257\ttotal: 7.15s\tremaining: 21.9s\n",
      "123:\tlearn: 1910.1352574\ttotal: 7.19s\tremaining: 21.8s\n",
      "124:\tlearn: 1908.7497304\ttotal: 7.24s\tremaining: 21.7s\n",
      "125:\tlearn: 1907.4763701\ttotal: 7.29s\tremaining: 21.7s\n",
      "126:\tlearn: 1905.8539415\ttotal: 7.36s\tremaining: 21.6s\n",
      "127:\tlearn: 1904.4443995\ttotal: 7.41s\tremaining: 21.5s\n",
      "128:\tlearn: 1903.1153759\ttotal: 7.45s\tremaining: 21.4s\n",
      "129:\tlearn: 1901.8197720\ttotal: 7.5s\tremaining: 21.4s\n",
      "130:\tlearn: 1900.5816275\ttotal: 7.56s\tremaining: 21.3s\n",
      "131:\tlearn: 1899.3017229\ttotal: 7.61s\tremaining: 21.2s\n",
      "132:\tlearn: 1898.0563924\ttotal: 7.66s\tremaining: 21.1s\n",
      "133:\tlearn: 1897.1100866\ttotal: 7.71s\tremaining: 21.1s\n",
      "134:\tlearn: 1896.0365636\ttotal: 7.76s\tremaining: 21s\n",
      "135:\tlearn: 1894.8406043\ttotal: 7.81s\tremaining: 20.9s\n",
      "136:\tlearn: 1893.8844139\ttotal: 7.87s\tremaining: 20.9s\n",
      "137:\tlearn: 1892.9052465\ttotal: 7.92s\tremaining: 20.8s\n",
      "138:\tlearn: 1891.7774189\ttotal: 7.97s\tremaining: 20.7s\n",
      "139:\tlearn: 1890.6118065\ttotal: 8.02s\tremaining: 20.6s\n",
      "140:\tlearn: 1889.6879026\ttotal: 8.06s\tremaining: 20.5s\n",
      "141:\tlearn: 1888.7824653\ttotal: 8.12s\tremaining: 20.5s\n",
      "142:\tlearn: 1887.6568003\ttotal: 8.16s\tremaining: 20.4s\n",
      "143:\tlearn: 1886.5794694\ttotal: 8.21s\tremaining: 20.3s\n",
      "144:\tlearn: 1885.6565841\ttotal: 8.26s\tremaining: 20.2s\n",
      "145:\tlearn: 1884.8466288\ttotal: 8.31s\tremaining: 20.2s\n",
      "146:\tlearn: 1883.5021098\ttotal: 8.37s\tremaining: 20.1s\n",
      "147:\tlearn: 1882.6357242\ttotal: 8.42s\tremaining: 20s\n",
      "148:\tlearn: 1881.7380164\ttotal: 8.46s\tremaining: 19.9s\n",
      "149:\tlearn: 1881.0222153\ttotal: 8.51s\tremaining: 19.9s\n",
      "150:\tlearn: 1880.0729132\ttotal: 8.57s\tremaining: 19.8s\n",
      "151:\tlearn: 1879.2532564\ttotal: 8.63s\tremaining: 19.8s\n",
      "152:\tlearn: 1878.5801987\ttotal: 8.67s\tremaining: 19.7s\n",
      "153:\tlearn: 1877.7893143\ttotal: 8.72s\tremaining: 19.6s\n",
      "154:\tlearn: 1876.8626520\ttotal: 8.77s\tremaining: 19.5s\n",
      "155:\tlearn: 1876.0466985\ttotal: 8.82s\tremaining: 19.4s\n",
      "156:\tlearn: 1875.2327776\ttotal: 8.87s\tremaining: 19.4s\n",
      "157:\tlearn: 1874.4006808\ttotal: 8.92s\tremaining: 19.3s\n",
      "158:\tlearn: 1873.8113481\ttotal: 8.97s\tremaining: 19.2s\n",
      "159:\tlearn: 1872.6584091\ttotal: 9.01s\tremaining: 19.2s\n",
      "160:\tlearn: 1872.0174601\ttotal: 9.07s\tremaining: 19.1s\n",
      "161:\tlearn: 1871.3957014\ttotal: 9.13s\tremaining: 19s\n",
      "162:\tlearn: 1870.7055825\ttotal: 9.17s\tremaining: 19s\n",
      "163:\tlearn: 1870.0605605\ttotal: 9.22s\tremaining: 18.9s\n",
      "164:\tlearn: 1869.5223679\ttotal: 9.27s\tremaining: 18.8s\n",
      "165:\tlearn: 1868.9720095\ttotal: 9.34s\tremaining: 18.8s\n",
      "166:\tlearn: 1868.2588169\ttotal: 9.38s\tremaining: 18.7s\n",
      "167:\tlearn: 1867.7152675\ttotal: 9.42s\tremaining: 18.6s\n",
      "168:\tlearn: 1866.8810904\ttotal: 9.47s\tremaining: 18.5s\n",
      "169:\tlearn: 1866.3612440\ttotal: 9.52s\tremaining: 18.5s\n",
      "170:\tlearn: 1865.6282582\ttotal: 9.58s\tremaining: 18.4s\n",
      "171:\tlearn: 1865.0291813\ttotal: 9.63s\tremaining: 18.4s\n",
      "172:\tlearn: 1864.5005686\ttotal: 9.68s\tremaining: 18.3s\n",
      "173:\tlearn: 1863.9078757\ttotal: 9.73s\tremaining: 18.2s\n",
      "174:\tlearn: 1863.5939120\ttotal: 9.78s\tremaining: 18.2s\n",
      "175:\tlearn: 1863.1963878\ttotal: 9.83s\tremaining: 18.1s\n",
      "176:\tlearn: 1862.7080546\ttotal: 9.88s\tremaining: 18s\n",
      "177:\tlearn: 1862.0358523\ttotal: 9.94s\tremaining: 18s\n",
      "178:\tlearn: 1861.3411271\ttotal: 9.99s\tremaining: 17.9s\n",
      "179:\tlearn: 1860.6545262\ttotal: 10s\tremaining: 17.9s\n",
      "180:\tlearn: 1859.9140027\ttotal: 10.1s\tremaining: 17.8s\n",
      "181:\tlearn: 1859.4693008\ttotal: 10.2s\tremaining: 17.7s\n",
      "182:\tlearn: 1859.0658877\ttotal: 10.2s\tremaining: 17.7s\n",
      "183:\tlearn: 1858.5236273\ttotal: 10.3s\tremaining: 17.6s\n",
      "184:\tlearn: 1857.9122188\ttotal: 10.3s\tremaining: 17.5s\n",
      "185:\tlearn: 1857.3514958\ttotal: 10.4s\tremaining: 17.5s\n",
      "186:\tlearn: 1856.6521967\ttotal: 10.4s\tremaining: 17.4s\n",
      "187:\tlearn: 1856.1240655\ttotal: 10.5s\tremaining: 17.4s\n",
      "188:\tlearn: 1855.7377869\ttotal: 10.5s\tremaining: 17.3s\n",
      "189:\tlearn: 1855.0913947\ttotal: 10.5s\tremaining: 17.2s\n",
      "190:\tlearn: 1854.1819019\ttotal: 10.6s\tremaining: 17.1s\n",
      "191:\tlearn: 1853.4725634\ttotal: 10.6s\tremaining: 17.1s\n",
      "192:\tlearn: 1852.9324585\ttotal: 10.7s\tremaining: 17s\n",
      "193:\tlearn: 1852.5169929\ttotal: 10.7s\tremaining: 17s\n",
      "194:\tlearn: 1851.9379339\ttotal: 10.8s\tremaining: 16.9s\n",
      "195:\tlearn: 1851.5830637\ttotal: 10.9s\tremaining: 16.8s\n",
      "196:\tlearn: 1851.0214073\ttotal: 10.9s\tremaining: 16.8s\n",
      "197:\tlearn: 1850.5541695\ttotal: 11s\tremaining: 16.7s\n",
      "198:\tlearn: 1849.9612994\ttotal: 11s\tremaining: 16.7s\n",
      "199:\tlearn: 1849.5871005\ttotal: 11.1s\tremaining: 16.6s\n",
      "200:\tlearn: 1848.5617090\ttotal: 11.1s\tremaining: 16.5s\n",
      "201:\tlearn: 1848.0346768\ttotal: 11.2s\tremaining: 16.5s\n",
      "202:\tlearn: 1847.4073897\ttotal: 11.2s\tremaining: 16.4s\n",
      "203:\tlearn: 1846.8907804\ttotal: 11.3s\tremaining: 16.3s\n",
      "204:\tlearn: 1846.4569027\ttotal: 11.3s\tremaining: 16.3s\n",
      "205:\tlearn: 1845.7368058\ttotal: 11.4s\tremaining: 16.2s\n",
      "206:\tlearn: 1845.2175750\ttotal: 11.4s\tremaining: 16.2s\n",
      "207:\tlearn: 1844.6129709\ttotal: 11.5s\tremaining: 16.1s\n",
      "208:\tlearn: 1844.2160924\ttotal: 11.5s\tremaining: 16.1s\n",
      "209:\tlearn: 1843.7968742\ttotal: 11.6s\tremaining: 16s\n",
      "210:\tlearn: 1843.4188430\ttotal: 11.6s\tremaining: 15.9s\n",
      "211:\tlearn: 1843.1063034\ttotal: 11.7s\tremaining: 15.9s\n",
      "212:\tlearn: 1842.6162548\ttotal: 11.7s\tremaining: 15.8s\n",
      "213:\tlearn: 1842.0447529\ttotal: 11.8s\tremaining: 15.8s\n",
      "214:\tlearn: 1841.4155134\ttotal: 11.9s\tremaining: 15.7s\n",
      "215:\tlearn: 1841.0435276\ttotal: 11.9s\tremaining: 15.7s\n",
      "216:\tlearn: 1840.6179172\ttotal: 12s\tremaining: 15.6s\n",
      "217:\tlearn: 1840.1458261\ttotal: 12s\tremaining: 15.6s\n",
      "218:\tlearn: 1839.6521778\ttotal: 12.1s\tremaining: 15.5s\n",
      "219:\tlearn: 1839.0766285\ttotal: 12.1s\tremaining: 15.4s\n",
      "220:\tlearn: 1838.8316633\ttotal: 12.2s\tremaining: 15.4s\n",
      "221:\tlearn: 1838.3682801\ttotal: 12.2s\tremaining: 15.3s\n",
      "222:\tlearn: 1837.7009058\ttotal: 12.3s\tremaining: 15.2s\n",
      "223:\tlearn: 1837.3975297\ttotal: 12.3s\tremaining: 15.2s\n",
      "224:\tlearn: 1837.0599166\ttotal: 12.4s\tremaining: 15.1s\n",
      "225:\tlearn: 1836.6580119\ttotal: 12.4s\tremaining: 15s\n",
      "226:\tlearn: 1836.1257062\ttotal: 12.5s\tremaining: 15s\n",
      "227:\tlearn: 1835.6391314\ttotal: 12.5s\tremaining: 14.9s\n",
      "228:\tlearn: 1835.2036976\ttotal: 12.6s\tremaining: 14.9s\n",
      "229:\tlearn: 1834.8503630\ttotal: 12.6s\tremaining: 14.8s\n",
      "230:\tlearn: 1834.4257207\ttotal: 12.7s\tremaining: 14.8s\n",
      "231:\tlearn: 1833.9727744\ttotal: 12.7s\tremaining: 14.7s\n",
      "232:\tlearn: 1833.5764490\ttotal: 12.8s\tremaining: 14.6s\n",
      "233:\tlearn: 1832.9851163\ttotal: 12.8s\tremaining: 14.6s\n",
      "234:\tlearn: 1832.4626498\ttotal: 12.9s\tremaining: 14.5s\n",
      "235:\tlearn: 1831.9645468\ttotal: 12.9s\tremaining: 14.5s\n",
      "236:\tlearn: 1831.8060864\ttotal: 13s\tremaining: 14.4s\n",
      "237:\tlearn: 1831.5627861\ttotal: 13s\tremaining: 14.3s\n",
      "238:\tlearn: 1831.0061729\ttotal: 13.1s\tremaining: 14.3s\n",
      "239:\tlearn: 1830.5643428\ttotal: 13.1s\tremaining: 14.2s\n",
      "240:\tlearn: 1830.1271748\ttotal: 13.2s\tremaining: 14.2s\n",
      "241:\tlearn: 1829.7765882\ttotal: 13.2s\tremaining: 14.1s\n",
      "242:\tlearn: 1829.4104592\ttotal: 13.3s\tremaining: 14.1s\n",
      "243:\tlearn: 1828.9212250\ttotal: 13.3s\tremaining: 14s\n",
      "244:\tlearn: 1828.3625219\ttotal: 13.4s\tremaining: 13.9s\n",
      "245:\tlearn: 1827.8218634\ttotal: 13.4s\tremaining: 13.9s\n",
      "246:\tlearn: 1827.5629633\ttotal: 13.5s\tremaining: 13.8s\n",
      "247:\tlearn: 1827.2628088\ttotal: 13.5s\tremaining: 13.8s\n",
      "248:\tlearn: 1826.6313595\ttotal: 13.6s\tremaining: 13.7s\n",
      "249:\tlearn: 1826.1833310\ttotal: 13.7s\tremaining: 13.7s\n",
      "250:\tlearn: 1825.7792432\ttotal: 13.7s\tremaining: 13.6s\n",
      "251:\tlearn: 1825.3636816\ttotal: 13.8s\tremaining: 13.5s\n",
      "252:\tlearn: 1825.2247200\ttotal: 13.8s\tremaining: 13.5s\n",
      "253:\tlearn: 1824.8092328\ttotal: 13.8s\tremaining: 13.4s\n",
      "254:\tlearn: 1824.3616792\ttotal: 13.9s\tremaining: 13.3s\n",
      "255:\tlearn: 1824.1179714\ttotal: 13.9s\tremaining: 13.3s\n",
      "256:\tlearn: 1823.6519225\ttotal: 14s\tremaining: 13.2s\n",
      "257:\tlearn: 1823.2882581\ttotal: 14s\tremaining: 13.2s\n",
      "258:\tlearn: 1823.0406492\ttotal: 14.1s\tremaining: 13.1s\n",
      "259:\tlearn: 1822.8415004\ttotal: 14.1s\tremaining: 13s\n",
      "260:\tlearn: 1822.5211024\ttotal: 14.2s\tremaining: 13s\n",
      "261:\tlearn: 1822.0368686\ttotal: 14.2s\tremaining: 12.9s\n",
      "262:\tlearn: 1821.6809671\ttotal: 14.3s\tremaining: 12.9s\n",
      "263:\tlearn: 1821.0109213\ttotal: 14.3s\tremaining: 12.8s\n",
      "264:\tlearn: 1820.6902632\ttotal: 14.4s\tremaining: 12.8s\n",
      "265:\tlearn: 1820.2296134\ttotal: 14.4s\tremaining: 12.7s\n",
      "266:\tlearn: 1819.9783223\ttotal: 14.5s\tremaining: 12.7s\n",
      "267:\tlearn: 1819.6945207\ttotal: 14.6s\tremaining: 12.6s\n",
      "268:\tlearn: 1819.2762289\ttotal: 14.6s\tremaining: 12.5s\n",
      "269:\tlearn: 1819.1612704\ttotal: 14.7s\tremaining: 12.5s\n",
      "270:\tlearn: 1818.9829359\ttotal: 14.7s\tremaining: 12.4s\n",
      "271:\tlearn: 1818.6323788\ttotal: 14.8s\tremaining: 12.4s\n",
      "272:\tlearn: 1818.2354386\ttotal: 14.8s\tremaining: 12.3s\n",
      "273:\tlearn: 1818.0525229\ttotal: 14.9s\tremaining: 12.3s\n",
      "274:\tlearn: 1817.8492897\ttotal: 14.9s\tremaining: 12.2s\n",
      "275:\tlearn: 1817.6604888\ttotal: 15s\tremaining: 12.2s\n",
      "276:\tlearn: 1817.3557486\ttotal: 15s\tremaining: 12.1s\n",
      "277:\tlearn: 1817.0397983\ttotal: 15.1s\tremaining: 12.1s\n",
      "278:\tlearn: 1816.7673558\ttotal: 15.2s\tremaining: 12s\n",
      "279:\tlearn: 1816.2021929\ttotal: 15.2s\tremaining: 11.9s\n",
      "280:\tlearn: 1815.7935336\ttotal: 15.3s\tremaining: 11.9s\n",
      "281:\tlearn: 1815.4219990\ttotal: 15.3s\tremaining: 11.8s\n",
      "282:\tlearn: 1815.0757053\ttotal: 15.4s\tremaining: 11.8s\n",
      "283:\tlearn: 1814.6314294\ttotal: 15.4s\tremaining: 11.7s\n",
      "284:\tlearn: 1814.3732655\ttotal: 15.5s\tremaining: 11.7s\n",
      "285:\tlearn: 1814.0508299\ttotal: 15.5s\tremaining: 11.6s\n",
      "286:\tlearn: 1813.8360042\ttotal: 15.6s\tremaining: 11.6s\n",
      "287:\tlearn: 1813.4746392\ttotal: 15.6s\tremaining: 11.5s\n",
      "288:\tlearn: 1813.0650913\ttotal: 15.7s\tremaining: 11.5s\n",
      "289:\tlearn: 1812.8888885\ttotal: 15.7s\tremaining: 11.4s\n",
      "290:\tlearn: 1812.2026368\ttotal: 15.8s\tremaining: 11.3s\n",
      "291:\tlearn: 1811.9612417\ttotal: 15.8s\tremaining: 11.3s\n",
      "292:\tlearn: 1811.6759971\ttotal: 15.9s\tremaining: 11.2s\n",
      "293:\tlearn: 1811.5104492\ttotal: 15.9s\tremaining: 11.2s\n",
      "294:\tlearn: 1811.2403513\ttotal: 16s\tremaining: 11.1s\n",
      "295:\tlearn: 1810.8065252\ttotal: 16s\tremaining: 11s\n",
      "296:\tlearn: 1810.5935858\ttotal: 16.1s\tremaining: 11s\n",
      "297:\tlearn: 1810.3664093\ttotal: 16.1s\tremaining: 10.9s\n",
      "298:\tlearn: 1810.0219049\ttotal: 16.2s\tremaining: 10.9s\n",
      "299:\tlearn: 1809.7788847\ttotal: 16.2s\tremaining: 10.8s\n",
      "300:\tlearn: 1809.3968130\ttotal: 16.3s\tremaining: 10.8s\n",
      "301:\tlearn: 1809.2564016\ttotal: 16.3s\tremaining: 10.7s\n",
      "302:\tlearn: 1808.9334272\ttotal: 16.4s\tremaining: 10.7s\n",
      "303:\tlearn: 1808.5088890\ttotal: 16.5s\tremaining: 10.6s\n",
      "304:\tlearn: 1808.3777129\ttotal: 16.5s\tremaining: 10.6s\n",
      "305:\tlearn: 1808.1247635\ttotal: 16.6s\tremaining: 10.5s\n",
      "306:\tlearn: 1807.7182318\ttotal: 16.7s\tremaining: 10.5s\n",
      "307:\tlearn: 1807.4419062\ttotal: 16.7s\tremaining: 10.4s\n",
      "308:\tlearn: 1807.0935674\ttotal: 16.8s\tremaining: 10.4s\n",
      "309:\tlearn: 1806.7590533\ttotal: 16.9s\tremaining: 10.4s\n",
      "310:\tlearn: 1806.5611935\ttotal: 16.9s\tremaining: 10.3s\n",
      "311:\tlearn: 1806.2801985\ttotal: 17s\tremaining: 10.2s\n",
      "312:\tlearn: 1805.9334304\ttotal: 17.1s\tremaining: 10.2s\n",
      "313:\tlearn: 1805.4284326\ttotal: 17.1s\tremaining: 10.1s\n",
      "314:\tlearn: 1805.2134039\ttotal: 17.2s\tremaining: 10.1s\n",
      "315:\tlearn: 1804.9547601\ttotal: 17.2s\tremaining: 10s\n",
      "316:\tlearn: 1804.6096298\ttotal: 17.3s\tremaining: 9.98s\n",
      "317:\tlearn: 1804.3709023\ttotal: 17.3s\tremaining: 9.92s\n",
      "318:\tlearn: 1804.0977103\ttotal: 17.4s\tremaining: 9.86s\n",
      "319:\tlearn: 1803.6116274\ttotal: 17.4s\tremaining: 9.81s\n",
      "320:\tlearn: 1803.1907548\ttotal: 17.5s\tremaining: 9.76s\n",
      "321:\tlearn: 1802.9627490\ttotal: 17.5s\tremaining: 9.7s\n",
      "322:\tlearn: 1802.4067455\ttotal: 17.6s\tremaining: 9.64s\n",
      "323:\tlearn: 1802.0938787\ttotal: 17.6s\tremaining: 9.59s\n",
      "324:\tlearn: 1801.5741582\ttotal: 17.7s\tremaining: 9.53s\n",
      "325:\tlearn: 1801.1947958\ttotal: 17.8s\tremaining: 9.48s\n",
      "326:\tlearn: 1800.9523985\ttotal: 17.8s\tremaining: 9.42s\n",
      "327:\tlearn: 1800.7379249\ttotal: 17.9s\tremaining: 9.37s\n",
      "328:\tlearn: 1800.4651586\ttotal: 17.9s\tremaining: 9.32s\n",
      "329:\tlearn: 1800.3406152\ttotal: 18s\tremaining: 9.26s\n",
      "330:\tlearn: 1800.0929438\ttotal: 18s\tremaining: 9.2s\n",
      "331:\tlearn: 1799.7446452\ttotal: 18.1s\tremaining: 9.14s\n",
      "332:\tlearn: 1799.3879454\ttotal: 18.1s\tremaining: 9.09s\n",
      "333:\tlearn: 1799.0433420\ttotal: 18.2s\tremaining: 9.03s\n",
      "334:\tlearn: 1798.8476835\ttotal: 18.2s\tremaining: 8.98s\n",
      "335:\tlearn: 1798.5836881\ttotal: 18.3s\tremaining: 8.92s\n",
      "336:\tlearn: 1798.4587842\ttotal: 18.3s\tremaining: 8.87s\n",
      "337:\tlearn: 1798.3725566\ttotal: 18.4s\tremaining: 8.81s\n",
      "338:\tlearn: 1798.0280603\ttotal: 18.4s\tremaining: 8.76s\n",
      "339:\tlearn: 1797.7523692\ttotal: 18.5s\tremaining: 8.7s\n",
      "340:\tlearn: 1797.5824546\ttotal: 18.5s\tremaining: 8.64s\n",
      "341:\tlearn: 1797.0863544\ttotal: 18.6s\tremaining: 8.59s\n",
      "342:\tlearn: 1796.9243786\ttotal: 18.6s\tremaining: 8.54s\n",
      "343:\tlearn: 1796.7119326\ttotal: 18.7s\tremaining: 8.48s\n",
      "344:\tlearn: 1796.4414109\ttotal: 18.8s\tremaining: 8.43s\n",
      "345:\tlearn: 1796.1206155\ttotal: 18.8s\tremaining: 8.38s\n",
      "346:\tlearn: 1795.9038101\ttotal: 18.9s\tremaining: 8.32s\n",
      "347:\tlearn: 1795.6860831\ttotal: 18.9s\tremaining: 8.27s\n",
      "348:\tlearn: 1795.4288727\ttotal: 19s\tremaining: 8.21s\n",
      "349:\tlearn: 1795.3149669\ttotal: 19s\tremaining: 8.16s\n",
      "350:\tlearn: 1794.9356244\ttotal: 19.1s\tremaining: 8.11s\n",
      "351:\tlearn: 1794.6893296\ttotal: 19.1s\tremaining: 8.05s\n",
      "352:\tlearn: 1794.6306399\ttotal: 19.2s\tremaining: 7.99s\n",
      "353:\tlearn: 1794.3863059\ttotal: 19.2s\tremaining: 7.93s\n",
      "354:\tlearn: 1794.1619169\ttotal: 19.3s\tremaining: 7.88s\n",
      "355:\tlearn: 1793.9163685\ttotal: 19.4s\tremaining: 7.83s\n",
      "356:\tlearn: 1793.5863138\ttotal: 19.4s\tremaining: 7.77s\n",
      "357:\tlearn: 1793.3138986\ttotal: 19.4s\tremaining: 7.71s\n",
      "358:\tlearn: 1793.2029469\ttotal: 19.5s\tremaining: 7.66s\n",
      "359:\tlearn: 1792.8671734\ttotal: 19.5s\tremaining: 7.6s\n",
      "360:\tlearn: 1792.7046786\ttotal: 19.6s\tremaining: 7.55s\n",
      "361:\tlearn: 1792.4164350\ttotal: 19.6s\tremaining: 7.49s\n",
      "362:\tlearn: 1792.1746651\ttotal: 19.7s\tremaining: 7.43s\n",
      "363:\tlearn: 1791.9672829\ttotal: 19.7s\tremaining: 7.38s\n",
      "364:\tlearn: 1791.7231135\ttotal: 19.8s\tremaining: 7.33s\n",
      "365:\tlearn: 1791.4989452\ttotal: 19.9s\tremaining: 7.27s\n",
      "366:\tlearn: 1791.1881928\ttotal: 19.9s\tremaining: 7.22s\n",
      "367:\tlearn: 1790.9140070\ttotal: 20s\tremaining: 7.17s\n",
      "368:\tlearn: 1790.5723030\ttotal: 20s\tremaining: 7.12s\n",
      "369:\tlearn: 1790.4962589\ttotal: 20.1s\tremaining: 7.06s\n",
      "370:\tlearn: 1790.3297763\ttotal: 20.2s\tremaining: 7.01s\n",
      "371:\tlearn: 1790.0782442\ttotal: 20.2s\tremaining: 6.95s\n",
      "372:\tlearn: 1789.9329671\ttotal: 20.3s\tremaining: 6.9s\n",
      "373:\tlearn: 1789.6339445\ttotal: 20.3s\tremaining: 6.84s\n",
      "374:\tlearn: 1789.2730896\ttotal: 20.4s\tremaining: 6.79s\n",
      "375:\tlearn: 1789.1482296\ttotal: 20.4s\tremaining: 6.74s\n",
      "376:\tlearn: 1788.9264506\ttotal: 20.5s\tremaining: 6.68s\n",
      "377:\tlearn: 1788.5031513\ttotal: 20.5s\tremaining: 6.63s\n",
      "378:\tlearn: 1788.3244538\ttotal: 20.6s\tremaining: 6.57s\n",
      "379:\tlearn: 1788.1078675\ttotal: 20.6s\tremaining: 6.52s\n",
      "380:\tlearn: 1787.8339234\ttotal: 20.7s\tremaining: 6.46s\n",
      "381:\tlearn: 1787.5137843\ttotal: 20.8s\tremaining: 6.41s\n",
      "382:\tlearn: 1787.3675486\ttotal: 20.8s\tremaining: 6.36s\n",
      "383:\tlearn: 1787.1079109\ttotal: 20.9s\tremaining: 6.3s\n",
      "384:\tlearn: 1786.8563666\ttotal: 20.9s\tremaining: 6.25s\n",
      "385:\tlearn: 1786.7007254\ttotal: 21s\tremaining: 6.2s\n",
      "386:\tlearn: 1786.4928231\ttotal: 21s\tremaining: 6.14s\n",
      "387:\tlearn: 1786.2330152\ttotal: 21.1s\tremaining: 6.09s\n",
      "388:\tlearn: 1785.9889909\ttotal: 21.1s\tremaining: 6.03s\n",
      "389:\tlearn: 1785.7290461\ttotal: 21.2s\tremaining: 5.98s\n",
      "390:\tlearn: 1785.5029821\ttotal: 21.2s\tremaining: 5.92s\n",
      "391:\tlearn: 1785.1998003\ttotal: 21.3s\tremaining: 5.87s\n",
      "392:\tlearn: 1785.0963694\ttotal: 21.4s\tremaining: 5.82s\n",
      "393:\tlearn: 1785.0105724\ttotal: 21.4s\tremaining: 5.76s\n",
      "394:\tlearn: 1784.7031498\ttotal: 21.5s\tremaining: 5.71s\n",
      "395:\tlearn: 1784.4584665\ttotal: 21.5s\tremaining: 5.65s\n",
      "396:\tlearn: 1784.0879873\ttotal: 21.6s\tremaining: 5.6s\n",
      "397:\tlearn: 1783.8266466\ttotal: 21.6s\tremaining: 5.54s\n",
      "398:\tlearn: 1783.6138476\ttotal: 21.7s\tremaining: 5.49s\n",
      "399:\tlearn: 1783.3638288\ttotal: 21.7s\tremaining: 5.43s\n",
      "400:\tlearn: 1783.2148267\ttotal: 21.8s\tremaining: 5.38s\n",
      "401:\tlearn: 1782.9710640\ttotal: 21.8s\tremaining: 5.32s\n",
      "402:\tlearn: 1782.8523022\ttotal: 21.9s\tremaining: 5.27s\n",
      "403:\tlearn: 1782.6159635\ttotal: 21.9s\tremaining: 5.21s\n",
      "404:\tlearn: 1782.3812036\ttotal: 22s\tremaining: 5.16s\n",
      "405:\tlearn: 1782.1291086\ttotal: 22.1s\tremaining: 5.11s\n",
      "406:\tlearn: 1781.8976779\ttotal: 22.1s\tremaining: 5.05s\n",
      "407:\tlearn: 1781.6155001\ttotal: 22.2s\tremaining: 5s\n",
      "408:\tlearn: 1781.2835693\ttotal: 22.2s\tremaining: 4.94s\n",
      "409:\tlearn: 1781.1552001\ttotal: 22.3s\tremaining: 4.89s\n",
      "410:\tlearn: 1780.9341343\ttotal: 22.3s\tremaining: 4.84s\n",
      "411:\tlearn: 1780.6833878\ttotal: 22.4s\tremaining: 4.78s\n",
      "412:\tlearn: 1780.3730779\ttotal: 22.4s\tremaining: 4.73s\n",
      "413:\tlearn: 1780.1743083\ttotal: 22.5s\tremaining: 4.67s\n",
      "414:\tlearn: 1780.0435310\ttotal: 22.6s\tremaining: 4.62s\n",
      "415:\tlearn: 1779.9058917\ttotal: 22.6s\tremaining: 4.57s\n",
      "416:\tlearn: 1779.6503704\ttotal: 22.7s\tremaining: 4.51s\n",
      "417:\tlearn: 1779.3878846\ttotal: 22.7s\tremaining: 4.46s\n",
      "418:\tlearn: 1779.0445256\ttotal: 22.8s\tremaining: 4.41s\n",
      "419:\tlearn: 1778.8847622\ttotal: 22.9s\tremaining: 4.35s\n",
      "420:\tlearn: 1778.7174085\ttotal: 22.9s\tremaining: 4.3s\n",
      "421:\tlearn: 1778.4430124\ttotal: 23s\tremaining: 4.25s\n",
      "422:\tlearn: 1778.1012459\ttotal: 23s\tremaining: 4.19s\n",
      "423:\tlearn: 1777.8961052\ttotal: 23.1s\tremaining: 4.14s\n",
      "424:\tlearn: 1777.6578629\ttotal: 23.1s\tremaining: 4.08s\n",
      "425:\tlearn: 1777.4677205\ttotal: 23.2s\tremaining: 4.03s\n",
      "426:\tlearn: 1777.2879045\ttotal: 23.3s\tremaining: 3.98s\n",
      "427:\tlearn: 1777.0184228\ttotal: 23.3s\tremaining: 3.92s\n",
      "428:\tlearn: 1776.8790187\ttotal: 23.4s\tremaining: 3.86s\n",
      "429:\tlearn: 1776.6724421\ttotal: 23.4s\tremaining: 3.81s\n",
      "430:\tlearn: 1776.4607232\ttotal: 23.5s\tremaining: 3.76s\n",
      "431:\tlearn: 1776.3402547\ttotal: 23.5s\tremaining: 3.7s\n",
      "432:\tlearn: 1776.1748802\ttotal: 23.6s\tremaining: 3.65s\n",
      "433:\tlearn: 1775.9290308\ttotal: 23.6s\tremaining: 3.59s\n",
      "434:\tlearn: 1775.7466924\ttotal: 23.7s\tremaining: 3.54s\n",
      "435:\tlearn: 1775.4849406\ttotal: 23.7s\tremaining: 3.48s\n",
      "436:\tlearn: 1775.1986237\ttotal: 23.8s\tremaining: 3.43s\n",
      "437:\tlearn: 1775.0081953\ttotal: 23.9s\tremaining: 3.38s\n",
      "438:\tlearn: 1774.7453171\ttotal: 23.9s\tremaining: 3.32s\n",
      "439:\tlearn: 1774.4788110\ttotal: 24s\tremaining: 3.27s\n",
      "440:\tlearn: 1774.0578195\ttotal: 24s\tremaining: 3.21s\n",
      "441:\tlearn: 1773.9404227\ttotal: 24.1s\tremaining: 3.16s\n",
      "442:\tlearn: 1773.5437017\ttotal: 24.1s\tremaining: 3.1s\n",
      "443:\tlearn: 1773.3384162\ttotal: 24.2s\tremaining: 3.05s\n",
      "444:\tlearn: 1773.2456807\ttotal: 24.2s\tremaining: 2.99s\n",
      "445:\tlearn: 1773.0543593\ttotal: 24.3s\tremaining: 2.94s\n",
      "446:\tlearn: 1772.7528173\ttotal: 24.3s\tremaining: 2.88s\n",
      "447:\tlearn: 1772.5442081\ttotal: 24.4s\tremaining: 2.83s\n",
      "448:\tlearn: 1772.3484185\ttotal: 24.4s\tremaining: 2.78s\n",
      "449:\tlearn: 1771.9695968\ttotal: 24.5s\tremaining: 2.72s\n",
      "450:\tlearn: 1771.7161683\ttotal: 24.6s\tremaining: 2.67s\n",
      "451:\tlearn: 1771.6176921\ttotal: 24.6s\tremaining: 2.61s\n",
      "452:\tlearn: 1771.4542910\ttotal: 24.7s\tremaining: 2.56s\n",
      "453:\tlearn: 1771.2875339\ttotal: 24.7s\tremaining: 2.5s\n",
      "454:\tlearn: 1771.1081578\ttotal: 24.8s\tremaining: 2.45s\n",
      "455:\tlearn: 1770.8646196\ttotal: 24.8s\tremaining: 2.4s\n",
      "456:\tlearn: 1770.5959453\ttotal: 24.9s\tremaining: 2.34s\n",
      "457:\tlearn: 1770.4540177\ttotal: 24.9s\tremaining: 2.29s\n",
      "458:\tlearn: 1770.1465112\ttotal: 25s\tremaining: 2.23s\n",
      "459:\tlearn: 1769.8887758\ttotal: 25.1s\tremaining: 2.18s\n",
      "460:\tlearn: 1769.7150799\ttotal: 25.1s\tremaining: 2.12s\n",
      "461:\tlearn: 1769.5607286\ttotal: 25.2s\tremaining: 2.07s\n",
      "462:\tlearn: 1769.3179437\ttotal: 25.2s\tremaining: 2.02s\n",
      "463:\tlearn: 1769.1952428\ttotal: 25.3s\tremaining: 1.96s\n",
      "464:\tlearn: 1768.8988382\ttotal: 25.3s\tremaining: 1.91s\n",
      "465:\tlearn: 1768.7482228\ttotal: 25.4s\tremaining: 1.85s\n",
      "466:\tlearn: 1768.4881703\ttotal: 25.4s\tremaining: 1.8s\n",
      "467:\tlearn: 1768.3438543\ttotal: 25.5s\tremaining: 1.74s\n",
      "468:\tlearn: 1768.1382555\ttotal: 25.6s\tremaining: 1.69s\n",
      "469:\tlearn: 1767.9843790\ttotal: 25.6s\tremaining: 1.63s\n",
      "470:\tlearn: 1767.7963786\ttotal: 25.7s\tremaining: 1.58s\n",
      "471:\tlearn: 1767.6521286\ttotal: 25.7s\tremaining: 1.53s\n",
      "472:\tlearn: 1767.5306685\ttotal: 25.8s\tremaining: 1.47s\n",
      "473:\tlearn: 1767.3525029\ttotal: 25.8s\tremaining: 1.42s\n",
      "474:\tlearn: 1767.1668934\ttotal: 25.9s\tremaining: 1.36s\n",
      "475:\tlearn: 1766.9464920\ttotal: 25.9s\tremaining: 1.31s\n",
      "476:\tlearn: 1766.7442410\ttotal: 26s\tremaining: 1.25s\n",
      "477:\tlearn: 1766.3941220\ttotal: 26s\tremaining: 1.2s\n",
      "478:\tlearn: 1766.2338793\ttotal: 26.1s\tremaining: 1.14s\n",
      "479:\tlearn: 1765.9929928\ttotal: 26.2s\tremaining: 1.09s\n",
      "480:\tlearn: 1765.8502122\ttotal: 26.2s\tremaining: 1.04s\n",
      "481:\tlearn: 1765.6919307\ttotal: 26.3s\tremaining: 981ms\n",
      "482:\tlearn: 1765.4543719\ttotal: 26.3s\tremaining: 927ms\n",
      "483:\tlearn: 1765.3842150\ttotal: 26.4s\tremaining: 872ms\n",
      "484:\tlearn: 1765.1450344\ttotal: 26.4s\tremaining: 818ms\n",
      "485:\tlearn: 1765.0155718\ttotal: 26.5s\tremaining: 763ms\n",
      "486:\tlearn: 1764.8613147\ttotal: 26.6s\tremaining: 709ms\n",
      "487:\tlearn: 1764.7096237\ttotal: 26.6s\tremaining: 654ms\n",
      "488:\tlearn: 1764.6324693\ttotal: 26.6s\tremaining: 599ms\n",
      "489:\tlearn: 1764.5244438\ttotal: 26.7s\tremaining: 545ms\n",
      "490:\tlearn: 1764.3201112\ttotal: 26.8s\tremaining: 491ms\n",
      "491:\tlearn: 1764.2494473\ttotal: 26.8s\tremaining: 436ms\n",
      "492:\tlearn: 1764.1364510\ttotal: 26.9s\tremaining: 381ms\n",
      "493:\tlearn: 1763.9816945\ttotal: 26.9s\tremaining: 327ms\n",
      "494:\tlearn: 1763.8054609\ttotal: 27s\tremaining: 272ms\n",
      "495:\tlearn: 1763.6575804\ttotal: 27s\tremaining: 218ms\n",
      "496:\tlearn: 1763.4373386\ttotal: 27.1s\tremaining: 163ms\n",
      "497:\tlearn: 1763.3701991\ttotal: 27.1s\tremaining: 109ms\n",
      "498:\tlearn: 1763.1771563\ttotal: 27.2s\tremaining: 54.4ms\n",
      "499:\tlearn: 1763.0277652\ttotal: 27.2s\tremaining: 0us\n",
      "0:\tlearn: 4385.8096913\ttotal: 96.3ms\tremaining: 48.1s\n",
      "1:\tlearn: 4294.7534801\ttotal: 199ms\tremaining: 49.5s\n",
      "2:\tlearn: 4207.3421488\ttotal: 281ms\tremaining: 46.6s\n",
      "3:\tlearn: 4122.4978955\ttotal: 385ms\tremaining: 47.8s\n",
      "4:\tlearn: 4040.1971783\ttotal: 485ms\tremaining: 48s\n",
      "5:\tlearn: 3961.7896177\ttotal: 571ms\tremaining: 47s\n",
      "6:\tlearn: 3886.1988680\ttotal: 667ms\tremaining: 47s\n",
      "7:\tlearn: 3813.7865789\ttotal: 769ms\tremaining: 47.3s\n",
      "8:\tlearn: 3742.7531721\ttotal: 860ms\tremaining: 46.9s\n",
      "9:\tlearn: 3673.3430745\ttotal: 952ms\tremaining: 46.7s\n",
      "10:\tlearn: 3609.1486084\ttotal: 1.05s\tremaining: 46.6s\n",
      "11:\tlearn: 3543.9558819\ttotal: 1.14s\tremaining: 46.5s\n",
      "12:\tlearn: 3483.3632308\ttotal: 1.23s\tremaining: 46.2s\n",
      "13:\tlearn: 3424.7563878\ttotal: 1.33s\tremaining: 46.2s\n",
      "14:\tlearn: 3367.6144609\ttotal: 1.43s\tremaining: 46.1s\n",
      "15:\tlearn: 3311.7180984\ttotal: 1.51s\tremaining: 45.7s\n",
      "16:\tlearn: 3258.8118991\ttotal: 1.61s\tremaining: 45.7s\n",
      "17:\tlearn: 3207.0691128\ttotal: 1.69s\tremaining: 45.3s\n",
      "18:\tlearn: 3157.1379976\ttotal: 1.79s\tremaining: 45.2s\n",
      "19:\tlearn: 3110.4972480\ttotal: 1.89s\tremaining: 45.3s\n",
      "20:\tlearn: 3064.5107009\ttotal: 1.98s\tremaining: 45.1s\n",
      "21:\tlearn: 3019.6077763\ttotal: 2.07s\tremaining: 45.1s\n",
      "22:\tlearn: 2977.0920353\ttotal: 2.18s\tremaining: 45.2s\n",
      "23:\tlearn: 2936.5925213\ttotal: 2.27s\tremaining: 45s\n",
      "24:\tlearn: 2897.4761964\ttotal: 2.36s\tremaining: 44.9s\n",
      "25:\tlearn: 2859.1325995\ttotal: 2.47s\tremaining: 45s\n",
      "26:\tlearn: 2824.0079809\ttotal: 2.56s\tremaining: 44.9s\n",
      "27:\tlearn: 2788.2768947\ttotal: 2.67s\tremaining: 45s\n",
      "28:\tlearn: 2755.2844496\ttotal: 2.77s\tremaining: 45s\n",
      "29:\tlearn: 2722.3759766\ttotal: 2.86s\tremaining: 44.8s\n",
      "30:\tlearn: 2690.5680305\ttotal: 2.96s\tremaining: 44.8s\n",
      "31:\tlearn: 2661.0276244\ttotal: 3.06s\tremaining: 44.7s\n",
      "32:\tlearn: 2632.2227963\ttotal: 3.15s\tremaining: 44.6s\n",
      "33:\tlearn: 2604.7532730\ttotal: 3.24s\tremaining: 44.4s\n",
      "34:\tlearn: 2578.6994557\ttotal: 3.35s\tremaining: 44.5s\n",
      "35:\tlearn: 2552.8372743\ttotal: 3.44s\tremaining: 44.3s\n",
      "36:\tlearn: 2527.9524724\ttotal: 3.52s\tremaining: 44.1s\n",
      "37:\tlearn: 2504.5047418\ttotal: 3.63s\tremaining: 44.1s\n",
      "38:\tlearn: 2482.0541833\ttotal: 3.72s\tremaining: 44s\n",
      "39:\tlearn: 2459.7387522\ttotal: 3.81s\tremaining: 43.8s\n",
      "40:\tlearn: 2438.0895118\ttotal: 3.92s\tremaining: 43.9s\n",
      "41:\tlearn: 2418.1642914\ttotal: 4s\tremaining: 43.6s\n",
      "42:\tlearn: 2399.1910107\ttotal: 4.11s\tremaining: 43.6s\n",
      "43:\tlearn: 2380.5674753\ttotal: 4.21s\tremaining: 43.6s\n",
      "44:\tlearn: 2362.7084604\ttotal: 4.3s\tremaining: 43.5s\n",
      "45:\tlearn: 2346.7538032\ttotal: 4.38s\tremaining: 43.2s\n",
      "46:\tlearn: 2329.7398412\ttotal: 4.48s\tremaining: 43.2s\n",
      "47:\tlearn: 2313.9345789\ttotal: 4.58s\tremaining: 43.1s\n",
      "48:\tlearn: 2298.0566311\ttotal: 4.65s\tremaining: 42.8s\n",
      "49:\tlearn: 2283.6517376\ttotal: 4.75s\tremaining: 42.8s\n",
      "50:\tlearn: 2269.8892914\ttotal: 4.84s\tremaining: 42.6s\n",
      "51:\tlearn: 2255.8273283\ttotal: 4.93s\tremaining: 42.5s\n",
      "52:\tlearn: 2243.3576143\ttotal: 5.04s\tremaining: 42.5s\n",
      "53:\tlearn: 2230.9292533\ttotal: 5.12s\tremaining: 42.3s\n",
      "54:\tlearn: 2219.3602591\ttotal: 5.21s\tremaining: 42.2s\n",
      "55:\tlearn: 2207.6838713\ttotal: 5.31s\tremaining: 42.1s\n",
      "56:\tlearn: 2196.4854116\ttotal: 5.4s\tremaining: 42s\n",
      "57:\tlearn: 2186.0243438\ttotal: 5.51s\tremaining: 42s\n",
      "58:\tlearn: 2175.0902373\ttotal: 5.62s\tremaining: 42s\n",
      "59:\tlearn: 2165.4738296\ttotal: 5.73s\tremaining: 42s\n",
      "60:\tlearn: 2155.8104225\ttotal: 5.84s\tremaining: 42.1s\n",
      "61:\tlearn: 2147.0198966\ttotal: 5.94s\tremaining: 42s\n",
      "62:\tlearn: 2138.0341465\ttotal: 6.04s\tremaining: 41.9s\n",
      "63:\tlearn: 2129.1699812\ttotal: 6.13s\tremaining: 41.7s\n",
      "64:\tlearn: 2121.2926180\ttotal: 6.21s\tremaining: 41.5s\n",
      "65:\tlearn: 2113.7598459\ttotal: 6.3s\tremaining: 41.4s\n",
      "66:\tlearn: 2105.8329849\ttotal: 6.38s\tremaining: 41.3s\n",
      "67:\tlearn: 2098.7565655\ttotal: 6.48s\tremaining: 41.2s\n",
      "68:\tlearn: 2092.0831327\ttotal: 6.59s\tremaining: 41.2s\n",
      "69:\tlearn: 2085.5888496\ttotal: 6.67s\tremaining: 41s\n",
      "70:\tlearn: 2079.5606635\ttotal: 6.78s\tremaining: 40.9s\n",
      "71:\tlearn: 2072.5932881\ttotal: 6.87s\tremaining: 40.8s\n",
      "72:\tlearn: 2066.6912101\ttotal: 6.95s\tremaining: 40.6s\n",
      "73:\tlearn: 2059.8140657\ttotal: 7.04s\tremaining: 40.5s\n",
      "74:\tlearn: 2053.4546775\ttotal: 7.13s\tremaining: 40.4s\n",
      "75:\tlearn: 2048.2717814\ttotal: 7.25s\tremaining: 40.5s\n",
      "76:\tlearn: 2042.2908353\ttotal: 7.38s\tremaining: 40.6s\n",
      "77:\tlearn: 2036.3398585\ttotal: 7.48s\tremaining: 40.5s\n",
      "78:\tlearn: 2030.8950583\ttotal: 7.59s\tremaining: 40.4s\n",
      "79:\tlearn: 2026.3406222\ttotal: 7.67s\tremaining: 40.3s\n",
      "80:\tlearn: 2022.0718353\ttotal: 7.77s\tremaining: 40.2s\n",
      "81:\tlearn: 2018.0088600\ttotal: 7.87s\tremaining: 40.1s\n",
      "82:\tlearn: 2013.3592817\ttotal: 7.96s\tremaining: 40s\n",
      "83:\tlearn: 2008.9305304\ttotal: 8.06s\tremaining: 39.9s\n",
      "84:\tlearn: 2004.8738451\ttotal: 8.14s\tremaining: 39.8s\n",
      "85:\tlearn: 2000.5082328\ttotal: 8.22s\tremaining: 39.6s\n",
      "86:\tlearn: 1996.5917730\ttotal: 8.31s\tremaining: 39.5s\n",
      "87:\tlearn: 1993.0225980\ttotal: 8.42s\tremaining: 39.4s\n",
      "88:\tlearn: 1989.6486221\ttotal: 8.5s\tremaining: 39.3s\n",
      "89:\tlearn: 1985.7795623\ttotal: 8.59s\tremaining: 39.1s\n",
      "90:\tlearn: 1982.5761925\ttotal: 8.69s\tremaining: 39s\n",
      "91:\tlearn: 1978.9536166\ttotal: 8.78s\tremaining: 38.9s\n",
      "92:\tlearn: 1975.4016544\ttotal: 8.87s\tremaining: 38.8s\n",
      "93:\tlearn: 1972.1315011\ttotal: 8.97s\tremaining: 38.8s\n",
      "94:\tlearn: 1969.0052792\ttotal: 9.06s\tremaining: 38.6s\n",
      "95:\tlearn: 1966.0882377\ttotal: 9.15s\tremaining: 38.5s\n",
      "96:\tlearn: 1963.2032601\ttotal: 9.25s\tremaining: 38.4s\n",
      "97:\tlearn: 1960.3389722\ttotal: 9.33s\tremaining: 38.3s\n",
      "98:\tlearn: 1957.5582660\ttotal: 9.43s\tremaining: 38.2s\n",
      "99:\tlearn: 1955.2297113\ttotal: 9.52s\tremaining: 38.1s\n",
      "100:\tlearn: 1952.5511274\ttotal: 9.61s\tremaining: 38s\n",
      "101:\tlearn: 1949.9289437\ttotal: 9.71s\tremaining: 37.9s\n",
      "102:\tlearn: 1947.4647321\ttotal: 9.79s\tremaining: 37.8s\n",
      "103:\tlearn: 1945.4706027\ttotal: 9.87s\tremaining: 37.6s\n",
      "104:\tlearn: 1943.3221258\ttotal: 9.96s\tremaining: 37.5s\n",
      "105:\tlearn: 1940.9004786\ttotal: 10s\tremaining: 37.3s\n",
      "106:\tlearn: 1938.6084778\ttotal: 10.1s\tremaining: 37.2s\n",
      "107:\tlearn: 1936.6963982\ttotal: 10.2s\tremaining: 37.1s\n",
      "108:\tlearn: 1934.7339355\ttotal: 10.3s\tremaining: 37.1s\n",
      "109:\tlearn: 1932.6546657\ttotal: 10.4s\tremaining: 37s\n",
      "110:\tlearn: 1930.6036102\ttotal: 10.5s\tremaining: 36.8s\n",
      "111:\tlearn: 1928.7758090\ttotal: 10.6s\tremaining: 36.7s\n",
      "112:\tlearn: 1926.8571721\ttotal: 10.7s\tremaining: 36.6s\n",
      "113:\tlearn: 1925.0679524\ttotal: 10.8s\tremaining: 36.5s\n",
      "114:\tlearn: 1923.3341452\ttotal: 10.9s\tremaining: 36.4s\n",
      "115:\tlearn: 1921.6886933\ttotal: 11s\tremaining: 36.3s\n",
      "116:\tlearn: 1920.0449663\ttotal: 11s\tremaining: 36.2s\n",
      "117:\tlearn: 1918.2757186\ttotal: 11.1s\tremaining: 36.1s\n",
      "118:\tlearn: 1916.8938599\ttotal: 11.2s\tremaining: 36s\n",
      "119:\tlearn: 1915.4280697\ttotal: 11.3s\tremaining: 35.8s\n",
      "120:\tlearn: 1914.0052424\ttotal: 11.4s\tremaining: 35.7s\n",
      "121:\tlearn: 1912.6657767\ttotal: 11.5s\tremaining: 35.6s\n",
      "122:\tlearn: 1911.4167447\ttotal: 11.6s\tremaining: 35.5s\n",
      "123:\tlearn: 1909.9535416\ttotal: 11.7s\tremaining: 35.3s\n",
      "124:\tlearn: 1908.6951272\ttotal: 11.7s\tremaining: 35.2s\n",
      "125:\tlearn: 1907.5345973\ttotal: 11.8s\tremaining: 35.1s\n",
      "126:\tlearn: 1906.3053346\ttotal: 11.9s\tremaining: 35s\n",
      "127:\tlearn: 1905.0073400\ttotal: 12s\tremaining: 34.9s\n",
      "128:\tlearn: 1903.4110415\ttotal: 12.1s\tremaining: 34.8s\n",
      "129:\tlearn: 1902.0343073\ttotal: 12.2s\tremaining: 34.7s\n",
      "130:\tlearn: 1900.8756930\ttotal: 12.3s\tremaining: 34.5s\n",
      "131:\tlearn: 1899.6996909\ttotal: 12.3s\tremaining: 34.4s\n",
      "132:\tlearn: 1898.4863597\ttotal: 12.4s\tremaining: 34.3s\n",
      "133:\tlearn: 1897.4741472\ttotal: 12.5s\tremaining: 34.2s\n",
      "134:\tlearn: 1896.4022990\ttotal: 12.6s\tremaining: 34s\n",
      "135:\tlearn: 1895.5610502\ttotal: 12.7s\tremaining: 33.9s\n",
      "136:\tlearn: 1894.4436324\ttotal: 12.8s\tremaining: 33.8s\n",
      "137:\tlearn: 1893.2310377\ttotal: 12.8s\tremaining: 33.7s\n",
      "138:\tlearn: 1892.2965750\ttotal: 12.9s\tremaining: 33.6s\n",
      "139:\tlearn: 1890.8216615\ttotal: 13s\tremaining: 33.4s\n",
      "140:\tlearn: 1889.7899643\ttotal: 13.1s\tremaining: 33.4s\n",
      "141:\tlearn: 1888.9474914\ttotal: 13.2s\tremaining: 33.2s\n",
      "142:\tlearn: 1887.7207988\ttotal: 13.2s\tremaining: 33.1s\n",
      "143:\tlearn: 1886.7716592\ttotal: 13.3s\tremaining: 33s\n",
      "144:\tlearn: 1885.7362852\ttotal: 13.4s\tremaining: 32.9s\n",
      "145:\tlearn: 1884.5436731\ttotal: 13.5s\tremaining: 32.7s\n",
      "146:\tlearn: 1883.6865140\ttotal: 13.6s\tremaining: 32.6s\n",
      "147:\tlearn: 1882.8150020\ttotal: 13.7s\tremaining: 32.5s\n",
      "148:\tlearn: 1882.0598956\ttotal: 13.8s\tremaining: 32.4s\n",
      "149:\tlearn: 1881.1463333\ttotal: 13.8s\tremaining: 32.3s\n",
      "150:\tlearn: 1880.1553533\ttotal: 13.9s\tremaining: 32.2s\n",
      "151:\tlearn: 1879.4922393\ttotal: 14s\tremaining: 32.1s\n",
      "152:\tlearn: 1878.7351145\ttotal: 14.1s\tremaining: 31.9s\n",
      "153:\tlearn: 1877.8550883\ttotal: 14.2s\tremaining: 31.9s\n",
      "154:\tlearn: 1877.2005850\ttotal: 14.2s\tremaining: 31.7s\n",
      "155:\tlearn: 1876.6389799\ttotal: 14.3s\tremaining: 31.6s\n",
      "156:\tlearn: 1875.8577020\ttotal: 14.4s\tremaining: 31.5s\n",
      "157:\tlearn: 1875.1784642\ttotal: 14.5s\tremaining: 31.4s\n",
      "158:\tlearn: 1874.1968453\ttotal: 14.6s\tremaining: 31.3s\n",
      "159:\tlearn: 1873.5599563\ttotal: 14.7s\tremaining: 31.2s\n",
      "160:\tlearn: 1872.6112886\ttotal: 14.8s\tremaining: 31.1s\n",
      "161:\tlearn: 1872.0565884\ttotal: 14.8s\tremaining: 31s\n",
      "162:\tlearn: 1871.3445009\ttotal: 14.9s\tremaining: 30.9s\n",
      "163:\tlearn: 1870.8220948\ttotal: 15s\tremaining: 30.8s\n",
      "164:\tlearn: 1870.2479602\ttotal: 15.1s\tremaining: 30.6s\n",
      "165:\tlearn: 1869.2134716\ttotal: 15.2s\tremaining: 30.5s\n",
      "166:\tlearn: 1868.4677394\ttotal: 15.2s\tremaining: 30.4s\n",
      "167:\tlearn: 1867.8778304\ttotal: 15.3s\tremaining: 30.3s\n",
      "168:\tlearn: 1867.1594062\ttotal: 15.4s\tremaining: 30.2s\n",
      "169:\tlearn: 1866.4735643\ttotal: 15.5s\tremaining: 30.1s\n",
      "170:\tlearn: 1865.7804900\ttotal: 15.6s\tremaining: 30s\n",
      "171:\tlearn: 1865.0662533\ttotal: 15.7s\tremaining: 29.9s\n",
      "172:\tlearn: 1864.3979405\ttotal: 15.8s\tremaining: 29.8s\n",
      "173:\tlearn: 1863.7431425\ttotal: 15.8s\tremaining: 29.7s\n",
      "174:\tlearn: 1863.3177856\ttotal: 15.9s\tremaining: 29.6s\n",
      "175:\tlearn: 1862.8520203\ttotal: 16s\tremaining: 29.5s\n",
      "176:\tlearn: 1862.1611385\ttotal: 16.1s\tremaining: 29.4s\n",
      "177:\tlearn: 1861.5703878\ttotal: 16.2s\tremaining: 29.3s\n",
      "178:\tlearn: 1860.9806638\ttotal: 16.3s\tremaining: 29.2s\n",
      "179:\tlearn: 1860.4306485\ttotal: 16.3s\tremaining: 29s\n",
      "180:\tlearn: 1859.9789963\ttotal: 16.4s\tremaining: 29s\n",
      "181:\tlearn: 1859.3994956\ttotal: 16.5s\tremaining: 28.9s\n",
      "182:\tlearn: 1858.7097049\ttotal: 16.6s\tremaining: 28.8s\n",
      "183:\tlearn: 1858.2681749\ttotal: 16.7s\tremaining: 28.7s\n",
      "184:\tlearn: 1857.7417256\ttotal: 16.8s\tremaining: 28.6s\n",
      "185:\tlearn: 1857.4221006\ttotal: 16.8s\tremaining: 28.4s\n",
      "186:\tlearn: 1856.5606199\ttotal: 16.9s\tremaining: 28.3s\n",
      "187:\tlearn: 1855.9069048\ttotal: 17s\tremaining: 28.2s\n",
      "188:\tlearn: 1855.1227099\ttotal: 17s\tremaining: 28s\n",
      "189:\tlearn: 1854.5470690\ttotal: 17.1s\tremaining: 28s\n",
      "190:\tlearn: 1854.1037715\ttotal: 17.2s\tremaining: 27.9s\n",
      "191:\tlearn: 1853.5628106\ttotal: 17.3s\tremaining: 27.8s\n",
      "192:\tlearn: 1852.7106049\ttotal: 17.4s\tremaining: 27.7s\n",
      "193:\tlearn: 1852.2318774\ttotal: 17.5s\tremaining: 27.6s\n",
      "194:\tlearn: 1851.6027125\ttotal: 17.6s\tremaining: 27.5s\n",
      "195:\tlearn: 1851.2561885\ttotal: 17.7s\tremaining: 27.4s\n",
      "196:\tlearn: 1850.8048523\ttotal: 17.8s\tremaining: 27.3s\n",
      "197:\tlearn: 1850.3755294\ttotal: 17.8s\tremaining: 27.2s\n",
      "198:\tlearn: 1849.7403601\ttotal: 17.9s\tremaining: 27.1s\n",
      "199:\tlearn: 1849.2043323\ttotal: 18s\tremaining: 27s\n",
      "200:\tlearn: 1848.7913472\ttotal: 18.1s\tremaining: 26.9s\n",
      "201:\tlearn: 1848.3823311\ttotal: 18.2s\tremaining: 26.8s\n",
      "202:\tlearn: 1847.8316177\ttotal: 18.3s\tremaining: 26.7s\n",
      "203:\tlearn: 1847.1082768\ttotal: 18.3s\tremaining: 26.6s\n",
      "204:\tlearn: 1846.8108859\ttotal: 18.4s\tremaining: 26.5s\n",
      "205:\tlearn: 1846.0963712\ttotal: 18.5s\tremaining: 26.4s\n",
      "206:\tlearn: 1845.7212091\ttotal: 18.6s\tremaining: 26.3s\n",
      "207:\tlearn: 1845.4133725\ttotal: 18.7s\tremaining: 26.2s\n",
      "208:\tlearn: 1844.8759213\ttotal: 18.8s\tremaining: 26.1s\n",
      "209:\tlearn: 1844.3476548\ttotal: 18.8s\tremaining: 26s\n",
      "210:\tlearn: 1843.9801864\ttotal: 18.9s\tremaining: 25.9s\n",
      "211:\tlearn: 1843.2698577\ttotal: 19s\tremaining: 25.8s\n",
      "212:\tlearn: 1842.8092623\ttotal: 19.1s\tremaining: 25.7s\n",
      "213:\tlearn: 1842.5393852\ttotal: 19.1s\tremaining: 25.6s\n",
      "214:\tlearn: 1842.1245065\ttotal: 19.2s\tremaining: 25.5s\n",
      "215:\tlearn: 1841.7678124\ttotal: 19.3s\tremaining: 25.4s\n",
      "216:\tlearn: 1841.4294909\ttotal: 19.4s\tremaining: 25.3s\n",
      "217:\tlearn: 1841.0232346\ttotal: 19.5s\tremaining: 25.2s\n",
      "218:\tlearn: 1840.5481409\ttotal: 19.6s\tremaining: 25.1s\n",
      "219:\tlearn: 1840.1818865\ttotal: 19.6s\tremaining: 25s\n",
      "220:\tlearn: 1839.8234847\ttotal: 19.7s\tremaining: 24.9s\n",
      "221:\tlearn: 1839.4140203\ttotal: 19.8s\tremaining: 24.8s\n",
      "222:\tlearn: 1839.1200887\ttotal: 19.9s\tremaining: 24.7s\n",
      "223:\tlearn: 1838.7741838\ttotal: 20s\tremaining: 24.7s\n",
      "224:\tlearn: 1838.2548809\ttotal: 20.1s\tremaining: 24.6s\n",
      "225:\tlearn: 1837.8752412\ttotal: 20.2s\tremaining: 24.4s\n",
      "226:\tlearn: 1837.3980053\ttotal: 20.2s\tremaining: 24.3s\n",
      "227:\tlearn: 1836.8446243\ttotal: 20.3s\tremaining: 24.2s\n",
      "228:\tlearn: 1836.3789378\ttotal: 20.4s\tremaining: 24.1s\n",
      "229:\tlearn: 1836.0963463\ttotal: 20.5s\tremaining: 24s\n",
      "230:\tlearn: 1835.8368930\ttotal: 20.6s\tremaining: 23.9s\n",
      "231:\tlearn: 1835.4608910\ttotal: 20.6s\tremaining: 23.8s\n",
      "232:\tlearn: 1835.0138443\ttotal: 20.7s\tremaining: 23.7s\n",
      "233:\tlearn: 1834.6895756\ttotal: 20.8s\tremaining: 23.6s\n",
      "234:\tlearn: 1834.3812625\ttotal: 20.9s\tremaining: 23.5s\n",
      "235:\tlearn: 1834.1117399\ttotal: 21s\tremaining: 23.4s\n",
      "236:\tlearn: 1833.7616269\ttotal: 21s\tremaining: 23.3s\n",
      "237:\tlearn: 1833.4466105\ttotal: 21.1s\tremaining: 23.2s\n",
      "238:\tlearn: 1833.1261356\ttotal: 21.2s\tremaining: 23.1s\n",
      "239:\tlearn: 1832.5996127\ttotal: 21.3s\tremaining: 23s\n",
      "240:\tlearn: 1832.2308493\ttotal: 21.3s\tremaining: 22.9s\n",
      "241:\tlearn: 1831.7534051\ttotal: 21.4s\tremaining: 22.8s\n",
      "242:\tlearn: 1831.4577110\ttotal: 21.5s\tremaining: 22.7s\n",
      "243:\tlearn: 1831.2383767\ttotal: 21.6s\tremaining: 22.6s\n",
      "244:\tlearn: 1830.8302965\ttotal: 21.6s\tremaining: 22.5s\n",
      "245:\tlearn: 1830.2544385\ttotal: 21.7s\tremaining: 22.4s\n",
      "246:\tlearn: 1829.8905833\ttotal: 21.8s\tremaining: 22.4s\n",
      "247:\tlearn: 1829.4616257\ttotal: 21.9s\tremaining: 22.3s\n",
      "248:\tlearn: 1829.2284312\ttotal: 22s\tremaining: 22.2s\n",
      "249:\tlearn: 1828.9569375\ttotal: 22.1s\tremaining: 22.1s\n",
      "250:\tlearn: 1828.3642019\ttotal: 22.2s\tremaining: 22s\n",
      "251:\tlearn: 1827.8157667\ttotal: 22.2s\tremaining: 21.9s\n",
      "252:\tlearn: 1827.6095112\ttotal: 22.3s\tremaining: 21.8s\n",
      "253:\tlearn: 1827.2717927\ttotal: 22.4s\tremaining: 21.7s\n",
      "254:\tlearn: 1826.8736746\ttotal: 22.5s\tremaining: 21.6s\n",
      "255:\tlearn: 1826.5422768\ttotal: 22.6s\tremaining: 21.5s\n",
      "256:\tlearn: 1826.2263706\ttotal: 22.7s\tremaining: 21.4s\n",
      "257:\tlearn: 1825.8989849\ttotal: 22.8s\tremaining: 21.3s\n",
      "258:\tlearn: 1825.4747549\ttotal: 22.8s\tremaining: 21.3s\n",
      "259:\tlearn: 1825.0947670\ttotal: 22.9s\tremaining: 21.2s\n",
      "260:\tlearn: 1824.7716341\ttotal: 23s\tremaining: 21.1s\n",
      "261:\tlearn: 1824.4046574\ttotal: 23.1s\tremaining: 21s\n",
      "262:\tlearn: 1823.9612487\ttotal: 23.2s\tremaining: 20.9s\n",
      "263:\tlearn: 1823.6670737\ttotal: 23.3s\tremaining: 20.8s\n",
      "264:\tlearn: 1823.3706698\ttotal: 23.4s\tremaining: 20.7s\n",
      "265:\tlearn: 1822.9948905\ttotal: 23.4s\tremaining: 20.6s\n",
      "266:\tlearn: 1822.5336980\ttotal: 23.5s\tremaining: 20.5s\n",
      "267:\tlearn: 1822.1875739\ttotal: 23.6s\tremaining: 20.4s\n",
      "268:\tlearn: 1821.8413511\ttotal: 23.7s\tremaining: 20.3s\n",
      "269:\tlearn: 1821.4306255\ttotal: 23.8s\tremaining: 20.2s\n",
      "270:\tlearn: 1821.2763221\ttotal: 23.8s\tremaining: 20.1s\n",
      "271:\tlearn: 1820.7499756\ttotal: 23.9s\tremaining: 20s\n",
      "272:\tlearn: 1820.3480329\ttotal: 24s\tremaining: 20s\n",
      "273:\tlearn: 1820.0741117\ttotal: 24.1s\tremaining: 19.9s\n",
      "274:\tlearn: 1819.8267598\ttotal: 24.1s\tremaining: 19.7s\n",
      "275:\tlearn: 1819.4766290\ttotal: 24.2s\tremaining: 19.7s\n",
      "276:\tlearn: 1819.2191472\ttotal: 24.3s\tremaining: 19.6s\n",
      "277:\tlearn: 1818.8590067\ttotal: 24.4s\tremaining: 19.5s\n",
      "278:\tlearn: 1818.4459586\ttotal: 24.5s\tremaining: 19.4s\n",
      "279:\tlearn: 1818.1795220\ttotal: 24.6s\tremaining: 19.3s\n",
      "280:\tlearn: 1817.6292736\ttotal: 24.7s\tremaining: 19.2s\n",
      "281:\tlearn: 1817.3889360\ttotal: 24.8s\tremaining: 19.2s\n",
      "282:\tlearn: 1817.1531942\ttotal: 24.9s\tremaining: 19.1s\n",
      "283:\tlearn: 1816.7914670\ttotal: 25s\tremaining: 19s\n",
      "284:\tlearn: 1816.3953305\ttotal: 25s\tremaining: 18.9s\n",
      "285:\tlearn: 1816.0534933\ttotal: 25.1s\tremaining: 18.8s\n",
      "286:\tlearn: 1815.8296345\ttotal: 25.2s\tremaining: 18.7s\n",
      "287:\tlearn: 1815.4392805\ttotal: 25.3s\tremaining: 18.6s\n",
      "288:\tlearn: 1815.1965840\ttotal: 25.4s\tremaining: 18.5s\n",
      "289:\tlearn: 1814.7921703\ttotal: 25.4s\tremaining: 18.4s\n",
      "290:\tlearn: 1814.5520772\ttotal: 25.5s\tremaining: 18.3s\n",
      "291:\tlearn: 1814.2434727\ttotal: 25.6s\tremaining: 18.2s\n",
      "292:\tlearn: 1813.9525961\ttotal: 25.7s\tremaining: 18.2s\n",
      "293:\tlearn: 1813.6539556\ttotal: 25.8s\tremaining: 18.1s\n",
      "294:\tlearn: 1813.3375535\ttotal: 25.9s\tremaining: 18s\n",
      "295:\tlearn: 1813.0314470\ttotal: 26s\tremaining: 17.9s\n",
      "296:\tlearn: 1812.8941042\ttotal: 26s\tremaining: 17.8s\n",
      "297:\tlearn: 1812.5886934\ttotal: 26.1s\tremaining: 17.7s\n",
      "298:\tlearn: 1812.3147754\ttotal: 26.2s\tremaining: 17.6s\n",
      "299:\tlearn: 1812.0314922\ttotal: 26.3s\tremaining: 17.5s\n",
      "300:\tlearn: 1811.6216267\ttotal: 26.3s\tremaining: 17.4s\n",
      "301:\tlearn: 1811.2750035\ttotal: 26.4s\tremaining: 17.3s\n",
      "302:\tlearn: 1810.8973466\ttotal: 26.5s\tremaining: 17.3s\n",
      "303:\tlearn: 1810.5356441\ttotal: 26.6s\tremaining: 17.2s\n",
      "304:\tlearn: 1810.2790540\ttotal: 26.7s\tremaining: 17.1s\n",
      "305:\tlearn: 1810.0057910\ttotal: 26.8s\tremaining: 17s\n",
      "306:\tlearn: 1809.7886535\ttotal: 26.9s\tremaining: 16.9s\n",
      "307:\tlearn: 1809.5293243\ttotal: 27s\tremaining: 16.8s\n",
      "308:\tlearn: 1809.1791203\ttotal: 27.1s\tremaining: 16.7s\n",
      "309:\tlearn: 1809.0377852\ttotal: 27.2s\tremaining: 16.7s\n",
      "310:\tlearn: 1808.8005336\ttotal: 27.3s\tremaining: 16.6s\n",
      "311:\tlearn: 1808.3841192\ttotal: 27.3s\tremaining: 16.5s\n",
      "312:\tlearn: 1808.0337139\ttotal: 27.4s\tremaining: 16.4s\n",
      "313:\tlearn: 1807.8338019\ttotal: 27.5s\tremaining: 16.3s\n",
      "314:\tlearn: 1807.6160626\ttotal: 27.6s\tremaining: 16.2s\n",
      "315:\tlearn: 1807.2967086\ttotal: 27.7s\tremaining: 16.1s\n",
      "316:\tlearn: 1807.1063811\ttotal: 27.8s\tremaining: 16s\n",
      "317:\tlearn: 1806.7944186\ttotal: 27.9s\tremaining: 16s\n",
      "318:\tlearn: 1806.6902314\ttotal: 28s\tremaining: 15.9s\n",
      "319:\tlearn: 1806.5267206\ttotal: 28s\tremaining: 15.8s\n",
      "320:\tlearn: 1806.3329584\ttotal: 28.1s\tremaining: 15.7s\n",
      "321:\tlearn: 1806.0229561\ttotal: 28.2s\tremaining: 15.6s\n",
      "322:\tlearn: 1805.6208627\ttotal: 28.3s\tremaining: 15.5s\n",
      "323:\tlearn: 1805.4835568\ttotal: 28.4s\tremaining: 15.4s\n",
      "324:\tlearn: 1805.2885495\ttotal: 28.4s\tremaining: 15.3s\n",
      "325:\tlearn: 1804.9940864\ttotal: 28.5s\tremaining: 15.2s\n",
      "326:\tlearn: 1804.7827837\ttotal: 28.6s\tremaining: 15.1s\n",
      "327:\tlearn: 1804.4986218\ttotal: 28.7s\tremaining: 15s\n",
      "328:\tlearn: 1804.3902926\ttotal: 28.8s\tremaining: 15s\n",
      "329:\tlearn: 1804.1696772\ttotal: 28.9s\tremaining: 14.9s\n",
      "330:\tlearn: 1803.9242456\ttotal: 28.9s\tremaining: 14.8s\n",
      "331:\tlearn: 1803.6701483\ttotal: 29s\tremaining: 14.7s\n",
      "332:\tlearn: 1803.4415578\ttotal: 29.1s\tremaining: 14.6s\n",
      "333:\tlearn: 1803.1163335\ttotal: 29.2s\tremaining: 14.5s\n",
      "334:\tlearn: 1802.9594359\ttotal: 29.3s\tremaining: 14.4s\n",
      "335:\tlearn: 1802.6747242\ttotal: 29.3s\tremaining: 14.3s\n",
      "336:\tlearn: 1802.4090933\ttotal: 29.4s\tremaining: 14.2s\n",
      "337:\tlearn: 1802.2409692\ttotal: 29.5s\tremaining: 14.1s\n",
      "338:\tlearn: 1802.0102228\ttotal: 29.6s\tremaining: 14.1s\n",
      "339:\tlearn: 1801.8458655\ttotal: 29.7s\tremaining: 14s\n",
      "340:\tlearn: 1801.5757459\ttotal: 29.8s\tremaining: 13.9s\n",
      "341:\tlearn: 1801.4492543\ttotal: 29.9s\tremaining: 13.8s\n",
      "342:\tlearn: 1801.2763665\ttotal: 29.9s\tremaining: 13.7s\n",
      "343:\tlearn: 1800.9677215\ttotal: 30s\tremaining: 13.6s\n",
      "344:\tlearn: 1800.7551791\ttotal: 30.1s\tremaining: 13.5s\n",
      "345:\tlearn: 1800.3753592\ttotal: 30.2s\tremaining: 13.4s\n",
      "346:\tlearn: 1800.1816629\ttotal: 30.3s\tremaining: 13.4s\n",
      "347:\tlearn: 1799.9170656\ttotal: 30.4s\tremaining: 13.3s\n",
      "348:\tlearn: 1799.6022957\ttotal: 30.5s\tremaining: 13.2s\n",
      "349:\tlearn: 1799.4452523\ttotal: 30.6s\tremaining: 13.1s\n",
      "350:\tlearn: 1799.1475120\ttotal: 30.6s\tremaining: 13s\n",
      "351:\tlearn: 1798.9341695\ttotal: 30.7s\tremaining: 12.9s\n",
      "352:\tlearn: 1798.8123874\ttotal: 30.8s\tremaining: 12.8s\n",
      "353:\tlearn: 1798.5883089\ttotal: 30.9s\tremaining: 12.7s\n",
      "354:\tlearn: 1798.4070932\ttotal: 31s\tremaining: 12.7s\n",
      "355:\tlearn: 1798.1228085\ttotal: 31.1s\tremaining: 12.6s\n",
      "356:\tlearn: 1797.8423483\ttotal: 31.2s\tremaining: 12.5s\n",
      "357:\tlearn: 1797.5990599\ttotal: 31.3s\tremaining: 12.4s\n",
      "358:\tlearn: 1797.4105431\ttotal: 31.4s\tremaining: 12.3s\n",
      "359:\tlearn: 1797.2740192\ttotal: 31.4s\tremaining: 12.2s\n",
      "360:\tlearn: 1797.0902620\ttotal: 31.5s\tremaining: 12.1s\n",
      "361:\tlearn: 1796.8117761\ttotal: 31.6s\tremaining: 12s\n",
      "362:\tlearn: 1796.6272548\ttotal: 31.7s\tremaining: 12s\n",
      "363:\tlearn: 1796.5001031\ttotal: 31.8s\tremaining: 11.9s\n",
      "364:\tlearn: 1796.3490107\ttotal: 31.9s\tremaining: 11.8s\n",
      "365:\tlearn: 1796.1178941\ttotal: 32s\tremaining: 11.7s\n",
      "366:\tlearn: 1795.8551350\ttotal: 32s\tremaining: 11.6s\n",
      "367:\tlearn: 1795.5752062\ttotal: 32.1s\tremaining: 11.5s\n",
      "368:\tlearn: 1795.3192856\ttotal: 32.2s\tremaining: 11.4s\n",
      "369:\tlearn: 1795.0953580\ttotal: 32.3s\tremaining: 11.4s\n",
      "370:\tlearn: 1794.9339967\ttotal: 32.4s\tremaining: 11.3s\n",
      "371:\tlearn: 1794.7841403\ttotal: 32.5s\tremaining: 11.2s\n",
      "372:\tlearn: 1794.5520025\ttotal: 32.6s\tremaining: 11.1s\n",
      "373:\tlearn: 1794.2718469\ttotal: 32.7s\tremaining: 11s\n",
      "374:\tlearn: 1793.9807371\ttotal: 32.8s\tremaining: 10.9s\n",
      "375:\tlearn: 1793.7192492\ttotal: 32.8s\tremaining: 10.8s\n",
      "376:\tlearn: 1793.4969656\ttotal: 32.9s\tremaining: 10.7s\n",
      "377:\tlearn: 1793.2419519\ttotal: 33s\tremaining: 10.7s\n",
      "378:\tlearn: 1793.1259299\ttotal: 33.1s\tremaining: 10.6s\n",
      "379:\tlearn: 1792.9862598\ttotal: 33.2s\tremaining: 10.5s\n",
      "380:\tlearn: 1792.6991312\ttotal: 33.3s\tremaining: 10.4s\n",
      "381:\tlearn: 1792.5725305\ttotal: 33.4s\tremaining: 10.3s\n",
      "382:\tlearn: 1792.2649311\ttotal: 33.4s\tremaining: 10.2s\n",
      "383:\tlearn: 1792.1775593\ttotal: 33.5s\tremaining: 10.1s\n",
      "384:\tlearn: 1792.0208208\ttotal: 33.6s\tremaining: 10s\n",
      "385:\tlearn: 1791.9338643\ttotal: 33.7s\tremaining: 9.96s\n",
      "386:\tlearn: 1791.7394324\ttotal: 33.8s\tremaining: 9.87s\n",
      "387:\tlearn: 1791.5298559\ttotal: 33.9s\tremaining: 9.78s\n",
      "388:\tlearn: 1791.2281977\ttotal: 34s\tremaining: 9.7s\n",
      "389:\tlearn: 1791.0874747\ttotal: 34s\tremaining: 9.6s\n",
      "390:\tlearn: 1790.8589482\ttotal: 34.1s\tremaining: 9.51s\n",
      "391:\tlearn: 1790.6604650\ttotal: 34.2s\tremaining: 9.43s\n",
      "392:\tlearn: 1790.4023635\ttotal: 34.3s\tremaining: 9.34s\n",
      "393:\tlearn: 1790.2027135\ttotal: 34.4s\tremaining: 9.25s\n",
      "394:\tlearn: 1789.9391821\ttotal: 34.5s\tremaining: 9.17s\n",
      "395:\tlearn: 1789.7748316\ttotal: 34.6s\tremaining: 9.08s\n",
      "396:\tlearn: 1789.5891788\ttotal: 34.7s\tremaining: 8.99s\n",
      "397:\tlearn: 1789.1953416\ttotal: 34.7s\tremaining: 8.9s\n",
      "398:\tlearn: 1788.9934752\ttotal: 34.8s\tremaining: 8.81s\n",
      "399:\tlearn: 1788.7618048\ttotal: 34.9s\tremaining: 8.73s\n",
      "400:\tlearn: 1788.6373374\ttotal: 35s\tremaining: 8.64s\n",
      "401:\tlearn: 1788.3771102\ttotal: 35.1s\tremaining: 8.55s\n",
      "402:\tlearn: 1788.1893221\ttotal: 35.2s\tremaining: 8.46s\n",
      "403:\tlearn: 1788.0058691\ttotal: 35.3s\tremaining: 8.38s\n",
      "404:\tlearn: 1787.8409197\ttotal: 35.3s\tremaining: 8.29s\n",
      "405:\tlearn: 1787.6360848\ttotal: 35.4s\tremaining: 8.2s\n",
      "406:\tlearn: 1787.3919183\ttotal: 35.5s\tremaining: 8.12s\n",
      "407:\tlearn: 1787.2854613\ttotal: 35.6s\tremaining: 8.03s\n",
      "408:\tlearn: 1787.0868556\ttotal: 35.7s\tremaining: 7.94s\n",
      "409:\tlearn: 1786.8768185\ttotal: 35.8s\tremaining: 7.86s\n",
      "410:\tlearn: 1786.5742935\ttotal: 35.9s\tremaining: 7.76s\n",
      "411:\tlearn: 1786.4058473\ttotal: 35.9s\tremaining: 7.68s\n",
      "412:\tlearn: 1786.2821066\ttotal: 36s\tremaining: 7.59s\n",
      "413:\tlearn: 1786.0719496\ttotal: 36.1s\tremaining: 7.5s\n",
      "414:\tlearn: 1785.8305954\ttotal: 36.2s\tremaining: 7.41s\n",
      "415:\tlearn: 1785.6345513\ttotal: 36.3s\tremaining: 7.33s\n",
      "416:\tlearn: 1785.4628860\ttotal: 36.4s\tremaining: 7.24s\n",
      "417:\tlearn: 1785.3521055\ttotal: 36.5s\tremaining: 7.15s\n",
      "418:\tlearn: 1785.1841899\ttotal: 36.5s\tremaining: 7.06s\n",
      "419:\tlearn: 1784.9943562\ttotal: 36.6s\tremaining: 6.98s\n",
      "420:\tlearn: 1784.8802588\ttotal: 36.7s\tremaining: 6.89s\n",
      "421:\tlearn: 1784.6816817\ttotal: 36.8s\tremaining: 6.8s\n",
      "422:\tlearn: 1784.5732539\ttotal: 36.9s\tremaining: 6.71s\n",
      "423:\tlearn: 1784.4469219\ttotal: 37s\tremaining: 6.62s\n",
      "424:\tlearn: 1784.2474757\ttotal: 37s\tremaining: 6.54s\n",
      "425:\tlearn: 1784.0818984\ttotal: 37.1s\tremaining: 6.45s\n",
      "426:\tlearn: 1783.7826650\ttotal: 37.2s\tremaining: 6.36s\n",
      "427:\tlearn: 1783.6117214\ttotal: 37.3s\tremaining: 6.28s\n",
      "428:\tlearn: 1783.3856144\ttotal: 37.4s\tremaining: 6.19s\n",
      "429:\tlearn: 1783.1118287\ttotal: 37.5s\tremaining: 6.1s\n",
      "430:\tlearn: 1782.9362394\ttotal: 37.6s\tremaining: 6.02s\n",
      "431:\tlearn: 1782.7693814\ttotal: 37.7s\tremaining: 5.93s\n",
      "432:\tlearn: 1782.6121137\ttotal: 37.8s\tremaining: 5.84s\n",
      "433:\tlearn: 1782.4261433\ttotal: 37.9s\tremaining: 5.76s\n",
      "434:\tlearn: 1782.2338249\ttotal: 37.9s\tremaining: 5.67s\n",
      "435:\tlearn: 1782.0539007\ttotal: 38s\tremaining: 5.58s\n",
      "436:\tlearn: 1781.9397887\ttotal: 38.1s\tremaining: 5.5s\n",
      "437:\tlearn: 1781.7728095\ttotal: 38.2s\tremaining: 5.41s\n",
      "438:\tlearn: 1781.5687618\ttotal: 38.3s\tremaining: 5.32s\n",
      "439:\tlearn: 1781.3444086\ttotal: 38.4s\tremaining: 5.24s\n",
      "440:\tlearn: 1781.1130829\ttotal: 38.5s\tremaining: 5.15s\n",
      "441:\tlearn: 1780.9244150\ttotal: 38.6s\tremaining: 5.06s\n",
      "442:\tlearn: 1780.7411527\ttotal: 38.7s\tremaining: 4.98s\n",
      "443:\tlearn: 1780.5258220\ttotal: 38.8s\tremaining: 4.89s\n",
      "444:\tlearn: 1780.3621153\ttotal: 38.9s\tremaining: 4.8s\n",
      "445:\tlearn: 1780.1991349\ttotal: 38.9s\tremaining: 4.71s\n",
      "446:\tlearn: 1780.0309697\ttotal: 39s\tremaining: 4.63s\n",
      "447:\tlearn: 1779.7973501\ttotal: 39.1s\tremaining: 4.54s\n",
      "448:\tlearn: 1779.6753667\ttotal: 39.2s\tremaining: 4.45s\n",
      "449:\tlearn: 1779.4173751\ttotal: 39.3s\tremaining: 4.37s\n",
      "450:\tlearn: 1779.1944975\ttotal: 39.4s\tremaining: 4.28s\n",
      "451:\tlearn: 1779.0587358\ttotal: 39.5s\tremaining: 4.19s\n",
      "452:\tlearn: 1778.9138138\ttotal: 39.6s\tremaining: 4.11s\n",
      "453:\tlearn: 1778.6860953\ttotal: 39.7s\tremaining: 4.02s\n",
      "454:\tlearn: 1778.4098101\ttotal: 39.8s\tremaining: 3.93s\n",
      "455:\tlearn: 1778.3121324\ttotal: 39.8s\tremaining: 3.84s\n",
      "456:\tlearn: 1778.0968735\ttotal: 39.9s\tremaining: 3.75s\n",
      "457:\tlearn: 1777.9502954\ttotal: 40s\tremaining: 3.67s\n",
      "458:\tlearn: 1777.7519560\ttotal: 40.1s\tremaining: 3.58s\n",
      "459:\tlearn: 1777.6038799\ttotal: 40.1s\tremaining: 3.49s\n",
      "460:\tlearn: 1777.4713941\ttotal: 40.2s\tremaining: 3.4s\n",
      "461:\tlearn: 1777.3412819\ttotal: 40.3s\tremaining: 3.31s\n",
      "462:\tlearn: 1777.1163736\ttotal: 40.4s\tremaining: 3.23s\n",
      "463:\tlearn: 1776.9926839\ttotal: 40.4s\tremaining: 3.14s\n",
      "464:\tlearn: 1776.8836148\ttotal: 40.5s\tremaining: 3.05s\n",
      "465:\tlearn: 1776.7413184\ttotal: 40.6s\tremaining: 2.96s\n",
      "466:\tlearn: 1776.5623292\ttotal: 40.7s\tremaining: 2.88s\n",
      "467:\tlearn: 1776.4284870\ttotal: 40.8s\tremaining: 2.79s\n",
      "468:\tlearn: 1776.1615642\ttotal: 40.9s\tremaining: 2.7s\n",
      "469:\tlearn: 1776.0057765\ttotal: 41s\tremaining: 2.62s\n",
      "470:\tlearn: 1775.8479917\ttotal: 41.1s\tremaining: 2.53s\n",
      "471:\tlearn: 1775.5387084\ttotal: 41.2s\tremaining: 2.44s\n",
      "472:\tlearn: 1775.2869079\ttotal: 41.3s\tremaining: 2.35s\n",
      "473:\tlearn: 1775.0987406\ttotal: 41.3s\tremaining: 2.27s\n",
      "474:\tlearn: 1774.9065713\ttotal: 41.4s\tremaining: 2.18s\n",
      "475:\tlearn: 1774.7718018\ttotal: 41.5s\tremaining: 2.09s\n",
      "476:\tlearn: 1774.6330443\ttotal: 41.6s\tremaining: 2.01s\n",
      "477:\tlearn: 1774.4513452\ttotal: 41.7s\tremaining: 1.92s\n",
      "478:\tlearn: 1774.3599453\ttotal: 41.8s\tremaining: 1.83s\n",
      "479:\tlearn: 1774.1946596\ttotal: 41.9s\tremaining: 1.74s\n",
      "480:\tlearn: 1774.0045128\ttotal: 42s\tremaining: 1.66s\n",
      "481:\tlearn: 1773.8657377\ttotal: 42.1s\tremaining: 1.57s\n",
      "482:\tlearn: 1773.7161719\ttotal: 42.1s\tremaining: 1.48s\n",
      "483:\tlearn: 1773.5781509\ttotal: 42.2s\tremaining: 1.4s\n",
      "484:\tlearn: 1773.4426248\ttotal: 42.3s\tremaining: 1.31s\n",
      "485:\tlearn: 1773.2061690\ttotal: 42.4s\tremaining: 1.22s\n",
      "486:\tlearn: 1772.9756877\ttotal: 42.5s\tremaining: 1.13s\n",
      "487:\tlearn: 1772.7337651\ttotal: 42.6s\tremaining: 1.05s\n",
      "488:\tlearn: 1772.6128658\ttotal: 42.7s\tremaining: 960ms\n",
      "489:\tlearn: 1772.5538271\ttotal: 42.7s\tremaining: 872ms\n",
      "490:\tlearn: 1772.3630696\ttotal: 42.8s\tremaining: 785ms\n",
      "491:\tlearn: 1772.2276971\ttotal: 42.9s\tremaining: 698ms\n",
      "492:\tlearn: 1772.0214315\ttotal: 43s\tremaining: 611ms\n",
      "493:\tlearn: 1771.8717457\ttotal: 43.1s\tremaining: 524ms\n",
      "494:\tlearn: 1771.7481987\ttotal: 43.2s\tremaining: 436ms\n",
      "495:\tlearn: 1771.6311723\ttotal: 43.3s\tremaining: 349ms\n",
      "496:\tlearn: 1771.5254192\ttotal: 43.4s\tremaining: 262ms\n",
      "497:\tlearn: 1771.3321504\ttotal: 43.4s\tremaining: 174ms\n",
      "498:\tlearn: 1771.1855953\ttotal: 43.5s\tremaining: 87.2ms\n",
      "499:\tlearn: 1771.0498519\ttotal: 43.6s\tremaining: 0us\n",
      "Лучшие параметры:  {'learning_rate': 0.03, 'iterations': 500, 'depth': 8}\n",
      "Лучшее значение метрики:  1807.9381092167082\n",
      "Wall time: 3min 16s\n"
     ]
    }
   ],
   "source": [
    "%%time\n",
    "param_grid = {\n",
    "    'iterations': [350, 500],\n",
    "    'depth': [5, 8],\n",
    "    'learning_rate': [0.03]\n",
    "}# распределение параметров для подбора\n",
    "cat = CatBoostRegressor(random_state=12345, cat_features=columns_to_ohe)\n",
    "crscv = RandomizedSearchCV(cat, param_grid, cv=2, n_iter=4, scoring='neg_mean_squared_error')# Используем RandomizedSearchCV для перебора по сетке и подбора параметров\n",
    "cat_search = crscv.fit(features_train, target_train)\n",
    "\n",
    "print(\"Лучшие параметры: \", cat_search.best_params_)\n",
    "print(\"Лучшее значение метрики: \", np.sqrt(abs(cat_search.best_score_)))"
   ]
  },
  {
   "cell_type": "code",
   "execution_count": 70,
   "metadata": {
    "ExecuteTime": {
     "end_time": "2023-05-29T20:26:10.726186400Z",
     "start_time": "2023-05-29T20:24:18.081291900Z"
    }
   },
   "outputs": [
    {
     "name": "stdout",
     "output_type": "stream",
     "text": [
      "Training on fold [0/3]\n",
      "0:\tlearn: 6212.9571616\ttest: 6182.1440827\tbest: 6182.1440827 (0)\ttotal: 108ms\tremaining: 54s\n",
      "1:\tlearn: 6056.5375253\ttest: 6027.0840932\tbest: 6027.0840932 (1)\ttotal: 209ms\tremaining: 52.1s\n",
      "2:\tlearn: 5906.5929394\ttest: 5877.4662881\tbest: 5877.4662881 (2)\ttotal: 299ms\tremaining: 49.6s\n",
      "3:\tlearn: 5760.5394350\ttest: 5732.0671920\tbest: 5732.0671920 (3)\ttotal: 394ms\tremaining: 48.9s\n",
      "4:\tlearn: 5620.6970118\ttest: 5592.8605782\tbest: 5592.8605782 (4)\ttotal: 485ms\tremaining: 48s\n",
      "5:\tlearn: 5483.3716117\ttest: 5456.2835213\tbest: 5456.2835213 (5)\ttotal: 577ms\tremaining: 47.5s\n",
      "6:\tlearn: 5352.7806239\ttest: 5325.9167413\tbest: 5325.9167413 (6)\ttotal: 663ms\tremaining: 46.7s\n",
      "7:\tlearn: 5224.9368249\ttest: 5198.4735085\tbest: 5198.4735085 (7)\ttotal: 756ms\tremaining: 46.5s\n",
      "8:\tlearn: 5101.3172052\ttest: 5075.6243927\tbest: 5075.6243927 (8)\ttotal: 853ms\tremaining: 46.5s\n",
      "9:\tlearn: 4982.7586136\ttest: 4957.7965046\tbest: 4957.7965046 (9)\ttotal: 942ms\tremaining: 46.1s\n",
      "10:\tlearn: 4866.9855226\ttest: 4842.6751934\tbest: 4842.6751934 (10)\ttotal: 1.03s\tremaining: 45.8s\n",
      "11:\tlearn: 4754.8571030\ttest: 4730.8136951\tbest: 4730.8136951 (11)\ttotal: 1.13s\tremaining: 46s\n",
      "12:\tlearn: 4646.9293675\ttest: 4623.1720955\tbest: 4623.1720955 (12)\ttotal: 1.23s\tremaining: 46.2s\n",
      "13:\tlearn: 4541.1963879\ttest: 4518.1318699\tbest: 4518.1318699 (13)\ttotal: 1.34s\tremaining: 46.4s\n",
      "14:\tlearn: 4439.3455513\ttest: 4416.8854972\tbest: 4416.8854972 (14)\ttotal: 1.42s\tremaining: 46.1s\n",
      "15:\tlearn: 4340.6870562\ttest: 4318.9669786\tbest: 4318.9669786 (15)\ttotal: 1.51s\tremaining: 45.7s\n",
      "16:\tlearn: 4245.8981551\ttest: 4224.7595554\tbest: 4224.7595554 (16)\ttotal: 1.61s\tremaining: 45.8s\n",
      "17:\tlearn: 4155.6714185\ttest: 4134.9166581\tbest: 4134.9166581 (17)\ttotal: 1.7s\tremaining: 45.5s\n",
      "18:\tlearn: 4068.3741029\ttest: 4048.4241470\tbest: 4048.4241470 (18)\ttotal: 1.79s\tremaining: 45.3s\n",
      "19:\tlearn: 3983.4728186\ttest: 3964.2888790\tbest: 3964.2888790 (19)\ttotal: 1.86s\tremaining: 44.8s\n",
      "20:\tlearn: 3903.0358063\ttest: 3884.2113846\tbest: 3884.2113846 (20)\ttotal: 1.94s\tremaining: 44.3s\n",
      "21:\tlearn: 3824.4341327\ttest: 3806.0754988\tbest: 3806.0754988 (21)\ttotal: 2.02s\tremaining: 43.8s\n",
      "22:\tlearn: 3748.2467477\ttest: 3730.3162108\tbest: 3730.3162108 (22)\ttotal: 2.1s\tremaining: 43.7s\n",
      "23:\tlearn: 3673.8952930\ttest: 3656.7427834\tbest: 3656.7427834 (23)\ttotal: 2.18s\tremaining: 43.3s\n",
      "24:\tlearn: 3603.8018380\ttest: 3587.0592367\tbest: 3587.0592367 (24)\ttotal: 2.26s\tremaining: 43s\n",
      "25:\tlearn: 3535.6302230\ttest: 3519.5496970\tbest: 3519.5496970 (25)\ttotal: 2.35s\tremaining: 42.8s\n",
      "26:\tlearn: 3470.6503628\ttest: 3454.9441968\tbest: 3454.9441968 (26)\ttotal: 2.42s\tremaining: 42.5s\n",
      "27:\tlearn: 3408.0857895\ttest: 3392.9334191\tbest: 3392.9334191 (27)\ttotal: 2.5s\tremaining: 42.1s\n",
      "28:\tlearn: 3346.9370930\ttest: 3332.3678952\tbest: 3332.3678952 (28)\ttotal: 2.58s\tremaining: 42s\n",
      "29:\tlearn: 3289.8059506\ttest: 3275.6183038\tbest: 3275.6183038 (29)\ttotal: 2.66s\tremaining: 41.6s\n",
      "30:\tlearn: 3232.8813767\ttest: 3219.2008179\tbest: 3219.2008179 (30)\ttotal: 2.74s\tremaining: 41.5s\n",
      "31:\tlearn: 3178.2452804\ttest: 3165.1472025\tbest: 3165.1472025 (31)\ttotal: 2.83s\tremaining: 41.4s\n",
      "32:\tlearn: 3126.0116071\ttest: 3113.4518444\tbest: 3113.4518444 (32)\ttotal: 2.91s\tremaining: 41.2s\n",
      "33:\tlearn: 3077.0790089\ttest: 3064.9445178\tbest: 3064.9445178 (33)\ttotal: 2.99s\tremaining: 41s\n",
      "34:\tlearn: 3029.8183798\ttest: 3018.3386673\tbest: 3018.3386673 (34)\ttotal: 3.06s\tremaining: 40.7s\n",
      "35:\tlearn: 2984.2220678\ttest: 2973.1868517\tbest: 2973.1868517 (35)\ttotal: 3.14s\tremaining: 40.5s\n",
      "36:\tlearn: 2939.6196774\ttest: 2929.0111254\tbest: 2929.0111254 (36)\ttotal: 3.21s\tremaining: 40.2s\n",
      "37:\tlearn: 2896.9573669\ttest: 2886.8522729\tbest: 2886.8522729 (37)\ttotal: 3.34s\tremaining: 40.6s\n",
      "38:\tlearn: 2856.9229550\ttest: 2847.1009037\tbest: 2847.1009037 (38)\ttotal: 3.41s\tremaining: 40.4s\n",
      "39:\tlearn: 2817.8407430\ttest: 2808.5001144\tbest: 2808.5001144 (39)\ttotal: 3.5s\tremaining: 40.2s\n",
      "40:\tlearn: 2780.7843549\ttest: 2771.8529434\tbest: 2771.8529434 (40)\ttotal: 3.58s\tremaining: 40.1s\n",
      "41:\tlearn: 2744.8492066\ttest: 2736.5860344\tbest: 2736.5860344 (41)\ttotal: 3.66s\tremaining: 39.9s\n",
      "42:\tlearn: 2709.1452879\ttest: 2701.4448070\tbest: 2701.4448070 (42)\ttotal: 3.74s\tremaining: 39.8s\n",
      "43:\tlearn: 2675.2162090\ttest: 2667.9448401\tbest: 2667.9448401 (43)\ttotal: 3.85s\tremaining: 39.9s\n",
      "44:\tlearn: 2643.2373780\ttest: 2636.4770255\tbest: 2636.4770255 (44)\ttotal: 3.96s\tremaining: 40s\n",
      "45:\tlearn: 2612.5711950\ttest: 2606.3138293\tbest: 2606.3138293 (45)\ttotal: 4.07s\tremaining: 40.1s\n",
      "46:\tlearn: 2583.3657476\ttest: 2577.4283056\tbest: 2577.4283056 (46)\ttotal: 4.16s\tremaining: 40.1s\n",
      "47:\tlearn: 2555.3627357\ttest: 2549.7917241\tbest: 2549.7917241 (47)\ttotal: 4.28s\tremaining: 40.3s\n",
      "48:\tlearn: 2529.0058610\ttest: 2523.8349221\tbest: 2523.8349221 (48)\ttotal: 4.38s\tremaining: 40.3s\n",
      "49:\tlearn: 2504.4746843\ttest: 2499.6809068\tbest: 2499.6809068 (49)\ttotal: 4.48s\tremaining: 40.3s\n",
      "50:\tlearn: 2479.1042806\ttest: 2474.6876051\tbest: 2474.6876051 (50)\ttotal: 4.56s\tremaining: 40.1s\n",
      "51:\tlearn: 2454.0563804\ttest: 2450.1460200\tbest: 2450.1460200 (51)\ttotal: 4.64s\tremaining: 40s\n",
      "52:\tlearn: 2430.9877511\ttest: 2427.5383807\tbest: 2427.5383807 (52)\ttotal: 4.72s\tremaining: 39.8s\n",
      "53:\tlearn: 2408.9211392\ttest: 2405.9269164\tbest: 2405.9269164 (53)\ttotal: 4.79s\tremaining: 39.6s\n",
      "54:\tlearn: 2387.1876466\ttest: 2384.6938289\tbest: 2384.6938289 (54)\ttotal: 4.87s\tremaining: 39.4s\n",
      "55:\tlearn: 2367.9146699\ttest: 2365.6085969\tbest: 2365.6085969 (55)\ttotal: 4.94s\tremaining: 39.2s\n",
      "56:\tlearn: 2348.2911481\ttest: 2346.4353936\tbest: 2346.4353936 (56)\ttotal: 5.02s\tremaining: 39s\n",
      "57:\tlearn: 2329.5028191\ttest: 2327.9530355\tbest: 2327.9530355 (57)\ttotal: 5.1s\tremaining: 38.9s\n",
      "58:\tlearn: 2311.9011618\ttest: 2310.6910704\tbest: 2310.6910704 (58)\ttotal: 5.17s\tremaining: 38.7s\n",
      "59:\tlearn: 2294.9464603\ttest: 2294.1862770\tbest: 2294.1862770 (59)\ttotal: 5.25s\tremaining: 38.5s\n",
      "60:\tlearn: 2278.1139184\ttest: 2277.7997019\tbest: 2277.7997019 (60)\ttotal: 5.33s\tremaining: 38.3s\n",
      "61:\tlearn: 2263.0551918\ttest: 2263.1280281\tbest: 2263.1280281 (61)\ttotal: 5.4s\tremaining: 38.1s\n",
      "62:\tlearn: 2247.8091108\ttest: 2248.1041499\tbest: 2248.1041499 (62)\ttotal: 5.46s\tremaining: 37.9s\n",
      "63:\tlearn: 2233.7654829\ttest: 2234.3089054\tbest: 2234.3089054 (63)\ttotal: 5.56s\tremaining: 37.9s\n",
      "64:\tlearn: 2219.4158984\ttest: 2220.2114365\tbest: 2220.2114365 (64)\ttotal: 5.64s\tremaining: 37.8s\n",
      "65:\tlearn: 2206.3383248\ttest: 2207.3611971\tbest: 2207.3611971 (65)\ttotal: 5.72s\tremaining: 37.6s\n",
      "66:\tlearn: 2194.3782405\ttest: 2195.7309387\tbest: 2195.7309387 (66)\ttotal: 5.79s\tremaining: 37.5s\n",
      "67:\tlearn: 2182.3333825\ttest: 2184.0726164\tbest: 2184.0726164 (67)\ttotal: 5.86s\tremaining: 37.2s\n",
      "68:\tlearn: 2170.1453700\ttest: 2172.2074560\tbest: 2172.2074560 (68)\ttotal: 5.93s\tremaining: 37s\n",
      "69:\tlearn: 2159.0985903\ttest: 2161.4123450\tbest: 2161.4123450 (69)\ttotal: 6.01s\tremaining: 36.9s\n",
      "70:\tlearn: 2148.2870080\ttest: 2150.9239122\tbest: 2150.9239122 (70)\ttotal: 6.08s\tremaining: 36.8s\n",
      "71:\tlearn: 2138.4766303\ttest: 2141.4083037\tbest: 2141.4083037 (71)\ttotal: 6.15s\tremaining: 36.6s\n",
      "72:\tlearn: 2128.8156781\ttest: 2131.9317350\tbest: 2131.9317350 (72)\ttotal: 6.24s\tremaining: 36.5s\n",
      "73:\tlearn: 2119.7571666\ttest: 2123.0903796\tbest: 2123.0903796 (73)\ttotal: 6.33s\tremaining: 36.4s\n",
      "74:\tlearn: 2110.6796155\ttest: 2114.2683513\tbest: 2114.2683513 (74)\ttotal: 6.39s\tremaining: 36.2s\n",
      "75:\tlearn: 2101.5760529\ttest: 2105.4565816\tbest: 2105.4565816 (75)\ttotal: 6.47s\tremaining: 36.1s\n",
      "76:\tlearn: 2093.2075293\ttest: 2097.4021841\tbest: 2097.4021841 (76)\ttotal: 6.55s\tremaining: 36s\n",
      "77:\tlearn: 2085.4967051\ttest: 2089.8344404\tbest: 2089.8344404 (77)\ttotal: 6.63s\tremaining: 35.8s\n",
      "78:\tlearn: 2077.9851681\ttest: 2082.5014778\tbest: 2082.5014778 (78)\ttotal: 6.71s\tremaining: 35.8s\n",
      "79:\tlearn: 2070.8543622\ttest: 2075.6202441\tbest: 2075.6202441 (79)\ttotal: 6.78s\tremaining: 35.6s\n",
      "80:\tlearn: 2063.8144265\ttest: 2068.6889441\tbest: 2068.6889441 (80)\ttotal: 6.84s\tremaining: 35.4s\n",
      "81:\tlearn: 2056.7686876\ttest: 2061.9765460\tbest: 2061.9765460 (81)\ttotal: 6.91s\tremaining: 35.2s\n",
      "82:\tlearn: 2050.2052131\ttest: 2055.7756668\tbest: 2055.7756668 (82)\ttotal: 6.99s\tremaining: 35.1s\n",
      "83:\tlearn: 2044.4047785\ttest: 2050.0790557\tbest: 2050.0790557 (83)\ttotal: 7.06s\tremaining: 35s\n",
      "84:\tlearn: 2038.1750779\ttest: 2044.0155333\tbest: 2044.0155333 (84)\ttotal: 7.13s\tremaining: 34.8s\n",
      "85:\tlearn: 2032.6539597\ttest: 2038.6560519\tbest: 2038.6560519 (85)\ttotal: 7.22s\tremaining: 34.8s\n",
      "86:\tlearn: 2027.3947676\ttest: 2033.5607232\tbest: 2033.5607232 (86)\ttotal: 7.3s\tremaining: 34.6s\n",
      "87:\tlearn: 2022.2399019\ttest: 2028.5008803\tbest: 2028.5008803 (87)\ttotal: 7.39s\tremaining: 34.6s\n",
      "88:\tlearn: 2017.3807915\ttest: 2023.8174658\tbest: 2023.8174658 (88)\ttotal: 7.44s\tremaining: 34.4s\n",
      "89:\tlearn: 2012.8298426\ttest: 2019.3824491\tbest: 2019.3824491 (89)\ttotal: 7.49s\tremaining: 34.1s\n",
      "90:\tlearn: 2008.1507360\ttest: 2014.8809162\tbest: 2014.8809162 (90)\ttotal: 7.57s\tremaining: 34s\n",
      "91:\tlearn: 2003.5869439\ttest: 2010.4795341\tbest: 2010.4795341 (91)\ttotal: 7.64s\tremaining: 33.9s\n",
      "92:\tlearn: 1999.3212059\ttest: 2006.3108531\tbest: 2006.3108531 (92)\ttotal: 7.71s\tremaining: 33.7s\n",
      "93:\tlearn: 1994.8931070\ttest: 2002.0669142\tbest: 2002.0669142 (93)\ttotal: 7.77s\tremaining: 33.6s\n",
      "94:\tlearn: 1990.7211717\ttest: 1998.0926671\tbest: 1998.0926671 (94)\ttotal: 7.85s\tremaining: 33.5s\n",
      "95:\tlearn: 1986.9120902\ttest: 1994.4365046\tbest: 1994.4365046 (95)\ttotal: 7.94s\tremaining: 33.4s\n",
      "96:\tlearn: 1983.6383042\ttest: 1991.2532323\tbest: 1991.2532323 (96)\ttotal: 8.01s\tremaining: 33.3s\n",
      "97:\tlearn: 1979.2995735\ttest: 1986.9619116\tbest: 1986.9619116 (97)\ttotal: 8.06s\tremaining: 33.1s\n",
      "98:\tlearn: 1975.7591324\ttest: 1983.5307726\tbest: 1983.5307726 (98)\ttotal: 8.14s\tremaining: 33s\n",
      "99:\tlearn: 1972.3966381\ttest: 1980.4826878\tbest: 1980.4826878 (99)\ttotal: 8.22s\tremaining: 32.9s\n",
      "100:\tlearn: 1968.9855407\ttest: 1977.1081324\tbest: 1977.1081324 (100)\ttotal: 8.28s\tremaining: 32.7s\n",
      "101:\tlearn: 1965.7554843\ttest: 1974.1864106\tbest: 1974.1864106 (101)\ttotal: 8.36s\tremaining: 32.6s\n",
      "102:\tlearn: 1962.7467121\ttest: 1971.4458180\tbest: 1971.4458180 (102)\ttotal: 8.44s\tremaining: 32.5s\n",
      "103:\tlearn: 1959.8804863\ttest: 1968.7064888\tbest: 1968.7064888 (103)\ttotal: 8.52s\tremaining: 32.4s\n",
      "104:\tlearn: 1957.2306937\ttest: 1966.1200598\tbest: 1966.1200598 (104)\ttotal: 8.6s\tremaining: 32.4s\n",
      "105:\tlearn: 1954.5357310\ttest: 1963.5636280\tbest: 1963.5636280 (105)\ttotal: 8.68s\tremaining: 32.3s\n",
      "106:\tlearn: 1951.9473203\ttest: 1961.1761476\tbest: 1961.1761476 (106)\ttotal: 8.74s\tremaining: 32.1s\n",
      "107:\tlearn: 1949.5561489\ttest: 1958.9269294\tbest: 1958.9269294 (107)\ttotal: 8.82s\tremaining: 32s\n",
      "108:\tlearn: 1947.2477896\ttest: 1956.7999658\tbest: 1956.7999658 (108)\ttotal: 8.91s\tremaining: 32s\n",
      "109:\tlearn: 1944.8528253\ttest: 1954.5513430\tbest: 1954.5513430 (109)\ttotal: 8.97s\tremaining: 31.8s\n",
      "110:\tlearn: 1942.4065311\ttest: 1952.2380934\tbest: 1952.2380934 (110)\ttotal: 9.07s\tremaining: 31.8s\n",
      "111:\tlearn: 1940.2151545\ttest: 1950.0540869\tbest: 1950.0540869 (111)\ttotal: 9.14s\tremaining: 31.7s\n",
      "112:\tlearn: 1937.8590160\ttest: 1947.8832354\tbest: 1947.8832354 (112)\ttotal: 9.22s\tremaining: 31.6s\n",
      "113:\tlearn: 1935.3929390\ttest: 1945.6075803\tbest: 1945.6075803 (113)\ttotal: 9.31s\tremaining: 31.5s\n",
      "114:\tlearn: 1932.7992402\ttest: 1943.0188644\tbest: 1943.0188644 (114)\ttotal: 9.37s\tremaining: 31.4s\n",
      "115:\tlearn: 1930.5085347\ttest: 1940.7889061\tbest: 1940.7889061 (115)\ttotal: 9.45s\tremaining: 31.3s\n",
      "116:\tlearn: 1928.2318718\ttest: 1938.6657564\tbest: 1938.6657564 (116)\ttotal: 9.53s\tremaining: 31.2s\n",
      "117:\tlearn: 1926.1338044\ttest: 1936.7057879\tbest: 1936.7057879 (117)\ttotal: 9.59s\tremaining: 31.1s\n",
      "118:\tlearn: 1924.4948377\ttest: 1935.0852956\tbest: 1935.0852956 (118)\ttotal: 9.67s\tremaining: 31s\n",
      "119:\tlearn: 1922.8454652\ttest: 1933.5407140\tbest: 1933.5407140 (119)\ttotal: 9.72s\tremaining: 30.8s\n",
      "120:\tlearn: 1921.1659297\ttest: 1931.9217529\tbest: 1931.9217529 (120)\ttotal: 9.79s\tremaining: 30.7s\n",
      "121:\tlearn: 1919.5083764\ttest: 1930.5024579\tbest: 1930.5024579 (121)\ttotal: 9.87s\tremaining: 30.6s\n",
      "122:\tlearn: 1917.7808891\ttest: 1928.8720541\tbest: 1928.8720541 (122)\ttotal: 9.96s\tremaining: 30.5s\n",
      "123:\tlearn: 1916.4113316\ttest: 1927.5812464\tbest: 1927.5812464 (123)\ttotal: 10s\tremaining: 30.4s\n",
      "124:\tlearn: 1914.7214218\ttest: 1926.0320683\tbest: 1926.0320683 (124)\ttotal: 10.1s\tremaining: 30.3s\n",
      "125:\tlearn: 1913.1821487\ttest: 1924.5559291\tbest: 1924.5559291 (125)\ttotal: 10.2s\tremaining: 30.2s\n",
      "126:\tlearn: 1911.6697100\ttest: 1923.1761534\tbest: 1923.1761534 (126)\ttotal: 10.3s\tremaining: 30.1s\n",
      "127:\tlearn: 1910.2199326\ttest: 1921.8465727\tbest: 1921.8465727 (127)\ttotal: 10.3s\tremaining: 30.1s\n",
      "128:\tlearn: 1908.9194670\ttest: 1920.6403799\tbest: 1920.6403799 (128)\ttotal: 10.4s\tremaining: 29.9s\n",
      "129:\tlearn: 1907.3153336\ttest: 1919.1547309\tbest: 1919.1547309 (129)\ttotal: 10.5s\tremaining: 29.8s\n",
      "130:\tlearn: 1906.2058863\ttest: 1918.0723052\tbest: 1918.0723052 (130)\ttotal: 10.5s\tremaining: 29.7s\n",
      "131:\tlearn: 1904.2141266\ttest: 1916.2721852\tbest: 1916.2721852 (131)\ttotal: 10.6s\tremaining: 29.6s\n",
      "132:\tlearn: 1903.0922560\ttest: 1915.1902128\tbest: 1915.1902128 (132)\ttotal: 10.7s\tremaining: 29.4s\n",
      "133:\tlearn: 1901.2730792\ttest: 1913.5570951\tbest: 1913.5570951 (133)\ttotal: 10.7s\tremaining: 29.3s\n",
      "134:\tlearn: 1899.5014103\ttest: 1912.0359449\tbest: 1912.0359449 (134)\ttotal: 10.8s\tremaining: 29.2s\n",
      "135:\tlearn: 1898.1484227\ttest: 1910.8342422\tbest: 1910.8342422 (135)\ttotal: 10.9s\tremaining: 29.1s\n",
      "136:\tlearn: 1897.0471226\ttest: 1909.7706778\tbest: 1909.7706778 (136)\ttotal: 10.9s\tremaining: 29s\n",
      "137:\tlearn: 1895.3468498\ttest: 1908.1594803\tbest: 1908.1594803 (137)\ttotal: 11s\tremaining: 28.9s\n",
      "138:\tlearn: 1894.3352522\ttest: 1907.1903166\tbest: 1907.1903166 (138)\ttotal: 11s\tremaining: 28.7s\n",
      "139:\tlearn: 1893.3222606\ttest: 1906.2767446\tbest: 1906.2767446 (139)\ttotal: 11.1s\tremaining: 28.6s\n",
      "140:\tlearn: 1891.9954428\ttest: 1905.0924235\tbest: 1905.0924235 (140)\ttotal: 11.2s\tremaining: 28.5s\n",
      "141:\tlearn: 1890.8338406\ttest: 1903.9240312\tbest: 1903.9240312 (141)\ttotal: 11.3s\tremaining: 28.4s\n",
      "142:\tlearn: 1889.7260675\ttest: 1902.9434532\tbest: 1902.9434532 (142)\ttotal: 11.3s\tremaining: 28.3s\n",
      "143:\tlearn: 1888.7381699\ttest: 1902.0153003\tbest: 1902.0153003 (143)\ttotal: 11.4s\tremaining: 28.2s\n",
      "144:\tlearn: 1887.7813392\ttest: 1901.1763904\tbest: 1901.1763904 (144)\ttotal: 11.5s\tremaining: 28.1s\n",
      "145:\tlearn: 1886.4929506\ttest: 1900.2554503\tbest: 1900.2554503 (145)\ttotal: 11.5s\tremaining: 28s\n",
      "146:\tlearn: 1885.6092195\ttest: 1899.4946814\tbest: 1899.4946814 (146)\ttotal: 11.6s\tremaining: 27.9s\n",
      "147:\tlearn: 1884.7833298\ttest: 1898.6908581\tbest: 1898.6908581 (147)\ttotal: 11.7s\tremaining: 27.8s\n",
      "148:\tlearn: 1884.0248670\ttest: 1897.9777447\tbest: 1897.9777447 (148)\ttotal: 11.7s\tremaining: 27.7s\n",
      "149:\tlearn: 1883.1258649\ttest: 1897.1579376\tbest: 1897.1579376 (149)\ttotal: 11.8s\tremaining: 27.5s\n",
      "150:\tlearn: 1882.0023994\ttest: 1896.0887269\tbest: 1896.0887269 (150)\ttotal: 11.9s\tremaining: 27.5s\n",
      "151:\tlearn: 1881.0608238\ttest: 1895.2989668\tbest: 1895.2989668 (151)\ttotal: 11.9s\tremaining: 27.3s\n",
      "152:\tlearn: 1880.0262909\ttest: 1894.3556275\tbest: 1894.3556275 (152)\ttotal: 12s\tremaining: 27.3s\n",
      "153:\tlearn: 1879.3887424\ttest: 1893.7817715\tbest: 1893.7817715 (153)\ttotal: 12.1s\tremaining: 27.2s\n",
      "154:\tlearn: 1878.4369963\ttest: 1892.8878332\tbest: 1892.8878332 (154)\ttotal: 12.2s\tremaining: 27.1s\n",
      "155:\tlearn: 1877.3799884\ttest: 1891.9811534\tbest: 1891.9811534 (155)\ttotal: 12.2s\tremaining: 27s\n",
      "156:\tlearn: 1876.6373800\ttest: 1891.3589778\tbest: 1891.3589778 (156)\ttotal: 12.3s\tremaining: 26.9s\n",
      "157:\tlearn: 1875.9082201\ttest: 1890.7520365\tbest: 1890.7520365 (157)\ttotal: 12.4s\tremaining: 26.7s\n",
      "158:\tlearn: 1874.9624191\ttest: 1889.8075481\tbest: 1889.8075481 (158)\ttotal: 12.4s\tremaining: 26.6s\n",
      "159:\tlearn: 1874.2957967\ttest: 1889.2122051\tbest: 1889.2122051 (159)\ttotal: 12.5s\tremaining: 26.5s\n",
      "160:\tlearn: 1873.2599842\ttest: 1888.2848982\tbest: 1888.2848982 (160)\ttotal: 12.6s\tremaining: 26.5s\n",
      "161:\tlearn: 1872.4150951\ttest: 1887.4493866\tbest: 1887.4493866 (161)\ttotal: 12.6s\tremaining: 26.3s\n",
      "162:\tlearn: 1871.7024932\ttest: 1886.8555732\tbest: 1886.8555732 (162)\ttotal: 12.7s\tremaining: 26.2s\n",
      "163:\tlearn: 1870.8182188\ttest: 1886.0975422\tbest: 1886.0975422 (163)\ttotal: 12.8s\tremaining: 26.1s\n",
      "164:\tlearn: 1870.1150595\ttest: 1885.4475770\tbest: 1885.4475770 (164)\ttotal: 12.8s\tremaining: 26s\n",
      "165:\tlearn: 1869.5104974\ttest: 1884.9046712\tbest: 1884.9046712 (165)\ttotal: 12.9s\tremaining: 25.9s\n",
      "166:\tlearn: 1868.8201214\ttest: 1884.3153338\tbest: 1884.3153338 (166)\ttotal: 13s\tremaining: 25.8s\n",
      "167:\tlearn: 1867.9521394\ttest: 1883.5651723\tbest: 1883.5651723 (167)\ttotal: 13s\tremaining: 25.7s\n",
      "168:\tlearn: 1867.3123287\ttest: 1883.0800961\tbest: 1883.0800961 (168)\ttotal: 13.1s\tremaining: 25.7s\n",
      "169:\tlearn: 1866.6182920\ttest: 1882.4937808\tbest: 1882.4937808 (169)\ttotal: 13.2s\tremaining: 25.6s\n",
      "170:\tlearn: 1866.0986221\ttest: 1882.0425086\tbest: 1882.0425086 (170)\ttotal: 13.2s\tremaining: 25.5s\n",
      "171:\tlearn: 1865.4779891\ttest: 1881.5262012\tbest: 1881.5262012 (171)\ttotal: 13.3s\tremaining: 25.4s\n",
      "172:\tlearn: 1864.7845381\ttest: 1881.0140473\tbest: 1881.0140473 (172)\ttotal: 13.4s\tremaining: 25.3s\n",
      "173:\tlearn: 1864.1832853\ttest: 1880.5293327\tbest: 1880.5293327 (173)\ttotal: 13.4s\tremaining: 25.2s\n",
      "174:\tlearn: 1863.5502228\ttest: 1879.9229758\tbest: 1879.9229758 (174)\ttotal: 13.5s\tremaining: 25.1s\n",
      "175:\tlearn: 1862.9388950\ttest: 1879.4342734\tbest: 1879.4342734 (175)\ttotal: 13.6s\tremaining: 25s\n",
      "176:\tlearn: 1862.2509454\ttest: 1878.9551583\tbest: 1878.9551583 (176)\ttotal: 13.7s\tremaining: 25s\n",
      "177:\tlearn: 1861.8062918\ttest: 1878.6052917\tbest: 1878.6052917 (177)\ttotal: 13.7s\tremaining: 24.9s\n",
      "178:\tlearn: 1861.2036097\ttest: 1878.0265037\tbest: 1878.0265037 (178)\ttotal: 13.8s\tremaining: 24.8s\n",
      "179:\tlearn: 1860.7487367\ttest: 1877.6575363\tbest: 1877.6575363 (179)\ttotal: 13.9s\tremaining: 24.7s\n",
      "180:\tlearn: 1860.1557371\ttest: 1877.0817499\tbest: 1877.0817499 (180)\ttotal: 14s\tremaining: 24.6s\n",
      "181:\tlearn: 1859.6977187\ttest: 1876.6445980\tbest: 1876.6445980 (181)\ttotal: 14s\tremaining: 24.5s\n",
      "182:\tlearn: 1858.9812812\ttest: 1876.1176576\tbest: 1876.1176576 (182)\ttotal: 14.1s\tremaining: 24.5s\n",
      "183:\tlearn: 1858.4827625\ttest: 1875.7684427\tbest: 1875.7684427 (183)\ttotal: 14.2s\tremaining: 24.4s\n",
      "184:\tlearn: 1857.9782801\ttest: 1875.2981380\tbest: 1875.2981380 (184)\ttotal: 14.3s\tremaining: 24.3s\n",
      "185:\tlearn: 1857.3826263\ttest: 1874.8122090\tbest: 1874.8122090 (185)\ttotal: 14.3s\tremaining: 24.2s\n",
      "186:\tlearn: 1856.7421532\ttest: 1874.3346146\tbest: 1874.3346146 (186)\ttotal: 14.4s\tremaining: 24.1s\n",
      "187:\tlearn: 1856.2313458\ttest: 1873.9673852\tbest: 1873.9673852 (187)\ttotal: 14.5s\tremaining: 24s\n",
      "188:\tlearn: 1855.6855930\ttest: 1873.4455485\tbest: 1873.4455485 (188)\ttotal: 14.6s\tremaining: 24s\n",
      "189:\tlearn: 1855.1702976\ttest: 1873.0230107\tbest: 1873.0230107 (189)\ttotal: 14.6s\tremaining: 23.9s\n",
      "190:\tlearn: 1854.4675623\ttest: 1872.4792485\tbest: 1872.4792485 (190)\ttotal: 14.7s\tremaining: 23.8s\n",
      "191:\tlearn: 1854.1086254\ttest: 1872.1669766\tbest: 1872.1669766 (191)\ttotal: 14.8s\tremaining: 23.7s\n",
      "192:\tlearn: 1853.6040680\ttest: 1871.7690748\tbest: 1871.7690748 (192)\ttotal: 14.9s\tremaining: 23.7s\n",
      "193:\tlearn: 1852.9908726\ttest: 1871.2035876\tbest: 1871.2035876 (193)\ttotal: 14.9s\tremaining: 23.5s\n",
      "194:\tlearn: 1852.4369034\ttest: 1870.7558152\tbest: 1870.7558152 (194)\ttotal: 15s\tremaining: 23.5s\n",
      "195:\tlearn: 1851.9034107\ttest: 1870.3582840\tbest: 1870.3582840 (195)\ttotal: 15.1s\tremaining: 23.4s\n",
      "196:\tlearn: 1851.1763931\ttest: 1869.8242997\tbest: 1869.8242997 (196)\ttotal: 15.2s\tremaining: 23.3s\n",
      "197:\tlearn: 1850.7700409\ttest: 1869.5044245\tbest: 1869.5044245 (197)\ttotal: 15.2s\tremaining: 23.2s\n",
      "198:\tlearn: 1850.4146257\ttest: 1869.1986088\tbest: 1869.1986088 (198)\ttotal: 15.3s\tremaining: 23.1s\n",
      "199:\tlearn: 1849.9204588\ttest: 1868.7527727\tbest: 1868.7527727 (199)\ttotal: 15.4s\tremaining: 23s\n",
      "200:\tlearn: 1849.4635345\ttest: 1868.3662152\tbest: 1868.3662152 (200)\ttotal: 15.4s\tremaining: 23s\n",
      "201:\tlearn: 1848.9893427\ttest: 1867.9904233\tbest: 1867.9904233 (201)\ttotal: 15.5s\tremaining: 22.9s\n",
      "202:\tlearn: 1848.3738893\ttest: 1867.4118820\tbest: 1867.4118820 (202)\ttotal: 15.6s\tremaining: 22.8s\n",
      "203:\tlearn: 1848.0015005\ttest: 1867.1054269\tbest: 1867.1054269 (203)\ttotal: 15.7s\tremaining: 22.7s\n",
      "204:\tlearn: 1847.6234723\ttest: 1866.8583688\tbest: 1866.8583688 (204)\ttotal: 15.7s\tremaining: 22.7s\n",
      "205:\tlearn: 1846.9215439\ttest: 1866.1906036\tbest: 1866.1906036 (205)\ttotal: 15.8s\tremaining: 22.6s\n",
      "206:\tlearn: 1846.6033741\ttest: 1865.9621870\tbest: 1865.9621870 (206)\ttotal: 15.9s\tremaining: 22.5s\n",
      "207:\tlearn: 1846.0528046\ttest: 1865.4985291\tbest: 1865.4985291 (207)\ttotal: 15.9s\tremaining: 22.4s\n",
      "208:\tlearn: 1845.4056907\ttest: 1864.9314136\tbest: 1864.9314136 (208)\ttotal: 16s\tremaining: 22.3s\n",
      "209:\tlearn: 1844.7323479\ttest: 1864.4619286\tbest: 1864.4619286 (209)\ttotal: 16.1s\tremaining: 22.2s\n",
      "210:\tlearn: 1844.3091645\ttest: 1864.1299287\tbest: 1864.1299287 (210)\ttotal: 16.2s\tremaining: 22.1s\n",
      "211:\tlearn: 1843.8645906\ttest: 1863.7687884\tbest: 1863.7687884 (211)\ttotal: 16.2s\tremaining: 22.1s\n",
      "212:\tlearn: 1843.4276804\ttest: 1863.4400593\tbest: 1863.4400593 (212)\ttotal: 16.3s\tremaining: 22s\n",
      "213:\tlearn: 1842.9789107\ttest: 1863.0521637\tbest: 1863.0521637 (213)\ttotal: 16.4s\tremaining: 21.9s\n",
      "214:\tlearn: 1842.1644337\ttest: 1862.3594642\tbest: 1862.3594642 (214)\ttotal: 16.4s\tremaining: 21.8s\n",
      "215:\tlearn: 1841.8218075\ttest: 1862.0930999\tbest: 1862.0930999 (215)\ttotal: 16.5s\tremaining: 21.7s\n",
      "216:\tlearn: 1841.4304158\ttest: 1861.8206619\tbest: 1861.8206619 (216)\ttotal: 16.6s\tremaining: 21.6s\n",
      "217:\tlearn: 1841.2017947\ttest: 1861.6462231\tbest: 1861.6462231 (217)\ttotal: 16.6s\tremaining: 21.5s\n",
      "218:\tlearn: 1840.3115760\ttest: 1860.9475509\tbest: 1860.9475509 (218)\ttotal: 16.7s\tremaining: 21.4s\n",
      "219:\tlearn: 1840.0065218\ttest: 1860.6902316\tbest: 1860.6902316 (219)\ttotal: 16.8s\tremaining: 21.4s\n",
      "220:\tlearn: 1839.7312930\ttest: 1860.4340404\tbest: 1860.4340404 (220)\ttotal: 16.9s\tremaining: 21.3s\n",
      "221:\tlearn: 1839.2199795\ttest: 1859.9939745\tbest: 1859.9939745 (221)\ttotal: 16.9s\tremaining: 21.2s\n",
      "222:\tlearn: 1838.7133352\ttest: 1859.6166054\tbest: 1859.6166054 (222)\ttotal: 17s\tremaining: 21.1s\n",
      "223:\tlearn: 1838.3977336\ttest: 1859.3430975\tbest: 1859.3430975 (223)\ttotal: 17s\tremaining: 21s\n",
      "224:\tlearn: 1838.0055693\ttest: 1859.0290751\tbest: 1859.0290751 (224)\ttotal: 17.1s\tremaining: 20.9s\n",
      "225:\tlearn: 1837.6820535\ttest: 1858.7775156\tbest: 1858.7775156 (225)\ttotal: 17.2s\tremaining: 20.8s\n",
      "226:\tlearn: 1837.3028210\ttest: 1858.4411317\tbest: 1858.4411317 (226)\ttotal: 17.2s\tremaining: 20.7s\n",
      "227:\tlearn: 1836.6826087\ttest: 1857.9032541\tbest: 1857.9032541 (227)\ttotal: 17.3s\tremaining: 20.6s\n",
      "228:\tlearn: 1836.1716951\ttest: 1857.4484044\tbest: 1857.4484044 (228)\ttotal: 17.4s\tremaining: 20.6s\n",
      "229:\tlearn: 1835.5261566\ttest: 1856.8916965\tbest: 1856.8916965 (229)\ttotal: 17.4s\tremaining: 20.5s\n",
      "230:\tlearn: 1835.0542565\ttest: 1856.5527182\tbest: 1856.5527182 (230)\ttotal: 17.5s\tremaining: 20.4s\n",
      "231:\tlearn: 1834.6483526\ttest: 1856.1602547\tbest: 1856.1602547 (231)\ttotal: 17.6s\tremaining: 20.3s\n",
      "232:\tlearn: 1833.9632667\ttest: 1855.5293328\tbest: 1855.5293328 (232)\ttotal: 17.6s\tremaining: 20.2s\n",
      "233:\tlearn: 1833.7146571\ttest: 1855.3120305\tbest: 1855.3120305 (233)\ttotal: 17.7s\tremaining: 20.1s\n",
      "234:\tlearn: 1833.1475078\ttest: 1854.9512391\tbest: 1854.9512391 (234)\ttotal: 17.8s\tremaining: 20.1s\n",
      "235:\tlearn: 1832.6140766\ttest: 1854.4788395\tbest: 1854.4788395 (235)\ttotal: 17.8s\tremaining: 20s\n",
      "236:\tlearn: 1832.2818905\ttest: 1854.2130640\tbest: 1854.2130640 (236)\ttotal: 17.9s\tremaining: 19.9s\n",
      "237:\tlearn: 1831.8907431\ttest: 1853.9063804\tbest: 1853.9063804 (237)\ttotal: 18s\tremaining: 19.8s\n",
      "238:\tlearn: 1831.6576969\ttest: 1853.7613904\tbest: 1853.7613904 (238)\ttotal: 18s\tremaining: 19.7s\n",
      "239:\tlearn: 1831.1364829\ttest: 1853.2820506\tbest: 1853.2820506 (239)\ttotal: 18.1s\tremaining: 19.6s\n",
      "240:\tlearn: 1830.7826676\ttest: 1852.9435934\tbest: 1852.9435934 (240)\ttotal: 18.2s\tremaining: 19.5s\n",
      "241:\tlearn: 1830.3324815\ttest: 1852.5976543\tbest: 1852.5976543 (241)\ttotal: 18.2s\tremaining: 19.4s\n",
      "242:\tlearn: 1829.8664729\ttest: 1852.2466519\tbest: 1852.2466519 (242)\ttotal: 18.3s\tremaining: 19.3s\n",
      "243:\tlearn: 1829.6142218\ttest: 1852.0484190\tbest: 1852.0484190 (243)\ttotal: 18.4s\tremaining: 19.3s\n",
      "244:\tlearn: 1829.2489261\ttest: 1851.8164969\tbest: 1851.8164969 (244)\ttotal: 18.5s\tremaining: 19.2s\n",
      "245:\tlearn: 1828.7962794\ttest: 1851.4159544\tbest: 1851.4159544 (245)\ttotal: 18.5s\tremaining: 19.1s\n",
      "246:\tlearn: 1828.3553627\ttest: 1851.0578783\tbest: 1851.0578783 (246)\ttotal: 18.6s\tremaining: 19s\n",
      "247:\tlearn: 1828.0313211\ttest: 1850.8550068\tbest: 1850.8550068 (247)\ttotal: 18.7s\tremaining: 19s\n",
      "248:\tlearn: 1827.5476343\ttest: 1850.3920614\tbest: 1850.3920614 (248)\ttotal: 18.8s\tremaining: 18.9s\n",
      "249:\tlearn: 1827.1813700\ttest: 1850.1596469\tbest: 1850.1596469 (249)\ttotal: 18.8s\tremaining: 18.8s\n",
      "250:\tlearn: 1826.8154047\ttest: 1849.8529809\tbest: 1849.8529809 (250)\ttotal: 18.9s\tremaining: 18.8s\n",
      "251:\tlearn: 1826.2115567\ttest: 1849.3661031\tbest: 1849.3661031 (251)\ttotal: 19s\tremaining: 18.7s\n",
      "252:\tlearn: 1825.7965062\ttest: 1848.9876599\tbest: 1848.9876599 (252)\ttotal: 19s\tremaining: 18.6s\n",
      "253:\tlearn: 1825.5689162\ttest: 1848.8269013\tbest: 1848.8269013 (253)\ttotal: 19.1s\tremaining: 18.5s\n",
      "254:\tlearn: 1825.2706034\ttest: 1848.6107587\tbest: 1848.6107587 (254)\ttotal: 19.2s\tremaining: 18.4s\n",
      "255:\tlearn: 1824.5996817\ttest: 1848.1258374\tbest: 1848.1258374 (255)\ttotal: 19.3s\tremaining: 18.4s\n",
      "256:\tlearn: 1824.3439861\ttest: 1847.9465373\tbest: 1847.9465373 (256)\ttotal: 19.3s\tremaining: 18.3s\n",
      "257:\tlearn: 1824.0097028\ttest: 1847.7142465\tbest: 1847.7142465 (257)\ttotal: 19.4s\tremaining: 18.2s\n",
      "258:\tlearn: 1823.7727034\ttest: 1847.5783478\tbest: 1847.5783478 (258)\ttotal: 19.5s\tremaining: 18.1s\n",
      "259:\tlearn: 1823.3397290\ttest: 1847.3326641\tbest: 1847.3326641 (259)\ttotal: 19.6s\tremaining: 18.1s\n",
      "260:\tlearn: 1823.0106627\ttest: 1847.0977759\tbest: 1847.0977759 (260)\ttotal: 19.6s\tremaining: 18s\n",
      "261:\tlearn: 1822.5965196\ttest: 1846.8797634\tbest: 1846.8797634 (261)\ttotal: 19.7s\tremaining: 17.9s\n",
      "262:\tlearn: 1822.3642250\ttest: 1846.7316443\tbest: 1846.7316443 (262)\ttotal: 19.7s\tremaining: 17.8s\n",
      "263:\tlearn: 1822.0063421\ttest: 1846.4449923\tbest: 1846.4449923 (263)\ttotal: 19.8s\tremaining: 17.7s\n",
      "264:\tlearn: 1821.8723310\ttest: 1846.3701674\tbest: 1846.3701674 (264)\ttotal: 19.9s\tremaining: 17.6s\n",
      "265:\tlearn: 1821.4379092\ttest: 1846.0147696\tbest: 1846.0147696 (265)\ttotal: 20s\tremaining: 17.6s\n",
      "266:\tlearn: 1821.1008316\ttest: 1845.7522510\tbest: 1845.7522510 (266)\ttotal: 20s\tremaining: 17.5s\n",
      "267:\tlearn: 1820.8456764\ttest: 1845.5643991\tbest: 1845.5643991 (267)\ttotal: 20.1s\tremaining: 17.4s\n",
      "268:\tlearn: 1820.4855849\ttest: 1845.2627318\tbest: 1845.2627318 (268)\ttotal: 20.2s\tremaining: 17.3s\n",
      "269:\tlearn: 1820.2450922\ttest: 1845.0911240\tbest: 1845.0911240 (269)\ttotal: 20.2s\tremaining: 17.2s\n",
      "270:\tlearn: 1819.9432077\ttest: 1844.8987168\tbest: 1844.8987168 (270)\ttotal: 20.3s\tremaining: 17.2s\n",
      "271:\tlearn: 1819.7168640\ttest: 1844.7181925\tbest: 1844.7181925 (271)\ttotal: 20.4s\tremaining: 17.1s\n",
      "272:\tlearn: 1819.4373085\ttest: 1844.5567220\tbest: 1844.5567220 (272)\ttotal: 20.5s\tremaining: 17s\n",
      "273:\tlearn: 1819.1554666\ttest: 1844.3103540\tbest: 1844.3103540 (273)\ttotal: 20.5s\tremaining: 16.9s\n",
      "274:\tlearn: 1818.9186958\ttest: 1844.1615521\tbest: 1844.1615521 (274)\ttotal: 20.6s\tremaining: 16.9s\n",
      "275:\tlearn: 1818.5675948\ttest: 1843.8847608\tbest: 1843.8847608 (275)\ttotal: 20.7s\tremaining: 16.8s\n",
      "276:\tlearn: 1818.3223890\ttest: 1843.6856328\tbest: 1843.6856328 (276)\ttotal: 20.8s\tremaining: 16.7s\n",
      "277:\tlearn: 1817.8734344\ttest: 1843.2361887\tbest: 1843.2361887 (277)\ttotal: 20.8s\tremaining: 16.6s\n",
      "278:\tlearn: 1817.6161247\ttest: 1843.0921932\tbest: 1843.0921932 (278)\ttotal: 20.9s\tremaining: 16.6s\n",
      "279:\tlearn: 1817.2402106\ttest: 1842.8333469\tbest: 1842.8333469 (279)\ttotal: 21s\tremaining: 16.5s\n",
      "280:\tlearn: 1816.9769993\ttest: 1842.6454710\tbest: 1842.6454710 (280)\ttotal: 21s\tremaining: 16.4s\n",
      "281:\tlearn: 1816.7069400\ttest: 1842.4186288\tbest: 1842.4186288 (281)\ttotal: 21.1s\tremaining: 16.3s\n",
      "282:\tlearn: 1816.2474448\ttest: 1842.0795456\tbest: 1842.0795456 (282)\ttotal: 21.2s\tremaining: 16.2s\n",
      "283:\tlearn: 1816.0257776\ttest: 1841.8760702\tbest: 1841.8760702 (283)\ttotal: 21.2s\tremaining: 16.2s\n",
      "284:\tlearn: 1815.7750351\ttest: 1841.7410342\tbest: 1841.7410342 (284)\ttotal: 21.3s\tremaining: 16.1s\n",
      "285:\tlearn: 1815.3825917\ttest: 1841.4336906\tbest: 1841.4336906 (285)\ttotal: 21.4s\tremaining: 16s\n",
      "286:\tlearn: 1814.9845574\ttest: 1841.1322305\tbest: 1841.1322305 (286)\ttotal: 21.5s\tremaining: 15.9s\n",
      "287:\tlearn: 1814.6976137\ttest: 1840.8670453\tbest: 1840.8670453 (287)\ttotal: 21.6s\tremaining: 15.9s\n",
      "288:\tlearn: 1814.5142302\ttest: 1840.7324124\tbest: 1840.7324124 (288)\ttotal: 21.6s\tremaining: 15.8s\n",
      "289:\tlearn: 1814.2033087\ttest: 1840.4923648\tbest: 1840.4923648 (289)\ttotal: 21.7s\tremaining: 15.7s\n",
      "290:\tlearn: 1813.9370062\ttest: 1840.2670063\tbest: 1840.2670063 (290)\ttotal: 21.8s\tremaining: 15.7s\n",
      "291:\tlearn: 1813.7214491\ttest: 1840.1136596\tbest: 1840.1136596 (291)\ttotal: 21.9s\tremaining: 15.6s\n",
      "292:\tlearn: 1813.3025767\ttest: 1839.8211064\tbest: 1839.8211064 (292)\ttotal: 21.9s\tremaining: 15.5s\n",
      "293:\tlearn: 1812.8290852\ttest: 1839.4321712\tbest: 1839.4321712 (293)\ttotal: 22s\tremaining: 15.4s\n",
      "294:\tlearn: 1812.3129493\ttest: 1839.0533563\tbest: 1839.0533563 (294)\ttotal: 22.1s\tremaining: 15.3s\n",
      "295:\tlearn: 1812.1715230\ttest: 1838.9869007\tbest: 1838.9869007 (295)\ttotal: 22.1s\tremaining: 15.3s\n",
      "296:\tlearn: 1811.6709028\ttest: 1838.6270577\tbest: 1838.6270577 (296)\ttotal: 22.2s\tremaining: 15.2s\n",
      "297:\tlearn: 1811.1706211\ttest: 1838.2124152\tbest: 1838.2124152 (297)\ttotal: 22.3s\tremaining: 15.1s\n",
      "298:\tlearn: 1810.8327456\ttest: 1837.9997802\tbest: 1837.9997802 (298)\ttotal: 22.3s\tremaining: 15s\n",
      "299:\tlearn: 1810.3527483\ttest: 1837.5456655\tbest: 1837.5456655 (299)\ttotal: 22.4s\tremaining: 14.9s\n",
      "300:\tlearn: 1809.9532014\ttest: 1837.2216606\tbest: 1837.2216606 (300)\ttotal: 22.5s\tremaining: 14.9s\n",
      "301:\tlearn: 1809.6629775\ttest: 1836.9986270\tbest: 1836.9986270 (301)\ttotal: 22.6s\tremaining: 14.8s\n",
      "302:\tlearn: 1809.1340208\ttest: 1836.5807468\tbest: 1836.5807468 (302)\ttotal: 22.7s\tremaining: 14.7s\n",
      "303:\tlearn: 1808.9632293\ttest: 1836.4790762\tbest: 1836.4790762 (303)\ttotal: 22.7s\tremaining: 14.7s\n",
      "304:\tlearn: 1808.5669264\ttest: 1836.2273669\tbest: 1836.2273669 (304)\ttotal: 22.8s\tremaining: 14.6s\n",
      "305:\tlearn: 1808.1339402\ttest: 1835.8912488\tbest: 1835.8912488 (305)\ttotal: 22.9s\tremaining: 14.5s\n",
      "306:\tlearn: 1807.7311468\ttest: 1835.6401416\tbest: 1835.6401416 (306)\ttotal: 23s\tremaining: 14.4s\n",
      "307:\tlearn: 1807.4225103\ttest: 1835.4461998\tbest: 1835.4461998 (307)\ttotal: 23s\tremaining: 14.4s\n",
      "308:\tlearn: 1806.9841360\ttest: 1835.1236561\tbest: 1835.1236561 (308)\ttotal: 23.1s\tremaining: 14.3s\n",
      "309:\tlearn: 1806.7120136\ttest: 1834.9438534\tbest: 1834.9438534 (309)\ttotal: 23.1s\tremaining: 14.2s\n",
      "310:\tlearn: 1806.5004718\ttest: 1834.8424505\tbest: 1834.8424505 (310)\ttotal: 23.2s\tremaining: 14.1s\n",
      "311:\tlearn: 1806.0307524\ttest: 1834.5887955\tbest: 1834.5887955 (311)\ttotal: 23.3s\tremaining: 14s\n",
      "312:\tlearn: 1805.7949465\ttest: 1834.3933248\tbest: 1834.3933248 (312)\ttotal: 23.4s\tremaining: 14s\n",
      "313:\tlearn: 1805.6245072\ttest: 1834.2779794\tbest: 1834.2779794 (313)\ttotal: 23.4s\tremaining: 13.9s\n",
      "314:\tlearn: 1805.5243247\ttest: 1834.1820636\tbest: 1834.1820636 (314)\ttotal: 23.5s\tremaining: 13.8s\n",
      "315:\tlearn: 1805.0661794\ttest: 1833.7892044\tbest: 1833.7892044 (315)\ttotal: 23.6s\tremaining: 13.7s\n",
      "316:\tlearn: 1804.8372755\ttest: 1833.6124941\tbest: 1833.6124941 (316)\ttotal: 23.7s\tremaining: 13.7s\n",
      "317:\tlearn: 1804.6302033\ttest: 1833.4833012\tbest: 1833.4833012 (317)\ttotal: 23.7s\tremaining: 13.6s\n",
      "318:\tlearn: 1804.3230898\ttest: 1833.2052205\tbest: 1833.2052205 (318)\ttotal: 23.8s\tremaining: 13.5s\n",
      "319:\tlearn: 1804.0951632\ttest: 1833.0369877\tbest: 1833.0369877 (319)\ttotal: 23.9s\tremaining: 13.4s\n",
      "320:\tlearn: 1803.6623097\ttest: 1832.6699736\tbest: 1832.6699736 (320)\ttotal: 23.9s\tremaining: 13.4s\n",
      "321:\tlearn: 1803.4444506\ttest: 1832.5788276\tbest: 1832.5788276 (321)\ttotal: 24s\tremaining: 13.3s\n",
      "322:\tlearn: 1803.2055793\ttest: 1832.3921863\tbest: 1832.3921863 (322)\ttotal: 24.1s\tremaining: 13.2s\n",
      "323:\tlearn: 1802.8724734\ttest: 1832.1111021\tbest: 1832.1111021 (323)\ttotal: 24.2s\tremaining: 13.1s\n",
      "324:\tlearn: 1802.7356976\ttest: 1832.0452870\tbest: 1832.0452870 (324)\ttotal: 24.3s\tremaining: 13.1s\n",
      "325:\tlearn: 1802.4334880\ttest: 1831.7696651\tbest: 1831.7696651 (325)\ttotal: 24.3s\tremaining: 13s\n",
      "326:\tlearn: 1802.2442433\ttest: 1831.6021823\tbest: 1831.6021823 (326)\ttotal: 24.4s\tremaining: 12.9s\n",
      "327:\tlearn: 1802.0013507\ttest: 1831.4418648\tbest: 1831.4418648 (327)\ttotal: 24.5s\tremaining: 12.8s\n",
      "328:\tlearn: 1801.7574498\ttest: 1831.2371377\tbest: 1831.2371377 (328)\ttotal: 24.6s\tremaining: 12.8s\n",
      "329:\tlearn: 1801.4672811\ttest: 1831.0526871\tbest: 1831.0526871 (329)\ttotal: 24.6s\tremaining: 12.7s\n",
      "330:\tlearn: 1801.1916578\ttest: 1830.8083852\tbest: 1830.8083852 (330)\ttotal: 24.7s\tremaining: 12.6s\n",
      "331:\tlearn: 1800.9271543\ttest: 1830.5842069\tbest: 1830.5842069 (331)\ttotal: 24.8s\tremaining: 12.5s\n",
      "332:\tlearn: 1800.6155190\ttest: 1830.4004044\tbest: 1830.4004044 (332)\ttotal: 24.9s\tremaining: 12.5s\n",
      "333:\tlearn: 1800.3385856\ttest: 1830.2146999\tbest: 1830.2146999 (333)\ttotal: 25s\tremaining: 12.4s\n",
      "334:\tlearn: 1799.8994173\ttest: 1829.8850135\tbest: 1829.8850135 (334)\ttotal: 25s\tremaining: 12.3s\n",
      "335:\tlearn: 1799.7684100\ttest: 1829.8067420\tbest: 1829.8067420 (335)\ttotal: 25.1s\tremaining: 12.2s\n",
      "336:\tlearn: 1799.4313868\ttest: 1829.5893017\tbest: 1829.5893017 (336)\ttotal: 25.2s\tremaining: 12.2s\n",
      "337:\tlearn: 1799.2418227\ttest: 1829.4694066\tbest: 1829.4694066 (337)\ttotal: 25.2s\tremaining: 12.1s\n",
      "338:\tlearn: 1799.0315099\ttest: 1829.2918698\tbest: 1829.2918698 (338)\ttotal: 25.3s\tremaining: 12s\n",
      "339:\tlearn: 1798.7806715\ttest: 1829.1515586\tbest: 1829.1515586 (339)\ttotal: 25.4s\tremaining: 12s\n",
      "340:\tlearn: 1798.6018506\ttest: 1829.0545997\tbest: 1829.0545997 (340)\ttotal: 25.5s\tremaining: 11.9s\n",
      "341:\tlearn: 1798.2362359\ttest: 1828.7551944\tbest: 1828.7551944 (341)\ttotal: 25.5s\tremaining: 11.8s\n",
      "342:\tlearn: 1797.9333894\ttest: 1828.5128854\tbest: 1828.5128854 (342)\ttotal: 25.6s\tremaining: 11.7s\n",
      "343:\tlearn: 1797.7369240\ttest: 1828.3601076\tbest: 1828.3601076 (343)\ttotal: 25.7s\tremaining: 11.6s\n",
      "344:\tlearn: 1797.5528132\ttest: 1828.2794089\tbest: 1828.2794089 (344)\ttotal: 25.7s\tremaining: 11.6s\n",
      "345:\tlearn: 1797.2814579\ttest: 1828.1011718\tbest: 1828.1011718 (345)\ttotal: 25.8s\tremaining: 11.5s\n",
      "346:\tlearn: 1796.9584173\ttest: 1827.8434479\tbest: 1827.8434479 (346)\ttotal: 25.9s\tremaining: 11.4s\n",
      "347:\tlearn: 1796.6971754\ttest: 1827.6539699\tbest: 1827.6539699 (347)\ttotal: 26s\tremaining: 11.3s\n",
      "348:\tlearn: 1796.5516017\ttest: 1827.4761735\tbest: 1827.4761735 (348)\ttotal: 26s\tremaining: 11.3s\n",
      "349:\tlearn: 1796.3438766\ttest: 1827.4046728\tbest: 1827.4046728 (349)\ttotal: 26.1s\tremaining: 11.2s\n",
      "350:\tlearn: 1796.1802078\ttest: 1827.2822309\tbest: 1827.2822309 (350)\ttotal: 26.2s\tremaining: 11.1s\n",
      "351:\tlearn: 1795.8783299\ttest: 1827.0450059\tbest: 1827.0450059 (351)\ttotal: 26.2s\tremaining: 11s\n",
      "352:\tlearn: 1795.5371494\ttest: 1826.7643198\tbest: 1826.7643198 (352)\ttotal: 26.3s\tremaining: 11s\n",
      "353:\tlearn: 1795.3431415\ttest: 1826.6876080\tbest: 1826.6876080 (353)\ttotal: 26.4s\tremaining: 10.9s\n",
      "354:\tlearn: 1795.0499771\ttest: 1826.4145371\tbest: 1826.4145371 (354)\ttotal: 26.5s\tremaining: 10.8s\n",
      "355:\tlearn: 1794.8487959\ttest: 1826.2567324\tbest: 1826.2567324 (355)\ttotal: 26.5s\tremaining: 10.7s\n",
      "356:\tlearn: 1794.5773086\ttest: 1826.0070187\tbest: 1826.0070187 (356)\ttotal: 26.6s\tremaining: 10.7s\n",
      "357:\tlearn: 1794.2518346\ttest: 1825.7681196\tbest: 1825.7681196 (357)\ttotal: 26.7s\tremaining: 10.6s\n",
      "358:\tlearn: 1794.0194343\ttest: 1825.6035226\tbest: 1825.6035226 (358)\ttotal: 26.7s\tremaining: 10.5s\n",
      "359:\tlearn: 1793.8069417\ttest: 1825.5112586\tbest: 1825.5112586 (359)\ttotal: 26.8s\tremaining: 10.4s\n",
      "360:\tlearn: 1793.4892494\ttest: 1825.3113681\tbest: 1825.3113681 (360)\ttotal: 26.9s\tremaining: 10.3s\n",
      "361:\tlearn: 1793.3914724\ttest: 1825.2457670\tbest: 1825.2457670 (361)\ttotal: 26.9s\tremaining: 10.3s\n",
      "362:\tlearn: 1793.2389011\ttest: 1825.1446042\tbest: 1825.1446042 (362)\ttotal: 27s\tremaining: 10.2s\n",
      "363:\tlearn: 1793.0306411\ttest: 1824.9882614\tbest: 1824.9882614 (363)\ttotal: 27.1s\tremaining: 10.1s\n",
      "364:\tlearn: 1792.8350317\ttest: 1824.8797741\tbest: 1824.8797741 (364)\ttotal: 27.1s\tremaining: 10s\n",
      "365:\tlearn: 1792.4984927\ttest: 1824.6706248\tbest: 1824.6706248 (365)\ttotal: 27.2s\tremaining: 9.96s\n",
      "366:\tlearn: 1792.3631526\ttest: 1824.5855928\tbest: 1824.5855928 (366)\ttotal: 27.3s\tremaining: 9.88s\n",
      "367:\tlearn: 1792.1393850\ttest: 1824.3887788\tbest: 1824.3887788 (367)\ttotal: 27.3s\tremaining: 9.8s\n",
      "368:\tlearn: 1791.7516502\ttest: 1824.0949857\tbest: 1824.0949857 (368)\ttotal: 27.4s\tremaining: 9.73s\n",
      "369:\tlearn: 1791.5563160\ttest: 1823.9864188\tbest: 1823.9864188 (369)\ttotal: 27.5s\tremaining: 9.66s\n",
      "370:\tlearn: 1791.3275490\ttest: 1823.8607365\tbest: 1823.8607365 (370)\ttotal: 27.6s\tremaining: 9.58s\n",
      "371:\tlearn: 1791.1015635\ttest: 1823.6751778\tbest: 1823.6751778 (371)\ttotal: 27.6s\tremaining: 9.51s\n",
      "372:\tlearn: 1790.8291933\ttest: 1823.4315027\tbest: 1823.4315027 (372)\ttotal: 27.7s\tremaining: 9.43s\n",
      "373:\tlearn: 1790.6483545\ttest: 1823.3870710\tbest: 1823.3870710 (373)\ttotal: 27.7s\tremaining: 9.35s\n",
      "374:\tlearn: 1790.4877878\ttest: 1823.2616880\tbest: 1823.2616880 (374)\ttotal: 27.8s\tremaining: 9.27s\n",
      "375:\tlearn: 1790.3771043\ttest: 1823.1948912\tbest: 1823.1948912 (375)\ttotal: 27.9s\tremaining: 9.19s\n",
      "376:\tlearn: 1790.0587957\ttest: 1822.9039143\tbest: 1822.9039143 (376)\ttotal: 28s\tremaining: 9.12s\n",
      "377:\tlearn: 1789.7962359\ttest: 1822.7228746\tbest: 1822.7228746 (377)\ttotal: 28s\tremaining: 9.05s\n",
      "378:\tlearn: 1789.5610497\ttest: 1822.5582852\tbest: 1822.5582852 (378)\ttotal: 28.1s\tremaining: 8.97s\n",
      "379:\tlearn: 1789.3443213\ttest: 1822.4801105\tbest: 1822.4801105 (379)\ttotal: 28.2s\tremaining: 8.9s\n",
      "380:\tlearn: 1789.1438462\ttest: 1822.3559774\tbest: 1822.3559774 (380)\ttotal: 28.2s\tremaining: 8.82s\n",
      "381:\tlearn: 1789.0104586\ttest: 1822.2886455\tbest: 1822.2886455 (381)\ttotal: 28.3s\tremaining: 8.75s\n",
      "382:\tlearn: 1788.7894525\ttest: 1822.1795470\tbest: 1822.1795470 (382)\ttotal: 28.4s\tremaining: 8.67s\n",
      "383:\tlearn: 1788.4992760\ttest: 1821.9796753\tbest: 1821.9796753 (383)\ttotal: 28.4s\tremaining: 8.59s\n",
      "384:\tlearn: 1788.1506860\ttest: 1821.7221732\tbest: 1821.7221732 (384)\ttotal: 28.5s\tremaining: 8.52s\n",
      "385:\tlearn: 1787.8804323\ttest: 1821.5428260\tbest: 1821.5428260 (385)\ttotal: 28.6s\tremaining: 8.45s\n",
      "386:\tlearn: 1787.6185559\ttest: 1821.4380707\tbest: 1821.4380707 (386)\ttotal: 28.7s\tremaining: 8.37s\n",
      "387:\tlearn: 1787.3006369\ttest: 1821.1162384\tbest: 1821.1162384 (387)\ttotal: 28.7s\tremaining: 8.3s\n",
      "388:\tlearn: 1787.0278230\ttest: 1820.8537510\tbest: 1820.8537510 (388)\ttotal: 28.8s\tremaining: 8.22s\n",
      "389:\tlearn: 1786.8427430\ttest: 1820.7185762\tbest: 1820.7185762 (389)\ttotal: 28.9s\tremaining: 8.15s\n",
      "390:\tlearn: 1786.5386947\ttest: 1820.5330485\tbest: 1820.5330485 (390)\ttotal: 29s\tremaining: 8.07s\n",
      "391:\tlearn: 1786.3536565\ttest: 1820.4638947\tbest: 1820.4638947 (391)\ttotal: 29s\tremaining: 8s\n",
      "392:\tlearn: 1786.1409841\ttest: 1820.3688222\tbest: 1820.3688222 (392)\ttotal: 29.1s\tremaining: 7.92s\n",
      "393:\tlearn: 1785.9052938\ttest: 1820.2212928\tbest: 1820.2212928 (393)\ttotal: 29.2s\tremaining: 7.85s\n",
      "394:\tlearn: 1785.6436061\ttest: 1820.0624916\tbest: 1820.0624916 (394)\ttotal: 29.3s\tremaining: 7.78s\n",
      "395:\tlearn: 1785.4201765\ttest: 1819.8896718\tbest: 1819.8896718 (395)\ttotal: 29.3s\tremaining: 7.7s\n",
      "396:\tlearn: 1785.0630504\ttest: 1819.5978734\tbest: 1819.5978734 (396)\ttotal: 29.4s\tremaining: 7.63s\n",
      "397:\tlearn: 1784.7492718\ttest: 1819.3977951\tbest: 1819.3977951 (397)\ttotal: 29.5s\tremaining: 7.56s\n",
      "398:\tlearn: 1784.4762679\ttest: 1819.2498220\tbest: 1819.2498220 (398)\ttotal: 29.6s\tremaining: 7.48s\n",
      "399:\tlearn: 1784.2293640\ttest: 1819.0792831\tbest: 1819.0792831 (399)\ttotal: 29.6s\tremaining: 7.41s\n",
      "400:\tlearn: 1784.0190005\ttest: 1818.9956666\tbest: 1818.9956666 (400)\ttotal: 29.7s\tremaining: 7.34s\n",
      "401:\tlearn: 1783.8060534\ttest: 1818.9181233\tbest: 1818.9181233 (401)\ttotal: 29.8s\tremaining: 7.26s\n",
      "402:\tlearn: 1783.5216851\ttest: 1818.7206450\tbest: 1818.7206450 (402)\ttotal: 29.9s\tremaining: 7.19s\n",
      "403:\tlearn: 1783.2215596\ttest: 1818.4804241\tbest: 1818.4804241 (403)\ttotal: 29.9s\tremaining: 7.11s\n",
      "404:\tlearn: 1783.0550592\ttest: 1818.3784726\tbest: 1818.3784726 (404)\ttotal: 30s\tremaining: 7.03s\n",
      "405:\tlearn: 1782.8673637\ttest: 1818.2168183\tbest: 1818.2168183 (405)\ttotal: 30.1s\tremaining: 6.96s\n",
      "406:\tlearn: 1782.6041942\ttest: 1818.0364125\tbest: 1818.0364125 (406)\ttotal: 30.1s\tremaining: 6.89s\n",
      "407:\tlearn: 1782.4043023\ttest: 1817.8521013\tbest: 1817.8521013 (407)\ttotal: 30.2s\tremaining: 6.81s\n",
      "408:\tlearn: 1782.1603478\ttest: 1817.6826237\tbest: 1817.6826237 (408)\ttotal: 30.3s\tremaining: 6.74s\n",
      "409:\tlearn: 1781.9965649\ttest: 1817.6181399\tbest: 1817.6181399 (409)\ttotal: 30.3s\tremaining: 6.66s\n",
      "410:\tlearn: 1781.8258608\ttest: 1817.5128870\tbest: 1817.5128870 (410)\ttotal: 30.4s\tremaining: 6.58s\n",
      "411:\tlearn: 1781.6128937\ttest: 1817.3477921\tbest: 1817.3477921 (411)\ttotal: 30.5s\tremaining: 6.51s\n",
      "412:\tlearn: 1781.2725745\ttest: 1817.0466096\tbest: 1817.0466096 (412)\ttotal: 30.6s\tremaining: 6.44s\n",
      "413:\tlearn: 1781.1059504\ttest: 1816.9904017\tbest: 1816.9904017 (413)\ttotal: 30.6s\tremaining: 6.37s\n",
      "414:\tlearn: 1780.8386669\ttest: 1816.8026956\tbest: 1816.8026956 (414)\ttotal: 30.7s\tremaining: 6.29s\n",
      "415:\tlearn: 1780.4897485\ttest: 1816.5173362\tbest: 1816.5173362 (415)\ttotal: 30.8s\tremaining: 6.22s\n",
      "416:\tlearn: 1780.3587738\ttest: 1816.3996791\tbest: 1816.3996791 (416)\ttotal: 30.9s\tremaining: 6.15s\n",
      "417:\tlearn: 1780.0786795\ttest: 1816.1953659\tbest: 1816.1953659 (417)\ttotal: 31s\tremaining: 6.08s\n",
      "418:\tlearn: 1779.8813327\ttest: 1816.0659160\tbest: 1816.0659160 (418)\ttotal: 31.1s\tremaining: 6.01s\n",
      "419:\tlearn: 1779.7925740\ttest: 1816.0104525\tbest: 1816.0104525 (419)\ttotal: 31.1s\tremaining: 5.93s\n",
      "420:\tlearn: 1779.5985796\ttest: 1815.7743388\tbest: 1815.7743388 (420)\ttotal: 31.2s\tremaining: 5.86s\n",
      "421:\tlearn: 1779.3591368\ttest: 1815.6241428\tbest: 1815.6241428 (421)\ttotal: 31.3s\tremaining: 5.79s\n",
      "422:\tlearn: 1779.0633862\ttest: 1815.4627569\tbest: 1815.4627569 (422)\ttotal: 31.4s\tremaining: 5.71s\n",
      "423:\tlearn: 1778.8708437\ttest: 1815.3414781\tbest: 1815.3414781 (423)\ttotal: 31.5s\tremaining: 5.64s\n",
      "424:\tlearn: 1778.6418218\ttest: 1815.2286345\tbest: 1815.2286345 (424)\ttotal: 31.5s\tremaining: 5.57s\n",
      "425:\tlearn: 1778.4378349\ttest: 1815.0895145\tbest: 1815.0895145 (425)\ttotal: 31.6s\tremaining: 5.49s\n",
      "426:\tlearn: 1778.1707002\ttest: 1814.8795763\tbest: 1814.8795763 (426)\ttotal: 31.7s\tremaining: 5.42s\n",
      "427:\tlearn: 1777.9029629\ttest: 1814.7313035\tbest: 1814.7313035 (427)\ttotal: 31.8s\tremaining: 5.35s\n",
      "428:\tlearn: 1777.7304789\ttest: 1814.6151365\tbest: 1814.6151365 (428)\ttotal: 31.9s\tremaining: 5.27s\n",
      "429:\tlearn: 1777.5740518\ttest: 1814.5132197\tbest: 1814.5132197 (429)\ttotal: 31.9s\tremaining: 5.2s\n",
      "430:\tlearn: 1777.3263213\ttest: 1814.3242328\tbest: 1814.3242328 (430)\ttotal: 32s\tremaining: 5.13s\n",
      "431:\tlearn: 1777.2186854\ttest: 1814.2811343\tbest: 1814.2811343 (431)\ttotal: 32.1s\tremaining: 5.05s\n",
      "432:\tlearn: 1776.9501991\ttest: 1814.1276742\tbest: 1814.1276742 (432)\ttotal: 32.2s\tremaining: 4.98s\n",
      "433:\tlearn: 1776.7580022\ttest: 1813.9787548\tbest: 1813.9787548 (433)\ttotal: 32.3s\tremaining: 4.91s\n",
      "434:\tlearn: 1776.5686735\ttest: 1813.8739539\tbest: 1813.8739539 (434)\ttotal: 32.3s\tremaining: 4.83s\n",
      "435:\tlearn: 1776.3834519\ttest: 1813.7702079\tbest: 1813.7702079 (435)\ttotal: 32.4s\tremaining: 4.76s\n",
      "436:\tlearn: 1776.1777059\ttest: 1813.5575008\tbest: 1813.5575008 (436)\ttotal: 32.5s\tremaining: 4.69s\n",
      "437:\tlearn: 1776.0587161\ttest: 1813.4858633\tbest: 1813.4858633 (437)\ttotal: 32.6s\tremaining: 4.61s\n",
      "438:\tlearn: 1775.9047047\ttest: 1813.3839642\tbest: 1813.3839642 (438)\ttotal: 32.7s\tremaining: 4.54s\n",
      "439:\tlearn: 1775.7453421\ttest: 1813.2632488\tbest: 1813.2632488 (439)\ttotal: 32.7s\tremaining: 4.46s\n",
      "440:\tlearn: 1775.6337359\ttest: 1813.1965433\tbest: 1813.1965433 (440)\ttotal: 32.8s\tremaining: 4.39s\n",
      "441:\tlearn: 1775.4763200\ttest: 1813.0862350\tbest: 1813.0862350 (441)\ttotal: 32.9s\tremaining: 4.32s\n",
      "442:\tlearn: 1775.2571990\ttest: 1812.9786386\tbest: 1812.9786386 (442)\ttotal: 33s\tremaining: 4.25s\n",
      "443:\tlearn: 1775.0942072\ttest: 1812.8514791\tbest: 1812.8514791 (443)\ttotal: 33.1s\tremaining: 4.17s\n",
      "444:\tlearn: 1774.7889064\ttest: 1812.6506246\tbest: 1812.6506246 (444)\ttotal: 33.2s\tremaining: 4.1s\n",
      "445:\tlearn: 1774.6620553\ttest: 1812.5396553\tbest: 1812.5396553 (445)\ttotal: 33.3s\tremaining: 4.03s\n",
      "446:\tlearn: 1774.3633340\ttest: 1812.2860066\tbest: 1812.2860066 (446)\ttotal: 33.3s\tremaining: 3.95s\n",
      "447:\tlearn: 1774.2188348\ttest: 1812.1541147\tbest: 1812.1541147 (447)\ttotal: 33.4s\tremaining: 3.88s\n",
      "448:\tlearn: 1774.0333654\ttest: 1811.9762459\tbest: 1811.9762459 (448)\ttotal: 33.5s\tremaining: 3.8s\n",
      "449:\tlearn: 1773.8711800\ttest: 1811.8590385\tbest: 1811.8590385 (449)\ttotal: 33.6s\tremaining: 3.73s\n",
      "450:\tlearn: 1773.6757314\ttest: 1811.7407155\tbest: 1811.7407155 (450)\ttotal: 33.6s\tremaining: 3.65s\n",
      "451:\tlearn: 1773.4850648\ttest: 1811.6088528\tbest: 1811.6088528 (451)\ttotal: 33.7s\tremaining: 3.58s\n",
      "452:\tlearn: 1773.3519279\ttest: 1811.5360141\tbest: 1811.5360141 (452)\ttotal: 33.8s\tremaining: 3.5s\n",
      "453:\tlearn: 1773.1865752\ttest: 1811.3983036\tbest: 1811.3983036 (453)\ttotal: 33.9s\tremaining: 3.43s\n",
      "454:\tlearn: 1773.0820841\ttest: 1811.3265999\tbest: 1811.3265999 (454)\ttotal: 33.9s\tremaining: 3.35s\n",
      "455:\tlearn: 1772.8918259\ttest: 1811.2288282\tbest: 1811.2288282 (455)\ttotal: 34s\tremaining: 3.28s\n",
      "456:\tlearn: 1772.6685754\ttest: 1811.0386590\tbest: 1811.0386590 (456)\ttotal: 34.1s\tremaining: 3.2s\n",
      "457:\tlearn: 1772.6053797\ttest: 1811.0209284\tbest: 1811.0209284 (457)\ttotal: 34.1s\tremaining: 3.13s\n",
      "458:\tlearn: 1772.5102797\ttest: 1810.9553506\tbest: 1810.9553506 (458)\ttotal: 34.2s\tremaining: 3.06s\n",
      "459:\tlearn: 1772.2773859\ttest: 1810.7794344\tbest: 1810.7794344 (459)\ttotal: 34.3s\tremaining: 2.98s\n",
      "460:\tlearn: 1772.0784200\ttest: 1810.5616854\tbest: 1810.5616854 (460)\ttotal: 34.4s\tremaining: 2.91s\n",
      "461:\tlearn: 1771.9030005\ttest: 1810.4566618\tbest: 1810.4566618 (461)\ttotal: 34.4s\tremaining: 2.83s\n",
      "462:\tlearn: 1771.7177112\ttest: 1810.3573801\tbest: 1810.3573801 (462)\ttotal: 34.5s\tremaining: 2.76s\n",
      "463:\tlearn: 1771.5969730\ttest: 1810.3242478\tbest: 1810.3242478 (463)\ttotal: 34.6s\tremaining: 2.68s\n",
      "464:\tlearn: 1771.4083382\ttest: 1810.2083498\tbest: 1810.2083498 (464)\ttotal: 34.7s\tremaining: 2.61s\n",
      "465:\tlearn: 1771.2664567\ttest: 1810.1213516\tbest: 1810.1213516 (465)\ttotal: 34.7s\tremaining: 2.53s\n",
      "466:\tlearn: 1771.1848592\ttest: 1810.0732071\tbest: 1810.0732071 (466)\ttotal: 34.8s\tremaining: 2.46s\n",
      "467:\tlearn: 1771.0307766\ttest: 1809.9522997\tbest: 1809.9522997 (467)\ttotal: 34.9s\tremaining: 2.38s\n",
      "468:\tlearn: 1770.8946583\ttest: 1809.8771204\tbest: 1809.8771204 (468)\ttotal: 35s\tremaining: 2.31s\n",
      "469:\tlearn: 1770.6978032\ttest: 1809.7298200\tbest: 1809.7298200 (469)\ttotal: 35s\tremaining: 2.23s\n",
      "470:\tlearn: 1770.5404657\ttest: 1809.6357495\tbest: 1809.6357495 (470)\ttotal: 35.1s\tremaining: 2.16s\n",
      "471:\tlearn: 1770.4045143\ttest: 1809.5449808\tbest: 1809.5449808 (471)\ttotal: 35.2s\tremaining: 2.09s\n",
      "472:\tlearn: 1770.2656232\ttest: 1809.4722232\tbest: 1809.4722232 (472)\ttotal: 35.2s\tremaining: 2.01s\n",
      "473:\tlearn: 1770.1002905\ttest: 1809.3273887\tbest: 1809.3273887 (473)\ttotal: 35.3s\tremaining: 1.94s\n",
      "474:\tlearn: 1769.8969394\ttest: 1809.1871191\tbest: 1809.1871191 (474)\ttotal: 35.4s\tremaining: 1.86s\n",
      "475:\tlearn: 1769.6119470\ttest: 1808.9457885\tbest: 1808.9457885 (475)\ttotal: 35.5s\tremaining: 1.79s\n",
      "476:\tlearn: 1769.4200432\ttest: 1808.7834294\tbest: 1808.7834294 (476)\ttotal: 35.5s\tremaining: 1.71s\n",
      "477:\tlearn: 1769.1523106\ttest: 1808.5884928\tbest: 1808.5884928 (477)\ttotal: 35.6s\tremaining: 1.64s\n",
      "478:\tlearn: 1768.9102500\ttest: 1808.4447117\tbest: 1808.4447117 (478)\ttotal: 35.7s\tremaining: 1.56s\n",
      "479:\tlearn: 1768.7711275\ttest: 1808.4274875\tbest: 1808.4274875 (479)\ttotal: 35.8s\tremaining: 1.49s\n",
      "480:\tlearn: 1768.6075772\ttest: 1808.2899958\tbest: 1808.2899958 (480)\ttotal: 35.9s\tremaining: 1.42s\n",
      "481:\tlearn: 1768.4737886\ttest: 1808.2080460\tbest: 1808.2080460 (481)\ttotal: 35.9s\tremaining: 1.34s\n",
      "482:\tlearn: 1768.2289936\ttest: 1807.9888020\tbest: 1807.9888020 (482)\ttotal: 36s\tremaining: 1.27s\n",
      "483:\tlearn: 1768.0038388\ttest: 1807.8488916\tbest: 1807.8488916 (483)\ttotal: 36.1s\tremaining: 1.19s\n",
      "484:\tlearn: 1767.7730220\ttest: 1807.6670005\tbest: 1807.6670005 (484)\ttotal: 36.2s\tremaining: 1.12s\n",
      "485:\tlearn: 1767.5321374\ttest: 1807.4537246\tbest: 1807.4537246 (485)\ttotal: 36.3s\tremaining: 1.04s\n",
      "486:\tlearn: 1767.3067323\ttest: 1807.3212815\tbest: 1807.3212815 (486)\ttotal: 36.3s\tremaining: 970ms\n",
      "487:\tlearn: 1767.2070831\ttest: 1807.2751190\tbest: 1807.2751190 (487)\ttotal: 36.4s\tremaining: 895ms\n",
      "488:\tlearn: 1767.0841210\ttest: 1807.2125339\tbest: 1807.2125339 (488)\ttotal: 36.5s\tremaining: 820ms\n",
      "489:\tlearn: 1767.0084956\ttest: 1807.1548253\tbest: 1807.1548253 (489)\ttotal: 36.5s\tremaining: 746ms\n",
      "490:\tlearn: 1766.8294036\ttest: 1807.0515547\tbest: 1807.0515547 (490)\ttotal: 36.6s\tremaining: 671ms\n",
      "491:\tlearn: 1766.6276375\ttest: 1806.8673966\tbest: 1806.8673966 (491)\ttotal: 36.7s\tremaining: 596ms\n",
      "492:\tlearn: 1766.4900804\ttest: 1806.8118687\tbest: 1806.8118687 (492)\ttotal: 36.8s\tremaining: 522ms\n",
      "493:\tlearn: 1766.2959041\ttest: 1806.6466397\tbest: 1806.6466397 (493)\ttotal: 36.8s\tremaining: 447ms\n",
      "494:\tlearn: 1766.0795274\ttest: 1806.5139406\tbest: 1806.5139406 (494)\ttotal: 36.9s\tremaining: 373ms\n",
      "495:\tlearn: 1765.8213424\ttest: 1806.2962555\tbest: 1806.2962555 (495)\ttotal: 37s\tremaining: 298ms\n",
      "496:\tlearn: 1765.6782632\ttest: 1806.2188312\tbest: 1806.2188312 (496)\ttotal: 37s\tremaining: 224ms\n",
      "497:\tlearn: 1765.6047826\ttest: 1806.2040919\tbest: 1806.2040919 (497)\ttotal: 37.1s\tremaining: 149ms\n",
      "498:\tlearn: 1765.3784177\ttest: 1805.9918344\tbest: 1805.9918344 (498)\ttotal: 37.2s\tremaining: 74.5ms\n",
      "499:\tlearn: 1765.2009234\ttest: 1805.8835644\tbest: 1805.8835644 (499)\ttotal: 37.3s\tremaining: 0us\n",
      "\n",
      "bestTest = 1805.883564\n",
      "bestIteration = 499\n",
      "\n",
      "Training on fold [1/3]\n",
      "0:\tlearn: 6183.8088492\ttest: 6241.9807189\tbest: 6241.9807189 (0)\ttotal: 98.2ms\tremaining: 49s\n",
      "1:\tlearn: 6028.1633040\ttest: 6084.8836702\tbest: 6084.8836702 (1)\ttotal: 193ms\tremaining: 48.1s\n",
      "2:\tlearn: 5878.0846766\ttest: 5933.1922071\tbest: 5933.1922071 (2)\ttotal: 278ms\tremaining: 46.1s\n",
      "3:\tlearn: 5732.6135245\ttest: 5786.2207975\tbest: 5786.2207975 (3)\ttotal: 361ms\tremaining: 44.8s\n",
      "4:\tlearn: 5593.6872924\ttest: 5646.0542499\tbest: 5646.0542499 (4)\ttotal: 446ms\tremaining: 44.2s\n",
      "5:\tlearn: 5459.3555605\ttest: 5510.4004116\tbest: 5510.4004116 (5)\ttotal: 521ms\tremaining: 42.9s\n",
      "6:\tlearn: 5329.9931985\ttest: 5379.8126550\tbest: 5379.8126550 (6)\ttotal: 598ms\tremaining: 42.1s\n",
      "7:\tlearn: 5201.7576403\ttest: 5250.3803341\tbest: 5250.3803341 (7)\ttotal: 693ms\tremaining: 42.6s\n",
      "8:\tlearn: 5078.0648615\ttest: 5125.5099763\tbest: 5125.5099763 (8)\ttotal: 776ms\tremaining: 42.3s\n",
      "9:\tlearn: 4959.9657439\ttest: 5006.3153237\tbest: 5006.3153237 (9)\ttotal: 862ms\tremaining: 42.2s\n",
      "10:\tlearn: 4845.6663165\ttest: 4890.8761913\tbest: 4890.8761913 (10)\ttotal: 948ms\tremaining: 42.1s\n",
      "11:\tlearn: 4735.8724426\ttest: 4780.0991812\tbest: 4780.0991812 (11)\ttotal: 1.03s\tremaining: 41.8s\n",
      "12:\tlearn: 4629.1656269\ttest: 4671.9708492\tbest: 4671.9708492 (12)\ttotal: 1.11s\tremaining: 41.6s\n",
      "13:\tlearn: 4524.6333697\ttest: 4566.2259538\tbest: 4566.2259538 (13)\ttotal: 1.19s\tremaining: 41.5s\n",
      "14:\tlearn: 4425.0561731\ttest: 4465.3988481\tbest: 4465.3988481 (14)\ttotal: 1.26s\tremaining: 40.9s\n",
      "15:\tlearn: 4328.2803772\ttest: 4367.5154705\tbest: 4367.5154705 (15)\ttotal: 1.35s\tremaining: 40.8s\n",
      "16:\tlearn: 4234.9738933\ttest: 4272.8805106\tbest: 4272.8805106 (16)\ttotal: 1.43s\tremaining: 40.7s\n",
      "17:\tlearn: 4145.8750527\ttest: 4182.6372756\tbest: 4182.6372756 (17)\ttotal: 1.5s\tremaining: 40.3s\n",
      "18:\tlearn: 4057.5791012\ttest: 4093.1848987\tbest: 4093.1848987 (18)\ttotal: 1.58s\tremaining: 40.1s\n",
      "19:\tlearn: 3972.9478650\ttest: 4007.3970310\tbest: 4007.3970310 (19)\ttotal: 1.66s\tremaining: 39.9s\n",
      "20:\tlearn: 3891.3386255\ttest: 3924.8985775\tbest: 3924.8985775 (20)\ttotal: 1.74s\tremaining: 39.7s\n",
      "21:\tlearn: 3814.2980078\ttest: 3846.8749718\tbest: 3846.8749718 (21)\ttotal: 1.81s\tremaining: 39.4s\n",
      "22:\tlearn: 3738.5710795\ttest: 3770.1328547\tbest: 3770.1328547 (22)\ttotal: 1.91s\tremaining: 39.6s\n",
      "23:\tlearn: 3665.4604365\ttest: 3696.1666588\tbest: 3696.1666588 (23)\ttotal: 1.99s\tremaining: 39.4s\n",
      "24:\tlearn: 3594.3310348\ttest: 3623.7375529\tbest: 3623.7375529 (24)\ttotal: 2.06s\tremaining: 39.2s\n",
      "25:\tlearn: 3526.7610991\ttest: 3555.1017514\tbest: 3555.1017514 (25)\ttotal: 2.15s\tremaining: 39.1s\n",
      "26:\tlearn: 3462.0982580\ttest: 3489.4677095\tbest: 3489.4677095 (26)\ttotal: 2.22s\tremaining: 38.8s\n",
      "27:\tlearn: 3398.5594765\ttest: 3425.1791428\tbest: 3425.1791428 (27)\ttotal: 2.29s\tremaining: 38.6s\n",
      "28:\tlearn: 3338.7618509\ttest: 3364.3948828\tbest: 3364.3948828 (28)\ttotal: 2.38s\tremaining: 38.7s\n",
      "29:\tlearn: 3281.3451878\ttest: 3306.0751576\tbest: 3306.0751576 (29)\ttotal: 2.48s\tremaining: 38.8s\n",
      "30:\tlearn: 3224.4260217\ttest: 3248.5742506\tbest: 3248.5742506 (30)\ttotal: 2.55s\tremaining: 38.6s\n",
      "31:\tlearn: 3170.5556317\ttest: 3193.9021200\tbest: 3193.9021200 (31)\ttotal: 2.64s\tremaining: 38.6s\n",
      "32:\tlearn: 3119.7761916\ttest: 3142.4886344\tbest: 3142.4886344 (32)\ttotal: 2.72s\tremaining: 38.5s\n",
      "33:\tlearn: 3070.0160983\ttest: 3091.9549963\tbest: 3091.9549963 (33)\ttotal: 2.79s\tremaining: 38.3s\n",
      "34:\tlearn: 3024.5348605\ttest: 3045.8738807\tbest: 3045.8738807 (34)\ttotal: 2.88s\tremaining: 38.3s\n",
      "35:\tlearn: 2979.0319899\ttest: 2999.6218801\tbest: 2999.6218801 (35)\ttotal: 2.97s\tremaining: 38.3s\n",
      "36:\tlearn: 2935.2938672\ttest: 2955.3827671\tbest: 2955.3827671 (36)\ttotal: 3.07s\tremaining: 38.4s\n",
      "37:\tlearn: 2894.5086270\ttest: 2914.0381795\tbest: 2914.0381795 (37)\ttotal: 3.17s\tremaining: 38.5s\n",
      "38:\tlearn: 2854.3012742\ttest: 2873.2470421\tbest: 2873.2470421 (38)\ttotal: 3.24s\tremaining: 38.3s\n",
      "39:\tlearn: 2815.1872468\ttest: 2833.8770347\tbest: 2833.8770347 (39)\ttotal: 3.31s\tremaining: 38.1s\n",
      "40:\tlearn: 2777.7284447\ttest: 2795.9738171\tbest: 2795.9738171 (40)\ttotal: 3.4s\tremaining: 38s\n",
      "41:\tlearn: 2741.7681572\ttest: 2759.3955831\tbest: 2759.3955831 (41)\ttotal: 3.48s\tremaining: 37.9s\n",
      "42:\tlearn: 2706.3763223\ttest: 2723.5859741\tbest: 2723.5859741 (42)\ttotal: 3.56s\tremaining: 37.8s\n",
      "43:\tlearn: 2674.0469893\ttest: 2690.7303493\tbest: 2690.7303493 (43)\ttotal: 3.64s\tremaining: 37.8s\n",
      "44:\tlearn: 2642.4320720\ttest: 2658.6440135\tbest: 2658.6440135 (44)\ttotal: 3.72s\tremaining: 37.6s\n",
      "45:\tlearn: 2612.3083765\ttest: 2628.1754421\tbest: 2628.1754421 (45)\ttotal: 3.8s\tremaining: 37.5s\n",
      "46:\tlearn: 2583.3441113\ttest: 2598.8974838\tbest: 2598.8974838 (46)\ttotal: 3.89s\tremaining: 37.5s\n",
      "47:\tlearn: 2555.5200281\ttest: 2570.8716020\tbest: 2570.8716020 (47)\ttotal: 3.96s\tremaining: 37.3s\n",
      "48:\tlearn: 2529.2722256\ttest: 2544.4062407\tbest: 2544.4062407 (48)\ttotal: 4.05s\tremaining: 37.3s\n",
      "49:\tlearn: 2504.3253998\ttest: 2519.2916967\tbest: 2519.2916967 (49)\ttotal: 4.14s\tremaining: 37.2s\n",
      "50:\tlearn: 2480.3761285\ttest: 2495.2107539\tbest: 2495.2107539 (50)\ttotal: 4.21s\tremaining: 37.1s\n",
      "51:\tlearn: 2457.3053574\ttest: 2471.6880535\tbest: 2471.6880535 (51)\ttotal: 4.29s\tremaining: 36.9s\n",
      "52:\tlearn: 2435.1845795\ttest: 2449.2696961\tbest: 2449.2696961 (52)\ttotal: 4.38s\tremaining: 36.9s\n",
      "53:\tlearn: 2414.0009435\ttest: 2427.6265872\tbest: 2427.6265872 (53)\ttotal: 4.45s\tremaining: 36.8s\n",
      "54:\tlearn: 2393.3600073\ttest: 2406.8268762\tbest: 2406.8268762 (54)\ttotal: 4.53s\tremaining: 36.6s\n",
      "55:\tlearn: 2373.0302343\ttest: 2386.4307733\tbest: 2386.4307733 (55)\ttotal: 4.6s\tremaining: 36.5s\n",
      "56:\tlearn: 2353.5258402\ttest: 2366.9799702\tbest: 2366.9799702 (56)\ttotal: 4.68s\tremaining: 36.4s\n",
      "57:\tlearn: 2334.5402945\ttest: 2347.7799463\tbest: 2347.7799463 (57)\ttotal: 4.75s\tremaining: 36.2s\n",
      "58:\tlearn: 2316.4080540\ttest: 2329.5145376\tbest: 2329.5145376 (58)\ttotal: 4.83s\tremaining: 36.1s\n",
      "59:\tlearn: 2298.7633268\ttest: 2311.6624540\tbest: 2311.6624540 (59)\ttotal: 4.9s\tremaining: 35.9s\n",
      "60:\tlearn: 2282.6056314\ttest: 2295.3825881\tbest: 2295.3825881 (60)\ttotal: 4.96s\tremaining: 35.7s\n",
      "61:\tlearn: 2267.0206753\ttest: 2279.6894389\tbest: 2279.6894389 (61)\ttotal: 5.04s\tremaining: 35.6s\n",
      "62:\tlearn: 2252.1485115\ttest: 2264.8358785\tbest: 2264.8358785 (62)\ttotal: 5.11s\tremaining: 35.5s\n",
      "63:\tlearn: 2238.7144650\ttest: 2251.3464455\tbest: 2251.3464455 (63)\ttotal: 5.2s\tremaining: 35.4s\n",
      "64:\tlearn: 2224.7094541\ttest: 2237.4059269\tbest: 2237.4059269 (64)\ttotal: 5.27s\tremaining: 35.3s\n",
      "65:\tlearn: 2211.1362272\ttest: 2223.6058626\tbest: 2223.6058626 (65)\ttotal: 5.34s\tremaining: 35.1s\n",
      "66:\tlearn: 2198.1614106\ttest: 2210.3990274\tbest: 2210.3990274 (66)\ttotal: 5.42s\tremaining: 35s\n",
      "67:\tlearn: 2186.6037737\ttest: 2198.7162264\tbest: 2198.7162264 (67)\ttotal: 5.51s\tremaining: 35s\n",
      "68:\tlearn: 2175.3800968\ttest: 2187.5176737\tbest: 2187.5176737 (68)\ttotal: 5.59s\tremaining: 34.9s\n",
      "69:\tlearn: 2164.3162213\ttest: 2176.5592021\tbest: 2176.5592021 (69)\ttotal: 5.66s\tremaining: 34.8s\n",
      "70:\tlearn: 2153.9095817\ttest: 2166.3322354\tbest: 2166.3322354 (70)\ttotal: 5.74s\tremaining: 34.7s\n",
      "71:\tlearn: 2144.1308209\ttest: 2156.6319176\tbest: 2156.6319176 (71)\ttotal: 5.83s\tremaining: 34.6s\n",
      "72:\tlearn: 2134.4957041\ttest: 2146.8921696\tbest: 2146.8921696 (72)\ttotal: 5.89s\tremaining: 34.5s\n",
      "73:\tlearn: 2125.0483262\ttest: 2137.4575227\tbest: 2137.4575227 (73)\ttotal: 5.96s\tremaining: 34.3s\n",
      "74:\tlearn: 2115.8733888\ttest: 2128.2419534\tbest: 2128.2419534 (74)\ttotal: 6.05s\tremaining: 34.3s\n",
      "75:\tlearn: 2106.9071764\ttest: 2119.3199565\tbest: 2119.3199565 (75)\ttotal: 6.13s\tremaining: 34.2s\n",
      "76:\tlearn: 2098.9388034\ttest: 2111.1786094\tbest: 2111.1786094 (76)\ttotal: 6.21s\tremaining: 34.1s\n",
      "77:\tlearn: 2090.7514883\ttest: 2103.2535522\tbest: 2103.2535522 (77)\ttotal: 6.28s\tremaining: 34s\n",
      "78:\tlearn: 2083.0945975\ttest: 2095.5229669\tbest: 2095.5229669 (78)\ttotal: 6.36s\tremaining: 33.9s\n",
      "79:\tlearn: 2075.8042636\ttest: 2088.1992885\tbest: 2088.1992885 (79)\ttotal: 6.44s\tremaining: 33.8s\n",
      "80:\tlearn: 2068.2527817\ttest: 2080.7238178\tbest: 2080.7238178 (80)\ttotal: 6.52s\tremaining: 33.7s\n",
      "81:\tlearn: 2061.0837385\ttest: 2073.6092180\tbest: 2073.6092180 (81)\ttotal: 6.59s\tremaining: 33.6s\n",
      "82:\tlearn: 2054.6936817\ttest: 2067.0976499\tbest: 2067.0976499 (82)\ttotal: 6.67s\tremaining: 33.5s\n",
      "83:\tlearn: 2048.5270485\ttest: 2060.7483389\tbest: 2060.7483389 (83)\ttotal: 6.75s\tremaining: 33.4s\n",
      "84:\tlearn: 2042.9717228\ttest: 2055.1570174\tbest: 2055.1570174 (84)\ttotal: 6.82s\tremaining: 33.3s\n",
      "85:\tlearn: 2037.4415706\ttest: 2049.5761597\tbest: 2049.5761597 (85)\ttotal: 6.89s\tremaining: 33.2s\n",
      "86:\tlearn: 2031.8563375\ttest: 2043.9362572\tbest: 2043.9362572 (86)\ttotal: 6.98s\tremaining: 33.1s\n",
      "87:\tlearn: 2026.5254902\ttest: 2038.5209909\tbest: 2038.5209909 (87)\ttotal: 7.05s\tremaining: 33s\n",
      "88:\tlearn: 2021.5966155\ttest: 2033.5776689\tbest: 2033.5776689 (88)\ttotal: 7.12s\tremaining: 32.9s\n",
      "89:\tlearn: 2016.6355681\ttest: 2028.7790417\tbest: 2028.7790417 (89)\ttotal: 7.2s\tremaining: 32.8s\n",
      "90:\tlearn: 2012.0075275\ttest: 2024.1727273\tbest: 2024.1727273 (90)\ttotal: 7.27s\tremaining: 32.7s\n",
      "91:\tlearn: 2007.9470985\ttest: 2020.0606698\tbest: 2020.0606698 (91)\ttotal: 7.35s\tremaining: 32.6s\n",
      "92:\tlearn: 2003.6746029\ttest: 2015.6987123\tbest: 2015.6987123 (92)\ttotal: 7.42s\tremaining: 32.5s\n",
      "93:\tlearn: 1999.5360200\ttest: 2011.5301380\tbest: 2011.5301380 (93)\ttotal: 7.47s\tremaining: 32.3s\n",
      "94:\tlearn: 1995.7610914\ttest: 2007.7790531\tbest: 2007.7790531 (94)\ttotal: 7.55s\tremaining: 32.2s\n",
      "95:\tlearn: 1991.6814959\ttest: 2003.7830845\tbest: 2003.7830845 (95)\ttotal: 7.62s\tremaining: 32.1s\n",
      "96:\tlearn: 1987.8609635\ttest: 1999.9629099\tbest: 1999.9629099 (96)\ttotal: 7.69s\tremaining: 32s\n",
      "97:\tlearn: 1984.1809973\ttest: 1996.4319238\tbest: 1996.4319238 (97)\ttotal: 7.78s\tremaining: 31.9s\n",
      "98:\tlearn: 1980.7620581\ttest: 1992.9719351\tbest: 1992.9719351 (98)\ttotal: 7.85s\tremaining: 31.8s\n",
      "99:\tlearn: 1977.4903353\ttest: 1989.6020208\tbest: 1989.6020208 (99)\ttotal: 7.94s\tremaining: 31.8s\n",
      "100:\tlearn: 1974.0172701\ttest: 1986.1993346\tbest: 1986.1993346 (100)\ttotal: 8s\tremaining: 31.6s\n",
      "101:\tlearn: 1970.7752716\ttest: 1983.1776550\tbest: 1983.1776550 (101)\ttotal: 8.08s\tremaining: 31.5s\n",
      "102:\tlearn: 1967.8543379\ttest: 1980.0729619\tbest: 1980.0729619 (102)\ttotal: 8.15s\tremaining: 31.4s\n",
      "103:\tlearn: 1964.9233415\ttest: 1977.0787688\tbest: 1977.0787688 (103)\ttotal: 8.22s\tremaining: 31.3s\n",
      "104:\tlearn: 1962.2076608\ttest: 1974.4561863\tbest: 1974.4561863 (104)\ttotal: 8.29s\tremaining: 31.2s\n",
      "105:\tlearn: 1959.5768043\ttest: 1971.7316229\tbest: 1971.7316229 (105)\ttotal: 8.36s\tremaining: 31.1s\n",
      "106:\tlearn: 1956.8951223\ttest: 1969.0991070\tbest: 1969.0991070 (106)\ttotal: 8.44s\tremaining: 31s\n",
      "107:\tlearn: 1954.2989888\ttest: 1966.5400081\tbest: 1966.5400081 (107)\ttotal: 8.52s\tremaining: 30.9s\n",
      "108:\tlearn: 1951.5600224\ttest: 1963.9662509\tbest: 1963.9662509 (108)\ttotal: 8.61s\tremaining: 30.9s\n",
      "109:\tlearn: 1949.3527309\ttest: 1961.8720358\tbest: 1961.8720358 (109)\ttotal: 8.7s\tremaining: 30.8s\n",
      "110:\tlearn: 1947.1239331\ttest: 1959.6732198\tbest: 1959.6732198 (110)\ttotal: 8.79s\tremaining: 30.8s\n",
      "111:\tlearn: 1944.2576912\ttest: 1956.8538706\tbest: 1956.8538706 (111)\ttotal: 8.88s\tremaining: 30.8s\n",
      "112:\tlearn: 1942.0159912\ttest: 1954.6879579\tbest: 1954.6879579 (112)\ttotal: 8.96s\tremaining: 30.7s\n",
      "113:\tlearn: 1939.6730478\ttest: 1952.2697523\tbest: 1952.2697523 (113)\ttotal: 9.04s\tremaining: 30.6s\n",
      "114:\tlearn: 1937.6389542\ttest: 1950.3088142\tbest: 1950.3088142 (114)\ttotal: 9.13s\tremaining: 30.6s\n",
      "115:\tlearn: 1935.5467418\ttest: 1948.2102994\tbest: 1948.2102994 (115)\ttotal: 9.21s\tremaining: 30.5s\n",
      "116:\tlearn: 1933.4229687\ttest: 1946.1969232\tbest: 1946.1969232 (116)\ttotal: 9.28s\tremaining: 30.4s\n",
      "117:\tlearn: 1931.6919853\ttest: 1944.4598354\tbest: 1944.4598354 (117)\ttotal: 9.36s\tremaining: 30.3s\n",
      "118:\tlearn: 1930.0776945\ttest: 1942.7808026\tbest: 1942.7808026 (118)\ttotal: 9.43s\tremaining: 30.2s\n",
      "119:\tlearn: 1928.3123598\ttest: 1941.0454696\tbest: 1941.0454696 (119)\ttotal: 9.49s\tremaining: 30s\n",
      "120:\tlearn: 1926.6374358\ttest: 1939.4035945\tbest: 1939.4035945 (120)\ttotal: 9.57s\tremaining: 30s\n",
      "121:\tlearn: 1925.0589301\ttest: 1937.9378720\tbest: 1937.9378720 (121)\ttotal: 9.66s\tremaining: 29.9s\n",
      "122:\tlearn: 1922.8137134\ttest: 1935.5917881\tbest: 1935.5917881 (122)\ttotal: 9.73s\tremaining: 29.8s\n",
      "123:\tlearn: 1921.0004872\ttest: 1933.7255802\tbest: 1933.7255802 (123)\ttotal: 9.8s\tremaining: 29.7s\n",
      "124:\tlearn: 1919.2782521\ttest: 1932.0934815\tbest: 1932.0934815 (124)\ttotal: 9.88s\tremaining: 29.6s\n",
      "125:\tlearn: 1917.9516416\ttest: 1930.7527021\tbest: 1930.7527021 (125)\ttotal: 9.95s\tremaining: 29.5s\n",
      "126:\tlearn: 1916.3096641\ttest: 1929.0874072\tbest: 1929.0874072 (126)\ttotal: 10s\tremaining: 29.5s\n",
      "127:\tlearn: 1915.0176417\ttest: 1927.9609494\tbest: 1927.9609494 (127)\ttotal: 10.1s\tremaining: 29.4s\n",
      "128:\tlearn: 1913.5362102\ttest: 1926.5193058\tbest: 1926.5193058 (128)\ttotal: 10.2s\tremaining: 29.3s\n",
      "129:\tlearn: 1912.1336942\ttest: 1925.1323923\tbest: 1925.1323923 (129)\ttotal: 10.3s\tremaining: 29.2s\n",
      "130:\tlearn: 1910.5394643\ttest: 1923.5571236\tbest: 1923.5571236 (130)\ttotal: 10.3s\tremaining: 29.1s\n",
      "131:\tlearn: 1909.3328211\ttest: 1922.4775043\tbest: 1922.4775043 (131)\ttotal: 10.4s\tremaining: 29s\n",
      "132:\tlearn: 1907.5847395\ttest: 1920.6876573\tbest: 1920.6876573 (132)\ttotal: 10.5s\tremaining: 28.9s\n",
      "133:\tlearn: 1906.3115362\ttest: 1919.4625931\tbest: 1919.4625931 (133)\ttotal: 10.6s\tremaining: 28.8s\n",
      "134:\tlearn: 1905.2131114\ttest: 1918.3853936\tbest: 1918.3853936 (134)\ttotal: 10.6s\tremaining: 28.7s\n",
      "135:\tlearn: 1903.7848951\ttest: 1916.9527116\tbest: 1916.9527116 (135)\ttotal: 10.7s\tremaining: 28.6s\n",
      "136:\tlearn: 1902.5967373\ttest: 1915.7465506\tbest: 1915.7465506 (136)\ttotal: 10.7s\tremaining: 28.4s\n",
      "137:\tlearn: 1901.5426150\ttest: 1914.7782604\tbest: 1914.7782604 (137)\ttotal: 10.8s\tremaining: 28.3s\n",
      "138:\tlearn: 1900.3308566\ttest: 1913.6038480\tbest: 1913.6038480 (138)\ttotal: 10.9s\tremaining: 28.2s\n",
      "139:\tlearn: 1899.3448704\ttest: 1912.5958706\tbest: 1912.5958706 (139)\ttotal: 10.9s\tremaining: 28.1s\n",
      "140:\tlearn: 1898.1822015\ttest: 1911.4353705\tbest: 1911.4353705 (140)\ttotal: 11s\tremaining: 28.1s\n",
      "141:\tlearn: 1896.8534816\ttest: 1910.0944323\tbest: 1910.0944323 (141)\ttotal: 11.1s\tremaining: 28s\n",
      "142:\tlearn: 1895.6032016\ttest: 1908.8242251\tbest: 1908.8242251 (142)\ttotal: 11.2s\tremaining: 27.9s\n",
      "143:\tlearn: 1894.6430441\ttest: 1907.8931670\tbest: 1907.8931670 (143)\ttotal: 11.3s\tremaining: 27.8s\n",
      "144:\tlearn: 1893.6716407\ttest: 1906.9697819\tbest: 1906.9697819 (144)\ttotal: 11.3s\tremaining: 27.7s\n",
      "145:\tlearn: 1892.8820742\ttest: 1906.2384786\tbest: 1906.2384786 (145)\ttotal: 11.4s\tremaining: 27.6s\n",
      "146:\tlearn: 1891.8849958\ttest: 1905.3340026\tbest: 1905.3340026 (146)\ttotal: 11.5s\tremaining: 27.6s\n",
      "147:\tlearn: 1890.7530655\ttest: 1904.2053342\tbest: 1904.2053342 (147)\ttotal: 11.5s\tremaining: 27.5s\n",
      "148:\tlearn: 1889.7656219\ttest: 1903.3627703\tbest: 1903.3627703 (148)\ttotal: 11.6s\tremaining: 27.3s\n",
      "149:\tlearn: 1888.9640547\ttest: 1902.6194027\tbest: 1902.6194027 (149)\ttotal: 11.7s\tremaining: 27.3s\n",
      "150:\tlearn: 1887.8098406\ttest: 1901.5763085\tbest: 1901.5763085 (150)\ttotal: 11.7s\tremaining: 27.1s\n",
      "151:\tlearn: 1886.9353088\ttest: 1900.7941992\tbest: 1900.7941992 (151)\ttotal: 11.8s\tremaining: 27s\n",
      "152:\tlearn: 1885.7267736\ttest: 1899.5582087\tbest: 1899.5582087 (152)\ttotal: 11.9s\tremaining: 26.9s\n",
      "153:\tlearn: 1884.6542290\ttest: 1898.6058752\tbest: 1898.6058752 (153)\ttotal: 11.9s\tremaining: 26.8s\n",
      "154:\tlearn: 1883.6317783\ttest: 1897.4950438\tbest: 1897.4950438 (154)\ttotal: 12s\tremaining: 26.7s\n",
      "155:\tlearn: 1882.3243441\ttest: 1896.3094446\tbest: 1896.3094446 (155)\ttotal: 12.1s\tremaining: 26.6s\n",
      "156:\tlearn: 1881.6565111\ttest: 1895.6888299\tbest: 1895.6888299 (156)\ttotal: 12.2s\tremaining: 26.6s\n",
      "157:\tlearn: 1880.8859387\ttest: 1895.0286083\tbest: 1895.0286083 (157)\ttotal: 12.2s\tremaining: 26.5s\n",
      "158:\tlearn: 1879.9758249\ttest: 1894.1553399\tbest: 1894.1553399 (158)\ttotal: 12.3s\tremaining: 26.4s\n",
      "159:\tlearn: 1879.2821554\ttest: 1893.4729741\tbest: 1893.4729741 (159)\ttotal: 12.4s\tremaining: 26.3s\n",
      "160:\tlearn: 1878.1594355\ttest: 1892.4949477\tbest: 1892.4949477 (160)\ttotal: 12.4s\tremaining: 26.2s\n",
      "161:\tlearn: 1877.6166721\ttest: 1892.0613723\tbest: 1892.0613723 (161)\ttotal: 12.5s\tremaining: 26.1s\n",
      "162:\tlearn: 1876.7436700\ttest: 1891.3222111\tbest: 1891.3222111 (162)\ttotal: 12.6s\tremaining: 26s\n",
      "163:\tlearn: 1876.1394470\ttest: 1890.7220987\tbest: 1890.7220987 (163)\ttotal: 12.6s\tremaining: 25.9s\n",
      "164:\tlearn: 1875.5460709\ttest: 1890.1601001\tbest: 1890.1601001 (164)\ttotal: 12.7s\tremaining: 25.8s\n",
      "165:\tlearn: 1874.8614600\ttest: 1889.4990624\tbest: 1889.4990624 (165)\ttotal: 12.8s\tremaining: 25.7s\n",
      "166:\tlearn: 1874.0328577\ttest: 1888.7214591\tbest: 1888.7214591 (166)\ttotal: 12.8s\tremaining: 25.6s\n",
      "167:\tlearn: 1873.3930394\ttest: 1888.0959242\tbest: 1888.0959242 (167)\ttotal: 12.9s\tremaining: 25.5s\n",
      "168:\tlearn: 1872.6309422\ttest: 1887.4046381\tbest: 1887.4046381 (168)\ttotal: 13s\tremaining: 25.4s\n",
      "169:\tlearn: 1872.0855628\ttest: 1886.8929858\tbest: 1886.8929858 (169)\ttotal: 13s\tremaining: 25.3s\n",
      "170:\tlearn: 1870.9577914\ttest: 1885.8431418\tbest: 1885.8431418 (170)\ttotal: 13.1s\tremaining: 25.2s\n",
      "171:\tlearn: 1870.2840505\ttest: 1885.2232792\tbest: 1885.2232792 (171)\ttotal: 13.2s\tremaining: 25.1s\n",
      "172:\tlearn: 1869.5489491\ttest: 1884.5543870\tbest: 1884.5543870 (172)\ttotal: 13.2s\tremaining: 25s\n",
      "173:\tlearn: 1869.1134812\ttest: 1884.1192646\tbest: 1884.1192646 (173)\ttotal: 13.3s\tremaining: 24.9s\n",
      "174:\tlearn: 1868.4283968\ttest: 1883.4868323\tbest: 1883.4868323 (174)\ttotal: 13.4s\tremaining: 24.8s\n",
      "175:\tlearn: 1868.3895123\ttest: 1883.4387939\tbest: 1883.4387939 (175)\ttotal: 13.4s\tremaining: 24.6s\n",
      "176:\tlearn: 1867.9819449\ttest: 1883.0490873\tbest: 1883.0490873 (176)\ttotal: 13.5s\tremaining: 24.6s\n",
      "177:\tlearn: 1867.3117794\ttest: 1882.5135133\tbest: 1882.5135133 (177)\ttotal: 13.5s\tremaining: 24.5s\n",
      "178:\tlearn: 1866.7747645\ttest: 1882.0011039\tbest: 1882.0011039 (178)\ttotal: 13.6s\tremaining: 24.3s\n",
      "179:\tlearn: 1866.0958571\ttest: 1881.4178891\tbest: 1881.4178891 (179)\ttotal: 13.7s\tremaining: 24.3s\n",
      "180:\tlearn: 1865.4100288\ttest: 1880.6927602\tbest: 1880.6927602 (180)\ttotal: 13.7s\tremaining: 24.2s\n",
      "181:\tlearn: 1865.0181003\ttest: 1880.3401408\tbest: 1880.3401408 (181)\ttotal: 13.8s\tremaining: 24.1s\n",
      "182:\tlearn: 1864.2992683\ttest: 1879.6454390\tbest: 1879.6454390 (182)\ttotal: 13.9s\tremaining: 24s\n",
      "183:\tlearn: 1863.6534221\ttest: 1879.1720884\tbest: 1879.1720884 (183)\ttotal: 13.9s\tremaining: 23.9s\n",
      "184:\tlearn: 1863.1557219\ttest: 1878.6494362\tbest: 1878.6494362 (184)\ttotal: 14s\tremaining: 23.8s\n",
      "185:\tlearn: 1862.7759028\ttest: 1878.3071426\tbest: 1878.3071426 (185)\ttotal: 14s\tremaining: 23.7s\n",
      "186:\tlearn: 1862.1045212\ttest: 1877.5827779\tbest: 1877.5827779 (186)\ttotal: 14.1s\tremaining: 23.6s\n",
      "187:\tlearn: 1861.5535069\ttest: 1877.0559492\tbest: 1877.0559492 (187)\ttotal: 14.2s\tremaining: 23.5s\n",
      "188:\tlearn: 1861.1747829\ttest: 1876.7113164\tbest: 1876.7113164 (188)\ttotal: 14.2s\tremaining: 23.4s\n",
      "189:\tlearn: 1860.4111553\ttest: 1876.0808441\tbest: 1876.0808441 (189)\ttotal: 14.3s\tremaining: 23.3s\n",
      "190:\tlearn: 1859.6950656\ttest: 1875.4840057\tbest: 1875.4840057 (190)\ttotal: 14.4s\tremaining: 23.3s\n",
      "191:\tlearn: 1859.2880351\ttest: 1875.1298382\tbest: 1875.1298382 (191)\ttotal: 14.4s\tremaining: 23.2s\n",
      "192:\tlearn: 1858.6283754\ttest: 1874.5471811\tbest: 1874.5471811 (192)\ttotal: 14.5s\tremaining: 23.1s\n",
      "193:\tlearn: 1858.1819631\ttest: 1874.1350229\tbest: 1874.1350229 (193)\ttotal: 14.6s\tremaining: 23s\n",
      "194:\tlearn: 1857.6822612\ttest: 1873.7394102\tbest: 1873.7394102 (194)\ttotal: 14.7s\tremaining: 22.9s\n",
      "195:\tlearn: 1857.0112107\ttest: 1872.9810570\tbest: 1872.9810570 (195)\ttotal: 14.7s\tremaining: 22.8s\n",
      "196:\tlearn: 1856.7277481\ttest: 1872.6952766\tbest: 1872.6952766 (196)\ttotal: 14.8s\tremaining: 22.7s\n",
      "197:\tlearn: 1856.3416598\ttest: 1872.4057629\tbest: 1872.4057629 (197)\ttotal: 14.8s\tremaining: 22.6s\n",
      "198:\tlearn: 1855.7645193\ttest: 1871.7768618\tbest: 1871.7768618 (198)\ttotal: 14.9s\tremaining: 22.5s\n",
      "199:\tlearn: 1855.2959908\ttest: 1871.3804192\tbest: 1871.3804192 (199)\ttotal: 15s\tremaining: 22.4s\n",
      "200:\tlearn: 1855.0068361\ttest: 1871.1344791\tbest: 1871.1344791 (200)\ttotal: 15s\tremaining: 22.4s\n",
      "201:\tlearn: 1854.5810810\ttest: 1870.7333615\tbest: 1870.7333615 (201)\ttotal: 15.1s\tremaining: 22.3s\n",
      "202:\tlearn: 1854.1495120\ttest: 1870.3586424\tbest: 1870.3586424 (202)\ttotal: 15.2s\tremaining: 22.2s\n",
      "203:\tlearn: 1853.7222825\ttest: 1869.9941308\tbest: 1869.9941308 (203)\ttotal: 15.3s\tremaining: 22.2s\n",
      "204:\tlearn: 1853.1785036\ttest: 1869.5868758\tbest: 1869.5868758 (204)\ttotal: 15.3s\tremaining: 22.1s\n",
      "205:\tlearn: 1852.3570454\ttest: 1868.7983978\tbest: 1868.7983978 (205)\ttotal: 15.4s\tremaining: 22s\n",
      "206:\tlearn: 1851.8614396\ttest: 1868.4725157\tbest: 1868.4725157 (206)\ttotal: 15.5s\tremaining: 21.9s\n",
      "207:\tlearn: 1851.3728047\ttest: 1868.0405931\tbest: 1868.0405931 (207)\ttotal: 15.5s\tremaining: 21.8s\n",
      "208:\tlearn: 1850.8749061\ttest: 1867.6209461\tbest: 1867.6209461 (208)\ttotal: 15.6s\tremaining: 21.7s\n",
      "209:\tlearn: 1850.0639810\ttest: 1866.9886364\tbest: 1866.9886364 (209)\ttotal: 15.7s\tremaining: 21.6s\n",
      "210:\tlearn: 1849.8576359\ttest: 1866.8130164\tbest: 1866.8130164 (210)\ttotal: 15.7s\tremaining: 21.6s\n",
      "211:\tlearn: 1849.3853887\ttest: 1866.4184260\tbest: 1866.4184260 (211)\ttotal: 15.8s\tremaining: 21.5s\n",
      "212:\tlearn: 1849.1138105\ttest: 1866.2657831\tbest: 1866.2657831 (212)\ttotal: 15.9s\tremaining: 21.4s\n",
      "213:\tlearn: 1848.6900798\ttest: 1865.8422688\tbest: 1865.8422688 (213)\ttotal: 15.9s\tremaining: 21.3s\n",
      "214:\tlearn: 1848.3385479\ttest: 1865.6103565\tbest: 1865.6103565 (214)\ttotal: 16s\tremaining: 21.2s\n",
      "215:\tlearn: 1847.6450416\ttest: 1865.0592137\tbest: 1865.0592137 (215)\ttotal: 16.1s\tremaining: 21.1s\n",
      "216:\tlearn: 1847.3623510\ttest: 1864.7885028\tbest: 1864.7885028 (216)\ttotal: 16.1s\tremaining: 21.1s\n",
      "217:\tlearn: 1846.6486697\ttest: 1864.1476413\tbest: 1864.1476413 (217)\ttotal: 16.2s\tremaining: 21s\n",
      "218:\tlearn: 1846.3091648\ttest: 1863.8490835\tbest: 1863.8490835 (218)\ttotal: 16.3s\tremaining: 20.9s\n",
      "219:\tlearn: 1845.6436361\ttest: 1863.2160502\tbest: 1863.2160502 (219)\ttotal: 16.3s\tremaining: 20.8s\n",
      "220:\tlearn: 1845.2364682\ttest: 1862.8416907\tbest: 1862.8416907 (220)\ttotal: 16.4s\tremaining: 20.7s\n",
      "221:\tlearn: 1844.9676633\ttest: 1862.5560654\tbest: 1862.5560654 (221)\ttotal: 16.5s\tremaining: 20.6s\n",
      "222:\tlearn: 1844.6149371\ttest: 1862.1964906\tbest: 1862.1964906 (222)\ttotal: 16.5s\tremaining: 20.6s\n",
      "223:\tlearn: 1844.0766717\ttest: 1861.7251970\tbest: 1861.7251970 (223)\ttotal: 16.6s\tremaining: 20.5s\n",
      "224:\tlearn: 1843.7310404\ttest: 1861.4322487\tbest: 1861.4322487 (224)\ttotal: 16.7s\tremaining: 20.4s\n",
      "225:\tlearn: 1843.1542455\ttest: 1860.8912924\tbest: 1860.8912924 (225)\ttotal: 16.8s\tremaining: 20.4s\n",
      "226:\tlearn: 1842.7151219\ttest: 1860.4606857\tbest: 1860.4606857 (226)\ttotal: 16.9s\tremaining: 20.3s\n",
      "227:\tlearn: 1842.0304318\ttest: 1859.8171505\tbest: 1859.8171505 (227)\ttotal: 16.9s\tremaining: 20.2s\n",
      "228:\tlearn: 1841.6486743\ttest: 1859.4788325\tbest: 1859.4788325 (228)\ttotal: 17s\tremaining: 20.1s\n",
      "229:\tlearn: 1841.1358322\ttest: 1859.0602655\tbest: 1859.0602655 (229)\ttotal: 17.1s\tremaining: 20s\n",
      "230:\tlearn: 1840.5831780\ttest: 1858.6520443\tbest: 1858.6520443 (230)\ttotal: 17.1s\tremaining: 20s\n",
      "231:\tlearn: 1840.0403969\ttest: 1858.1168869\tbest: 1858.1168869 (231)\ttotal: 17.2s\tremaining: 19.9s\n",
      "232:\tlearn: 1839.6212145\ttest: 1857.7469804\tbest: 1857.7469804 (232)\ttotal: 17.3s\tremaining: 19.8s\n",
      "233:\tlearn: 1839.2015323\ttest: 1857.3894004\tbest: 1857.3894004 (233)\ttotal: 17.3s\tremaining: 19.7s\n",
      "234:\tlearn: 1838.8604035\ttest: 1857.0736406\tbest: 1857.0736406 (234)\ttotal: 17.4s\tremaining: 19.6s\n",
      "235:\tlearn: 1838.3921395\ttest: 1856.6128200\tbest: 1856.6128200 (235)\ttotal: 17.5s\tremaining: 19.6s\n",
      "236:\tlearn: 1838.0613809\ttest: 1856.3251587\tbest: 1856.3251587 (236)\ttotal: 17.6s\tremaining: 19.5s\n",
      "237:\tlearn: 1837.7381760\ttest: 1856.0529637\tbest: 1856.0529637 (237)\ttotal: 17.6s\tremaining: 19.4s\n",
      "238:\tlearn: 1837.1918388\ttest: 1855.6102374\tbest: 1855.6102374 (238)\ttotal: 17.7s\tremaining: 19.3s\n",
      "239:\tlearn: 1836.8072828\ttest: 1855.2442419\tbest: 1855.2442419 (239)\ttotal: 17.8s\tremaining: 19.3s\n",
      "240:\tlearn: 1836.5287498\ttest: 1854.9795771\tbest: 1854.9795771 (240)\ttotal: 17.8s\tremaining: 19.2s\n",
      "241:\tlearn: 1836.0011082\ttest: 1854.5272295\tbest: 1854.5272295 (241)\ttotal: 17.9s\tremaining: 19.1s\n",
      "242:\tlearn: 1835.5331891\ttest: 1854.1196321\tbest: 1854.1196321 (242)\ttotal: 18s\tremaining: 19s\n",
      "243:\tlearn: 1835.2638257\ttest: 1853.8759683\tbest: 1853.8759683 (243)\ttotal: 18s\tremaining: 18.9s\n",
      "244:\tlearn: 1834.8837264\ttest: 1853.5555567\tbest: 1853.5555567 (244)\ttotal: 18.1s\tremaining: 18.8s\n",
      "245:\tlearn: 1834.2474189\ttest: 1853.0079781\tbest: 1853.0079781 (245)\ttotal: 18.2s\tremaining: 18.8s\n",
      "246:\tlearn: 1833.8566903\ttest: 1852.6461633\tbest: 1852.6461633 (246)\ttotal: 18.2s\tremaining: 18.7s\n",
      "247:\tlearn: 1833.6836986\ttest: 1852.4998470\tbest: 1852.4998470 (247)\ttotal: 18.3s\tremaining: 18.6s\n",
      "248:\tlearn: 1833.4269164\ttest: 1852.3033021\tbest: 1852.3033021 (248)\ttotal: 18.4s\tremaining: 18.5s\n",
      "249:\tlearn: 1832.9915660\ttest: 1851.8640270\tbest: 1851.8640270 (249)\ttotal: 18.4s\tremaining: 18.4s\n",
      "250:\tlearn: 1832.5779429\ttest: 1851.4720991\tbest: 1851.4720991 (250)\ttotal: 18.5s\tremaining: 18.4s\n",
      "251:\tlearn: 1832.1667502\ttest: 1851.1011421\tbest: 1851.1011421 (251)\ttotal: 18.6s\tremaining: 18.3s\n",
      "252:\tlearn: 1831.7492914\ttest: 1850.7920036\tbest: 1850.7920036 (252)\ttotal: 18.6s\tremaining: 18.2s\n",
      "253:\tlearn: 1831.2445655\ttest: 1850.4103799\tbest: 1850.4103799 (253)\ttotal: 18.7s\tremaining: 18.1s\n",
      "254:\tlearn: 1830.7807450\ttest: 1849.9213185\tbest: 1849.9213185 (254)\ttotal: 18.8s\tremaining: 18s\n",
      "255:\tlearn: 1830.3414545\ttest: 1849.5302686\tbest: 1849.5302686 (255)\ttotal: 18.8s\tremaining: 18s\n",
      "256:\tlearn: 1829.8704046\ttest: 1849.1645188\tbest: 1849.1645188 (256)\ttotal: 18.9s\tremaining: 17.9s\n",
      "257:\tlearn: 1829.4498303\ttest: 1848.8167635\tbest: 1848.8167635 (257)\ttotal: 19s\tremaining: 17.8s\n",
      "258:\tlearn: 1829.1219683\ttest: 1848.4812669\tbest: 1848.4812669 (258)\ttotal: 19.1s\tremaining: 17.7s\n",
      "259:\tlearn: 1828.7694147\ttest: 1848.1001341\tbest: 1848.1001341 (259)\ttotal: 19.1s\tremaining: 17.7s\n",
      "260:\tlearn: 1828.4125672\ttest: 1847.7844583\tbest: 1847.7844583 (260)\ttotal: 19.2s\tremaining: 17.6s\n",
      "261:\tlearn: 1828.0606073\ttest: 1847.5267458\tbest: 1847.5267458 (261)\ttotal: 19.3s\tremaining: 17.5s\n",
      "262:\tlearn: 1827.8615919\ttest: 1847.3948870\tbest: 1847.3948870 (262)\ttotal: 19.3s\tremaining: 17.4s\n",
      "263:\tlearn: 1827.5014773\ttest: 1847.1587401\tbest: 1847.1587401 (263)\ttotal: 19.4s\tremaining: 17.4s\n",
      "264:\tlearn: 1826.9316138\ttest: 1846.6391482\tbest: 1846.6391482 (264)\ttotal: 19.5s\tremaining: 17.3s\n",
      "265:\tlearn: 1826.7101427\ttest: 1846.5239925\tbest: 1846.5239925 (265)\ttotal: 19.6s\tremaining: 17.2s\n",
      "266:\tlearn: 1826.4214888\ttest: 1846.3084185\tbest: 1846.3084185 (266)\ttotal: 19.7s\tremaining: 17.2s\n",
      "267:\tlearn: 1825.9482914\ttest: 1845.8526684\tbest: 1845.8526684 (267)\ttotal: 19.7s\tremaining: 17.1s\n",
      "268:\tlearn: 1825.6554646\ttest: 1845.7075015\tbest: 1845.7075015 (268)\ttotal: 19.8s\tremaining: 17s\n",
      "269:\tlearn: 1825.4009355\ttest: 1845.5718476\tbest: 1845.5718476 (269)\ttotal: 19.9s\tremaining: 16.9s\n",
      "270:\tlearn: 1825.2123338\ttest: 1845.3894353\tbest: 1845.3894353 (270)\ttotal: 19.9s\tremaining: 16.9s\n",
      "271:\tlearn: 1824.9002427\ttest: 1845.0755991\tbest: 1845.0755991 (271)\ttotal: 20s\tremaining: 16.8s\n",
      "272:\tlearn: 1824.3745453\ttest: 1844.5623147\tbest: 1844.5623147 (272)\ttotal: 20.1s\tremaining: 16.7s\n",
      "273:\tlearn: 1824.1367741\ttest: 1844.3201499\tbest: 1844.3201499 (273)\ttotal: 20.2s\tremaining: 16.6s\n",
      "274:\tlearn: 1823.8524568\ttest: 1844.0252902\tbest: 1844.0252902 (274)\ttotal: 20.2s\tremaining: 16.6s\n",
      "275:\tlearn: 1823.3825206\ttest: 1843.7077606\tbest: 1843.7077606 (275)\ttotal: 20.3s\tremaining: 16.5s\n",
      "276:\tlearn: 1823.0306414\ttest: 1843.3946848\tbest: 1843.3946848 (276)\ttotal: 20.4s\tremaining: 16.4s\n",
      "277:\tlearn: 1822.7545367\ttest: 1843.1765287\tbest: 1843.1765287 (277)\ttotal: 20.5s\tremaining: 16.3s\n",
      "278:\tlearn: 1822.5921448\ttest: 1843.0681794\tbest: 1843.0681794 (278)\ttotal: 20.5s\tremaining: 16.3s\n",
      "279:\tlearn: 1822.3558060\ttest: 1842.8030443\tbest: 1842.8030443 (279)\ttotal: 20.6s\tremaining: 16.2s\n",
      "280:\tlearn: 1822.0906916\ttest: 1842.6444193\tbest: 1842.6444193 (280)\ttotal: 20.7s\tremaining: 16.1s\n",
      "281:\tlearn: 1821.7238049\ttest: 1842.3423239\tbest: 1842.3423239 (281)\ttotal: 20.7s\tremaining: 16s\n",
      "282:\tlearn: 1821.3378713\ttest: 1841.8876437\tbest: 1841.8876437 (282)\ttotal: 20.8s\tremaining: 16s\n",
      "283:\tlearn: 1820.9096189\ttest: 1841.5031679\tbest: 1841.5031679 (283)\ttotal: 20.9s\tremaining: 15.9s\n",
      "284:\tlearn: 1820.6085708\ttest: 1841.1823355\tbest: 1841.1823355 (284)\ttotal: 21s\tremaining: 15.8s\n",
      "285:\tlearn: 1820.2776647\ttest: 1840.9315225\tbest: 1840.9315225 (285)\ttotal: 21.1s\tremaining: 15.8s\n",
      "286:\tlearn: 1819.9059032\ttest: 1840.6834352\tbest: 1840.6834352 (286)\ttotal: 21.1s\tremaining: 15.7s\n",
      "287:\tlearn: 1819.7269657\ttest: 1840.5890274\tbest: 1840.5890274 (287)\ttotal: 21.2s\tremaining: 15.6s\n",
      "288:\tlearn: 1819.5087609\ttest: 1840.4083522\tbest: 1840.4083522 (288)\ttotal: 21.3s\tremaining: 15.5s\n",
      "289:\tlearn: 1819.1156998\ttest: 1840.0634408\tbest: 1840.0634408 (289)\ttotal: 21.3s\tremaining: 15.4s\n",
      "290:\tlearn: 1818.6468897\ttest: 1839.6359634\tbest: 1839.6359634 (290)\ttotal: 21.4s\tremaining: 15.4s\n",
      "291:\tlearn: 1818.2294748\ttest: 1839.2679595\tbest: 1839.2679595 (291)\ttotal: 21.5s\tremaining: 15.3s\n",
      "292:\tlearn: 1817.9564387\ttest: 1839.0649648\tbest: 1839.0649648 (292)\ttotal: 21.5s\tremaining: 15.2s\n",
      "293:\tlearn: 1817.5981327\ttest: 1838.6728345\tbest: 1838.6728345 (293)\ttotal: 21.6s\tremaining: 15.1s\n",
      "294:\tlearn: 1817.2533127\ttest: 1838.3908656\tbest: 1838.3908656 (294)\ttotal: 21.7s\tremaining: 15.1s\n",
      "295:\tlearn: 1816.7402406\ttest: 1837.9336378\tbest: 1837.9336378 (295)\ttotal: 21.8s\tremaining: 15s\n",
      "296:\tlearn: 1816.4066083\ttest: 1837.6460549\tbest: 1837.6460549 (296)\ttotal: 21.8s\tremaining: 14.9s\n",
      "297:\tlearn: 1816.1018644\ttest: 1837.4282522\tbest: 1837.4282522 (297)\ttotal: 21.9s\tremaining: 14.8s\n",
      "298:\tlearn: 1815.9052776\ttest: 1837.2546318\tbest: 1837.2546318 (298)\ttotal: 22s\tremaining: 14.8s\n",
      "299:\tlearn: 1815.7003696\ttest: 1837.1297929\tbest: 1837.1297929 (299)\ttotal: 22s\tremaining: 14.7s\n",
      "300:\tlearn: 1815.3057503\ttest: 1836.8297083\tbest: 1836.8297083 (300)\ttotal: 22.1s\tremaining: 14.6s\n",
      "301:\tlearn: 1815.0267093\ttest: 1836.5419175\tbest: 1836.5419175 (301)\ttotal: 22.2s\tremaining: 14.6s\n",
      "302:\tlearn: 1814.6925686\ttest: 1836.1984247\tbest: 1836.1984247 (302)\ttotal: 22.3s\tremaining: 14.5s\n",
      "303:\tlearn: 1814.5269776\ttest: 1836.0743109\tbest: 1836.0743109 (303)\ttotal: 22.3s\tremaining: 14.4s\n",
      "304:\tlearn: 1814.1557007\ttest: 1835.7351949\tbest: 1835.7351949 (304)\ttotal: 22.4s\tremaining: 14.3s\n",
      "305:\tlearn: 1813.9568192\ttest: 1835.6235146\tbest: 1835.6235146 (305)\ttotal: 22.5s\tremaining: 14.2s\n",
      "306:\tlearn: 1813.5775454\ttest: 1835.2920888\tbest: 1835.2920888 (306)\ttotal: 22.5s\tremaining: 14.2s\n",
      "307:\tlearn: 1813.1676219\ttest: 1834.9770095\tbest: 1834.9770095 (307)\ttotal: 22.6s\tremaining: 14.1s\n",
      "308:\tlearn: 1812.8742126\ttest: 1834.7549160\tbest: 1834.7549160 (308)\ttotal: 22.7s\tremaining: 14s\n",
      "309:\tlearn: 1812.5689573\ttest: 1834.5135423\tbest: 1834.5135423 (309)\ttotal: 22.7s\tremaining: 13.9s\n",
      "310:\tlearn: 1812.1469507\ttest: 1834.1655975\tbest: 1834.1655975 (310)\ttotal: 22.8s\tremaining: 13.9s\n",
      "311:\tlearn: 1811.8751676\ttest: 1834.0233976\tbest: 1834.0233976 (311)\ttotal: 22.9s\tremaining: 13.8s\n",
      "312:\tlearn: 1811.7504480\ttest: 1833.9301918\tbest: 1833.9301918 (312)\ttotal: 22.9s\tremaining: 13.7s\n",
      "313:\tlearn: 1811.3228914\ttest: 1833.6195549\tbest: 1833.6195549 (313)\ttotal: 23s\tremaining: 13.6s\n",
      "314:\tlearn: 1811.0391468\ttest: 1833.4021362\tbest: 1833.4021362 (314)\ttotal: 23.1s\tremaining: 13.5s\n",
      "315:\tlearn: 1810.7917657\ttest: 1833.1736650\tbest: 1833.1736650 (315)\ttotal: 23.1s\tremaining: 13.5s\n",
      "316:\tlearn: 1810.6031865\ttest: 1833.0681194\tbest: 1833.0681194 (316)\ttotal: 23.2s\tremaining: 13.4s\n",
      "317:\tlearn: 1810.3920202\ttest: 1832.9221875\tbest: 1832.9221875 (317)\ttotal: 23.3s\tremaining: 13.3s\n",
      "318:\tlearn: 1810.1276293\ttest: 1832.8045701\tbest: 1832.8045701 (318)\ttotal: 23.3s\tremaining: 13.2s\n",
      "319:\tlearn: 1809.6285893\ttest: 1832.3856194\tbest: 1832.3856194 (319)\ttotal: 23.4s\tremaining: 13.2s\n",
      "320:\tlearn: 1809.4919939\ttest: 1832.3125207\tbest: 1832.3125207 (320)\ttotal: 23.5s\tremaining: 13.1s\n",
      "321:\tlearn: 1809.0212005\ttest: 1831.8609225\tbest: 1831.8609225 (321)\ttotal: 23.6s\tremaining: 13s\n",
      "322:\tlearn: 1808.8128284\ttest: 1831.6376342\tbest: 1831.6376342 (322)\ttotal: 23.6s\tremaining: 13s\n",
      "323:\tlearn: 1808.6413885\ttest: 1831.5796322\tbest: 1831.5796322 (323)\ttotal: 23.7s\tremaining: 12.9s\n",
      "324:\tlearn: 1808.2566174\ttest: 1831.2724720\tbest: 1831.2724720 (324)\ttotal: 23.8s\tremaining: 12.8s\n",
      "325:\tlearn: 1808.0215817\ttest: 1831.1183996\tbest: 1831.1183996 (325)\ttotal: 23.8s\tremaining: 12.7s\n",
      "326:\tlearn: 1807.8118875\ttest: 1830.9715278\tbest: 1830.9715278 (326)\ttotal: 23.9s\tremaining: 12.6s\n",
      "327:\tlearn: 1807.4919305\ttest: 1830.7203353\tbest: 1830.7203353 (327)\ttotal: 24s\tremaining: 12.6s\n",
      "328:\tlearn: 1807.3384545\ttest: 1830.6705041\tbest: 1830.6705041 (328)\ttotal: 24.1s\tremaining: 12.5s\n",
      "329:\tlearn: 1807.1228526\ttest: 1830.5338061\tbest: 1830.5338061 (329)\ttotal: 24.1s\tremaining: 12.4s\n",
      "330:\tlearn: 1806.8713823\ttest: 1830.3360043\tbest: 1830.3360043 (330)\ttotal: 24.2s\tremaining: 12.4s\n",
      "331:\tlearn: 1806.6713325\ttest: 1830.1202103\tbest: 1830.1202103 (331)\ttotal: 24.3s\tremaining: 12.3s\n",
      "332:\tlearn: 1806.3458802\ttest: 1829.8838587\tbest: 1829.8838587 (332)\ttotal: 24.3s\tremaining: 12.2s\n",
      "333:\tlearn: 1806.1471865\ttest: 1829.7085330\tbest: 1829.7085330 (333)\ttotal: 24.4s\tremaining: 12.1s\n",
      "334:\tlearn: 1805.7334704\ttest: 1829.3420666\tbest: 1829.3420666 (334)\ttotal: 24.5s\tremaining: 12.1s\n",
      "335:\tlearn: 1805.3771758\ttest: 1829.0664227\tbest: 1829.0664227 (335)\ttotal: 24.6s\tremaining: 12s\n",
      "336:\tlearn: 1804.9291966\ttest: 1828.7256075\tbest: 1828.7256075 (336)\ttotal: 24.6s\tremaining: 11.9s\n",
      "337:\tlearn: 1804.5310327\ttest: 1828.3863491\tbest: 1828.3863491 (337)\ttotal: 24.7s\tremaining: 11.8s\n",
      "338:\tlearn: 1804.0415639\ttest: 1828.0588145\tbest: 1828.0588145 (338)\ttotal: 24.8s\tremaining: 11.8s\n",
      "339:\tlearn: 1803.6780827\ttest: 1827.8465368\tbest: 1827.8465368 (339)\ttotal: 24.8s\tremaining: 11.7s\n",
      "340:\tlearn: 1803.5052739\ttest: 1827.7383524\tbest: 1827.7383524 (340)\ttotal: 24.9s\tremaining: 11.6s\n",
      "341:\tlearn: 1803.3293739\ttest: 1827.6147130\tbest: 1827.6147130 (341)\ttotal: 25s\tremaining: 11.5s\n",
      "342:\tlearn: 1803.0310090\ttest: 1827.3711004\tbest: 1827.3711004 (342)\ttotal: 25.1s\tremaining: 11.5s\n",
      "343:\tlearn: 1802.9545393\ttest: 1827.3061495\tbest: 1827.3061495 (343)\ttotal: 25.1s\tremaining: 11.4s\n",
      "344:\tlearn: 1802.6709275\ttest: 1827.1588751\tbest: 1827.1588751 (344)\ttotal: 25.2s\tremaining: 11.3s\n",
      "345:\tlearn: 1802.2952729\ttest: 1826.8737296\tbest: 1826.8737296 (345)\ttotal: 25.3s\tremaining: 11.3s\n",
      "346:\tlearn: 1801.9530049\ttest: 1826.6469146\tbest: 1826.6469146 (346)\ttotal: 25.4s\tremaining: 11.2s\n",
      "347:\tlearn: 1801.7717184\ttest: 1826.5544282\tbest: 1826.5544282 (347)\ttotal: 25.4s\tremaining: 11.1s\n",
      "348:\tlearn: 1801.5036234\ttest: 1826.4195015\tbest: 1826.4195015 (348)\ttotal: 25.5s\tremaining: 11s\n",
      "349:\tlearn: 1801.3944809\ttest: 1826.3628176\tbest: 1826.3628176 (349)\ttotal: 25.6s\tremaining: 11s\n",
      "350:\tlearn: 1801.1798964\ttest: 1826.2116168\tbest: 1826.2116168 (350)\ttotal: 25.6s\tremaining: 10.9s\n",
      "351:\tlearn: 1800.8966766\ttest: 1826.0243546\tbest: 1826.0243546 (351)\ttotal: 25.7s\tremaining: 10.8s\n",
      "352:\tlearn: 1800.6370319\ttest: 1825.8021001\tbest: 1825.8021001 (352)\ttotal: 25.8s\tremaining: 10.7s\n",
      "353:\tlearn: 1800.3548007\ttest: 1825.6595722\tbest: 1825.6595722 (353)\ttotal: 25.8s\tremaining: 10.7s\n",
      "354:\tlearn: 1800.0560527\ttest: 1825.4113526\tbest: 1825.4113526 (354)\ttotal: 25.9s\tremaining: 10.6s\n",
      "355:\tlearn: 1799.7454508\ttest: 1825.1165836\tbest: 1825.1165836 (355)\ttotal: 26s\tremaining: 10.5s\n",
      "356:\tlearn: 1799.5786441\ttest: 1824.9564398\tbest: 1824.9564398 (356)\ttotal: 26.1s\tremaining: 10.4s\n",
      "357:\tlearn: 1799.1666457\ttest: 1824.6566612\tbest: 1824.6566612 (357)\ttotal: 26.1s\tremaining: 10.4s\n",
      "358:\tlearn: 1798.9248147\ttest: 1824.4191032\tbest: 1824.4191032 (358)\ttotal: 26.2s\tremaining: 10.3s\n",
      "359:\tlearn: 1798.7057585\ttest: 1824.2339248\tbest: 1824.2339248 (359)\ttotal: 26.3s\tremaining: 10.2s\n",
      "360:\tlearn: 1798.4700991\ttest: 1824.0735997\tbest: 1824.0735997 (360)\ttotal: 26.4s\tremaining: 10.2s\n",
      "361:\tlearn: 1798.2696200\ttest: 1823.9045460\tbest: 1823.9045460 (361)\ttotal: 26.4s\tremaining: 10.1s\n",
      "362:\tlearn: 1797.9835494\ttest: 1823.7143588\tbest: 1823.7143588 (362)\ttotal: 26.5s\tremaining: 10s\n",
      "363:\tlearn: 1797.7838087\ttest: 1823.5640049\tbest: 1823.5640049 (363)\ttotal: 26.6s\tremaining: 9.93s\n",
      "364:\tlearn: 1797.4438244\ttest: 1823.2978009\tbest: 1823.2978009 (364)\ttotal: 26.6s\tremaining: 9.85s\n",
      "365:\tlearn: 1797.1418474\ttest: 1823.0084321\tbest: 1823.0084321 (365)\ttotal: 26.7s\tremaining: 9.78s\n",
      "366:\tlearn: 1796.8206048\ttest: 1822.8629819\tbest: 1822.8629819 (366)\ttotal: 26.8s\tremaining: 9.71s\n",
      "367:\tlearn: 1796.6236730\ttest: 1822.7060979\tbest: 1822.7060979 (367)\ttotal: 26.9s\tremaining: 9.64s\n",
      "368:\tlearn: 1796.4222386\ttest: 1822.6063639\tbest: 1822.6063639 (368)\ttotal: 26.9s\tremaining: 9.57s\n",
      "369:\tlearn: 1796.1308606\ttest: 1822.4496347\tbest: 1822.4496347 (369)\ttotal: 27s\tremaining: 9.5s\n",
      "370:\tlearn: 1795.8864290\ttest: 1822.2636270\tbest: 1822.2636270 (370)\ttotal: 27.1s\tremaining: 9.43s\n",
      "371:\tlearn: 1795.5284405\ttest: 1821.9731558\tbest: 1821.9731558 (371)\ttotal: 27.2s\tremaining: 9.35s\n",
      "372:\tlearn: 1795.3918894\ttest: 1821.8709785\tbest: 1821.8709785 (372)\ttotal: 27.2s\tremaining: 9.28s\n",
      "373:\tlearn: 1794.9999323\ttest: 1821.5367697\tbest: 1821.5367697 (373)\ttotal: 27.3s\tremaining: 9.2s\n",
      "374:\tlearn: 1794.6735203\ttest: 1821.3103795\tbest: 1821.3103795 (374)\ttotal: 27.4s\tremaining: 9.13s\n",
      "375:\tlearn: 1794.4697461\ttest: 1821.1713880\tbest: 1821.1713880 (375)\ttotal: 27.5s\tremaining: 9.06s\n",
      "376:\tlearn: 1794.3033476\ttest: 1821.0824775\tbest: 1821.0824775 (376)\ttotal: 27.6s\tremaining: 8.99s\n",
      "377:\tlearn: 1793.9686010\ttest: 1820.9090160\tbest: 1820.9090160 (377)\ttotal: 27.6s\tremaining: 8.92s\n",
      "378:\tlearn: 1793.7292949\ttest: 1820.7560082\tbest: 1820.7560082 (378)\ttotal: 27.7s\tremaining: 8.84s\n",
      "379:\tlearn: 1793.4738241\ttest: 1820.5197626\tbest: 1820.5197626 (379)\ttotal: 27.8s\tremaining: 8.77s\n",
      "380:\tlearn: 1793.2872228\ttest: 1820.3833296\tbest: 1820.3833296 (380)\ttotal: 27.8s\tremaining: 8.7s\n",
      "381:\tlearn: 1793.1513419\ttest: 1820.2715923\tbest: 1820.2715923 (381)\ttotal: 27.9s\tremaining: 8.62s\n",
      "382:\tlearn: 1792.9617536\ttest: 1820.1548443\tbest: 1820.1548443 (382)\ttotal: 28s\tremaining: 8.55s\n",
      "383:\tlearn: 1792.7390208\ttest: 1820.0098884\tbest: 1820.0098884 (383)\ttotal: 28.1s\tremaining: 8.48s\n",
      "384:\tlearn: 1792.4369285\ttest: 1819.7172202\tbest: 1819.7172202 (384)\ttotal: 28.1s\tremaining: 8.41s\n",
      "385:\tlearn: 1792.3007088\ttest: 1819.6505088\tbest: 1819.6505088 (385)\ttotal: 28.2s\tremaining: 8.34s\n",
      "386:\tlearn: 1792.2208740\ttest: 1819.5899217\tbest: 1819.5899217 (386)\ttotal: 28.3s\tremaining: 8.26s\n",
      "387:\tlearn: 1792.0366466\ttest: 1819.4284068\tbest: 1819.4284068 (387)\ttotal: 28.4s\tremaining: 8.19s\n",
      "388:\tlearn: 1791.8738059\ttest: 1819.2752504\tbest: 1819.2752504 (388)\ttotal: 28.5s\tremaining: 8.12s\n",
      "389:\tlearn: 1791.5821601\ttest: 1819.0716786\tbest: 1819.0716786 (389)\ttotal: 28.5s\tremaining: 8.05s\n",
      "390:\tlearn: 1791.3071520\ttest: 1818.9120213\tbest: 1818.9120213 (390)\ttotal: 28.6s\tremaining: 7.98s\n",
      "391:\tlearn: 1790.9396141\ttest: 1818.5251870\tbest: 1818.5251870 (391)\ttotal: 28.7s\tremaining: 7.91s\n",
      "392:\tlearn: 1790.4627694\ttest: 1818.1058872\tbest: 1818.1058872 (392)\ttotal: 28.8s\tremaining: 7.84s\n",
      "393:\tlearn: 1790.1987615\ttest: 1817.9121983\tbest: 1817.9121983 (393)\ttotal: 28.9s\tremaining: 7.77s\n",
      "394:\tlearn: 1789.9343125\ttest: 1817.7146520\tbest: 1817.7146520 (394)\ttotal: 28.9s\tremaining: 7.7s\n",
      "395:\tlearn: 1789.6425689\ttest: 1817.5057880\tbest: 1817.5057880 (395)\ttotal: 29s\tremaining: 7.63s\n",
      "396:\tlearn: 1789.3301333\ttest: 1817.2755341\tbest: 1817.2755341 (396)\ttotal: 29.1s\tremaining: 7.55s\n",
      "397:\tlearn: 1789.2108952\ttest: 1817.1663741\tbest: 1817.1663741 (397)\ttotal: 29.2s\tremaining: 7.48s\n",
      "398:\tlearn: 1789.1017341\ttest: 1817.1621255\tbest: 1817.1621255 (398)\ttotal: 29.2s\tremaining: 7.4s\n",
      "399:\tlearn: 1788.8767888\ttest: 1816.9808779\tbest: 1816.9808779 (399)\ttotal: 29.3s\tremaining: 7.33s\n",
      "400:\tlearn: 1788.5681991\ttest: 1816.7646208\tbest: 1816.7646208 (400)\ttotal: 29.4s\tremaining: 7.26s\n",
      "401:\tlearn: 1788.2426530\ttest: 1816.4632161\tbest: 1816.4632161 (401)\ttotal: 29.5s\tremaining: 7.19s\n",
      "402:\tlearn: 1788.0098542\ttest: 1816.2970519\tbest: 1816.2970519 (402)\ttotal: 29.5s\tremaining: 7.11s\n",
      "403:\tlearn: 1787.8210861\ttest: 1816.2455311\tbest: 1816.2455311 (403)\ttotal: 29.6s\tremaining: 7.04s\n",
      "404:\tlearn: 1787.6477385\ttest: 1816.0906908\tbest: 1816.0906908 (404)\ttotal: 29.7s\tremaining: 6.97s\n",
      "405:\tlearn: 1787.3535890\ttest: 1815.8808388\tbest: 1815.8808388 (405)\ttotal: 29.8s\tremaining: 6.89s\n",
      "406:\tlearn: 1787.1665600\ttest: 1815.7596092\tbest: 1815.7596092 (406)\ttotal: 29.8s\tremaining: 6.82s\n",
      "407:\tlearn: 1786.7730848\ttest: 1815.5061373\tbest: 1815.5061373 (407)\ttotal: 29.9s\tremaining: 6.75s\n",
      "408:\tlearn: 1786.5693893\ttest: 1815.4115600\tbest: 1815.4115600 (408)\ttotal: 30s\tremaining: 6.67s\n",
      "409:\tlearn: 1786.3648178\ttest: 1815.2626505\tbest: 1815.2626505 (409)\ttotal: 30.1s\tremaining: 6.6s\n",
      "410:\tlearn: 1786.1652439\ttest: 1815.1143356\tbest: 1815.1143356 (410)\ttotal: 30.2s\tremaining: 6.53s\n",
      "411:\tlearn: 1785.8878622\ttest: 1814.8737293\tbest: 1814.8737293 (411)\ttotal: 30.2s\tremaining: 6.45s\n",
      "412:\tlearn: 1785.6570374\ttest: 1814.6927278\tbest: 1814.6927278 (412)\ttotal: 30.3s\tremaining: 6.38s\n",
      "413:\tlearn: 1785.4172690\ttest: 1814.4632221\tbest: 1814.4632221 (413)\ttotal: 30.4s\tremaining: 6.3s\n",
      "414:\tlearn: 1785.1002194\ttest: 1814.2346709\tbest: 1814.2346709 (414)\ttotal: 30.4s\tremaining: 6.23s\n",
      "415:\tlearn: 1784.8595218\ttest: 1814.1167013\tbest: 1814.1167013 (415)\ttotal: 30.5s\tremaining: 6.16s\n",
      "416:\tlearn: 1784.6472179\ttest: 1814.0009108\tbest: 1814.0009108 (416)\ttotal: 30.6s\tremaining: 6.09s\n",
      "417:\tlearn: 1784.4258952\ttest: 1813.8790326\tbest: 1813.8790326 (417)\ttotal: 30.7s\tremaining: 6.01s\n",
      "418:\tlearn: 1784.1574878\ttest: 1813.7227103\tbest: 1813.7227103 (418)\ttotal: 30.7s\tremaining: 5.94s\n",
      "419:\tlearn: 1784.0704049\ttest: 1813.6513273\tbest: 1813.6513273 (419)\ttotal: 30.8s\tremaining: 5.87s\n",
      "420:\tlearn: 1783.8203726\ttest: 1813.4444791\tbest: 1813.4444791 (420)\ttotal: 30.9s\tremaining: 5.79s\n",
      "421:\tlearn: 1783.5134981\ttest: 1813.1987672\tbest: 1813.1987672 (421)\ttotal: 30.9s\tremaining: 5.72s\n",
      "422:\tlearn: 1783.2623644\ttest: 1813.0228397\tbest: 1813.0228397 (422)\ttotal: 31s\tremaining: 5.64s\n",
      "423:\tlearn: 1783.0336007\ttest: 1812.8091057\tbest: 1812.8091057 (423)\ttotal: 31.1s\tremaining: 5.57s\n",
      "424:\tlearn: 1782.7324510\ttest: 1812.6446231\tbest: 1812.6446231 (424)\ttotal: 31.2s\tremaining: 5.5s\n",
      "425:\tlearn: 1782.4929135\ttest: 1812.5031959\tbest: 1812.5031959 (425)\ttotal: 31.3s\tremaining: 5.43s\n",
      "426:\tlearn: 1782.3861770\ttest: 1812.4732673\tbest: 1812.4732673 (426)\ttotal: 31.3s\tremaining: 5.35s\n",
      "427:\tlearn: 1782.2244983\ttest: 1812.4080136\tbest: 1812.4080136 (427)\ttotal: 31.4s\tremaining: 5.28s\n",
      "428:\tlearn: 1782.0041168\ttest: 1812.2915107\tbest: 1812.2915107 (428)\ttotal: 31.5s\tremaining: 5.21s\n",
      "429:\tlearn: 1781.7857791\ttest: 1812.1621728\tbest: 1812.1621728 (429)\ttotal: 31.5s\tremaining: 5.13s\n",
      "430:\tlearn: 1781.5642998\ttest: 1811.9893666\tbest: 1811.9893666 (430)\ttotal: 31.6s\tremaining: 5.06s\n",
      "431:\tlearn: 1781.3220401\ttest: 1811.7881705\tbest: 1811.7881705 (431)\ttotal: 31.7s\tremaining: 4.99s\n",
      "432:\tlearn: 1781.0407452\ttest: 1811.5776928\tbest: 1811.5776928 (432)\ttotal: 31.7s\tremaining: 4.91s\n",
      "433:\tlearn: 1780.8871165\ttest: 1811.4653349\tbest: 1811.4653349 (433)\ttotal: 31.8s\tremaining: 4.84s\n",
      "434:\tlearn: 1780.5853241\ttest: 1811.2678192\tbest: 1811.2678192 (434)\ttotal: 31.9s\tremaining: 4.76s\n",
      "435:\tlearn: 1780.3691462\ttest: 1811.1022653\tbest: 1811.1022653 (435)\ttotal: 32s\tremaining: 4.7s\n",
      "436:\tlearn: 1780.0933836\ttest: 1810.8998512\tbest: 1810.8998512 (436)\ttotal: 32.1s\tremaining: 4.62s\n",
      "437:\tlearn: 1779.9617717\ttest: 1810.8171226\tbest: 1810.8171226 (437)\ttotal: 32.1s\tremaining: 4.55s\n",
      "438:\tlearn: 1779.7201715\ttest: 1810.6261897\tbest: 1810.6261897 (438)\ttotal: 32.2s\tremaining: 4.48s\n",
      "439:\tlearn: 1779.5522692\ttest: 1810.5074982\tbest: 1810.5074982 (439)\ttotal: 32.3s\tremaining: 4.41s\n",
      "440:\tlearn: 1779.3084605\ttest: 1810.4031124\tbest: 1810.4031124 (440)\ttotal: 32.4s\tremaining: 4.33s\n",
      "441:\tlearn: 1779.1565859\ttest: 1810.3282838\tbest: 1810.3282838 (441)\ttotal: 32.5s\tremaining: 4.26s\n",
      "442:\tlearn: 1779.0199493\ttest: 1810.2315581\tbest: 1810.2315581 (442)\ttotal: 32.5s\tremaining: 4.19s\n",
      "443:\tlearn: 1778.9024403\ttest: 1810.1222143\tbest: 1810.1222143 (443)\ttotal: 32.6s\tremaining: 4.11s\n",
      "444:\tlearn: 1778.7191976\ttest: 1809.9682298\tbest: 1809.9682298 (444)\ttotal: 32.7s\tremaining: 4.04s\n",
      "445:\tlearn: 1778.5386924\ttest: 1809.8161717\tbest: 1809.8161717 (445)\ttotal: 32.8s\tremaining: 3.97s\n",
      "446:\tlearn: 1778.4301529\ttest: 1809.7799501\tbest: 1809.7799501 (446)\ttotal: 32.8s\tremaining: 3.89s\n",
      "447:\tlearn: 1778.1884198\ttest: 1809.6523916\tbest: 1809.6523916 (447)\ttotal: 32.9s\tremaining: 3.82s\n",
      "448:\tlearn: 1778.0254161\ttest: 1809.5729271\tbest: 1809.5729271 (448)\ttotal: 33s\tremaining: 3.75s\n",
      "449:\tlearn: 1777.7363506\ttest: 1809.4098319\tbest: 1809.4098319 (449)\ttotal: 33.1s\tremaining: 3.68s\n",
      "450:\tlearn: 1777.4600148\ttest: 1809.2292454\tbest: 1809.2292454 (450)\ttotal: 33.2s\tremaining: 3.61s\n",
      "451:\tlearn: 1777.2917115\ttest: 1809.1095555\tbest: 1809.1095555 (451)\ttotal: 33.3s\tremaining: 3.53s\n",
      "452:\tlearn: 1777.1037102\ttest: 1809.0721251\tbest: 1809.0721251 (452)\ttotal: 33.3s\tremaining: 3.46s\n",
      "453:\tlearn: 1776.9886962\ttest: 1809.0140982\tbest: 1809.0140982 (453)\ttotal: 33.4s\tremaining: 3.38s\n",
      "454:\tlearn: 1776.7999912\ttest: 1808.9058120\tbest: 1808.9058120 (454)\ttotal: 33.5s\tremaining: 3.31s\n",
      "455:\tlearn: 1776.5911921\ttest: 1808.8008918\tbest: 1808.8008918 (455)\ttotal: 33.5s\tremaining: 3.24s\n",
      "456:\tlearn: 1776.3963459\ttest: 1808.6413806\tbest: 1808.6413806 (456)\ttotal: 33.6s\tremaining: 3.16s\n",
      "457:\tlearn: 1776.1528766\ttest: 1808.4316996\tbest: 1808.4316996 (457)\ttotal: 33.7s\tremaining: 3.09s\n",
      "458:\tlearn: 1776.0704122\ttest: 1808.3940116\tbest: 1808.3940116 (458)\ttotal: 33.8s\tremaining: 3.02s\n",
      "459:\tlearn: 1775.9518028\ttest: 1808.3371883\tbest: 1808.3371883 (459)\ttotal: 33.8s\tremaining: 2.94s\n",
      "460:\tlearn: 1775.7954018\ttest: 1808.2212481\tbest: 1808.2212481 (460)\ttotal: 33.9s\tremaining: 2.87s\n",
      "461:\tlearn: 1775.6788985\ttest: 1808.1568916\tbest: 1808.1568916 (461)\ttotal: 34s\tremaining: 2.79s\n",
      "462:\tlearn: 1775.4901047\ttest: 1808.0671048\tbest: 1808.0671048 (462)\ttotal: 34.1s\tremaining: 2.72s\n",
      "463:\tlearn: 1775.2421731\ttest: 1807.8835959\tbest: 1807.8835959 (463)\ttotal: 34.1s\tremaining: 2.65s\n",
      "464:\tlearn: 1775.1649884\ttest: 1807.8573794\tbest: 1807.8573794 (464)\ttotal: 34.2s\tremaining: 2.58s\n",
      "465:\tlearn: 1774.9553926\ttest: 1807.6805382\tbest: 1807.6805382 (465)\ttotal: 34.3s\tremaining: 2.5s\n",
      "466:\tlearn: 1774.8113491\ttest: 1807.5859071\tbest: 1807.5859071 (466)\ttotal: 34.4s\tremaining: 2.43s\n",
      "467:\tlearn: 1774.7341010\ttest: 1807.5528963\tbest: 1807.5528963 (467)\ttotal: 34.5s\tremaining: 2.36s\n",
      "468:\tlearn: 1774.5032184\ttest: 1807.3969629\tbest: 1807.3969629 (468)\ttotal: 34.5s\tremaining: 2.28s\n",
      "469:\tlearn: 1774.1996556\ttest: 1807.1528709\tbest: 1807.1528709 (469)\ttotal: 34.6s\tremaining: 2.21s\n",
      "470:\tlearn: 1774.1116962\ttest: 1807.1034625\tbest: 1807.1034625 (470)\ttotal: 34.7s\tremaining: 2.13s\n",
      "471:\tlearn: 1773.9780296\ttest: 1807.0221011\tbest: 1807.0221011 (471)\ttotal: 34.8s\tremaining: 2.06s\n",
      "472:\tlearn: 1773.7893807\ttest: 1806.8713488\tbest: 1806.8713488 (472)\ttotal: 34.8s\tremaining: 1.99s\n",
      "473:\tlearn: 1773.5122054\ttest: 1806.6937566\tbest: 1806.6937566 (473)\ttotal: 34.9s\tremaining: 1.92s\n",
      "474:\tlearn: 1773.2659670\ttest: 1806.4787195\tbest: 1806.4787195 (474)\ttotal: 35s\tremaining: 1.84s\n",
      "475:\tlearn: 1773.0397796\ttest: 1806.3598110\tbest: 1806.3598110 (475)\ttotal: 35.1s\tremaining: 1.77s\n",
      "476:\tlearn: 1772.8278225\ttest: 1806.2305751\tbest: 1806.2305751 (476)\ttotal: 35.1s\tremaining: 1.69s\n",
      "477:\tlearn: 1772.5191592\ttest: 1805.9257676\tbest: 1805.9257676 (477)\ttotal: 35.2s\tremaining: 1.62s\n",
      "478:\tlearn: 1772.3412053\ttest: 1805.8530743\tbest: 1805.8530743 (478)\ttotal: 35.3s\tremaining: 1.55s\n",
      "479:\tlearn: 1772.2414424\ttest: 1805.8271393\tbest: 1805.8271393 (479)\ttotal: 35.4s\tremaining: 1.47s\n",
      "480:\tlearn: 1771.9695943\ttest: 1805.6415430\tbest: 1805.6415430 (480)\ttotal: 35.4s\tremaining: 1.4s\n",
      "481:\tlearn: 1771.7420443\ttest: 1805.4671502\tbest: 1805.4671502 (481)\ttotal: 35.5s\tremaining: 1.32s\n",
      "482:\tlearn: 1771.5788873\ttest: 1805.3496307\tbest: 1805.3496307 (482)\ttotal: 35.6s\tremaining: 1.25s\n",
      "483:\tlearn: 1771.3102412\ttest: 1805.2159197\tbest: 1805.2159197 (483)\ttotal: 35.6s\tremaining: 1.18s\n",
      "484:\tlearn: 1771.1761982\ttest: 1805.1630148\tbest: 1805.1630148 (484)\ttotal: 35.7s\tremaining: 1.1s\n",
      "485:\tlearn: 1771.1099453\ttest: 1805.1289155\tbest: 1805.1289155 (485)\ttotal: 35.8s\tremaining: 1.03s\n",
      "486:\tlearn: 1770.8348358\ttest: 1804.9091428\tbest: 1804.9091428 (486)\ttotal: 35.9s\tremaining: 957ms\n",
      "487:\tlearn: 1770.6524168\ttest: 1804.7734081\tbest: 1804.7734081 (487)\ttotal: 35.9s\tremaining: 884ms\n",
      "488:\tlearn: 1770.5304572\ttest: 1804.7362133\tbest: 1804.7362133 (488)\ttotal: 36s\tremaining: 810ms\n",
      "489:\tlearn: 1770.3963391\ttest: 1804.6520942\tbest: 1804.6520942 (489)\ttotal: 36.1s\tremaining: 737ms\n",
      "490:\tlearn: 1770.2349619\ttest: 1804.5897174\tbest: 1804.5897174 (490)\ttotal: 36.2s\tremaining: 663ms\n",
      "491:\tlearn: 1770.0112893\ttest: 1804.4658213\tbest: 1804.4658213 (491)\ttotal: 36.3s\tremaining: 590ms\n",
      "492:\tlearn: 1769.6284866\ttest: 1804.0820632\tbest: 1804.0820632 (492)\ttotal: 36.3s\tremaining: 516ms\n",
      "493:\tlearn: 1769.2910793\ttest: 1803.7667974\tbest: 1803.7667974 (493)\ttotal: 36.4s\tremaining: 442ms\n",
      "494:\tlearn: 1769.1882487\ttest: 1803.7159156\tbest: 1803.7159156 (494)\ttotal: 36.5s\tremaining: 368ms\n",
      "495:\tlearn: 1769.0137671\ttest: 1803.6574052\tbest: 1803.6574052 (495)\ttotal: 36.6s\tremaining: 295ms\n",
      "496:\tlearn: 1768.8434329\ttest: 1803.6253784\tbest: 1803.6253784 (496)\ttotal: 36.6s\tremaining: 221ms\n",
      "497:\tlearn: 1768.7068816\ttest: 1803.5325455\tbest: 1803.5325455 (497)\ttotal: 36.7s\tremaining: 147ms\n",
      "498:\tlearn: 1768.5038348\ttest: 1803.3743153\tbest: 1803.3743153 (498)\ttotal: 36.8s\tremaining: 73.7ms\n",
      "499:\tlearn: 1768.3268274\ttest: 1803.2760240\tbest: 1803.2760240 (499)\ttotal: 36.8s\tremaining: 0us\n",
      "\n",
      "bestTest = 1803.276024\n",
      "bestIteration = 499\n",
      "\n",
      "Training on fold [2/3]\n",
      "0:\tlearn: 6212.1526179\ttest: 6185.0011872\tbest: 6185.0011872 (0)\ttotal: 88.4ms\tremaining: 44.1s\n",
      "1:\tlearn: 6057.1324163\ttest: 6031.1052404\tbest: 6031.1052404 (1)\ttotal: 187ms\tremaining: 46.4s\n",
      "2:\tlearn: 5904.6439777\ttest: 5879.2999014\tbest: 5879.2999014 (2)\ttotal: 274ms\tremaining: 45.5s\n",
      "3:\tlearn: 5758.9756080\ttest: 5734.9519591\tbest: 5734.9519591 (3)\ttotal: 363ms\tremaining: 45s\n",
      "4:\tlearn: 5617.6424082\ttest: 5594.6042266\tbest: 5594.6042266 (4)\ttotal: 461ms\tremaining: 45.6s\n",
      "5:\tlearn: 5480.4085881\ttest: 5458.2740259\tbest: 5458.2740259 (5)\ttotal: 552ms\tremaining: 45.5s\n",
      "6:\tlearn: 5349.6221622\ttest: 5328.4325566\tbest: 5328.4325566 (6)\ttotal: 638ms\tremaining: 45s\n",
      "7:\tlearn: 5223.7511410\ttest: 5203.2894004\tbest: 5203.2894004 (7)\ttotal: 720ms\tremaining: 44.3s\n",
      "8:\tlearn: 5100.2823966\ttest: 5080.7693180\tbest: 5080.7693180 (8)\ttotal: 815ms\tremaining: 44.4s\n",
      "9:\tlearn: 4980.8152035\ttest: 4962.0555567\tbest: 4962.0555567 (9)\ttotal: 894ms\tremaining: 43.8s\n",
      "10:\tlearn: 4866.5341354\ttest: 4848.9231570\tbest: 4848.9231570 (10)\ttotal: 975ms\tremaining: 43.3s\n",
      "11:\tlearn: 4755.2419185\ttest: 4738.3693275\tbest: 4738.3693275 (11)\ttotal: 1.06s\tremaining: 43.3s\n",
      "12:\tlearn: 4645.8670955\ttest: 4629.7503914\tbest: 4629.7503914 (12)\ttotal: 1.14s\tremaining: 42.9s\n",
      "13:\tlearn: 4540.2947918\ttest: 4525.1566389\tbest: 4525.1566389 (13)\ttotal: 1.22s\tremaining: 42.3s\n",
      "14:\tlearn: 4440.7664368\ttest: 4426.5940104\tbest: 4426.5940104 (14)\ttotal: 1.3s\tremaining: 42.2s\n",
      "15:\tlearn: 4342.4628223\ttest: 4328.6609883\tbest: 4328.6609883 (15)\ttotal: 1.39s\tremaining: 41.9s\n",
      "16:\tlearn: 4249.0706858\ttest: 4236.0685082\tbest: 4236.0685082 (16)\ttotal: 1.46s\tremaining: 41.5s\n",
      "17:\tlearn: 4158.9989610\ttest: 4146.5154975\tbest: 4146.5154975 (17)\ttotal: 1.55s\tremaining: 41.6s\n",
      "18:\tlearn: 4070.7876104\ttest: 4058.7526348\tbest: 4058.7526348 (18)\ttotal: 1.62s\tremaining: 41.1s\n",
      "19:\tlearn: 3987.2247030\ttest: 3975.9966475\tbest: 3975.9966475 (19)\ttotal: 1.69s\tremaining: 40.6s\n",
      "20:\tlearn: 3904.9082403\ttest: 3894.0195705\tbest: 3894.0195705 (20)\ttotal: 1.78s\tremaining: 40.6s\n",
      "21:\tlearn: 3825.9941052\ttest: 3815.4923997\tbest: 3815.4923997 (21)\ttotal: 1.86s\tremaining: 40.3s\n",
      "22:\tlearn: 3749.1767344\ttest: 3739.1503280\tbest: 3739.1503280 (22)\ttotal: 1.94s\tremaining: 40.2s\n",
      "23:\tlearn: 3676.5204698\ttest: 3667.2119801\tbest: 3667.2119801 (23)\ttotal: 2.01s\tremaining: 39.9s\n",
      "24:\tlearn: 3606.1730286\ttest: 3597.1916448\tbest: 3597.1916448 (24)\ttotal: 2.1s\tremaining: 39.9s\n",
      "25:\tlearn: 3539.2219187\ttest: 3530.7863975\tbest: 3530.7863975 (25)\ttotal: 2.17s\tremaining: 39.6s\n",
      "26:\tlearn: 3473.0755206\ttest: 3465.1508524\tbest: 3465.1508524 (26)\ttotal: 2.26s\tremaining: 39.6s\n",
      "27:\tlearn: 3411.9144465\ttest: 3404.2922026\tbest: 3404.2922026 (27)\ttotal: 2.32s\tremaining: 39.2s\n",
      "28:\tlearn: 3350.4534275\ttest: 3343.0092091\tbest: 3343.0092091 (28)\ttotal: 2.39s\tremaining: 38.9s\n",
      "29:\tlearn: 3292.0826687\ttest: 3284.9529351\tbest: 3284.9529351 (29)\ttotal: 2.47s\tremaining: 38.7s\n",
      "30:\tlearn: 3237.2929291\ttest: 3230.5947019\tbest: 3230.5947019 (30)\ttotal: 2.55s\tremaining: 38.6s\n",
      "31:\tlearn: 3183.4150643\ttest: 3176.9759212\tbest: 3176.9759212 (31)\ttotal: 2.63s\tremaining: 38.4s\n",
      "32:\tlearn: 3131.0096682\ttest: 3124.5859372\tbest: 3124.5859372 (32)\ttotal: 2.72s\tremaining: 38.5s\n",
      "33:\tlearn: 3081.5155435\ttest: 3075.5483564\tbest: 3075.5483564 (33)\ttotal: 2.79s\tremaining: 38.3s\n",
      "34:\tlearn: 3033.1623781\ttest: 3027.5066805\tbest: 3027.5066805 (34)\ttotal: 2.87s\tremaining: 38.1s\n",
      "35:\tlearn: 2986.2976374\ttest: 2980.9396138\tbest: 2980.9396138 (35)\ttotal: 2.98s\tremaining: 38.4s\n",
      "36:\tlearn: 2942.6316896\ttest: 2937.6751831\tbest: 2937.6751831 (36)\ttotal: 3.05s\tremaining: 38.2s\n",
      "37:\tlearn: 2900.3527853\ttest: 2895.7425221\tbest: 2895.7425221 (37)\ttotal: 3.14s\tremaining: 38.1s\n",
      "38:\tlearn: 2859.3055488\ttest: 2854.7542145\tbest: 2854.7542145 (38)\ttotal: 3.22s\tremaining: 38s\n",
      "39:\tlearn: 2821.5949917\ttest: 2817.3008100\tbest: 2817.3008100 (39)\ttotal: 3.28s\tremaining: 37.8s\n",
      "40:\tlearn: 2783.0951766\ttest: 2779.0553358\tbest: 2779.0553358 (40)\ttotal: 3.36s\tremaining: 37.6s\n",
      "41:\tlearn: 2747.9324542\ttest: 2744.1794781\tbest: 2744.1794781 (41)\ttotal: 3.44s\tremaining: 37.5s\n",
      "42:\tlearn: 2713.1491682\ttest: 2709.7075854\tbest: 2709.7075854 (42)\ttotal: 3.52s\tremaining: 37.5s\n",
      "43:\tlearn: 2679.7480268\ttest: 2676.3429116\tbest: 2676.3429116 (43)\ttotal: 3.6s\tremaining: 37.3s\n",
      "44:\tlearn: 2648.2136260\ttest: 2645.0221541\tbest: 2645.0221541 (44)\ttotal: 3.69s\tremaining: 37.3s\n",
      "45:\tlearn: 2618.7200216\ttest: 2615.6368928\tbest: 2615.6368928 (45)\ttotal: 3.77s\tremaining: 37.2s\n",
      "46:\tlearn: 2588.9832909\ttest: 2585.9695561\tbest: 2585.9695561 (46)\ttotal: 3.85s\tremaining: 37.1s\n",
      "47:\tlearn: 2561.0899652\ttest: 2558.2718145\tbest: 2558.2718145 (47)\ttotal: 3.94s\tremaining: 37.1s\n",
      "48:\tlearn: 2534.1932821\ttest: 2531.5646648\tbest: 2531.5646648 (48)\ttotal: 4.02s\tremaining: 37s\n",
      "49:\tlearn: 2508.2639271\ttest: 2505.6603788\tbest: 2505.6603788 (49)\ttotal: 4.11s\tremaining: 37s\n",
      "50:\tlearn: 2483.9432494\ttest: 2481.2740703\tbest: 2481.2740703 (50)\ttotal: 4.18s\tremaining: 36.8s\n",
      "51:\tlearn: 2460.0866361\ttest: 2457.5129365\tbest: 2457.5129365 (51)\ttotal: 4.26s\tremaining: 36.7s\n",
      "52:\tlearn: 2436.6652562\ttest: 2434.0936229\tbest: 2434.0936229 (52)\ttotal: 4.34s\tremaining: 36.6s\n",
      "53:\tlearn: 2415.0963362\ttest: 2412.6462286\tbest: 2412.6462286 (53)\ttotal: 4.42s\tremaining: 36.5s\n",
      "54:\tlearn: 2393.6379721\ttest: 2391.4180906\tbest: 2391.4180906 (54)\ttotal: 4.5s\tremaining: 36.4s\n",
      "55:\tlearn: 2373.6885631\ttest: 2371.6325700\tbest: 2371.6325700 (55)\ttotal: 4.57s\tremaining: 36.3s\n",
      "56:\tlearn: 2354.8897534\ttest: 2353.1024074\tbest: 2353.1024074 (56)\ttotal: 4.65s\tremaining: 36.2s\n",
      "57:\tlearn: 2337.1807687\ttest: 2335.3014678\tbest: 2335.3014678 (57)\ttotal: 4.72s\tremaining: 36s\n",
      "58:\tlearn: 2318.6909876\ttest: 2317.1194254\tbest: 2317.1194254 (58)\ttotal: 4.78s\tremaining: 35.8s\n",
      "59:\tlearn: 2300.9974022\ttest: 2299.3254645\tbest: 2299.3254645 (59)\ttotal: 4.85s\tremaining: 35.6s\n",
      "60:\tlearn: 2284.6174577\ttest: 2282.9199283\tbest: 2282.9199283 (60)\ttotal: 4.93s\tremaining: 35.5s\n",
      "61:\tlearn: 2268.1514486\ttest: 2266.5140663\tbest: 2266.5140663 (61)\ttotal: 5.01s\tremaining: 35.4s\n",
      "62:\tlearn: 2253.3517637\ttest: 2251.7767717\tbest: 2251.7767717 (62)\ttotal: 5.09s\tremaining: 35.3s\n",
      "63:\tlearn: 2238.4766627\ttest: 2236.8576990\tbest: 2236.8576990 (63)\ttotal: 5.17s\tremaining: 35.2s\n",
      "64:\tlearn: 2224.3333868\ttest: 2222.9314104\tbest: 2222.9314104 (64)\ttotal: 5.24s\tremaining: 35s\n",
      "65:\tlearn: 2211.6865228\ttest: 2210.5049705\tbest: 2210.5049705 (65)\ttotal: 5.31s\tremaining: 34.9s\n",
      "66:\tlearn: 2199.0583215\ttest: 2197.9369885\tbest: 2197.9369885 (66)\ttotal: 5.38s\tremaining: 34.8s\n",
      "67:\tlearn: 2187.3766708\ttest: 2186.4975391\tbest: 2186.4975391 (67)\ttotal: 5.45s\tremaining: 34.6s\n",
      "68:\tlearn: 2175.8361998\ttest: 2175.0894303\tbest: 2175.0894303 (68)\ttotal: 5.53s\tremaining: 34.5s\n",
      "69:\tlearn: 2164.3440272\ttest: 2163.6273290\tbest: 2163.6273290 (69)\ttotal: 5.61s\tremaining: 34.5s\n",
      "70:\tlearn: 2153.8650343\ttest: 2153.3056219\tbest: 2153.3056219 (70)\ttotal: 5.68s\tremaining: 34.3s\n",
      "71:\tlearn: 2143.9244118\ttest: 2143.6118648\tbest: 2143.6118648 (71)\ttotal: 5.76s\tremaining: 34.2s\n",
      "72:\tlearn: 2134.6631146\ttest: 2134.3791875\tbest: 2134.3791875 (72)\ttotal: 5.84s\tremaining: 34.2s\n",
      "73:\tlearn: 2125.1709126\ttest: 2124.9849391\tbest: 2124.9849391 (73)\ttotal: 5.92s\tremaining: 34.1s\n",
      "74:\tlearn: 2116.4801200\ttest: 2116.4832262\tbest: 2116.4832262 (74)\ttotal: 5.98s\tremaining: 33.9s\n",
      "75:\tlearn: 2107.5871097\ttest: 2107.7116362\tbest: 2107.7116362 (75)\ttotal: 6.06s\tremaining: 33.8s\n",
      "76:\tlearn: 2099.4726155\ttest: 2099.6479092\tbest: 2099.6479092 (76)\ttotal: 6.15s\tremaining: 33.8s\n",
      "77:\tlearn: 2091.5839282\ttest: 2091.8871561\tbest: 2091.8871561 (77)\ttotal: 6.23s\tremaining: 33.7s\n",
      "78:\tlearn: 2083.9810379\ttest: 2084.4244902\tbest: 2084.4244902 (78)\ttotal: 6.3s\tremaining: 33.6s\n",
      "79:\tlearn: 2076.5606196\ttest: 2077.0363494\tbest: 2077.0363494 (79)\ttotal: 6.37s\tremaining: 33.5s\n",
      "80:\tlearn: 2069.4243044\ttest: 2069.8831718\tbest: 2069.8831718 (80)\ttotal: 6.44s\tremaining: 33.3s\n",
      "81:\tlearn: 2062.3410906\ttest: 2062.7396718\tbest: 2062.7396718 (81)\ttotal: 6.53s\tremaining: 33.3s\n",
      "82:\tlearn: 2055.5913068\ttest: 2055.9887130\tbest: 2055.9887130 (82)\ttotal: 6.6s\tremaining: 33.2s\n",
      "83:\tlearn: 2049.3977648\ttest: 2049.8732944\tbest: 2049.8732944 (83)\ttotal: 6.67s\tremaining: 33s\n",
      "84:\tlearn: 2043.1092370\ttest: 2043.5552782\tbest: 2043.5552782 (84)\ttotal: 6.75s\tremaining: 32.9s\n",
      "85:\tlearn: 2037.0872223\ttest: 2037.5170689\tbest: 2037.5170689 (85)\ttotal: 6.83s\tremaining: 32.9s\n",
      "86:\tlearn: 2031.6449488\ttest: 2032.2291272\tbest: 2032.2291272 (86)\ttotal: 6.92s\tremaining: 32.9s\n",
      "87:\tlearn: 2026.5309199\ttest: 2027.2286913\tbest: 2027.2286913 (87)\ttotal: 7.03s\tremaining: 32.9s\n",
      "88:\tlearn: 2021.5154532\ttest: 2022.1811826\tbest: 2022.1811826 (88)\ttotal: 7.12s\tremaining: 32.9s\n",
      "89:\tlearn: 2016.5560993\ttest: 2017.4461785\tbest: 2017.4461785 (89)\ttotal: 7.18s\tremaining: 32.7s\n",
      "90:\tlearn: 2012.0135533\ttest: 2012.9530060\tbest: 2012.9530060 (90)\ttotal: 7.25s\tremaining: 32.6s\n",
      "91:\tlearn: 2007.2620194\ttest: 2008.2530123\tbest: 2008.2530123 (91)\ttotal: 7.33s\tremaining: 32.5s\n",
      "92:\tlearn: 2003.0315953\ttest: 2004.0217122\tbest: 2004.0217122 (92)\ttotal: 7.38s\tremaining: 32.3s\n",
      "93:\tlearn: 1998.8640656\ttest: 1999.9490387\tbest: 1999.9490387 (93)\ttotal: 7.45s\tremaining: 32.2s\n",
      "94:\tlearn: 1995.1319500\ttest: 1996.2381455\tbest: 1996.2381455 (94)\ttotal: 7.52s\tremaining: 32.1s\n",
      "95:\tlearn: 1991.1755936\ttest: 1992.2541894\tbest: 1992.2541894 (95)\ttotal: 7.59s\tremaining: 31.9s\n",
      "96:\tlearn: 1987.9647022\ttest: 1989.0912015\tbest: 1989.0912015 (96)\ttotal: 7.66s\tremaining: 31.8s\n",
      "97:\tlearn: 1984.4878938\ttest: 1985.6899033\tbest: 1985.6899033 (97)\ttotal: 7.73s\tremaining: 31.7s\n",
      "98:\tlearn: 1981.0565405\ttest: 1982.3695345\tbest: 1982.3695345 (98)\ttotal: 7.8s\tremaining: 31.6s\n",
      "99:\tlearn: 1977.3334081\ttest: 1978.7514825\tbest: 1978.7514825 (99)\ttotal: 7.88s\tremaining: 31.5s\n",
      "100:\tlearn: 1974.0511053\ttest: 1975.5506735\tbest: 1975.5506735 (100)\ttotal: 7.94s\tremaining: 31.4s\n",
      "101:\tlearn: 1970.6429153\ttest: 1972.2788651\tbest: 1972.2788651 (101)\ttotal: 8.02s\tremaining: 31.3s\n",
      "102:\tlearn: 1967.6267533\ttest: 1969.3050445\tbest: 1969.3050445 (102)\ttotal: 8.09s\tremaining: 31.2s\n",
      "103:\tlearn: 1964.5847639\ttest: 1966.3289612\tbest: 1966.3289612 (103)\ttotal: 8.17s\tremaining: 31.1s\n",
      "104:\tlearn: 1961.5310451\ttest: 1963.2263408\tbest: 1963.2263408 (104)\ttotal: 8.24s\tremaining: 31s\n",
      "105:\tlearn: 1958.7171227\ttest: 1960.5031623\tbest: 1960.5031623 (105)\ttotal: 8.33s\tremaining: 31s\n",
      "106:\tlearn: 1956.0713152\ttest: 1957.9198382\tbest: 1957.9198382 (106)\ttotal: 8.41s\tremaining: 30.9s\n",
      "107:\tlearn: 1953.5279003\ttest: 1955.3490803\tbest: 1955.3490803 (107)\ttotal: 8.5s\tremaining: 30.8s\n",
      "108:\tlearn: 1950.9326064\ttest: 1952.7364952\tbest: 1952.7364952 (108)\ttotal: 8.57s\tremaining: 30.7s\n",
      "109:\tlearn: 1947.7284081\ttest: 1949.6341553\tbest: 1949.6341553 (109)\ttotal: 8.64s\tremaining: 30.6s\n",
      "110:\tlearn: 1945.6674210\ttest: 1947.7221353\tbest: 1947.7221353 (110)\ttotal: 8.72s\tremaining: 30.5s\n",
      "111:\tlearn: 1943.0567059\ttest: 1945.1805312\tbest: 1945.1805312 (111)\ttotal: 8.79s\tremaining: 30.4s\n",
      "112:\tlearn: 1941.0631144\ttest: 1943.1749607\tbest: 1943.1749607 (112)\ttotal: 8.86s\tremaining: 30.4s\n",
      "113:\tlearn: 1938.6958120\ttest: 1940.7003549\tbest: 1940.7003549 (113)\ttotal: 8.94s\tremaining: 30.3s\n",
      "114:\tlearn: 1936.4299604\ttest: 1938.4698330\tbest: 1938.4698330 (114)\ttotal: 9.03s\tremaining: 30.2s\n",
      "115:\tlearn: 1934.3574350\ttest: 1936.4632173\tbest: 1936.4632173 (115)\ttotal: 9.11s\tremaining: 30.2s\n",
      "116:\tlearn: 1932.3787858\ttest: 1934.6310428\tbest: 1934.6310428 (116)\ttotal: 9.18s\tremaining: 30.1s\n",
      "117:\tlearn: 1930.4821872\ttest: 1932.7993804\tbest: 1932.7993804 (117)\ttotal: 9.25s\tremaining: 29.9s\n",
      "118:\tlearn: 1928.4106117\ttest: 1930.6847861\tbest: 1930.6847861 (118)\ttotal: 9.31s\tremaining: 29.8s\n",
      "119:\tlearn: 1926.7829360\ttest: 1929.1741593\tbest: 1929.1741593 (119)\ttotal: 9.4s\tremaining: 29.8s\n",
      "120:\tlearn: 1925.0573733\ttest: 1927.5819381\tbest: 1927.5819381 (120)\ttotal: 9.48s\tremaining: 29.7s\n",
      "121:\tlearn: 1922.7497874\ttest: 1925.3857092\tbest: 1925.3857092 (121)\ttotal: 9.56s\tremaining: 29.6s\n",
      "122:\tlearn: 1921.0863310\ttest: 1923.7643576\tbest: 1923.7643576 (122)\ttotal: 9.63s\tremaining: 29.5s\n",
      "123:\tlearn: 1919.3854100\ttest: 1922.1774224\tbest: 1922.1774224 (123)\ttotal: 9.72s\tremaining: 29.5s\n",
      "124:\tlearn: 1917.8797203\ttest: 1920.8224551\tbest: 1920.8224551 (124)\ttotal: 9.81s\tremaining: 29.4s\n",
      "125:\tlearn: 1916.5189811\ttest: 1919.5638754\tbest: 1919.5638754 (125)\ttotal: 9.9s\tremaining: 29.4s\n",
      "126:\tlearn: 1915.2431601\ttest: 1918.3709209\tbest: 1918.3709209 (126)\ttotal: 9.99s\tremaining: 29.4s\n",
      "127:\tlearn: 1913.7570427\ttest: 1916.9772688\tbest: 1916.9772688 (127)\ttotal: 10.1s\tremaining: 29.3s\n",
      "128:\tlearn: 1912.3858132\ttest: 1915.6387122\tbest: 1915.6387122 (128)\ttotal: 10.2s\tremaining: 29.3s\n",
      "129:\tlearn: 1910.8770301\ttest: 1914.2206212\tbest: 1914.2206212 (129)\ttotal: 10.3s\tremaining: 29.3s\n",
      "130:\tlearn: 1909.6239892\ttest: 1912.9553518\tbest: 1912.9553518 (130)\ttotal: 10.4s\tremaining: 29.3s\n",
      "131:\tlearn: 1908.3344672\ttest: 1911.6775531\tbest: 1911.6775531 (131)\ttotal: 10.5s\tremaining: 29.2s\n",
      "132:\tlearn: 1907.2778662\ttest: 1910.7807239\tbest: 1910.7807239 (132)\ttotal: 10.6s\tremaining: 29.2s\n",
      "133:\tlearn: 1905.4790699\ttest: 1909.0101747\tbest: 1909.0101747 (133)\ttotal: 10.7s\tremaining: 29.2s\n",
      "134:\tlearn: 1904.0986675\ttest: 1907.7804530\tbest: 1907.7804530 (134)\ttotal: 10.8s\tremaining: 29.1s\n",
      "135:\tlearn: 1902.8552080\ttest: 1906.6748791\tbest: 1906.6748791 (135)\ttotal: 10.8s\tremaining: 29s\n",
      "136:\tlearn: 1901.3187146\ttest: 1905.1989834\tbest: 1905.1989834 (136)\ttotal: 10.9s\tremaining: 28.9s\n",
      "137:\tlearn: 1900.2450783\ttest: 1904.1754930\tbest: 1904.1754930 (137)\ttotal: 11s\tremaining: 28.8s\n",
      "138:\tlearn: 1899.2486158\ttest: 1903.3871170\tbest: 1903.3871170 (138)\ttotal: 11.1s\tremaining: 28.7s\n",
      "139:\tlearn: 1898.1999444\ttest: 1902.3517761\tbest: 1902.3517761 (139)\ttotal: 11.1s\tremaining: 28.7s\n",
      "140:\tlearn: 1897.2556362\ttest: 1901.4577766\tbest: 1901.4577766 (140)\ttotal: 11.2s\tremaining: 28.6s\n",
      "141:\tlearn: 1896.3784903\ttest: 1900.7384677\tbest: 1900.7384677 (141)\ttotal: 11.3s\tremaining: 28.5s\n",
      "142:\tlearn: 1895.1186802\ttest: 1899.7155912\tbest: 1899.7155912 (142)\ttotal: 11.3s\tremaining: 28.3s\n",
      "143:\tlearn: 1893.8711186\ttest: 1898.6646841\tbest: 1898.6646841 (143)\ttotal: 11.4s\tremaining: 28.3s\n",
      "144:\tlearn: 1892.9306282\ttest: 1897.8802810\tbest: 1897.8802810 (144)\ttotal: 11.5s\tremaining: 28.2s\n",
      "145:\tlearn: 1891.9337725\ttest: 1897.0127940\tbest: 1897.0127940 (145)\ttotal: 11.6s\tremaining: 28.1s\n",
      "146:\tlearn: 1890.7410379\ttest: 1895.7963579\tbest: 1895.7963579 (146)\ttotal: 11.7s\tremaining: 28s\n",
      "147:\tlearn: 1889.6349581\ttest: 1894.8135948\tbest: 1894.8135948 (147)\ttotal: 11.7s\tremaining: 27.9s\n",
      "148:\tlearn: 1888.6152939\ttest: 1893.7883431\tbest: 1893.7883431 (148)\ttotal: 11.8s\tremaining: 27.8s\n",
      "149:\tlearn: 1887.7355748\ttest: 1893.1711060\tbest: 1893.1711060 (149)\ttotal: 11.9s\tremaining: 27.7s\n",
      "150:\tlearn: 1886.8295128\ttest: 1892.3830926\tbest: 1892.3830926 (150)\ttotal: 12s\tremaining: 27.7s\n",
      "151:\tlearn: 1885.9135628\ttest: 1891.4917843\tbest: 1891.4917843 (151)\ttotal: 12s\tremaining: 27.6s\n",
      "152:\tlearn: 1885.3173621\ttest: 1890.9935574\tbest: 1890.9935574 (152)\ttotal: 12.1s\tremaining: 27.5s\n",
      "153:\tlearn: 1884.3128704\ttest: 1889.9723779\tbest: 1889.9723779 (153)\ttotal: 12.2s\tremaining: 27.4s\n",
      "154:\tlearn: 1883.6805839\ttest: 1889.4352561\tbest: 1889.4352561 (154)\ttotal: 12.3s\tremaining: 27.3s\n",
      "155:\tlearn: 1882.3391138\ttest: 1888.2184987\tbest: 1888.2184987 (155)\ttotal: 12.3s\tremaining: 27.2s\n",
      "156:\tlearn: 1881.6285709\ttest: 1887.5120794\tbest: 1887.5120794 (156)\ttotal: 12.4s\tremaining: 27.1s\n",
      "157:\tlearn: 1880.5968516\ttest: 1886.5573022\tbest: 1886.5573022 (157)\ttotal: 12.5s\tremaining: 27s\n",
      "158:\tlearn: 1879.9624240\ttest: 1886.0975415\tbest: 1886.0975415 (158)\ttotal: 12.5s\tremaining: 26.9s\n",
      "159:\tlearn: 1879.2193180\ttest: 1885.4187056\tbest: 1885.4187056 (159)\ttotal: 12.6s\tremaining: 26.8s\n",
      "160:\tlearn: 1878.6580656\ttest: 1885.0001752\tbest: 1885.0001752 (160)\ttotal: 12.7s\tremaining: 26.7s\n",
      "161:\tlearn: 1877.8563817\ttest: 1884.2473033\tbest: 1884.2473033 (161)\ttotal: 12.8s\tremaining: 26.6s\n",
      "162:\tlearn: 1876.9008918\ttest: 1883.4737478\tbest: 1883.4737478 (162)\ttotal: 12.8s\tremaining: 26.5s\n",
      "163:\tlearn: 1876.3683120\ttest: 1883.1049838\tbest: 1883.1049838 (163)\ttotal: 12.9s\tremaining: 26.4s\n",
      "164:\tlearn: 1875.5490899\ttest: 1882.3463912\tbest: 1882.3463912 (164)\ttotal: 13s\tremaining: 26.4s\n",
      "165:\tlearn: 1874.8822292\ttest: 1881.6406736\tbest: 1881.6406736 (165)\ttotal: 13.1s\tremaining: 26.3s\n",
      "166:\tlearn: 1874.2165162\ttest: 1881.0494497\tbest: 1881.0494497 (166)\ttotal: 13.1s\tremaining: 26.1s\n",
      "167:\tlearn: 1873.5465967\ttest: 1880.4950266\tbest: 1880.4950266 (167)\ttotal: 13.2s\tremaining: 26.1s\n",
      "168:\tlearn: 1872.8662554\ttest: 1879.7760758\tbest: 1879.7760758 (168)\ttotal: 13.3s\tremaining: 26s\n",
      "169:\tlearn: 1871.9759364\ttest: 1879.0300691\tbest: 1879.0300691 (169)\ttotal: 13.3s\tremaining: 25.8s\n",
      "170:\tlearn: 1871.4022320\ttest: 1878.5448066\tbest: 1878.5448066 (170)\ttotal: 13.4s\tremaining: 25.8s\n",
      "171:\tlearn: 1870.5645011\ttest: 1877.7048538\tbest: 1877.7048538 (171)\ttotal: 13.4s\tremaining: 25.6s\n",
      "172:\tlearn: 1869.6315045\ttest: 1876.8834984\tbest: 1876.8834984 (172)\ttotal: 13.5s\tremaining: 25.5s\n",
      "173:\tlearn: 1868.9180533\ttest: 1876.2724972\tbest: 1876.2724972 (173)\ttotal: 13.6s\tremaining: 25.5s\n",
      "174:\tlearn: 1868.3480044\ttest: 1875.8576625\tbest: 1875.8576625 (174)\ttotal: 13.7s\tremaining: 25.4s\n",
      "175:\tlearn: 1867.8623415\ttest: 1875.4957982\tbest: 1875.4957982 (175)\ttotal: 13.8s\tremaining: 25.4s\n",
      "176:\tlearn: 1867.0714759\ttest: 1874.8354796\tbest: 1874.8354796 (176)\ttotal: 13.9s\tremaining: 25.3s\n",
      "177:\tlearn: 1866.5925427\ttest: 1874.3999440\tbest: 1874.3999440 (177)\ttotal: 14s\tremaining: 25.3s\n",
      "178:\tlearn: 1865.9567856\ttest: 1873.7928732\tbest: 1873.7928732 (178)\ttotal: 14s\tremaining: 25.1s\n",
      "179:\tlearn: 1865.3187353\ttest: 1873.3112065\tbest: 1873.3112065 (179)\ttotal: 14.1s\tremaining: 25.1s\n",
      "180:\tlearn: 1864.8748670\ttest: 1872.9549944\tbest: 1872.9549944 (180)\ttotal: 14.2s\tremaining: 25s\n",
      "181:\tlearn: 1864.2412037\ttest: 1872.3166875\tbest: 1872.3166875 (181)\ttotal: 14.3s\tremaining: 24.9s\n",
      "182:\tlearn: 1863.5613865\ttest: 1871.8275467\tbest: 1871.8275467 (182)\ttotal: 14.3s\tremaining: 24.8s\n",
      "183:\tlearn: 1863.0674524\ttest: 1871.4528301\tbest: 1871.4528301 (183)\ttotal: 14.4s\tremaining: 24.7s\n",
      "184:\tlearn: 1862.4805764\ttest: 1870.8591487\tbest: 1870.8591487 (184)\ttotal: 14.5s\tremaining: 24.6s\n",
      "185:\tlearn: 1861.8031274\ttest: 1870.3066453\tbest: 1870.3066453 (185)\ttotal: 14.5s\tremaining: 24.5s\n",
      "186:\tlearn: 1861.3099355\ttest: 1869.9026971\tbest: 1869.9026971 (186)\ttotal: 14.6s\tremaining: 24.5s\n",
      "187:\tlearn: 1860.6714973\ttest: 1869.3388674\tbest: 1869.3388674 (187)\ttotal: 14.7s\tremaining: 24.4s\n",
      "188:\tlearn: 1860.1686425\ttest: 1868.9392566\tbest: 1868.9392566 (188)\ttotal: 14.7s\tremaining: 24.3s\n",
      "189:\tlearn: 1859.5529275\ttest: 1868.3815032\tbest: 1868.3815032 (189)\ttotal: 14.8s\tremaining: 24.2s\n",
      "190:\tlearn: 1859.1585422\ttest: 1868.1049978\tbest: 1868.1049978 (190)\ttotal: 14.9s\tremaining: 24.1s\n",
      "191:\tlearn: 1858.6097956\ttest: 1867.8189488\tbest: 1867.8189488 (191)\ttotal: 15s\tremaining: 24s\n",
      "192:\tlearn: 1858.1084282\ttest: 1867.3760486\tbest: 1867.3760486 (192)\ttotal: 15.1s\tremaining: 23.9s\n",
      "193:\tlearn: 1857.6605659\ttest: 1866.9945655\tbest: 1866.9945655 (193)\ttotal: 15.1s\tremaining: 23.9s\n",
      "194:\tlearn: 1856.8356403\ttest: 1866.2929241\tbest: 1866.2929241 (194)\ttotal: 15.2s\tremaining: 23.8s\n",
      "195:\tlearn: 1856.3705205\ttest: 1865.9129209\tbest: 1865.9129209 (195)\ttotal: 15.3s\tremaining: 23.7s\n",
      "196:\tlearn: 1855.7583609\ttest: 1865.4513219\tbest: 1865.4513219 (196)\ttotal: 15.3s\tremaining: 23.6s\n",
      "197:\tlearn: 1855.1267876\ttest: 1864.8939779\tbest: 1864.8939779 (197)\ttotal: 15.4s\tremaining: 23.5s\n",
      "198:\tlearn: 1854.7392125\ttest: 1864.6099975\tbest: 1864.6099975 (198)\ttotal: 15.5s\tremaining: 23.4s\n",
      "199:\tlearn: 1854.4250057\ttest: 1864.3185914\tbest: 1864.3185914 (199)\ttotal: 15.5s\tremaining: 23.3s\n",
      "200:\tlearn: 1853.8380260\ttest: 1863.8783481\tbest: 1863.8783481 (200)\ttotal: 15.6s\tremaining: 23.2s\n",
      "201:\tlearn: 1853.4642486\ttest: 1863.6227983\tbest: 1863.6227983 (201)\ttotal: 15.7s\tremaining: 23.1s\n",
      "202:\tlearn: 1852.8891069\ttest: 1863.1275947\tbest: 1863.1275947 (202)\ttotal: 15.7s\tremaining: 23s\n",
      "203:\tlearn: 1852.1873274\ttest: 1862.5785994\tbest: 1862.5785994 (203)\ttotal: 15.8s\tremaining: 23s\n",
      "204:\tlearn: 1851.4891945\ttest: 1861.8556739\tbest: 1861.8556739 (204)\ttotal: 15.9s\tremaining: 22.8s\n",
      "205:\tlearn: 1851.0292730\ttest: 1861.4798820\tbest: 1861.4798820 (205)\ttotal: 15.9s\tremaining: 22.7s\n",
      "206:\tlearn: 1850.4587682\ttest: 1861.0562345\tbest: 1861.0562345 (206)\ttotal: 16s\tremaining: 22.7s\n",
      "207:\tlearn: 1850.0290635\ttest: 1860.7915543\tbest: 1860.7915543 (207)\ttotal: 16.1s\tremaining: 22.6s\n",
      "208:\tlearn: 1849.7314256\ttest: 1860.5127762\tbest: 1860.5127762 (208)\ttotal: 16.1s\tremaining: 22.5s\n",
      "209:\tlearn: 1849.2871843\ttest: 1860.2819307\tbest: 1860.2819307 (209)\ttotal: 16.2s\tremaining: 22.4s\n",
      "210:\tlearn: 1848.8098819\ttest: 1859.9680831\tbest: 1859.9680831 (210)\ttotal: 16.3s\tremaining: 22.3s\n",
      "211:\tlearn: 1848.3797022\ttest: 1859.6582654\tbest: 1859.6582654 (211)\ttotal: 16.3s\tremaining: 22.2s\n",
      "212:\tlearn: 1847.7598479\ttest: 1859.1485707\tbest: 1859.1485707 (212)\ttotal: 16.4s\tremaining: 22.1s\n",
      "213:\tlearn: 1847.1951725\ttest: 1858.7790992\tbest: 1858.7790992 (213)\ttotal: 16.5s\tremaining: 22s\n",
      "214:\tlearn: 1846.7004559\ttest: 1858.3875724\tbest: 1858.3875724 (214)\ttotal: 16.6s\tremaining: 21.9s\n",
      "215:\tlearn: 1846.4115657\ttest: 1858.2634535\tbest: 1858.2634535 (215)\ttotal: 16.6s\tremaining: 21.9s\n",
      "216:\tlearn: 1845.9552191\ttest: 1857.9126763\tbest: 1857.9126763 (216)\ttotal: 16.7s\tremaining: 21.8s\n",
      "217:\tlearn: 1845.4733597\ttest: 1857.4703156\tbest: 1857.4703156 (217)\ttotal: 16.8s\tremaining: 21.7s\n",
      "218:\tlearn: 1844.7334066\ttest: 1856.7711272\tbest: 1856.7711272 (218)\ttotal: 16.8s\tremaining: 21.6s\n",
      "219:\tlearn: 1844.2923611\ttest: 1856.4100521\tbest: 1856.4100521 (219)\ttotal: 16.9s\tremaining: 21.5s\n",
      "220:\tlearn: 1843.7144377\ttest: 1855.8018304\tbest: 1855.8018304 (220)\ttotal: 17s\tremaining: 21.4s\n",
      "221:\tlearn: 1843.3050990\ttest: 1855.4399623\tbest: 1855.4399623 (221)\ttotal: 17.1s\tremaining: 21.4s\n",
      "222:\tlearn: 1842.7437606\ttest: 1854.9898235\tbest: 1854.9898235 (222)\ttotal: 17.1s\tremaining: 21.3s\n",
      "223:\tlearn: 1842.3930237\ttest: 1854.6480708\tbest: 1854.6480708 (223)\ttotal: 17.2s\tremaining: 21.1s\n",
      "224:\tlearn: 1841.9898193\ttest: 1854.4365764\tbest: 1854.4365764 (224)\ttotal: 17.2s\tremaining: 21.1s\n",
      "225:\tlearn: 1841.6164039\ttest: 1854.1408791\tbest: 1854.1408791 (225)\ttotal: 17.3s\tremaining: 21s\n",
      "226:\tlearn: 1841.0927333\ttest: 1853.6214787\tbest: 1853.6214787 (226)\ttotal: 17.4s\tremaining: 20.9s\n",
      "227:\tlearn: 1840.7704116\ttest: 1853.4216427\tbest: 1853.4216427 (227)\ttotal: 17.4s\tremaining: 20.8s\n",
      "228:\tlearn: 1840.4513240\ttest: 1853.1909097\tbest: 1853.1909097 (228)\ttotal: 17.5s\tremaining: 20.7s\n",
      "229:\tlearn: 1840.1535265\ttest: 1853.0017391\tbest: 1853.0017391 (229)\ttotal: 17.6s\tremaining: 20.6s\n",
      "230:\tlearn: 1839.7069429\ttest: 1852.6152058\tbest: 1852.6152058 (230)\ttotal: 17.6s\tremaining: 20.6s\n",
      "231:\tlearn: 1839.1858465\ttest: 1852.2169838\tbest: 1852.2169838 (231)\ttotal: 17.7s\tremaining: 20.5s\n",
      "232:\tlearn: 1838.7949543\ttest: 1851.9886576\tbest: 1851.9886576 (232)\ttotal: 17.8s\tremaining: 20.4s\n",
      "233:\tlearn: 1838.4771970\ttest: 1851.8141496\tbest: 1851.8141496 (233)\ttotal: 17.9s\tremaining: 20.3s\n",
      "234:\tlearn: 1838.1536613\ttest: 1851.5319150\tbest: 1851.5319150 (234)\ttotal: 17.9s\tremaining: 20.2s\n",
      "235:\tlearn: 1837.6711375\ttest: 1851.0159337\tbest: 1851.0159337 (235)\ttotal: 18s\tremaining: 20.2s\n",
      "236:\tlearn: 1837.3313584\ttest: 1850.7591212\tbest: 1850.7591212 (236)\ttotal: 18.1s\tremaining: 20.1s\n",
      "237:\tlearn: 1836.8175199\ttest: 1850.3136231\tbest: 1850.3136231 (237)\ttotal: 18.1s\tremaining: 20s\n",
      "238:\tlearn: 1836.3400190\ttest: 1849.9427022\tbest: 1849.9427022 (238)\ttotal: 18.2s\tremaining: 19.9s\n",
      "239:\tlearn: 1835.8412280\ttest: 1849.5141408\tbest: 1849.5141408 (239)\ttotal: 18.3s\tremaining: 19.8s\n",
      "240:\tlearn: 1835.5401253\ttest: 1849.2772805\tbest: 1849.2772805 (240)\ttotal: 18.3s\tremaining: 19.7s\n",
      "241:\tlearn: 1835.3879709\ttest: 1849.2147538\tbest: 1849.2147538 (241)\ttotal: 18.4s\tremaining: 19.6s\n",
      "242:\tlearn: 1835.2234366\ttest: 1849.1579819\tbest: 1849.1579819 (242)\ttotal: 18.5s\tremaining: 19.5s\n",
      "243:\tlearn: 1834.7657984\ttest: 1848.7841497\tbest: 1848.7841497 (243)\ttotal: 18.6s\tremaining: 19.5s\n",
      "244:\tlearn: 1834.3375749\ttest: 1848.3907517\tbest: 1848.3907517 (244)\ttotal: 18.6s\tremaining: 19.4s\n",
      "245:\tlearn: 1833.7712162\ttest: 1847.8557184\tbest: 1847.8557184 (245)\ttotal: 18.7s\tremaining: 19.3s\n",
      "246:\tlearn: 1833.4063607\ttest: 1847.4925808\tbest: 1847.4925808 (246)\ttotal: 18.8s\tremaining: 19.2s\n",
      "247:\tlearn: 1833.0485602\ttest: 1847.1704855\tbest: 1847.1704855 (247)\ttotal: 18.9s\tremaining: 19.2s\n",
      "248:\tlearn: 1832.6280482\ttest: 1846.8605254\tbest: 1846.8605254 (248)\ttotal: 19s\tremaining: 19.1s\n",
      "249:\tlearn: 1832.2563607\ttest: 1846.5800456\tbest: 1846.5800456 (249)\ttotal: 19s\tremaining: 19s\n",
      "250:\tlearn: 1831.7073825\ttest: 1846.3002857\tbest: 1846.3002857 (250)\ttotal: 19.1s\tremaining: 19s\n",
      "251:\tlearn: 1831.1075300\ttest: 1845.7935155\tbest: 1845.7935155 (251)\ttotal: 19.2s\tremaining: 18.9s\n",
      "252:\tlearn: 1830.3524777\ttest: 1845.1081047\tbest: 1845.1081047 (252)\ttotal: 19.2s\tremaining: 18.8s\n",
      "253:\tlearn: 1829.8720277\ttest: 1844.7025029\tbest: 1844.7025029 (253)\ttotal: 19.3s\tremaining: 18.7s\n",
      "254:\tlearn: 1829.5124002\ttest: 1844.4437719\tbest: 1844.4437719 (254)\ttotal: 19.4s\tremaining: 18.6s\n",
      "255:\tlearn: 1829.0021266\ttest: 1844.0176511\tbest: 1844.0176511 (255)\ttotal: 19.5s\tremaining: 18.5s\n",
      "256:\tlearn: 1828.5130330\ttest: 1843.6164428\tbest: 1843.6164428 (256)\ttotal: 19.6s\tremaining: 18.5s\n",
      "257:\tlearn: 1827.9639607\ttest: 1843.1808679\tbest: 1843.1808679 (257)\ttotal: 19.6s\tremaining: 18.4s\n",
      "258:\tlearn: 1827.5226745\ttest: 1842.8455179\tbest: 1842.8455179 (258)\ttotal: 19.7s\tremaining: 18.3s\n",
      "259:\tlearn: 1827.3028888\ttest: 1842.6441473\tbest: 1842.6441473 (259)\ttotal: 19.8s\tremaining: 18.3s\n",
      "260:\tlearn: 1827.1144528\ttest: 1842.5069333\tbest: 1842.5069333 (260)\ttotal: 19.8s\tremaining: 18.2s\n",
      "261:\tlearn: 1826.8077266\ttest: 1842.2964456\tbest: 1842.2964456 (261)\ttotal: 19.9s\tremaining: 18.1s\n",
      "262:\tlearn: 1826.4932263\ttest: 1842.1161308\tbest: 1842.1161308 (262)\ttotal: 20s\tremaining: 18s\n",
      "263:\tlearn: 1826.3482343\ttest: 1841.9952197\tbest: 1841.9952197 (263)\ttotal: 20.1s\tremaining: 18s\n",
      "264:\tlearn: 1826.0101188\ttest: 1841.7692197\tbest: 1841.7692197 (264)\ttotal: 20.2s\tremaining: 17.9s\n",
      "265:\tlearn: 1825.9745773\ttest: 1841.7534787\tbest: 1841.7534787 (265)\ttotal: 20.2s\tremaining: 17.8s\n",
      "266:\tlearn: 1825.5962281\ttest: 1841.5470645\tbest: 1841.5470645 (266)\ttotal: 20.3s\tremaining: 17.7s\n",
      "267:\tlearn: 1825.3997179\ttest: 1841.3645799\tbest: 1841.3645799 (267)\ttotal: 20.3s\tremaining: 17.6s\n",
      "268:\tlearn: 1824.7622183\ttest: 1840.7485226\tbest: 1840.7485226 (268)\ttotal: 20.4s\tremaining: 17.5s\n",
      "269:\tlearn: 1824.3627871\ttest: 1840.3431921\tbest: 1840.3431921 (269)\ttotal: 20.5s\tremaining: 17.4s\n",
      "270:\tlearn: 1824.0325540\ttest: 1840.0473003\tbest: 1840.0473003 (270)\ttotal: 20.5s\tremaining: 17.4s\n",
      "271:\tlearn: 1823.4858821\ttest: 1839.5440504\tbest: 1839.5440504 (271)\ttotal: 20.6s\tremaining: 17.3s\n",
      "272:\tlearn: 1823.2714305\ttest: 1839.4170118\tbest: 1839.4170118 (272)\ttotal: 20.7s\tremaining: 17.2s\n",
      "273:\tlearn: 1822.9162959\ttest: 1839.1936718\tbest: 1839.1936718 (273)\ttotal: 20.8s\tremaining: 17.1s\n",
      "274:\tlearn: 1822.7040907\ttest: 1839.1085671\tbest: 1839.1085671 (274)\ttotal: 20.8s\tremaining: 17.1s\n",
      "275:\tlearn: 1822.2622059\ttest: 1838.7287680\tbest: 1838.7287680 (275)\ttotal: 20.9s\tremaining: 17s\n",
      "276:\tlearn: 1822.0169464\ttest: 1838.5408292\tbest: 1838.5408292 (276)\ttotal: 21s\tremaining: 16.9s\n",
      "277:\tlearn: 1821.8007222\ttest: 1838.3574039\tbest: 1838.3574039 (277)\ttotal: 21s\tremaining: 16.8s\n",
      "278:\tlearn: 1821.2732120\ttest: 1837.9862980\tbest: 1837.9862980 (278)\ttotal: 21.1s\tremaining: 16.7s\n",
      "279:\tlearn: 1821.0079010\ttest: 1837.7986645\tbest: 1837.7986645 (279)\ttotal: 21.2s\tremaining: 16.6s\n",
      "280:\tlearn: 1820.8139142\ttest: 1837.6087408\tbest: 1837.6087408 (280)\ttotal: 21.2s\tremaining: 16.6s\n",
      "281:\tlearn: 1820.5056416\ttest: 1837.3744466\tbest: 1837.3744466 (281)\ttotal: 21.3s\tremaining: 16.5s\n",
      "282:\tlearn: 1819.8792809\ttest: 1836.8275956\tbest: 1836.8275956 (282)\ttotal: 21.4s\tremaining: 16.4s\n",
      "283:\tlearn: 1819.6615690\ttest: 1836.7013406\tbest: 1836.7013406 (283)\ttotal: 21.5s\tremaining: 16.3s\n",
      "284:\tlearn: 1819.4440648\ttest: 1836.6028763\tbest: 1836.6028763 (284)\ttotal: 21.5s\tremaining: 16.2s\n",
      "285:\tlearn: 1819.1912219\ttest: 1836.4355701\tbest: 1836.4355701 (285)\ttotal: 21.6s\tremaining: 16.2s\n",
      "286:\tlearn: 1818.6356083\ttest: 1836.0290613\tbest: 1836.0290613 (286)\ttotal: 21.7s\tremaining: 16.1s\n",
      "287:\tlearn: 1818.2664901\ttest: 1835.7508072\tbest: 1835.7508072 (287)\ttotal: 21.7s\tremaining: 16s\n",
      "288:\tlearn: 1818.1205073\ttest: 1835.6763260\tbest: 1835.6763260 (288)\ttotal: 21.8s\tremaining: 15.9s\n",
      "289:\tlearn: 1817.7530781\ttest: 1835.3021127\tbest: 1835.3021127 (289)\ttotal: 21.9s\tremaining: 15.8s\n",
      "290:\tlearn: 1817.5253034\ttest: 1835.1156754\tbest: 1835.1156754 (290)\ttotal: 22s\tremaining: 15.8s\n",
      "291:\tlearn: 1817.3465579\ttest: 1835.0075780\tbest: 1835.0075780 (291)\ttotal: 22s\tremaining: 15.7s\n",
      "292:\tlearn: 1816.9700087\ttest: 1834.8242821\tbest: 1834.8242821 (292)\ttotal: 22.1s\tremaining: 15.6s\n",
      "293:\tlearn: 1816.6695416\ttest: 1834.5531996\tbest: 1834.5531996 (293)\ttotal: 22.2s\tremaining: 15.5s\n",
      "294:\tlearn: 1816.4756763\ttest: 1834.4402947\tbest: 1834.4402947 (294)\ttotal: 22.3s\tremaining: 15.5s\n",
      "295:\tlearn: 1816.2818357\ttest: 1834.3458981\tbest: 1834.3458981 (295)\ttotal: 22.3s\tremaining: 15.4s\n",
      "296:\tlearn: 1816.0315904\ttest: 1834.2005887\tbest: 1834.2005887 (296)\ttotal: 22.4s\tremaining: 15.3s\n",
      "297:\tlearn: 1815.6590938\ttest: 1833.9455380\tbest: 1833.9455380 (297)\ttotal: 22.5s\tremaining: 15.2s\n",
      "298:\tlearn: 1815.4194277\ttest: 1833.8319403\tbest: 1833.8319403 (298)\ttotal: 22.6s\tremaining: 15.2s\n",
      "299:\tlearn: 1815.1829877\ttest: 1833.6009459\tbest: 1833.6009459 (299)\ttotal: 22.6s\tremaining: 15.1s\n",
      "300:\tlearn: 1814.7023240\ttest: 1833.2554261\tbest: 1833.2554261 (300)\ttotal: 22.7s\tremaining: 15s\n",
      "301:\tlearn: 1814.3811188\ttest: 1832.9662756\tbest: 1832.9662756 (301)\ttotal: 22.8s\tremaining: 14.9s\n",
      "302:\tlearn: 1813.9985796\ttest: 1832.6919581\tbest: 1832.6919581 (302)\ttotal: 22.9s\tremaining: 14.9s\n",
      "303:\tlearn: 1813.5750936\ttest: 1832.4293599\tbest: 1832.4293599 (303)\ttotal: 22.9s\tremaining: 14.8s\n",
      "304:\tlearn: 1813.3650056\ttest: 1832.2478108\tbest: 1832.2478108 (304)\ttotal: 23s\tremaining: 14.7s\n",
      "305:\tlearn: 1812.9927628\ttest: 1831.9657710\tbest: 1831.9657710 (305)\ttotal: 23.1s\tremaining: 14.6s\n",
      "306:\tlearn: 1812.7178122\ttest: 1831.8216790\tbest: 1831.8216790 (306)\ttotal: 23.1s\tremaining: 14.5s\n",
      "307:\tlearn: 1812.3992723\ttest: 1831.5864810\tbest: 1831.5864810 (307)\ttotal: 23.2s\tremaining: 14.5s\n",
      "308:\tlearn: 1812.1707844\ttest: 1831.4571757\tbest: 1831.4571757 (308)\ttotal: 23.3s\tremaining: 14.4s\n",
      "309:\tlearn: 1811.7827626\ttest: 1831.1987751\tbest: 1831.1987751 (309)\ttotal: 23.3s\tremaining: 14.3s\n",
      "310:\tlearn: 1811.5986324\ttest: 1831.1315671\tbest: 1831.1315671 (310)\ttotal: 23.4s\tremaining: 14.2s\n",
      "311:\tlearn: 1811.3413468\ttest: 1830.9182781\tbest: 1830.9182781 (311)\ttotal: 23.5s\tremaining: 14.2s\n",
      "312:\tlearn: 1811.1177615\ttest: 1830.7996909\tbest: 1830.7996909 (312)\ttotal: 23.6s\tremaining: 14.1s\n",
      "313:\tlearn: 1810.9150781\ttest: 1830.6694021\tbest: 1830.6694021 (313)\ttotal: 23.6s\tremaining: 14s\n",
      "314:\tlearn: 1810.5519208\ttest: 1830.3679076\tbest: 1830.3679076 (314)\ttotal: 23.7s\tremaining: 13.9s\n",
      "315:\tlearn: 1810.3398022\ttest: 1830.2548485\tbest: 1830.2548485 (315)\ttotal: 23.8s\tremaining: 13.9s\n",
      "316:\tlearn: 1809.9596069\ttest: 1830.0988804\tbest: 1830.0988804 (316)\ttotal: 23.9s\tremaining: 13.8s\n",
      "317:\tlearn: 1809.7492492\ttest: 1829.9911357\tbest: 1829.9911357 (317)\ttotal: 23.9s\tremaining: 13.7s\n",
      "318:\tlearn: 1809.5158395\ttest: 1829.8738350\tbest: 1829.8738350 (318)\ttotal: 24s\tremaining: 13.6s\n",
      "319:\tlearn: 1809.3403522\ttest: 1829.8191292\tbest: 1829.8191292 (319)\ttotal: 24.1s\tremaining: 13.5s\n",
      "320:\tlearn: 1809.0071842\ttest: 1829.5956526\tbest: 1829.5956526 (320)\ttotal: 24.2s\tremaining: 13.5s\n",
      "321:\tlearn: 1808.7241797\ttest: 1829.4643853\tbest: 1829.4643853 (321)\ttotal: 24.2s\tremaining: 13.4s\n",
      "322:\tlearn: 1808.2902466\ttest: 1829.2081977\tbest: 1829.2081977 (322)\ttotal: 24.3s\tremaining: 13.3s\n",
      "323:\tlearn: 1808.0660369\ttest: 1829.0270203\tbest: 1829.0270203 (323)\ttotal: 24.4s\tremaining: 13.2s\n",
      "324:\tlearn: 1807.8161235\ttest: 1828.8896495\tbest: 1828.8896495 (324)\ttotal: 24.4s\tremaining: 13.2s\n",
      "325:\tlearn: 1807.5363792\ttest: 1828.6502036\tbest: 1828.6502036 (325)\ttotal: 24.5s\tremaining: 13.1s\n",
      "326:\tlearn: 1807.2799447\ttest: 1828.4824912\tbest: 1828.4824912 (326)\ttotal: 24.6s\tremaining: 13s\n",
      "327:\tlearn: 1807.1132534\ttest: 1828.3487241\tbest: 1828.3487241 (327)\ttotal: 24.7s\tremaining: 12.9s\n",
      "328:\tlearn: 1806.8143751\ttest: 1828.1620789\tbest: 1828.1620789 (328)\ttotal: 24.7s\tremaining: 12.9s\n",
      "329:\tlearn: 1806.4170841\ttest: 1827.8256928\tbest: 1827.8256928 (329)\ttotal: 24.8s\tremaining: 12.8s\n",
      "330:\tlearn: 1806.0915016\ttest: 1827.6066178\tbest: 1827.6066178 (330)\ttotal: 24.9s\tremaining: 12.7s\n",
      "331:\tlearn: 1805.9229205\ttest: 1827.5423562\tbest: 1827.5423562 (331)\ttotal: 25s\tremaining: 12.6s\n",
      "332:\tlearn: 1805.6319979\ttest: 1827.3527780\tbest: 1827.3527780 (332)\ttotal: 25s\tremaining: 12.6s\n",
      "333:\tlearn: 1805.3467566\ttest: 1827.1865402\tbest: 1827.1865402 (333)\ttotal: 25.1s\tremaining: 12.5s\n",
      "334:\tlearn: 1804.8920502\ttest: 1826.8247770\tbest: 1826.8247770 (334)\ttotal: 25.2s\tremaining: 12.4s\n",
      "335:\tlearn: 1804.4934117\ttest: 1826.5930571\tbest: 1826.5930571 (335)\ttotal: 25.2s\tremaining: 12.3s\n",
      "336:\tlearn: 1804.1950982\ttest: 1826.3290191\tbest: 1826.3290191 (336)\ttotal: 25.3s\tremaining: 12.2s\n",
      "337:\tlearn: 1804.0833952\ttest: 1826.2558047\tbest: 1826.2558047 (337)\ttotal: 25.4s\tremaining: 12.2s\n",
      "338:\tlearn: 1803.8809151\ttest: 1826.0964642\tbest: 1826.0964642 (338)\ttotal: 25.5s\tremaining: 12.1s\n",
      "339:\tlearn: 1803.6897169\ttest: 1825.9350555\tbest: 1825.9350555 (339)\ttotal: 25.5s\tremaining: 12s\n",
      "340:\tlearn: 1803.0767425\ttest: 1825.5523332\tbest: 1825.5523332 (340)\ttotal: 25.6s\tremaining: 11.9s\n",
      "341:\tlearn: 1802.7626063\ttest: 1825.2214089\tbest: 1825.2214089 (341)\ttotal: 25.7s\tremaining: 11.9s\n",
      "342:\tlearn: 1802.5599427\ttest: 1825.0839375\tbest: 1825.0839375 (342)\ttotal: 25.8s\tremaining: 11.8s\n",
      "343:\tlearn: 1802.1003851\ttest: 1824.7812489\tbest: 1824.7812489 (343)\ttotal: 25.8s\tremaining: 11.7s\n",
      "344:\tlearn: 1801.9237503\ttest: 1824.6633702\tbest: 1824.6633702 (344)\ttotal: 25.9s\tremaining: 11.6s\n",
      "345:\tlearn: 1801.6546304\ttest: 1824.4602161\tbest: 1824.4602161 (345)\ttotal: 26s\tremaining: 11.6s\n",
      "346:\tlearn: 1801.3535582\ttest: 1824.2493407\tbest: 1824.2493407 (346)\ttotal: 26.1s\tremaining: 11.5s\n",
      "347:\tlearn: 1800.9904943\ttest: 1823.9886802\tbest: 1823.9886802 (347)\ttotal: 26.1s\tremaining: 11.4s\n",
      "348:\tlearn: 1800.6388827\ttest: 1823.8629276\tbest: 1823.8629276 (348)\ttotal: 26.2s\tremaining: 11.3s\n",
      "349:\tlearn: 1800.4515446\ttest: 1823.7740325\tbest: 1823.7740325 (349)\ttotal: 26.3s\tremaining: 11.3s\n",
      "350:\tlearn: 1800.2773833\ttest: 1823.6290105\tbest: 1823.6290105 (350)\ttotal: 26.4s\tremaining: 11.2s\n",
      "351:\tlearn: 1800.0236724\ttest: 1823.4661276\tbest: 1823.4661276 (351)\ttotal: 26.4s\tremaining: 11.1s\n",
      "352:\tlearn: 1799.8964114\ttest: 1823.4122743\tbest: 1823.4122743 (352)\ttotal: 26.5s\tremaining: 11s\n",
      "353:\tlearn: 1799.5764042\ttest: 1823.1449729\tbest: 1823.1449729 (353)\ttotal: 26.6s\tremaining: 11s\n",
      "354:\tlearn: 1799.3535986\ttest: 1823.0019912\tbest: 1823.0019912 (354)\ttotal: 26.7s\tremaining: 10.9s\n",
      "355:\tlearn: 1799.0841324\ttest: 1822.8477397\tbest: 1822.8477397 (355)\ttotal: 26.7s\tremaining: 10.8s\n",
      "356:\tlearn: 1798.9266002\ttest: 1822.7618448\tbest: 1822.7618448 (356)\ttotal: 26.8s\tremaining: 10.7s\n",
      "357:\tlearn: 1798.5468803\ttest: 1822.3710284\tbest: 1822.3710284 (357)\ttotal: 26.9s\tremaining: 10.7s\n",
      "358:\tlearn: 1798.1703879\ttest: 1822.0662668\tbest: 1822.0662668 (358)\ttotal: 27s\tremaining: 10.6s\n",
      "359:\tlearn: 1797.9347032\ttest: 1821.8690699\tbest: 1821.8690699 (359)\ttotal: 27s\tremaining: 10.5s\n",
      "360:\tlearn: 1797.5979557\ttest: 1821.5990823\tbest: 1821.5990823 (360)\ttotal: 27.1s\tremaining: 10.4s\n",
      "361:\tlearn: 1797.4371524\ttest: 1821.5204492\tbest: 1821.5204492 (361)\ttotal: 27.2s\tremaining: 10.4s\n",
      "362:\tlearn: 1797.0004450\ttest: 1821.2303354\tbest: 1821.2303354 (362)\ttotal: 27.3s\tremaining: 10.3s\n",
      "363:\tlearn: 1796.6374158\ttest: 1820.9423228\tbest: 1820.9423228 (363)\ttotal: 27.3s\tremaining: 10.2s\n",
      "364:\tlearn: 1796.2041092\ttest: 1820.6215566\tbest: 1820.6215566 (364)\ttotal: 27.4s\tremaining: 10.1s\n",
      "365:\tlearn: 1795.9317101\ttest: 1820.4333248\tbest: 1820.4333248 (365)\ttotal: 27.5s\tremaining: 10.1s\n",
      "366:\tlearn: 1795.6557403\ttest: 1820.2533727\tbest: 1820.2533727 (366)\ttotal: 27.6s\tremaining: 9.99s\n",
      "367:\tlearn: 1795.3491303\ttest: 1820.0806433\tbest: 1820.0806433 (367)\ttotal: 27.6s\tremaining: 9.92s\n",
      "368:\tlearn: 1795.0499034\ttest: 1819.8300181\tbest: 1819.8300181 (368)\ttotal: 27.7s\tremaining: 9.84s\n",
      "369:\tlearn: 1794.8725158\ttest: 1819.7978893\tbest: 1819.7978893 (369)\ttotal: 27.8s\tremaining: 9.76s\n",
      "370:\tlearn: 1794.5087764\ttest: 1819.5536215\tbest: 1819.5536215 (370)\ttotal: 27.9s\tremaining: 9.69s\n",
      "371:\tlearn: 1794.3051393\ttest: 1819.4592106\tbest: 1819.4592106 (371)\ttotal: 27.9s\tremaining: 9.62s\n",
      "372:\tlearn: 1794.0357067\ttest: 1819.2506783\tbest: 1819.2506783 (372)\ttotal: 28s\tremaining: 9.54s\n",
      "373:\tlearn: 1793.7743747\ttest: 1819.1535568\tbest: 1819.1535568 (373)\ttotal: 28.1s\tremaining: 9.47s\n",
      "374:\tlearn: 1793.5500739\ttest: 1818.9904829\tbest: 1818.9904829 (374)\ttotal: 28.2s\tremaining: 9.39s\n",
      "375:\tlearn: 1793.2369871\ttest: 1818.7505043\tbest: 1818.7505043 (375)\ttotal: 28.3s\tremaining: 9.32s\n",
      "376:\tlearn: 1792.9534197\ttest: 1818.5883940\tbest: 1818.5883940 (376)\ttotal: 28.3s\tremaining: 9.24s\n",
      "377:\tlearn: 1792.7952682\ttest: 1818.4675927\tbest: 1818.4675927 (377)\ttotal: 28.4s\tremaining: 9.16s\n",
      "378:\tlearn: 1792.5960786\ttest: 1818.3999322\tbest: 1818.3999322 (378)\ttotal: 28.5s\tremaining: 9.08s\n",
      "379:\tlearn: 1792.2656817\ttest: 1818.1791671\tbest: 1818.1791671 (379)\ttotal: 28.5s\tremaining: 9.01s\n",
      "380:\tlearn: 1792.0526140\ttest: 1818.0007683\tbest: 1818.0007683 (380)\ttotal: 28.6s\tremaining: 8.94s\n",
      "381:\tlearn: 1791.9420594\ttest: 1817.9318158\tbest: 1817.9318158 (381)\ttotal: 28.7s\tremaining: 8.86s\n",
      "382:\tlearn: 1791.6601299\ttest: 1817.7865342\tbest: 1817.7865342 (382)\ttotal: 28.8s\tremaining: 8.78s\n",
      "383:\tlearn: 1791.3227039\ttest: 1817.4857926\tbest: 1817.4857926 (383)\ttotal: 28.8s\tremaining: 8.71s\n",
      "384:\tlearn: 1791.1505133\ttest: 1817.3842207\tbest: 1817.3842207 (384)\ttotal: 28.9s\tremaining: 8.63s\n",
      "385:\tlearn: 1790.9962911\ttest: 1817.2657440\tbest: 1817.2657440 (385)\ttotal: 29s\tremaining: 8.55s\n",
      "386:\tlearn: 1790.7767883\ttest: 1817.1458456\tbest: 1817.1458456 (386)\ttotal: 29s\tremaining: 8.47s\n",
      "387:\tlearn: 1790.4642572\ttest: 1816.9603547\tbest: 1816.9603547 (387)\ttotal: 29.1s\tremaining: 8.4s\n",
      "388:\tlearn: 1790.3383093\ttest: 1816.9584045\tbest: 1816.9584045 (388)\ttotal: 29.2s\tremaining: 8.33s\n",
      "389:\tlearn: 1790.0760349\ttest: 1816.8077261\tbest: 1816.8077261 (389)\ttotal: 29.2s\tremaining: 8.25s\n",
      "390:\tlearn: 1789.7155504\ttest: 1816.5475249\tbest: 1816.5475249 (390)\ttotal: 29.3s\tremaining: 8.17s\n",
      "391:\tlearn: 1789.5779861\ttest: 1816.4478763\tbest: 1816.4478763 (391)\ttotal: 29.4s\tremaining: 8.1s\n",
      "392:\tlearn: 1789.4494242\ttest: 1816.3697071\tbest: 1816.3697071 (392)\ttotal: 29.5s\tremaining: 8.02s\n",
      "393:\tlearn: 1789.1615568\ttest: 1816.1136407\tbest: 1816.1136407 (393)\ttotal: 29.6s\tremaining: 7.95s\n",
      "394:\tlearn: 1788.9516735\ttest: 1815.9954976\tbest: 1815.9954976 (394)\ttotal: 29.6s\tremaining: 7.87s\n",
      "395:\tlearn: 1788.7645897\ttest: 1815.8692813\tbest: 1815.8692813 (395)\ttotal: 29.7s\tremaining: 7.8s\n",
      "396:\tlearn: 1788.5904865\ttest: 1815.7541120\tbest: 1815.7541120 (396)\ttotal: 29.8s\tremaining: 7.72s\n",
      "397:\tlearn: 1788.4519777\ttest: 1815.6564218\tbest: 1815.6564218 (397)\ttotal: 29.8s\tremaining: 7.65s\n",
      "398:\tlearn: 1788.2209988\ttest: 1815.4333257\tbest: 1815.4333257 (398)\ttotal: 29.9s\tremaining: 7.58s\n",
      "399:\tlearn: 1788.1197348\ttest: 1815.3765947\tbest: 1815.3765947 (399)\ttotal: 30s\tremaining: 7.5s\n",
      "400:\tlearn: 1787.9778872\ttest: 1815.2953571\tbest: 1815.2953571 (400)\ttotal: 30.1s\tremaining: 7.42s\n",
      "401:\tlearn: 1787.7019558\ttest: 1815.0991648\tbest: 1815.0991648 (401)\ttotal: 30.1s\tremaining: 7.34s\n",
      "402:\tlearn: 1787.4073238\ttest: 1814.8704595\tbest: 1814.8704595 (402)\ttotal: 30.2s\tremaining: 7.27s\n",
      "403:\tlearn: 1787.2804697\ttest: 1814.7732673\tbest: 1814.7732673 (403)\ttotal: 30.3s\tremaining: 7.19s\n",
      "404:\tlearn: 1787.0989550\ttest: 1814.6339645\tbest: 1814.6339645 (404)\ttotal: 30.4s\tremaining: 7.12s\n",
      "405:\tlearn: 1786.8498453\ttest: 1814.4591182\tbest: 1814.4591182 (405)\ttotal: 30.4s\tremaining: 7.05s\n",
      "406:\tlearn: 1786.5366857\ttest: 1814.2846669\tbest: 1814.2846669 (406)\ttotal: 30.5s\tremaining: 6.97s\n",
      "407:\tlearn: 1786.2696082\ttest: 1814.1092062\tbest: 1814.1092062 (407)\ttotal: 30.6s\tremaining: 6.9s\n",
      "408:\tlearn: 1786.0174190\ttest: 1814.0210250\tbest: 1814.0210250 (408)\ttotal: 30.7s\tremaining: 6.82s\n",
      "409:\tlearn: 1785.7239635\ttest: 1813.7750775\tbest: 1813.7750775 (409)\ttotal: 30.7s\tremaining: 6.75s\n",
      "410:\tlearn: 1785.4821472\ttest: 1813.6160852\tbest: 1813.6160852 (410)\ttotal: 30.8s\tremaining: 6.67s\n",
      "411:\tlearn: 1785.1916770\ttest: 1813.4105113\tbest: 1813.4105113 (411)\ttotal: 30.9s\tremaining: 6.6s\n",
      "412:\tlearn: 1784.9769372\ttest: 1813.3092672\tbest: 1813.3092672 (412)\ttotal: 31s\tremaining: 6.52s\n",
      "413:\tlearn: 1784.7182106\ttest: 1813.1137791\tbest: 1813.1137791 (413)\ttotal: 31s\tremaining: 6.44s\n",
      "414:\tlearn: 1784.4488180\ttest: 1812.9602152\tbest: 1812.9602152 (414)\ttotal: 31.1s\tremaining: 6.37s\n",
      "415:\tlearn: 1784.1181677\ttest: 1812.7002347\tbest: 1812.7002347 (415)\ttotal: 31.2s\tremaining: 6.29s\n",
      "416:\tlearn: 1783.8644219\ttest: 1812.5486702\tbest: 1812.5486702 (416)\ttotal: 31.3s\tremaining: 6.22s\n",
      "417:\tlearn: 1783.6818064\ttest: 1812.3695714\tbest: 1812.3695714 (417)\ttotal: 31.3s\tremaining: 6.15s\n",
      "418:\tlearn: 1783.5084322\ttest: 1812.2651647\tbest: 1812.2651647 (418)\ttotal: 31.4s\tremaining: 6.07s\n",
      "419:\tlearn: 1783.3442857\ttest: 1812.1479183\tbest: 1812.1479183 (419)\ttotal: 31.5s\tremaining: 5.99s\n",
      "420:\tlearn: 1783.1410199\ttest: 1811.9654913\tbest: 1811.9654913 (420)\ttotal: 31.5s\tremaining: 5.92s\n",
      "421:\tlearn: 1782.9838197\ttest: 1811.8605791\tbest: 1811.8605791 (421)\ttotal: 31.6s\tremaining: 5.84s\n",
      "422:\tlearn: 1782.7721881\ttest: 1811.7059385\tbest: 1811.7059385 (422)\ttotal: 31.7s\tremaining: 5.77s\n",
      "423:\tlearn: 1782.4450551\ttest: 1811.5258459\tbest: 1811.5258459 (423)\ttotal: 31.8s\tremaining: 5.69s\n",
      "424:\tlearn: 1782.1780592\ttest: 1811.3512867\tbest: 1811.3512867 (424)\ttotal: 31.8s\tremaining: 5.62s\n",
      "425:\tlearn: 1781.9902105\ttest: 1811.1874104\tbest: 1811.1874104 (425)\ttotal: 31.9s\tremaining: 5.54s\n",
      "426:\tlearn: 1781.8358324\ttest: 1811.0755875\tbest: 1811.0755875 (426)\ttotal: 32s\tremaining: 5.47s\n",
      "427:\tlearn: 1781.6152799\ttest: 1810.9012417\tbest: 1810.9012417 (427)\ttotal: 32.1s\tremaining: 5.4s\n",
      "428:\tlearn: 1781.4182511\ttest: 1810.7760616\tbest: 1810.7760616 (428)\ttotal: 32.1s\tremaining: 5.32s\n",
      "429:\tlearn: 1781.2925645\ttest: 1810.7122419\tbest: 1810.7122419 (429)\ttotal: 32.2s\tremaining: 5.25s\n",
      "430:\tlearn: 1781.1525248\ttest: 1810.6766916\tbest: 1810.6766916 (430)\ttotal: 32.3s\tremaining: 5.17s\n",
      "431:\tlearn: 1781.0451169\ttest: 1810.6652236\tbest: 1810.6652236 (431)\ttotal: 32.4s\tremaining: 5.09s\n",
      "432:\tlearn: 1780.8100674\ttest: 1810.4594223\tbest: 1810.4594223 (432)\ttotal: 32.4s\tremaining: 5.02s\n",
      "433:\tlearn: 1780.4815632\ttest: 1810.2211984\tbest: 1810.2211984 (433)\ttotal: 32.5s\tremaining: 4.95s\n",
      "434:\tlearn: 1780.2788247\ttest: 1810.1345779\tbest: 1810.1345779 (434)\ttotal: 32.6s\tremaining: 4.87s\n",
      "435:\tlearn: 1780.1115586\ttest: 1810.0124863\tbest: 1810.0124863 (435)\ttotal: 32.7s\tremaining: 4.8s\n",
      "436:\tlearn: 1779.9797651\ttest: 1809.9511809\tbest: 1809.9511809 (436)\ttotal: 32.8s\tremaining: 4.72s\n",
      "437:\tlearn: 1779.8168334\ttest: 1809.8202580\tbest: 1809.8202580 (437)\ttotal: 32.8s\tremaining: 4.65s\n",
      "438:\tlearn: 1779.5065685\ttest: 1809.5876376\tbest: 1809.5876376 (438)\ttotal: 32.9s\tremaining: 4.57s\n",
      "439:\tlearn: 1779.2378992\ttest: 1809.3896771\tbest: 1809.3896771 (439)\ttotal: 33s\tremaining: 4.5s\n",
      "440:\tlearn: 1779.0297744\ttest: 1809.1649197\tbest: 1809.1649197 (440)\ttotal: 33.1s\tremaining: 4.42s\n",
      "441:\tlearn: 1778.8396574\ttest: 1809.0624442\tbest: 1809.0624442 (441)\ttotal: 33.1s\tremaining: 4.35s\n",
      "442:\tlearn: 1778.5567247\ttest: 1808.8603295\tbest: 1808.8603295 (442)\ttotal: 33.2s\tremaining: 4.27s\n",
      "443:\tlearn: 1778.2614333\ttest: 1808.6228179\tbest: 1808.6228179 (443)\ttotal: 33.3s\tremaining: 4.2s\n",
      "444:\tlearn: 1778.0244081\ttest: 1808.4137725\tbest: 1808.4137725 (444)\ttotal: 33.4s\tremaining: 4.12s\n",
      "445:\tlearn: 1777.7219380\ttest: 1808.2195607\tbest: 1808.2195607 (445)\ttotal: 33.4s\tremaining: 4.05s\n",
      "446:\tlearn: 1777.4845338\ttest: 1808.0658436\tbest: 1808.0658436 (446)\ttotal: 33.5s\tremaining: 3.97s\n",
      "447:\tlearn: 1777.3066424\ttest: 1807.9841652\tbest: 1807.9841652 (447)\ttotal: 33.6s\tremaining: 3.9s\n",
      "448:\tlearn: 1777.1458766\ttest: 1807.8951961\tbest: 1807.8951961 (448)\ttotal: 33.7s\tremaining: 3.82s\n",
      "449:\tlearn: 1776.9500414\ttest: 1807.7565760\tbest: 1807.7565760 (449)\ttotal: 33.7s\tremaining: 3.75s\n",
      "450:\tlearn: 1776.6978737\ttest: 1807.5852265\tbest: 1807.5852265 (450)\ttotal: 33.8s\tremaining: 3.67s\n",
      "451:\tlearn: 1776.5091882\ttest: 1807.4556254\tbest: 1807.4556254 (451)\ttotal: 33.9s\tremaining: 3.6s\n",
      "452:\tlearn: 1776.3591855\ttest: 1807.3487084\tbest: 1807.3487084 (452)\ttotal: 33.9s\tremaining: 3.52s\n",
      "453:\tlearn: 1776.1642840\ttest: 1807.2495609\tbest: 1807.2495609 (453)\ttotal: 34s\tremaining: 3.45s\n",
      "454:\tlearn: 1776.0238973\ttest: 1807.1287422\tbest: 1807.1287422 (454)\ttotal: 34.1s\tremaining: 3.37s\n",
      "455:\tlearn: 1775.8394617\ttest: 1807.0573412\tbest: 1807.0573412 (455)\ttotal: 34.2s\tremaining: 3.3s\n",
      "456:\tlearn: 1775.6598074\ttest: 1806.9946089\tbest: 1806.9946089 (456)\ttotal: 34.3s\tremaining: 3.23s\n",
      "457:\tlearn: 1775.4741136\ttest: 1806.8480756\tbest: 1806.8480756 (457)\ttotal: 34.4s\tremaining: 3.15s\n",
      "458:\tlearn: 1775.3181006\ttest: 1806.7384532\tbest: 1806.7384532 (458)\ttotal: 34.4s\tremaining: 3.08s\n",
      "459:\tlearn: 1775.1567247\ttest: 1806.6464148\tbest: 1806.6464148 (459)\ttotal: 34.5s\tremaining: 3s\n",
      "460:\tlearn: 1774.9480753\ttest: 1806.4707637\tbest: 1806.4707637 (460)\ttotal: 34.6s\tremaining: 2.93s\n",
      "461:\tlearn: 1774.7690897\ttest: 1806.3290590\tbest: 1806.3290590 (461)\ttotal: 34.7s\tremaining: 2.85s\n",
      "462:\tlearn: 1774.6577588\ttest: 1806.2224519\tbest: 1806.2224519 (462)\ttotal: 34.8s\tremaining: 2.78s\n",
      "463:\tlearn: 1774.5208096\ttest: 1806.1090150\tbest: 1806.1090150 (463)\ttotal: 34.8s\tremaining: 2.7s\n",
      "464:\tlearn: 1774.3102977\ttest: 1806.0408115\tbest: 1806.0408115 (464)\ttotal: 34.9s\tremaining: 2.63s\n",
      "465:\tlearn: 1774.1869314\ttest: 1805.9446961\tbest: 1805.9446961 (465)\ttotal: 35s\tremaining: 2.56s\n",
      "466:\tlearn: 1773.9879266\ttest: 1805.7857330\tbest: 1805.7857330 (466)\ttotal: 35.1s\tremaining: 2.48s\n",
      "467:\tlearn: 1773.7483269\ttest: 1805.6171921\tbest: 1805.6171921 (467)\ttotal: 35.2s\tremaining: 2.4s\n",
      "468:\tlearn: 1773.5126004\ttest: 1805.4423175\tbest: 1805.4423175 (468)\ttotal: 35.3s\tremaining: 2.33s\n",
      "469:\tlearn: 1773.3082911\ttest: 1805.2906143\tbest: 1805.2906143 (469)\ttotal: 35.3s\tremaining: 2.25s\n",
      "470:\tlearn: 1773.0616272\ttest: 1805.1119243\tbest: 1805.1119243 (470)\ttotal: 35.4s\tremaining: 2.18s\n",
      "471:\tlearn: 1772.8564541\ttest: 1805.0447951\tbest: 1805.0447951 (471)\ttotal: 35.5s\tremaining: 2.1s\n",
      "472:\tlearn: 1772.7264328\ttest: 1804.9730356\tbest: 1804.9730356 (472)\ttotal: 35.6s\tremaining: 2.03s\n",
      "473:\tlearn: 1772.5517777\ttest: 1804.8857577\tbest: 1804.8857577 (473)\ttotal: 35.6s\tremaining: 1.95s\n",
      "474:\tlearn: 1772.4253565\ttest: 1804.8224122\tbest: 1804.8224122 (474)\ttotal: 35.7s\tremaining: 1.88s\n",
      "475:\tlearn: 1772.2514360\ttest: 1804.6731850\tbest: 1804.6731850 (475)\ttotal: 35.8s\tremaining: 1.8s\n",
      "476:\tlearn: 1772.0212911\ttest: 1804.5087646\tbest: 1804.5087646 (476)\ttotal: 35.9s\tremaining: 1.73s\n",
      "477:\tlearn: 1771.8691866\ttest: 1804.4463609\tbest: 1804.4463609 (477)\ttotal: 35.9s\tremaining: 1.65s\n",
      "478:\tlearn: 1771.4894957\ttest: 1804.1471294\tbest: 1804.1471294 (478)\ttotal: 36s\tremaining: 1.58s\n",
      "479:\tlearn: 1771.4021831\ttest: 1804.1141220\tbest: 1804.1141220 (479)\ttotal: 36.1s\tremaining: 1.5s\n",
      "480:\tlearn: 1771.2851384\ttest: 1804.0863333\tbest: 1804.0863333 (480)\ttotal: 36.2s\tremaining: 1.43s\n",
      "481:\tlearn: 1771.0585384\ttest: 1803.9431067\tbest: 1803.9431067 (481)\ttotal: 36.2s\tremaining: 1.35s\n",
      "482:\tlearn: 1770.8905725\ttest: 1803.8385785\tbest: 1803.8385785 (482)\ttotal: 36.3s\tremaining: 1.28s\n",
      "483:\tlearn: 1770.7381632\ttest: 1803.7381009\tbest: 1803.7381009 (483)\ttotal: 36.4s\tremaining: 1.2s\n",
      "484:\tlearn: 1770.5420707\ttest: 1803.6507822\tbest: 1803.6507822 (484)\ttotal: 36.5s\tremaining: 1.13s\n",
      "485:\tlearn: 1770.3718034\ttest: 1803.5633116\tbest: 1803.5633116 (485)\ttotal: 36.6s\tremaining: 1.05s\n",
      "486:\tlearn: 1770.1865368\ttest: 1803.4309118\tbest: 1803.4309118 (486)\ttotal: 36.6s\tremaining: 978ms\n",
      "487:\tlearn: 1769.8652505\ttest: 1803.1856616\tbest: 1803.1856616 (487)\ttotal: 36.7s\tremaining: 903ms\n",
      "488:\tlearn: 1769.5313124\ttest: 1802.8995243\tbest: 1802.8995243 (488)\ttotal: 36.8s\tremaining: 827ms\n",
      "489:\tlearn: 1769.4104489\ttest: 1802.8057446\tbest: 1802.8057446 (489)\ttotal: 36.9s\tremaining: 752ms\n",
      "490:\tlearn: 1769.3458857\ttest: 1802.7973012\tbest: 1802.7973012 (490)\ttotal: 36.9s\tremaining: 677ms\n",
      "491:\tlearn: 1769.2013620\ttest: 1802.6726676\tbest: 1802.6726676 (491)\ttotal: 37s\tremaining: 601ms\n",
      "492:\tlearn: 1769.0874412\ttest: 1802.5525102\tbest: 1802.5525102 (492)\ttotal: 37.1s\tremaining: 526ms\n",
      "493:\tlearn: 1768.9044171\ttest: 1802.4726956\tbest: 1802.4726956 (493)\ttotal: 37.1s\tremaining: 451ms\n",
      "494:\tlearn: 1768.7165369\ttest: 1802.4392076\tbest: 1802.4392076 (494)\ttotal: 37.2s\tremaining: 376ms\n",
      "495:\tlearn: 1768.4999286\ttest: 1802.3281234\tbest: 1802.3281234 (495)\ttotal: 37.3s\tremaining: 301ms\n",
      "496:\tlearn: 1768.3454841\ttest: 1802.2336995\tbest: 1802.2336995 (496)\ttotal: 37.4s\tremaining: 226ms\n",
      "497:\tlearn: 1768.1970272\ttest: 1802.1283757\tbest: 1802.1283757 (497)\ttotal: 37.5s\tremaining: 150ms\n",
      "498:\tlearn: 1767.8764124\ttest: 1801.9472086\tbest: 1801.9472086 (498)\ttotal: 37.5s\tremaining: 75.2ms\n",
      "499:\tlearn: 1767.7130855\ttest: 1801.8217699\tbest: 1801.8217699 (499)\ttotal: 37.6s\tremaining: 0us\n",
      "\n",
      "bestTest = 1801.82177\n",
      "bestIteration = 499\n",
      "\n",
      "Wall time: 1min 52s\n"
     ]
    }
   ],
   "source": [
    "%%time\n",
    "model_cat = CatBoostRegressor(iterations=cat_search.best_params_['iterations'], learning_rate=cat_search.best_params_['learning_rate'], depth=cat_search.best_params_['depth'], cat_features=columns_to_ohe, random_state=12345)\n",
    "# задаем подобранные параметры для модели\n",
    "params = {\n",
    "    'learning_rate': cat_search.best_params_['learning_rate'],\n",
    "    'depth': cat_search.best_params_['depth'],\n",
    "    'iterations': cat_search.best_params_['iterations'],\n",
    "    'loss_function': 'RMSE', # метрика для кросс-валидации\n",
    "}\n",
    "train_pool = Pool(data=features_train, label=target_train, cat_features=columns_to_ohe)# создаем обеъкт pool из df\n",
    "cv_data = cv(\n",
    "    pool=train_pool,  # обучающие данные\n",
    "    params=params,\n",
    "    iterations=cat_search.best_params_['iterations'],  # количество итераций в каждом фолде\n",
    "    early_stopping_rounds=10, # остановить обучение, если метрика не улучшается в течение указанного количества итераций\n",
    "    fold_count=3, # кол-во фолдов\n",
    ")"
   ]
  },
  {
   "cell_type": "code",
   "execution_count": 71,
   "metadata": {
    "ExecuteTime": {
     "end_time": "2023-05-29T20:26:55.192829300Z",
     "start_time": "2023-05-29T20:26:10.730173900Z"
    }
   },
   "outputs": [
    {
     "name": "stdout",
     "output_type": "stream",
     "text": [
      "0:\tlearn: 4385.8096913\ttotal: 106ms\tremaining: 53s\n",
      "1:\tlearn: 4294.7534801\ttotal: 218ms\tremaining: 54.3s\n",
      "2:\tlearn: 4207.3421488\ttotal: 304ms\tremaining: 50.3s\n",
      "3:\tlearn: 4122.4978955\ttotal: 416ms\tremaining: 51.6s\n",
      "4:\tlearn: 4040.1971783\ttotal: 516ms\tremaining: 51.1s\n",
      "5:\tlearn: 3961.7896177\ttotal: 616ms\tremaining: 50.7s\n",
      "6:\tlearn: 3886.1988680\ttotal: 722ms\tremaining: 50.8s\n",
      "7:\tlearn: 3813.7865789\ttotal: 828ms\tremaining: 50.9s\n",
      "8:\tlearn: 3742.7531721\ttotal: 927ms\tremaining: 50.6s\n",
      "9:\tlearn: 3673.3430745\ttotal: 1.02s\tremaining: 50.1s\n",
      "10:\tlearn: 3609.1486084\ttotal: 1.12s\tremaining: 49.9s\n",
      "11:\tlearn: 3543.9558819\ttotal: 1.22s\tremaining: 49.7s\n",
      "12:\tlearn: 3483.3632308\ttotal: 1.31s\tremaining: 49.2s\n",
      "13:\tlearn: 3424.7563878\ttotal: 1.41s\tremaining: 49.1s\n",
      "14:\tlearn: 3367.6144609\ttotal: 1.53s\tremaining: 49.3s\n",
      "15:\tlearn: 3311.7180984\ttotal: 1.63s\tremaining: 49.3s\n",
      "16:\tlearn: 3258.8118991\ttotal: 1.73s\tremaining: 49.1s\n",
      "17:\tlearn: 3207.0691128\ttotal: 1.82s\tremaining: 48.6s\n",
      "18:\tlearn: 3157.1379976\ttotal: 1.92s\tremaining: 48.6s\n",
      "19:\tlearn: 3110.4972480\ttotal: 2.03s\tremaining: 48.6s\n",
      "20:\tlearn: 3064.5107009\ttotal: 2.13s\tremaining: 48.5s\n",
      "21:\tlearn: 3019.6077763\ttotal: 2.23s\tremaining: 48.4s\n",
      "22:\tlearn: 2977.0920353\ttotal: 2.33s\tremaining: 48.3s\n",
      "23:\tlearn: 2936.5925213\ttotal: 2.42s\tremaining: 48s\n",
      "24:\tlearn: 2897.4761964\ttotal: 2.51s\tremaining: 47.7s\n",
      "25:\tlearn: 2859.1325995\ttotal: 2.61s\tremaining: 47.6s\n",
      "26:\tlearn: 2824.0079809\ttotal: 2.7s\tremaining: 47.4s\n",
      "27:\tlearn: 2788.2768947\ttotal: 2.8s\tremaining: 47.1s\n",
      "28:\tlearn: 2755.2844496\ttotal: 2.89s\tremaining: 47s\n",
      "29:\tlearn: 2722.3759766\ttotal: 2.99s\tremaining: 46.9s\n",
      "30:\tlearn: 2690.5680305\ttotal: 3.09s\tremaining: 46.7s\n",
      "31:\tlearn: 2661.0276244\ttotal: 3.2s\tremaining: 46.8s\n",
      "32:\tlearn: 2632.2227963\ttotal: 3.29s\tremaining: 46.5s\n",
      "33:\tlearn: 2604.7532730\ttotal: 3.38s\tremaining: 46.3s\n",
      "34:\tlearn: 2578.6994557\ttotal: 3.48s\tremaining: 46.3s\n",
      "35:\tlearn: 2552.8372743\ttotal: 3.59s\tremaining: 46.2s\n",
      "36:\tlearn: 2527.9524724\ttotal: 3.67s\tremaining: 45.9s\n",
      "37:\tlearn: 2504.5047418\ttotal: 3.78s\tremaining: 46s\n",
      "38:\tlearn: 2482.0541833\ttotal: 3.88s\tremaining: 45.9s\n",
      "39:\tlearn: 2459.7387522\ttotal: 3.97s\tremaining: 45.6s\n",
      "40:\tlearn: 2438.0895118\ttotal: 4.07s\tremaining: 45.6s\n",
      "41:\tlearn: 2418.1642914\ttotal: 4.15s\tremaining: 45.3s\n",
      "42:\tlearn: 2399.1910107\ttotal: 4.24s\tremaining: 45.1s\n",
      "43:\tlearn: 2380.5674753\ttotal: 4.34s\tremaining: 45s\n",
      "44:\tlearn: 2362.7084604\ttotal: 4.44s\tremaining: 44.9s\n",
      "45:\tlearn: 2346.7538032\ttotal: 4.53s\tremaining: 44.7s\n",
      "46:\tlearn: 2329.7398412\ttotal: 4.62s\tremaining: 44.5s\n",
      "47:\tlearn: 2313.9345789\ttotal: 4.72s\tremaining: 44.4s\n",
      "48:\tlearn: 2298.0566311\ttotal: 4.79s\tremaining: 44.1s\n",
      "49:\tlearn: 2283.6517376\ttotal: 4.9s\tremaining: 44.1s\n",
      "50:\tlearn: 2269.8892914\ttotal: 5s\tremaining: 44s\n",
      "51:\tlearn: 2255.8273283\ttotal: 5.09s\tremaining: 43.9s\n",
      "52:\tlearn: 2243.3576143\ttotal: 5.19s\tremaining: 43.8s\n",
      "53:\tlearn: 2230.9292533\ttotal: 5.28s\tremaining: 43.6s\n",
      "54:\tlearn: 2219.3602591\ttotal: 5.38s\tremaining: 43.5s\n",
      "55:\tlearn: 2207.6838713\ttotal: 5.47s\tremaining: 43.4s\n",
      "56:\tlearn: 2196.4854116\ttotal: 5.58s\tremaining: 43.4s\n",
      "57:\tlearn: 2186.0243438\ttotal: 5.67s\tremaining: 43.2s\n",
      "58:\tlearn: 2175.0902373\ttotal: 5.76s\tremaining: 43s\n",
      "59:\tlearn: 2165.4738296\ttotal: 5.85s\tremaining: 42.9s\n",
      "60:\tlearn: 2155.8104225\ttotal: 5.95s\tremaining: 42.8s\n",
      "61:\tlearn: 2147.0198966\ttotal: 6.05s\tremaining: 42.8s\n",
      "62:\tlearn: 2138.0341465\ttotal: 6.15s\tremaining: 42.7s\n",
      "63:\tlearn: 2129.1699812\ttotal: 6.23s\tremaining: 42.5s\n",
      "64:\tlearn: 2121.2926180\ttotal: 6.32s\tremaining: 42.3s\n",
      "65:\tlearn: 2113.7598459\ttotal: 6.41s\tremaining: 42.1s\n",
      "66:\tlearn: 2105.8329849\ttotal: 6.49s\tremaining: 42s\n",
      "67:\tlearn: 2098.7565655\ttotal: 6.58s\tremaining: 41.8s\n",
      "68:\tlearn: 2092.0831327\ttotal: 6.69s\tremaining: 41.8s\n",
      "69:\tlearn: 2085.5888496\ttotal: 6.77s\tremaining: 41.6s\n",
      "70:\tlearn: 2079.5606635\ttotal: 6.86s\tremaining: 41.4s\n",
      "71:\tlearn: 2072.5932881\ttotal: 6.95s\tremaining: 41.3s\n",
      "72:\tlearn: 2066.6912101\ttotal: 7.04s\tremaining: 41.2s\n",
      "73:\tlearn: 2059.8140657\ttotal: 7.13s\tremaining: 41s\n",
      "74:\tlearn: 2053.4546775\ttotal: 7.22s\tremaining: 40.9s\n",
      "75:\tlearn: 2048.2717814\ttotal: 7.32s\tremaining: 40.8s\n",
      "76:\tlearn: 2042.2908353\ttotal: 7.42s\tremaining: 40.8s\n",
      "77:\tlearn: 2036.3398585\ttotal: 7.52s\tremaining: 40.7s\n",
      "78:\tlearn: 2030.8950583\ttotal: 7.61s\tremaining: 40.6s\n",
      "79:\tlearn: 2026.3406222\ttotal: 7.71s\tremaining: 40.5s\n",
      "80:\tlearn: 2022.0718353\ttotal: 7.81s\tremaining: 40.4s\n",
      "81:\tlearn: 2018.0088600\ttotal: 7.9s\tremaining: 40.3s\n",
      "82:\tlearn: 2013.3592817\ttotal: 7.99s\tremaining: 40.2s\n",
      "83:\tlearn: 2008.9305304\ttotal: 8.09s\tremaining: 40s\n",
      "84:\tlearn: 2004.8738451\ttotal: 8.17s\tremaining: 39.9s\n",
      "85:\tlearn: 2000.5082328\ttotal: 8.25s\tremaining: 39.7s\n",
      "86:\tlearn: 1996.5917730\ttotal: 8.35s\tremaining: 39.6s\n",
      "87:\tlearn: 1993.0225980\ttotal: 8.46s\tremaining: 39.6s\n",
      "88:\tlearn: 1989.6486221\ttotal: 8.55s\tremaining: 39.5s\n",
      "89:\tlearn: 1985.7795623\ttotal: 8.64s\tremaining: 39.4s\n",
      "90:\tlearn: 1982.5761925\ttotal: 8.74s\tremaining: 39.3s\n",
      "91:\tlearn: 1978.9536166\ttotal: 8.83s\tremaining: 39.1s\n",
      "92:\tlearn: 1975.4016544\ttotal: 8.93s\tremaining: 39.1s\n",
      "93:\tlearn: 1972.1315011\ttotal: 9.02s\tremaining: 39s\n",
      "94:\tlearn: 1969.0052792\ttotal: 9.11s\tremaining: 38.9s\n",
      "95:\tlearn: 1966.0882377\ttotal: 9.21s\tremaining: 38.7s\n",
      "96:\tlearn: 1963.2032601\ttotal: 9.3s\tremaining: 38.6s\n",
      "97:\tlearn: 1960.3389722\ttotal: 9.38s\tremaining: 38.5s\n",
      "98:\tlearn: 1957.5582660\ttotal: 9.48s\tremaining: 38.4s\n",
      "99:\tlearn: 1955.2297113\ttotal: 9.56s\tremaining: 38.3s\n",
      "100:\tlearn: 1952.5511274\ttotal: 9.66s\tremaining: 38.2s\n",
      "101:\tlearn: 1949.9289437\ttotal: 9.76s\tremaining: 38.1s\n",
      "102:\tlearn: 1947.4647321\ttotal: 9.83s\tremaining: 37.9s\n",
      "103:\tlearn: 1945.4706027\ttotal: 9.91s\tremaining: 37.7s\n",
      "104:\tlearn: 1943.3221258\ttotal: 10s\tremaining: 37.7s\n",
      "105:\tlearn: 1940.9004786\ttotal: 10.1s\tremaining: 37.5s\n",
      "106:\tlearn: 1938.6084778\ttotal: 10.2s\tremaining: 37.4s\n",
      "107:\tlearn: 1936.6963982\ttotal: 10.3s\tremaining: 37.3s\n",
      "108:\tlearn: 1934.7339355\ttotal: 10.4s\tremaining: 37.2s\n",
      "109:\tlearn: 1932.6546657\ttotal: 10.5s\tremaining: 37.1s\n",
      "110:\tlearn: 1930.6036102\ttotal: 10.6s\tremaining: 37s\n",
      "111:\tlearn: 1928.7758090\ttotal: 10.6s\tremaining: 36.9s\n",
      "112:\tlearn: 1926.8571721\ttotal: 10.7s\tremaining: 36.8s\n",
      "113:\tlearn: 1925.0679524\ttotal: 10.8s\tremaining: 36.6s\n",
      "114:\tlearn: 1923.3341452\ttotal: 10.9s\tremaining: 36.5s\n",
      "115:\tlearn: 1921.6886933\ttotal: 11s\tremaining: 36.4s\n",
      "116:\tlearn: 1920.0449663\ttotal: 11.1s\tremaining: 36.3s\n",
      "117:\tlearn: 1918.2757186\ttotal: 11.2s\tremaining: 36.2s\n",
      "118:\tlearn: 1916.8938599\ttotal: 11.3s\tremaining: 36.1s\n",
      "119:\tlearn: 1915.4280697\ttotal: 11.3s\tremaining: 35.9s\n",
      "120:\tlearn: 1914.0052424\ttotal: 11.4s\tremaining: 35.8s\n",
      "121:\tlearn: 1912.6657767\ttotal: 11.5s\tremaining: 35.7s\n",
      "122:\tlearn: 1911.4167447\ttotal: 11.6s\tremaining: 35.6s\n",
      "123:\tlearn: 1909.9535416\ttotal: 11.7s\tremaining: 35.5s\n",
      "124:\tlearn: 1908.6951272\ttotal: 11.8s\tremaining: 35.4s\n",
      "125:\tlearn: 1907.5345973\ttotal: 11.9s\tremaining: 35.3s\n",
      "126:\tlearn: 1906.3053346\ttotal: 12s\tremaining: 35.2s\n",
      "127:\tlearn: 1905.0073400\ttotal: 12.1s\tremaining: 35.1s\n",
      "128:\tlearn: 1903.4110415\ttotal: 12.2s\tremaining: 35s\n",
      "129:\tlearn: 1902.0343073\ttotal: 12.2s\tremaining: 34.9s\n",
      "130:\tlearn: 1900.8756930\ttotal: 12.3s\tremaining: 34.7s\n",
      "131:\tlearn: 1899.6996909\ttotal: 12.4s\tremaining: 34.6s\n",
      "132:\tlearn: 1898.4863597\ttotal: 12.5s\tremaining: 34.5s\n",
      "133:\tlearn: 1897.4741472\ttotal: 12.6s\tremaining: 34.3s\n",
      "134:\tlearn: 1896.4022990\ttotal: 12.7s\tremaining: 34.2s\n",
      "135:\tlearn: 1895.5610502\ttotal: 12.7s\tremaining: 34.1s\n",
      "136:\tlearn: 1894.4436324\ttotal: 12.8s\tremaining: 34s\n",
      "137:\tlearn: 1893.2310377\ttotal: 12.9s\tremaining: 33.9s\n",
      "138:\tlearn: 1892.2965750\ttotal: 13s\tremaining: 33.7s\n",
      "139:\tlearn: 1890.8216615\ttotal: 13.1s\tremaining: 33.6s\n",
      "140:\tlearn: 1889.7899643\ttotal: 13.2s\tremaining: 33.5s\n",
      "141:\tlearn: 1888.9474914\ttotal: 13.2s\tremaining: 33.4s\n",
      "142:\tlearn: 1887.7207988\ttotal: 13.3s\tremaining: 33.2s\n",
      "143:\tlearn: 1886.7716592\ttotal: 13.4s\tremaining: 33.1s\n",
      "144:\tlearn: 1885.7362852\ttotal: 13.5s\tremaining: 33s\n",
      "145:\tlearn: 1884.5436731\ttotal: 13.6s\tremaining: 32.9s\n",
      "146:\tlearn: 1883.6865140\ttotal: 13.6s\tremaining: 32.7s\n",
      "147:\tlearn: 1882.8150020\ttotal: 13.7s\tremaining: 32.6s\n",
      "148:\tlearn: 1882.0598956\ttotal: 13.8s\tremaining: 32.5s\n",
      "149:\tlearn: 1881.1463333\ttotal: 13.9s\tremaining: 32.4s\n",
      "150:\tlearn: 1880.1553533\ttotal: 14s\tremaining: 32.3s\n",
      "151:\tlearn: 1879.4922393\ttotal: 14.1s\tremaining: 32.2s\n",
      "152:\tlearn: 1878.7351145\ttotal: 14.1s\tremaining: 32.1s\n",
      "153:\tlearn: 1877.8550883\ttotal: 14.2s\tremaining: 32s\n",
      "154:\tlearn: 1877.2005850\ttotal: 14.3s\tremaining: 31.8s\n",
      "155:\tlearn: 1876.6389799\ttotal: 14.4s\tremaining: 31.7s\n",
      "156:\tlearn: 1875.8577020\ttotal: 14.5s\tremaining: 31.6s\n",
      "157:\tlearn: 1875.1784642\ttotal: 14.6s\tremaining: 31.5s\n",
      "158:\tlearn: 1874.1968453\ttotal: 14.6s\tremaining: 31.4s\n",
      "159:\tlearn: 1873.5599563\ttotal: 14.7s\tremaining: 31.3s\n",
      "160:\tlearn: 1872.6112886\ttotal: 14.8s\tremaining: 31.2s\n",
      "161:\tlearn: 1872.0565884\ttotal: 14.9s\tremaining: 31.1s\n",
      "162:\tlearn: 1871.3445009\ttotal: 15s\tremaining: 31s\n",
      "163:\tlearn: 1870.8220948\ttotal: 15.1s\tremaining: 30.8s\n",
      "164:\tlearn: 1870.2479602\ttotal: 15.1s\tremaining: 30.7s\n",
      "165:\tlearn: 1869.2134716\ttotal: 15.2s\tremaining: 30.6s\n",
      "166:\tlearn: 1868.4677394\ttotal: 15.3s\tremaining: 30.5s\n",
      "167:\tlearn: 1867.8778304\ttotal: 15.4s\tremaining: 30.4s\n",
      "168:\tlearn: 1867.1594062\ttotal: 15.4s\tremaining: 30.3s\n",
      "169:\tlearn: 1866.4735643\ttotal: 15.5s\tremaining: 30.1s\n",
      "170:\tlearn: 1865.7804900\ttotal: 15.6s\tremaining: 30.1s\n",
      "171:\tlearn: 1865.0662533\ttotal: 15.7s\tremaining: 30s\n",
      "172:\tlearn: 1864.3979405\ttotal: 15.8s\tremaining: 29.8s\n",
      "173:\tlearn: 1863.7431425\ttotal: 15.9s\tremaining: 29.7s\n",
      "174:\tlearn: 1863.3177856\ttotal: 15.9s\tremaining: 29.6s\n",
      "175:\tlearn: 1862.8520203\ttotal: 16s\tremaining: 29.5s\n",
      "176:\tlearn: 1862.1611385\ttotal: 16.1s\tremaining: 29.4s\n",
      "177:\tlearn: 1861.5703878\ttotal: 16.2s\tremaining: 29.3s\n",
      "178:\tlearn: 1860.9806638\ttotal: 16.3s\tremaining: 29.2s\n",
      "179:\tlearn: 1860.4306485\ttotal: 16.4s\tremaining: 29.1s\n",
      "180:\tlearn: 1859.9789963\ttotal: 16.4s\tremaining: 29s\n",
      "181:\tlearn: 1859.3994956\ttotal: 16.5s\tremaining: 28.9s\n",
      "182:\tlearn: 1858.7097049\ttotal: 16.6s\tremaining: 28.8s\n",
      "183:\tlearn: 1858.2681749\ttotal: 16.7s\tremaining: 28.7s\n",
      "184:\tlearn: 1857.7417256\ttotal: 16.8s\tremaining: 28.6s\n",
      "185:\tlearn: 1857.4221006\ttotal: 16.8s\tremaining: 28.4s\n",
      "186:\tlearn: 1856.5606199\ttotal: 16.9s\tremaining: 28.3s\n",
      "187:\tlearn: 1855.9069048\ttotal: 17s\tremaining: 28.2s\n",
      "188:\tlearn: 1855.1227099\ttotal: 17.1s\tremaining: 28.1s\n",
      "189:\tlearn: 1854.5470690\ttotal: 17.2s\tremaining: 28s\n",
      "190:\tlearn: 1854.1037715\ttotal: 17.2s\tremaining: 27.9s\n",
      "191:\tlearn: 1853.5628106\ttotal: 17.3s\tremaining: 27.8s\n",
      "192:\tlearn: 1852.7106049\ttotal: 17.4s\tremaining: 27.7s\n",
      "193:\tlearn: 1852.2318774\ttotal: 17.5s\tremaining: 27.6s\n",
      "194:\tlearn: 1851.6027125\ttotal: 17.6s\tremaining: 27.5s\n",
      "195:\tlearn: 1851.2561885\ttotal: 17.7s\tremaining: 27.4s\n",
      "196:\tlearn: 1850.8048523\ttotal: 17.8s\tremaining: 27.3s\n",
      "197:\tlearn: 1850.3755294\ttotal: 17.9s\tremaining: 27.2s\n",
      "198:\tlearn: 1849.7403601\ttotal: 17.9s\tremaining: 27.1s\n",
      "199:\tlearn: 1849.2043323\ttotal: 18s\tremaining: 27s\n",
      "200:\tlearn: 1848.7913472\ttotal: 18.1s\tremaining: 26.9s\n",
      "201:\tlearn: 1848.3823311\ttotal: 18.2s\tremaining: 26.8s\n",
      "202:\tlearn: 1847.8316177\ttotal: 18.3s\tremaining: 26.7s\n",
      "203:\tlearn: 1847.1082768\ttotal: 18.3s\tremaining: 26.6s\n",
      "204:\tlearn: 1846.8108859\ttotal: 18.4s\tremaining: 26.5s\n",
      "205:\tlearn: 1846.0963712\ttotal: 18.5s\tremaining: 26.4s\n",
      "206:\tlearn: 1845.7212091\ttotal: 18.6s\tremaining: 26.3s\n",
      "207:\tlearn: 1845.4133725\ttotal: 18.7s\tremaining: 26.2s\n",
      "208:\tlearn: 1844.8759213\ttotal: 18.8s\tremaining: 26.1s\n",
      "209:\tlearn: 1844.3476548\ttotal: 18.8s\tremaining: 26s\n",
      "210:\tlearn: 1843.9801864\ttotal: 18.9s\tremaining: 25.9s\n",
      "211:\tlearn: 1843.2698577\ttotal: 19s\tremaining: 25.8s\n",
      "212:\tlearn: 1842.8092623\ttotal: 19.1s\tremaining: 25.7s\n",
      "213:\tlearn: 1842.5393852\ttotal: 19.2s\tremaining: 25.6s\n",
      "214:\tlearn: 1842.1245065\ttotal: 19.2s\tremaining: 25.5s\n",
      "215:\tlearn: 1841.7678124\ttotal: 19.3s\tremaining: 25.4s\n",
      "216:\tlearn: 1841.4294909\ttotal: 19.4s\tremaining: 25.3s\n",
      "217:\tlearn: 1841.0232346\ttotal: 19.5s\tremaining: 25.2s\n",
      "218:\tlearn: 1840.5481409\ttotal: 19.6s\tremaining: 25.1s\n",
      "219:\tlearn: 1840.1818865\ttotal: 19.6s\tremaining: 25s\n",
      "220:\tlearn: 1839.8234847\ttotal: 19.7s\tremaining: 24.9s\n",
      "221:\tlearn: 1839.4140203\ttotal: 19.8s\tremaining: 24.8s\n",
      "222:\tlearn: 1839.1200887\ttotal: 19.9s\tremaining: 24.7s\n",
      "223:\tlearn: 1838.7741838\ttotal: 20s\tremaining: 24.7s\n",
      "224:\tlearn: 1838.2548809\ttotal: 20.1s\tremaining: 24.6s\n",
      "225:\tlearn: 1837.8752412\ttotal: 20.2s\tremaining: 24.5s\n",
      "226:\tlearn: 1837.3980053\ttotal: 20.2s\tremaining: 24.3s\n",
      "227:\tlearn: 1836.8446243\ttotal: 20.3s\tremaining: 24.3s\n",
      "228:\tlearn: 1836.3789378\ttotal: 20.4s\tremaining: 24.1s\n",
      "229:\tlearn: 1836.0963463\ttotal: 20.5s\tremaining: 24s\n",
      "230:\tlearn: 1835.8368930\ttotal: 20.6s\tremaining: 23.9s\n",
      "231:\tlearn: 1835.4608910\ttotal: 20.6s\tremaining: 23.8s\n",
      "232:\tlearn: 1835.0138443\ttotal: 20.7s\tremaining: 23.7s\n",
      "233:\tlearn: 1834.6895756\ttotal: 20.8s\tremaining: 23.6s\n",
      "234:\tlearn: 1834.3812625\ttotal: 20.9s\tremaining: 23.5s\n",
      "235:\tlearn: 1834.1117399\ttotal: 21s\tremaining: 23.4s\n",
      "236:\tlearn: 1833.7616269\ttotal: 21s\tremaining: 23.3s\n",
      "237:\tlearn: 1833.4466105\ttotal: 21.1s\tremaining: 23.2s\n",
      "238:\tlearn: 1833.1261356\ttotal: 21.2s\tremaining: 23.1s\n",
      "239:\tlearn: 1832.5996127\ttotal: 21.3s\tremaining: 23s\n",
      "240:\tlearn: 1832.2308493\ttotal: 21.3s\tremaining: 22.9s\n",
      "241:\tlearn: 1831.7534051\ttotal: 21.4s\tremaining: 22.8s\n",
      "242:\tlearn: 1831.4577110\ttotal: 21.5s\tremaining: 22.8s\n",
      "243:\tlearn: 1831.2383767\ttotal: 21.6s\tremaining: 22.6s\n",
      "244:\tlearn: 1830.8302965\ttotal: 21.7s\tremaining: 22.5s\n",
      "245:\tlearn: 1830.2544385\ttotal: 21.7s\tremaining: 22.5s\n",
      "246:\tlearn: 1829.8905833\ttotal: 21.8s\tremaining: 22.4s\n",
      "247:\tlearn: 1829.4616257\ttotal: 21.9s\tremaining: 22.3s\n",
      "248:\tlearn: 1829.2284312\ttotal: 22s\tremaining: 22.2s\n",
      "249:\tlearn: 1828.9569375\ttotal: 22.1s\tremaining: 22.1s\n",
      "250:\tlearn: 1828.3642019\ttotal: 22.2s\tremaining: 22s\n",
      "251:\tlearn: 1827.8157667\ttotal: 22.3s\tremaining: 21.9s\n",
      "252:\tlearn: 1827.6095112\ttotal: 22.3s\tremaining: 21.8s\n",
      "253:\tlearn: 1827.2717927\ttotal: 22.4s\tremaining: 21.7s\n",
      "254:\tlearn: 1826.8736746\ttotal: 22.5s\tremaining: 21.6s\n",
      "255:\tlearn: 1826.5422768\ttotal: 22.6s\tremaining: 21.5s\n",
      "256:\tlearn: 1826.2263706\ttotal: 22.6s\tremaining: 21.4s\n",
      "257:\tlearn: 1825.8989849\ttotal: 22.7s\tremaining: 21.3s\n",
      "258:\tlearn: 1825.4747549\ttotal: 22.8s\tremaining: 21.2s\n",
      "259:\tlearn: 1825.0947670\ttotal: 22.9s\tremaining: 21.1s\n",
      "260:\tlearn: 1824.7716341\ttotal: 23s\tremaining: 21s\n",
      "261:\tlearn: 1824.4046574\ttotal: 23.1s\tremaining: 20.9s\n",
      "262:\tlearn: 1823.9612487\ttotal: 23.1s\tremaining: 20.9s\n",
      "263:\tlearn: 1823.6670737\ttotal: 23.2s\tremaining: 20.8s\n",
      "264:\tlearn: 1823.3706698\ttotal: 23.3s\tremaining: 20.7s\n",
      "265:\tlearn: 1822.9948905\ttotal: 23.4s\tremaining: 20.6s\n",
      "266:\tlearn: 1822.5336980\ttotal: 23.5s\tremaining: 20.5s\n",
      "267:\tlearn: 1822.1875739\ttotal: 23.6s\tremaining: 20.4s\n",
      "268:\tlearn: 1821.8413511\ttotal: 23.6s\tremaining: 20.3s\n",
      "269:\tlearn: 1821.4306255\ttotal: 23.7s\tremaining: 20.2s\n",
      "270:\tlearn: 1821.2763221\ttotal: 23.8s\tremaining: 20.1s\n",
      "271:\tlearn: 1820.7499756\ttotal: 23.8s\tremaining: 20s\n",
      "272:\tlearn: 1820.3480329\ttotal: 23.9s\tremaining: 19.9s\n",
      "273:\tlearn: 1820.0741117\ttotal: 24s\tremaining: 19.8s\n",
      "274:\tlearn: 1819.8267598\ttotal: 24.1s\tremaining: 19.7s\n",
      "275:\tlearn: 1819.4766290\ttotal: 24.2s\tremaining: 19.6s\n",
      "276:\tlearn: 1819.2191472\ttotal: 24.2s\tremaining: 19.5s\n",
      "277:\tlearn: 1818.8590067\ttotal: 24.3s\tremaining: 19.4s\n",
      "278:\tlearn: 1818.4459586\ttotal: 24.4s\tremaining: 19.3s\n",
      "279:\tlearn: 1818.1795220\ttotal: 24.5s\tremaining: 19.2s\n",
      "280:\tlearn: 1817.6292736\ttotal: 24.6s\tremaining: 19.2s\n",
      "281:\tlearn: 1817.3889360\ttotal: 24.7s\tremaining: 19.1s\n",
      "282:\tlearn: 1817.1531942\ttotal: 24.8s\tremaining: 19s\n",
      "283:\tlearn: 1816.7914670\ttotal: 24.9s\tremaining: 18.9s\n",
      "284:\tlearn: 1816.3953305\ttotal: 25s\tremaining: 18.8s\n",
      "285:\tlearn: 1816.0534933\ttotal: 25s\tremaining: 18.7s\n",
      "286:\tlearn: 1815.8296345\ttotal: 25.1s\tremaining: 18.6s\n",
      "287:\tlearn: 1815.4392805\ttotal: 25.2s\tremaining: 18.5s\n",
      "288:\tlearn: 1815.1965840\ttotal: 25.3s\tremaining: 18.5s\n",
      "289:\tlearn: 1814.7921703\ttotal: 25.4s\tremaining: 18.4s\n",
      "290:\tlearn: 1814.5520772\ttotal: 25.4s\tremaining: 18.3s\n",
      "291:\tlearn: 1814.2434727\ttotal: 25.5s\tremaining: 18.2s\n",
      "292:\tlearn: 1813.9525961\ttotal: 25.6s\tremaining: 18.1s\n",
      "293:\tlearn: 1813.6539556\ttotal: 25.7s\tremaining: 18s\n",
      "294:\tlearn: 1813.3375535\ttotal: 25.8s\tremaining: 17.9s\n",
      "295:\tlearn: 1813.0314470\ttotal: 25.9s\tremaining: 17.8s\n",
      "296:\tlearn: 1812.8941042\ttotal: 25.9s\tremaining: 17.7s\n",
      "297:\tlearn: 1812.5886934\ttotal: 26s\tremaining: 17.6s\n",
      "298:\tlearn: 1812.3147754\ttotal: 26.1s\tremaining: 17.5s\n",
      "299:\tlearn: 1812.0314922\ttotal: 26.2s\tremaining: 17.5s\n",
      "300:\tlearn: 1811.6216267\ttotal: 26.3s\tremaining: 17.4s\n",
      "301:\tlearn: 1811.2750035\ttotal: 26.4s\tremaining: 17.3s\n",
      "302:\tlearn: 1810.8973466\ttotal: 26.4s\tremaining: 17.2s\n",
      "303:\tlearn: 1810.5356441\ttotal: 26.5s\tremaining: 17.1s\n",
      "304:\tlearn: 1810.2790540\ttotal: 26.6s\tremaining: 17s\n",
      "305:\tlearn: 1810.0057910\ttotal: 26.7s\tremaining: 16.9s\n",
      "306:\tlearn: 1809.7886535\ttotal: 26.8s\tremaining: 16.9s\n",
      "307:\tlearn: 1809.5293243\ttotal: 26.9s\tremaining: 16.8s\n",
      "308:\tlearn: 1809.1791203\ttotal: 27s\tremaining: 16.7s\n",
      "309:\tlearn: 1809.0377852\ttotal: 27.1s\tremaining: 16.6s\n",
      "310:\tlearn: 1808.8005336\ttotal: 27.2s\tremaining: 16.5s\n",
      "311:\tlearn: 1808.3841192\ttotal: 27.3s\tremaining: 16.4s\n",
      "312:\tlearn: 1808.0337139\ttotal: 27.4s\tremaining: 16.3s\n",
      "313:\tlearn: 1807.8338019\ttotal: 27.4s\tremaining: 16.2s\n",
      "314:\tlearn: 1807.6160626\ttotal: 27.5s\tremaining: 16.2s\n",
      "315:\tlearn: 1807.2967086\ttotal: 27.6s\tremaining: 16.1s\n",
      "316:\tlearn: 1807.1063811\ttotal: 27.7s\tremaining: 16s\n",
      "317:\tlearn: 1806.7944186\ttotal: 27.8s\tremaining: 15.9s\n",
      "318:\tlearn: 1806.6902314\ttotal: 27.9s\tremaining: 15.8s\n",
      "319:\tlearn: 1806.5267206\ttotal: 27.9s\tremaining: 15.7s\n",
      "320:\tlearn: 1806.3329584\ttotal: 28s\tremaining: 15.6s\n",
      "321:\tlearn: 1806.0229561\ttotal: 28.1s\tremaining: 15.5s\n",
      "322:\tlearn: 1805.6208627\ttotal: 28.2s\tremaining: 15.4s\n",
      "323:\tlearn: 1805.4835568\ttotal: 28.3s\tremaining: 15.3s\n",
      "324:\tlearn: 1805.2885495\ttotal: 28.3s\tremaining: 15.3s\n",
      "325:\tlearn: 1804.9940864\ttotal: 28.4s\tremaining: 15.2s\n",
      "326:\tlearn: 1804.7827837\ttotal: 28.5s\tremaining: 15.1s\n",
      "327:\tlearn: 1804.4986218\ttotal: 28.6s\tremaining: 15s\n",
      "328:\tlearn: 1804.3902926\ttotal: 28.7s\tremaining: 14.9s\n",
      "329:\tlearn: 1804.1696772\ttotal: 28.8s\tremaining: 14.8s\n",
      "330:\tlearn: 1803.9242456\ttotal: 28.9s\tremaining: 14.7s\n",
      "331:\tlearn: 1803.6701483\ttotal: 29s\tremaining: 14.7s\n",
      "332:\tlearn: 1803.4415578\ttotal: 29s\tremaining: 14.6s\n",
      "333:\tlearn: 1803.1163335\ttotal: 29.1s\tremaining: 14.5s\n",
      "334:\tlearn: 1802.9594359\ttotal: 29.2s\tremaining: 14.4s\n",
      "335:\tlearn: 1802.6747242\ttotal: 29.3s\tremaining: 14.3s\n",
      "336:\tlearn: 1802.4090933\ttotal: 29.4s\tremaining: 14.2s\n",
      "337:\tlearn: 1802.2409692\ttotal: 29.5s\tremaining: 14.1s\n",
      "338:\tlearn: 1802.0102228\ttotal: 29.5s\tremaining: 14s\n",
      "339:\tlearn: 1801.8458655\ttotal: 29.6s\tremaining: 13.9s\n",
      "340:\tlearn: 1801.5757459\ttotal: 29.7s\tremaining: 13.9s\n",
      "341:\tlearn: 1801.4492543\ttotal: 29.8s\tremaining: 13.8s\n",
      "342:\tlearn: 1801.2763665\ttotal: 29.9s\tremaining: 13.7s\n",
      "343:\tlearn: 1800.9677215\ttotal: 30s\tremaining: 13.6s\n",
      "344:\tlearn: 1800.7551791\ttotal: 30.1s\tremaining: 13.5s\n",
      "345:\tlearn: 1800.3753592\ttotal: 30.1s\tremaining: 13.4s\n",
      "346:\tlearn: 1800.1816629\ttotal: 30.2s\tremaining: 13.3s\n",
      "347:\tlearn: 1799.9170656\ttotal: 30.3s\tremaining: 13.2s\n",
      "348:\tlearn: 1799.6022957\ttotal: 30.4s\tremaining: 13.1s\n",
      "349:\tlearn: 1799.4452523\ttotal: 30.5s\tremaining: 13.1s\n",
      "350:\tlearn: 1799.1475120\ttotal: 30.6s\tremaining: 13s\n",
      "351:\tlearn: 1798.9341695\ttotal: 30.7s\tremaining: 12.9s\n",
      "352:\tlearn: 1798.8123874\ttotal: 30.8s\tremaining: 12.8s\n",
      "353:\tlearn: 1798.5883089\ttotal: 30.8s\tremaining: 12.7s\n",
      "354:\tlearn: 1798.4070932\ttotal: 30.9s\tremaining: 12.6s\n",
      "355:\tlearn: 1798.1228085\ttotal: 31s\tremaining: 12.5s\n",
      "356:\tlearn: 1797.8423483\ttotal: 31.1s\tremaining: 12.5s\n",
      "357:\tlearn: 1797.5990599\ttotal: 31.2s\tremaining: 12.4s\n",
      "358:\tlearn: 1797.4105431\ttotal: 31.3s\tremaining: 12.3s\n",
      "359:\tlearn: 1797.2740192\ttotal: 31.4s\tremaining: 12.2s\n",
      "360:\tlearn: 1797.0902620\ttotal: 31.4s\tremaining: 12.1s\n",
      "361:\tlearn: 1796.8117761\ttotal: 31.5s\tremaining: 12s\n",
      "362:\tlearn: 1796.6272548\ttotal: 31.6s\tremaining: 11.9s\n",
      "363:\tlearn: 1796.5001031\ttotal: 31.7s\tremaining: 11.8s\n",
      "364:\tlearn: 1796.3490107\ttotal: 31.8s\tremaining: 11.8s\n",
      "365:\tlearn: 1796.1178941\ttotal: 31.9s\tremaining: 11.7s\n",
      "366:\tlearn: 1795.8551350\ttotal: 32s\tremaining: 11.6s\n",
      "367:\tlearn: 1795.5752062\ttotal: 32.1s\tremaining: 11.5s\n",
      "368:\tlearn: 1795.3192856\ttotal: 32.2s\tremaining: 11.4s\n",
      "369:\tlearn: 1795.0953580\ttotal: 32.3s\tremaining: 11.3s\n",
      "370:\tlearn: 1794.9339967\ttotal: 32.3s\tremaining: 11.2s\n",
      "371:\tlearn: 1794.7841403\ttotal: 32.4s\tremaining: 11.2s\n",
      "372:\tlearn: 1794.5520025\ttotal: 32.5s\tremaining: 11.1s\n",
      "373:\tlearn: 1794.2718469\ttotal: 32.6s\tremaining: 11s\n",
      "374:\tlearn: 1793.9807371\ttotal: 32.7s\tremaining: 10.9s\n",
      "375:\tlearn: 1793.7192492\ttotal: 32.8s\tremaining: 10.8s\n",
      "376:\tlearn: 1793.4969656\ttotal: 32.9s\tremaining: 10.7s\n",
      "377:\tlearn: 1793.2419519\ttotal: 33s\tremaining: 10.6s\n",
      "378:\tlearn: 1793.1259299\ttotal: 33.1s\tremaining: 10.6s\n",
      "379:\tlearn: 1792.9862598\ttotal: 33.1s\tremaining: 10.5s\n",
      "380:\tlearn: 1792.6991312\ttotal: 33.2s\tremaining: 10.4s\n",
      "381:\tlearn: 1792.5725305\ttotal: 33.3s\tremaining: 10.3s\n",
      "382:\tlearn: 1792.2649311\ttotal: 33.4s\tremaining: 10.2s\n",
      "383:\tlearn: 1792.1775593\ttotal: 33.5s\tremaining: 10.1s\n",
      "384:\tlearn: 1792.0208208\ttotal: 33.6s\tremaining: 10s\n",
      "385:\tlearn: 1791.9338643\ttotal: 33.7s\tremaining: 9.95s\n",
      "386:\tlearn: 1791.7394324\ttotal: 33.8s\tremaining: 9.86s\n",
      "387:\tlearn: 1791.5298559\ttotal: 33.9s\tremaining: 9.78s\n",
      "388:\tlearn: 1791.2281977\ttotal: 34s\tremaining: 9.7s\n",
      "389:\tlearn: 1791.0874747\ttotal: 34.1s\tremaining: 9.61s\n",
      "390:\tlearn: 1790.8589482\ttotal: 34.1s\tremaining: 9.52s\n",
      "391:\tlearn: 1790.6604650\ttotal: 34.2s\tremaining: 9.43s\n",
      "392:\tlearn: 1790.4023635\ttotal: 34.3s\tremaining: 9.34s\n",
      "393:\tlearn: 1790.2027135\ttotal: 34.4s\tremaining: 9.25s\n",
      "394:\tlearn: 1789.9391821\ttotal: 34.5s\tremaining: 9.18s\n",
      "395:\tlearn: 1789.7748316\ttotal: 34.6s\tremaining: 9.09s\n",
      "396:\tlearn: 1789.5891788\ttotal: 34.7s\tremaining: 9s\n",
      "397:\tlearn: 1789.1953416\ttotal: 34.8s\tremaining: 8.91s\n",
      "398:\tlearn: 1788.9934752\ttotal: 34.8s\tremaining: 8.82s\n",
      "399:\tlearn: 1788.7618048\ttotal: 34.9s\tremaining: 8.73s\n",
      "400:\tlearn: 1788.6373374\ttotal: 35s\tremaining: 8.65s\n",
      "401:\tlearn: 1788.3771102\ttotal: 35.1s\tremaining: 8.56s\n",
      "402:\tlearn: 1788.1893221\ttotal: 35.2s\tremaining: 8.47s\n",
      "403:\tlearn: 1788.0058691\ttotal: 35.3s\tremaining: 8.38s\n",
      "404:\tlearn: 1787.8409197\ttotal: 35.4s\tremaining: 8.29s\n",
      "405:\tlearn: 1787.6360848\ttotal: 35.5s\tremaining: 8.21s\n",
      "406:\tlearn: 1787.3919183\ttotal: 35.5s\tremaining: 8.12s\n",
      "407:\tlearn: 1787.2854613\ttotal: 35.6s\tremaining: 8.04s\n",
      "408:\tlearn: 1787.0868556\ttotal: 35.7s\tremaining: 7.95s\n",
      "409:\tlearn: 1786.8768185\ttotal: 35.8s\tremaining: 7.86s\n",
      "410:\tlearn: 1786.5742935\ttotal: 35.9s\tremaining: 7.77s\n",
      "411:\tlearn: 1786.4058473\ttotal: 36s\tremaining: 7.68s\n",
      "412:\tlearn: 1786.2821066\ttotal: 36.1s\tremaining: 7.59s\n",
      "413:\tlearn: 1786.0719496\ttotal: 36.1s\tremaining: 7.51s\n",
      "414:\tlearn: 1785.8305954\ttotal: 36.2s\tremaining: 7.42s\n",
      "415:\tlearn: 1785.6345513\ttotal: 36.3s\tremaining: 7.33s\n",
      "416:\tlearn: 1785.4628860\ttotal: 36.4s\tremaining: 7.25s\n",
      "417:\tlearn: 1785.3521055\ttotal: 36.5s\tremaining: 7.16s\n",
      "418:\tlearn: 1785.1841899\ttotal: 36.6s\tremaining: 7.07s\n",
      "419:\tlearn: 1784.9943562\ttotal: 36.7s\tremaining: 6.99s\n",
      "420:\tlearn: 1784.8802588\ttotal: 36.8s\tremaining: 6.9s\n",
      "421:\tlearn: 1784.6816817\ttotal: 36.8s\tremaining: 6.81s\n",
      "422:\tlearn: 1784.5732539\ttotal: 36.9s\tremaining: 6.72s\n",
      "423:\tlearn: 1784.4469219\ttotal: 37s\tremaining: 6.63s\n",
      "424:\tlearn: 1784.2474757\ttotal: 37.1s\tremaining: 6.54s\n",
      "425:\tlearn: 1784.0818984\ttotal: 37.2s\tremaining: 6.46s\n",
      "426:\tlearn: 1783.7826650\ttotal: 37.2s\tremaining: 6.37s\n",
      "427:\tlearn: 1783.6117214\ttotal: 37.3s\tremaining: 6.28s\n",
      "428:\tlearn: 1783.3856144\ttotal: 37.4s\tremaining: 6.19s\n",
      "429:\tlearn: 1783.1118287\ttotal: 37.5s\tremaining: 6.11s\n",
      "430:\tlearn: 1782.9362394\ttotal: 37.6s\tremaining: 6.02s\n",
      "431:\tlearn: 1782.7693814\ttotal: 37.7s\tremaining: 5.93s\n",
      "432:\tlearn: 1782.6121137\ttotal: 37.8s\tremaining: 5.85s\n",
      "433:\tlearn: 1782.4261433\ttotal: 37.9s\tremaining: 5.76s\n",
      "434:\tlearn: 1782.2338249\ttotal: 38s\tremaining: 5.67s\n",
      "435:\tlearn: 1782.0539007\ttotal: 38.1s\tremaining: 5.59s\n",
      "436:\tlearn: 1781.9397887\ttotal: 38.1s\tremaining: 5.5s\n",
      "437:\tlearn: 1781.7728095\ttotal: 38.2s\tremaining: 5.41s\n",
      "438:\tlearn: 1781.5687618\ttotal: 38.3s\tremaining: 5.33s\n",
      "439:\tlearn: 1781.3444086\ttotal: 38.4s\tremaining: 5.24s\n",
      "440:\tlearn: 1781.1130829\ttotal: 38.5s\tremaining: 5.15s\n",
      "441:\tlearn: 1780.9244150\ttotal: 38.6s\tremaining: 5.07s\n",
      "442:\tlearn: 1780.7411527\ttotal: 38.7s\tremaining: 4.98s\n",
      "443:\tlearn: 1780.5258220\ttotal: 38.8s\tremaining: 4.89s\n",
      "444:\tlearn: 1780.3621153\ttotal: 38.9s\tremaining: 4.8s\n",
      "445:\tlearn: 1780.1991349\ttotal: 39s\tremaining: 4.72s\n",
      "446:\tlearn: 1780.0309697\ttotal: 39s\tremaining: 4.63s\n",
      "447:\tlearn: 1779.7973501\ttotal: 39.1s\tremaining: 4.54s\n",
      "448:\tlearn: 1779.6753667\ttotal: 39.2s\tremaining: 4.46s\n",
      "449:\tlearn: 1779.4173751\ttotal: 39.3s\tremaining: 4.37s\n",
      "450:\tlearn: 1779.1944975\ttotal: 39.4s\tremaining: 4.28s\n",
      "451:\tlearn: 1779.0587358\ttotal: 39.5s\tremaining: 4.2s\n",
      "452:\tlearn: 1778.9138138\ttotal: 39.6s\tremaining: 4.11s\n",
      "453:\tlearn: 1778.6860953\ttotal: 39.7s\tremaining: 4.02s\n",
      "454:\tlearn: 1778.4098101\ttotal: 39.8s\tremaining: 3.93s\n",
      "455:\tlearn: 1778.3121324\ttotal: 39.9s\tremaining: 3.85s\n",
      "456:\tlearn: 1778.0968735\ttotal: 39.9s\tremaining: 3.76s\n",
      "457:\tlearn: 1777.9502954\ttotal: 40s\tremaining: 3.67s\n",
      "458:\tlearn: 1777.7519560\ttotal: 40.1s\tremaining: 3.58s\n",
      "459:\tlearn: 1777.6038799\ttotal: 40.2s\tremaining: 3.49s\n",
      "460:\tlearn: 1777.4713941\ttotal: 40.3s\tremaining: 3.41s\n",
      "461:\tlearn: 1777.3412819\ttotal: 40.3s\tremaining: 3.32s\n",
      "462:\tlearn: 1777.1163736\ttotal: 40.4s\tremaining: 3.23s\n",
      "463:\tlearn: 1776.9926839\ttotal: 40.5s\tremaining: 3.14s\n",
      "464:\tlearn: 1776.8836148\ttotal: 40.5s\tremaining: 3.05s\n",
      "465:\tlearn: 1776.7413184\ttotal: 40.7s\tremaining: 2.97s\n",
      "466:\tlearn: 1776.5623292\ttotal: 40.8s\tremaining: 2.88s\n",
      "467:\tlearn: 1776.4284870\ttotal: 40.8s\tremaining: 2.79s\n",
      "468:\tlearn: 1776.1615642\ttotal: 40.9s\tremaining: 2.71s\n",
      "469:\tlearn: 1776.0057765\ttotal: 41s\tremaining: 2.62s\n",
      "470:\tlearn: 1775.8479917\ttotal: 41.1s\tremaining: 2.53s\n",
      "471:\tlearn: 1775.5387084\ttotal: 41.2s\tremaining: 2.44s\n",
      "472:\tlearn: 1775.2869079\ttotal: 41.3s\tremaining: 2.36s\n",
      "473:\tlearn: 1775.0987406\ttotal: 41.4s\tremaining: 2.27s\n",
      "474:\tlearn: 1774.9065713\ttotal: 41.5s\tremaining: 2.18s\n",
      "475:\tlearn: 1774.7718018\ttotal: 41.6s\tremaining: 2.1s\n",
      "476:\tlearn: 1774.6330443\ttotal: 41.7s\tremaining: 2.01s\n",
      "477:\tlearn: 1774.4513452\ttotal: 41.7s\tremaining: 1.92s\n",
      "478:\tlearn: 1774.3599453\ttotal: 41.8s\tremaining: 1.83s\n",
      "479:\tlearn: 1774.1946596\ttotal: 41.9s\tremaining: 1.75s\n",
      "480:\tlearn: 1774.0045128\ttotal: 42s\tremaining: 1.66s\n",
      "481:\tlearn: 1773.8657377\ttotal: 42.1s\tremaining: 1.57s\n",
      "482:\tlearn: 1773.7161719\ttotal: 42.2s\tremaining: 1.49s\n",
      "483:\tlearn: 1773.5781509\ttotal: 42.3s\tremaining: 1.4s\n",
      "484:\tlearn: 1773.4426248\ttotal: 42.4s\tremaining: 1.31s\n",
      "485:\tlearn: 1773.2061690\ttotal: 42.5s\tremaining: 1.22s\n",
      "486:\tlearn: 1772.9756877\ttotal: 42.6s\tremaining: 1.14s\n",
      "487:\tlearn: 1772.7337651\ttotal: 42.6s\tremaining: 1.05s\n",
      "488:\tlearn: 1772.6128658\ttotal: 42.7s\tremaining: 961ms\n",
      "489:\tlearn: 1772.5538271\ttotal: 42.8s\tremaining: 873ms\n",
      "490:\tlearn: 1772.3630696\ttotal: 42.9s\tremaining: 786ms\n",
      "491:\tlearn: 1772.2276971\ttotal: 43s\tremaining: 699ms\n",
      "492:\tlearn: 1772.0214315\ttotal: 43.1s\tremaining: 612ms\n",
      "493:\tlearn: 1771.8717457\ttotal: 43.2s\tremaining: 524ms\n",
      "494:\tlearn: 1771.7481987\ttotal: 43.2s\tremaining: 437ms\n",
      "495:\tlearn: 1771.6311723\ttotal: 43.3s\tremaining: 349ms\n",
      "496:\tlearn: 1771.5254192\ttotal: 43.4s\tremaining: 262ms\n",
      "497:\tlearn: 1771.3321504\ttotal: 43.5s\tremaining: 175ms\n",
      "498:\tlearn: 1771.1855953\ttotal: 43.6s\tremaining: 87.3ms\n",
      "499:\tlearn: 1771.0498519\ttotal: 43.7s\tremaining: 0us\n",
      "Wall time: 44.2 s\n",
      "Wall time: 119 ms\n",
      "Оценка RMSE на валидационной выборке: 1804.4153924270295\n"
     ]
    }
   ],
   "source": [
    "%time model_cat.fit(features_train, target_train)\n",
    "%time model_cat.predict(features_valid)\n",
    "cat_pred = model_cat.predict(features_valid)\n",
    "print(f'Оценка RMSE на валидационной выборке: {mean_squared_error(target_valid, cat_pred, squared=False)}')"
   ]
  },
  {
   "cell_type": "markdown",
   "metadata": {},
   "source": [
    "Все операции для модели проходят намного быстрее, метрика тоже значительно выросла. Улучшенное время получается из-за скорости обучения и того, что не нужно кодировать категориальные признаки."
   ]
  },
  {
   "cell_type": "markdown",
   "metadata": {},
   "source": [
    "## LightGBM"
   ]
  },
  {
   "cell_type": "markdown",
   "metadata": {},
   "source": [
    "Категориальные признаки нужно сначала перекодировать в category, чтобы их мог обработать LightGBM, так как он работает только с int"
   ]
  },
  {
   "cell_type": "code",
   "execution_count": 72,
   "metadata": {
    "ExecuteTime": {
     "end_time": "2023-05-29T20:26:55.302575500Z",
     "start_time": "2023-05-29T20:26:55.196818700Z"
    }
   },
   "outputs": [],
   "source": [
    "features_train_gbm, features_valid_gbm, features_test_gbm = features_train.copy(), features_valid.copy(), features_test.copy()\n",
    "features_train_gbm[columns_to_ohe] = features_train_gbm[columns_to_ohe].astype('category')\n",
    "features_valid_gbm[columns_to_ohe] = features_valid_gbm[columns_to_ohe].astype('category')\n",
    "features_test_gbm[columns_to_ohe] = features_test_gbm[columns_to_ohe].astype('category')"
   ]
  },
  {
   "cell_type": "code",
   "execution_count": 73,
   "metadata": {
    "ExecuteTime": {
     "end_time": "2023-05-29T20:27:28.951983100Z",
     "start_time": "2023-05-29T20:26:55.305568300Z"
    }
   },
   "outputs": [
    {
     "name": "stdout",
     "output_type": "stream",
     "text": [
      "Лучшие параметры: {'num_leaves': 60, 'n_estimators': 300, 'max_depth': 10}\n",
      "Лучшее значение метрики:  1739.5033111713642\n",
      "Wall time: 33.6 s\n"
     ]
    }
   ],
   "source": [
    "%%time\n",
    "param_gbm = {\n",
    "    'n_estimators': [150, 300, 500],\n",
    "    'num_leaves': [60, 65, 70],\n",
    "    'max_depth': [3, 6, 10]\n",
    "}# распределение параметров для подбора\n",
    "\n",
    "train_data = lgb.Dataset(data=features_train_gbm, label=target_train, categorical_feature=columns_to_ohe) #хранилище для признаков\n",
    "valid_data = lgb.Dataset(data=features_valid_gbm, label=target_valid, categorical_feature=columns_to_ohe)\n",
    "test_data = lgb.Dataset(data=features_test_gbm, label=target_test, categorical_feature=columns_to_ohe)\n",
    "\n",
    "gbm = lgb.LGBMRegressor(random_state=12345)\n",
    "grscv = RandomizedSearchCV(gbm, param_gbm, cv=3, n_iter=10, scoring='neg_mean_squared_error')\n",
    "gbm_search = grscv.fit(train_data.data, train_data.label)# используем перекодированные признаки для подбора параметров\n",
    "\n",
    "print(\"Лучшие параметры:\", gbm_search.best_params_)\n",
    "print(\"Лучшее значение метрики: \", np.sqrt(abs(gbm_search.best_score_)))"
   ]
  },
  {
   "cell_type": "code",
   "execution_count": 74,
   "metadata": {
    "ExecuteTime": {
     "end_time": "2023-05-29T20:27:36.583573700Z",
     "start_time": "2023-05-29T20:27:28.952981500Z"
    }
   },
   "outputs": [
    {
     "name": "stdout",
     "output_type": "stream",
     "text": [
      "Оценка кросс-валидации LightGBM: 1731.1616936394369\n",
      "Wall time: 7.62 s\n"
     ]
    }
   ],
   "source": [
    "%%time\n",
    "model_gbm = lgb.LGBMRegressor(num_leaves=gbm_search.best_params_['num_leaves'], n_estimators=gbm_search.best_params_['n_estimators'], max_depth=gbm_search.best_params_['max_depth'], random_state=12345)\n",
    "gbm_scores = np.sqrt(abs(cross_val_score(model_gbm, train_data.data, train_data.label, cv=5, scoring='neg_mean_squared_error').mean()))\n",
    "print(f'Оценка кросс-валидации LightGBM: {gbm_scores}')"
   ]
  },
  {
   "cell_type": "code",
   "execution_count": 75,
   "metadata": {
    "ExecuteTime": {
     "end_time": "2023-05-29T20:27:39.063327Z",
     "start_time": "2023-05-29T20:27:36.589558600Z"
    }
   },
   "outputs": [
    {
     "name": "stdout",
     "output_type": "stream",
     "text": [
      "Wall time: 1.73 s\n",
      "Wall time: 349 ms\n",
      "Оценка RMSE на валидационной выборке: 1732.805360369309\n"
     ]
    }
   ],
   "source": [
    "%time model_gbm.fit(train_data.data, train_data.label)\n",
    "%time model_gbm.predict(valid_data.data)\n",
    "gbm_pred = model_gbm.predict(valid_data.data)\n",
    "print(f'Оценка RMSE на валидационной выборке: {mean_squared_error(valid_data.label, gbm_pred, squared=False)}')"
   ]
  },
  {
   "cell_type": "markdown",
   "metadata": {},
   "source": [
    "В нашем случае у LightGBM лучше результат по метрике и намного выше скорость обучения, для текущей задачи будем использовать LightGBM."
   ]
  },
  {
   "cell_type": "markdown",
   "metadata": {},
   "source": [
    "# Тестирование лучшей модели"
   ]
  },
  {
   "cell_type": "code",
   "execution_count": 76,
   "metadata": {
    "ExecuteTime": {
     "end_time": "2023-05-29T20:27:39.442313600Z",
     "start_time": "2023-05-29T20:27:39.060334Z"
    }
   },
   "outputs": [
    {
     "name": "stdout",
     "output_type": "stream",
     "text": [
      "Оценка RMSE на тестовой выборке: 1730.9885970142134\n"
     ]
    }
   ],
   "source": [
    "predictions_test = model_gbm.predict(test_data.data)\n",
    "print(f'Оценка RMSE на тестовой выборке: {mean_squared_error(test_data.label, predictions_test, squared=False)}')"
   ]
  },
  {
   "cell_type": "markdown",
   "metadata": {},
   "source": [
    "Качество модели подтвердилось на тестовой выборке"
   ]
  },
  {
   "cell_type": "code",
   "execution_count": 77,
   "metadata": {
    "ExecuteTime": {
     "end_time": "2023-05-29T20:27:39.534068Z",
     "start_time": "2023-05-29T20:27:39.446304100Z"
    }
   },
   "outputs": [
    {
     "name": "stdout",
     "output_type": "stream",
     "text": [
      "Оценка RMSE константной модели на тестовой выборке: 4477.312110698197\n"
     ]
    }
   ],
   "source": [
    "dummy = DummyRegressor()\n",
    "dummy.fit(features_train_forest, target_train)\n",
    "predictions_dummy_r = dummy.predict(features_test_forest)\n",
    "print(f'Оценка RMSE константной модели на тестовой выборке: {mean_squared_error(target_test, predictions_dummy_r, squared=False)}')"
   ]
  },
  {
   "cell_type": "markdown",
   "metadata": {},
   "source": [
    "Модель предсказывает намного лучше константной, проверка на адекватность пройдена"
   ]
  },
  {
   "cell_type": "markdown",
   "metadata": {},
   "source": [
    "## Вывод"
   ]
  },
  {
   "cell_type": "markdown",
   "metadata": {},
   "source": [
    "В рамках проекта была проделана следующая работа:\n",
    "1. Проведен общий обзор данных, определена задача для обучения модели\n",
    "2. Обработаны дубликаты, пропуски и аномалии в данных\n",
    "3. Проанализированы признаки, проведена предобработка(кодировка признаков, масштабирование), данные были поделены на выборки для обучения и тестирования моделей\n",
    "4. Подобраны параметры и обучены модели RandomForestRegressor, CatBoost и LightGBM, выбрана лучшая по метрикам, скорости обучения и скорости предсказания - ***LightGBM***, посчитаны метрики RMSE и оценка кросс-валидации\n",
    "5. Лучшая модель проверена на тестовой выборке и проверена на адекватность"
   ]
  },
  {
   "cell_type": "markdown",
   "metadata": {},
   "source": [
    "В нашем случае лучшей моделью оказалась LightGBM, так как для нас было важно и качество и скорость. CatBoost имеет большой набор удобных функций для обучения моделей и может быть предпочтительным вариантом, так как в нем проще следить за ходом обучения. В дальнейшем при более точной настройке параметров можно добиться еще более высоких результатов, не сильно проигрывая в скорости."
   ]
  }
 ],
 "metadata": {
  "ExecuteTimeLog": [
   {
    "duration": 2790,
    "start_time": "2023-05-29T04:36:44.864Z"
   },
   {
    "duration": 2794,
    "start_time": "2023-05-29T04:36:47.656Z"
   },
   {
    "duration": 117,
    "start_time": "2023-05-29T04:36:50.452Z"
   },
   {
    "duration": 15,
    "start_time": "2023-05-29T04:36:50.571Z"
   },
   {
    "duration": 113,
    "start_time": "2023-05-29T04:36:50.587Z"
   },
   {
    "duration": 332,
    "start_time": "2023-05-29T04:36:50.702Z"
   },
   {
    "duration": 8505,
    "start_time": "2023-05-29T04:36:51.035Z"
   },
   {
    "duration": 3114,
    "start_time": "2023-05-29T04:36:59.542Z"
   },
   {
    "duration": 7,
    "start_time": "2023-05-29T04:37:02.657Z"
   },
   {
    "duration": 476,
    "start_time": "2023-05-29T04:37:02.668Z"
   },
   {
    "duration": 21,
    "start_time": "2023-05-29T04:37:03.146Z"
   },
   {
    "duration": 12,
    "start_time": "2023-05-29T04:37:03.169Z"
   },
   {
    "duration": 459,
    "start_time": "2023-05-29T04:37:03.183Z"
   },
   {
    "duration": 37,
    "start_time": "2023-05-29T04:37:03.644Z"
   },
   {
    "duration": 29,
    "start_time": "2023-05-29T04:37:03.683Z"
   },
   {
    "duration": 49,
    "start_time": "2023-05-29T04:37:03.713Z"
   },
   {
    "duration": 27,
    "start_time": "2023-05-29T04:37:03.764Z"
   },
   {
    "duration": 29,
    "start_time": "2023-05-29T04:37:03.793Z"
   },
   {
    "duration": 43,
    "start_time": "2023-05-29T04:37:03.823Z"
   },
   {
    "duration": 101,
    "start_time": "2023-05-29T04:37:03.867Z"
   },
   {
    "duration": 59,
    "start_time": "2023-05-29T04:37:03.970Z"
   },
   {
    "duration": 4310,
    "start_time": "2023-05-29T04:37:04.032Z"
   },
   {
    "duration": 24,
    "start_time": "2023-05-29T04:37:08.344Z"
   },
   {
    "duration": 41,
    "start_time": "2023-05-29T04:37:08.370Z"
   },
   {
    "duration": 14,
    "start_time": "2023-05-29T04:37:08.413Z"
   },
   {
    "duration": 22,
    "start_time": "2023-05-29T04:37:08.428Z"
   },
   {
    "duration": 3416,
    "start_time": "2023-05-29T04:37:08.452Z"
   },
   {
    "duration": 14,
    "start_time": "2023-05-29T04:37:11.872Z"
   },
   {
    "duration": 3267,
    "start_time": "2023-05-29T04:37:11.888Z"
   },
   {
    "duration": 14,
    "start_time": "2023-05-29T04:37:15.157Z"
   },
   {
    "duration": 3288,
    "start_time": "2023-05-29T04:37:15.172Z"
   },
   {
    "duration": 17,
    "start_time": "2023-05-29T04:37:18.462Z"
   },
   {
    "duration": 3592,
    "start_time": "2023-05-29T04:37:18.481Z"
   },
   {
    "duration": 15,
    "start_time": "2023-05-29T04:37:22.075Z"
   },
   {
    "duration": 75,
    "start_time": "2023-05-29T04:37:22.091Z"
   },
   {
    "duration": 3,
    "start_time": "2023-05-29T04:37:22.168Z"
   },
   {
    "duration": 10,
    "start_time": "2023-05-29T04:37:22.172Z"
   },
   {
    "duration": 9,
    "start_time": "2023-05-29T04:37:22.184Z"
   },
   {
    "duration": 56,
    "start_time": "2023-05-29T04:37:22.195Z"
   },
   {
    "duration": 3,
    "start_time": "2023-05-29T04:37:22.253Z"
   },
   {
    "duration": 10,
    "start_time": "2023-05-29T04:37:22.258Z"
   },
   {
    "duration": 4999,
    "start_time": "2023-05-29T04:37:22.269Z"
   },
   {
    "duration": 23,
    "start_time": "2023-05-29T04:37:27.269Z"
   },
   {
    "duration": 3,
    "start_time": "2023-05-29T04:37:27.293Z"
   },
   {
    "duration": 12,
    "start_time": "2023-05-29T04:37:27.298Z"
   },
   {
    "duration": 6013,
    "start_time": "2023-05-29T04:37:27.312Z"
   },
   {
    "duration": 4,
    "start_time": "2023-05-29T04:37:33.327Z"
   },
   {
    "duration": 36,
    "start_time": "2023-05-29T04:37:33.332Z"
   },
   {
    "duration": 3,
    "start_time": "2023-05-29T04:37:33.369Z"
   },
   {
    "duration": 23,
    "start_time": "2023-05-29T04:37:33.374Z"
   },
   {
    "duration": 163,
    "start_time": "2023-05-29T04:37:33.399Z"
   },
   {
    "duration": 122,
    "start_time": "2023-05-29T04:37:33.564Z"
   },
   {
    "duration": 1401,
    "start_time": "2023-05-29T04:37:33.688Z"
   },
   {
    "duration": 0,
    "start_time": "2023-05-29T04:37:35.091Z"
   },
   {
    "duration": 0,
    "start_time": "2023-05-29T04:37:35.092Z"
   },
   {
    "duration": 0,
    "start_time": "2023-05-29T04:37:35.093Z"
   },
   {
    "duration": 0,
    "start_time": "2023-05-29T04:37:35.094Z"
   },
   {
    "duration": 0,
    "start_time": "2023-05-29T04:37:35.095Z"
   },
   {
    "duration": 0,
    "start_time": "2023-05-29T04:37:35.096Z"
   },
   {
    "duration": 0,
    "start_time": "2023-05-29T04:37:35.097Z"
   },
   {
    "duration": 0,
    "start_time": "2023-05-29T04:37:35.098Z"
   },
   {
    "duration": 0,
    "start_time": "2023-05-29T04:37:35.099Z"
   },
   {
    "duration": 0,
    "start_time": "2023-05-29T04:37:35.100Z"
   },
   {
    "duration": 0,
    "start_time": "2023-05-29T04:37:35.101Z"
   },
   {
    "duration": 0,
    "start_time": "2023-05-29T04:37:35.102Z"
   },
   {
    "duration": 0,
    "start_time": "2023-05-29T04:37:35.103Z"
   },
   {
    "duration": 0,
    "start_time": "2023-05-29T04:37:35.104Z"
   },
   {
    "duration": 0,
    "start_time": "2023-05-29T04:37:35.105Z"
   },
   {
    "duration": 0,
    "start_time": "2023-05-29T04:37:35.106Z"
   },
   {
    "duration": 0,
    "start_time": "2023-05-29T04:37:35.107Z"
   },
   {
    "duration": 0,
    "start_time": "2023-05-29T04:37:35.107Z"
   },
   {
    "duration": 0,
    "start_time": "2023-05-29T04:37:35.108Z"
   },
   {
    "duration": 0,
    "start_time": "2023-05-29T04:37:35.109Z"
   },
   {
    "duration": 5679,
    "start_time": "2023-05-29T04:37:57.215Z"
   },
   {
    "duration": 1467,
    "start_time": "2023-05-29T04:38:09.662Z"
   },
   {
    "duration": 3,
    "start_time": "2023-05-29T04:38:11.131Z"
   },
   {
    "duration": 7,
    "start_time": "2023-05-29T04:38:11.136Z"
   },
   {
    "duration": 4,
    "start_time": "2023-05-29T04:38:11.150Z"
   },
   {
    "duration": 103,
    "start_time": "2023-05-29T04:38:11.156Z"
   },
   {
    "duration": 4,
    "start_time": "2023-05-29T04:38:11.262Z"
   },
   {
    "duration": 5,
    "start_time": "2023-05-29T04:38:11.267Z"
   },
   {
    "duration": 4,
    "start_time": "2023-05-29T04:38:11.274Z"
   },
   {
    "duration": 1308722,
    "start_time": "2023-05-29T04:38:11.279Z"
   },
   {
    "duration": 1576,
    "start_time": "2023-05-29T16:55:08.105Z"
   },
   {
    "duration": 972,
    "start_time": "2023-05-29T16:55:09.683Z"
   },
   {
    "duration": 116,
    "start_time": "2023-05-29T16:55:10.656Z"
   },
   {
    "duration": 15,
    "start_time": "2023-05-29T16:55:10.773Z"
   },
   {
    "duration": 111,
    "start_time": "2023-05-29T16:55:10.790Z"
   },
   {
    "duration": 307,
    "start_time": "2023-05-29T16:55:10.902Z"
   },
   {
    "duration": 7284,
    "start_time": "2023-05-29T16:55:11.210Z"
   },
   {
    "duration": 2488,
    "start_time": "2023-05-29T16:55:18.496Z"
   },
   {
    "duration": 8,
    "start_time": "2023-05-29T16:55:20.986Z"
   },
   {
    "duration": 438,
    "start_time": "2023-05-29T16:55:20.996Z"
   },
   {
    "duration": 19,
    "start_time": "2023-05-29T16:55:21.435Z"
   },
   {
    "duration": 18,
    "start_time": "2023-05-29T16:55:21.456Z"
   },
   {
    "duration": 453,
    "start_time": "2023-05-29T16:55:21.475Z"
   },
   {
    "duration": 29,
    "start_time": "2023-05-29T16:55:21.931Z"
   },
   {
    "duration": 29,
    "start_time": "2023-05-29T16:55:21.962Z"
   },
   {
    "duration": 47,
    "start_time": "2023-05-29T16:55:21.992Z"
   },
   {
    "duration": 30,
    "start_time": "2023-05-29T16:55:22.040Z"
   },
   {
    "duration": 44,
    "start_time": "2023-05-29T16:55:22.071Z"
   },
   {
    "duration": 27,
    "start_time": "2023-05-29T16:55:22.116Z"
   },
   {
    "duration": 1428,
    "start_time": "2023-05-29T16:56:27.069Z"
   },
   {
    "duration": 756,
    "start_time": "2023-05-29T16:56:28.499Z"
   },
   {
    "duration": 115,
    "start_time": "2023-05-29T16:56:29.257Z"
   },
   {
    "duration": 15,
    "start_time": "2023-05-29T16:56:29.374Z"
   },
   {
    "duration": 99,
    "start_time": "2023-05-29T16:56:29.392Z"
   },
   {
    "duration": 291,
    "start_time": "2023-05-29T16:56:29.492Z"
   },
   {
    "duration": 7218,
    "start_time": "2023-05-29T16:56:29.785Z"
   },
   {
    "duration": 2575,
    "start_time": "2023-05-29T16:56:37.004Z"
   },
   {
    "duration": 8,
    "start_time": "2023-05-29T16:56:39.581Z"
   },
   {
    "duration": 461,
    "start_time": "2023-05-29T16:56:39.590Z"
   },
   {
    "duration": 22,
    "start_time": "2023-05-29T16:56:40.053Z"
   },
   {
    "duration": 38,
    "start_time": "2023-05-29T16:56:40.076Z"
   },
   {
    "duration": 362,
    "start_time": "2023-05-29T16:56:40.115Z"
   },
   {
    "duration": 42,
    "start_time": "2023-05-29T16:56:40.479Z"
   },
   {
    "duration": 43,
    "start_time": "2023-05-29T16:56:40.522Z"
   },
   {
    "duration": 55,
    "start_time": "2023-05-29T16:56:40.566Z"
   },
   {
    "duration": 39,
    "start_time": "2023-05-29T16:56:40.623Z"
   },
   {
    "duration": 50,
    "start_time": "2023-05-29T16:56:40.663Z"
   },
   {
    "duration": 35,
    "start_time": "2023-05-29T16:56:40.715Z"
   },
   {
    "duration": 89,
    "start_time": "2023-05-29T16:57:02.903Z"
   },
   {
    "duration": 74,
    "start_time": "2023-05-29T16:57:58.623Z"
   },
   {
    "duration": 195,
    "start_time": "2023-05-29T16:58:10.857Z"
   },
   {
    "duration": 8,
    "start_time": "2023-05-29T16:58:52.925Z"
   },
   {
    "duration": 17,
    "start_time": "2023-05-29T16:59:04.315Z"
   },
   {
    "duration": 147,
    "start_time": "2023-05-29T17:00:43.289Z"
   },
   {
    "duration": 99,
    "start_time": "2023-05-29T17:01:10.633Z"
   },
   {
    "duration": 117,
    "start_time": "2023-05-29T17:02:54.791Z"
   },
   {
    "duration": 4,
    "start_time": "2023-05-29T17:03:38.362Z"
   },
   {
    "duration": 719,
    "start_time": "2023-05-29T17:03:38.367Z"
   },
   {
    "duration": 103,
    "start_time": "2023-05-29T17:03:39.088Z"
   },
   {
    "duration": 10,
    "start_time": "2023-05-29T17:03:39.192Z"
   },
   {
    "duration": 82,
    "start_time": "2023-05-29T17:03:39.215Z"
   },
   {
    "duration": 269,
    "start_time": "2023-05-29T17:03:39.298Z"
   },
   {
    "duration": 6863,
    "start_time": "2023-05-29T17:03:39.569Z"
   },
   {
    "duration": 2495,
    "start_time": "2023-05-29T17:03:46.433Z"
   },
   {
    "duration": 7,
    "start_time": "2023-05-29T17:03:48.929Z"
   },
   {
    "duration": 362,
    "start_time": "2023-05-29T17:03:48.937Z"
   },
   {
    "duration": 22,
    "start_time": "2023-05-29T17:03:49.300Z"
   },
   {
    "duration": 9,
    "start_time": "2023-05-29T17:03:49.324Z"
   },
   {
    "duration": 346,
    "start_time": "2023-05-29T17:03:49.336Z"
   },
   {
    "duration": 34,
    "start_time": "2023-05-29T17:03:49.683Z"
   },
   {
    "duration": 38,
    "start_time": "2023-05-29T17:03:49.718Z"
   },
   {
    "duration": 35,
    "start_time": "2023-05-29T17:03:49.757Z"
   },
   {
    "duration": 28,
    "start_time": "2023-05-29T17:03:49.793Z"
   },
   {
    "duration": 34,
    "start_time": "2023-05-29T17:03:49.822Z"
   },
   {
    "duration": 33,
    "start_time": "2023-05-29T17:03:49.858Z"
   },
   {
    "duration": 97,
    "start_time": "2023-05-29T17:03:49.893Z"
   },
   {
    "duration": 70,
    "start_time": "2023-05-29T17:03:49.991Z"
   },
   {
    "duration": 107,
    "start_time": "2023-05-29T17:04:00.346Z"
   },
   {
    "duration": 105,
    "start_time": "2023-05-29T17:04:43.227Z"
   },
   {
    "duration": 4282,
    "start_time": "2023-05-29T17:05:26.468Z"
   },
   {
    "duration": 4337,
    "start_time": "2023-05-29T17:05:45.753Z"
   },
   {
    "duration": 3,
    "start_time": "2023-05-29T17:06:07.954Z"
   },
   {
    "duration": 790,
    "start_time": "2023-05-29T17:06:07.960Z"
   },
   {
    "duration": 113,
    "start_time": "2023-05-29T17:06:08.752Z"
   },
   {
    "duration": 11,
    "start_time": "2023-05-29T17:06:08.867Z"
   },
   {
    "duration": 100,
    "start_time": "2023-05-29T17:06:08.880Z"
   },
   {
    "duration": 286,
    "start_time": "2023-05-29T17:06:08.981Z"
   },
   {
    "duration": 6883,
    "start_time": "2023-05-29T17:06:09.269Z"
   },
   {
    "duration": 2581,
    "start_time": "2023-05-29T17:06:16.153Z"
   },
   {
    "duration": 7,
    "start_time": "2023-05-29T17:06:18.736Z"
   },
   {
    "duration": 378,
    "start_time": "2023-05-29T17:06:18.744Z"
   },
   {
    "duration": 26,
    "start_time": "2023-05-29T17:06:19.124Z"
   },
   {
    "duration": 22,
    "start_time": "2023-05-29T17:06:19.152Z"
   },
   {
    "duration": 508,
    "start_time": "2023-05-29T17:06:19.176Z"
   },
   {
    "duration": 34,
    "start_time": "2023-05-29T17:06:19.686Z"
   },
   {
    "duration": 34,
    "start_time": "2023-05-29T17:06:19.722Z"
   },
   {
    "duration": 30,
    "start_time": "2023-05-29T17:06:19.758Z"
   },
   {
    "duration": 38,
    "start_time": "2023-05-29T17:06:19.790Z"
   },
   {
    "duration": 33,
    "start_time": "2023-05-29T17:06:19.829Z"
   },
   {
    "duration": 36,
    "start_time": "2023-05-29T17:06:19.863Z"
   },
   {
    "duration": 107,
    "start_time": "2023-05-29T17:06:19.901Z"
   },
   {
    "duration": 59,
    "start_time": "2023-05-29T17:06:20.015Z"
   },
   {
    "duration": 100,
    "start_time": "2023-05-29T17:06:45.723Z"
   },
   {
    "duration": 8,
    "start_time": "2023-05-29T17:06:59.755Z"
   },
   {
    "duration": 106,
    "start_time": "2023-05-29T17:07:21.378Z"
   },
   {
    "duration": 106,
    "start_time": "2023-05-29T17:07:41.685Z"
   },
   {
    "duration": 11,
    "start_time": "2023-05-29T17:07:51.278Z"
   },
   {
    "duration": 4,
    "start_time": "2023-05-29T17:08:06.557Z"
   },
   {
    "duration": 120,
    "start_time": "2023-05-29T17:08:18.151Z"
   },
   {
    "duration": 103,
    "start_time": "2023-05-29T17:08:52.907Z"
   },
   {
    "duration": 2036,
    "start_time": "2023-05-29T17:11:09.691Z"
   },
   {
    "duration": 19,
    "start_time": "2023-05-29T17:11:21.486Z"
   },
   {
    "duration": 68,
    "start_time": "2023-05-29T17:11:57.314Z"
   },
   {
    "duration": 2067,
    "start_time": "2023-05-29T17:15:13.995Z"
   },
   {
    "duration": 18,
    "start_time": "2023-05-29T17:17:46.044Z"
   },
   {
    "duration": 33,
    "start_time": "2023-05-29T17:17:49.103Z"
   },
   {
    "duration": 14,
    "start_time": "2023-05-29T17:17:50.622Z"
   },
   {
    "duration": 4,
    "start_time": "2023-05-29T17:19:31.954Z"
   },
   {
    "duration": 3705,
    "start_time": "2023-05-29T17:19:34.455Z"
   },
   {
    "duration": 3227,
    "start_time": "2023-05-29T17:19:54.276Z"
   },
   {
    "duration": 3,
    "start_time": "2023-05-29T17:30:40.083Z"
   },
   {
    "duration": 652,
    "start_time": "2023-05-29T17:30:40.088Z"
   },
   {
    "duration": 97,
    "start_time": "2023-05-29T17:30:40.741Z"
   },
   {
    "duration": 11,
    "start_time": "2023-05-29T17:30:40.840Z"
   },
   {
    "duration": 88,
    "start_time": "2023-05-29T17:30:40.853Z"
   },
   {
    "duration": 254,
    "start_time": "2023-05-29T17:30:40.943Z"
   },
   {
    "duration": 6725,
    "start_time": "2023-05-29T17:30:41.199Z"
   },
   {
    "duration": 2424,
    "start_time": "2023-05-29T17:30:47.925Z"
   },
   {
    "duration": 7,
    "start_time": "2023-05-29T17:30:50.351Z"
   },
   {
    "duration": 335,
    "start_time": "2023-05-29T17:30:50.360Z"
   },
   {
    "duration": 23,
    "start_time": "2023-05-29T17:30:50.696Z"
   },
   {
    "duration": 9,
    "start_time": "2023-05-29T17:30:50.721Z"
   },
   {
    "duration": 327,
    "start_time": "2023-05-29T17:30:50.732Z"
   },
   {
    "duration": 27,
    "start_time": "2023-05-29T17:30:51.062Z"
   },
   {
    "duration": 47,
    "start_time": "2023-05-29T17:30:51.090Z"
   },
   {
    "duration": 35,
    "start_time": "2023-05-29T17:30:51.138Z"
   },
   {
    "duration": 28,
    "start_time": "2023-05-29T17:30:51.174Z"
   },
   {
    "duration": 30,
    "start_time": "2023-05-29T17:30:51.203Z"
   },
   {
    "duration": 25,
    "start_time": "2023-05-29T17:30:51.235Z"
   },
   {
    "duration": 86,
    "start_time": "2023-05-29T17:30:51.261Z"
   },
   {
    "duration": 55,
    "start_time": "2023-05-29T17:30:51.348Z"
   },
   {
    "duration": 1973,
    "start_time": "2023-05-29T17:30:51.404Z"
   },
   {
    "duration": 13,
    "start_time": "2023-05-29T17:30:53.378Z"
   },
   {
    "duration": 45,
    "start_time": "2023-05-29T17:30:53.392Z"
   },
   {
    "duration": 12,
    "start_time": "2023-05-29T17:30:53.439Z"
   },
   {
    "duration": 3,
    "start_time": "2023-05-29T17:33:02.629Z"
   },
   {
    "duration": 182,
    "start_time": "2023-05-29T17:33:03.708Z"
   },
   {
    "duration": 19,
    "start_time": "2023-05-29T17:33:08.144Z"
   },
   {
    "duration": 4,
    "start_time": "2023-05-29T17:33:54.497Z"
   },
   {
    "duration": 685,
    "start_time": "2023-05-29T17:33:54.502Z"
   },
   {
    "duration": 98,
    "start_time": "2023-05-29T17:33:55.189Z"
   },
   {
    "duration": 10,
    "start_time": "2023-05-29T17:33:55.289Z"
   },
   {
    "duration": 87,
    "start_time": "2023-05-29T17:33:55.300Z"
   },
   {
    "duration": 289,
    "start_time": "2023-05-29T17:33:55.388Z"
   },
   {
    "duration": 6672,
    "start_time": "2023-05-29T17:33:55.679Z"
   },
   {
    "duration": 2433,
    "start_time": "2023-05-29T17:34:02.353Z"
   },
   {
    "duration": 7,
    "start_time": "2023-05-29T17:34:04.787Z"
   },
   {
    "duration": 349,
    "start_time": "2023-05-29T17:34:04.795Z"
   },
   {
    "duration": 20,
    "start_time": "2023-05-29T17:34:05.146Z"
   },
   {
    "duration": 9,
    "start_time": "2023-05-29T17:34:05.168Z"
   },
   {
    "duration": 374,
    "start_time": "2023-05-29T17:34:05.178Z"
   },
   {
    "duration": 27,
    "start_time": "2023-05-29T17:34:05.554Z"
   },
   {
    "duration": 37,
    "start_time": "2023-05-29T17:34:05.582Z"
   },
   {
    "duration": 37,
    "start_time": "2023-05-29T17:34:05.620Z"
   },
   {
    "duration": 48,
    "start_time": "2023-05-29T17:34:05.659Z"
   },
   {
    "duration": 28,
    "start_time": "2023-05-29T17:34:05.709Z"
   },
   {
    "duration": 43,
    "start_time": "2023-05-29T17:34:05.738Z"
   },
   {
    "duration": 103,
    "start_time": "2023-05-29T17:34:05.783Z"
   },
   {
    "duration": 60,
    "start_time": "2023-05-29T17:34:05.888Z"
   },
   {
    "duration": 1935,
    "start_time": "2023-05-29T17:34:05.950Z"
   },
   {
    "duration": 15,
    "start_time": "2023-05-29T17:34:07.887Z"
   },
   {
    "duration": 45,
    "start_time": "2023-05-29T17:34:07.903Z"
   },
   {
    "duration": 13,
    "start_time": "2023-05-29T17:34:07.949Z"
   },
   {
    "duration": 5,
    "start_time": "2023-05-29T17:34:07.963Z"
   },
   {
    "duration": 186,
    "start_time": "2023-05-29T17:34:07.970Z"
   },
   {
    "duration": 13,
    "start_time": "2023-05-29T17:34:08.158Z"
   },
   {
    "duration": 180,
    "start_time": "2023-05-29T17:34:08.172Z"
   },
   {
    "duration": 13,
    "start_time": "2023-05-29T17:34:08.353Z"
   },
   {
    "duration": 175,
    "start_time": "2023-05-29T17:34:08.367Z"
   },
   {
    "duration": 12,
    "start_time": "2023-05-29T17:34:08.544Z"
   },
   {
    "duration": 3905,
    "start_time": "2023-05-29T17:36:38.504Z"
   },
   {
    "duration": 3,
    "start_time": "2023-05-29T17:37:04.975Z"
   },
   {
    "duration": 705,
    "start_time": "2023-05-29T17:37:04.980Z"
   },
   {
    "duration": 97,
    "start_time": "2023-05-29T17:37:05.688Z"
   },
   {
    "duration": 11,
    "start_time": "2023-05-29T17:37:05.787Z"
   },
   {
    "duration": 92,
    "start_time": "2023-05-29T17:37:05.800Z"
   },
   {
    "duration": 269,
    "start_time": "2023-05-29T17:37:05.893Z"
   },
   {
    "duration": 7041,
    "start_time": "2023-05-29T17:37:06.163Z"
   },
   {
    "duration": 2626,
    "start_time": "2023-05-29T17:37:13.206Z"
   },
   {
    "duration": 8,
    "start_time": "2023-05-29T17:37:15.833Z"
   },
   {
    "duration": 351,
    "start_time": "2023-05-29T17:37:15.843Z"
   },
   {
    "duration": 26,
    "start_time": "2023-05-29T17:37:16.197Z"
   },
   {
    "duration": 9,
    "start_time": "2023-05-29T17:37:16.225Z"
   },
   {
    "duration": 327,
    "start_time": "2023-05-29T17:37:16.235Z"
   },
   {
    "duration": 26,
    "start_time": "2023-05-29T17:37:16.563Z"
   },
   {
    "duration": 36,
    "start_time": "2023-05-29T17:37:16.591Z"
   },
   {
    "duration": 28,
    "start_time": "2023-05-29T17:37:16.628Z"
   },
   {
    "duration": 30,
    "start_time": "2023-05-29T17:37:16.658Z"
   },
   {
    "duration": 40,
    "start_time": "2023-05-29T17:37:16.689Z"
   },
   {
    "duration": 27,
    "start_time": "2023-05-29T17:37:16.731Z"
   },
   {
    "duration": 109,
    "start_time": "2023-05-29T17:37:16.760Z"
   },
   {
    "duration": 59,
    "start_time": "2023-05-29T17:37:16.870Z"
   },
   {
    "duration": 1911,
    "start_time": "2023-05-29T17:37:16.930Z"
   },
   {
    "duration": 12,
    "start_time": "2023-05-29T17:37:18.843Z"
   },
   {
    "duration": 37,
    "start_time": "2023-05-29T17:37:18.856Z"
   },
   {
    "duration": 23,
    "start_time": "2023-05-29T17:37:18.895Z"
   },
   {
    "duration": 3,
    "start_time": "2023-05-29T17:37:18.920Z"
   },
   {
    "duration": 179,
    "start_time": "2023-05-29T17:37:18.925Z"
   },
   {
    "duration": 13,
    "start_time": "2023-05-29T17:37:19.105Z"
   },
   {
    "duration": 177,
    "start_time": "2023-05-29T17:37:19.121Z"
   },
   {
    "duration": 17,
    "start_time": "2023-05-29T17:37:19.299Z"
   },
   {
    "duration": 165,
    "start_time": "2023-05-29T17:37:19.317Z"
   },
   {
    "duration": 13,
    "start_time": "2023-05-29T17:37:19.483Z"
   },
   {
    "duration": 3501,
    "start_time": "2023-05-29T17:37:54.704Z"
   },
   {
    "duration": 14,
    "start_time": "2023-05-29T17:37:59.426Z"
   },
   {
    "duration": 61,
    "start_time": "2023-05-29T17:38:01.213Z"
   },
   {
    "duration": 3,
    "start_time": "2023-05-29T17:38:03.237Z"
   },
   {
    "duration": 3,
    "start_time": "2023-05-29T17:38:06.236Z"
   },
   {
    "duration": 9,
    "start_time": "2023-05-29T17:38:08.999Z"
   },
   {
    "duration": 21,
    "start_time": "2023-05-29T17:38:50.301Z"
   },
   {
    "duration": 21,
    "start_time": "2023-05-29T17:39:32.818Z"
   },
   {
    "duration": 50,
    "start_time": "2023-05-29T17:40:12.598Z"
   },
   {
    "duration": 4,
    "start_time": "2023-05-29T17:40:16.284Z"
   },
   {
    "duration": 9,
    "start_time": "2023-05-29T17:40:29.704Z"
   },
   {
    "duration": 3278,
    "start_time": "2023-05-29T17:43:03.304Z"
   },
   {
    "duration": 24,
    "start_time": "2023-05-29T17:43:12.488Z"
   },
   {
    "duration": 4,
    "start_time": "2023-05-29T17:43:34.316Z"
   },
   {
    "duration": 9,
    "start_time": "2023-05-29T17:43:37.296Z"
   },
   {
    "duration": 3470,
    "start_time": "2023-05-29T17:45:52.847Z"
   },
   {
    "duration": 4,
    "start_time": "2023-05-29T17:46:05.053Z"
   },
   {
    "duration": 24,
    "start_time": "2023-05-29T17:46:24.696Z"
   },
   {
    "duration": 3,
    "start_time": "2023-05-29T17:46:26.997Z"
   },
   {
    "duration": 15,
    "start_time": "2023-05-29T17:53:14.416Z"
   },
   {
    "duration": 4,
    "start_time": "2023-05-29T17:54:25.613Z"
   },
   {
    "duration": 728,
    "start_time": "2023-05-29T17:54:25.618Z"
   },
   {
    "duration": 96,
    "start_time": "2023-05-29T17:54:26.348Z"
   },
   {
    "duration": 15,
    "start_time": "2023-05-29T17:54:26.446Z"
   },
   {
    "duration": 89,
    "start_time": "2023-05-29T17:54:26.463Z"
   },
   {
    "duration": 329,
    "start_time": "2023-05-29T17:54:26.553Z"
   },
   {
    "duration": 6784,
    "start_time": "2023-05-29T17:54:26.884Z"
   },
   {
    "duration": 2492,
    "start_time": "2023-05-29T17:54:33.670Z"
   },
   {
    "duration": 6,
    "start_time": "2023-05-29T17:54:36.165Z"
   },
   {
    "duration": 348,
    "start_time": "2023-05-29T17:54:36.173Z"
   },
   {
    "duration": 18,
    "start_time": "2023-05-29T17:54:36.523Z"
   },
   {
    "duration": 10,
    "start_time": "2023-05-29T17:54:36.543Z"
   },
   {
    "duration": 396,
    "start_time": "2023-05-29T17:54:36.555Z"
   },
   {
    "duration": 28,
    "start_time": "2023-05-29T17:54:36.953Z"
   },
   {
    "duration": 41,
    "start_time": "2023-05-29T17:54:36.983Z"
   },
   {
    "duration": 32,
    "start_time": "2023-05-29T17:54:37.025Z"
   },
   {
    "duration": 26,
    "start_time": "2023-05-29T17:54:37.058Z"
   },
   {
    "duration": 41,
    "start_time": "2023-05-29T17:54:37.086Z"
   },
   {
    "duration": 25,
    "start_time": "2023-05-29T17:54:37.129Z"
   },
   {
    "duration": 87,
    "start_time": "2023-05-29T17:54:44.098Z"
   },
   {
    "duration": 5,
    "start_time": "2023-05-29T17:55:47.633Z"
   },
   {
    "duration": 4,
    "start_time": "2023-05-29T17:55:50.655Z"
   },
   {
    "duration": 758,
    "start_time": "2023-05-29T17:55:50.661Z"
   },
   {
    "duration": 106,
    "start_time": "2023-05-29T17:55:51.420Z"
   },
   {
    "duration": 12,
    "start_time": "2023-05-29T17:55:51.527Z"
   },
   {
    "duration": 247,
    "start_time": "2023-05-29T17:55:51.540Z"
   },
   {
    "duration": 281,
    "start_time": "2023-05-29T17:55:51.788Z"
   },
   {
    "duration": 6953,
    "start_time": "2023-05-29T17:55:52.071Z"
   },
   {
    "duration": 2492,
    "start_time": "2023-05-29T17:55:59.025Z"
   },
   {
    "duration": 7,
    "start_time": "2023-05-29T17:56:01.519Z"
   },
   {
    "duration": 395,
    "start_time": "2023-05-29T17:56:01.527Z"
   },
   {
    "duration": 18,
    "start_time": "2023-05-29T17:56:01.924Z"
   },
   {
    "duration": 34,
    "start_time": "2023-05-29T17:56:01.944Z"
   },
   {
    "duration": 483,
    "start_time": "2023-05-29T17:56:01.979Z"
   },
   {
    "duration": 29,
    "start_time": "2023-05-29T17:56:02.464Z"
   },
   {
    "duration": 52,
    "start_time": "2023-05-29T17:56:02.494Z"
   },
   {
    "duration": 29,
    "start_time": "2023-05-29T17:56:02.547Z"
   },
   {
    "duration": 37,
    "start_time": "2023-05-29T17:56:02.577Z"
   },
   {
    "duration": 57,
    "start_time": "2023-05-29T17:56:02.615Z"
   },
   {
    "duration": 32,
    "start_time": "2023-05-29T17:56:02.674Z"
   },
   {
    "duration": 92,
    "start_time": "2023-05-29T17:56:06.945Z"
   },
   {
    "duration": 3,
    "start_time": "2023-05-29T17:56:57.544Z"
   },
   {
    "duration": 762,
    "start_time": "2023-05-29T17:56:57.549Z"
   },
   {
    "duration": 107,
    "start_time": "2023-05-29T17:56:58.313Z"
   },
   {
    "duration": 39,
    "start_time": "2023-05-29T17:56:58.422Z"
   },
   {
    "duration": 126,
    "start_time": "2023-05-29T17:56:58.462Z"
   },
   {
    "duration": 277,
    "start_time": "2023-05-29T17:56:58.589Z"
   },
   {
    "duration": 6993,
    "start_time": "2023-05-29T17:56:58.867Z"
   },
   {
    "duration": 2557,
    "start_time": "2023-05-29T17:57:05.861Z"
   },
   {
    "duration": 7,
    "start_time": "2023-05-29T17:57:08.420Z"
   },
   {
    "duration": 384,
    "start_time": "2023-05-29T17:57:08.429Z"
   },
   {
    "duration": 19,
    "start_time": "2023-05-29T17:57:08.815Z"
   },
   {
    "duration": 10,
    "start_time": "2023-05-29T17:57:08.835Z"
   },
   {
    "duration": 501,
    "start_time": "2023-05-29T17:57:08.846Z"
   },
   {
    "duration": 29,
    "start_time": "2023-05-29T17:57:09.348Z"
   },
   {
    "duration": 41,
    "start_time": "2023-05-29T17:57:09.378Z"
   },
   {
    "duration": 29,
    "start_time": "2023-05-29T17:57:09.420Z"
   },
   {
    "duration": 37,
    "start_time": "2023-05-29T17:57:09.450Z"
   },
   {
    "duration": 36,
    "start_time": "2023-05-29T17:57:09.489Z"
   },
   {
    "duration": 33,
    "start_time": "2023-05-29T17:57:09.526Z"
   },
   {
    "duration": 82,
    "start_time": "2023-05-29T17:57:12.256Z"
   },
   {
    "duration": 4,
    "start_time": "2023-05-29T17:57:22.866Z"
   },
   {
    "duration": 4,
    "start_time": "2023-05-29T17:57:27.450Z"
   },
   {
    "duration": 774,
    "start_time": "2023-05-29T17:57:27.456Z"
   },
   {
    "duration": 107,
    "start_time": "2023-05-29T17:57:28.232Z"
   },
   {
    "duration": 15,
    "start_time": "2023-05-29T17:57:28.341Z"
   },
   {
    "duration": 98,
    "start_time": "2023-05-29T17:57:28.358Z"
   },
   {
    "duration": 281,
    "start_time": "2023-05-29T17:57:28.458Z"
   },
   {
    "duration": 6976,
    "start_time": "2023-05-29T17:57:28.740Z"
   },
   {
    "duration": 2570,
    "start_time": "2023-05-29T17:57:35.718Z"
   },
   {
    "duration": 7,
    "start_time": "2023-05-29T17:57:38.291Z"
   },
   {
    "duration": 399,
    "start_time": "2023-05-29T17:57:38.300Z"
   },
   {
    "duration": 20,
    "start_time": "2023-05-29T17:57:38.700Z"
   },
   {
    "duration": 10,
    "start_time": "2023-05-29T17:57:38.722Z"
   },
   {
    "duration": 506,
    "start_time": "2023-05-29T17:57:38.733Z"
   },
   {
    "duration": 28,
    "start_time": "2023-05-29T17:57:39.241Z"
   },
   {
    "duration": 28,
    "start_time": "2023-05-29T17:57:39.271Z"
   },
   {
    "duration": 31,
    "start_time": "2023-05-29T17:57:39.315Z"
   },
   {
    "duration": 45,
    "start_time": "2023-05-29T17:57:39.347Z"
   },
   {
    "duration": 29,
    "start_time": "2023-05-29T17:57:39.394Z"
   },
   {
    "duration": 27,
    "start_time": "2023-05-29T17:57:39.425Z"
   },
   {
    "duration": 91,
    "start_time": "2023-05-29T17:57:39.453Z"
   },
   {
    "duration": 3,
    "start_time": "2023-05-29T17:58:28.342Z"
   },
   {
    "duration": 715,
    "start_time": "2023-05-29T17:58:28.347Z"
   },
   {
    "duration": 102,
    "start_time": "2023-05-29T17:58:29.064Z"
   },
   {
    "duration": 11,
    "start_time": "2023-05-29T17:58:29.168Z"
   },
   {
    "duration": 93,
    "start_time": "2023-05-29T17:58:29.180Z"
   },
   {
    "duration": 267,
    "start_time": "2023-05-29T17:58:29.274Z"
   },
   {
    "duration": 6852,
    "start_time": "2023-05-29T17:58:29.542Z"
   },
   {
    "duration": 2523,
    "start_time": "2023-05-29T17:58:36.395Z"
   },
   {
    "duration": 7,
    "start_time": "2023-05-29T17:58:38.921Z"
   },
   {
    "duration": 396,
    "start_time": "2023-05-29T17:58:38.930Z"
   },
   {
    "duration": 19,
    "start_time": "2023-05-29T17:58:39.328Z"
   },
   {
    "duration": 10,
    "start_time": "2023-05-29T17:58:39.349Z"
   },
   {
    "duration": 542,
    "start_time": "2023-05-29T17:58:39.361Z"
   },
   {
    "duration": 38,
    "start_time": "2023-05-29T17:58:39.905Z"
   },
   {
    "duration": 30,
    "start_time": "2023-05-29T17:58:39.945Z"
   },
   {
    "duration": 47,
    "start_time": "2023-05-29T17:58:39.977Z"
   },
   {
    "duration": 31,
    "start_time": "2023-05-29T17:58:40.026Z"
   },
   {
    "duration": 35,
    "start_time": "2023-05-29T17:58:40.059Z"
   },
   {
    "duration": 45,
    "start_time": "2023-05-29T17:58:40.095Z"
   },
   {
    "duration": 283,
    "start_time": "2023-05-29T17:58:40.141Z"
   },
   {
    "duration": 9,
    "start_time": "2023-05-29T17:59:03.270Z"
   },
   {
    "duration": 246,
    "start_time": "2023-05-29T17:59:11.216Z"
   },
   {
    "duration": 4,
    "start_time": "2023-05-29T18:00:14.043Z"
   },
   {
    "duration": 772,
    "start_time": "2023-05-29T18:00:14.049Z"
   },
   {
    "duration": 107,
    "start_time": "2023-05-29T18:00:14.823Z"
   },
   {
    "duration": 11,
    "start_time": "2023-05-29T18:00:14.932Z"
   },
   {
    "duration": 96,
    "start_time": "2023-05-29T18:00:14.945Z"
   },
   {
    "duration": 278,
    "start_time": "2023-05-29T18:00:15.043Z"
   },
   {
    "duration": 6997,
    "start_time": "2023-05-29T18:00:15.323Z"
   },
   {
    "duration": 2443,
    "start_time": "2023-05-29T18:00:22.322Z"
   },
   {
    "duration": 7,
    "start_time": "2023-05-29T18:00:24.767Z"
   },
   {
    "duration": 375,
    "start_time": "2023-05-29T18:00:24.775Z"
   },
   {
    "duration": 18,
    "start_time": "2023-05-29T18:00:25.152Z"
   },
   {
    "duration": 9,
    "start_time": "2023-05-29T18:00:25.171Z"
   },
   {
    "duration": 560,
    "start_time": "2023-05-29T18:00:25.183Z"
   },
   {
    "duration": 29,
    "start_time": "2023-05-29T18:00:25.745Z"
   },
   {
    "duration": 56,
    "start_time": "2023-05-29T18:00:25.776Z"
   },
   {
    "duration": 46,
    "start_time": "2023-05-29T18:00:25.833Z"
   },
   {
    "duration": 52,
    "start_time": "2023-05-29T18:00:25.881Z"
   },
   {
    "duration": 32,
    "start_time": "2023-05-29T18:00:25.935Z"
   },
   {
    "duration": 58,
    "start_time": "2023-05-29T18:00:25.969Z"
   },
   {
    "duration": 253,
    "start_time": "2023-05-29T18:00:26.029Z"
   },
   {
    "duration": 60,
    "start_time": "2023-05-29T18:00:26.284Z"
   },
   {
    "duration": 1965,
    "start_time": "2023-05-29T18:00:26.345Z"
   },
   {
    "duration": 16,
    "start_time": "2023-05-29T18:00:28.311Z"
   },
   {
    "duration": 72,
    "start_time": "2023-05-29T18:00:28.328Z"
   },
   {
    "duration": 35,
    "start_time": "2023-05-29T18:00:28.402Z"
   },
   {
    "duration": 27,
    "start_time": "2023-05-29T18:00:28.439Z"
   },
   {
    "duration": 220,
    "start_time": "2023-05-29T18:00:28.468Z"
   },
   {
    "duration": 14,
    "start_time": "2023-05-29T18:00:28.689Z"
   },
   {
    "duration": 254,
    "start_time": "2023-05-29T18:00:28.704Z"
   },
   {
    "duration": 15,
    "start_time": "2023-05-29T18:00:28.959Z"
   },
   {
    "duration": 218,
    "start_time": "2023-05-29T18:00:28.975Z"
   },
   {
    "duration": 14,
    "start_time": "2023-05-29T18:00:29.195Z"
   },
   {
    "duration": 3747,
    "start_time": "2023-05-29T18:00:29.215Z"
   },
   {
    "duration": 16,
    "start_time": "2023-05-29T18:00:32.963Z"
   },
   {
    "duration": 88,
    "start_time": "2023-05-29T18:00:32.981Z"
   },
   {
    "duration": 3,
    "start_time": "2023-05-29T18:00:33.071Z"
   },
   {
    "duration": 14,
    "start_time": "2023-05-29T18:00:33.077Z"
   },
   {
    "duration": 14,
    "start_time": "2023-05-29T18:00:33.093Z"
   },
   {
    "duration": 48,
    "start_time": "2023-05-29T18:00:33.108Z"
   },
   {
    "duration": 3,
    "start_time": "2023-05-29T18:00:33.157Z"
   },
   {
    "duration": 12,
    "start_time": "2023-05-29T18:00:33.162Z"
   },
   {
    "duration": 3381,
    "start_time": "2023-05-29T18:00:33.175Z"
   },
   {
    "duration": 23,
    "start_time": "2023-05-29T18:00:36.558Z"
   },
   {
    "duration": 3,
    "start_time": "2023-05-29T18:00:36.583Z"
   },
   {
    "duration": 10,
    "start_time": "2023-05-29T18:00:36.588Z"
   },
   {
    "duration": 3481,
    "start_time": "2023-05-29T18:00:36.600Z"
   },
   {
    "duration": 4,
    "start_time": "2023-05-29T18:00:40.083Z"
   },
   {
    "duration": 37,
    "start_time": "2023-05-29T18:00:40.088Z"
   },
   {
    "duration": 3,
    "start_time": "2023-05-29T18:00:40.127Z"
   },
   {
    "duration": 25,
    "start_time": "2023-05-29T18:00:40.131Z"
   },
   {
    "duration": 12,
    "start_time": "2023-05-29T18:01:35.877Z"
   },
   {
    "duration": 72,
    "start_time": "2023-05-29T18:02:03.138Z"
   },
   {
    "duration": 135,
    "start_time": "2023-05-29T18:03:32.217Z"
   },
   {
    "duration": 21,
    "start_time": "2023-05-29T18:04:46.910Z"
   },
   {
    "duration": 84,
    "start_time": "2023-05-29T18:04:47.893Z"
   },
   {
    "duration": 142,
    "start_time": "2023-05-29T18:04:50.076Z"
   },
   {
    "duration": 21,
    "start_time": "2023-05-29T18:05:37.332Z"
   },
   {
    "duration": 86,
    "start_time": "2023-05-29T18:05:39.006Z"
   },
   {
    "duration": 152,
    "start_time": "2023-05-29T18:05:39.903Z"
   },
   {
    "duration": 21,
    "start_time": "2023-05-29T18:07:12.653Z"
   },
   {
    "duration": 80,
    "start_time": "2023-05-29T18:07:14.155Z"
   },
   {
    "duration": 169,
    "start_time": "2023-05-29T18:07:15.846Z"
   },
   {
    "duration": 22,
    "start_time": "2023-05-29T18:08:08.430Z"
   },
   {
    "duration": 113,
    "start_time": "2023-05-29T18:08:09.803Z"
   },
   {
    "duration": 134,
    "start_time": "2023-05-29T18:08:10.563Z"
   },
   {
    "duration": 147,
    "start_time": "2023-05-29T18:08:40.763Z"
   },
   {
    "duration": 21,
    "start_time": "2023-05-29T18:08:43.225Z"
   },
   {
    "duration": 76,
    "start_time": "2023-05-29T18:08:44.833Z"
   },
   {
    "duration": 133,
    "start_time": "2023-05-29T18:08:46.195Z"
   },
   {
    "duration": 149,
    "start_time": "2023-05-29T18:09:56.544Z"
   },
   {
    "duration": 24,
    "start_time": "2023-05-29T18:09:58.389Z"
   },
   {
    "duration": 86,
    "start_time": "2023-05-29T18:09:59.954Z"
   },
   {
    "duration": 130,
    "start_time": "2023-05-29T18:10:00.934Z"
   },
   {
    "duration": 21,
    "start_time": "2023-05-29T18:11:12.314Z"
   },
   {
    "duration": 78,
    "start_time": "2023-05-29T18:11:13.806Z"
   },
   {
    "duration": 134,
    "start_time": "2023-05-29T18:11:14.060Z"
   },
   {
    "duration": 19,
    "start_time": "2023-05-29T18:11:50.414Z"
   },
   {
    "duration": 86,
    "start_time": "2023-05-29T18:11:51.603Z"
   },
   {
    "duration": 165,
    "start_time": "2023-05-29T18:11:52.703Z"
   },
   {
    "duration": 19,
    "start_time": "2023-05-29T18:12:26.607Z"
   },
   {
    "duration": 83,
    "start_time": "2023-05-29T18:12:28.707Z"
   },
   {
    "duration": 129,
    "start_time": "2023-05-29T18:12:29.243Z"
   },
   {
    "duration": 22,
    "start_time": "2023-05-29T18:12:32.876Z"
   },
   {
    "duration": 102,
    "start_time": "2023-05-29T18:12:34.335Z"
   },
   {
    "duration": 187,
    "start_time": "2023-05-29T18:12:45.507Z"
   },
   {
    "duration": 20,
    "start_time": "2023-05-29T18:14:50.414Z"
   },
   {
    "duration": 77,
    "start_time": "2023-05-29T18:14:51.523Z"
   },
   {
    "duration": 30,
    "start_time": "2023-05-29T18:14:52.129Z"
   },
   {
    "duration": 147,
    "start_time": "2023-05-29T18:15:11.580Z"
   },
   {
    "duration": 24,
    "start_time": "2023-05-29T18:16:01.050Z"
   },
   {
    "duration": 70,
    "start_time": "2023-05-29T18:16:02.427Z"
   },
   {
    "duration": 132,
    "start_time": "2023-05-29T18:16:04.007Z"
   },
   {
    "duration": 22,
    "start_time": "2023-05-29T18:18:16.524Z"
   },
   {
    "duration": 68,
    "start_time": "2023-05-29T18:18:17.483Z"
   },
   {
    "duration": 130,
    "start_time": "2023-05-29T18:18:18.029Z"
   },
   {
    "duration": 19,
    "start_time": "2023-05-29T18:19:15.615Z"
   },
   {
    "duration": 85,
    "start_time": "2023-05-29T18:19:16.492Z"
   },
   {
    "duration": 125,
    "start_time": "2023-05-29T18:19:17.127Z"
   },
   {
    "duration": 24,
    "start_time": "2023-05-29T18:19:39.803Z"
   },
   {
    "duration": 87,
    "start_time": "2023-05-29T18:19:40.832Z"
   },
   {
    "duration": 19,
    "start_time": "2023-05-29T18:22:07.290Z"
   },
   {
    "duration": 72,
    "start_time": "2023-05-29T18:22:08.152Z"
   },
   {
    "duration": 132,
    "start_time": "2023-05-29T18:22:08.903Z"
   },
   {
    "duration": 137,
    "start_time": "2023-05-29T18:22:30.795Z"
   },
   {
    "duration": 121,
    "start_time": "2023-05-29T18:23:38.652Z"
   },
   {
    "duration": 19,
    "start_time": "2023-05-29T18:23:40.835Z"
   },
   {
    "duration": 73,
    "start_time": "2023-05-29T18:23:41.891Z"
   },
   {
    "duration": 119,
    "start_time": "2023-05-29T18:23:42.627Z"
   },
   {
    "duration": 19,
    "start_time": "2023-05-29T18:24:57.829Z"
   },
   {
    "duration": 75,
    "start_time": "2023-05-29T18:24:58.725Z"
   },
   {
    "duration": 126,
    "start_time": "2023-05-29T18:24:59.307Z"
   },
   {
    "duration": 22,
    "start_time": "2023-05-29T18:25:30.508Z"
   },
   {
    "duration": 74,
    "start_time": "2023-05-29T18:25:31.345Z"
   },
   {
    "duration": 120,
    "start_time": "2023-05-29T18:25:32.007Z"
   },
   {
    "duration": 3,
    "start_time": "2023-05-29T18:25:37.204Z"
   },
   {
    "duration": 686,
    "start_time": "2023-05-29T18:25:37.209Z"
   },
   {
    "duration": 105,
    "start_time": "2023-05-29T18:25:37.897Z"
   },
   {
    "duration": 19,
    "start_time": "2023-05-29T18:25:38.003Z"
   },
   {
    "duration": 91,
    "start_time": "2023-05-29T18:25:38.025Z"
   },
   {
    "duration": 269,
    "start_time": "2023-05-29T18:25:38.118Z"
   },
   {
    "duration": 6897,
    "start_time": "2023-05-29T18:25:38.388Z"
   },
   {
    "duration": 2503,
    "start_time": "2023-05-29T18:25:45.286Z"
   },
   {
    "duration": 7,
    "start_time": "2023-05-29T18:25:47.791Z"
   },
   {
    "duration": 404,
    "start_time": "2023-05-29T18:25:47.800Z"
   },
   {
    "duration": 22,
    "start_time": "2023-05-29T18:25:48.206Z"
   },
   {
    "duration": 10,
    "start_time": "2023-05-29T18:25:48.230Z"
   },
   {
    "duration": 360,
    "start_time": "2023-05-29T18:25:48.241Z"
   },
   {
    "duration": 30,
    "start_time": "2023-05-29T18:25:48.605Z"
   },
   {
    "duration": 30,
    "start_time": "2023-05-29T18:25:48.637Z"
   },
   {
    "duration": 30,
    "start_time": "2023-05-29T18:25:48.668Z"
   },
   {
    "duration": 42,
    "start_time": "2023-05-29T18:25:48.699Z"
   },
   {
    "duration": 28,
    "start_time": "2023-05-29T18:25:48.742Z"
   },
   {
    "duration": 43,
    "start_time": "2023-05-29T18:25:48.772Z"
   },
   {
    "duration": 222,
    "start_time": "2023-05-29T18:25:48.817Z"
   },
   {
    "duration": 58,
    "start_time": "2023-05-29T18:25:49.040Z"
   },
   {
    "duration": 1953,
    "start_time": "2023-05-29T18:25:49.100Z"
   },
   {
    "duration": 13,
    "start_time": "2023-05-29T18:25:51.055Z"
   },
   {
    "duration": 47,
    "start_time": "2023-05-29T18:25:51.070Z"
   },
   {
    "duration": 13,
    "start_time": "2023-05-29T18:25:51.118Z"
   },
   {
    "duration": 13,
    "start_time": "2023-05-29T18:25:51.132Z"
   },
   {
    "duration": 174,
    "start_time": "2023-05-29T18:25:51.146Z"
   },
   {
    "duration": 13,
    "start_time": "2023-05-29T18:25:51.321Z"
   },
   {
    "duration": 175,
    "start_time": "2023-05-29T18:25:51.336Z"
   },
   {
    "duration": 14,
    "start_time": "2023-05-29T18:25:51.512Z"
   },
   {
    "duration": 177,
    "start_time": "2023-05-29T18:25:51.527Z"
   },
   {
    "duration": 15,
    "start_time": "2023-05-29T18:25:51.706Z"
   },
   {
    "duration": 3500,
    "start_time": "2023-05-29T18:25:51.722Z"
   },
   {
    "duration": 22,
    "start_time": "2023-05-29T18:25:55.224Z"
   },
   {
    "duration": 98,
    "start_time": "2023-05-29T18:25:55.248Z"
   },
   {
    "duration": 4,
    "start_time": "2023-05-29T18:25:55.348Z"
   },
   {
    "duration": 13,
    "start_time": "2023-05-29T18:25:55.355Z"
   },
   {
    "duration": 21,
    "start_time": "2023-05-29T18:25:55.371Z"
   },
   {
    "duration": 63,
    "start_time": "2023-05-29T18:25:55.394Z"
   },
   {
    "duration": 4,
    "start_time": "2023-05-29T18:25:55.459Z"
   },
   {
    "duration": 24,
    "start_time": "2023-05-29T18:25:55.467Z"
   },
   {
    "duration": 3121,
    "start_time": "2023-05-29T18:25:55.493Z"
   },
   {
    "duration": 24,
    "start_time": "2023-05-29T18:25:58.616Z"
   },
   {
    "duration": 4,
    "start_time": "2023-05-29T18:25:58.641Z"
   },
   {
    "duration": 13,
    "start_time": "2023-05-29T18:25:58.647Z"
   },
   {
    "duration": 3274,
    "start_time": "2023-05-29T18:25:58.661Z"
   },
   {
    "duration": 4,
    "start_time": "2023-05-29T18:26:01.936Z"
   },
   {
    "duration": 66,
    "start_time": "2023-05-29T18:26:01.942Z"
   },
   {
    "duration": 22,
    "start_time": "2023-05-29T18:26:02.009Z"
   },
   {
    "duration": 68,
    "start_time": "2023-05-29T18:26:02.032Z"
   },
   {
    "duration": 81,
    "start_time": "2023-05-29T18:26:02.101Z"
   },
   {
    "duration": 155,
    "start_time": "2023-05-29T18:26:02.183Z"
   },
   {
    "duration": 10,
    "start_time": "2023-05-29T18:27:20.638Z"
   },
   {
    "duration": 20,
    "start_time": "2023-05-29T18:28:01.126Z"
   },
   {
    "duration": 69,
    "start_time": "2023-05-29T18:28:02.104Z"
   },
   {
    "duration": 176,
    "start_time": "2023-05-29T18:28:03.352Z"
   },
   {
    "duration": 11,
    "start_time": "2023-05-29T18:28:17.858Z"
   },
   {
    "duration": 21,
    "start_time": "2023-05-29T18:28:27.853Z"
   },
   {
    "duration": 70,
    "start_time": "2023-05-29T18:28:28.833Z"
   },
   {
    "duration": 9,
    "start_time": "2023-05-29T18:28:29.667Z"
   },
   {
    "duration": 168,
    "start_time": "2023-05-29T18:28:31.788Z"
   },
   {
    "duration": 10,
    "start_time": "2023-05-29T18:28:33.495Z"
   },
   {
    "duration": 19,
    "start_time": "2023-05-29T18:30:59.799Z"
   },
   {
    "duration": 114,
    "start_time": "2023-05-29T18:31:00.315Z"
   },
   {
    "duration": 61,
    "start_time": "2023-05-29T18:31:02.410Z"
   },
   {
    "duration": 150,
    "start_time": "2023-05-29T18:31:04.271Z"
   },
   {
    "duration": 208,
    "start_time": "2023-05-29T18:37:23.358Z"
   },
   {
    "duration": 92,
    "start_time": "2023-05-29T18:41:32.846Z"
   },
   {
    "duration": 4,
    "start_time": "2023-05-29T18:45:48.321Z"
   },
   {
    "duration": 737,
    "start_time": "2023-05-29T18:45:48.327Z"
   },
   {
    "duration": 107,
    "start_time": "2023-05-29T18:45:49.066Z"
   },
   {
    "duration": 12,
    "start_time": "2023-05-29T18:45:49.175Z"
   },
   {
    "duration": 95,
    "start_time": "2023-05-29T18:45:49.189Z"
   },
   {
    "duration": 347,
    "start_time": "2023-05-29T18:45:49.286Z"
   },
   {
    "duration": 6948,
    "start_time": "2023-05-29T18:45:49.635Z"
   },
   {
    "duration": 2531,
    "start_time": "2023-05-29T18:45:56.585Z"
   },
   {
    "duration": 7,
    "start_time": "2023-05-29T18:45:59.119Z"
   },
   {
    "duration": 352,
    "start_time": "2023-05-29T18:45:59.127Z"
   },
   {
    "duration": 21,
    "start_time": "2023-05-29T18:45:59.481Z"
   },
   {
    "duration": 14,
    "start_time": "2023-05-29T18:45:59.503Z"
   },
   {
    "duration": 337,
    "start_time": "2023-05-29T18:45:59.518Z"
   },
   {
    "duration": 37,
    "start_time": "2023-05-29T18:45:59.856Z"
   },
   {
    "duration": 48,
    "start_time": "2023-05-29T18:45:59.894Z"
   },
   {
    "duration": 33,
    "start_time": "2023-05-29T18:45:59.944Z"
   },
   {
    "duration": 39,
    "start_time": "2023-05-29T18:45:59.978Z"
   },
   {
    "duration": 46,
    "start_time": "2023-05-29T18:46:00.018Z"
   },
   {
    "duration": 32,
    "start_time": "2023-05-29T18:46:00.065Z"
   },
   {
    "duration": 267,
    "start_time": "2023-05-29T18:46:00.098Z"
   },
   {
    "duration": 60,
    "start_time": "2023-05-29T18:46:00.367Z"
   },
   {
    "duration": 2096,
    "start_time": "2023-05-29T18:46:00.428Z"
   },
   {
    "duration": 13,
    "start_time": "2023-05-29T18:46:02.525Z"
   },
   {
    "duration": 48,
    "start_time": "2023-05-29T18:46:02.541Z"
   },
   {
    "duration": 13,
    "start_time": "2023-05-29T18:46:02.591Z"
   },
   {
    "duration": 6,
    "start_time": "2023-05-29T18:46:02.605Z"
   },
   {
    "duration": 175,
    "start_time": "2023-05-29T18:46:02.615Z"
   },
   {
    "duration": 13,
    "start_time": "2023-05-29T18:46:02.791Z"
   },
   {
    "duration": 194,
    "start_time": "2023-05-29T18:46:02.806Z"
   },
   {
    "duration": 14,
    "start_time": "2023-05-29T18:46:03.002Z"
   },
   {
    "duration": 198,
    "start_time": "2023-05-29T18:46:03.017Z"
   },
   {
    "duration": 12,
    "start_time": "2023-05-29T18:46:03.217Z"
   },
   {
    "duration": 3843,
    "start_time": "2023-05-29T18:46:03.230Z"
   },
   {
    "duration": 16,
    "start_time": "2023-05-29T18:46:07.074Z"
   },
   {
    "duration": 90,
    "start_time": "2023-05-29T18:46:07.091Z"
   },
   {
    "duration": 3,
    "start_time": "2023-05-29T18:46:07.183Z"
   },
   {
    "duration": 7,
    "start_time": "2023-05-29T18:46:07.188Z"
   },
   {
    "duration": 19,
    "start_time": "2023-05-29T18:46:07.197Z"
   },
   {
    "duration": 57,
    "start_time": "2023-05-29T18:46:07.218Z"
   },
   {
    "duration": 3,
    "start_time": "2023-05-29T18:46:07.277Z"
   },
   {
    "duration": 16,
    "start_time": "2023-05-29T18:46:07.282Z"
   },
   {
    "duration": 3325,
    "start_time": "2023-05-29T18:46:07.300Z"
   },
   {
    "duration": 24,
    "start_time": "2023-05-29T18:46:10.627Z"
   },
   {
    "duration": 3,
    "start_time": "2023-05-29T18:46:10.652Z"
   },
   {
    "duration": 9,
    "start_time": "2023-05-29T18:46:10.657Z"
   },
   {
    "duration": 3386,
    "start_time": "2023-05-29T18:46:10.668Z"
   },
   {
    "duration": 3,
    "start_time": "2023-05-29T18:46:14.056Z"
   },
   {
    "duration": 31,
    "start_time": "2023-05-29T18:46:14.061Z"
   },
   {
    "duration": 3,
    "start_time": "2023-05-29T18:46:14.094Z"
   },
   {
    "duration": 9,
    "start_time": "2023-05-29T18:50:13.605Z"
   },
   {
    "duration": 23,
    "start_time": "2023-05-29T18:50:17.828Z"
   },
   {
    "duration": 22,
    "start_time": "2023-05-29T18:50:23.003Z"
   },
   {
    "duration": 70,
    "start_time": "2023-05-29T18:50:56.647Z"
   },
   {
    "duration": 2264,
    "start_time": "2023-05-29T18:54:56.289Z"
   },
   {
    "duration": 1574,
    "start_time": "2023-05-29T18:54:58.555Z"
   },
   {
    "duration": 212,
    "start_time": "2023-05-29T18:55:00.131Z"
   },
   {
    "duration": 82,
    "start_time": "2023-05-29T18:55:00.345Z"
   },
   {
    "duration": 315,
    "start_time": "2023-05-29T18:55:00.429Z"
   },
   {
    "duration": 614,
    "start_time": "2023-05-29T18:55:00.746Z"
   },
   {
    "duration": 15924,
    "start_time": "2023-05-29T18:55:01.416Z"
   },
   {
    "duration": 5973,
    "start_time": "2023-05-29T18:55:17.342Z"
   },
   {
    "duration": 8,
    "start_time": "2023-05-29T18:55:23.317Z"
   },
   {
    "duration": 1003,
    "start_time": "2023-05-29T18:55:23.326Z"
   },
   {
    "duration": 24,
    "start_time": "2023-05-29T18:55:24.330Z"
   },
   {
    "duration": 67,
    "start_time": "2023-05-29T18:55:24.356Z"
   },
   {
    "duration": 639,
    "start_time": "2023-05-29T18:55:24.424Z"
   },
   {
    "duration": 106,
    "start_time": "2023-05-29T18:55:25.118Z"
   },
   {
    "duration": 114,
    "start_time": "2023-05-29T18:55:25.226Z"
   },
   {
    "duration": 88,
    "start_time": "2023-05-29T18:55:25.342Z"
   },
   {
    "duration": 89,
    "start_time": "2023-05-29T18:55:25.432Z"
   },
   {
    "duration": 94,
    "start_time": "2023-05-29T18:55:25.523Z"
   },
   {
    "duration": 39,
    "start_time": "2023-05-29T18:55:25.619Z"
   },
   {
    "duration": 674,
    "start_time": "2023-05-29T18:55:25.660Z"
   },
   {
    "duration": 108,
    "start_time": "2023-05-29T18:55:26.336Z"
   },
   {
    "duration": 5186,
    "start_time": "2023-05-29T18:55:26.447Z"
   },
   {
    "duration": 81,
    "start_time": "2023-05-29T18:55:31.635Z"
   },
   {
    "duration": 105,
    "start_time": "2023-05-29T18:55:31.718Z"
   },
   {
    "duration": 90,
    "start_time": "2023-05-29T18:55:31.825Z"
   },
   {
    "duration": 5,
    "start_time": "2023-05-29T18:55:31.917Z"
   },
   {
    "duration": 496,
    "start_time": "2023-05-29T18:55:31.923Z"
   },
   {
    "duration": 18,
    "start_time": "2023-05-29T18:55:32.421Z"
   },
   {
    "duration": 476,
    "start_time": "2023-05-29T18:55:32.440Z"
   },
   {
    "duration": 16,
    "start_time": "2023-05-29T18:55:32.917Z"
   },
   {
    "duration": 408,
    "start_time": "2023-05-29T18:55:32.934Z"
   },
   {
    "duration": 16,
    "start_time": "2023-05-29T18:55:33.343Z"
   },
   {
    "duration": 8986,
    "start_time": "2023-05-29T18:55:33.360Z"
   },
   {
    "duration": 69,
    "start_time": "2023-05-29T18:55:42.347Z"
   },
   {
    "duration": 129,
    "start_time": "2023-05-29T18:55:42.418Z"
   },
   {
    "duration": 3,
    "start_time": "2023-05-29T18:55:42.548Z"
   },
   {
    "duration": 64,
    "start_time": "2023-05-29T18:55:42.553Z"
   },
   {
    "duration": 28,
    "start_time": "2023-05-29T18:55:42.618Z"
   },
   {
    "duration": 200,
    "start_time": "2023-05-29T18:55:42.647Z"
   },
   {
    "duration": 5,
    "start_time": "2023-05-29T18:55:42.849Z"
   },
   {
    "duration": 67,
    "start_time": "2023-05-29T18:55:42.859Z"
   },
   {
    "duration": 7387,
    "start_time": "2023-05-29T18:55:42.928Z"
   },
   {
    "duration": 24,
    "start_time": "2023-05-29T18:55:50.317Z"
   },
   {
    "duration": 3,
    "start_time": "2023-05-29T18:55:50.343Z"
   },
   {
    "duration": 73,
    "start_time": "2023-05-29T18:55:50.347Z"
   },
   {
    "duration": 7413,
    "start_time": "2023-05-29T18:55:50.421Z"
   },
   {
    "duration": 3,
    "start_time": "2023-05-29T18:55:57.835Z"
   },
   {
    "duration": 83,
    "start_time": "2023-05-29T18:55:57.839Z"
   },
   {
    "duration": 3,
    "start_time": "2023-05-29T18:55:57.923Z"
   },
   {
    "duration": 25,
    "start_time": "2023-05-29T18:55:57.928Z"
   },
   {
    "duration": 77,
    "start_time": "2023-05-29T18:55:57.954Z"
   },
   {
    "duration": 93,
    "start_time": "2023-05-29T18:55:58.032Z"
   },
   {
    "duration": 90,
    "start_time": "2023-05-29T18:55:58.127Z"
   },
   {
    "duration": 66,
    "start_time": "2023-05-29T18:57:21.563Z"
   },
   {
    "duration": 24,
    "start_time": "2023-05-29T18:57:33.550Z"
   },
   {
    "duration": 25,
    "start_time": "2023-05-29T18:57:37.445Z"
   },
   {
    "duration": 37,
    "start_time": "2023-05-29T18:57:42.287Z"
   },
   {
    "duration": 41,
    "start_time": "2023-05-29T18:57:49.288Z"
   },
   {
    "duration": 80,
    "start_time": "2023-05-29T18:58:48.454Z"
   },
   {
    "duration": 96,
    "start_time": "2023-05-29T18:58:54.894Z"
   },
   {
    "duration": 23,
    "start_time": "2023-05-29T18:59:38.425Z"
   },
   {
    "duration": 25,
    "start_time": "2023-05-29T19:06:59.420Z"
   },
   {
    "duration": 30,
    "start_time": "2023-05-29T19:07:04.810Z"
   },
   {
    "duration": 58,
    "start_time": "2023-05-29T19:08:12.894Z"
   },
   {
    "duration": 31,
    "start_time": "2023-05-29T19:08:29.204Z"
   },
   {
    "duration": 286,
    "start_time": "2023-05-29T19:09:26.330Z"
   },
   {
    "duration": 25,
    "start_time": "2023-05-29T19:09:39.742Z"
   },
   {
    "duration": 3,
    "start_time": "2023-05-29T19:10:12.826Z"
   },
   {
    "duration": 1814,
    "start_time": "2023-05-29T19:10:12.831Z"
   },
   {
    "duration": 390,
    "start_time": "2023-05-29T19:10:14.648Z"
   },
   {
    "duration": 78,
    "start_time": "2023-05-29T19:10:15.041Z"
   },
   {
    "duration": 229,
    "start_time": "2023-05-29T19:10:15.121Z"
   },
   {
    "duration": 693,
    "start_time": "2023-05-29T19:10:15.352Z"
   },
   {
    "duration": 15110,
    "start_time": "2023-05-29T19:10:16.048Z"
   },
   {
    "duration": 5997,
    "start_time": "2023-05-29T19:10:31.161Z"
   },
   {
    "duration": 58,
    "start_time": "2023-05-29T19:10:37.161Z"
   },
   {
    "duration": 798,
    "start_time": "2023-05-29T19:10:37.220Z"
   },
   {
    "duration": 22,
    "start_time": "2023-05-29T19:10:38.019Z"
   },
   {
    "duration": 11,
    "start_time": "2023-05-29T19:10:38.043Z"
   },
   {
    "duration": 1024,
    "start_time": "2023-05-29T19:10:38.117Z"
   },
   {
    "duration": 92,
    "start_time": "2023-05-29T19:10:39.143Z"
   },
   {
    "duration": 92,
    "start_time": "2023-05-29T19:10:39.237Z"
   },
   {
    "duration": 115,
    "start_time": "2023-05-29T19:10:39.331Z"
   },
   {
    "duration": 81,
    "start_time": "2023-05-29T19:10:39.448Z"
   },
   {
    "duration": 89,
    "start_time": "2023-05-29T19:10:39.531Z"
   },
   {
    "duration": 105,
    "start_time": "2023-05-29T19:10:39.622Z"
   },
   {
    "duration": 604,
    "start_time": "2023-05-29T19:10:39.729Z"
   },
   {
    "duration": 219,
    "start_time": "2023-05-29T19:10:40.335Z"
   },
   {
    "duration": 4496,
    "start_time": "2023-05-29T19:10:40.556Z"
   },
   {
    "duration": 65,
    "start_time": "2023-05-29T19:10:45.054Z"
   },
   {
    "duration": 98,
    "start_time": "2023-05-29T19:10:45.124Z"
   },
   {
    "duration": 16,
    "start_time": "2023-05-29T19:10:45.223Z"
   },
   {
    "duration": 13,
    "start_time": "2023-05-29T19:10:45.241Z"
   },
   {
    "duration": 564,
    "start_time": "2023-05-29T19:10:45.256Z"
   },
   {
    "duration": 14,
    "start_time": "2023-05-29T19:10:45.822Z"
   },
   {
    "duration": 397,
    "start_time": "2023-05-29T19:10:45.839Z"
   },
   {
    "duration": 15,
    "start_time": "2023-05-29T19:10:46.238Z"
   },
   {
    "duration": 395,
    "start_time": "2023-05-29T19:10:46.255Z"
   },
   {
    "duration": 70,
    "start_time": "2023-05-29T19:10:46.651Z"
   },
   {
    "duration": 7426,
    "start_time": "2023-05-29T19:10:46.722Z"
   },
   {
    "duration": 69,
    "start_time": "2023-05-29T19:10:54.150Z"
   },
   {
    "duration": 128,
    "start_time": "2023-05-29T19:10:54.221Z"
   },
   {
    "duration": 3,
    "start_time": "2023-05-29T19:10:54.351Z"
   },
   {
    "duration": 62,
    "start_time": "2023-05-29T19:10:54.356Z"
   },
   {
    "duration": 16,
    "start_time": "2023-05-29T19:10:54.420Z"
   },
   {
    "duration": 111,
    "start_time": "2023-05-29T19:10:54.438Z"
   },
   {
    "duration": 5,
    "start_time": "2023-05-29T19:10:54.551Z"
   },
   {
    "duration": 12,
    "start_time": "2023-05-29T19:10:54.618Z"
   },
   {
    "duration": 7310,
    "start_time": "2023-05-29T19:10:54.633Z"
   },
   {
    "duration": 83,
    "start_time": "2023-05-29T19:11:01.944Z"
   },
   {
    "duration": 4,
    "start_time": "2023-05-29T19:11:02.029Z"
   },
   {
    "duration": 85,
    "start_time": "2023-05-29T19:11:02.035Z"
   },
   {
    "duration": 7124,
    "start_time": "2023-05-29T19:11:02.122Z"
   },
   {
    "duration": 5,
    "start_time": "2023-05-29T19:11:09.248Z"
   },
   {
    "duration": 83,
    "start_time": "2023-05-29T19:11:09.255Z"
   },
   {
    "duration": 4,
    "start_time": "2023-05-29T19:11:09.340Z"
   },
   {
    "duration": 86,
    "start_time": "2023-05-29T19:11:09.346Z"
   },
   {
    "duration": 122,
    "start_time": "2023-05-29T19:11:09.435Z"
   },
   {
    "duration": 158,
    "start_time": "2023-05-29T19:11:09.559Z"
   },
   {
    "duration": 101,
    "start_time": "2023-05-29T19:11:09.719Z"
   },
   {
    "duration": 339,
    "start_time": "2023-05-29T19:11:09.822Z"
   },
   {
    "duration": 21,
    "start_time": "2023-05-29T19:11:10.216Z"
   },
   {
    "duration": 407,
    "start_time": "2023-05-29T19:11:10.239Z"
   },
   {
    "duration": 175,
    "start_time": "2023-05-29T19:11:10.648Z"
   },
   {
    "duration": 317,
    "start_time": "2023-05-29T19:11:10.824Z"
   },
   {
    "duration": 3400,
    "start_time": "2023-05-29T19:11:11.142Z"
   },
   {
    "duration": 30,
    "start_time": "2023-05-29T19:12:10.303Z"
   },
   {
    "duration": 115,
    "start_time": "2023-05-29T19:12:32.316Z"
   }
  ],
  "kernelspec": {
   "display_name": "Python 3 (ipykernel)",
   "language": "python",
   "name": "python3"
  },
  "language_info": {
   "codemirror_mode": {
    "name": "ipython",
    "version": 3
   },
   "file_extension": ".py",
   "mimetype": "text/x-python",
   "name": "python",
   "nbconvert_exporter": "python",
   "pygments_lexer": "ipython3",
   "version": "3.9.5"
  },
  "toc": {
   "base_numbering": 1,
   "nav_menu": {},
   "number_sections": true,
   "sideBar": true,
   "skip_h1_title": true,
   "title_cell": "Table of Contents",
   "title_sidebar": "Contents",
   "toc_cell": false,
   "toc_position": {},
   "toc_section_display": true,
   "toc_window_display": true
  }
 },
 "nbformat": 4,
 "nbformat_minor": 1
}
