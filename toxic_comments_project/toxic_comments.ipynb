{
 "cells": [
  {
   "cell_type": "markdown",
   "metadata": {},
   "source": [
    "# Проект: Машинное обучение для текстов\n"
   ]
  },
  {
   "cell_type": "markdown",
   "metadata": {},
   "source": [
    "Интернет-магазин «Викишоп» запускает новый сервис. Теперь пользователи могут редактировать и дополнять описания товаров, как в вики-сообществах. Клиенты предлагают свои правки и комментируют изменения других. Магазину нужен инструмент, который будет искать токсичные комментарии и отправлять их на модерацию.<br>Необходимо обучить модель классифицировать комментарии на позитивные и негативные. В нашем распоряжении набор данных с разметкой о токсичности правок.<br>Полученная модель должна быть со значением метрики качества F1 не меньше 0.75."
   ]
  },
  {
   "cell_type": "markdown",
   "metadata": {},
   "source": [
    "## Шаг 1. Общий обзор данных"
   ]
  },
  {
   "cell_type": "code",
   "execution_count": 1,
   "metadata": {
    "trusted": false,
    "ExecuteTime": {
     "end_time": "2023-06-17T15:54:26.441449300Z",
     "start_time": "2023-06-17T15:54:17.402053300Z"
    }
   },
   "outputs": [],
   "source": [
    "import pandas as pd\n",
    "import nltk\n",
    "import re\n",
    "from nltk.stem.snowball import EnglishStemmer\n",
    "from sklearn.feature_extraction.text import TfidfVectorizer\n",
    "from sklearn.metrics import f1_score\n",
    "from sklearn.model_selection import GridSearchCV\n",
    "from nltk.corpus import stopwords as nltk_stopwords\n",
    "from sklearn.model_selection import train_test_split\n",
    "from sklearn.linear_model import LogisticRegression\n",
    "from sklearn.dummy import DummyClassifier\n",
    "from catboost import CatBoostClassifier\n",
    "import lightgbm as lgb"
   ]
  },
  {
   "cell_type": "code",
   "execution_count": 2,
   "metadata": {
    "trusted": false,
    "ExecuteTime": {
     "end_time": "2023-06-17T15:54:27.441275500Z",
     "start_time": "2023-06-17T15:54:26.441449300Z"
    }
   },
   "outputs": [],
   "source": [
    "try:\n",
    "    df = pd.read_csv(\"D:\\datasets/toxic_comments.csv\", sep = ',', index_col=[0]) #записываем данные из файла в переменную df\n",
    "except:\n",
    "    df = pd.read_csv('/datasets/toxic_comments.csv', sep = ',')"
   ]
  },
  {
   "cell_type": "code",
   "execution_count": 3,
   "metadata": {
    "trusted": false,
    "ExecuteTime": {
     "end_time": "2023-06-17T15:54:27.550818400Z",
     "start_time": "2023-06-17T15:54:27.441275500Z"
    }
   },
   "outputs": [
    {
     "name": "stdout",
     "output_type": "stream",
     "text": [
      "<class 'pandas.core.frame.DataFrame'>\n",
      "Int64Index: 159292 entries, 0 to 159450\n",
      "Data columns (total 2 columns):\n",
      " #   Column  Non-Null Count   Dtype \n",
      "---  ------  --------------   ----- \n",
      " 0   text    159292 non-null  object\n",
      " 1   toxic   159292 non-null  int64 \n",
      "dtypes: int64(1), object(1)\n",
      "memory usage: 3.6+ MB\n"
     ]
    }
   ],
   "source": [
    "df.info()"
   ]
  },
  {
   "cell_type": "markdown",
   "metadata": {},
   "source": [
    "В таблице два столбца - целевой признак toxic(является комментарий токсичным (1) или нет (0)) и столбец с текстом комментария. Дубликаты отсутствуют."
   ]
  },
  {
   "cell_type": "code",
   "execution_count": 4,
   "metadata": {
    "trusted": false,
    "ExecuteTime": {
     "end_time": "2023-06-17T15:54:27.561440600Z",
     "start_time": "2023-06-17T15:54:27.501391200Z"
    }
   },
   "outputs": [
    {
     "data": {
      "text/plain": "                                                text  toxic\n0  Explanation\\nWhy the edits made under my usern...      0\n1  D'aww! He matches this background colour I'm s...      0\n2  Hey man, I'm really not trying to edit war. It...      0\n3  \"\\nMore\\nI can't make any real suggestions on ...      0\n4  You, sir, are my hero. Any chance you remember...      0",
      "text/html": "<div>\n<style scoped>\n    .dataframe tbody tr th:only-of-type {\n        vertical-align: middle;\n    }\n\n    .dataframe tbody tr th {\n        vertical-align: top;\n    }\n\n    .dataframe thead th {\n        text-align: right;\n    }\n</style>\n<table border=\"1\" class=\"dataframe\">\n  <thead>\n    <tr style=\"text-align: right;\">\n      <th></th>\n      <th>text</th>\n      <th>toxic</th>\n    </tr>\n  </thead>\n  <tbody>\n    <tr>\n      <th>0</th>\n      <td>Explanation\\nWhy the edits made under my usern...</td>\n      <td>0</td>\n    </tr>\n    <tr>\n      <th>1</th>\n      <td>D'aww! He matches this background colour I'm s...</td>\n      <td>0</td>\n    </tr>\n    <tr>\n      <th>2</th>\n      <td>Hey man, I'm really not trying to edit war. It...</td>\n      <td>0</td>\n    </tr>\n    <tr>\n      <th>3</th>\n      <td>\"\\nMore\\nI can't make any real suggestions on ...</td>\n      <td>0</td>\n    </tr>\n    <tr>\n      <th>4</th>\n      <td>You, sir, are my hero. Any chance you remember...</td>\n      <td>0</td>\n    </tr>\n  </tbody>\n</table>\n</div>"
     },
     "execution_count": 4,
     "metadata": {},
     "output_type": "execute_result"
    }
   ],
   "source": [
    "df.head()"
   ]
  },
  {
   "cell_type": "markdown",
   "metadata": {},
   "source": [
    "Текст не лемматизирован и содержит лишние символы, например '\\' и 'n'"
   ]
  },
  {
   "cell_type": "code",
   "execution_count": 5,
   "metadata": {
    "trusted": false,
    "ExecuteTime": {
     "end_time": "2023-06-17T15:54:27.561440600Z",
     "start_time": "2023-06-17T15:54:27.501391200Z"
    }
   },
   "outputs": [
    {
     "data": {
      "text/plain": "text     0\ntoxic    0\ndtype: int64"
     },
     "execution_count": 5,
     "metadata": {},
     "output_type": "execute_result"
    }
   ],
   "source": [
    "df.isna().sum()"
   ]
  },
  {
   "cell_type": "markdown",
   "metadata": {},
   "source": [
    "Пропусков в данных нет"
   ]
  },
  {
   "cell_type": "code",
   "execution_count": 6,
   "metadata": {
    "trusted": false,
    "ExecuteTime": {
     "end_time": "2023-06-17T15:54:28.810666200Z",
     "start_time": "2023-06-17T15:54:27.531171900Z"
    }
   },
   "outputs": [
    {
     "data": {
      "text/plain": "<Figure size 640x480 with 1 Axes>",
      "image/png": "[encoded data removed]"
     },
     "metadata": {},
     "output_type": "display_data"
    }
   ],
   "source": [
    "df['toxic'].value_counts().plot(kind='bar');"
   ]
  },
  {
   "cell_type": "markdown",
   "metadata": {},
   "source": [
    "В классах целевого признака присутствует дисбаланс, токсичных комментариев намного меньше"
   ]
  },
  {
   "cell_type": "markdown",
   "metadata": {},
   "source": [
    "## Шаг 2. Подготовка данных"
   ]
  },
  {
   "cell_type": "markdown",
   "metadata": {},
   "source": [
    "Разделение выборок\n"
   ]
  },
  {
   "cell_type": "code",
   "execution_count": 7,
   "metadata": {
    "trusted": false,
    "ExecuteTime": {
     "end_time": "2023-06-17T15:54:28.811175700Z",
     "start_time": "2023-06-17T15:54:28.810666200Z"
    }
   },
   "outputs": [],
   "source": [
    "# раделим таргет и признаки\n",
    "target = df['toxic']\n",
    "features = df['text']"
   ]
  },
  {
   "cell_type": "markdown",
   "metadata": {},
   "source": [
    "Теперь разделим весь датасет на выборки - обучающую валидационную и тестовую в соотношении 3:1:1"
   ]
  },
  {
   "cell_type": "code",
   "execution_count": 8,
   "metadata": {
    "trusted": false,
    "ExecuteTime": {
     "end_time": "2023-06-17T15:54:28.910308400Z",
     "start_time": "2023-06-17T15:54:28.810666200Z"
    }
   },
   "outputs": [],
   "source": [
    "features_train, features_other, target_train, target_other = train_test_split(features, target,random_state=12345, test_size=0.4, stratify=target)\n",
    "features_valid, features_test, target_valid, target_test = train_test_split(features_other, target_other,random_state=12345, test_size=0.5, stratify=target_other)"
   ]
  },
  {
   "cell_type": "code",
   "execution_count": 9,
   "metadata": {
    "trusted": false,
    "ExecuteTime": {
     "end_time": "2023-06-17T15:54:28.921585600Z",
     "start_time": "2023-06-17T15:54:28.858007400Z"
    }
   },
   "outputs": [
    {
     "name": "stdout",
     "output_type": "stream",
     "text": [
      "Размеры тренировочных выборок: (95575,) (95575,)\n"
     ]
    }
   ],
   "source": [
    "print('Размеры тренировочных выборок:', features_train.shape, target_train.shape)"
   ]
  },
  {
   "cell_type": "code",
   "execution_count": 10,
   "metadata": {
    "trusted": false,
    "ExecuteTime": {
     "end_time": "2023-06-17T15:54:28.922467300Z",
     "start_time": "2023-06-17T15:54:28.872470500Z"
    }
   },
   "outputs": [
    {
     "name": "stdout",
     "output_type": "stream",
     "text": [
      "Размеры валидационных выборок: (31858,) (31858,)\n"
     ]
    }
   ],
   "source": [
    "print('Размеры валидационных выборок:', features_valid.shape, target_valid.shape)"
   ]
  },
  {
   "cell_type": "code",
   "execution_count": 11,
   "metadata": {
    "trusted": false,
    "ExecuteTime": {
     "end_time": "2023-06-17T15:54:28.922467300Z",
     "start_time": "2023-06-17T15:54:28.892283900Z"
    }
   },
   "outputs": [
    {
     "name": "stdout",
     "output_type": "stream",
     "text": [
      "Размеры тестовых выборок: (31859,) (31859,)\n"
     ]
    }
   ],
   "source": [
    "print('Размеры тестовых выборок:', features_test.shape, target_test.shape)"
   ]
  },
  {
   "cell_type": "markdown",
   "metadata": {
    "ExecuteTime": {
     "end_time": "2023-06-17T15:04:41.359217300Z",
     "start_time": "2023-06-17T15:04:41.324711700Z"
    }
   },
   "source": [
    "Очистка"
   ],
   "outputs": [],
   "execution_count": 12
  },
  {
   "cell_type": "markdown",
   "metadata": {},
   "source": [
    "Очистим тексты с помощию регулярных выражений:\n",
    "\n",
    "1. Приведем все к нижнему регистру\n",
    "2. Удалим спец символы \\n \\r\n",
    "3. Выберем только слова"
   ]
  },
  {
   "cell_type": "code",
   "execution_count": 12,
   "metadata": {
    "trusted": false,
    "ExecuteTime": {
     "end_time": "2023-06-17T15:54:28.981636200Z",
     "start_time": "2023-06-17T15:54:28.913565600Z"
    }
   },
   "outputs": [],
   "source": [
    "def clean(text):\n",
    "    text = text.lower()\n",
    "    text = re.sub(r\"(?:\\n|\\r)\", \"\", text)\n",
    "    text = re.sub(r\"[^a-zA-Z ]+\", \" \", text).strip()\n",
    "    return text"
   ]
  },
  {
   "cell_type": "markdown",
   "metadata": {
    "ExecuteTime": {
     "end_time": "2023-06-17T15:04:41.724359800Z",
     "start_time": "2023-06-17T15:04:41.667765200Z"
    }
   },
   "source": [
    "Лемматизация"
   ],
   "outputs": [],
   "execution_count": 14
  },
  {
   "cell_type": "code",
   "execution_count": 13,
   "metadata": {
    "trusted": false,
    "ExecuteTime": {
     "end_time": "2023-06-17T15:54:29.245424600Z",
     "start_time": "2023-06-17T15:54:28.981636200Z"
    }
   },
   "outputs": [
    {
     "name": "stderr",
     "output_type": "stream",
     "text": [
      "[nltk_data] Downloading package punkt to\n",
      "[nltk_data]     C:\\Users\\Глеб\\AppData\\Roaming\\nltk_data...\n",
      "[nltk_data]   Package punkt is already up-to-date!\n"
     ]
    },
    {
     "data": {
      "text/plain": "True"
     },
     "execution_count": 13,
     "metadata": {},
     "output_type": "execute_result"
    }
   ],
   "source": [
    "stemmer = EnglishStemmer(ignore_stopwords=False)\n",
    "nltk.download('punkt')"
   ]
  },
  {
   "cell_type": "code",
   "execution_count": 14,
   "metadata": {
    "trusted": false,
    "ExecuteTime": {
     "end_time": "2023-06-17T15:54:29.311619900Z",
     "start_time": "2023-06-17T15:54:29.245424600Z"
    }
   },
   "outputs": [],
   "source": [
    "def lemmatizer(corpus):\n",
    "    word_list = nltk.word_tokenize(corpus)\n",
    "    return ' '.join([stemmer.stem(w) for w in word_list])"
   ]
  },
  {
   "cell_type": "code",
   "execution_count": 15,
   "metadata": {
    "trusted": false,
    "ExecuteTime": {
     "end_time": "2023-06-17T15:56:47.456549Z",
     "start_time": "2023-06-17T15:54:29.311619900Z"
    }
   },
   "outputs": [
    {
     "name": "stdout",
     "output_type": "stream",
     "text": [
      "Wall time: 2min 18s\n"
     ]
    }
   ],
   "source": [
    "%%time\n",
    "# очищаем и лемматизируем текст\n",
    "corpus_train = features_train.apply(clean).apply(lemmatizer)\n",
    "corpus_valid = features_valid.apply(clean).apply(lemmatizer)\n",
    "corpus_test = features_test.apply(clean).apply(lemmatizer)"
   ]
  },
  {
   "cell_type": "markdown",
   "metadata": {},
   "source": [
    "Tf-idf"
   ]
  },
  {
   "cell_type": "code",
   "execution_count": 16,
   "metadata": {
    "trusted": false,
    "ExecuteTime": {
     "end_time": "2023-06-17T15:57:00.391821800Z",
     "start_time": "2023-06-17T15:56:47.455550600Z"
    }
   },
   "outputs": [
    {
     "name": "stderr",
     "output_type": "stream",
     "text": [
      "[nltk_data] Downloading package stopwords to\n",
      "[nltk_data]     C:\\Users\\Глеб\\AppData\\Roaming\\nltk_data...\n",
      "[nltk_data]   Package stopwords is already up-to-date!\n"
     ]
    }
   ],
   "source": [
    "# векторизуем данные с учетом стоп-слов\n",
    "nltk.download('stopwords')\n",
    "stopwords = set(nltk_stopwords.words('english'))\n",
    "tf_idf = TfidfVectorizer(stop_words=stopwords)\n",
    "corpus_train = tf_idf.fit_transform(corpus_train)\n",
    "corpus_valid = tf_idf.transform(corpus_valid)\n",
    "corpus_test = tf_idf.transform(corpus_test)"
   ]
  },
  {
   "cell_type": "markdown",
   "metadata": {},
   "source": [
    "# Шаг 3. Обучение моделей\n"
   ]
  },
  {
   "cell_type": "markdown",
   "metadata": {
    "ExecuteTime": {
     "end_time": "2023-06-17T15:08:40.068826700Z",
     "start_time": "2023-06-17T15:07:22.167832800Z"
    }
   },
   "source": [
    "## Логистическая регрессия"
   ],
   "outputs": [
    {
     "name": "stdout",
     "output_type": "stream",
     "text": [
      "Лучшие параметры для логистической регрессии: {'C': 9, 'class_weight': None, 'solver': 'lbfgs'}\n",
      "Лучшее значение метрики: 0.7593002937118222\n",
      "Wall time: 1min 17s\n"
     ]
    },
    {
     "name": "stderr",
     "output_type": "stream",
     "text": [
      "C:\\anaconda\\lib\\site-packages\\sklearn\\linear_model\\_logistic.py:814: ConvergenceWarning: lbfgs failed to converge (status=1):\n",
      "STOP: TOTAL NO. of ITERATIONS REACHED LIMIT.\n",
      "\n",
      "Increase the number of iterations (max_iter) or scale the data as shown in:\n",
      "    https://scikit-learn.org/stable/modules/preprocessing.html\n",
      "Please also refer to the documentation for alternative solver options:\n",
      "    https://scikit-learn.org/stable/modules/linear_model.html#logistic-regression\n",
      "  n_iter_i = _check_optimize_result(\n"
     ]
    }
   ],
   "execution_count": 17
  },
  {
   "cell_type": "code",
   "execution_count": 17,
   "outputs": [
    {
     "name": "stdout",
     "output_type": "stream",
     "text": [
      "Лучшие параметры: {'C': 9, 'class_weight': None, 'solver': 'lbfgs'}\n",
      "Лучшее значение метрики:  0.7593002937118222\n",
      "Wall time: 1min 5s\n"
     ]
    },
    {
     "name": "stderr",
     "output_type": "stream",
     "text": [
      "C:\\anaconda\\lib\\site-packages\\sklearn\\linear_model\\_logistic.py:814: ConvergenceWarning: lbfgs failed to converge (status=1):\n",
      "STOP: TOTAL NO. of ITERATIONS REACHED LIMIT.\n",
      "\n",
      "Increase the number of iterations (max_iter) or scale the data as shown in:\n",
      "    https://scikit-learn.org/stable/modules/preprocessing.html\n",
      "Please also refer to the documentation for alternative solver options:\n",
      "    https://scikit-learn.org/stable/modules/linear_model.html#logistic-regression\n",
      "  n_iter_i = _check_optimize_result(\n"
     ]
    }
   ],
   "source": [
    "%%time\n",
    "param = { 'C': range(1, 11, 2),\n",
    "          'class_weight': [None, 'balanced'],\n",
    "          'solver': ['lbfgs', 'liblinear']\n",
    "          }\n",
    "\n",
    "model_lr = LogisticRegression()\n",
    "\n",
    "# инициализируем GridSearchCV\n",
    "cv_lr = GridSearchCV(estimator = model_lr,\n",
    "                     param_grid = param,\n",
    "                     cv = 3,\n",
    "                     n_jobs = -1,\n",
    "                     verbose = 0,\n",
    "                     scoring = 'f1',\n",
    "                     )\n",
    "cv_lr.fit(corpus_train, target_train)\n",
    "\n",
    "print(\"Лучшие параметры:\", cv_lr.best_params_)\n",
    "print(\"Лучшее значение метрики: \", cv_lr.best_score_)"
   ],
   "metadata": {
    "collapsed": false,
    "ExecuteTime": {
     "end_time": "2023-06-17T15:58:04.499472700Z",
     "start_time": "2023-06-17T15:57:00.394212600Z"
    }
   }
  },
  {
   "cell_type": "code",
   "execution_count": 18,
   "metadata": {
    "trusted": false,
    "ExecuteTime": {
     "end_time": "2023-06-17T15:58:07.957868800Z",
     "start_time": "2023-06-17T15:58:04.499472700Z"
    }
   },
   "outputs": [
    {
     "name": "stdout",
     "output_type": "stream",
     "text": [
      "Оценка F1 на валидационной выборке: 0.7796845207141618\n"
     ]
    },
    {
     "name": "stderr",
     "output_type": "stream",
     "text": [
      "C:\\anaconda\\lib\\site-packages\\sklearn\\linear_model\\_logistic.py:814: ConvergenceWarning: lbfgs failed to converge (status=1):\n",
      "STOP: TOTAL NO. of ITERATIONS REACHED LIMIT.\n",
      "\n",
      "Increase the number of iterations (max_iter) or scale the data as shown in:\n",
      "    https://scikit-learn.org/stable/modules/preprocessing.html\n",
      "Please also refer to the documentation for alternative solver options:\n",
      "    https://scikit-learn.org/stable/modules/linear_model.html#logistic-regression\n",
      "  n_iter_i = _check_optimize_result(\n"
     ]
    }
   ],
   "source": [
    "log = LogisticRegression(C=cv_lr.best_params_['C'],\n",
    "                         class_weight=cv_lr.best_params_['class_weight'],\n",
    "                         solver=cv_lr.best_params_['solver'])\n",
    "log.fit(corpus_train, target_train)\n",
    "log_pred = log.predict(corpus_valid)\n",
    "print(f'Оценка F1 на валидационной выборке: {f1_score(target_valid, log_pred)}')"
   ]
  },
  {
   "cell_type": "markdown",
   "metadata": {},
   "source": [
    "Модель показала метрику выше порога."
   ]
  },
  {
   "cell_type": "markdown",
   "metadata": {
    "ExecuteTime": {
     "end_time": "2023-06-17T15:13:41.944599200Z",
     "start_time": "2023-06-17T15:08:43.825127200Z"
    }
   },
   "source": [
    "## CatBoost"
   ],
   "outputs": [
    {
     "name": "stdout",
     "output_type": "stream",
     "text": [
      "Learning rate set to 0.167283\n",
      "0:\tlearn: 0.4821442\ttotal: 1.08s\tremaining: 7m 10s\n",
      "50:\tlearn: 0.6597649\ttotal: 39.2s\tremaining: 4m 28s\n",
      "100:\tlearn: 0.7163211\ttotal: 1m 14s\tremaining: 3m 41s\n",
      "150:\tlearn: 0.7399888\ttotal: 1m 47s\tremaining: 2m 57s\n",
      "200:\tlearn: 0.7592297\ttotal: 2m 23s\tremaining: 2m 22s\n",
      "250:\tlearn: 0.7690064\ttotal: 3m 6s\tremaining: 1m 50s\n",
      "300:\tlearn: 0.7807345\ttotal: 3m 41s\tremaining: 1m 12s\n",
      "350:\tlearn: 0.7888217\ttotal: 4m 15s\tremaining: 35.7s\n",
      "399:\tlearn: 0.7974556\ttotal: 4m 49s\tremaining: 0us\n",
      "Оценка F1 на валидационной выборке: 0.757743957027753\n",
      "Wall time: 4min 58s\n"
     ]
    }
   ],
   "execution_count": 19
  },
  {
   "cell_type": "code",
   "execution_count": 19,
   "metadata": {
    "trusted": false,
    "ExecuteTime": {
     "end_time": "2023-06-17T16:02:29.569844500Z",
     "start_time": "2023-06-17T15:58:07.961877900Z"
    }
   },
   "outputs": [
    {
     "name": "stdout",
     "output_type": "stream",
     "text": [
      "Learning rate set to 0.189073\n",
      "0:\tlearn: 0.4821442\ttotal: 977ms\tremaining: 5m 41s\n",
      "50:\tlearn: 0.6681716\ttotal: 39s\tremaining: 3m 48s\n",
      "100:\tlearn: 0.7298144\ttotal: 1m 15s\tremaining: 3m 5s\n",
      "150:\tlearn: 0.7490609\ttotal: 1m 50s\tremaining: 2m 26s\n",
      "200:\tlearn: 0.7655869\ttotal: 2m 26s\tremaining: 1m 48s\n",
      "250:\tlearn: 0.7736899\ttotal: 3m 3s\tremaining: 1m 12s\n",
      "300:\tlearn: 0.7844879\ttotal: 3m 38s\tremaining: 35.6s\n",
      "349:\tlearn: 0.7954059\ttotal: 4m 13s\tremaining: 0us\n",
      "Оценка F1 на валидационной выборке: 0.7555635319454416\n",
      "Wall time: 4min 21s\n"
     ]
    }
   ],
   "source": [
    "%%time\n",
    "model_cat = CatBoostClassifier(iterations=350, random_state=12345, eval_metric='F1', early_stopping_rounds=100)\n",
    "model_cat.fit(corpus_train, target_train,verbose=50)\n",
    "cat_pred = model_cat.predict(corpus_valid)\n",
    "print(f'Оценка F1 на валидационной выборке: {f1_score(target_valid, cat_pred)}')"
   ]
  },
  {
   "cell_type": "markdown",
   "metadata": {},
   "source": [
    "Модель немного убавила в метрике, нужно сравнить еще с одной."
   ]
  },
  {
   "cell_type": "markdown",
   "metadata": {
    "ExecuteTime": {
     "end_time": "2023-06-17T15:22:38.438690700Z",
     "start_time": "2023-06-17T15:13:41.948608Z"
    }
   },
   "source": [
    "## LightGBM"
   ],
   "outputs": [
    {
     "name": "stdout",
     "output_type": "stream",
     "text": [
      "Лучшие параметры: {'max_depth': 10, 'n_estimators': 1000, 'num_leaves': 65}\n",
      "Лучшее значение метрики:  0.7645045575814634\n",
      "Wall time: 8min 56s\n"
     ]
    }
   ],
   "execution_count": 20
  },
  {
   "cell_type": "code",
   "execution_count": 20,
   "metadata": {
    "trusted": false,
    "ExecuteTime": {
     "end_time": "2023-06-17T16:08:07.038227300Z",
     "start_time": "2023-06-17T16:02:29.569844500Z"
    }
   },
   "outputs": [
    {
     "name": "stdout",
     "output_type": "stream",
     "text": [
      "Лучшие параметры: {'max_depth': 10, 'n_estimators': 700, 'num_leaves': 65}\n",
      "Лучшее значение метрики:  0.761530955136761\n",
      "Wall time: 5min 37s\n"
     ]
    }
   ],
   "source": [
    "%%time\n",
    "param_gbm = {\n",
    "    'n_estimators': [500, 700],\n",
    "    'num_leaves': [60, 65],\n",
    "    'max_depth': [10]\n",
    "}# распределение параметров для подбора\n",
    "\n",
    "train_data = lgb.Dataset(data=corpus_train, label=target_train) #хранилище для признаков\n",
    "valid_data = lgb.Dataset(data=corpus_valid, label=target_valid)\n",
    "test_data = lgb.Dataset(data=corpus_test, label=target_test)\n",
    "\n",
    "gbm = lgb.LGBMClassifier(random_state=12345)\n",
    "grscv = GridSearchCV(gbm,\n",
    "                     param_gbm,\n",
    "                     cv=3,\n",
    "                     n_jobs=-1,\n",
    "                     verbose=0,\n",
    "                     scoring='f1')\n",
    "gbm_search = grscv.fit(train_data.data, train_data.label)# используем перекодированные признаки для подбора параметров\n",
    "\n",
    "print(\"Лучшие параметры:\", gbm_search.best_params_)\n",
    "print(\"Лучшее значение метрики: \", gbm_search.best_score_)"
   ]
  },
  {
   "cell_type": "code",
   "execution_count": 21,
   "outputs": [
    {
     "name": "stdout",
     "output_type": "stream",
     "text": [
      "Оценка F1 на валидационной выборке: 0.7612971823498139\n"
     ]
    }
   ],
   "source": [
    "model_gbm = lgb.LGBMClassifier(num_leaves=gbm_search.best_params_['num_leaves'],\n",
    "                               n_estimators=gbm_search.best_params_['n_estimators'],\n",
    "                               max_depth=gbm_search.best_params_['max_depth'],\n",
    "                               random_state=12345)\n",
    "model_gbm.fit(train_data.data, train_data.label)\n",
    "gbm_pred = model_gbm.predict(valid_data.data)\n",
    "print(f'Оценка F1 на валидационной выборке: {f1_score(target_valid, gbm_pred)}')"
   ],
   "metadata": {
    "collapsed": false,
    "ExecuteTime": {
     "end_time": "2023-06-17T16:09:06.328673100Z",
     "start_time": "2023-06-17T16:08:07.039168400Z"
    }
   }
  },
  {
   "cell_type": "markdown",
   "metadata": {},
   "source": [
    "В нашем случае у LightGBM немного хуже результат по метрике, чем у линейной модели."
   ]
  },
  {
   "cell_type": "markdown",
   "metadata": {},
   "source": [
    "# Тестирование лучшей модели"
   ]
  },
  {
   "cell_type": "code",
   "execution_count": 22,
   "metadata": {
    "trusted": false,
    "ExecuteTime": {
     "end_time": "2023-06-17T16:09:06.399492900Z",
     "start_time": "2023-06-17T16:09:06.328673100Z"
    }
   },
   "outputs": [
    {
     "name": "stdout",
     "output_type": "stream",
     "text": [
      "Оценка F1 на тестовой выборке: 0.7676872513405986\n"
     ]
    }
   ],
   "source": [
    "predictions_test = log.predict(corpus_test)\n",
    "print(f'Оценка F1 на тестовой выборке: {f1_score(target_test, predictions_test)}')"
   ]
  },
  {
   "cell_type": "markdown",
   "metadata": {},
   "source": [
    "Качество модели подтвердилось на тестовой выборке"
   ]
  },
  {
   "cell_type": "code",
   "execution_count": 23,
   "metadata": {
    "trusted": false,
    "ExecuteTime": {
     "end_time": "2023-06-17T16:09:06.399492900Z",
     "start_time": "2023-06-17T16:09:06.369085200Z"
    }
   },
   "outputs": [
    {
     "name": "stdout",
     "output_type": "stream",
     "text": [
      "Оценка F1 константной модели на тестовой выборке: 0.0\n"
     ]
    }
   ],
   "source": [
    "dummy = DummyClassifier()\n",
    "dummy.fit(corpus_train, target_train)\n",
    "predictions_dummy = dummy.predict(corpus_test)\n",
    "print(f'Оценка F1 константной модели на тестовой выборке: {f1_score(target_test, predictions_dummy)}')"
   ]
  },
  {
   "cell_type": "markdown",
   "metadata": {},
   "source": [
    "Модель предсказывает намного лучше константной, проверка на адекватность пройдена"
   ]
  },
  {
   "cell_type": "markdown",
   "metadata": {},
   "source": [
    "## Вывод"
   ]
  },
  {
   "cell_type": "markdown",
   "metadata": {},
   "source": [
    "В рамках проекта мной была проделана следующая работа:\n",
    "1. Проведел общий обзор данных, определил задачу для обучения модели;\n",
    "2. Очистил и лемматизировал текст, получил TF-IDF для корпуса;\n",
    "3. Проанализировал признаки, провел предобработку, данные были поделены на выборки для обучения и тестирования моделей;\n",
    "4. Подобрал параметры и обучил модели LogisticRegression, CatBoost и LightGBM, выбрал лучшую по метрике F1 - ***LogisticRegression***;\n",
    "5. Лучшую модель проверил на тестовой выборке и на адекватность."
   ]
  },
  {
   "cell_type": "markdown",
   "metadata": {},
   "source": [
    "В нашем случае лучшей моделью оказалась LogisticRegression, она позволит с высокой точностью выявлять токсичные комментарии. Она смогла обойти по метрикам более сложные бустинговые модели, что могло произойти из-за хорошей линейности данных."
   ]
  }
 ],
 "metadata": {
  "kernelspec": {
   "display_name": "Python 3 (ipykernel)",
   "language": "python",
   "name": "python3"
  },
  "language_info": {
   "codemirror_mode": {
    "name": "ipython",
    "version": 3
   },
   "file_extension": ".py",
   "mimetype": "text/x-python",
   "name": "python",
   "nbconvert_exporter": "python",
   "pygments_lexer": "ipython3",
   "version": "3.9.5"
  },
  "toc": {
   "base_numbering": 1,
   "nav_menu": {},
   "number_sections": true,
   "sideBar": true,
   "skip_h1_title": true,
   "title_cell": "Table of Contents",
   "title_sidebar": "Contents",
   "toc_cell": false,
   "toc_position": {},
   "toc_section_display": true,
   "toc_window_display": false
  }
 },
 "nbformat": 4,
 "nbformat_minor": 1
}
