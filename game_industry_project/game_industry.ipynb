{
 "cells": [
  {
   "cell_type": "markdown",
   "metadata": {},
   "source": [
    "# Сборный проект: анализ закономерностей успешности продаж игры"
   ]
  },
  {
   "cell_type": "markdown",
   "metadata": {},
   "source": [
    "Из открытых источников доступны исторические данные о продажах игр, оценки пользователей и экспертов, жанры и платформы (например, Xbox или PlayStation). <br>Нам нужно выявить определяющие успешность игры закономерности. Это позволит сделать ставку на потенциально популярный продукт и спланировать рекламные кампании. <br>Также нужно отработать принцип работы с данными, чтобы можно было прогнозировать продажи на будущее"
   ]
  },
  {
   "cell_type": "markdown",
   "metadata": {},
   "source": [
    "## Шаг 1. Общий обзор данных"
   ]
  },
  {
   "cell_type": "code",
   "execution_count": null,
   "outputs": [],
   "source": [
    "#подключаем библиотеку pandas и numpy\n",
    "import pandas as pd\n",
    "import numpy as np"
   ],
   "metadata": {
    "collapsed": false
   }
  },
  {
   "cell_type": "code",
   "execution_count": null,
   "outputs": [],
   "source": [
    "try:\n",
    "    df = pd.read_csv('D:\\datasets\\games.csv', sep = ',') #записываем данные из файла в переменную df\n",
    "except:\n",
    "    df = pd.read_csv('/datasets/games.csv', sep = ',') #записываем данные из файла в переменную df"
   ],
   "metadata": {
    "collapsed": false
   }
  },
  {
   "cell_type": "code",
   "execution_count": 1,
   "metadata": {},
   "outputs": [
    {
     "name": "stdout",
     "output_type": "stream",
     "text": [
      "<class 'pandas.core.frame.DataFrame'>\n",
      "RangeIndex: 16715 entries, 0 to 16714\n",
      "Data columns (total 11 columns):\n",
      " #   Column           Non-Null Count  Dtype  \n",
      "---  ------           --------------  -----  \n",
      " 0   Name             16713 non-null  object \n",
      " 1   Platform         16715 non-null  object \n",
      " 2   Year_of_Release  16446 non-null  float64\n",
      " 3   Genre            16713 non-null  object \n",
      " 4   NA_sales         16715 non-null  float64\n",
      " 5   EU_sales         16715 non-null  float64\n",
      " 6   JP_sales         16715 non-null  float64\n",
      " 7   Other_sales      16715 non-null  float64\n",
      " 8   Critic_Score     8137 non-null   float64\n",
      " 9   User_Score       10014 non-null  object \n",
      " 10  Rating           9949 non-null   object \n",
      "dtypes: float64(6), object(5)\n",
      "memory usage: 1.4+ MB\n"
     ]
    }
   ],
   "source": [
    "df.info() #общая информация о датафрейме"
   ]
  },
  {
   "cell_type": "markdown",
   "metadata": {},
   "source": [
    "В столбцах Critic_Score, User_score и Rating присутствует значительное количество пропущенных данных, так как они являются мерой оценки игр можно предположить, что данные пропущены из-за их отсутствия в исходном источнике <br>В некоторых из оставшихся столбцов присутвет незначительное количество пропущенных данных."
   ]
  },
  {
   "cell_type": "code",
   "execution_count": 2,
   "metadata": {},
   "outputs": [
    {
     "data": {
      "text/html": [
       "<div>\n",
       "<style scoped>\n",
       "    .dataframe tbody tr th:only-of-type {\n",
       "        vertical-align: middle;\n",
       "    }\n",
       "\n",
       "    .dataframe tbody tr th {\n",
       "        vertical-align: top;\n",
       "    }\n",
       "\n",
       "    .dataframe thead th {\n",
       "        text-align: right;\n",
       "    }\n",
       "</style>\n",
       "<table border=\"1\" class=\"dataframe\">\n",
       "  <thead>\n",
       "    <tr style=\"text-align: right;\">\n",
       "      <th></th>\n",
       "      <th>Name</th>\n",
       "      <th>Platform</th>\n",
       "      <th>Year_of_Release</th>\n",
       "      <th>Genre</th>\n",
       "      <th>NA_sales</th>\n",
       "      <th>EU_sales</th>\n",
       "      <th>JP_sales</th>\n",
       "      <th>Other_sales</th>\n",
       "      <th>Critic_Score</th>\n",
       "      <th>User_Score</th>\n",
       "      <th>Rating</th>\n",
       "    </tr>\n",
       "  </thead>\n",
       "  <tbody>\n",
       "    <tr>\n",
       "      <th>0</th>\n",
       "      <td>Wii Sports</td>\n",
       "      <td>Wii</td>\n",
       "      <td>2006.0</td>\n",
       "      <td>Sports</td>\n",
       "      <td>41.36</td>\n",
       "      <td>28.96</td>\n",
       "      <td>3.77</td>\n",
       "      <td>8.45</td>\n",
       "      <td>76.0</td>\n",
       "      <td>8</td>\n",
       "      <td>E</td>\n",
       "    </tr>\n",
       "    <tr>\n",
       "      <th>1</th>\n",
       "      <td>Super Mario Bros.</td>\n",
       "      <td>NES</td>\n",
       "      <td>1985.0</td>\n",
       "      <td>Platform</td>\n",
       "      <td>29.08</td>\n",
       "      <td>3.58</td>\n",
       "      <td>6.81</td>\n",
       "      <td>0.77</td>\n",
       "      <td>NaN</td>\n",
       "      <td>NaN</td>\n",
       "      <td>NaN</td>\n",
       "    </tr>\n",
       "    <tr>\n",
       "      <th>2</th>\n",
       "      <td>Mario Kart Wii</td>\n",
       "      <td>Wii</td>\n",
       "      <td>2008.0</td>\n",
       "      <td>Racing</td>\n",
       "      <td>15.68</td>\n",
       "      <td>12.76</td>\n",
       "      <td>3.79</td>\n",
       "      <td>3.29</td>\n",
       "      <td>82.0</td>\n",
       "      <td>8.3</td>\n",
       "      <td>E</td>\n",
       "    </tr>\n",
       "    <tr>\n",
       "      <th>3</th>\n",
       "      <td>Wii Sports Resort</td>\n",
       "      <td>Wii</td>\n",
       "      <td>2009.0</td>\n",
       "      <td>Sports</td>\n",
       "      <td>15.61</td>\n",
       "      <td>10.93</td>\n",
       "      <td>3.28</td>\n",
       "      <td>2.95</td>\n",
       "      <td>80.0</td>\n",
       "      <td>8</td>\n",
       "      <td>E</td>\n",
       "    </tr>\n",
       "    <tr>\n",
       "      <th>4</th>\n",
       "      <td>Pokemon Red/Pokemon Blue</td>\n",
       "      <td>GB</td>\n",
       "      <td>1996.0</td>\n",
       "      <td>Role-Playing</td>\n",
       "      <td>11.27</td>\n",
       "      <td>8.89</td>\n",
       "      <td>10.22</td>\n",
       "      <td>1.00</td>\n",
       "      <td>NaN</td>\n",
       "      <td>NaN</td>\n",
       "      <td>NaN</td>\n",
       "    </tr>\n",
       "  </tbody>\n",
       "</table>\n",
       "</div>"
      ],
      "text/plain": [
       "                       Name Platform  Year_of_Release         Genre  NA_sales  \\\n",
       "0                Wii Sports      Wii           2006.0        Sports     41.36   \n",
       "1         Super Mario Bros.      NES           1985.0      Platform     29.08   \n",
       "2            Mario Kart Wii      Wii           2008.0        Racing     15.68   \n",
       "3         Wii Sports Resort      Wii           2009.0        Sports     15.61   \n",
       "4  Pokemon Red/Pokemon Blue       GB           1996.0  Role-Playing     11.27   \n",
       "\n",
       "   EU_sales  JP_sales  Other_sales  Critic_Score User_Score Rating  \n",
       "0     28.96      3.77         8.45          76.0          8      E  \n",
       "1      3.58      6.81         0.77           NaN        NaN    NaN  \n",
       "2     12.76      3.79         3.29          82.0        8.3      E  \n",
       "3     10.93      3.28         2.95          80.0          8      E  \n",
       "4      8.89     10.22         1.00           NaN        NaN    NaN  "
      ]
     },
     "execution_count": 2,
     "metadata": {},
     "output_type": "execute_result"
    }
   ],
   "source": [
    "df.head()# выводим на экран первые 5 строк датафрейма"
   ]
  },
  {
   "cell_type": "markdown",
   "metadata": {},
   "source": [
    "Теперь у нас есть общее представление о количестве пропусков, типах значений в столбцах и самих значениях"
   ]
  },
  {
   "cell_type": "code",
   "execution_count": 3,
   "metadata": {},
   "outputs": [
    {
     "data": {
      "text/plain": [
       "array([[<AxesSubplot:title={'center':'Year_of_Release'}>,\n",
       "        <AxesSubplot:title={'center':'NA_sales'}>],\n",
       "       [<AxesSubplot:title={'center':'EU_sales'}>,\n",
       "        <AxesSubplot:title={'center':'JP_sales'}>],\n",
       "       [<AxesSubplot:title={'center':'Other_sales'}>,\n",
       "        <AxesSubplot:title={'center':'Critic_Score'}>]], dtype=object)"
      ]
     },
     "execution_count": 3,
     "metadata": {},
     "output_type": "execute_result"
    },
    {
     "data": {
      "image/png": "[encoded data removed]",
      "text/plain": [
       "<Figure size 1080x720 with 6 Axes>"
      ]
     },
     "metadata": {
      "needs_background": "light"
     },
     "output_type": "display_data"
    }
   ],
   "source": [
    "df.hist(bins=150, figsize=(15,10))# гистограммы для числовых столбцов"
   ]
  },
  {
   "cell_type": "code",
   "execution_count": 4,
   "metadata": {},
   "outputs": [
    {
     "data": {
      "text/plain": [
       "<AxesSubplot:>"
      ]
     },
     "execution_count": 4,
     "metadata": {},
     "output_type": "execute_result"
    },
    {
     "data": {
      "image/png": "[encoded data removed]",
      "text/plain": [
       "<Figure size 1080x720 with 1 Axes>"
      ]
     },
     "metadata": {
      "needs_background": "light"
     },
     "output_type": "display_data"
    }
   ],
   "source": [
    "df.query('User_Score != \"tbd\"')['User_Score'].astype('float64').hist(bins=150, figsize=(15,10))# гистограмма столбца user_score"
   ]
  },
  {
   "cell_type": "markdown",
   "metadata": {},
   "source": [
    "Наблюдается рост количества выпущенных игр с пиком в 2008-2009 годах, затем постепенный спад, а после 2010 график выравнивается <br> Большинство игр из датасета оценены критиками от 60 до 80 баллов, пользователями от 6.5 до 8.5<br>В столбцах с продажами по регионам представлены непрерывные значения, по масштабу графиков можно сказать, что больше всего продаж происходит в Северной Америке, затем идет Европа, а после Япония и другие страны<br>столбцы с продажами по регионам в будущем будем смотреть в разбивке по различным категориям, так как графики получились не информативные"
   ]
  },
  {
   "cell_type": "markdown",
   "metadata": {},
   "source": []
  },
  {
   "cell_type": "code",
   "execution_count": 5,
   "metadata": {},
   "outputs": [
    {
     "data": {
      "text/plain": [
       "<AxesSubplot:ylabel='Platform'>"
      ]
     },
     "execution_count": 5,
     "metadata": {},
     "output_type": "execute_result"
    },
    {
     "data": {
      "image/png": "[encoded data removed]",
      "text/plain": [
       "<Figure size 432x288 with 1 Axes>"
      ]
     },
     "metadata": {},
     "output_type": "display_data"
    }
   ],
   "source": [
    "df['Platform'].value_counts().plot(kind='pie')# строим круговую диаграмму"
   ]
  },
  {
   "cell_type": "markdown",
   "metadata": {},
   "source": [
    "На диаграмме наглядно показаны доли различных игровых приставок в датафрейме, больше всего игр на ps2 и nintendo ds"
   ]
  },
  {
   "cell_type": "code",
   "execution_count": 6,
   "metadata": {},
   "outputs": [
    {
     "data": {
      "text/plain": [
       "<AxesSubplot:ylabel='Genre'>"
      ]
     },
     "execution_count": 6,
     "metadata": {},
     "output_type": "execute_result"
    },
    {
     "data": {
      "image/png": "[encoded data removed]",
      "text/plain": [
       "<Figure size 432x288 with 1 Axes>"
      ]
     },
     "metadata": {},
     "output_type": "display_data"
    }
   ],
   "source": [
    "df['Genre'].value_counts().plot(kind='pie')# строим круговую диаграмму"
   ]
  },
  {
   "cell_type": "markdown",
   "metadata": {},
   "source": [
    "На диаграмме наглядно показаны доли различных жанров игр в датафрейме, больше всего игр в жанре экшн"
   ]
  },
  {
   "cell_type": "code",
   "execution_count": 7,
   "metadata": {},
   "outputs": [
    {
     "data": {
      "text/plain": [
       "<AxesSubplot:ylabel='Rating'>"
      ]
     },
     "execution_count": 7,
     "metadata": {},
     "output_type": "execute_result"
    },
    {
     "data": {
      "image/png": "[encoded data removed]",
      "text/plain": [
       "<Figure size 432x288 with 1 Axes>"
      ]
     },
     "metadata": {},
     "output_type": "display_data"
    }
   ],
   "source": [
    "df['Rating'].value_counts().plot(kind='pie')# строим круговую диаграмму"
   ]
  },
  {
   "cell_type": "markdown",
   "metadata": {},
   "source": [
    "На диаграмме наглядно показаны доли различных возрастных рейтингов в датафрейме, больше всего игр в рейтинге E - для всех возрастов, затем T - от 13 лет, далее M - от 17 лет, E10+ - для всех старше 10, игр с остальными рейтингами представлено незначительное количество"
   ]
  },
  {
   "cell_type": "markdown",
   "metadata": {},
   "source": [
    "## Шаг 2. Предобработка данных"
   ]
  },
  {
   "cell_type": "markdown",
   "metadata": {},
   "source": [
    "### 1. Наименования столбцов"
   ]
  },
  {
   "cell_type": "markdown",
   "metadata": {},
   "source": [
    "Приведем все названия столбцов к нижнему регистру"
   ]
  },
  {
   "cell_type": "code",
   "execution_count": 8,
   "metadata": {},
   "outputs": [],
   "source": [
    "df. columns = df.columns.str.lower()"
   ]
  },
  {
   "cell_type": "markdown",
   "metadata": {},
   "source": [
    "<div class=\"alert-success\"> \n",
    "<b>Комментарий ревьюера 👍 </b>\n",
    "\n",
    "Хвалю, что используешь str.lower, а не громоздкие неоптимальные конструкции"
   ]
  },
  {
   "cell_type": "markdown",
   "metadata": {},
   "source": [
    "### 2. Преобразование типов данных"
   ]
  },
  {
   "cell_type": "code",
   "execution_count": 9,
   "metadata": {},
   "outputs": [
    {
     "data": {
      "text/plain": [
       "name                object\n",
       "platform            object\n",
       "year_of_release    float64\n",
       "genre               object\n",
       "na_sales           float64\n",
       "eu_sales           float64\n",
       "jp_sales           float64\n",
       "other_sales        float64\n",
       "critic_score       float64\n",
       "user_score          object\n",
       "rating              object\n",
       "dtype: object"
      ]
     },
     "execution_count": 9,
     "metadata": {},
     "output_type": "execute_result"
    }
   ],
   "source": [
    "df.dtypes #смотри, какие типы данных пресутсвуют в столбцах"
   ]
  },
  {
   "cell_type": "markdown",
   "metadata": {},
   "source": [
    "Поменяем значения столбца year_of_release на datetime64, чтобы в дальнейшем можно было проводить анализ по этому показателю"
   ]
  },
  {
   "cell_type": "code",
   "execution_count": 10,
   "metadata": {},
   "outputs": [],
   "source": [
    "df['year_of_release'] = pd.to_datetime(df['year_of_release'], format='%Y').dt.year"
   ]
  },
  {
   "cell_type": "markdown",
   "metadata": {},
   "source": [
    "Поменяем значения столбца critic_score на целочисленные, так у них нет дробной части"
   ]
  },
  {
   "cell_type": "code",
   "execution_count": 11,
   "metadata": {},
   "outputs": [],
   "source": [
    "df = df.astype({'critic_score': 'Int64'})# меняем тип данных столбца на int"
   ]
  },
  {
   "cell_type": "markdown",
   "metadata": {},
   "source": [
    "Значения столбцов с количеством проданных копий по регионам можно поменять на целые числа и привести к миллионам, но это никак не повлияет на анализ, пропускаем"
   ]
  },
  {
   "cell_type": "markdown",
   "metadata": {},
   "source": [
    "В столбце user_score смешанный тип данных, посмотрим, почему так произошло"
   ]
  },
  {
   "cell_type": "code",
   "execution_count": 12,
   "metadata": {},
   "outputs": [
    {
     "data": {
      "text/plain": [
       "tbd    2424\n",
       "7.8     324\n",
       "8       290\n",
       "8.2     282\n",
       "8.3     254\n",
       "       ... \n",
       "9.6       2\n",
       "0.9       2\n",
       "2.3       2\n",
       "9.7       1\n",
       "0         1\n",
       "Name: user_score, Length: 96, dtype: int64"
      ]
     },
     "execution_count": 12,
     "metadata": {},
     "output_type": "execute_result"
    }
   ],
   "source": [
    "df.user_score.value_counts()"
   ]
  },
  {
   "cell_type": "markdown",
   "metadata": {},
   "source": [
    "Аббревиатура tbd значит, что оценка еще не была определена, TBD (to be determined = будет определено). В нашем случае можно считать, что данные пропущенны, приведем их к nan"
   ]
  },
  {
   "cell_type": "code",
   "execution_count": 13,
   "metadata": {},
   "outputs": [],
   "source": [
    "df = df.replace('tbd', np.nan)# меняем значения tbd на nan\n",
    "df = df.astype({'user_score': 'float64'})# приводим тип данных колонки к float"
   ]
  },
  {
   "cell_type": "markdown",
   "metadata": {},
   "source": [
    "### 3. Обзор пропущенных значений"
   ]
  },
  {
   "cell_type": "code",
   "execution_count": 14,
   "metadata": {},
   "outputs": [
    {
     "data": {
      "text/plain": [
       "name                  2\n",
       "platform              0\n",
       "year_of_release     269\n",
       "genre                 2\n",
       "na_sales              0\n",
       "eu_sales              0\n",
       "jp_sales              0\n",
       "other_sales           0\n",
       "critic_score       8578\n",
       "user_score         9125\n",
       "rating             6766\n",
       "dtype: int64"
      ]
     },
     "execution_count": 14,
     "metadata": {},
     "output_type": "execute_result"
    }
   ],
   "source": [
    "df.isna().sum()#сумма пропущенных значений в каждом столбце"
   ]
  },
  {
   "cell_type": "markdown",
   "metadata": {},
   "source": [
    "В столбцах Name, Genre и Year_of_Release пропущенных данных незначительное количество, можем удалить из датафрейма, на выборку это не повлияет"
   ]
  },
  {
   "cell_type": "code",
   "execution_count": 15,
   "metadata": {},
   "outputs": [],
   "source": [
    "df = df.dropna(subset=['name', 'genre', 'year_of_release']) #удаляем пропуски из столбцов"
   ]
  },
  {
   "cell_type": "markdown",
   "metadata": {},
   "source": [
    "В столбцах critic_Score, user_score и rating пропущено значительное количество значений, нужно выяснить, чем их заполнить.<br>Для начала проверим, взаимосвязаны ли эти пропуски"
   ]
  },
  {
   "cell_type": "code",
   "execution_count": 16,
   "metadata": {},
   "outputs": [
    {
     "data": {
      "text/html": [
       "<div>\n",
       "<style scoped>\n",
       "    .dataframe tbody tr th:only-of-type {\n",
       "        vertical-align: middle;\n",
       "    }\n",
       "\n",
       "    .dataframe tbody tr th {\n",
       "        vertical-align: top;\n",
       "    }\n",
       "\n",
       "    .dataframe thead th {\n",
       "        text-align: right;\n",
       "    }\n",
       "</style>\n",
       "<table border=\"1\" class=\"dataframe\">\n",
       "  <thead>\n",
       "    <tr style=\"text-align: right;\">\n",
       "      <th></th>\n",
       "      <th>name</th>\n",
       "      <th>platform</th>\n",
       "      <th>year_of_release</th>\n",
       "      <th>genre</th>\n",
       "      <th>na_sales</th>\n",
       "      <th>eu_sales</th>\n",
       "      <th>jp_sales</th>\n",
       "      <th>other_sales</th>\n",
       "      <th>critic_score</th>\n",
       "      <th>user_score</th>\n",
       "      <th>rating</th>\n",
       "    </tr>\n",
       "  </thead>\n",
       "  <tbody>\n",
       "    <tr>\n",
       "      <th>1</th>\n",
       "      <td>Super Mario Bros.</td>\n",
       "      <td>NES</td>\n",
       "      <td>1985.0</td>\n",
       "      <td>Platform</td>\n",
       "      <td>29.08</td>\n",
       "      <td>3.58</td>\n",
       "      <td>6.81</td>\n",
       "      <td>0.77</td>\n",
       "      <td>&lt;NA&gt;</td>\n",
       "      <td>NaN</td>\n",
       "      <td>NaN</td>\n",
       "    </tr>\n",
       "    <tr>\n",
       "      <th>4</th>\n",
       "      <td>Pokemon Red/Pokemon Blue</td>\n",
       "      <td>GB</td>\n",
       "      <td>1996.0</td>\n",
       "      <td>Role-Playing</td>\n",
       "      <td>11.27</td>\n",
       "      <td>8.89</td>\n",
       "      <td>10.22</td>\n",
       "      <td>1.00</td>\n",
       "      <td>&lt;NA&gt;</td>\n",
       "      <td>NaN</td>\n",
       "      <td>NaN</td>\n",
       "    </tr>\n",
       "    <tr>\n",
       "      <th>5</th>\n",
       "      <td>Tetris</td>\n",
       "      <td>GB</td>\n",
       "      <td>1989.0</td>\n",
       "      <td>Puzzle</td>\n",
       "      <td>23.20</td>\n",
       "      <td>2.26</td>\n",
       "      <td>4.22</td>\n",
       "      <td>0.58</td>\n",
       "      <td>&lt;NA&gt;</td>\n",
       "      <td>NaN</td>\n",
       "      <td>NaN</td>\n",
       "    </tr>\n",
       "    <tr>\n",
       "      <th>9</th>\n",
       "      <td>Duck Hunt</td>\n",
       "      <td>NES</td>\n",
       "      <td>1984.0</td>\n",
       "      <td>Shooter</td>\n",
       "      <td>26.93</td>\n",
       "      <td>0.63</td>\n",
       "      <td>0.28</td>\n",
       "      <td>0.47</td>\n",
       "      <td>&lt;NA&gt;</td>\n",
       "      <td>NaN</td>\n",
       "      <td>NaN</td>\n",
       "    </tr>\n",
       "    <tr>\n",
       "      <th>10</th>\n",
       "      <td>Nintendogs</td>\n",
       "      <td>DS</td>\n",
       "      <td>2005.0</td>\n",
       "      <td>Simulation</td>\n",
       "      <td>9.05</td>\n",
       "      <td>10.95</td>\n",
       "      <td>1.93</td>\n",
       "      <td>2.74</td>\n",
       "      <td>&lt;NA&gt;</td>\n",
       "      <td>NaN</td>\n",
       "      <td>NaN</td>\n",
       "    </tr>\n",
       "    <tr>\n",
       "      <th>...</th>\n",
       "      <td>...</td>\n",
       "      <td>...</td>\n",
       "      <td>...</td>\n",
       "      <td>...</td>\n",
       "      <td>...</td>\n",
       "      <td>...</td>\n",
       "      <td>...</td>\n",
       "      <td>...</td>\n",
       "      <td>...</td>\n",
       "      <td>...</td>\n",
       "      <td>...</td>\n",
       "    </tr>\n",
       "    <tr>\n",
       "      <th>16710</th>\n",
       "      <td>Samurai Warriors: Sanada Maru</td>\n",
       "      <td>PS3</td>\n",
       "      <td>2016.0</td>\n",
       "      <td>Action</td>\n",
       "      <td>0.00</td>\n",
       "      <td>0.00</td>\n",
       "      <td>0.01</td>\n",
       "      <td>0.00</td>\n",
       "      <td>&lt;NA&gt;</td>\n",
       "      <td>NaN</td>\n",
       "      <td>NaN</td>\n",
       "    </tr>\n",
       "    <tr>\n",
       "      <th>16711</th>\n",
       "      <td>LMA Manager 2007</td>\n",
       "      <td>X360</td>\n",
       "      <td>2006.0</td>\n",
       "      <td>Sports</td>\n",
       "      <td>0.00</td>\n",
       "      <td>0.01</td>\n",
       "      <td>0.00</td>\n",
       "      <td>0.00</td>\n",
       "      <td>&lt;NA&gt;</td>\n",
       "      <td>NaN</td>\n",
       "      <td>NaN</td>\n",
       "    </tr>\n",
       "    <tr>\n",
       "      <th>16712</th>\n",
       "      <td>Haitaka no Psychedelica</td>\n",
       "      <td>PSV</td>\n",
       "      <td>2016.0</td>\n",
       "      <td>Adventure</td>\n",
       "      <td>0.00</td>\n",
       "      <td>0.00</td>\n",
       "      <td>0.01</td>\n",
       "      <td>0.00</td>\n",
       "      <td>&lt;NA&gt;</td>\n",
       "      <td>NaN</td>\n",
       "      <td>NaN</td>\n",
       "    </tr>\n",
       "    <tr>\n",
       "      <th>16713</th>\n",
       "      <td>Spirits &amp; Spells</td>\n",
       "      <td>GBA</td>\n",
       "      <td>2003.0</td>\n",
       "      <td>Platform</td>\n",
       "      <td>0.01</td>\n",
       "      <td>0.00</td>\n",
       "      <td>0.00</td>\n",
       "      <td>0.00</td>\n",
       "      <td>&lt;NA&gt;</td>\n",
       "      <td>NaN</td>\n",
       "      <td>NaN</td>\n",
       "    </tr>\n",
       "    <tr>\n",
       "      <th>16714</th>\n",
       "      <td>Winning Post 8 2016</td>\n",
       "      <td>PSV</td>\n",
       "      <td>2016.0</td>\n",
       "      <td>Simulation</td>\n",
       "      <td>0.00</td>\n",
       "      <td>0.00</td>\n",
       "      <td>0.01</td>\n",
       "      <td>0.00</td>\n",
       "      <td>&lt;NA&gt;</td>\n",
       "      <td>NaN</td>\n",
       "      <td>NaN</td>\n",
       "    </tr>\n",
       "  </tbody>\n",
       "</table>\n",
       "<p>6580 rows × 11 columns</p>\n",
       "</div>"
      ],
      "text/plain": [
       "                                name platform  year_of_release         genre  \\\n",
       "1                  Super Mario Bros.      NES           1985.0      Platform   \n",
       "4           Pokemon Red/Pokemon Blue       GB           1996.0  Role-Playing   \n",
       "5                             Tetris       GB           1989.0        Puzzle   \n",
       "9                          Duck Hunt      NES           1984.0       Shooter   \n",
       "10                        Nintendogs       DS           2005.0    Simulation   \n",
       "...                              ...      ...              ...           ...   \n",
       "16710  Samurai Warriors: Sanada Maru      PS3           2016.0        Action   \n",
       "16711               LMA Manager 2007     X360           2006.0        Sports   \n",
       "16712        Haitaka no Psychedelica      PSV           2016.0     Adventure   \n",
       "16713               Spirits & Spells      GBA           2003.0      Platform   \n",
       "16714            Winning Post 8 2016      PSV           2016.0    Simulation   \n",
       "\n",
       "       na_sales  eu_sales  jp_sales  other_sales  critic_score  user_score  \\\n",
       "1         29.08      3.58      6.81         0.77          <NA>         NaN   \n",
       "4         11.27      8.89     10.22         1.00          <NA>         NaN   \n",
       "5         23.20      2.26      4.22         0.58          <NA>         NaN   \n",
       "9         26.93      0.63      0.28         0.47          <NA>         NaN   \n",
       "10         9.05     10.95      1.93         2.74          <NA>         NaN   \n",
       "...         ...       ...       ...          ...           ...         ...   \n",
       "16710      0.00      0.00      0.01         0.00          <NA>         NaN   \n",
       "16711      0.00      0.01      0.00         0.00          <NA>         NaN   \n",
       "16712      0.00      0.00      0.01         0.00          <NA>         NaN   \n",
       "16713      0.01      0.00      0.00         0.00          <NA>         NaN   \n",
       "16714      0.00      0.00      0.01         0.00          <NA>         NaN   \n",
       "\n",
       "      rating  \n",
       "1        NaN  \n",
       "4        NaN  \n",
       "5        NaN  \n",
       "9        NaN  \n",
       "10       NaN  \n",
       "...      ...  \n",
       "16710    NaN  \n",
       "16711    NaN  \n",
       "16712    NaN  \n",
       "16713    NaN  \n",
       "16714    NaN  \n",
       "\n",
       "[6580 rows x 11 columns]"
      ]
     },
     "execution_count": 16,
     "metadata": {},
     "output_type": "execute_result"
    }
   ],
   "source": [
    "df.loc[(df['critic_score'].isna()) & (df['user_score'].isna()) & (df['rating'].isna())]# смотрим, сколько в датафрейме строк, где пропущены все 'оценочные' метрики"
   ]
  },
  {
   "cell_type": "markdown",
   "metadata": {},
   "source": [
    "Большинство пропусков столбцов critic_score, user_score, rating напрямую взаимосвязаны, около 2000 пропусков столбца critic_score возникли отдельно от остальных. Можно предположить, что информация об оценках и рейтингах берется из определенного источника, в котором отсутствуют данные по некоторым играм, годам, приставкам и т.д. <br> Заполнить все пропуски медианой или средним не получится, так как их в датасете слишком много и мы можем потерять другие ценные данные из \"нормальных\" столбцов, а также данные по каждой игре слишком самобытны и могут сильно отличаться в зависимости от платформы, оставим их"
   ]
  },
  {
   "cell_type": "markdown",
   "metadata": {},
   "source": [
    "### 4. Удаление дубликатов"
   ]
  },
  {
   "cell_type": "code",
   "execution_count": 17,
   "metadata": {},
   "outputs": [],
   "source": [
    "df.drop_duplicates(inplace=True)#удаление явных дубликатов"
   ]
  },
  {
   "cell_type": "markdown",
   "metadata": {},
   "source": [
    "Неявные дубликаты могут быть в столбцах platform, genre, name и rating."
   ]
  },
  {
   "cell_type": "code",
   "execution_count": 18,
   "metadata": {},
   "outputs": [
    {
     "data": {
      "text/plain": [
       "array(['Wii', 'NES', 'GB', 'DS', 'X360', 'PS3', 'PS2', 'SNES', 'GBA',\n",
       "       'PS4', '3DS', 'N64', 'PS', 'XB', 'PC', '2600', 'PSP', 'XOne',\n",
       "       'WiiU', 'GC', 'GEN', 'DC', 'PSV', 'SAT', 'SCD', 'WS', 'NG', 'TG16',\n",
       "       '3DO', 'GG', 'PCFX'], dtype=object)"
      ]
     },
     "execution_count": 18,
     "metadata": {},
     "output_type": "execute_result"
    }
   ],
   "source": [
    "df.platform.unique()# проверяем уникальные значения столцба"
   ]
  },
  {
   "cell_type": "markdown",
   "metadata": {},
   "source": [
    "Неявные дубликаты отсутствуют"
   ]
  },
  {
   "cell_type": "code",
   "execution_count": 19,
   "metadata": {},
   "outputs": [
    {
     "data": {
      "text/plain": [
       "array(['Sports', 'Platform', 'Racing', 'Role-Playing', 'Puzzle', 'Misc',\n",
       "       'Shooter', 'Simulation', 'Action', 'Fighting', 'Adventure',\n",
       "       'Strategy'], dtype=object)"
      ]
     },
     "execution_count": 19,
     "metadata": {},
     "output_type": "execute_result"
    }
   ],
   "source": [
    "df.genre.unique()# проверяем уникальные значения столцба"
   ]
  },
  {
   "cell_type": "markdown",
   "metadata": {},
   "source": [
    "Неявные дубликаты отсутствуют"
   ]
  },
  {
   "cell_type": "code",
   "execution_count": 20,
   "metadata": {},
   "outputs": [
    {
     "data": {
      "text/plain": [
       "array(['Wii Sports', 'Super Mario Bros.', 'Mario Kart Wii', ...,\n",
       "       'Woody Woodpecker in Crazy Castle 5', 'LMA Manager 2007',\n",
       "       'Haitaka no Psychedelica'], dtype=object)"
      ]
     },
     "execution_count": 20,
     "metadata": {},
     "output_type": "execute_result"
    }
   ],
   "source": [
    "df.name.unique()# проверяем уникальные значения столцба"
   ]
  },
  {
   "cell_type": "markdown",
   "metadata": {},
   "source": [
    "Данные выглядят чистыми, дубликаты здесь можно не искать, так как это не сильно повлияет на результат исследования"
   ]
  },
  {
   "cell_type": "code",
   "execution_count": 21,
   "metadata": {},
   "outputs": [
    {
     "data": {
      "text/plain": [
       "array(['E', nan, 'M', 'T', 'E10+', 'K-A', 'AO', 'EC', 'RP'], dtype=object)"
      ]
     },
     "execution_count": 21,
     "metadata": {},
     "output_type": "execute_result"
    }
   ],
   "source": [
    "df.rating.unique()# проверяем уникальные значения столцба"
   ]
  },
  {
   "cell_type": "markdown",
   "metadata": {},
   "source": [
    "### 5. Обработка аномальных значений"
   ]
  },
  {
   "cell_type": "code",
   "execution_count": 22,
   "metadata": {},
   "outputs": [
    {
     "data": {
      "text/plain": [
       "2008.0    1427\n",
       "2009.0    1426\n",
       "2010.0    1255\n",
       "2007.0    1197\n",
       "2011.0    1136\n",
       "2006.0    1006\n",
       "2005.0     939\n",
       "2002.0     829\n",
       "2003.0     775\n",
       "2004.0     762\n",
       "2012.0     653\n",
       "2015.0     606\n",
       "2014.0     581\n",
       "2013.0     544\n",
       "2016.0     502\n",
       "2001.0     482\n",
       "1998.0     379\n",
       "2000.0     350\n",
       "1999.0     338\n",
       "1997.0     289\n",
       "1996.0     263\n",
       "1995.0     219\n",
       "1994.0     121\n",
       "1993.0      60\n",
       "1981.0      46\n",
       "1992.0      43\n",
       "1991.0      41\n",
       "1982.0      36\n",
       "1986.0      21\n",
       "1989.0      17\n",
       "1983.0      17\n",
       "1987.0      16\n",
       "1990.0      16\n",
       "1988.0      15\n",
       "1984.0      14\n",
       "1985.0      14\n",
       "1980.0       9\n",
       "Name: year_of_release, dtype: int64"
      ]
     },
     "execution_count": 22,
     "metadata": {},
     "output_type": "execute_result"
    }
   ],
   "source": [
    "df['year_of_release'].value_counts()# подсчет значений столбца"
   ]
  },
  {
   "cell_type": "markdown",
   "metadata": {},
   "source": [
    "Аномальные значения в столбце year_of_release отсутствуют"
   ]
  },
  {
   "cell_type": "code",
   "execution_count": 23,
   "metadata": {},
   "outputs": [
    {
     "data": {
      "text/plain": [
       "0.00     4449\n",
       "0.02      562\n",
       "0.03      554\n",
       "0.04      543\n",
       "0.05      536\n",
       "         ... \n",
       "14.44       1\n",
       "13.96       1\n",
       "2.35        1\n",
       "2.96        1\n",
       "4.40        1\n",
       "Name: na_sales, Length: 401, dtype: int64"
      ]
     },
     "execution_count": 23,
     "metadata": {},
     "output_type": "execute_result"
    }
   ],
   "source": [
    "df['na_sales'].value_counts()"
   ]
  },
  {
   "cell_type": "markdown",
   "metadata": {},
   "source": [
    "Аномальные значения отсутствуют, однако многие игры не продавались (0) в регионе NA, а некоторые продавались в больших объемах, что может сильно повлиять на среднее значение, это нужно учесть при дальнейшем анализе"
   ]
  },
  {
   "cell_type": "code",
   "execution_count": 24,
   "metadata": {},
   "outputs": [
    {
     "data": {
      "text/plain": [
       "0.00    5766\n",
       "0.01    1467\n",
       "0.02    1290\n",
       "0.03     911\n",
       "0.04     702\n",
       "        ... \n",
       "9.14       1\n",
       "1.92       1\n",
       "3.86       1\n",
       "2.59       1\n",
       "3.87       1\n",
       "Name: eu_sales, Length: 307, dtype: int64"
      ]
     },
     "execution_count": 24,
     "metadata": {},
     "output_type": "execute_result"
    }
   ],
   "source": [
    "df['eu_sales'].value_counts()"
   ]
  },
  {
   "cell_type": "markdown",
   "metadata": {},
   "source": [
    "Аномальные значения отсутствуют, однако многие игры не продавались (0) в регионе EU, а некоторые продавались в больших объемах, что может сильно повлиять на среднее значение, это нужно учесть при дальнейшем анализе"
   ]
  },
  {
   "cell_type": "code",
   "execution_count": 25,
   "metadata": {},
   "outputs": [
    {
     "data": {
      "text/plain": [
       "0.00    10300\n",
       "0.02      733\n",
       "0.01      697\n",
       "0.03      540\n",
       "0.04      391\n",
       "        ...  \n",
       "3.84        1\n",
       "1.17        1\n",
       "3.03        1\n",
       "2.66        1\n",
       "1.71        1\n",
       "Name: jp_sales, Length: 244, dtype: int64"
      ]
     },
     "execution_count": 25,
     "metadata": {},
     "output_type": "execute_result"
    }
   ],
   "source": [
    "df['jp_sales'].value_counts()"
   ]
  },
  {
   "cell_type": "markdown",
   "metadata": {},
   "source": [
    "Аномальные значения отсутствуют, однако многие игры не продавались (0) в регионе JP, а некоторые продавались в больших объемах, что может сильно повлиять на среднее значение, это нужно учесть при дальнейшем анализе"
   ]
  },
  {
   "cell_type": "code",
   "execution_count": 26,
   "metadata": {},
   "outputs": [
    {
     "data": {
      "text/plain": [
       "0.00    6492\n",
       "0.01    3398\n",
       "0.02    1596\n",
       "0.03     910\n",
       "0.04     641\n",
       "        ... \n",
       "0.72       1\n",
       "2.11       1\n",
       "0.96       1\n",
       "1.48       1\n",
       "3.96       1\n",
       "Name: other_sales, Length: 155, dtype: int64"
      ]
     },
     "execution_count": 26,
     "metadata": {},
     "output_type": "execute_result"
    }
   ],
   "source": [
    "df['other_sales'].value_counts()"
   ]
  },
  {
   "cell_type": "markdown",
   "metadata": {},
   "source": [
    "Аномальные значения отсутствуют, однако многие игры не продавались (0) в остальных регионах, а некоторые продавались в больших объемах, что может сильно повлиять на среднее значение, это нужно учесть при дальнейшем анализе"
   ]
  },
  {
   "cell_type": "markdown",
   "metadata": {},
   "source": [
    "### 6. Добавление столбца с суммарными продажами"
   ]
  },
  {
   "cell_type": "code",
   "execution_count": 27,
   "metadata": {},
   "outputs": [],
   "source": [
    "df['total_sales'] = df['jp_sales'] + df['eu_sales'] + df['na_sales'] + df['other_sales']# суммируем продажи игры во всех регионах"
   ]
  },
  {
   "cell_type": "markdown",
   "metadata": {},
   "source": [
    "## Шаг 3. Исследовательский анализ данных"
   ]
  },
  {
   "cell_type": "markdown",
   "metadata": {},
   "source": [
    "### 1. Количество игр, выпущенные в разные годы"
   ]
  },
  {
   "cell_type": "code",
   "execution_count": 28,
   "metadata": {},
   "outputs": [
    {
     "data": {
      "text/plain": [
       "<AxesSubplot:>"
      ]
     },
     "execution_count": 28,
     "metadata": {},
     "output_type": "execute_result"
    },
    {
     "data": {
      "image/png": "[encoded data removed]",
      "text/plain": [
       "<Figure size 1080x720 with 1 Axes>"
      ]
     },
     "metadata": {
      "needs_background": "light"
     },
     "output_type": "display_data"
    }
   ],
   "source": [
    "df.year_of_release.hist(bins=150, figsize=(15,10))# строим гистограмму по столбцу с годом выпуска игр"
   ]
  },
  {
   "cell_type": "markdown",
   "metadata": {},
   "source": [
    "Наиболее актуальными являются данные за последние 10 лет, так как в этот период устоялись наиболее актуальные принципы разработки игр и их маркетинга, однако убирать более старые данные не стоит, так как их можно будет сгруппировать или игнорировать с помощью среза"
   ]
  },
  {
   "cell_type": "markdown",
   "metadata": {},
   "source": [
    "### 2. Продажи по платформам"
   ]
  },
  {
   "cell_type": "code",
   "execution_count": 29,
   "metadata": {},
   "outputs": [
    {
     "data": {
      "text/html": [
       "<div>\n",
       "<style scoped>\n",
       "    .dataframe tbody tr th:only-of-type {\n",
       "        vertical-align: middle;\n",
       "    }\n",
       "\n",
       "    .dataframe tbody tr th {\n",
       "        vertical-align: top;\n",
       "    }\n",
       "\n",
       "    .dataframe thead th {\n",
       "        text-align: right;\n",
       "    }\n",
       "</style>\n",
       "<table border=\"1\" class=\"dataframe\">\n",
       "  <thead>\n",
       "    <tr style=\"text-align: right;\">\n",
       "      <th></th>\n",
       "      <th>total_sales</th>\n",
       "    </tr>\n",
       "    <tr>\n",
       "      <th>platform</th>\n",
       "      <th></th>\n",
       "    </tr>\n",
       "  </thead>\n",
       "  <tbody>\n",
       "    <tr>\n",
       "      <th>2600</th>\n",
       "      <td>86.48</td>\n",
       "    </tr>\n",
       "    <tr>\n",
       "      <th>3DO</th>\n",
       "      <td>0.10</td>\n",
       "    </tr>\n",
       "    <tr>\n",
       "      <th>3DS</th>\n",
       "      <td>257.81</td>\n",
       "    </tr>\n",
       "    <tr>\n",
       "      <th>DC</th>\n",
       "      <td>15.95</td>\n",
       "    </tr>\n",
       "    <tr>\n",
       "      <th>DS</th>\n",
       "      <td>802.78</td>\n",
       "    </tr>\n",
       "    <tr>\n",
       "      <th>GB</th>\n",
       "      <td>254.43</td>\n",
       "    </tr>\n",
       "    <tr>\n",
       "      <th>GBA</th>\n",
       "      <td>312.88</td>\n",
       "    </tr>\n",
       "    <tr>\n",
       "      <th>GC</th>\n",
       "      <td>196.73</td>\n",
       "    </tr>\n",
       "    <tr>\n",
       "      <th>GEN</th>\n",
       "      <td>28.35</td>\n",
       "    </tr>\n",
       "    <tr>\n",
       "      <th>GG</th>\n",
       "      <td>0.04</td>\n",
       "    </tr>\n",
       "    <tr>\n",
       "      <th>N64</th>\n",
       "      <td>218.01</td>\n",
       "    </tr>\n",
       "    <tr>\n",
       "      <th>NES</th>\n",
       "      <td>251.05</td>\n",
       "    </tr>\n",
       "    <tr>\n",
       "      <th>NG</th>\n",
       "      <td>1.44</td>\n",
       "    </tr>\n",
       "    <tr>\n",
       "      <th>PC</th>\n",
       "      <td>255.76</td>\n",
       "    </tr>\n",
       "    <tr>\n",
       "      <th>PCFX</th>\n",
       "      <td>0.03</td>\n",
       "    </tr>\n",
       "    <tr>\n",
       "      <th>PS</th>\n",
       "      <td>727.58</td>\n",
       "    </tr>\n",
       "    <tr>\n",
       "      <th>PS2</th>\n",
       "      <td>1233.56</td>\n",
       "    </tr>\n",
       "    <tr>\n",
       "      <th>PS3</th>\n",
       "      <td>931.34</td>\n",
       "    </tr>\n",
       "    <tr>\n",
       "      <th>PS4</th>\n",
       "      <td>314.14</td>\n",
       "    </tr>\n",
       "    <tr>\n",
       "      <th>PSP</th>\n",
       "      <td>289.53</td>\n",
       "    </tr>\n",
       "    <tr>\n",
       "      <th>PSV</th>\n",
       "      <td>53.81</td>\n",
       "    </tr>\n",
       "    <tr>\n",
       "      <th>SAT</th>\n",
       "      <td>33.59</td>\n",
       "    </tr>\n",
       "    <tr>\n",
       "      <th>SCD</th>\n",
       "      <td>1.86</td>\n",
       "    </tr>\n",
       "    <tr>\n",
       "      <th>SNES</th>\n",
       "      <td>200.04</td>\n",
       "    </tr>\n",
       "    <tr>\n",
       "      <th>TG16</th>\n",
       "      <td>0.16</td>\n",
       "    </tr>\n",
       "    <tr>\n",
       "      <th>WS</th>\n",
       "      <td>1.42</td>\n",
       "    </tr>\n",
       "    <tr>\n",
       "      <th>Wii</th>\n",
       "      <td>891.18</td>\n",
       "    </tr>\n",
       "    <tr>\n",
       "      <th>WiiU</th>\n",
       "      <td>82.19</td>\n",
       "    </tr>\n",
       "    <tr>\n",
       "      <th>X360</th>\n",
       "      <td>961.24</td>\n",
       "    </tr>\n",
       "    <tr>\n",
       "      <th>XB</th>\n",
       "      <td>251.57</td>\n",
       "    </tr>\n",
       "    <tr>\n",
       "      <th>XOne</th>\n",
       "      <td>159.32</td>\n",
       "    </tr>\n",
       "  </tbody>\n",
       "</table>\n",
       "</div>"
      ],
      "text/plain": [
       "          total_sales\n",
       "platform             \n",
       "2600            86.48\n",
       "3DO              0.10\n",
       "3DS            257.81\n",
       "DC              15.95\n",
       "DS             802.78\n",
       "GB             254.43\n",
       "GBA            312.88\n",
       "GC             196.73\n",
       "GEN             28.35\n",
       "GG               0.04\n",
       "N64            218.01\n",
       "NES            251.05\n",
       "NG               1.44\n",
       "PC             255.76\n",
       "PCFX             0.03\n",
       "PS             727.58\n",
       "PS2           1233.56\n",
       "PS3            931.34\n",
       "PS4            314.14\n",
       "PSP            289.53\n",
       "PSV             53.81\n",
       "SAT             33.59\n",
       "SCD              1.86\n",
       "SNES           200.04\n",
       "TG16             0.16\n",
       "WS               1.42\n",
       "Wii            891.18\n",
       "WiiU            82.19\n",
       "X360           961.24\n",
       "XB             251.57\n",
       "XOne           159.32"
      ]
     },
     "execution_count": 29,
     "metadata": {},
     "output_type": "execute_result"
    }
   ],
   "source": [
    "df.pivot_table(values = 'total_sales', index='platform', aggfunc='sum')# сводная таблица суммарных продаж по платформам"
   ]
  },
  {
   "cell_type": "markdown",
   "metadata": {},
   "source": [
    "Возьмем топ 10 платформ по продажам за основу и построим график по годам"
   ]
  },
  {
   "cell_type": "markdown",
   "metadata": {},
   "source": []
  },
  {
   "cell_type": "code",
   "execution_count": 30,
   "metadata": {},
   "outputs": [
    {
     "data": {
      "text/plain": [
       "<AxesSubplot:xlabel='year_of_release'>"
      ]
     },
     "execution_count": 30,
     "metadata": {},
     "output_type": "execute_result"
    },
    {
     "data": {
      "image/png": "[encoded data removed]",
      "text/plain": [
       "<Figure size 1080x720 with 1 Axes>"
      ]
     },
     "metadata": {
      "needs_background": "light"
     },
     "output_type": "display_data"
    }
   ],
   "source": [
    "df.query('platform in [\"PS2\", \"X360\", \"PS3\", \"Wii\", \"DS\", \"PS\", \"PS4\", \"GBA\", \"PSP\", \"3DS\"]')\\\n",
    "    .pivot_table(values = 'total_sales', columns='platform',index='year_of_release', aggfunc='sum')\\\n",
    "    .plot(figsize=(15,10),  grid=True)\n",
    "# делаем срез с топ 1 платформами, строим сводную таблицу по годам выпуска и строим график"
   ]
  },
  {
   "cell_type": "markdown",
   "metadata": {},
   "source": [
    "Так как данные до 2016 года, о характерной продолжительности жизни платформы мы можем судить только по уже закрытым или с очень низкими продажами в последний годы, в среднем, платформы живут около 10 лет, что хорошо видно по графику, при этом у них всех есть пик продаж в определенный год, после чего идет характерное снижение продаж."
   ]
  },
  {
   "cell_type": "markdown",
   "metadata": {},
   "source": [
    "### 3. Выбор актуальных данных"
   ]
  },
  {
   "cell_type": "markdown",
   "metadata": {},
   "source": [
    "Актуальными будем считать данные с 2013, в этом году появилась платформа PS4 - она вошла в топ 10 по продажам за всю историю игровой индустрии, при этом являясь наиболее актуальной, так как ее жизненный цикл еще не дошел до половины, если смотреть на среднее время жизни платформ."
   ]
  },
  {
   "cell_type": "code",
   "execution_count": 31,
   "metadata": {},
   "outputs": [],
   "source": [
    "df_actual = df.query('year_of_release >= 2013')# делаем срез с данными с 2013 года"
   ]
  },
  {
   "cell_type": "markdown",
   "metadata": {},
   "source": [
    "### 4. Анализ продаж и других показателей платформ"
   ]
  },
  {
   "cell_type": "code",
   "execution_count": 32,
   "metadata": {},
   "outputs": [
    {
     "data": {
      "text/plain": [
       "<AxesSubplot:xlabel='year_of_release'>"
      ]
     },
     "execution_count": 32,
     "metadata": {},
     "output_type": "execute_result"
    },
    {
     "data": {
      "image/png": "[encoded data removed]",
      "text/plain": [
       "<Figure size 1080x720 with 1 Axes>"
      ]
     },
     "metadata": {
      "needs_background": "light"
     },
     "output_type": "display_data"
    }
   ],
   "source": [
    "df_actual.pivot_table(values = 'total_sales', columns='platform',index='year_of_release', aggfunc='sum') \\\n",
    "    .plot(figsize=(15,10),  grid=True)# строим такой же график, как выше, но с актуальными платформами"
   ]
  },
  {
   "cell_type": "markdown",
   "metadata": {},
   "source": [
    "На 2016 год для следующих платформ все еще продаются игры: XOne, PSV, PC, 3DS, PS3, WiiU, X360. У всех из этих платформ наблюдается спад продаж, что может быть связано с общим уменьшением количества игр. Из перечисленных потенциально прибыльными можно назвать **PS4, XOne и 3DS**, так как они имеют неплохие показатели продаж и существуют от 5 до 3 лет, что половина или меньше от примерного среднего жизненного цикла консолей, который мы выявили ранее(10 лет). Отдельно можно выделить **PC**, так как он не имеет цикла жизни и будет актуален еще долго как игровая платформа, хоть и имеет достаточно небольшие продажи игр."
   ]
  },
  {
   "cell_type": "code",
   "execution_count": 33,
   "metadata": {},
   "outputs": [
    {
     "data": {
      "text/plain": [
       "<AxesSubplot:title={'center':'total_sales'}, xlabel='platform'>"
      ]
     },
     "execution_count": 33,
     "metadata": {},
     "output_type": "execute_result"
    },
    {
     "data": {
      "image/png": "[encoded data removed]",
      "text/plain": [
       "<Figure size 1440x864 with 1 Axes>"
      ]
     },
     "metadata": {
      "needs_background": "light"
     },
     "output_type": "display_data"
    }
   ],
   "source": [
    "df_actual.boxplot(column = 'total_sales', by='platform', figsize=(20,12))# ящик с усами по глобальным продажам в разбивке по платформам"
   ]
  },
  {
   "cell_type": "markdown",
   "metadata": {},
   "source": [
    "На графике \"ящик с усами\" можно увидеть, что почти на каждой платформе есть игры, которые продаются намного лучше, чем другие - вбросы выборки здесь это именно игры с большими продажами. Особенно это заметно у наиболее популярных платформ, можно сказать, что эти вбросы и продают консоль по большей части. Самая большая разница со средним имею некоторые игры с платформы WiiU"
   ]
  },
  {
   "cell_type": "code",
   "execution_count": 34,
   "metadata": {},
   "outputs": [
    {
     "data": {
      "text/plain": [
       "<AxesSubplot:title={'center':'total_sales'}, xlabel='platform'>"
      ]
     },
     "execution_count": 34,
     "metadata": {},
     "output_type": "execute_result"
    },
    {
     "data": {
      "image/png": "[encoded data removed]",
      "text/plain": [
       "<Figure size 1440x864 with 1 Axes>"
      ]
     },
     "metadata": {
      "needs_background": "light"
     },
     "output_type": "display_data"
    }
   ],
   "source": [
    "df_actual.query('total_sales < 4').boxplot(column = 'total_sales', by='platform', figsize=(20,12))# ящик с усами по глобальным продажам в разбивке по платформам без выбросов"
   ]
  },
  {
   "cell_type": "markdown",
   "metadata": {},
   "source": [
    "В этом графике ограничили значения продаж игр до 4, чтобы сделать его более информативным убрав слишком большие по значениям вбросы<br>по графику видно, на каких платформах продажи игр имеют медианное значение больше и где игры в среднем лучше продаются - PS4, PS3, X360, XOne, Wii и WiiU"
   ]
  },
  {
   "cell_type": "markdown",
   "metadata": {},
   "source": [
    "#### Посмотрим как влияют на продажи внутри одной популярной платформы отзывы пользователей и критиков, возьмем самую популярную - PS4"
   ]
  },
  {
   "cell_type": "code",
   "execution_count": 35,
   "metadata": {},
   "outputs": [
    {
     "data": {
      "text/plain": [
       "<AxesSubplot:xlabel='user_score', ylabel='total_sales'>"
      ]
     },
     "execution_count": 35,
     "metadata": {},
     "output_type": "execute_result"
    },
    {
     "data": {
      "image/png": "[encoded data removed]",
      "text/plain": [
       "<Figure size 720x432 with 1 Axes>"
      ]
     },
     "metadata": {
      "needs_background": "light"
     },
     "output_type": "display_data"
    },
    {
     "data": {
      "image/png": "[encoded data removed]",
      "text/plain": [
       "<Figure size 720x432 with 1 Axes>"
      ]
     },
     "metadata": {
      "needs_background": "light"
     },
     "output_type": "display_data"
    }
   ],
   "source": [
    "df_actual.query('platform == \"PS4\"').plot(y='total_sales', x='critic_score', kind='scatter', figsize=(10,6), grid=True)# строим график рассеяния по срезу\n",
    "df_actual.query('platform == \"PS4\"').plot(y='total_sales', x='user_score', kind='scatter', figsize=(10,6), grid=True,c='g')"
   ]
  },
  {
   "cell_type": "code",
   "execution_count": 36,
   "metadata": {},
   "outputs": [
    {
     "data": {
      "text/html": [
       "<div>\n",
       "<style scoped>\n",
       "    .dataframe tbody tr th:only-of-type {\n",
       "        vertical-align: middle;\n",
       "    }\n",
       "\n",
       "    .dataframe tbody tr th {\n",
       "        vertical-align: top;\n",
       "    }\n",
       "\n",
       "    .dataframe thead th {\n",
       "        text-align: right;\n",
       "    }\n",
       "</style>\n",
       "<table border=\"1\" class=\"dataframe\">\n",
       "  <thead>\n",
       "    <tr style=\"text-align: right;\">\n",
       "      <th></th>\n",
       "      <th>critic_score</th>\n",
       "      <th>total_sales</th>\n",
       "    </tr>\n",
       "  </thead>\n",
       "  <tbody>\n",
       "    <tr>\n",
       "      <th>critic_score</th>\n",
       "      <td>1.000000</td>\n",
       "      <td>0.406568</td>\n",
       "    </tr>\n",
       "    <tr>\n",
       "      <th>total_sales</th>\n",
       "      <td>0.406568</td>\n",
       "      <td>1.000000</td>\n",
       "    </tr>\n",
       "  </tbody>\n",
       "</table>\n",
       "</div>"
      ],
      "text/plain": [
       "              critic_score  total_sales\n",
       "critic_score      1.000000     0.406568\n",
       "total_sales       0.406568     1.000000"
      ]
     },
     "execution_count": 36,
     "metadata": {},
     "output_type": "execute_result"
    }
   ],
   "source": [
    "df_actual.query('platform == \"PS4\"').loc[:, ['critic_score','total_sales']].corr()# смотрим корреляцию между столбцами critic_score и total_sales"
   ]
  },
  {
   "cell_type": "code",
   "execution_count": 37,
   "metadata": {},
   "outputs": [
    {
     "data": {
      "text/html": [
       "<div>\n",
       "<style scoped>\n",
       "    .dataframe tbody tr th:only-of-type {\n",
       "        vertical-align: middle;\n",
       "    }\n",
       "\n",
       "    .dataframe tbody tr th {\n",
       "        vertical-align: top;\n",
       "    }\n",
       "\n",
       "    .dataframe thead th {\n",
       "        text-align: right;\n",
       "    }\n",
       "</style>\n",
       "<table border=\"1\" class=\"dataframe\">\n",
       "  <thead>\n",
       "    <tr style=\"text-align: right;\">\n",
       "      <th></th>\n",
       "      <th>user_score</th>\n",
       "      <th>total_sales</th>\n",
       "    </tr>\n",
       "  </thead>\n",
       "  <tbody>\n",
       "    <tr>\n",
       "      <th>user_score</th>\n",
       "      <td>1.000000</td>\n",
       "      <td>-0.031957</td>\n",
       "    </tr>\n",
       "    <tr>\n",
       "      <th>total_sales</th>\n",
       "      <td>-0.031957</td>\n",
       "      <td>1.000000</td>\n",
       "    </tr>\n",
       "  </tbody>\n",
       "</table>\n",
       "</div>"
      ],
      "text/plain": [
       "             user_score  total_sales\n",
       "user_score     1.000000    -0.031957\n",
       "total_sales   -0.031957     1.000000"
      ]
     },
     "execution_count": 37,
     "metadata": {},
     "output_type": "execute_result"
    }
   ],
   "source": [
    "df_actual.query('platform == \"PS4\"').loc[:, ['user_score','total_sales']].corr()# смотрим корреляцию между столбцами user_score и total_sales"
   ]
  },
  {
   "cell_type": "markdown",
   "metadata": {},
   "source": [
    "Корреляция между столбцами critic_score и total_sales по платформе PS4 - 0.4, что является низким уровнем. Однако, если смотреть на график, то можно увидеть, что игры, которые получили хорошую оценку у критиков, имеют огромные продажи - игра с оценкой 97 является самой продаваемой игрой на платформе, а количество игр с продажами выше среднего чаще появляются, если оценка критиков больше 70. Можно сказать, что отдельно взятая игра может продаться намного лучше с высокой оценкой критиков, однако большинство игр даже с высокой оценкой могут не принести большой прибыли.<br>С оценками пользователей немного другие результаты, на графике видно, что есть игры с низкой оценкой пользователей, но с высокими продажами. Это может значить, что игру купили из-за высокой оценки критиков, а сама игра оказалась посредственной. В остальном тенденция сравнима с зависимостью оценок критиков и продаж. Корреляция очень слабая, почти отсутствует.<br>Сравним с другими платформами из выделенных потенциальных"
   ]
  },
  {
   "cell_type": "markdown",
   "metadata": {},
   "source": [
    "**XOne**"
   ]
  },
  {
   "cell_type": "code",
   "execution_count": 38,
   "metadata": {},
   "outputs": [
    {
     "data": {
      "text/plain": [
       "<AxesSubplot:xlabel='user_score', ylabel='total_sales'>"
      ]
     },
     "execution_count": 38,
     "metadata": {},
     "output_type": "execute_result"
    },
    {
     "data": {
      "image/png": "[encoded data removed]",
      "text/plain": [
       "<Figure size 720x432 with 1 Axes>"
      ]
     },
     "metadata": {
      "needs_background": "light"
     },
     "output_type": "display_data"
    },
    {
     "data": {
      "image/png": "[encoded data removed]",
      "text/plain": [
       "<Figure size 720x432 with 1 Axes>"
      ]
     },
     "metadata": {
      "needs_background": "light"
     },
     "output_type": "display_data"
    }
   ],
   "source": [
    "df_actual.query('platform == \"XOne\"').plot(y='total_sales', x='critic_score', kind='scatter', figsize=(10,6), grid=True)\n",
    "df_actual.query('platform == \"XOne\"').plot(y='total_sales', x='user_score', kind='scatter', figsize=(10,6), grid=True,c='g')"
   ]
  },
  {
   "cell_type": "code",
   "execution_count": 39,
   "metadata": {},
   "outputs": [
    {
     "data": {
      "text/html": [
       "<div>\n",
       "<style scoped>\n",
       "    .dataframe tbody tr th:only-of-type {\n",
       "        vertical-align: middle;\n",
       "    }\n",
       "\n",
       "    .dataframe tbody tr th {\n",
       "        vertical-align: top;\n",
       "    }\n",
       "\n",
       "    .dataframe thead th {\n",
       "        text-align: right;\n",
       "    }\n",
       "</style>\n",
       "<table border=\"1\" class=\"dataframe\">\n",
       "  <thead>\n",
       "    <tr style=\"text-align: right;\">\n",
       "      <th></th>\n",
       "      <th>critic_score</th>\n",
       "      <th>total_sales</th>\n",
       "    </tr>\n",
       "  </thead>\n",
       "  <tbody>\n",
       "    <tr>\n",
       "      <th>critic_score</th>\n",
       "      <td>1.000000</td>\n",
       "      <td>0.416998</td>\n",
       "    </tr>\n",
       "    <tr>\n",
       "      <th>total_sales</th>\n",
       "      <td>0.416998</td>\n",
       "      <td>1.000000</td>\n",
       "    </tr>\n",
       "  </tbody>\n",
       "</table>\n",
       "</div>"
      ],
      "text/plain": [
       "              critic_score  total_sales\n",
       "critic_score      1.000000     0.416998\n",
       "total_sales       0.416998     1.000000"
      ]
     },
     "execution_count": 39,
     "metadata": {},
     "output_type": "execute_result"
    }
   ],
   "source": [
    "df_actual.query('platform == \"XOne\"').loc[:, ['critic_score', 'total_sales']].corr()"
   ]
  },
  {
   "cell_type": "code",
   "execution_count": 40,
   "metadata": {},
   "outputs": [
    {
     "data": {
      "text/html": [
       "<div>\n",
       "<style scoped>\n",
       "    .dataframe tbody tr th:only-of-type {\n",
       "        vertical-align: middle;\n",
       "    }\n",
       "\n",
       "    .dataframe tbody tr th {\n",
       "        vertical-align: top;\n",
       "    }\n",
       "\n",
       "    .dataframe thead th {\n",
       "        text-align: right;\n",
       "    }\n",
       "</style>\n",
       "<table border=\"1\" class=\"dataframe\">\n",
       "  <thead>\n",
       "    <tr style=\"text-align: right;\">\n",
       "      <th></th>\n",
       "      <th>user_score</th>\n",
       "      <th>total_sales</th>\n",
       "    </tr>\n",
       "  </thead>\n",
       "  <tbody>\n",
       "    <tr>\n",
       "      <th>user_score</th>\n",
       "      <td>1.000000</td>\n",
       "      <td>-0.068925</td>\n",
       "    </tr>\n",
       "    <tr>\n",
       "      <th>total_sales</th>\n",
       "      <td>-0.068925</td>\n",
       "      <td>1.000000</td>\n",
       "    </tr>\n",
       "  </tbody>\n",
       "</table>\n",
       "</div>"
      ],
      "text/plain": [
       "             user_score  total_sales\n",
       "user_score     1.000000    -0.068925\n",
       "total_sales   -0.068925     1.000000"
      ]
     },
     "execution_count": 40,
     "metadata": {},
     "output_type": "execute_result"
    }
   ],
   "source": [
    "df_actual.query('platform == \"XOne\"').loc[:, ['user_score','total_sales']].corr()"
   ]
  },
  {
   "cell_type": "markdown",
   "metadata": {},
   "source": [
    "**3DS**"
   ]
  },
  {
   "cell_type": "code",
   "execution_count": 41,
   "metadata": {},
   "outputs": [
    {
     "data": {
      "text/plain": [
       "<AxesSubplot:xlabel='user_score', ylabel='total_sales'>"
      ]
     },
     "execution_count": 41,
     "metadata": {},
     "output_type": "execute_result"
    },
    {
     "data": {
      "image/png": "[encoded data removed]",
      "text/plain": [
       "<Figure size 720x432 with 1 Axes>"
      ]
     },
     "metadata": {
      "needs_background": "light"
     },
     "output_type": "display_data"
    },
    {
     "data": {
      "image/png": "[encoded data removed]",
      "text/plain": [
       "<Figure size 720x432 with 1 Axes>"
      ]
     },
     "metadata": {
      "needs_background": "light"
     },
     "output_type": "display_data"
    }
   ],
   "source": [
    "df_actual.query('platform == \"3DS\"').plot(y='total_sales', x='critic_score', kind='scatter', figsize=(10,6), grid=True)\n",
    "df_actual.query('platform == \"3DS\"').plot(y='total_sales', x='user_score', kind='scatter', figsize=(10,6), grid=True,c='g')"
   ]
  },
  {
   "cell_type": "code",
   "execution_count": 42,
   "metadata": {},
   "outputs": [
    {
     "data": {
      "text/html": [
       "<div>\n",
       "<style scoped>\n",
       "    .dataframe tbody tr th:only-of-type {\n",
       "        vertical-align: middle;\n",
       "    }\n",
       "\n",
       "    .dataframe tbody tr th {\n",
       "        vertical-align: top;\n",
       "    }\n",
       "\n",
       "    .dataframe thead th {\n",
       "        text-align: right;\n",
       "    }\n",
       "</style>\n",
       "<table border=\"1\" class=\"dataframe\">\n",
       "  <thead>\n",
       "    <tr style=\"text-align: right;\">\n",
       "      <th></th>\n",
       "      <th>critic_score</th>\n",
       "      <th>total_sales</th>\n",
       "    </tr>\n",
       "  </thead>\n",
       "  <tbody>\n",
       "    <tr>\n",
       "      <th>critic_score</th>\n",
       "      <td>1.000000</td>\n",
       "      <td>0.357057</td>\n",
       "    </tr>\n",
       "    <tr>\n",
       "      <th>total_sales</th>\n",
       "      <td>0.357057</td>\n",
       "      <td>1.000000</td>\n",
       "    </tr>\n",
       "  </tbody>\n",
       "</table>\n",
       "</div>"
      ],
      "text/plain": [
       "              critic_score  total_sales\n",
       "critic_score      1.000000     0.357057\n",
       "total_sales       0.357057     1.000000"
      ]
     },
     "execution_count": 42,
     "metadata": {},
     "output_type": "execute_result"
    }
   ],
   "source": [
    "df_actual.query('platform == \"3DS\"').loc[:, ['critic_score', 'total_sales']].corr()"
   ]
  },
  {
   "cell_type": "code",
   "execution_count": 43,
   "metadata": {},
   "outputs": [
    {
     "data": {
      "text/html": [
       "<div>\n",
       "<style scoped>\n",
       "    .dataframe tbody tr th:only-of-type {\n",
       "        vertical-align: middle;\n",
       "    }\n",
       "\n",
       "    .dataframe tbody tr th {\n",
       "        vertical-align: top;\n",
       "    }\n",
       "\n",
       "    .dataframe thead th {\n",
       "        text-align: right;\n",
       "    }\n",
       "</style>\n",
       "<table border=\"1\" class=\"dataframe\">\n",
       "  <thead>\n",
       "    <tr style=\"text-align: right;\">\n",
       "      <th></th>\n",
       "      <th>user_score</th>\n",
       "      <th>total_sales</th>\n",
       "    </tr>\n",
       "  </thead>\n",
       "  <tbody>\n",
       "    <tr>\n",
       "      <th>user_score</th>\n",
       "      <td>1.000000</td>\n",
       "      <td>0.241504</td>\n",
       "    </tr>\n",
       "    <tr>\n",
       "      <th>total_sales</th>\n",
       "      <td>0.241504</td>\n",
       "      <td>1.000000</td>\n",
       "    </tr>\n",
       "  </tbody>\n",
       "</table>\n",
       "</div>"
      ],
      "text/plain": [
       "             user_score  total_sales\n",
       "user_score     1.000000     0.241504\n",
       "total_sales    0.241504     1.000000"
      ]
     },
     "execution_count": 43,
     "metadata": {},
     "output_type": "execute_result"
    }
   ],
   "source": [
    "df_actual.query('platform == \"3DS\"').loc[:, ['user_score','total_sales']].corr()"
   ]
  },
  {
   "cell_type": "markdown",
   "metadata": {},
   "source": [
    "**PC**"
   ]
  },
  {
   "cell_type": "code",
   "execution_count": 44,
   "metadata": {},
   "outputs": [
    {
     "data": {
      "text/plain": [
       "<AxesSubplot:xlabel='user_score', ylabel='total_sales'>"
      ]
     },
     "execution_count": 44,
     "metadata": {},
     "output_type": "execute_result"
    },
    {
     "data": {
      "image/png": "[encoded data removed]",
      "text/plain": [
       "<Figure size 720x432 with 1 Axes>"
      ]
     },
     "metadata": {
      "needs_background": "light"
     },
     "output_type": "display_data"
    },
    {
     "data": {
      "image/png": "[encoded data removed]",
      "text/plain": [
       "<Figure size 720x432 with 1 Axes>"
      ]
     },
     "metadata": {
      "needs_background": "light"
     },
     "output_type": "display_data"
    }
   ],
   "source": [
    "df_actual.query('platform == \"PC\"').plot(y='total_sales', x='critic_score', kind='scatter', figsize=(10,6), grid=True)\n",
    "df_actual.query('platform == \"PC\"').plot(y='total_sales', x='user_score', kind='scatter', figsize=(10,6), grid=True,c='g')"
   ]
  },
  {
   "cell_type": "code",
   "execution_count": 45,
   "metadata": {},
   "outputs": [
    {
     "data": {
      "text/html": [
       "<div>\n",
       "<style scoped>\n",
       "    .dataframe tbody tr th:only-of-type {\n",
       "        vertical-align: middle;\n",
       "    }\n",
       "\n",
       "    .dataframe tbody tr th {\n",
       "        vertical-align: top;\n",
       "    }\n",
       "\n",
       "    .dataframe thead th {\n",
       "        text-align: right;\n",
       "    }\n",
       "</style>\n",
       "<table border=\"1\" class=\"dataframe\">\n",
       "  <thead>\n",
       "    <tr style=\"text-align: right;\">\n",
       "      <th></th>\n",
       "      <th>critic_score</th>\n",
       "      <th>total_sales</th>\n",
       "    </tr>\n",
       "  </thead>\n",
       "  <tbody>\n",
       "    <tr>\n",
       "      <th>critic_score</th>\n",
       "      <td>1.00000</td>\n",
       "      <td>0.19603</td>\n",
       "    </tr>\n",
       "    <tr>\n",
       "      <th>total_sales</th>\n",
       "      <td>0.19603</td>\n",
       "      <td>1.00000</td>\n",
       "    </tr>\n",
       "  </tbody>\n",
       "</table>\n",
       "</div>"
      ],
      "text/plain": [
       "              critic_score  total_sales\n",
       "critic_score       1.00000      0.19603\n",
       "total_sales        0.19603      1.00000"
      ]
     },
     "execution_count": 45,
     "metadata": {},
     "output_type": "execute_result"
    }
   ],
   "source": [
    "df_actual.query('platform == \"PC\"').loc[:, ['critic_score', 'total_sales']].corr()"
   ]
  },
  {
   "cell_type": "code",
   "execution_count": 46,
   "metadata": {},
   "outputs": [
    {
     "data": {
      "text/html": [
       "<div>\n",
       "<style scoped>\n",
       "    .dataframe tbody tr th:only-of-type {\n",
       "        vertical-align: middle;\n",
       "    }\n",
       "\n",
       "    .dataframe tbody tr th {\n",
       "        vertical-align: top;\n",
       "    }\n",
       "\n",
       "    .dataframe thead th {\n",
       "        text-align: right;\n",
       "    }\n",
       "</style>\n",
       "<table border=\"1\" class=\"dataframe\">\n",
       "  <thead>\n",
       "    <tr style=\"text-align: right;\">\n",
       "      <th></th>\n",
       "      <th>user_score</th>\n",
       "      <th>total_sales</th>\n",
       "    </tr>\n",
       "  </thead>\n",
       "  <tbody>\n",
       "    <tr>\n",
       "      <th>user_score</th>\n",
       "      <td>1.000000</td>\n",
       "      <td>-0.093842</td>\n",
       "    </tr>\n",
       "    <tr>\n",
       "      <th>total_sales</th>\n",
       "      <td>-0.093842</td>\n",
       "      <td>1.000000</td>\n",
       "    </tr>\n",
       "  </tbody>\n",
       "</table>\n",
       "</div>"
      ],
      "text/plain": [
       "             user_score  total_sales\n",
       "user_score     1.000000    -0.093842\n",
       "total_sales   -0.093842     1.000000"
      ]
     },
     "execution_count": 46,
     "metadata": {},
     "output_type": "execute_result"
    }
   ],
   "source": [
    "df_actual.query('platform == \"PC\"').loc[:, ['user_score','total_sales']].corr()"
   ]
  },
  {
   "cell_type": "markdown",
   "metadata": {},
   "source": [
    "Получили схожие результаты по другим платформам, на PC корреляция еще ниже, это может быть связано с отсутствием на платформе эксклюзивных консольных игры, которые обычно имеют высокие оценки и \"продают\" платформу<br>На платформе 3DS нет выделяющихся высоких продаж у игр с низким пользовательским рейтингом и корреляция выше"
   ]
  },
  {
   "cell_type": "markdown",
   "metadata": {},
   "source": [
    "#### Распределение игр по жанрам"
   ]
  },
  {
   "cell_type": "code",
   "execution_count": 47,
   "metadata": {},
   "outputs": [
    {
     "data": {
      "text/html": [
       "<div>\n",
       "<style scoped>\n",
       "    .dataframe tbody tr th:only-of-type {\n",
       "        vertical-align: middle;\n",
       "    }\n",
       "\n",
       "    .dataframe tbody tr th {\n",
       "        vertical-align: top;\n",
       "    }\n",
       "\n",
       "    .dataframe thead tr th {\n",
       "        text-align: left;\n",
       "    }\n",
       "\n",
       "    .dataframe thead tr:last-of-type th {\n",
       "        text-align: right;\n",
       "    }\n",
       "</style>\n",
       "<table border=\"1\" class=\"dataframe\">\n",
       "  <thead>\n",
       "    <tr>\n",
       "      <th></th>\n",
       "      <th>median</th>\n",
       "      <th>mean</th>\n",
       "    </tr>\n",
       "    <tr>\n",
       "      <th></th>\n",
       "      <th>total_sales</th>\n",
       "      <th>total_sales</th>\n",
       "    </tr>\n",
       "    <tr>\n",
       "      <th>genre</th>\n",
       "      <th></th>\n",
       "      <th></th>\n",
       "    </tr>\n",
       "  </thead>\n",
       "  <tbody>\n",
       "    <tr>\n",
       "      <th>Action</th>\n",
       "      <td>0.110</td>\n",
       "      <td>0.420196</td>\n",
       "    </tr>\n",
       "    <tr>\n",
       "      <th>Adventure</th>\n",
       "      <td>0.030</td>\n",
       "      <td>0.096490</td>\n",
       "    </tr>\n",
       "    <tr>\n",
       "      <th>Fighting</th>\n",
       "      <td>0.125</td>\n",
       "      <td>0.441375</td>\n",
       "    </tr>\n",
       "    <tr>\n",
       "      <th>Misc</th>\n",
       "      <td>0.100</td>\n",
       "      <td>0.405290</td>\n",
       "    </tr>\n",
       "    <tr>\n",
       "      <th>Platform</th>\n",
       "      <td>0.225</td>\n",
       "      <td>0.576081</td>\n",
       "    </tr>\n",
       "    <tr>\n",
       "      <th>Puzzle</th>\n",
       "      <td>0.060</td>\n",
       "      <td>0.186471</td>\n",
       "    </tr>\n",
       "    <tr>\n",
       "      <th>Racing</th>\n",
       "      <td>0.120</td>\n",
       "      <td>0.469294</td>\n",
       "    </tr>\n",
       "    <tr>\n",
       "      <th>Role-Playing</th>\n",
       "      <td>0.125</td>\n",
       "      <td>0.499623</td>\n",
       "    </tr>\n",
       "    <tr>\n",
       "      <th>Shooter</th>\n",
       "      <td>0.450</td>\n",
       "      <td>1.245882</td>\n",
       "    </tr>\n",
       "    <tr>\n",
       "      <th>Simulation</th>\n",
       "      <td>0.100</td>\n",
       "      <td>0.350968</td>\n",
       "    </tr>\n",
       "    <tr>\n",
       "      <th>Sports</th>\n",
       "      <td>0.240</td>\n",
       "      <td>0.703972</td>\n",
       "    </tr>\n",
       "    <tr>\n",
       "      <th>Strategy</th>\n",
       "      <td>0.080</td>\n",
       "      <td>0.180000</td>\n",
       "    </tr>\n",
       "  </tbody>\n",
       "</table>\n",
       "</div>"
      ],
      "text/plain": [
       "                  median        mean\n",
       "             total_sales total_sales\n",
       "genre                               \n",
       "Action             0.110    0.420196\n",
       "Adventure          0.030    0.096490\n",
       "Fighting           0.125    0.441375\n",
       "Misc               0.100    0.405290\n",
       "Platform           0.225    0.576081\n",
       "Puzzle             0.060    0.186471\n",
       "Racing             0.120    0.469294\n",
       "Role-Playing       0.125    0.499623\n",
       "Shooter            0.450    1.245882\n",
       "Simulation         0.100    0.350968\n",
       "Sports             0.240    0.703972\n",
       "Strategy           0.080    0.180000"
      ]
     },
     "execution_count": 47,
     "metadata": {},
     "output_type": "execute_result"
    }
   ],
   "source": [
    "df_actual.pivot_table(values='total_sales', index='genre', aggfunc=['median','mean'])#сводная таблица по количеству и средним и медианным продажам игр по жанрам"
   ]
  },
  {
   "cell_type": "code",
   "execution_count": 48,
   "metadata": {},
   "outputs": [
    {
     "data": {
      "text/plain": [
       "<AxesSubplot:xlabel='genre'>"
      ]
     },
     "execution_count": 48,
     "metadata": {},
     "output_type": "execute_result"
    },
    {
     "data": {
      "image/png": "[encoded data removed]",
      "text/plain": [
       "<Figure size 1080x432 with 1 Axes>"
      ]
     },
     "metadata": {
      "needs_background": "light"
     },
     "output_type": "display_data"
    }
   ],
   "source": [
    "df_actual.pivot_table(values='total_sales', index='genre', aggfunc=['count','sum']).plot(kind='bar', figsize=(15,6))# столбчатая диаграмма по сводной таблице"
   ]
  },
  {
   "cell_type": "markdown",
   "metadata": {},
   "source": [
    "По сводной таблице видно, что, чем больше игр выпущено в определенном жанре, тем больше его продажи. Абсолютным фаворитом является жанр action, здесь больше всего игр и продаж<br>Самым малочисленным жанром является игры-пазлы, а меньше всего продаж у стратегий<br>Отдельно можно выделить то, что у игр жанра adventure довольно много, однако прибыли они приносят очень мало<br>Спортивные игры приносят довольно много прибыли, хотя их почти в два раза меньше, чем игр жанра action<br>У игр жанра шутер очень близкие значения в обоих столбцах - можно сказать, что в среднем каждый шутер стабильно приносит одинаковую прибыль<br>Построим еще один график со средним и медианой продаж, чтобы проверить предположения\n"
   ]
  },
  {
   "cell_type": "code",
   "execution_count": 49,
   "metadata": {},
   "outputs": [
    {
     "data": {
      "text/plain": [
       "<AxesSubplot:xlabel='genre'>"
      ]
     },
     "execution_count": 49,
     "metadata": {},
     "output_type": "execute_result"
    },
    {
     "data": {
      "image/png": "[encoded data removed]",
      "text/plain": [
       "<Figure size 1080x432 with 1 Axes>"
      ]
     },
     "metadata": {
      "needs_background": "light"
     },
     "output_type": "display_data"
    }
   ],
   "source": [
    "df_actual.pivot_table(values='total_sales', index='genre', aggfunc=['mean','median']).plot(kind='bar', figsize=(15,6))# столбчатая диаграмма по сводной таблице"
   ]
  },
  {
   "cell_type": "markdown",
   "metadata": {},
   "source": [
    "На графике видно, что, при больших суммах продаж, средняя игра в жанре action в среднем приносит не такой большой доход, берет количеством. Самым прибыльным жанром оказался shooter, sports и platform, если смотреть по медианному значению. В жанрах, где среднее сильно превышает медиану, есть игры, которые очень сильно превзошли продажи большинства игры, их мы видели на графике с усами."
   ]
  },
  {
   "cell_type": "markdown",
   "metadata": {},
   "source": [
    "## 4. Портрет пользователя каждого региона"
   ]
  },
  {
   "cell_type": "markdown",
   "metadata": {},
   "source": [
    "### Регион NA"
   ]
  },
  {
   "cell_type": "code",
   "execution_count": 50,
   "metadata": {},
   "outputs": [
    {
     "data": {
      "text/html": [
       "<div>\n",
       "<style scoped>\n",
       "    .dataframe tbody tr th:only-of-type {\n",
       "        vertical-align: middle;\n",
       "    }\n",
       "\n",
       "    .dataframe tbody tr th {\n",
       "        vertical-align: top;\n",
       "    }\n",
       "\n",
       "    .dataframe thead th {\n",
       "        text-align: right;\n",
       "    }\n",
       "</style>\n",
       "<table border=\"1\" class=\"dataframe\">\n",
       "  <thead>\n",
       "    <tr style=\"text-align: right;\">\n",
       "      <th></th>\n",
       "      <th>na_sales</th>\n",
       "    </tr>\n",
       "    <tr>\n",
       "      <th>platform</th>\n",
       "      <th></th>\n",
       "    </tr>\n",
       "  </thead>\n",
       "  <tbody>\n",
       "    <tr>\n",
       "      <th>3DS</th>\n",
       "      <td>38.20</td>\n",
       "    </tr>\n",
       "    <tr>\n",
       "      <th>DS</th>\n",
       "      <td>0.57</td>\n",
       "    </tr>\n",
       "    <tr>\n",
       "      <th>PC</th>\n",
       "      <td>11.11</td>\n",
       "    </tr>\n",
       "    <tr>\n",
       "      <th>PS3</th>\n",
       "      <td>63.50</td>\n",
       "    </tr>\n",
       "    <tr>\n",
       "      <th>PS4</th>\n",
       "      <td>108.74</td>\n",
       "    </tr>\n",
       "    <tr>\n",
       "      <th>PSP</th>\n",
       "      <td>0.00</td>\n",
       "    </tr>\n",
       "    <tr>\n",
       "      <th>PSV</th>\n",
       "      <td>5.04</td>\n",
       "    </tr>\n",
       "    <tr>\n",
       "      <th>Wii</th>\n",
       "      <td>6.56</td>\n",
       "    </tr>\n",
       "    <tr>\n",
       "      <th>WiiU</th>\n",
       "      <td>29.21</td>\n",
       "    </tr>\n",
       "    <tr>\n",
       "      <th>X360</th>\n",
       "      <td>81.66</td>\n",
       "    </tr>\n",
       "    <tr>\n",
       "      <th>XOne</th>\n",
       "      <td>93.12</td>\n",
       "    </tr>\n",
       "  </tbody>\n",
       "</table>\n",
       "</div>"
      ],
      "text/plain": [
       "          na_sales\n",
       "platform          \n",
       "3DS          38.20\n",
       "DS            0.57\n",
       "PC           11.11\n",
       "PS3          63.50\n",
       "PS4         108.74\n",
       "PSP           0.00\n",
       "PSV           5.04\n",
       "Wii           6.56\n",
       "WiiU         29.21\n",
       "X360         81.66\n",
       "XOne         93.12"
      ]
     },
     "execution_count": 50,
     "metadata": {},
     "output_type": "execute_result"
    }
   ],
   "source": [
    "df_actual.pivot_table(values='na_sales', index='platform', aggfunc='sum')# сводная таблица по платформам в регионе NA"
   ]
  },
  {
   "cell_type": "code",
   "execution_count": 51,
   "metadata": {},
   "outputs": [
    {
     "data": {
      "text/plain": [
       "<AxesSubplot:xlabel='platform'>"
      ]
     },
     "execution_count": 51,
     "metadata": {},
     "output_type": "execute_result"
    },
    {
     "data": {
      "image/png": "[encoded data removed]",
      "text/plain": [
       "<Figure size 1080x432 with 1 Axes>"
      ]
     },
     "metadata": {
      "needs_background": "light"
     },
     "output_type": "display_data"
    }
   ],
   "source": [
    "df_actual.pivot_table(values='na_sales', index='platform', aggfunc='sum').plot(kind='bar', figsize=(15,6), grid=True)# столбчатая диаграмма по платформам в регионе NA"
   ]
  },
  {
   "cell_type": "code",
   "execution_count": 52,
   "metadata": {},
   "outputs": [
    {
     "data": {
      "text/html": [
       "<div>\n",
       "<style scoped>\n",
       "    .dataframe tbody tr th:only-of-type {\n",
       "        vertical-align: middle;\n",
       "    }\n",
       "\n",
       "    .dataframe tbody tr th {\n",
       "        vertical-align: top;\n",
       "    }\n",
       "\n",
       "    .dataframe thead th {\n",
       "        text-align: right;\n",
       "    }\n",
       "</style>\n",
       "<table border=\"1\" class=\"dataframe\">\n",
       "  <thead>\n",
       "    <tr style=\"text-align: right;\">\n",
       "      <th></th>\n",
       "      <th>na_sales</th>\n",
       "    </tr>\n",
       "    <tr>\n",
       "      <th>genre</th>\n",
       "      <th></th>\n",
       "    </tr>\n",
       "  </thead>\n",
       "  <tbody>\n",
       "    <tr>\n",
       "      <th>Action</th>\n",
       "      <td>126.05</td>\n",
       "    </tr>\n",
       "    <tr>\n",
       "      <th>Adventure</th>\n",
       "      <td>7.14</td>\n",
       "    </tr>\n",
       "    <tr>\n",
       "      <th>Fighting</th>\n",
       "      <td>15.55</td>\n",
       "    </tr>\n",
       "    <tr>\n",
       "      <th>Misc</th>\n",
       "      <td>27.49</td>\n",
       "    </tr>\n",
       "    <tr>\n",
       "      <th>Platform</th>\n",
       "      <td>18.14</td>\n",
       "    </tr>\n",
       "    <tr>\n",
       "      <th>Puzzle</th>\n",
       "      <td>0.83</td>\n",
       "    </tr>\n",
       "    <tr>\n",
       "      <th>Racing</th>\n",
       "      <td>12.96</td>\n",
       "    </tr>\n",
       "    <tr>\n",
       "      <th>Role-Playing</th>\n",
       "      <td>46.40</td>\n",
       "    </tr>\n",
       "    <tr>\n",
       "      <th>Shooter</th>\n",
       "      <td>109.74</td>\n",
       "    </tr>\n",
       "    <tr>\n",
       "      <th>Simulation</th>\n",
       "      <td>4.86</td>\n",
       "    </tr>\n",
       "    <tr>\n",
       "      <th>Sports</th>\n",
       "      <td>65.27</td>\n",
       "    </tr>\n",
       "    <tr>\n",
       "      <th>Strategy</th>\n",
       "      <td>3.28</td>\n",
       "    </tr>\n",
       "  </tbody>\n",
       "</table>\n",
       "</div>"
      ],
      "text/plain": [
       "              na_sales\n",
       "genre                 \n",
       "Action          126.05\n",
       "Adventure         7.14\n",
       "Fighting         15.55\n",
       "Misc             27.49\n",
       "Platform         18.14\n",
       "Puzzle            0.83\n",
       "Racing           12.96\n",
       "Role-Playing     46.40\n",
       "Shooter         109.74\n",
       "Simulation        4.86\n",
       "Sports           65.27\n",
       "Strategy          3.28"
      ]
     },
     "execution_count": 52,
     "metadata": {},
     "output_type": "execute_result"
    }
   ],
   "source": [
    "df_actual.pivot_table(values='na_sales', index='genre', aggfunc='sum')# сводная таблица по жанрам в регионе NA"
   ]
  },
  {
   "cell_type": "code",
   "execution_count": 53,
   "metadata": {},
   "outputs": [
    {
     "data": {
      "text/plain": [
       "<AxesSubplot:xlabel='genre'>"
      ]
     },
     "execution_count": 53,
     "metadata": {},
     "output_type": "execute_result"
    },
    {
     "data": {
      "image/png": "[encoded data removed]",
      "text/plain": [
       "<Figure size 1080x432 with 1 Axes>"
      ]
     },
     "metadata": {
      "needs_background": "light"
     },
     "output_type": "display_data"
    }
   ],
   "source": [
    "df_actual.pivot_table(values='na_sales', index='genre', aggfunc='sum').plot(kind='bar', figsize=(15,6), grid=True)# столбчатая диаграмма по жанрам в регионе NA"
   ]
  },
  {
   "cell_type": "markdown",
   "metadata": {},
   "source": [
    "Топ 5 платформ в регионе NA - **PS4, XOne, X360, PS3, 3DS**<br>Топ 5 жанров в регионе NA - **Action, Shooter, Sports, Role-playing, Misc**"
   ]
  },
  {
   "cell_type": "code",
   "execution_count": 54,
   "metadata": {},
   "outputs": [
    {
     "data": {
      "text/html": [
       "<div>\n",
       "<style scoped>\n",
       "    .dataframe tbody tr th:only-of-type {\n",
       "        vertical-align: middle;\n",
       "    }\n",
       "\n",
       "    .dataframe tbody tr th {\n",
       "        vertical-align: top;\n",
       "    }\n",
       "\n",
       "    .dataframe thead th {\n",
       "        text-align: right;\n",
       "    }\n",
       "</style>\n",
       "<table border=\"1\" class=\"dataframe\">\n",
       "  <thead>\n",
       "    <tr style=\"text-align: right;\">\n",
       "      <th>rating</th>\n",
       "      <th>E</th>\n",
       "      <th>E10+</th>\n",
       "      <th>M</th>\n",
       "      <th>T</th>\n",
       "      <th>no_rating</th>\n",
       "    </tr>\n",
       "  </thead>\n",
       "  <tbody>\n",
       "    <tr>\n",
       "      <th>na_sales</th>\n",
       "      <td>79.05</td>\n",
       "      <td>54.24</td>\n",
       "      <td>165.21</td>\n",
       "      <td>49.79</td>\n",
       "      <td>89.42</td>\n",
       "    </tr>\n",
       "  </tbody>\n",
       "</table>\n",
       "</div>"
      ],
      "text/plain": [
       "rating        E   E10+       M      T  no_rating\n",
       "na_sales  79.05  54.24  165.21  49.79      89.42"
      ]
     },
     "execution_count": 54,
     "metadata": {},
     "output_type": "execute_result"
    }
   ],
   "source": [
    "na_pivot = df_actual.pivot_table(values='na_sales', columns='rating', aggfunc='sum')# продажи в зависимости от возрастной категории\n",
    "na_pivot['no_rating'] = df_actual.query('rating.isna() and na_sales > 0')['na_sales'].sum()# добавляем столбец с суммой продаж игр без рейтинга\n",
    "na_pivot"
   ]
  },
  {
   "cell_type": "code",
   "execution_count": 55,
   "metadata": {},
   "outputs": [
    {
     "data": {
      "text/plain": [
       "na_sales    0.204291\n",
       "dtype: float64"
      ]
     },
     "execution_count": 55,
     "metadata": {},
     "output_type": "execute_result"
    }
   ],
   "source": [
    "na_pivot['no_rating'] / na_pivot.sum(axis=1)#доля продаж игр без рейтинга в Японии"
   ]
  },
  {
   "cell_type": "code",
   "execution_count": 56,
   "metadata": {},
   "outputs": [
    {
     "data": {
      "text/plain": [
       "0.22765469824293355"
      ]
     },
     "execution_count": 56,
     "metadata": {},
     "output_type": "execute_result"
    }
   ],
   "source": [
    "df_actual.query('rating.isna() and na_sales > 0')['na_sales'].count() \\\n",
    "/ df_actual.query('na_sales > 0')['na_sales'].count()# доля игр без рейтинга в na"
   ]
  },
  {
   "cell_type": "markdown",
   "metadata": {},
   "source": [
    "Рейтинг влияет на продажи следующим образом - чем больше людей попадает в рамки рейтинга, тем больше у игры продаж. В регионе NA рейтинг достаточно важен при прогнозирвоании продаж, около 20 процентов игр выходят без рейтинга, такая же доля продаж у этих игр"
   ]
  },
  {
   "cell_type": "markdown",
   "metadata": {},
   "source": [
    "### Регион EU"
   ]
  },
  {
   "cell_type": "code",
   "execution_count": 57,
   "metadata": {},
   "outputs": [
    {
     "data": {
      "text/html": [
       "<div>\n",
       "<style scoped>\n",
       "    .dataframe tbody tr th:only-of-type {\n",
       "        vertical-align: middle;\n",
       "    }\n",
       "\n",
       "    .dataframe tbody tr th {\n",
       "        vertical-align: top;\n",
       "    }\n",
       "\n",
       "    .dataframe thead th {\n",
       "        text-align: right;\n",
       "    }\n",
       "</style>\n",
       "<table border=\"1\" class=\"dataframe\">\n",
       "  <thead>\n",
       "    <tr style=\"text-align: right;\">\n",
       "      <th></th>\n",
       "      <th>eu_sales</th>\n",
       "    </tr>\n",
       "    <tr>\n",
       "      <th>platform</th>\n",
       "      <th></th>\n",
       "    </tr>\n",
       "  </thead>\n",
       "  <tbody>\n",
       "    <tr>\n",
       "      <th>3DS</th>\n",
       "      <td>30.96</td>\n",
       "    </tr>\n",
       "    <tr>\n",
       "      <th>DS</th>\n",
       "      <td>0.85</td>\n",
       "    </tr>\n",
       "    <tr>\n",
       "      <th>PC</th>\n",
       "      <td>25.36</td>\n",
       "    </tr>\n",
       "    <tr>\n",
       "      <th>PS3</th>\n",
       "      <td>67.81</td>\n",
       "    </tr>\n",
       "    <tr>\n",
       "      <th>PS4</th>\n",
       "      <td>141.09</td>\n",
       "    </tr>\n",
       "    <tr>\n",
       "      <th>PSP</th>\n",
       "      <td>0.17</td>\n",
       "    </tr>\n",
       "    <tr>\n",
       "      <th>PSV</th>\n",
       "      <td>6.10</td>\n",
       "    </tr>\n",
       "    <tr>\n",
       "      <th>Wii</th>\n",
       "      <td>5.93</td>\n",
       "    </tr>\n",
       "    <tr>\n",
       "      <th>WiiU</th>\n",
       "      <td>19.85</td>\n",
       "    </tr>\n",
       "    <tr>\n",
       "      <th>X360</th>\n",
       "      <td>42.52</td>\n",
       "    </tr>\n",
       "    <tr>\n",
       "      <th>XOne</th>\n",
       "      <td>51.59</td>\n",
       "    </tr>\n",
       "  </tbody>\n",
       "</table>\n",
       "</div>"
      ],
      "text/plain": [
       "          eu_sales\n",
       "platform          \n",
       "3DS          30.96\n",
       "DS            0.85\n",
       "PC           25.36\n",
       "PS3          67.81\n",
       "PS4         141.09\n",
       "PSP           0.17\n",
       "PSV           6.10\n",
       "Wii           5.93\n",
       "WiiU         19.85\n",
       "X360         42.52\n",
       "XOne         51.59"
      ]
     },
     "execution_count": 57,
     "metadata": {},
     "output_type": "execute_result"
    }
   ],
   "source": [
    "df_actual.pivot_table(values='eu_sales', index='platform', aggfunc='sum')# сводная таблица по платформам в регионе EU"
   ]
  },
  {
   "cell_type": "code",
   "execution_count": 58,
   "metadata": {},
   "outputs": [
    {
     "data": {
      "text/plain": [
       "<AxesSubplot:xlabel='platform'>"
      ]
     },
     "execution_count": 58,
     "metadata": {},
     "output_type": "execute_result"
    },
    {
     "data": {
      "image/png": "[encoded data removed]",
      "text/plain": [
       "<Figure size 1080x432 with 1 Axes>"
      ]
     },
     "metadata": {
      "needs_background": "light"
     },
     "output_type": "display_data"
    }
   ],
   "source": [
    "df_actual.pivot_table(values='eu_sales', index='platform', aggfunc='sum').plot(kind='bar', figsize=(15,6), grid=True)# столбчатая диаграмма по платформам в регионе EU"
   ]
  },
  {
   "cell_type": "code",
   "execution_count": 59,
   "metadata": {},
   "outputs": [
    {
     "data": {
      "text/html": [
       "<div>\n",
       "<style scoped>\n",
       "    .dataframe tbody tr th:only-of-type {\n",
       "        vertical-align: middle;\n",
       "    }\n",
       "\n",
       "    .dataframe tbody tr th {\n",
       "        vertical-align: top;\n",
       "    }\n",
       "\n",
       "    .dataframe thead th {\n",
       "        text-align: right;\n",
       "    }\n",
       "</style>\n",
       "<table border=\"1\" class=\"dataframe\">\n",
       "  <thead>\n",
       "    <tr style=\"text-align: right;\">\n",
       "      <th></th>\n",
       "      <th>eu_sales</th>\n",
       "    </tr>\n",
       "    <tr>\n",
       "      <th>genre</th>\n",
       "      <th></th>\n",
       "    </tr>\n",
       "  </thead>\n",
       "  <tbody>\n",
       "    <tr>\n",
       "      <th>Action</th>\n",
       "      <td>118.13</td>\n",
       "    </tr>\n",
       "    <tr>\n",
       "      <th>Adventure</th>\n",
       "      <td>8.25</td>\n",
       "    </tr>\n",
       "    <tr>\n",
       "      <th>Fighting</th>\n",
       "      <td>8.55</td>\n",
       "    </tr>\n",
       "    <tr>\n",
       "      <th>Misc</th>\n",
       "      <td>20.04</td>\n",
       "    </tr>\n",
       "    <tr>\n",
       "      <th>Platform</th>\n",
       "      <td>15.58</td>\n",
       "    </tr>\n",
       "    <tr>\n",
       "      <th>Puzzle</th>\n",
       "      <td>1.00</td>\n",
       "    </tr>\n",
       "    <tr>\n",
       "      <th>Racing</th>\n",
       "      <td>20.19</td>\n",
       "    </tr>\n",
       "    <tr>\n",
       "      <th>Role-Playing</th>\n",
       "      <td>36.97</td>\n",
       "    </tr>\n",
       "    <tr>\n",
       "      <th>Shooter</th>\n",
       "      <td>87.86</td>\n",
       "    </tr>\n",
       "    <tr>\n",
       "      <th>Simulation</th>\n",
       "      <td>10.92</td>\n",
       "    </tr>\n",
       "    <tr>\n",
       "      <th>Sports</th>\n",
       "      <td>60.52</td>\n",
       "    </tr>\n",
       "    <tr>\n",
       "      <th>Strategy</th>\n",
       "      <td>4.22</td>\n",
       "    </tr>\n",
       "  </tbody>\n",
       "</table>\n",
       "</div>"
      ],
      "text/plain": [
       "              eu_sales\n",
       "genre                 \n",
       "Action          118.13\n",
       "Adventure         8.25\n",
       "Fighting          8.55\n",
       "Misc             20.04\n",
       "Platform         15.58\n",
       "Puzzle            1.00\n",
       "Racing           20.19\n",
       "Role-Playing     36.97\n",
       "Shooter          87.86\n",
       "Simulation       10.92\n",
       "Sports           60.52\n",
       "Strategy          4.22"
      ]
     },
     "execution_count": 59,
     "metadata": {},
     "output_type": "execute_result"
    }
   ],
   "source": [
    "df_actual.pivot_table(values='eu_sales', index='genre', aggfunc='sum')# сводная таблица по жанрам в регионе EU"
   ]
  },
  {
   "cell_type": "code",
   "execution_count": 60,
   "metadata": {},
   "outputs": [
    {
     "data": {
      "text/plain": [
       "<AxesSubplot:xlabel='genre'>"
      ]
     },
     "execution_count": 60,
     "metadata": {},
     "output_type": "execute_result"
    },
    {
     "data": {
      "image/png": "[encoded data removed]",
      "text/plain": [
       "<Figure size 1080x432 with 1 Axes>"
      ]
     },
     "metadata": {
      "needs_background": "light"
     },
     "output_type": "display_data"
    }
   ],
   "source": [
    "df_actual.pivot_table(values='eu_sales', index='genre', aggfunc='sum').plot(kind='bar', figsize=(15,6), grid=True)# столбчатая диаграмма по жанрам в регионе EU"
   ]
  },
  {
   "cell_type": "markdown",
   "metadata": {},
   "source": [
    "Топ 5 платформ в регионе EU - **PS4, PS3, XOne, X360, 3DS**<br>Топ 5 жанров в регионе EU - **Action, Shooter, Sports, Role-Playing, Racing**"
   ]
  },
  {
   "cell_type": "code",
   "execution_count": 61,
   "metadata": {},
   "outputs": [
    {
     "data": {
      "text/html": [
       "<div>\n",
       "<style scoped>\n",
       "    .dataframe tbody tr th:only-of-type {\n",
       "        vertical-align: middle;\n",
       "    }\n",
       "\n",
       "    .dataframe tbody tr th {\n",
       "        vertical-align: top;\n",
       "    }\n",
       "\n",
       "    .dataframe thead th {\n",
       "        text-align: right;\n",
       "    }\n",
       "</style>\n",
       "<table border=\"1\" class=\"dataframe\">\n",
       "  <thead>\n",
       "    <tr style=\"text-align: right;\">\n",
       "      <th>rating</th>\n",
       "      <th>E</th>\n",
       "      <th>E10+</th>\n",
       "      <th>M</th>\n",
       "      <th>T</th>\n",
       "      <th>no_rating</th>\n",
       "    </tr>\n",
       "  </thead>\n",
       "  <tbody>\n",
       "    <tr>\n",
       "      <th>eu_sales</th>\n",
       "      <td>83.36</td>\n",
       "      <td>42.69</td>\n",
       "      <td>145.32</td>\n",
       "      <td>41.95</td>\n",
       "      <td>78.91</td>\n",
       "    </tr>\n",
       "  </tbody>\n",
       "</table>\n",
       "</div>"
      ],
      "text/plain": [
       "rating        E   E10+       M      T  no_rating\n",
       "eu_sales  83.36  42.69  145.32  41.95      78.91"
      ]
     },
     "execution_count": 61,
     "metadata": {},
     "output_type": "execute_result"
    }
   ],
   "source": [
    "eu_pivot = df_actual.pivot_table(values='eu_sales', columns='rating', aggfunc='sum')# продажи в зависимости от возрастной категории\n",
    "eu_pivot['no_rating'] = df_actual.query('rating.isna() and eu_sales > 0')['eu_sales'].sum()# добавляем столбец с суммой продаж игр без рейтинга\n",
    "eu_pivot"
   ]
  },
  {
   "cell_type": "code",
   "execution_count": 62,
   "metadata": {},
   "outputs": [
    {
     "data": {
      "text/plain": [
       "eu_sales    0.201183\n",
       "dtype: float64"
      ]
     },
     "execution_count": 62,
     "metadata": {},
     "output_type": "execute_result"
    }
   ],
   "source": [
    "eu_pivot['no_rating'] / eu_pivot.sum(axis=1)#доля продаж игр без рейтинга в Японии"
   ]
  },
  {
   "cell_type": "code",
   "execution_count": 63,
   "metadata": {},
   "outputs": [
    {
     "data": {
      "text/plain": [
       "0.23628691983122363"
      ]
     },
     "execution_count": 63,
     "metadata": {},
     "output_type": "execute_result"
    }
   ],
   "source": [
    "df_actual.query('rating.isna() and eu_sales > 0')['eu_sales'].count() \\\n",
    "/ df_actual.query('eu_sales > 0')['eu_sales'].count()# доля игр без рейтинга в eu"
   ]
  },
  {
   "cell_type": "markdown",
   "metadata": {},
   "source": [
    "Результат схож с регионом NA, рейтинг имеет влияние на продажи в EU"
   ]
  },
  {
   "cell_type": "markdown",
   "metadata": {},
   "source": [
    "### Регион JP"
   ]
  },
  {
   "cell_type": "code",
   "execution_count": 64,
   "metadata": {},
   "outputs": [
    {
     "data": {
      "text/html": [
       "<div>\n",
       "<style scoped>\n",
       "    .dataframe tbody tr th:only-of-type {\n",
       "        vertical-align: middle;\n",
       "    }\n",
       "\n",
       "    .dataframe tbody tr th {\n",
       "        vertical-align: top;\n",
       "    }\n",
       "\n",
       "    .dataframe thead th {\n",
       "        text-align: right;\n",
       "    }\n",
       "</style>\n",
       "<table border=\"1\" class=\"dataframe\">\n",
       "  <thead>\n",
       "    <tr style=\"text-align: right;\">\n",
       "      <th></th>\n",
       "      <th>jp_sales</th>\n",
       "    </tr>\n",
       "    <tr>\n",
       "      <th>platform</th>\n",
       "      <th></th>\n",
       "    </tr>\n",
       "  </thead>\n",
       "  <tbody>\n",
       "    <tr>\n",
       "      <th>3DS</th>\n",
       "      <td>67.81</td>\n",
       "    </tr>\n",
       "    <tr>\n",
       "      <th>DS</th>\n",
       "      <td>0.00</td>\n",
       "    </tr>\n",
       "    <tr>\n",
       "      <th>PC</th>\n",
       "      <td>0.00</td>\n",
       "    </tr>\n",
       "    <tr>\n",
       "      <th>PS3</th>\n",
       "      <td>23.35</td>\n",
       "    </tr>\n",
       "    <tr>\n",
       "      <th>PS4</th>\n",
       "      <td>15.96</td>\n",
       "    </tr>\n",
       "    <tr>\n",
       "      <th>PSP</th>\n",
       "      <td>3.29</td>\n",
       "    </tr>\n",
       "    <tr>\n",
       "      <th>PSV</th>\n",
       "      <td>18.59</td>\n",
       "    </tr>\n",
       "    <tr>\n",
       "      <th>Wii</th>\n",
       "      <td>0.05</td>\n",
       "    </tr>\n",
       "    <tr>\n",
       "      <th>WiiU</th>\n",
       "      <td>10.88</td>\n",
       "    </tr>\n",
       "    <tr>\n",
       "      <th>X360</th>\n",
       "      <td>0.51</td>\n",
       "    </tr>\n",
       "    <tr>\n",
       "      <th>XOne</th>\n",
       "      <td>0.34</td>\n",
       "    </tr>\n",
       "  </tbody>\n",
       "</table>\n",
       "</div>"
      ],
      "text/plain": [
       "          jp_sales\n",
       "platform          \n",
       "3DS          67.81\n",
       "DS            0.00\n",
       "PC            0.00\n",
       "PS3          23.35\n",
       "PS4          15.96\n",
       "PSP           3.29\n",
       "PSV          18.59\n",
       "Wii           0.05\n",
       "WiiU         10.88\n",
       "X360          0.51\n",
       "XOne          0.34"
      ]
     },
     "execution_count": 64,
     "metadata": {},
     "output_type": "execute_result"
    }
   ],
   "source": [
    "df_actual.pivot_table(values='jp_sales', index='platform', aggfunc='sum')# сводная таблица по платформам в регионе JP"
   ]
  },
  {
   "cell_type": "code",
   "execution_count": 65,
   "metadata": {},
   "outputs": [
    {
     "data": {
      "text/plain": [
       "<AxesSubplot:xlabel='platform'>"
      ]
     },
     "execution_count": 65,
     "metadata": {},
     "output_type": "execute_result"
    },
    {
     "data": {
      "image/png": "[encoded data removed]",
      "text/plain": [
       "<Figure size 1080x432 with 1 Axes>"
      ]
     },
     "metadata": {
      "needs_background": "light"
     },
     "output_type": "display_data"
    }
   ],
   "source": [
    "df_actual.pivot_table(values='jp_sales', index='platform', aggfunc='sum').plot(kind='bar', figsize=(15,6), grid=True)# столбчатая диаграмма по платформам в регионе JP"
   ]
  },
  {
   "cell_type": "code",
   "execution_count": 66,
   "metadata": {},
   "outputs": [
    {
     "data": {
      "text/html": [
       "<div>\n",
       "<style scoped>\n",
       "    .dataframe tbody tr th:only-of-type {\n",
       "        vertical-align: middle;\n",
       "    }\n",
       "\n",
       "    .dataframe tbody tr th {\n",
       "        vertical-align: top;\n",
       "    }\n",
       "\n",
       "    .dataframe thead th {\n",
       "        text-align: right;\n",
       "    }\n",
       "</style>\n",
       "<table border=\"1\" class=\"dataframe\">\n",
       "  <thead>\n",
       "    <tr style=\"text-align: right;\">\n",
       "      <th></th>\n",
       "      <th>jp_sales</th>\n",
       "    </tr>\n",
       "    <tr>\n",
       "      <th>genre</th>\n",
       "      <th></th>\n",
       "    </tr>\n",
       "  </thead>\n",
       "  <tbody>\n",
       "    <tr>\n",
       "      <th>Action</th>\n",
       "      <td>40.49</td>\n",
       "    </tr>\n",
       "    <tr>\n",
       "      <th>Adventure</th>\n",
       "      <td>5.82</td>\n",
       "    </tr>\n",
       "    <tr>\n",
       "      <th>Fighting</th>\n",
       "      <td>7.65</td>\n",
       "    </tr>\n",
       "    <tr>\n",
       "      <th>Misc</th>\n",
       "      <td>9.20</td>\n",
       "    </tr>\n",
       "    <tr>\n",
       "      <th>Platform</th>\n",
       "      <td>4.79</td>\n",
       "    </tr>\n",
       "    <tr>\n",
       "      <th>Puzzle</th>\n",
       "      <td>1.18</td>\n",
       "    </tr>\n",
       "    <tr>\n",
       "      <th>Racing</th>\n",
       "      <td>2.30</td>\n",
       "    </tr>\n",
       "    <tr>\n",
       "      <th>Role-Playing</th>\n",
       "      <td>51.04</td>\n",
       "    </tr>\n",
       "    <tr>\n",
       "      <th>Shooter</th>\n",
       "      <td>6.61</td>\n",
       "    </tr>\n",
       "    <tr>\n",
       "      <th>Simulation</th>\n",
       "      <td>4.52</td>\n",
       "    </tr>\n",
       "    <tr>\n",
       "      <th>Sports</th>\n",
       "      <td>5.41</td>\n",
       "    </tr>\n",
       "    <tr>\n",
       "      <th>Strategy</th>\n",
       "      <td>1.77</td>\n",
       "    </tr>\n",
       "  </tbody>\n",
       "</table>\n",
       "</div>"
      ],
      "text/plain": [
       "              jp_sales\n",
       "genre                 \n",
       "Action           40.49\n",
       "Adventure         5.82\n",
       "Fighting          7.65\n",
       "Misc              9.20\n",
       "Platform          4.79\n",
       "Puzzle            1.18\n",
       "Racing            2.30\n",
       "Role-Playing     51.04\n",
       "Shooter           6.61\n",
       "Simulation        4.52\n",
       "Sports            5.41\n",
       "Strategy          1.77"
      ]
     },
     "execution_count": 66,
     "metadata": {},
     "output_type": "execute_result"
    }
   ],
   "source": [
    "df_actual.pivot_table(values='jp_sales', index='genre', aggfunc='sum')# сводная таблица по жанрам в регионе JP"
   ]
  },
  {
   "cell_type": "code",
   "execution_count": 67,
   "metadata": {},
   "outputs": [
    {
     "data": {
      "text/plain": [
       "<AxesSubplot:xlabel='genre'>"
      ]
     },
     "execution_count": 67,
     "metadata": {},
     "output_type": "execute_result"
    },
    {
     "data": {
      "image/png": "[encoded data removed]",
      "text/plain": [
       "<Figure size 1080x432 with 1 Axes>"
      ]
     },
     "metadata": {
      "needs_background": "light"
     },
     "output_type": "display_data"
    }
   ],
   "source": [
    "df_actual.pivot_table(values='jp_sales', index='genre', aggfunc='sum').plot(kind='bar', figsize=(15,6), grid=True)# столбчатая диаграмма по жанрам в регионе JP"
   ]
  },
  {
   "cell_type": "markdown",
   "metadata": {},
   "source": [
    "Топ 5 платформ в регионе JP - **3DS, PS3, PSV, PS4, WiiU**<br>Топ 5 жанров в регионе JP - **Role-Playing, Action, Misc, Fighting, Shooter**"
   ]
  },
  {
   "cell_type": "code",
   "execution_count": 68,
   "metadata": {},
   "outputs": [
    {
     "data": {
      "text/html": [
       "<div>\n",
       "<style scoped>\n",
       "    .dataframe tbody tr th:only-of-type {\n",
       "        vertical-align: middle;\n",
       "    }\n",
       "\n",
       "    .dataframe tbody tr th {\n",
       "        vertical-align: top;\n",
       "    }\n",
       "\n",
       "    .dataframe thead th {\n",
       "        text-align: right;\n",
       "    }\n",
       "</style>\n",
       "<table border=\"1\" class=\"dataframe\">\n",
       "  <thead>\n",
       "    <tr style=\"text-align: right;\">\n",
       "      <th>rating</th>\n",
       "      <th>E</th>\n",
       "      <th>E10+</th>\n",
       "      <th>M</th>\n",
       "      <th>T</th>\n",
       "      <th>no_rating</th>\n",
       "    </tr>\n",
       "  </thead>\n",
       "  <tbody>\n",
       "    <tr>\n",
       "      <th>jp_sales</th>\n",
       "      <td>15.14</td>\n",
       "      <td>5.89</td>\n",
       "      <td>14.11</td>\n",
       "      <td>20.59</td>\n",
       "      <td>85.05</td>\n",
       "    </tr>\n",
       "  </tbody>\n",
       "</table>\n",
       "</div>"
      ],
      "text/plain": [
       "rating        E  E10+      M      T  no_rating\n",
       "jp_sales  15.14  5.89  14.11  20.59      85.05"
      ]
     },
     "execution_count": 68,
     "metadata": {},
     "output_type": "execute_result"
    }
   ],
   "source": [
    "jp_pivot = df_actual.pivot_table(values='jp_sales', columns='rating', aggfunc='sum')# продажи в зависимости от возрастной категории\n",
    "jp_pivot['no_rating'] = df_actual.query('rating.isna() and jp_sales > 0')['jp_sales'].sum()# добавляем столбец с суммой продаж игр без рейтинга\n",
    "jp_pivot"
   ]
  },
  {
   "cell_type": "code",
   "execution_count": 69,
   "metadata": {},
   "outputs": [
    {
     "data": {
      "text/plain": [
       "jp_sales    0.604134\n",
       "dtype: float64"
      ]
     },
     "execution_count": 69,
     "metadata": {},
     "output_type": "execute_result"
    }
   ],
   "source": [
    "jp_pivot['no_rating'] / jp_pivot.sum(axis=1)#доля продаж игр без рейтинга в Японии"
   ]
  },
  {
   "cell_type": "code",
   "execution_count": 70,
   "metadata": {},
   "outputs": [
    {
     "data": {
      "text/plain": [
       "0.5998315080033698"
      ]
     },
     "execution_count": 70,
     "metadata": {},
     "output_type": "execute_result"
    }
   ],
   "source": [
    "df_actual.query('rating.isna() and jp_sales > 0')['jp_sales'].count() \\\n",
    "/ df_actual.query('jp_sales > 0')['jp_sales'].count()# доля игр без рейтинга в jp"
   ]
  },
  {
   "cell_type": "markdown",
   "metadata": {},
   "source": [
    "60 процентов продаж и такое же количество в регионе JP приходится на игры вообще без рейтинга, его влияние в регионе незначительно, можно не учитывать при прогнозе"
   ]
  },
  {
   "cell_type": "markdown",
   "metadata": {},
   "source": [
    "В европейском и американском регионах самые популярные платформы примерно одни и те же, однако в первом больше предпочитают PS, а во втором Xbox. В Японии американские Xbox почти не имеют продаж, а в топе только местная продукция, особенно приставки от Nintendo.<br>Во всех регионах в топе есть жанры Action, Role-Playing и Shooter. В отличие от других регионов в Европе предпочитают гоночные игры. В Японии хорошо продаются только Role-Playing и Action.\n"
   ]
  },
  {
   "cell_type": "markdown",
   "metadata": {},
   "source": [
    "## 5. Проверка гипотезы"
   ]
  },
  {
   "cell_type": "markdown",
   "metadata": {},
   "source": [
    "#### H_0: **Средние пользовательские рейтинги (user_score) платформы Xbox One = средние пользовательские рейтинги (user_score) PC**<br> H_a: **Средние пользовательские рейтинги (user_score) платформы Xbox One ≠ средние пользовательские рейтинги (user_score) PC**<br> alpha = 0.05"
   ]
  },
  {
   "cell_type": "markdown",
   "metadata": {},
   "source": [
    "Для проверки гипотезы возьмем данные от 2013 года, так как платформа XOne вышла в этом году"
   ]
  },
  {
   "cell_type": "code",
   "execution_count": 71,
   "metadata": {},
   "outputs": [],
   "source": [
    "from scipy import stats as st"
   ]
  },
  {
   "cell_type": "code",
   "execution_count": 72,
   "metadata": {},
   "outputs": [
    {
     "name": "stdout",
     "output_type": "stream",
     "text": [
      "0.14759594013430463\n",
      "Не получилось отвергнуть нулевую гипотезу \n"
     ]
    }
   ],
   "source": [
    "var1 = df_actual.query('platform==\"XOne\" and user_score != \"tbd\" and user_score.notna() and year_of_release >= 2013')['user_score'].astype('float64')# средние пользовательские рейтинги платформы Xbox One\n",
    "var2 = df_actual.query('platform==\"PC\" and user_score != \"tbd\" and user_score.notna() and year_of_release >= 2013')['user_score'].astype('float64')# средние пользовательские рейтинги платформы PC\n",
    "results = st.ttest_ind(var1, var2, equal_var = False)# проводим t-test Стьюдента для двух выборок по актуальным данным\n",
    "alpha = 0.05\n",
    "print(results.pvalue) # вывод значения p-value на экран\n",
    "if results.pvalue < alpha:\n",
    "    print('Отвергаем нулевую гипотезу')\n",
    "else:\n",
    "    print('Не получилось отвергнуть нулевую гипотезу ')\n",
    "# условный оператор с выводом строки с ответом"
   ]
  },
  {
   "cell_type": "markdown",
   "metadata": {},
   "source": [
    "За основу нулевой гипотезы взяли типичную в статистике - *средние двух генеральны совокупностей равны между собой*. Так как нулевая гипотеза всегда формулируется со знаком равенства, альтернативная гипотеза получилась со знаком ≠ <br> Критерием был выбран t-критерий Стьюдента (независимые выборки), так как оценки игр на разных платформах не зависят друг от друга, в основном на них играют разные пользователи и оценивают игру они несмотря на возможные ее преимущества на другой платформе"
   ]
  },
  {
   "cell_type": "markdown",
   "metadata": {},
   "source": [
    "#### H_0: **Средние пользовательские рейтинги (user_score) жанров Action = средние пользовательские рейтинги (user_score) жанров Sports**<br> H_a: **Средние пользовательские рейтинги (user_score) жанров Action ≠ средние пользовательские рейтинги (user_score) жанров Sports**<br> alpha = 0.05"
   ]
  },
  {
   "cell_type": "code",
   "execution_count": 73,
   "metadata": {},
   "outputs": [
    {
     "name": "stdout",
     "output_type": "stream",
     "text": [
      "1.4460039700704315e-20\n",
      "Отвергаем нулевую гипотезу\n"
     ]
    }
   ],
   "source": [
    "var1 = df_actual.query('genre==\"Action\" and user_score != \"tbd\" and user_score.notna()')['user_score'].astype('float64')# средние пользовательские рейтинги жанра action\n",
    "var2 = df_actual.query('genre==\"Sports\" and user_score != \"tbd\" and user_score.notna()')['user_score'].astype('float64')# средние пользовательские рейтинги жанра sports\n",
    "results = st.ttest_ind(var1, var2, equal_var = False)# проводим t-test Стьюдента для двух выборок по актуальным данным\n",
    "alpha = 0.05\n",
    "print(results.pvalue) # вывод значения p-value на экран\n",
    "if results.pvalue < alpha:\n",
    "    print('Отвергаем нулевую гипотезу')\n",
    "else:\n",
    "    print('Не получилось отвергнуть нулевую гипотезу ')\n",
    "# условный оператор с выводом строки с ответом"
   ]
  },
  {
   "cell_type": "markdown",
   "metadata": {},
   "source": [
    "За основу нулевой гипотезы взяли типичную в статистике - *средние двух генеральны совокупностей равны между собой*. Так как нулевая гипотеза всегда формулируется со знаком равенства, альтернативная гипотеза получилась со знаком ≠ <br> Критерием был выбран t-критерий Стьюдента (независимые выборки), так как жанры игр не связаны между собой"
   ]
  },
  {
   "cell_type": "markdown",
   "metadata": {},
   "source": [
    "В результате проверки гипотез выяснили, что средние пользовательские рейтинги платформ Xbox One и PC могут быть одинаковыми, а средние пользовательские рейтинги жанров Action и Sports не одинаковые"
   ]
  },
  {
   "cell_type": "markdown",
   "metadata": {},
   "source": [
    "## 6. Общий вывод"
   ]
  },
  {
   "cell_type": "markdown",
   "metadata": {},
   "source": [
    "В рамках проекта была проделана следующая работа с данными:\n",
    "1. **Выполнен общий обзор данных**:\n",
    "Наблюдается постепенный спад количества выпущенных игр после пика в 2008-2009 годах, большинство игр оценены критиками на 60-80 баллов, пользователями от 6.5 до 8.5\n",
    "2. **Выполнена предобработка данных**:\n",
    "Выявили закономерность пропусков в столбцах с оценками и рейтингом, предположительно некоторые игры отсутствуют в изначальном источнике данных с этими показателями. Был добавлен столбец с суммарными продажами во всех регионах\n",
    "3. **Выбор актуальных данных и анализ продаж**\n",
    "Актуальными для прогнозирования были выбраны данные за последние **10 лет**, в некоторых случаях брались отрезки времени от начала жизненного цикла наиболее перспективных консолей. Выяснили, что платформы имеют “цикл жизни” в 10 лет и выбраны самые прибыльные и перспективные - **PS4, XOne, 3DS и PC**. Выяснили, что высокий рейтинг почти не влияет на продаваемость игры, однако у хорошо оцененных игр больше шанс “выстрелить” и продаться большим тиражом. Абсолютным фаворитом жанров является action, здесь больше всего игр и продаж. Самым малочисленным жанром является игры-пазлы, а меньше всего продаж у стратегий. Отдельно можно выделить то, что у игр жанра adventure довольно много, однако прибыли они приносят мало. Спортивные игры приносят довольно много прибыли, хотя их почти в два раза меньше, чем игр жанра action. У игр жанра шутер очень близкие значения в обоих столбцах - можно сказать, что в среднем каждый шутер стабильно приносит одинаковую прибыль\n",
    "4. **Портрет пользователя**\n",
    "<br>Топ 5 платформ в регионе NA - **PS4, XOne, X360, PS3, 3DS**\n",
    "<br>Топ 5 жанров в регионе NA - **Action, Shooter, Sports, Role-playing, Misc**\n",
    "<br>Топ 5 платформ в регионе EU - **PS4, PS3, XOne, X360, 3DS**\n",
    "<br>Топ 5 жанров в регионе EU - **Action, Shooter, Sports, Role-Playing, Racing**\n",
    "<br>Топ 5 платформ в регионе JP - **3DS, PS3, PSV, PS4, WiiU**\n",
    "<br>Топ 5 жанров в регионе JP - **Role-Playing, Role-Playing, Action, Misc, Fighting, Shooter**\n",
    "<br>В дальнейшем наиболее актуальными консолями станут платформы от Microsoft в Америке и Европе(xbox), от Sony во всех регионах(playstation) и от Nintendo(wii, ds) в Японии(в других регионах тоже будут иметь высокое присутствие)\n",
    "5. **Проверка гипотез**\n",
    "В результате проверки гипотез выяснили, что средние пользовательские рейтинги платформ Xbox One и PC могут быть одинаковыми, а средние пользовательские рейтинги жанров Action и Sports не одинаковые\n"
   ]
  },
  {
   "cell_type": "markdown",
   "metadata": {},
   "source": [
    "В итоге можно определить следующий принцип работы с данными при прогнозировании продаж: для анализа продаж лучше всего брать хорошо продаваемые платформы, которые были выпущены не более 5 лет назад. Они станут основой для выработки маркетинговой стратегии.<br> Продаваемость игр по жанрам является стабильной величиной, нужно обратить внимание на жанры **action, sports и shooter**, отдельно в Японии на **Role-Playing и Platform**<br>Обратить внимание стоит на игры, которые оценены не менее чем на 60 у критиков и 6.5 у пользователей, игры с высокими оценками потенциально имеют шанс принести огромную прибыль, однако эту гипотезу еще предстоит проверить<br>Оценка по ESRB в NA и EU\n",
    " тоже имеет значение - чем больше людей попадает в рамки рейтинга, тем больше у игры продаж, если это не игры для \"дошкольников\"<br> Также, при планировании компании на следующий год, стоит обратить внимание на анонсы различных новых платформ - в первый год после выпуска продажи на ней всегда довольно хорошие, если консоль не окажется совсем провальной"
   ]
  }
 ],
 "metadata": {
  "ExecuteTimeLog": [
   {
    "duration": 542,
    "start_time": "2023-03-04T10:34:20.397Z"
   },
   {
    "duration": 19,
    "start_time": "2023-03-04T10:34:20.941Z"
   },
   {
    "duration": 2009,
    "start_time": "2023-03-04T10:34:20.962Z"
   },
   {
    "duration": 333,
    "start_time": "2023-03-04T10:34:22.973Z"
   },
   {
    "duration": 308,
    "start_time": "2023-03-04T10:34:23.307Z"
   },
   {
    "duration": 141,
    "start_time": "2023-03-04T10:34:23.616Z"
   },
   {
    "duration": 112,
    "start_time": "2023-03-04T10:34:23.759Z"
   },
   {
    "duration": 4,
    "start_time": "2023-03-04T10:34:23.873Z"
   },
   {
    "duration": 51,
    "start_time": "2023-03-05T11:51:56.820Z"
   },
   {
    "duration": 621,
    "start_time": "2023-03-05T11:52:06.347Z"
   },
   {
    "duration": 20,
    "start_time": "2023-03-05T11:52:06.970Z"
   },
   {
    "duration": 2126,
    "start_time": "2023-03-05T11:52:06.992Z"
   },
   {
    "duration": 342,
    "start_time": "2023-03-05T11:52:09.120Z"
   },
   {
    "duration": 333,
    "start_time": "2023-03-05T11:52:09.463Z"
   },
   {
    "duration": 151,
    "start_time": "2023-03-05T11:52:09.798Z"
   },
   {
    "duration": 115,
    "start_time": "2023-03-05T11:52:09.951Z"
   },
   {
    "duration": 3,
    "start_time": "2023-03-05T11:52:10.069Z"
   },
   {
    "duration": 6,
    "start_time": "2023-03-05T11:52:10.074Z"
   },
   {
    "duration": 7,
    "start_time": "2023-03-05T11:52:10.084Z"
   },
   {
    "duration": 30,
    "start_time": "2023-03-05T11:52:10.093Z"
   },
   {
    "duration": 7,
    "start_time": "2023-03-05T11:52:10.124Z"
   },
   {
    "duration": 12,
    "start_time": "2023-03-05T11:52:10.133Z"
   },
   {
    "duration": 9,
    "start_time": "2023-03-05T11:52:10.147Z"
   },
   {
    "duration": 9,
    "start_time": "2023-03-05T11:52:10.158Z"
   },
   {
    "duration": 68,
    "start_time": "2023-03-05T11:52:10.168Z"
   },
   {
    "duration": 18,
    "start_time": "2023-03-05T11:52:10.238Z"
   },
   {
    "duration": 5,
    "start_time": "2023-03-05T11:52:10.258Z"
   },
   {
    "duration": 6,
    "start_time": "2023-03-05T11:52:10.265Z"
   },
   {
    "duration": 7,
    "start_time": "2023-03-05T11:52:10.273Z"
   },
   {
    "duration": 6,
    "start_time": "2023-03-05T11:52:10.282Z"
   },
   {
    "duration": 12,
    "start_time": "2023-03-05T11:52:10.322Z"
   },
   {
    "duration": 10,
    "start_time": "2023-03-05T11:52:10.336Z"
   },
   {
    "duration": 8,
    "start_time": "2023-03-05T11:52:10.348Z"
   },
   {
    "duration": 15,
    "start_time": "2023-03-05T11:52:10.358Z"
   },
   {
    "duration": 8,
    "start_time": "2023-03-05T11:52:10.374Z"
   },
   {
    "duration": 38,
    "start_time": "2023-03-05T11:52:10.384Z"
   },
   {
    "duration": 381,
    "start_time": "2023-03-05T11:52:10.429Z"
   },
   {
    "duration": 23,
    "start_time": "2023-03-05T11:52:10.812Z"
   },
   {
    "duration": 305,
    "start_time": "2023-03-05T11:52:10.836Z"
   },
   {
    "duration": 6,
    "start_time": "2023-03-05T11:52:11.143Z"
   },
   {
    "duration": 296,
    "start_time": "2023-03-05T11:52:11.151Z"
   },
   {
    "duration": 318,
    "start_time": "2023-03-05T11:52:11.449Z"
   },
   {
    "duration": 440,
    "start_time": "2023-03-05T11:52:11.769Z"
   },
   {
    "duration": 319,
    "start_time": "2023-03-05T11:52:12.211Z"
   },
   {
    "duration": 11,
    "start_time": "2023-03-05T11:52:12.532Z"
   },
   {
    "duration": 10,
    "start_time": "2023-03-05T11:52:12.545Z"
   },
   {
    "duration": 347,
    "start_time": "2023-03-05T11:52:12.557Z"
   },
   {
    "duration": 20,
    "start_time": "2023-03-05T11:52:12.905Z"
   },
   {
    "duration": 15,
    "start_time": "2023-03-05T11:52:12.926Z"
   },
   {
    "duration": 293,
    "start_time": "2023-03-05T11:52:12.942Z"
   },
   {
    "duration": 10,
    "start_time": "2023-03-05T11:52:13.237Z"
   },
   {
    "duration": 10,
    "start_time": "2023-03-05T11:52:13.249Z"
   },
   {
    "duration": 320,
    "start_time": "2023-03-05T11:52:13.260Z"
   },
   {
    "duration": 11,
    "start_time": "2023-03-05T11:52:13.582Z"
   },
   {
    "duration": 27,
    "start_time": "2023-03-05T11:52:13.595Z"
   },
   {
    "duration": 21,
    "start_time": "2023-03-05T11:52:13.623Z"
   },
   {
    "duration": 276,
    "start_time": "2023-03-05T11:52:13.645Z"
   },
   {
    "duration": 248,
    "start_time": "2023-03-05T11:52:13.923Z"
   },
   {
    "duration": 13,
    "start_time": "2023-03-05T11:52:14.172Z"
   },
   {
    "duration": 194,
    "start_time": "2023-03-05T11:52:14.187Z"
   },
   {
    "duration": 14,
    "start_time": "2023-03-05T11:52:14.382Z"
   },
   {
    "duration": 226,
    "start_time": "2023-03-05T11:52:14.397Z"
   },
   {
    "duration": 10,
    "start_time": "2023-03-05T11:52:14.624Z"
   },
   {
    "duration": 26,
    "start_time": "2023-03-05T11:52:14.636Z"
   },
   {
    "duration": 194,
    "start_time": "2023-03-05T11:52:14.663Z"
   },
   {
    "duration": 14,
    "start_time": "2023-03-05T11:52:14.859Z"
   },
   {
    "duration": 220,
    "start_time": "2023-03-05T11:52:14.874Z"
   },
   {
    "duration": 13,
    "start_time": "2023-03-05T11:52:15.096Z"
   },
   {
    "duration": 12,
    "start_time": "2023-03-05T11:52:15.121Z"
   },
   {
    "duration": 216,
    "start_time": "2023-03-05T11:52:15.134Z"
   },
   {
    "duration": 16,
    "start_time": "2023-03-05T11:52:15.351Z"
   },
   {
    "duration": 227,
    "start_time": "2023-03-05T11:52:15.368Z"
   },
   {
    "duration": 13,
    "start_time": "2023-03-05T11:52:15.597Z"
   },
   {
    "duration": 12,
    "start_time": "2023-03-05T11:52:15.611Z"
   },
   {
    "duration": 11,
    "start_time": "2023-03-05T11:52:15.625Z"
   },
   {
    "duration": 24,
    "start_time": "2023-03-05T11:52:15.637Z"
   },
   {
    "duration": 11,
    "start_time": "2023-03-05T11:52:15.663Z"
   },
   {
    "duration": 584,
    "start_time": "2023-03-05T11:52:15.676Z"
   },
   {
    "duration": 18,
    "start_time": "2023-03-05T11:52:16.262Z"
   },
   {
    "duration": 15,
    "start_time": "2023-03-05T11:52:16.282Z"
   },
   {
    "duration": 10,
    "start_time": "2023-03-05T11:54:26.521Z"
   },
   {
    "duration": 10,
    "start_time": "2023-03-05T11:57:32.863Z"
   },
   {
    "duration": 15,
    "start_time": "2023-03-05T11:57:40.663Z"
   },
   {
    "duration": 17,
    "start_time": "2023-03-05T11:58:24.814Z"
   },
   {
    "duration": 1073,
    "start_time": "2023-03-05T12:00:40.833Z"
   },
   {
    "duration": 62,
    "start_time": "2023-03-05T12:00:59.523Z"
   },
   {
    "duration": 68,
    "start_time": "2023-03-05T12:01:15.263Z"
   },
   {
    "duration": 40,
    "start_time": "2023-03-05T12:01:25.531Z"
   },
   {
    "duration": 49,
    "start_time": "2023-03-05T12:01:30.345Z"
   },
   {
    "duration": 20,
    "start_time": "2023-03-05T12:01:39.223Z"
   },
   {
    "duration": 13,
    "start_time": "2023-03-05T12:02:15.345Z"
   },
   {
    "duration": 8,
    "start_time": "2023-03-05T12:02:59.128Z"
   },
   {
    "duration": 18,
    "start_time": "2023-03-05T12:03:18.428Z"
   },
   {
    "duration": 20,
    "start_time": "2023-03-05T12:05:05.738Z"
   },
   {
    "duration": 10,
    "start_time": "2023-03-05T12:05:54.466Z"
   },
   {
    "duration": 21,
    "start_time": "2023-03-05T12:06:18.733Z"
   },
   {
    "duration": 22,
    "start_time": "2023-03-05T12:07:00.085Z"
   },
   {
    "duration": 18,
    "start_time": "2023-03-05T12:08:43.090Z"
   },
   {
    "duration": 19,
    "start_time": "2023-03-05T12:08:50.066Z"
   },
   {
    "duration": 7,
    "start_time": "2023-03-05T12:11:46.770Z"
   },
   {
    "duration": 5,
    "start_time": "2023-03-05T12:12:08.320Z"
   },
   {
    "duration": 6,
    "start_time": "2023-03-05T12:12:27.073Z"
   },
   {
    "duration": 9,
    "start_time": "2023-03-05T12:15:56.675Z"
   },
   {
    "duration": 7,
    "start_time": "2023-03-05T12:16:26.895Z"
   },
   {
    "duration": 22,
    "start_time": "2023-03-05T12:18:17.783Z"
   },
   {
    "duration": 5,
    "start_time": "2023-03-05T12:18:58.595Z"
   },
   {
    "duration": 5,
    "start_time": "2023-03-05T12:19:11.505Z"
   },
   {
    "duration": 16,
    "start_time": "2023-03-05T12:21:34.397Z"
   },
   {
    "duration": 6,
    "start_time": "2023-03-05T12:22:16.994Z"
   },
   {
    "duration": 8,
    "start_time": "2023-03-05T12:24:48.810Z"
   },
   {
    "duration": 9,
    "start_time": "2023-03-05T12:24:50.122Z"
   },
   {
    "duration": 19,
    "start_time": "2023-03-05T12:24:52.984Z"
   },
   {
    "duration": 7,
    "start_time": "2023-03-05T12:24:54.369Z"
   },
   {
    "duration": 6,
    "start_time": "2023-03-05T12:25:00.006Z"
   },
   {
    "duration": 11,
    "start_time": "2023-03-05T12:25:36.035Z"
   },
   {
    "duration": 48,
    "start_time": "2023-03-05T12:26:19.919Z"
   },
   {
    "duration": 49,
    "start_time": "2023-03-05T12:26:30.217Z"
   },
   {
    "duration": 11,
    "start_time": "2023-03-05T12:26:35.127Z"
   },
   {
    "duration": 12,
    "start_time": "2023-03-05T12:26:48.189Z"
   },
   {
    "duration": 5,
    "start_time": "2023-03-05T12:27:01.732Z"
   },
   {
    "duration": 5,
    "start_time": "2023-03-05T12:27:18.882Z"
   },
   {
    "duration": 11,
    "start_time": "2023-03-05T12:28:22.833Z"
   },
   {
    "duration": 13,
    "start_time": "2023-03-05T12:29:39.375Z"
   },
   {
    "duration": 14,
    "start_time": "2023-03-05T12:29:52.181Z"
   },
   {
    "duration": 12,
    "start_time": "2023-03-05T12:29:59.063Z"
   },
   {
    "duration": 6,
    "start_time": "2023-03-05T12:30:21.258Z"
   },
   {
    "duration": 7,
    "start_time": "2023-03-05T12:30:35.929Z"
   },
   {
    "duration": 503,
    "start_time": "2023-03-05T12:30:52.405Z"
   },
   {
    "duration": 19,
    "start_time": "2023-03-05T12:30:52.910Z"
   },
   {
    "duration": 1978,
    "start_time": "2023-03-05T12:30:52.931Z"
   },
   {
    "duration": 349,
    "start_time": "2023-03-05T12:30:54.912Z"
   },
   {
    "duration": 324,
    "start_time": "2023-03-05T12:30:55.263Z"
   },
   {
    "duration": 162,
    "start_time": "2023-03-05T12:30:55.589Z"
   },
   {
    "duration": 112,
    "start_time": "2023-03-05T12:30:55.753Z"
   },
   {
    "duration": 3,
    "start_time": "2023-03-05T12:30:55.867Z"
   },
   {
    "duration": 10,
    "start_time": "2023-03-05T12:30:55.872Z"
   },
   {
    "duration": 14,
    "start_time": "2023-03-05T12:30:55.884Z"
   },
   {
    "duration": 24,
    "start_time": "2023-03-05T12:30:55.900Z"
   },
   {
    "duration": 11,
    "start_time": "2023-03-05T12:30:55.927Z"
   },
   {
    "duration": 15,
    "start_time": "2023-03-05T12:30:55.940Z"
   },
   {
    "duration": 8,
    "start_time": "2023-03-05T12:30:55.957Z"
   },
   {
    "duration": 11,
    "start_time": "2023-03-05T12:30:55.966Z"
   },
   {
    "duration": 50,
    "start_time": "2023-03-05T12:30:55.978Z"
   },
   {
    "duration": 14,
    "start_time": "2023-03-05T12:30:56.029Z"
   },
   {
    "duration": 5,
    "start_time": "2023-03-05T12:30:56.045Z"
   },
   {
    "duration": 6,
    "start_time": "2023-03-05T12:30:56.051Z"
   },
   {
    "duration": 6,
    "start_time": "2023-03-05T12:30:56.058Z"
   },
   {
    "duration": 5,
    "start_time": "2023-03-05T12:30:56.066Z"
   },
   {
    "duration": 7,
    "start_time": "2023-03-05T12:30:56.072Z"
   },
   {
    "duration": 45,
    "start_time": "2023-03-05T12:30:56.081Z"
   },
   {
    "duration": 6,
    "start_time": "2023-03-05T12:30:56.128Z"
   },
   {
    "duration": 6,
    "start_time": "2023-03-05T12:30:56.136Z"
   },
   {
    "duration": 8,
    "start_time": "2023-03-05T12:30:56.143Z"
   },
   {
    "duration": 5,
    "start_time": "2023-03-05T12:30:56.152Z"
   },
   {
    "duration": 400,
    "start_time": "2023-03-05T12:30:56.162Z"
   },
   {
    "duration": 17,
    "start_time": "2023-03-05T12:30:56.563Z"
   },
   {
    "duration": 312,
    "start_time": "2023-03-05T12:30:56.582Z"
   },
   {
    "duration": 6,
    "start_time": "2023-03-05T12:30:56.896Z"
   },
   {
    "duration": 294,
    "start_time": "2023-03-05T12:30:56.903Z"
   },
   {
    "duration": 316,
    "start_time": "2023-03-05T12:30:57.198Z"
   },
   {
    "duration": 440,
    "start_time": "2023-03-05T12:30:57.520Z"
   },
   {
    "duration": 375,
    "start_time": "2023-03-05T12:30:57.962Z"
   },
   {
    "duration": 13,
    "start_time": "2023-03-05T12:30:58.339Z"
   },
   {
    "duration": 11,
    "start_time": "2023-03-05T12:30:58.354Z"
   },
   {
    "duration": 351,
    "start_time": "2023-03-05T12:30:58.367Z"
   },
   {
    "duration": 14,
    "start_time": "2023-03-05T12:30:58.721Z"
   },
   {
    "duration": 14,
    "start_time": "2023-03-05T12:30:58.737Z"
   },
   {
    "duration": 335,
    "start_time": "2023-03-05T12:30:58.754Z"
   },
   {
    "duration": 12,
    "start_time": "2023-03-05T12:30:59.091Z"
   },
   {
    "duration": 33,
    "start_time": "2023-03-05T12:30:59.105Z"
   },
   {
    "duration": 368,
    "start_time": "2023-03-05T12:30:59.140Z"
   },
   {
    "duration": 36,
    "start_time": "2023-03-05T12:30:59.510Z"
   },
   {
    "duration": 14,
    "start_time": "2023-03-05T12:30:59.548Z"
   },
   {
    "duration": 29,
    "start_time": "2023-03-05T12:30:59.565Z"
   },
   {
    "duration": 285,
    "start_time": "2023-03-05T12:30:59.596Z"
   },
   {
    "duration": 273,
    "start_time": "2023-03-05T12:30:59.882Z"
   },
   {
    "duration": 14,
    "start_time": "2023-03-05T12:31:00.157Z"
   },
   {
    "duration": 237,
    "start_time": "2023-03-05T12:31:00.173Z"
   },
   {
    "duration": 32,
    "start_time": "2023-03-05T12:31:00.412Z"
   },
   {
    "duration": 291,
    "start_time": "2023-03-05T12:31:00.446Z"
   },
   {
    "duration": 21,
    "start_time": "2023-03-05T12:31:00.739Z"
   },
   {
    "duration": 65,
    "start_time": "2023-03-05T12:31:00.762Z"
   },
   {
    "duration": 67,
    "start_time": "2023-03-05T12:31:00.829Z"
   },
   {
    "duration": 54,
    "start_time": "2023-03-05T12:31:00.898Z"
   },
   {
    "duration": 244,
    "start_time": "2023-03-05T12:31:00.954Z"
   },
   {
    "duration": 26,
    "start_time": "2023-03-05T12:31:01.199Z"
   },
   {
    "duration": 268,
    "start_time": "2023-03-05T12:31:01.227Z"
   },
   {
    "duration": 33,
    "start_time": "2023-03-05T12:31:01.497Z"
   },
   {
    "duration": 10,
    "start_time": "2023-03-05T12:31:01.532Z"
   },
   {
    "duration": 30,
    "start_time": "2023-03-05T12:31:01.543Z"
   },
   {
    "duration": 43,
    "start_time": "2023-03-05T12:31:01.575Z"
   },
   {
    "duration": 223,
    "start_time": "2023-03-05T12:31:01.620Z"
   },
   {
    "duration": 15,
    "start_time": "2023-03-05T12:31:01.845Z"
   },
   {
    "duration": 249,
    "start_time": "2023-03-05T12:31:01.862Z"
   },
   {
    "duration": 29,
    "start_time": "2023-03-05T12:31:02.113Z"
   },
   {
    "duration": 10,
    "start_time": "2023-03-05T12:31:02.143Z"
   },
   {
    "duration": 18,
    "start_time": "2023-03-05T12:31:02.155Z"
   },
   {
    "duration": 624,
    "start_time": "2023-03-05T12:31:02.174Z"
   },
   {
    "duration": 17,
    "start_time": "2023-03-05T12:31:02.800Z"
   },
   {
    "duration": 37,
    "start_time": "2023-03-05T12:31:02.819Z"
   }
  ],
  "kernelspec": {
   "display_name": "Python 3 (ipykernel)",
   "language": "python",
   "name": "python3"
  },
  "language_info": {
   "codemirror_mode": {
    "name": "ipython",
    "version": 3
   },
   "file_extension": ".py",
   "mimetype": "text/x-python",
   "name": "python",
   "nbconvert_exporter": "python",
   "pygments_lexer": "ipython3",
   "version": "3.9.5"
  },
  "toc": {
   "base_numbering": 1,
   "nav_menu": {},
   "number_sections": true,
   "sideBar": true,
   "skip_h1_title": true,
   "title_cell": "Table of Contents",
   "title_sidebar": "Contents",
   "toc_cell": false,
   "toc_position": {},
   "toc_section_display": true,
   "toc_window_display": false
  }
 },
 "nbformat": 4,
 "nbformat_minor": 1
}
